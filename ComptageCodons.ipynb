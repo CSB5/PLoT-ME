{
 "cells": [
  {
   "cell_type": "markdown",
   "metadata": {},
   "source": [
    "Lors du déclage vers le prochain codon, ajouter la valeur de la nouvelle lettre et soustraire l'ancienne"
   ]
  },
  {
   "cell_type": "code",
   "execution_count": null,
   "metadata": {},
   "outputs": [],
   "source": []
  },
  {
   "cell_type": "code",
   "execution_count": 4,
   "metadata": {
    "ExecuteTime": {
     "end_time": "2020-06-05T18:09:07.763125Z",
     "start_time": "2020-06-05T18:09:07.746690Z"
    },
    "scrolled": true
   },
   "outputs": [
    {
     "ename": "TypeError",
     "evalue": "create_target_machine() got an unexpected keyword argument 'jitdebug'",
     "output_type": "error",
     "traceback": [
      "\u001b[0;31m---------------------------------------------------------------------------\u001b[0m",
      "\u001b[0;31mTypeError\u001b[0m                                 Traceback (most recent call last)",
      "\u001b[0;32m<ipython-input-4-41f2ab2b5f0d>\u001b[0m in \u001b[0;36m<module>\u001b[0;34m\u001b[0m\n\u001b[1;32m      1\u001b[0m \u001b[0;31m# import numba\u001b[0m\u001b[0;34m\u001b[0m\u001b[0;34m\u001b[0m\u001b[0;34m\u001b[0m\u001b[0m\n\u001b[0;32m----> 2\u001b[0;31m \u001b[0;32mfrom\u001b[0m \u001b[0mnumba\u001b[0m \u001b[0;32mimport\u001b[0m \u001b[0mnjit\u001b[0m\u001b[0;34m\u001b[0m\u001b[0;34m\u001b[0m\u001b[0m\n\u001b[0m",
      "\u001b[0;32m~/.local/lib/python3.6/site-packages/numba/__init__.py\u001b[0m in \u001b[0;36m<module>\u001b[0;34m\u001b[0m\n\u001b[1;32m     43\u001b[0m \u001b[0;34m\u001b[0m\u001b[0m\n\u001b[1;32m     44\u001b[0m \u001b[0;31m# Initialize typed containers\u001b[0m\u001b[0;34m\u001b[0m\u001b[0;34m\u001b[0m\u001b[0;34m\u001b[0m\u001b[0m\n\u001b[0;32m---> 45\u001b[0;31m \u001b[0;32mimport\u001b[0m \u001b[0mnumba\u001b[0m\u001b[0;34m.\u001b[0m\u001b[0mtyped\u001b[0m\u001b[0;34m\u001b[0m\u001b[0;34m\u001b[0m\u001b[0m\n\u001b[0m\u001b[1;32m     46\u001b[0m \u001b[0;34m\u001b[0m\u001b[0m\n\u001b[1;32m     47\u001b[0m \u001b[0;31m# Keep this for backward compatibility.\u001b[0m\u001b[0;34m\u001b[0m\u001b[0;34m\u001b[0m\u001b[0;34m\u001b[0m\u001b[0m\n",
      "\u001b[0;32m~/.local/lib/python3.6/site-packages/numba/typed/__init__.py\u001b[0m in \u001b[0;36m<module>\u001b[0;34m\u001b[0m\n\u001b[1;32m      1\u001b[0m \u001b[0;32mfrom\u001b[0m \u001b[0m__future__\u001b[0m \u001b[0;32mimport\u001b[0m \u001b[0mabsolute_import\u001b[0m\u001b[0;34m\u001b[0m\u001b[0;34m\u001b[0m\u001b[0m\n\u001b[1;32m      2\u001b[0m \u001b[0;34m\u001b[0m\u001b[0m\n\u001b[0;32m----> 3\u001b[0;31m \u001b[0;32mfrom\u001b[0m \u001b[0;34m.\u001b[0m\u001b[0mtypeddict\u001b[0m \u001b[0;32mimport\u001b[0m \u001b[0mDict\u001b[0m\u001b[0;34m\u001b[0m\u001b[0;34m\u001b[0m\u001b[0m\n\u001b[0m\u001b[1;32m      4\u001b[0m \u001b[0;32mfrom\u001b[0m \u001b[0;34m.\u001b[0m\u001b[0mtypedlist\u001b[0m \u001b[0;32mimport\u001b[0m \u001b[0mList\u001b[0m\u001b[0;34m\u001b[0m\u001b[0;34m\u001b[0m\u001b[0m\n",
      "\u001b[0;32m~/.local/lib/python3.6/site-packages/numba/typed/typeddict.py\u001b[0m in \u001b[0;36m<module>\u001b[0;34m\u001b[0m\n\u001b[1;32m     16\u001b[0m \u001b[0;34m\u001b[0m\u001b[0m\n\u001b[1;32m     17\u001b[0m \u001b[0;34m\u001b[0m\u001b[0m\n\u001b[0;32m---> 18\u001b[0;31m \u001b[0;34m@\u001b[0m\u001b[0mnjit\u001b[0m\u001b[0;34m\u001b[0m\u001b[0;34m\u001b[0m\u001b[0m\n\u001b[0m\u001b[1;32m     19\u001b[0m \u001b[0;32mdef\u001b[0m \u001b[0m_make_dict\u001b[0m\u001b[0;34m(\u001b[0m\u001b[0mkeyty\u001b[0m\u001b[0;34m,\u001b[0m \u001b[0mvalty\u001b[0m\u001b[0;34m)\u001b[0m\u001b[0;34m:\u001b[0m\u001b[0;34m\u001b[0m\u001b[0;34m\u001b[0m\u001b[0m\n\u001b[1;32m     20\u001b[0m     \u001b[0;32mreturn\u001b[0m \u001b[0mdictobject\u001b[0m\u001b[0;34m.\u001b[0m\u001b[0m_as_meminfo\u001b[0m\u001b[0;34m(\u001b[0m\u001b[0mdictobject\u001b[0m\u001b[0;34m.\u001b[0m\u001b[0mnew_dict\u001b[0m\u001b[0;34m(\u001b[0m\u001b[0mkeyty\u001b[0m\u001b[0;34m,\u001b[0m \u001b[0mvalty\u001b[0m\u001b[0;34m)\u001b[0m\u001b[0;34m)\u001b[0m\u001b[0;34m\u001b[0m\u001b[0;34m\u001b[0m\u001b[0m\n",
      "\u001b[0;32m~/.local/lib/python3.6/site-packages/numba/decorators.py\u001b[0m in \u001b[0;36mnjit\u001b[0;34m(*args, **kws)\u001b[0m\n\u001b[1;32m    222\u001b[0m         \u001b[0mwarnings\u001b[0m\u001b[0;34m.\u001b[0m\u001b[0mwarn\u001b[0m\u001b[0;34m(\u001b[0m\u001b[0;34m'forceobj is set for njit and is ignored'\u001b[0m\u001b[0;34m,\u001b[0m \u001b[0mRuntimeWarning\u001b[0m\u001b[0;34m)\u001b[0m\u001b[0;34m\u001b[0m\u001b[0;34m\u001b[0m\u001b[0m\n\u001b[1;32m    223\u001b[0m     \u001b[0mkws\u001b[0m\u001b[0;34m.\u001b[0m\u001b[0mupdate\u001b[0m\u001b[0;34m(\u001b[0m\u001b[0;34m{\u001b[0m\u001b[0;34m'nopython'\u001b[0m\u001b[0;34m:\u001b[0m \u001b[0;32mTrue\u001b[0m\u001b[0;34m}\u001b[0m\u001b[0;34m)\u001b[0m\u001b[0;34m\u001b[0m\u001b[0;34m\u001b[0m\u001b[0m\n\u001b[0;32m--> 224\u001b[0;31m     \u001b[0;32mreturn\u001b[0m \u001b[0mjit\u001b[0m\u001b[0;34m(\u001b[0m\u001b[0;34m*\u001b[0m\u001b[0margs\u001b[0m\u001b[0;34m,\u001b[0m \u001b[0;34m**\u001b[0m\u001b[0mkws\u001b[0m\u001b[0;34m)\u001b[0m\u001b[0;34m\u001b[0m\u001b[0;34m\u001b[0m\u001b[0m\n\u001b[0m\u001b[1;32m    225\u001b[0m \u001b[0;34m\u001b[0m\u001b[0m\n\u001b[1;32m    226\u001b[0m \u001b[0;34m\u001b[0m\u001b[0m\n",
      "\u001b[0;32m~/.local/lib/python3.6/site-packages/numba/decorators.py\u001b[0m in \u001b[0;36mjit\u001b[0;34m(signature_or_function, locals, target, cache, pipeline_class, **options)\u001b[0m\n\u001b[1;32m    159\u001b[0m                    targetoptions=options, **dispatcher_args)\n\u001b[1;32m    160\u001b[0m     \u001b[0;32mif\u001b[0m \u001b[0mpyfunc\u001b[0m \u001b[0;32mis\u001b[0m \u001b[0;32mnot\u001b[0m \u001b[0;32mNone\u001b[0m\u001b[0;34m:\u001b[0m\u001b[0;34m\u001b[0m\u001b[0;34m\u001b[0m\u001b[0m\n\u001b[0;32m--> 161\u001b[0;31m         \u001b[0;32mreturn\u001b[0m \u001b[0mwrapper\u001b[0m\u001b[0;34m(\u001b[0m\u001b[0mpyfunc\u001b[0m\u001b[0;34m)\u001b[0m\u001b[0;34m\u001b[0m\u001b[0;34m\u001b[0m\u001b[0m\n\u001b[0m\u001b[1;32m    162\u001b[0m     \u001b[0;32melse\u001b[0m\u001b[0;34m:\u001b[0m\u001b[0;34m\u001b[0m\u001b[0;34m\u001b[0m\u001b[0m\n\u001b[1;32m    163\u001b[0m         \u001b[0;32mreturn\u001b[0m \u001b[0mwrapper\u001b[0m\u001b[0;34m\u001b[0m\u001b[0;34m\u001b[0m\u001b[0m\n",
      "\u001b[0;32m~/.local/lib/python3.6/site-packages/numba/decorators.py\u001b[0m in \u001b[0;36mwrapper\u001b[0;34m(func)\u001b[0m\n\u001b[1;32m    175\u001b[0m         disp = dispatcher(py_func=func, locals=locals,\n\u001b[1;32m    176\u001b[0m                           \u001b[0mtargetoptions\u001b[0m\u001b[0;34m=\u001b[0m\u001b[0mtargetoptions\u001b[0m\u001b[0;34m,\u001b[0m\u001b[0;34m\u001b[0m\u001b[0;34m\u001b[0m\u001b[0m\n\u001b[0;32m--> 177\u001b[0;31m                           **dispatcher_args)\n\u001b[0m\u001b[1;32m    178\u001b[0m         \u001b[0;32mif\u001b[0m \u001b[0mcache\u001b[0m\u001b[0;34m:\u001b[0m\u001b[0;34m\u001b[0m\u001b[0;34m\u001b[0m\u001b[0m\n\u001b[1;32m    179\u001b[0m             \u001b[0mdisp\u001b[0m\u001b[0;34m.\u001b[0m\u001b[0menable_caching\u001b[0m\u001b[0;34m(\u001b[0m\u001b[0;34m)\u001b[0m\u001b[0;34m\u001b[0m\u001b[0;34m\u001b[0m\u001b[0m\n",
      "\u001b[0;32m~/.local/lib/python3.6/site-packages/numba/dispatcher.py\u001b[0m in \u001b[0;36m__init__\u001b[0;34m(self, py_func, locals, targetoptions, impl_kind, pipeline_class)\u001b[0m\n\u001b[1;32m    574\u001b[0m         \"\"\"\n\u001b[1;32m    575\u001b[0m         \u001b[0mself\u001b[0m\u001b[0;34m.\u001b[0m\u001b[0mtypingctx\u001b[0m \u001b[0;34m=\u001b[0m \u001b[0mself\u001b[0m\u001b[0;34m.\u001b[0m\u001b[0mtargetdescr\u001b[0m\u001b[0;34m.\u001b[0m\u001b[0mtyping_context\u001b[0m\u001b[0;34m\u001b[0m\u001b[0;34m\u001b[0m\u001b[0m\n\u001b[0;32m--> 576\u001b[0;31m         \u001b[0mself\u001b[0m\u001b[0;34m.\u001b[0m\u001b[0mtargetctx\u001b[0m \u001b[0;34m=\u001b[0m \u001b[0mself\u001b[0m\u001b[0;34m.\u001b[0m\u001b[0mtargetdescr\u001b[0m\u001b[0;34m.\u001b[0m\u001b[0mtarget_context\u001b[0m\u001b[0;34m\u001b[0m\u001b[0;34m\u001b[0m\u001b[0m\n\u001b[0m\u001b[1;32m    577\u001b[0m \u001b[0;34m\u001b[0m\u001b[0m\n\u001b[1;32m    578\u001b[0m         \u001b[0mpysig\u001b[0m \u001b[0;34m=\u001b[0m \u001b[0mutils\u001b[0m\u001b[0;34m.\u001b[0m\u001b[0mpysignature\u001b[0m\u001b[0;34m(\u001b[0m\u001b[0mpy_func\u001b[0m\u001b[0;34m)\u001b[0m\u001b[0;34m\u001b[0m\u001b[0;34m\u001b[0m\u001b[0m\n",
      "\u001b[0;32m~/.local/lib/python3.6/site-packages/numba/targets/registry.py\u001b[0m in \u001b[0;36mtarget_context\u001b[0;34m(self)\u001b[0m\n\u001b[1;32m     48\u001b[0m             \u001b[0;32mreturn\u001b[0m \u001b[0mnested\u001b[0m\u001b[0;34m\u001b[0m\u001b[0;34m\u001b[0m\u001b[0m\n\u001b[1;32m     49\u001b[0m         \u001b[0;32melse\u001b[0m\u001b[0;34m:\u001b[0m\u001b[0;34m\u001b[0m\u001b[0;34m\u001b[0m\u001b[0m\n\u001b[0;32m---> 50\u001b[0;31m             \u001b[0;32mreturn\u001b[0m \u001b[0mself\u001b[0m\u001b[0;34m.\u001b[0m\u001b[0m_toplevel_target_context\u001b[0m\u001b[0;34m\u001b[0m\u001b[0;34m\u001b[0m\u001b[0m\n\u001b[0m\u001b[1;32m     51\u001b[0m \u001b[0;34m\u001b[0m\u001b[0m\n\u001b[1;32m     52\u001b[0m     \u001b[0;34m@\u001b[0m\u001b[0mproperty\u001b[0m\u001b[0;34m\u001b[0m\u001b[0;34m\u001b[0m\u001b[0m\n",
      "\u001b[0;32m~/.local/lib/python3.6/site-packages/numba/utils.py\u001b[0m in \u001b[0;36m__get__\u001b[0;34m(self, instance, type)\u001b[0m\n\u001b[1;32m    379\u001b[0m         \u001b[0;32mif\u001b[0m \u001b[0minstance\u001b[0m \u001b[0;32mis\u001b[0m \u001b[0;32mNone\u001b[0m\u001b[0;34m:\u001b[0m\u001b[0;34m\u001b[0m\u001b[0;34m\u001b[0m\u001b[0m\n\u001b[1;32m    380\u001b[0m             \u001b[0;32mreturn\u001b[0m \u001b[0mself\u001b[0m\u001b[0;34m\u001b[0m\u001b[0;34m\u001b[0m\u001b[0m\n\u001b[0;32m--> 381\u001b[0;31m         \u001b[0mres\u001b[0m \u001b[0;34m=\u001b[0m \u001b[0minstance\u001b[0m\u001b[0;34m.\u001b[0m\u001b[0m__dict__\u001b[0m\u001b[0;34m[\u001b[0m\u001b[0mself\u001b[0m\u001b[0;34m.\u001b[0m\u001b[0mname\u001b[0m\u001b[0;34m]\u001b[0m \u001b[0;34m=\u001b[0m \u001b[0mself\u001b[0m\u001b[0;34m.\u001b[0m\u001b[0mfunc\u001b[0m\u001b[0;34m(\u001b[0m\u001b[0minstance\u001b[0m\u001b[0;34m)\u001b[0m\u001b[0;34m\u001b[0m\u001b[0;34m\u001b[0m\u001b[0m\n\u001b[0m\u001b[1;32m    382\u001b[0m         \u001b[0;32mreturn\u001b[0m \u001b[0mres\u001b[0m\u001b[0;34m\u001b[0m\u001b[0;34m\u001b[0m\u001b[0m\n\u001b[1;32m    383\u001b[0m \u001b[0;34m\u001b[0m\u001b[0m\n",
      "\u001b[0;32m~/.local/lib/python3.6/site-packages/numba/targets/registry.py\u001b[0m in \u001b[0;36m_toplevel_target_context\u001b[0;34m(self)\u001b[0m\n\u001b[1;32m     32\u001b[0m     \u001b[0;32mdef\u001b[0m \u001b[0m_toplevel_target_context\u001b[0m\u001b[0;34m(\u001b[0m\u001b[0mself\u001b[0m\u001b[0;34m)\u001b[0m\u001b[0;34m:\u001b[0m\u001b[0;34m\u001b[0m\u001b[0;34m\u001b[0m\u001b[0m\n\u001b[1;32m     33\u001b[0m         \u001b[0;31m# Lazily-initialized top-level target context, for all threads\u001b[0m\u001b[0;34m\u001b[0m\u001b[0;34m\u001b[0m\u001b[0;34m\u001b[0m\u001b[0m\n\u001b[0;32m---> 34\u001b[0;31m         \u001b[0;32mreturn\u001b[0m \u001b[0mcpu\u001b[0m\u001b[0;34m.\u001b[0m\u001b[0mCPUContext\u001b[0m\u001b[0;34m(\u001b[0m\u001b[0mself\u001b[0m\u001b[0;34m.\u001b[0m\u001b[0mtyping_context\u001b[0m\u001b[0;34m)\u001b[0m\u001b[0;34m\u001b[0m\u001b[0;34m\u001b[0m\u001b[0m\n\u001b[0m\u001b[1;32m     35\u001b[0m \u001b[0;34m\u001b[0m\u001b[0m\n\u001b[1;32m     36\u001b[0m     \u001b[0;34m@\u001b[0m\u001b[0mutils\u001b[0m\u001b[0;34m.\u001b[0m\u001b[0mcached_property\u001b[0m\u001b[0;34m\u001b[0m\u001b[0;34m\u001b[0m\u001b[0m\n",
      "\u001b[0;32m~/.local/lib/python3.6/site-packages/numba/targets/base.py\u001b[0m in \u001b[0;36m__init__\u001b[0;34m(self, typing_context)\u001b[0m\n\u001b[1;32m    248\u001b[0m \u001b[0;34m\u001b[0m\u001b[0m\n\u001b[1;32m    249\u001b[0m         \u001b[0;31m# Initialize\u001b[0m\u001b[0;34m\u001b[0m\u001b[0;34m\u001b[0m\u001b[0;34m\u001b[0m\u001b[0m\n\u001b[0;32m--> 250\u001b[0;31m         \u001b[0mself\u001b[0m\u001b[0;34m.\u001b[0m\u001b[0minit\u001b[0m\u001b[0;34m(\u001b[0m\u001b[0;34m)\u001b[0m\u001b[0;34m\u001b[0m\u001b[0;34m\u001b[0m\u001b[0m\n\u001b[0m\u001b[1;32m    251\u001b[0m \u001b[0;34m\u001b[0m\u001b[0m\n\u001b[1;32m    252\u001b[0m     \u001b[0;32mdef\u001b[0m \u001b[0minit\u001b[0m\u001b[0;34m(\u001b[0m\u001b[0mself\u001b[0m\u001b[0;34m)\u001b[0m\u001b[0;34m:\u001b[0m\u001b[0;34m\u001b[0m\u001b[0;34m\u001b[0m\u001b[0m\n",
      "\u001b[0;32m~/.local/lib/python3.6/site-packages/numba/compiler_lock.py\u001b[0m in \u001b[0;36m_acquire_compile_lock\u001b[0;34m(*args, **kwargs)\u001b[0m\n\u001b[1;32m     30\u001b[0m         \u001b[0;32mdef\u001b[0m \u001b[0m_acquire_compile_lock\u001b[0m\u001b[0;34m(\u001b[0m\u001b[0;34m*\u001b[0m\u001b[0margs\u001b[0m\u001b[0;34m,\u001b[0m \u001b[0;34m**\u001b[0m\u001b[0mkwargs\u001b[0m\u001b[0;34m)\u001b[0m\u001b[0;34m:\u001b[0m\u001b[0;34m\u001b[0m\u001b[0;34m\u001b[0m\u001b[0m\n\u001b[1;32m     31\u001b[0m             \u001b[0;32mwith\u001b[0m \u001b[0mself\u001b[0m\u001b[0;34m:\u001b[0m\u001b[0;34m\u001b[0m\u001b[0;34m\u001b[0m\u001b[0m\n\u001b[0;32m---> 32\u001b[0;31m                 \u001b[0;32mreturn\u001b[0m \u001b[0mfunc\u001b[0m\u001b[0;34m(\u001b[0m\u001b[0;34m*\u001b[0m\u001b[0margs\u001b[0m\u001b[0;34m,\u001b[0m \u001b[0;34m**\u001b[0m\u001b[0mkwargs\u001b[0m\u001b[0;34m)\u001b[0m\u001b[0;34m\u001b[0m\u001b[0;34m\u001b[0m\u001b[0m\n\u001b[0m\u001b[1;32m     33\u001b[0m         \u001b[0;32mreturn\u001b[0m \u001b[0m_acquire_compile_lock\u001b[0m\u001b[0;34m\u001b[0m\u001b[0;34m\u001b[0m\u001b[0m\n\u001b[1;32m     34\u001b[0m \u001b[0;34m\u001b[0m\u001b[0m\n",
      "\u001b[0;32m~/.local/lib/python3.6/site-packages/numba/targets/cpu.py\u001b[0m in \u001b[0;36minit\u001b[0;34m(self)\u001b[0m\n\u001b[1;32m     47\u001b[0m     \u001b[0;32mdef\u001b[0m \u001b[0minit\u001b[0m\u001b[0;34m(\u001b[0m\u001b[0mself\u001b[0m\u001b[0;34m)\u001b[0m\u001b[0;34m:\u001b[0m\u001b[0;34m\u001b[0m\u001b[0;34m\u001b[0m\u001b[0m\n\u001b[1;32m     48\u001b[0m         \u001b[0mself\u001b[0m\u001b[0;34m.\u001b[0m\u001b[0mis32bit\u001b[0m \u001b[0;34m=\u001b[0m \u001b[0;34m(\u001b[0m\u001b[0mutils\u001b[0m\u001b[0;34m.\u001b[0m\u001b[0mMACHINE_BITS\u001b[0m \u001b[0;34m==\u001b[0m \u001b[0;36m32\u001b[0m\u001b[0;34m)\u001b[0m\u001b[0;34m\u001b[0m\u001b[0;34m\u001b[0m\u001b[0m\n\u001b[0;32m---> 49\u001b[0;31m         \u001b[0mself\u001b[0m\u001b[0;34m.\u001b[0m\u001b[0m_internal_codegen\u001b[0m \u001b[0;34m=\u001b[0m \u001b[0mcodegen\u001b[0m\u001b[0;34m.\u001b[0m\u001b[0mJITCPUCodegen\u001b[0m\u001b[0;34m(\u001b[0m\u001b[0;34m\"numba.exec\"\u001b[0m\u001b[0;34m)\u001b[0m\u001b[0;34m\u001b[0m\u001b[0;34m\u001b[0m\u001b[0m\n\u001b[0m\u001b[1;32m     50\u001b[0m \u001b[0;34m\u001b[0m\u001b[0m\n\u001b[1;32m     51\u001b[0m         \u001b[0;31m# Add ARM ABI functions from libgcc_s\u001b[0m\u001b[0;34m\u001b[0m\u001b[0;34m\u001b[0m\u001b[0;34m\u001b[0m\u001b[0m\n",
      "\u001b[0;32m~/.local/lib/python3.6/site-packages/numba/targets/codegen.py\u001b[0m in \u001b[0;36m__init__\u001b[0;34m(self, module_name)\u001b[0m\n\u001b[1;32m    610\u001b[0m         \u001b[0mself\u001b[0m\u001b[0;34m.\u001b[0m\u001b[0m_llvm_module\u001b[0m\u001b[0;34m.\u001b[0m\u001b[0mname\u001b[0m \u001b[0;34m=\u001b[0m \u001b[0;34m\"global_codegen_module\"\u001b[0m\u001b[0;34m\u001b[0m\u001b[0;34m\u001b[0m\u001b[0m\n\u001b[1;32m    611\u001b[0m         \u001b[0mself\u001b[0m\u001b[0;34m.\u001b[0m\u001b[0m_rtlinker\u001b[0m \u001b[0;34m=\u001b[0m \u001b[0mRuntimeLinker\u001b[0m\u001b[0;34m(\u001b[0m\u001b[0;34m)\u001b[0m\u001b[0;34m\u001b[0m\u001b[0;34m\u001b[0m\u001b[0m\n\u001b[0;32m--> 612\u001b[0;31m         \u001b[0mself\u001b[0m\u001b[0;34m.\u001b[0m\u001b[0m_init\u001b[0m\u001b[0;34m(\u001b[0m\u001b[0mself\u001b[0m\u001b[0;34m.\u001b[0m\u001b[0m_llvm_module\u001b[0m\u001b[0;34m)\u001b[0m\u001b[0;34m\u001b[0m\u001b[0;34m\u001b[0m\u001b[0m\n\u001b[0m\u001b[1;32m    613\u001b[0m \u001b[0;34m\u001b[0m\u001b[0m\n\u001b[1;32m    614\u001b[0m     \u001b[0;32mdef\u001b[0m \u001b[0m_init\u001b[0m\u001b[0;34m(\u001b[0m\u001b[0mself\u001b[0m\u001b[0;34m,\u001b[0m \u001b[0mllvm_module\u001b[0m\u001b[0;34m)\u001b[0m\u001b[0;34m:\u001b[0m\u001b[0;34m\u001b[0m\u001b[0;34m\u001b[0m\u001b[0m\n",
      "\u001b[0;32m~/.local/lib/python3.6/site-packages/numba/targets/codegen.py\u001b[0m in \u001b[0;36m_init\u001b[0;34m(self, llvm_module)\u001b[0m\n\u001b[1;32m    619\u001b[0m         \u001b[0mself\u001b[0m\u001b[0;34m.\u001b[0m\u001b[0m_tm_features\u001b[0m \u001b[0;34m=\u001b[0m \u001b[0mself\u001b[0m\u001b[0;34m.\u001b[0m\u001b[0m_customize_tm_features\u001b[0m\u001b[0;34m(\u001b[0m\u001b[0;34m)\u001b[0m\u001b[0;34m\u001b[0m\u001b[0;34m\u001b[0m\u001b[0m\n\u001b[1;32m    620\u001b[0m         \u001b[0mself\u001b[0m\u001b[0;34m.\u001b[0m\u001b[0m_customize_tm_options\u001b[0m\u001b[0;34m(\u001b[0m\u001b[0mtm_options\u001b[0m\u001b[0;34m)\u001b[0m\u001b[0;34m\u001b[0m\u001b[0;34m\u001b[0m\u001b[0m\n\u001b[0;32m--> 621\u001b[0;31m         \u001b[0mtm\u001b[0m \u001b[0;34m=\u001b[0m \u001b[0mtarget\u001b[0m\u001b[0;34m.\u001b[0m\u001b[0mcreate_target_machine\u001b[0m\u001b[0;34m(\u001b[0m\u001b[0;34m**\u001b[0m\u001b[0mtm_options\u001b[0m\u001b[0;34m)\u001b[0m\u001b[0;34m\u001b[0m\u001b[0;34m\u001b[0m\u001b[0m\n\u001b[0m\u001b[1;32m    622\u001b[0m         \u001b[0mengine\u001b[0m \u001b[0;34m=\u001b[0m \u001b[0mll\u001b[0m\u001b[0;34m.\u001b[0m\u001b[0mcreate_mcjit_compiler\u001b[0m\u001b[0;34m(\u001b[0m\u001b[0mllvm_module\u001b[0m\u001b[0;34m,\u001b[0m \u001b[0mtm\u001b[0m\u001b[0;34m)\u001b[0m\u001b[0;34m\u001b[0m\u001b[0;34m\u001b[0m\u001b[0m\n\u001b[1;32m    623\u001b[0m \u001b[0;34m\u001b[0m\u001b[0m\n",
      "\u001b[0;31mTypeError\u001b[0m: create_target_machine() got an unexpected keyword argument 'jitdebug'"
     ]
    }
   ],
   "source": [
    "# import numba\n",
    "from numba import njit"
   ]
  },
  {
   "cell_type": "code",
   "execution_count": 2,
   "metadata": {
    "ExecuteTime": {
     "end_time": "2020-06-05T18:08:56.614286Z",
     "start_time": "2020-06-05T18:08:56.611290Z"
    }
   },
   "outputs": [],
   "source": [
    "import numpy as np\n",
    "\n",
    "def combiRec4(n,ensemble):\n",
    "    if n==1:\n",
    "        return [elem for elem in ensemble]\n",
    "    else:\n",
    "        chaines = combiRec4(n-1,ensemble)\n",
    "        result = [chaine+elem for elem in ensemble for chaine in chaines]\n",
    "    return result"
   ]
  },
  {
   "cell_type": "code",
   "execution_count": 2,
   "metadata": {
    "ExecuteTime": {
     "end_time": "2020-06-05T07:42:10.426212Z",
     "start_time": "2020-06-05T07:42:10.423162Z"
    },
    "scrolled": false
   },
   "outputs": [
    {
     "name": "stdout",
     "output_type": "stream",
     "text": [
      "['AAA', 'CAA', 'GAA', 'TAA', 'ACA', 'CCA', 'GCA', 'TCA', 'AGA', 'CGA', 'GGA', 'TGA', 'ATA', 'CTA', 'GTA', 'TTA', 'AAC', 'CAC', 'GAC', 'TAC', 'ACC', 'CCC', 'GCC', 'TCC', 'AGC', 'CGC', 'GGC', 'TGC', 'ATC', 'CTC', 'GTC', 'TTC', 'AAG', 'CAG', 'GAG', 'TAG', 'ACG', 'CCG', 'GCG', 'TCG', 'AGG', 'CGG', 'GGG', 'TGG', 'ATG', 'CTG', 'GTG', 'TTG', 'AAT', 'CAT', 'GAT', 'TAT', 'ACT', 'CCT', 'GCT', 'TCT', 'AGT', 'CGT', 'GGT', 'TGT', 'ATT', 'CTT', 'GTT', 'TTT']\n"
     ]
    }
   ],
   "source": [
    "tableauCombi = combiRec4(3,'ACGT')\n",
    "print(tableauCombi)\n",
    "\n",
    "tabCompteur = np.zeros(len(tableauCombi))\n",
    "dico = {'A':0b00,'C':0b01,'G':0b10,'T':0b11}\n",
    "s = 'ACGTACGCGCG'"
   ]
  },
  {
   "cell_type": "raw",
   "metadata": {},
   "source": [
    "Idée de l'algo\n",
    "\n",
    "On travaille en full binaire. Chaque nucléotide a son équivalent binaire (cf. la variable \"dico\" ci-dessus)\n",
    "On remplace la chaine de 3 nucléotides par son équivalent binaire (à l'envers);\n",
    "\n",
    "Par ex, pour ACG ça donne\n",
    "G  C  A\n",
    "10 01 00\n",
    "Lorsqu'on lit la nucléotide suivante, on shift à gauche et on rajoute le nouveau nuclétoide à droite :\n",
    "- Shit à gauche :\n",
    "G  C\n",
    "10 01\n",
    "- Ajout du T à gauche :\n",
    "T  G  C\n",
    "11 10 01\n",
    "\n",
    "\n",
    "=> On peut remplir le tableau directement à partir de la valeur binaire de le chaine de 3 (ou n'imp quel nombre) nucléotides\n",
    "Avantages :\n",
    "- Opérations très simples et bas niveau (Je pourrais presque le dessiner avec des portes logiques :D)\n",
    "- On peut lire les caractères 1 par 1 et les traiter direct\n",
    "\n",
    "Inconvénients\n",
    "- Nécessite la conversion entre la lettre et le binaire (dico)\n",
    "\n",
    "A améliorer :\n",
    "- Autre langage\n",
    "- Lecture au fil de l'eau plutôt que la boucle for qui nécessite d'avoir déjà l'input en entier"
   ]
  },
  {
   "cell_type": "code",
   "execution_count": 3,
   "metadata": {
    "ExecuteTime": {
     "end_time": "2020-06-05T05:58:58.649999Z",
     "start_time": "2020-06-05T05:58:58.646811Z"
    }
   },
   "outputs": [],
   "source": [
    "#Initialisation\n",
    "value = (dico[s[0]])+(dico[s[1]]<<2)+(dico[s[2]]<<4)\n",
    "tabCompteur[value]+=1\n",
    "\n",
    "for i in range(3,len(s)):\n",
    "    value = (value>>2)+(dico[s[i]]<<4) #Shift à droite puis ajout de la lettre suivante à gauche\n",
    "    tabCompteur[value]+=1"
   ]
  },
  {
   "cell_type": "code",
   "execution_count": 4,
   "metadata": {
    "ExecuteTime": {
     "end_time": "2020-06-05T05:59:07.935845Z",
     "start_time": "2020-06-05T05:59:07.933079Z"
    },
    "scrolled": false
   },
   "outputs": [
    {
     "name": "stdout",
     "output_type": "stream",
     "text": [
      "[['AAA', 0.0], ['CAA', 0.0], ['GAA', 0.0], ['TAA', 0.0], ['ACA', 0.0], ['CCA', 0.0], ['GCA', 0.0], ['TCA', 0.0], ['AGA', 0.0], ['CGA', 0.0], ['GGA', 0.0], ['TGA', 0.0], ['ATA', 0.0], ['CTA', 0.0], ['GTA', 1.0], ['TTA', 0.0], ['AAC', 0.0], ['CAC', 0.0], ['GAC', 0.0], ['TAC', 1.0], ['ACC', 0.0], ['CCC', 0.0], ['GCC', 0.0], ['TCC', 0.0], ['AGC', 0.0], ['CGC', 2.0], ['GGC', 0.0], ['TGC', 0.0], ['ATC', 0.0], ['CTC', 0.0], ['GTC', 0.0], ['TTC', 0.0], ['AAG', 0.0], ['CAG', 0.0], ['GAG', 0.0], ['TAG', 0.0], ['ACG', 2.0], ['CCG', 0.0], ['GCG', 2.0], ['TCG', 0.0], ['AGG', 0.0], ['CGG', 0.0], ['GGG', 0.0], ['TGG', 0.0], ['ATG', 0.0], ['CTG', 0.0], ['GTG', 0.0], ['TTG', 0.0], ['AAT', 0.0], ['CAT', 0.0], ['GAT', 0.0], ['TAT', 0.0], ['ACT', 0.0], ['CCT', 0.0], ['GCT', 0.0], ['TCT', 0.0], ['AGT', 0.0], ['CGT', 1.0], ['GGT', 0.0], ['TGT', 0.0], ['ATT', 0.0], ['CTT', 0.0], ['GTT', 0.0], ['TTT', 0.0]]\n"
     ]
    }
   ],
   "source": [
    "resultat = [[tableauCombi[i],tabCompteur[i]] for i in range(len(tabCompteur))]\n",
    "print(resultat)"
   ]
  },
  {
   "cell_type": "raw",
   "metadata": {},
   "source": [
    "La suite n'est que pour mes tests débiles :D"
   ]
  },
  {
   "cell_type": "raw",
   "metadata": {
    "ExecuteTime": {
     "end_time": "2020-06-05T05:59:21.087625Z",
     "start_time": "2020-06-05T05:59:21.083804Z"
    }
   },
   "source": [
    "#Copié collé exact de ce qu'il y a au dessus\n",
    "def comptageCodons(chaine,tableauCombi):\n",
    "    tabCompteur = np.zeros(len(tableauCombi))\n",
    "    dico = {'A':0b00,'C':0b01,'G':0b10,'T':0b11}\n",
    "    \n",
    "    value = (dico[chaine[0]])+(dico[chaine[1]]<<2)+(dico[chaine[2]]<<4)\n",
    "    tabCompteur[value]+=1\n",
    "    for i in range(3,len(chaine)):\n",
    "        value = (value>>2)+(dico[chaine[i]]<<4) #Shift à droite puis ajout de la lettre suivante à gauche\n",
    "        tabCompteur[value]+=1\n",
    "    \n",
    "    return tabCompteur"
   ]
  },
  {
   "cell_type": "raw",
   "metadata": {
    "ExecuteTime": {
     "end_time": "2020-06-05T05:59:56.522510Z",
     "start_time": "2020-06-05T05:59:26.400091Z"
    }
   },
   "source": [
    "#La génération d'une chaine de nucléotides est loongue\n",
    "tableauCombi = combiRec4(3,'ACGT')\n",
    "dictio = ['A','C','G','T']\n",
    "chaine = \"\"\n",
    "chaine = chaine.join(dictio[np.random.randint(0,4)] for i in range(5000000))"
   ]
  },
  {
   "cell_type": "markdown",
   "metadata": {},
   "source": [
    "Sylvain"
   ]
  },
  {
   "cell_type": "code",
   "execution_count": 3,
   "metadata": {
    "ExecuteTime": {
     "end_time": "2020-06-05T07:42:20.637801Z",
     "start_time": "2020-06-05T07:42:20.509741Z"
    }
   },
   "outputs": [],
   "source": [
    "import traceback\n",
    "from Bio import SeqRecord, SeqIO\n",
    "from tqdm.notebook import tqdm"
   ]
  },
  {
   "cell_type": "code",
   "execution_count": 4,
   "metadata": {
    "ExecuteTime": {
     "end_time": "2020-06-05T07:42:20.843087Z",
     "start_time": "2020-06-05T07:42:20.837319Z"
    }
   },
   "outputs": [],
   "source": [
    "nucleotides = \"ACGT\"\n",
    "\n",
    "def kmers_dic(n, choice=nucleotides):\n",
    "    return {a: 0.0 for a in combinaisons(choice, n)}\n",
    "\n",
    "def combinaisons(combi, n, instances=nucleotides):\n",
    "    if n == 1:\n",
    "        return combi\n",
    "    else:\n",
    "        return [f\"{a}{n}\" for a in combinaisons(combi, n-1) for n in instances]\n",
    "\n",
    "def seq_count_kmer(seq, kmer_count=None, k=4, ignore_N=True):\n",
    "    \"\"\" Count all kmers, ignore kmers with N or other undecided nucleotides\n",
    "        seq: string nucleotide input\n",
    "        kmer_count: dict with all combinations of nucleotides, initialized with zeros (kmer_template[\"AAAA\"] = 0, kmer_count[\"AAAC\"] = 0...)\n",
    "        the new string hashing behaviour, BiopythonWarning: Using str(seq) to use the new behaviour\n",
    "    \"\"\"\n",
    "    if kmer_count is None:\n",
    "        kmer_count = kmers_dic(k)\n",
    "    wrong_base = \"N\"*k\n",
    "    kmer_count[wrong_base] = 0.0\n",
    "\n",
    "    try:\n",
    "        for kmer in seq_to_window(str(seq), k):\n",
    "            try:\n",
    "                kmer_count[kmer] += 1\n",
    "            except:\n",
    "                kmer_count[wrong_base] += 1\n",
    "\n",
    "        if ignore_N:\n",
    "            kmer_count.pop(wrong_base)\n",
    "        return kmer_count\n",
    "    except Exception as e:\n",
    "        print(\"type error: \" + str(e))\n",
    "        print(traceback.format_exc())\n",
    "        return kmer_count"
   ]
  },
  {
   "cell_type": "code",
   "execution_count": 20,
   "metadata": {
    "ExecuteTime": {
     "end_time": "2020-06-05T07:54:14.648146Z",
     "start_time": "2020-06-05T07:54:04.772342Z"
    }
   },
   "outputs": [
    {
     "name": "stdout",
     "output_type": "stream",
     "text": [
      "12.2 µs ± 89.3 ns per loop (mean ± std. dev. of 7 runs, 100000 loops each)\n"
     ]
    }
   ],
   "source": [
    "%%timeit\n",
    "trash = kmers_dic(3)"
   ]
  },
  {
   "cell_type": "code",
   "execution_count": 18,
   "metadata": {
    "ExecuteTime": {
     "end_time": "2020-06-05T07:53:49.938100Z",
     "start_time": "2020-06-05T07:53:49.935942Z"
    }
   },
   "outputs": [],
   "source": [
    "kmertest = kmers_dic(3)"
   ]
  },
  {
   "cell_type": "code",
   "execution_count": 19,
   "metadata": {
    "ExecuteTime": {
     "end_time": "2020-06-05T07:54:04.771060Z",
     "start_time": "2020-06-05T07:53:54.268734Z"
    }
   },
   "outputs": [
    {
     "name": "stdout",
     "output_type": "stream",
     "text": [
      "1.3 µs ± 9.32 ns per loop (mean ± std. dev. of 7 runs, 1000000 loops each)\n"
     ]
    }
   ],
   "source": [
    "%%timeit\n",
    "trash = kmertest.copy()"
   ]
  },
  {
   "cell_type": "code",
   "execution_count": null,
   "metadata": {},
   "outputs": [],
   "source": []
  },
  {
   "cell_type": "code",
   "execution_count": 5,
   "metadata": {
    "ExecuteTime": {
     "end_time": "2020-06-05T07:42:22.054771Z",
     "start_time": "2020-06-05T07:42:22.052172Z"
    }
   },
   "outputs": [],
   "source": [
    "def seq_to_window(seq, window_size=3):\n",
    "    \"\"\" Return a sliding window from a string \"\"\"\n",
    "    for i in range(len(seq) - window_size + 1):\n",
    "        yield seq[i:i+window_size]"
   ]
  },
  {
   "cell_type": "code",
   "execution_count": 6,
   "metadata": {
    "ExecuteTime": {
     "end_time": "2020-06-05T07:42:22.809185Z",
     "start_time": "2020-06-05T07:42:22.807391Z"
    }
   },
   "outputs": [],
   "source": [
    "path_fastq = \"/mnt/5TB/reads-fastq/PacBio/communities-silico/silico-3-euka-bac-10k-reads.fastq\""
   ]
  },
  {
   "cell_type": "markdown",
   "metadata": {},
   "source": [
    "Evaluation"
   ]
  },
  {
   "cell_type": "code",
   "execution_count": 10,
   "metadata": {
    "ExecuteTime": {
     "end_time": "2020-06-05T07:51:12.639216Z",
     "start_time": "2020-06-05T07:50:37.432880Z"
    }
   },
   "outputs": [
    {
     "data": {
      "application/vnd.jupyter.widget-view+json": {
       "model_id": "9bb0a9ee810d4e998955d0b61956f446",
       "version_major": 2,
       "version_minor": 0
      },
      "text/plain": [
       "HBox(children=(IntProgress(value=1, bar_style='info', max=1), HTML(value='')))"
      ]
     },
     "metadata": {},
     "output_type": "display_data"
    },
    {
     "name": "stdout",
     "output_type": "stream",
     "text": [
      "\n"
     ]
    }
   ],
   "source": [
    "# kmer_dict = kmers_dic(3)\n",
    "for record in tqdm(SeqIO.parse(path_fastq, \"fastq\")):\n",
    "    kmer_dict = kmers_dic(3)\n",
    "    seq_count_kmer(str(record.seq), None, 3, ignore_N=True)"
   ]
  },
  {
   "cell_type": "markdown",
   "metadata": {},
   "source": [
    "ghighi"
   ]
  },
  {
   "cell_type": "code",
   "execution_count": 12,
   "metadata": {
    "ExecuteTime": {
     "end_time": "2020-06-05T07:51:42.059198Z",
     "start_time": "2020-06-05T07:51:42.055138Z"
    }
   },
   "outputs": [],
   "source": [
    "#Copié collé exact de ce qu'il y a au dessus\n",
    "tabCompteur_vide = np.zeros(len(tableauCombi))\n",
    "dico = {'A':0b00,'C':0b01,'G':0b10,'T':0b11}\n",
    "def comptageCodons(chaine,tableauCombi):\n",
    "    tabCompteur = tabCompteur_vide.copy()\n",
    "    value = (dico[chaine[0]])+(dico[chaine[1]]<<2)+(dico[chaine[2]]<<4)\n",
    "    tabCompteur[value]+=1\n",
    "    for i in range(3,len(chaine)):\n",
    "        value = (value>>2)+(dico[chaine[i]]<<4) #Shift à droite puis ajout de la lettre suivante à gauche\n",
    "        tabCompteur[value]+=1\n",
    "    \n",
    "    return tabCompteur"
   ]
  },
  {
   "cell_type": "code",
   "execution_count": 13,
   "metadata": {
    "ExecuteTime": {
     "end_time": "2020-06-05T07:52:51.029160Z",
     "start_time": "2020-06-05T07:51:42.425017Z"
    },
    "scrolled": true
   },
   "outputs": [
    {
     "data": {
      "application/vnd.jupyter.widget-view+json": {
       "model_id": "484513700be74ca2a737f1b7b556c61f",
       "version_major": 2,
       "version_minor": 0
      },
      "text/plain": [
       "HBox(children=(IntProgress(value=1, bar_style='info', max=1), HTML(value='')))"
      ]
     },
     "metadata": {},
     "output_type": "display_data"
    },
    {
     "name": "stdout",
     "output_type": "stream",
     "text": [
      "\n"
     ]
    }
   ],
   "source": [
    "tableauCombi = combiRec4(3,'ACGT')\n",
    "for record in tqdm(SeqIO.parse(path_fastq, \"fastq\")):\n",
    "    comptageCodons(str(record.seq),tableauCombi)"
   ]
  },
  {
   "cell_type": "code",
   "execution_count": null,
   "metadata": {
    "ExecuteTime": {
     "end_time": "2020-06-05T07:42:29.632231Z",
     "start_time": "2020-06-05T07:42:29.817Z"
    }
   },
   "outputs": [],
   "source": [
    "def char_to_value(char):\n",
    "    if char is \"A\": return 0b00\n",
    "    elif char is \"C\": return 0b01\n",
    "    elif char is \"G\": return 0b10\n",
    "    else: return 0b11"
   ]
  },
  {
   "cell_type": "code",
   "execution_count": 8,
   "metadata": {
    "ExecuteTime": {
     "end_time": "2020-06-05T07:42:29.737611Z",
     "start_time": "2020-06-05T07:42:29.735336Z"
    }
   },
   "outputs": [],
   "source": [
    "def char_to_value(char):\n",
    "    # One line if ?\n",
    "    if char is \"A\": return 0b00\n",
    "    elif char is \"C\": return 0b01\n",
    "    elif char is \"G\": return 0b10\n",
    "    else: return 0b11"
   ]
  },
  {
   "cell_type": "code",
   "execution_count": null,
   "metadata": {},
   "outputs": [],
   "source": []
  },
  {
   "cell_type": "code",
   "execution_count": null,
   "metadata": {},
   "outputs": [],
   "source": [
    "dico = {'A':0b00, 'C':0b01, 'G':0b10, 'T':0b11}\n",
    "tabCompteur_vide = np.zeros(len(tableauCombi))"
   ]
  },
  {
   "cell_type": "code",
   "execution_count": null,
   "metadata": {
    "ExecuteTime": {
     "start_time": "2020-06-05T07:41:30.027Z"
    }
   },
   "outputs": [],
   "source": [
    "@njit\n",
    "def comptageCodons_dico(chaine,tableauCombi):\n",
    "    tabCompteur = tabCompteur_vide.copy()\n",
    "    value = (dico[chaine[0]])+(dico[chaine[1]]<<2)+(dico[chaine[2]]<<4)\n",
    "    for i in range(3,len(chaine)):\n",
    "        value = (value>>2)+(dico[chaine[i]]<<4) #Shift à droite puis ajout de la lettre suivante à gauche\n",
    "        tabCompteur[value]+=1\n",
    "    return tabCompteur"
   ]
  },
  {
   "cell_type": "code",
   "execution_count": null,
   "metadata": {
    "ExecuteTime": {
     "start_time": "2020-06-05T07:41:30.386Z"
    }
   },
   "outputs": [],
   "source": [
    "@njit\n",
    "def comptageCodons_ifs(chaine,tableauCombi):\n",
    "    tabCompteur = tabCompteur_vide.copy()\n",
    "    value = char_to_value(chaine[0]) + (char_to_value(chaine[1])<<2) + (char_to_value(chaine[2])<<4)\n",
    "    tabCompteur[value] += 1\n",
    "    for i in range(3,len(chaine)):\n",
    "        value = (value>>2) + (char_to_value(chaine[i])<<4) #Shift à droite puis ajout de la lettre suivante à gauche\n",
    "        tabCompteur[value]+=1\n",
    "    return tabCompteur"
   ]
  },
  {
   "cell_type": "code",
   "execution_count": null,
   "metadata": {},
   "outputs": [],
   "source": [
    "%%timeit\n",
    "comptageCodons_dico(seq)"
   ]
  },
  {
   "cell_type": "code",
   "execution_count": 67,
   "metadata": {
    "ExecuteTime": {
     "end_time": "2020-06-05T07:39:31.984036Z",
     "start_time": "2020-06-05T07:39:31.981383Z"
    }
   },
   "outputs": [],
   "source": [
    "tableauCombi = combiRec4(3,'ACGT')"
   ]
  },
  {
   "cell_type": "code",
   "execution_count": null,
   "metadata": {
    "ExecuteTime": {
     "start_time": "2020-06-05T07:41:32.635Z"
    }
   },
   "outputs": [],
   "source": [
    "comptageCodons_dico(seq, tableauCombi)"
   ]
  },
  {
   "cell_type": "code",
   "execution_count": null,
   "metadata": {
    "ExecuteTime": {
     "start_time": "2020-06-05T07:41:36.231Z"
    }
   },
   "outputs": [],
   "source": [
    "comptageCodons_ifs(seq, tableauCombi)"
   ]
  },
  {
   "cell_type": "code",
   "execution_count": 63,
   "metadata": {
    "ExecuteTime": {
     "end_time": "2020-06-05T07:37:48.494963Z",
     "start_time": "2020-06-05T07:37:38.908337Z"
    }
   },
   "outputs": [
    {
     "name": "stdout",
     "output_type": "stream",
     "text": [
      "1.18 ms ± 17.9 µs per loop (mean ± std. dev. of 7 runs, 1000 loops each)\n"
     ]
    }
   ],
   "source": [
    "%%timeit\n",
    "comptageCodons_dico(seq, tableauCombi)"
   ]
  },
  {
   "cell_type": "code",
   "execution_count": 64,
   "metadata": {
    "ExecuteTime": {
     "end_time": "2020-06-05T07:37:59.012942Z",
     "start_time": "2020-06-05T07:37:48.496220Z"
    }
   },
   "outputs": [
    {
     "name": "stdout",
     "output_type": "stream",
     "text": [
      "1.3 ms ± 27.6 µs per loop (mean ± std. dev. of 7 runs, 1000 loops each)\n"
     ]
    }
   ],
   "source": [
    "%%timeit\n",
    "comptageCodons_ifs(seq, tableauCombi)"
   ]
  },
  {
   "cell_type": "code",
   "execution_count": null,
   "metadata": {},
   "outputs": [],
   "source": []
  },
  {
   "cell_type": "code",
   "execution_count": null,
   "metadata": {},
   "outputs": [],
   "source": []
  },
  {
   "cell_type": "code",
   "execution_count": null,
   "metadata": {},
   "outputs": [],
   "source": []
  },
  {
   "cell_type": "code",
   "execution_count": null,
   "metadata": {},
   "outputs": [],
   "source": []
  },
  {
   "cell_type": "code",
   "execution_count": 35,
   "metadata": {
    "ExecuteTime": {
     "end_time": "2020-06-05T07:27:22.901241Z",
     "start_time": "2020-06-05T07:27:22.899098Z"
    }
   },
   "outputs": [],
   "source": [
    "char = \"A\""
   ]
  },
  {
   "cell_type": "code",
   "execution_count": 40,
   "metadata": {
    "ExecuteTime": {
     "end_time": "2020-06-05T07:28:08.790295Z",
     "start_time": "2020-06-05T07:28:04.985181Z"
    }
   },
   "outputs": [
    {
     "name": "stdout",
     "output_type": "stream",
     "text": [
      "45.2 ns ± 13.2 ns per loop (mean ± std. dev. of 7 runs, 10000000 loops each)\n"
     ]
    }
   ],
   "source": [
    "%%timeit\n",
    "char == \"A\""
   ]
  },
  {
   "cell_type": "code",
   "execution_count": 41,
   "metadata": {
    "ExecuteTime": {
     "end_time": "2020-06-05T07:28:15.159493Z",
     "start_time": "2020-06-05T07:28:13.337224Z"
    }
   },
   "outputs": [
    {
     "name": "stdout",
     "output_type": "stream",
     "text": [
      "22.2 ns ± 0.0761 ns per loop (mean ± std. dev. of 7 runs, 10000000 loops each)\n"
     ]
    }
   ],
   "source": [
    "%%timeit\n",
    "char is \"A\""
   ]
  },
  {
   "cell_type": "code",
   "execution_count": 42,
   "metadata": {
    "ExecuteTime": {
     "end_time": "2020-06-05T07:28:15.159493Z",
     "start_time": "2020-06-05T07:28:13.337224Z"
    }
   },
   "outputs": [
    {
     "name": "stdout",
     "output_type": "stream",
     "text": [
      "33.7 ns ± 0.219 ns per loop (mean ± std. dev. of 7 runs, 10000000 loops each)\n"
     ]
    }
   ],
   "source": [
    "%%timeit\n",
    "char == \"B\""
   ]
  },
  {
   "cell_type": "code",
   "execution_count": 43,
   "metadata": {
    "ExecuteTime": {
     "end_time": "2020-06-05T07:28:15.159493Z",
     "start_time": "2020-06-05T07:28:13.337224Z"
    }
   },
   "outputs": [
    {
     "name": "stdout",
     "output_type": "stream",
     "text": [
      "22.4 ns ± 0.0545 ns per loop (mean ± std. dev. of 7 runs, 10000000 loops each)\n"
     ]
    }
   ],
   "source": [
    "%%timeit\n",
    "char is \"B\""
   ]
  },
  {
   "cell_type": "code",
   "execution_count": null,
   "metadata": {},
   "outputs": [],
   "source": []
  },
  {
   "cell_type": "code",
   "execution_count": null,
   "metadata": {},
   "outputs": [],
   "source": []
  },
  {
   "cell_type": "code",
   "execution_count": null,
   "metadata": {},
   "outputs": [],
   "source": []
  },
  {
   "cell_type": "code",
   "execution_count": null,
   "metadata": {},
   "outputs": [],
   "source": []
  },
  {
   "cell_type": "code",
   "execution_count": 33,
   "metadata": {
    "ExecuteTime": {
     "end_time": "2020-06-05T07:24:19.038546Z",
     "start_time": "2020-06-05T07:24:19.035757Z"
    }
   },
   "outputs": [
    {
     "data": {
      "text/plain": [
       "Seq('AGCGTGACTCATCAGAACCATTGGGCGTGCGCCCGTAACAGTGAAGGTCCATGT...GTT', SingleLetterAlphabet())"
      ]
     },
     "execution_count": 33,
     "metadata": {},
     "output_type": "execute_result"
    }
   ],
   "source": [
    "record.seq"
   ]
  },
  {
   "cell_type": "code",
   "execution_count": 31,
   "metadata": {
    "ExecuteTime": {
     "end_time": "2020-06-05T07:23:55.462272Z",
     "start_time": "2020-06-05T07:23:55.460100Z"
    }
   },
   "outputs": [],
   "source": [
    "seq = str(record.seq)"
   ]
  },
  {
   "cell_type": "code",
   "execution_count": 30,
   "metadata": {
    "ExecuteTime": {
     "end_time": "2020-06-05T07:23:42.439673Z",
     "start_time": "2020-06-05T07:23:36.445594Z"
    }
   },
   "outputs": [
    {
     "name": "stdout",
     "output_type": "stream",
     "text": [
      "738 ns ± 0.928 ns per loop (mean ± std. dev. of 7 runs, 1000000 loops each)\n"
     ]
    }
   ],
   "source": [
    "%%timeit\n",
    "record.seq[3:6]"
   ]
  },
  {
   "cell_type": "code",
   "execution_count": 32,
   "metadata": {
    "ExecuteTime": {
     "end_time": "2020-06-05T07:24:03.390323Z",
     "start_time": "2020-06-05T07:23:57.719339Z"
    },
    "scrolled": true
   },
   "outputs": [
    {
     "name": "stdout",
     "output_type": "stream",
     "text": [
      "70 ns ± 0.0824 ns per loop (mean ± std. dev. of 7 runs, 10000000 loops each)\n"
     ]
    }
   ],
   "source": [
    "%%timeit\n",
    "seq[3:6]"
   ]
  },
  {
   "cell_type": "code",
   "execution_count": null,
   "metadata": {},
   "outputs": [],
   "source": []
  },
  {
   "cell_type": "code",
   "execution_count": 25,
   "metadata": {
    "ExecuteTime": {
     "end_time": "2020-06-05T07:17:46.604479Z",
     "start_time": "2020-06-05T07:17:46.492425Z"
    }
   },
   "outputs": [
    {
     "name": "stdout",
     "output_type": "stream",
     "text": [
      "-rw-rw-r-- 1 ubuntu ubuntu 219M Apr  7 12:15 /mnt/5TB/reads-fastq/PacBio/communities-silico/silico-3-euka-bac-10k-reads.fastq\r\n"
     ]
    }
   ],
   "source": [
    "!ls -alh /mnt/5TB/reads-fastq/PacBio/communities-silico/silico-3-euka-bac-10k-reads.fastq"
   ]
  },
  {
   "cell_type": "code",
   "execution_count": null,
   "metadata": {},
   "outputs": [],
   "source": []
  },
  {
   "cell_type": "code",
   "execution_count": null,
   "metadata": {},
   "outputs": [],
   "source": []
  },
  {
   "cell_type": "code",
   "execution_count": 19,
   "metadata": {
    "ExecuteTime": {
     "end_time": "2020-06-05T07:04:44.014625Z",
     "start_time": "2020-06-05T07:04:44.011928Z"
    }
   },
   "outputs": [],
   "source": [
    "test = 5"
   ]
  },
  {
   "cell_type": "code",
   "execution_count": 24,
   "metadata": {
    "ExecuteTime": {
     "end_time": "2020-06-05T07:05:12.956363Z",
     "start_time": "2020-06-05T07:05:12.953685Z"
    }
   },
   "outputs": [
    {
     "data": {
      "text/plain": [
       "1"
      ]
     },
     "execution_count": 24,
     "metadata": {},
     "output_type": "execute_result"
    }
   ],
   "source": [
    "test >> 2"
   ]
  },
  {
   "cell_type": "code",
   "execution_count": null,
   "metadata": {},
   "outputs": [],
   "source": []
  },
  {
   "cell_type": "code",
   "execution_count": null,
   "metadata": {},
   "outputs": [],
   "source": []
  },
  {
   "cell_type": "code",
   "execution_count": 9,
   "metadata": {
    "ExecuteTime": {
     "end_time": "2020-06-05T06:00:38.324970Z",
     "start_time": "2020-06-05T06:00:35.444040Z"
    }
   },
   "outputs": [
    {
     "data": {
      "text/plain": [
       "array([78124., 77497., 78000., 77954., 78308., 77923., 78392., 78224.,\n",
       "       78368., 77959., 78238., 78181., 78091., 78083., 78016., 78017.,\n",
       "       77777., 78728., 78215., 78152., 78090., 78152., 78071., 77767.,\n",
       "       78028., 78294., 78045., 78032., 78253., 77904., 78369., 77845.,\n",
       "       77666., 78427., 78069., 78360., 78120., 77806., 78010., 78109.,\n",
       "       77951., 77942., 78433., 78599., 78132., 78242., 78267., 78371.,\n",
       "       78008., 78195., 78462., 77741., 78354., 78199., 77926., 78271.,\n",
       "       78175., 77850., 78209., 78200., 77930., 78521., 77782., 78574.])"
      ]
     },
     "execution_count": 9,
     "metadata": {},
     "output_type": "execute_result"
    }
   ],
   "source": [
    "#Le comptage est plus rapide :'D\n",
    "tableauCombi = combiRec4(3,'ACGT')\n",
    "comptageCodons(chaine,tableauCombi)"
   ]
  },
  {
   "cell_type": "code",
   "execution_count": 8,
   "metadata": {
    "ExecuteTime": {
     "end_time": "2020-06-05T06:00:09.480733Z",
     "start_time": "2020-06-05T06:00:09.478117Z"
    },
    "scrolled": true
   },
   "outputs": [
    {
     "data": {
      "text/plain": [
       "'TCCGGTACACTGATATGTTACGAACATATCACGACATAGATTGCGCTTGCGGTAAGGCCCCTCTCTCGGTTCCTTAATCTCGTAGACGCATGGAAGTCTAAAGTAATCGGCTACCCCCTCCCATTTTATACGAATTTGTCAGGCCCACAGTGCCTCCGACTTATGGTTTTTGTGCTCATCTAAATCTAAGAATCTATTCG'"
      ]
     },
     "execution_count": 8,
     "metadata": {},
     "output_type": "execute_result"
    }
   ],
   "source": [
    "#L'affichage de la chaine est aussi lente haha\n",
    "chaine[:200]"
   ]
  },
  {
   "cell_type": "code",
   "execution_count": null,
   "metadata": {},
   "outputs": [],
   "source": []
  }
 ],
 "metadata": {
  "kernelspec": {
   "display_name": "Python 3",
   "language": "python",
   "name": "python3"
  },
  "language_info": {
   "codemirror_mode": {
    "name": "ipython",
    "version": 3
   },
   "file_extension": ".py",
   "mimetype": "text/x-python",
   "name": "python",
   "nbconvert_exporter": "python",
   "pygments_lexer": "ipython3",
   "version": "3.6.9"
  },
  "toc": {
   "base_numbering": 1,
   "nav_menu": {},
   "number_sections": true,
   "sideBar": true,
   "skip_h1_title": false,
   "title_cell": "Table of Contents",
   "title_sidebar": "Contents",
   "toc_cell": false,
   "toc_position": {},
   "toc_section_display": true,
   "toc_window_display": false
  }
 },
 "nbformat": 4,
 "nbformat_minor": 2
}
