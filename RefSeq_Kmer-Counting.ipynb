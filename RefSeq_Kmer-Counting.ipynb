{
 "cells": [
  {
   "cell_type": "markdown",
   "metadata": {},
   "source": [
    "# Exploring the reference database - Kmer counting\n",
    "Let's start by counting the kmers :) "
   ]
  },
  {
   "cell_type": "markdown",
   "metadata": {},
   "source": [
    "## TODO\n",
    " - count all .fna not only the first one\n",
    " - split into multiple windows\n",
    " - split into slidable windows (smaller windows ?)\n",
    " - splitin 10k"
   ]
  },
  {
   "cell_type": "markdown",
   "metadata": {},
   "source": [
    "## Structure\n",
    "In `genome/`, there's multiple sub-folder, we will start with `Bacteria`\n",
    "It then contains all recorded species/strands in individual folders\n"
   ]
  },
  {
   "cell_type": "markdown",
   "metadata": {},
   "source": [
    "## Content of each species/strand folder\n",
    "In each folder there's:\n",
    "- .ASN with \n",
    " - `taxname \"Acetobacter pasteurianus IFO 3283-32\"`\n",
    " - `db \"taxon\", tag id 634457`\n",
    " - `genus \"Acetobacter\", species \"pasteurianus\"`\n",
    " - `mod { {subtype strain, subname \"IFO 3283\" }, { subtype substrain, subname \"IFO 3283-32\" } },`\n",
    " - `lineage \"Bacteria; Proteobacteria; Alphaproteobacteria; Rhodospirillales; Acetobacteraceae; Acetobacter\",`\n",
    "- .FAA\n",
    " - with multiple \">gi|384064451|ref|YP_005479409.1| hypothetical protein APA32_44160 [Acetobacter pasteurianus IFO 3283-32]\"\n",
    " - and probably the amino-acid sequence for each of these proteins\n",
    "- .FFN\n",
    " - multiple \">gi|384064450|ref|NC_017102.1|:c562-116 Acetobacter pasteurianus IFO 3283-32 plasmid pAPA32-040, complete sequence\"\n",
    " - probably DNA sequence\n",
    "- .FNA\n",
    " - Also DNA\n",
    "- .GBK : Human readable format with most info !\n",
    " - have an identifier `/db_xref=\"taxon:634457\"`\n",
    "- .GFF with `##species http://www.ncbi.nlm.nih.gov/Taxonomy/Browser/wwwtax.cgi?id=634457`\n",
    "- .RPT\n",
    " - seem good with simple Python INI config file format: \n",
    "   - `DNA  length = 3035`\n",
    "   - `Taxname: Acetobacter pasteurianus IFO 3283-32`\n",
    "   - `Taxid: 634457`\n"
   ]
  },
  {
   "cell_type": "markdown",
   "metadata": {},
   "source": [
    "http://defindit.com/readme_files/ncbi_file_extension_format.html"
   ]
  },
  {
   "cell_type": "raw",
   "metadata": {},
   "source": [
    ".asn\tgenome record in asn.1 format\n",
    ".faa\tprotein sequences in fasta format, text file\n",
    ".ffn\tprotein coding portions of the genome segments\n",
    ".fna\tgenome fasta sequence\n",
    ".frn\trna coding portions of the genome segments\n",
    ".gbk\tgenome in genbank file format\n",
    ".gff\tgenome features\n",
    ".ptt\tprotein table\n",
    ".rnt\trna table\n",
    ".rpt\tsummary report\n",
    ".val\tbinary file (genome project?)"
   ]
  },
  {
   "cell_type": "markdown",
   "metadata": {},
   "source": [
    "What we need is the taxo id, name, and the DNA, which can be found in:\n",
    " - .gbk for the taxo and name\n",
    " - .fna for the sequence"
   ]
  },
  {
   "cell_type": "markdown",
   "metadata": {},
   "source": [
    "#### File marker\n",
    "https://www.ncbi.nlm.nih.gov/books/NBK21091/table/ch18.T.refseq_accession_numbers_and_mole/?report=objectonly <br>\n",
    "`NC_\tGenomic\tComplete genomic molecule, usually reference assembly`\n",
    "\n",
    "#### Status\n",
    "https://www.ncbi.nlm.nih.gov/books/NBK21091/table/ch18.T.refseq_status_codes/?report=objectonly <br>\n",
    "in `COMMENT` : VALIDATED > REVIEWED > PROVISIONAL > ...\n"
   ]
  },
  {
   "cell_type": "markdown",
   "metadata": {},
   "source": [
    "## Coding\n",
    "### Import and Paths"
   ]
  },
  {
   "cell_type": "code",
   "execution_count": 2,
   "metadata": {},
   "outputs": [],
   "source": [
    "import os\n",
    "import pandas as pd\n",
    "import configparser\n",
    "import pickle\n",
    "import traceback\n",
    "from joblib import Parallel, delayed\n",
    "from multiprocessing import cpu_count\n",
    "from Bio import SeqIO\n",
    "from time import time\n",
    "from tqdm import tqdm_notebook as tqdm\n",
    "import re"
   ]
  },
  {
   "cell_type": "code",
   "execution_count": 3,
   "metadata": {},
   "outputs": [],
   "source": [
    "path_ref_db = \"/home/ubuntu/Data/NCBI/20190704/refseq/\"\n",
    "path_kmer_freq = \"/home/ubuntu/Data/kmer_freq/\""
   ]
  },
  {
   "cell_type": "code",
   "execution_count": 4,
   "metadata": {},
   "outputs": [],
   "source": [
    "folder_kmers = \"4mer/V4\"   # Supposed to have 5242 files at the end"
   ]
  },
  {
   "cell_type": "code",
   "execution_count": 5,
   "metadata": {},
   "outputs": [],
   "source": [
    "n_cores = cpu_count()"
   ]
  },
  {
   "cell_type": "markdown",
   "metadata": {},
   "source": [
    "## Functions"
   ]
  },
  {
   "cell_type": "markdown",
   "metadata": {},
   "source": [
    "Counting kmer frequencies"
   ]
  },
  {
   "cell_type": "code",
   "execution_count": 6,
   "metadata": {},
   "outputs": [],
   "source": [
    "nucleotides = \"ACGT\""
   ]
  },
  {
   "cell_type": "code",
   "execution_count": 7,
   "metadata": {},
   "outputs": [],
   "source": [
    "def read_fna(file_path):\n",
    "    with open(file_path) as f:\n",
    "        rec = f.readlines()\n",
    "        return \"\".join(rec[1:]).replace(\"\\n\", \"\")"
   ]
  },
  {
   "cell_type": "code",
   "execution_count": 8,
   "metadata": {},
   "outputs": [],
   "source": [
    "def combinaisons(combi, n, instances=nucleotides):\n",
    "    if n == 1:\n",
    "        return combi\n",
    "    else:\n",
    "        return [f\"{a}{n}\" for a in combinaisons(combi, n-1) for n in instances]"
   ]
  },
  {
   "cell_type": "code",
   "execution_count": 9,
   "metadata": {},
   "outputs": [],
   "source": [
    "def kmers_dic(n, choice=nucleotides):\n",
    "    return {a:0 for a in combinaisons(choice, n)}"
   ]
  },
  {
   "cell_type": "code",
   "execution_count": 10,
   "metadata": {},
   "outputs": [],
   "source": [
    "col_kmer = set(kmers_dic(4))"
   ]
  },
  {
   "cell_type": "code",
   "execution_count": 11,
   "metadata": {},
   "outputs": [],
   "source": [
    "def count_kmers(seq, kmer_template, n, bacteria_name, fna, w=100):\n",
    "    \"\"\" Count all kmers, ignore kmers with N or other undecided nucleotides \n",
    "        Return a list of dict for each window (w=100)\n",
    "    \"\"\"\n",
    "    res = []\n",
    "    current_split = 0\n",
    "    next_split = current_split + w\n",
    "    tmp_counts = kmer_template.copy()\n",
    "    tmp_counts[\"start\"] = current_split\n",
    "    \n",
    "    try:\n",
    "        for i, kmer in enumerate(window(seq, n)):\n",
    "            try:\n",
    "                tmp_counts[kmer] += 1\n",
    "            except:\n",
    "                pass\n",
    "            # To lower the computational need to split into windows\n",
    "            if i == next_split:\n",
    "                res.append(tmp_counts)\n",
    "                current_split = next_split\n",
    "                next_split += w\n",
    "                tmp_counts = kmer_template.copy()\n",
    "                tmp_counts[\"start\"] = current_split\n",
    "                \n",
    "        return i+1, res\n",
    "    except Exception as e:\n",
    "        print(\"type error: \" + str(e))\n",
    "        print(traceback.format_exc())\n",
    "        return i, res"
   ]
  },
  {
   "cell_type": "code",
   "execution_count": 12,
   "metadata": {},
   "outputs": [],
   "source": [
    "def window(fseq, window_size=4):\n",
    "    for i in range(len(fseq) - window_size + 1):\n",
    "        yield fseq[i:i+window_size]"
   ]
  },
  {
   "cell_type": "markdown",
   "metadata": {},
   "source": [
    "!! Need to add if it's the genome itself or a plasmid !!"
   ]
  },
  {
   "cell_type": "code",
   "execution_count": 13,
   "metadata": {},
   "outputs": [],
   "source": [
    "p = \"/home/ubuntu/Data/NCBI/20190704/refseq/bacteria/GCF_002334625.1/GCF_002334625.1_ASM233462v1_genomic.gff\""
   ]
  },
  {
   "cell_type": "code",
   "execution_count": 14,
   "metadata": {},
   "outputs": [],
   "source": [
    "with open(p) as f:\n",
    "    head = [next(f) for i in range(9)][-1]"
   ]
  },
  {
   "cell_type": "code",
   "execution_count": 15,
   "metadata": {},
   "outputs": [],
   "source": [
    "description = head[-1]\n",
    "identificator = 'Taxonomy/Browser/wwwtax.cgi?id='\n",
    "taxo_start = description.find(identificator)\n",
    "taxo = description[taxo_start+len(identificator):\n",
    "                   taxo_start+description[taxo_start:].find('\\n')]"
   ]
  },
  {
   "cell_type": "code",
   "execution_count": 16,
   "metadata": {},
   "outputs": [
    {
     "data": {
      "text/plain": [
       "''"
      ]
     },
     "execution_count": 16,
     "metadata": {},
     "output_type": "execute_result"
    }
   ],
   "source": [
    "taxo"
   ]
  },
  {
   "cell_type": "code",
   "execution_count": null,
   "metadata": {},
   "outputs": [],
   "source": []
  },
  {
   "cell_type": "code",
   "execution_count": null,
   "metadata": {},
   "outputs": [],
   "source": []
  },
  {
   "cell_type": "code",
   "execution_count": 24,
   "metadata": {},
   "outputs": [],
   "source": [
    "def kmer_pkl_path(kmer_folder, fna_path, taxo_ext=\"gff\"):\n",
    "    \"\"\" Return a file name based on the taxonomy id instead of the file name.\n",
    "        We retrieve the taxo id from the .gff file.\n",
    "        To avoid re-reading file, taxo id is stored into <bac>.taxon\n",
    "    \"\"\"\n",
    "    assert taxo_ext in (\"gbk\", \"gff\"), \"Only extensions .gbk and .gff are implemented\"\n",
    "    \n",
    "#     bacteria_name = os.path.split(os.path.split(fna_path)[0])[1]\n",
    "    fna_name      = os.path.split(os.path.splitext(fna_path)[0])[1]\n",
    "    \n",
    "    taxo = \"\"\n",
    "    path_taxon = fna_path.replace(\".fna\", \".taxon\")\n",
    "    if os.path.isfile(path_taxon):\n",
    "        with open(path_taxon) as f:\n",
    "            taxo = f.read()\n",
    "    \n",
    "    if not str.isdigit(taxo):\n",
    "        path_gbk = fna_path.replace(\".fna\", f\".{taxo_ext}\")\n",
    "        assert os.path.isfile(path_gbk), f\"{fna_path} DOESN'T have a .{taxo_ext} file ??\"\n",
    "\n",
    "        with open(path_gbk) as gbk:\n",
    "            description = [next(gbk) for i in range(9)][-1]\n",
    "\n",
    "        if taxo_ext == \"gbk\":\n",
    "            identificator = 'db_xref=\"taxon:'\n",
    "        elif taxo_ext == \"gff\":\n",
    "            identificator = 'Taxonomy/Browser/wwwtax.cgi?id='\n",
    "        taxo_start = description.find(identificator)\n",
    "        taxo = description[taxo_start+len(identificator):\n",
    "                           taxo_start+description[taxo_start:].find('\\n')]\n",
    "            \n",
    "        assert 1 <= len(taxo) <= 8, f\"The taxo id search failed, found an id of length {len(taxo)}, \\n\" \\\n",
    "                               f\"for the file: {path_gbk} \\n\" \\\n",
    "                               f\"found string : {taxo[:min(50, len(taxo))]} ...\"\n",
    "        \n",
    "        with open(path_taxon, \"w\") as f:\n",
    "            f.write(taxo)\n",
    "    \n",
    "    query = taxo_table[(taxo_table.taxo == int(taxo)) & (taxo_table.class_name == \"scientific name\")]\n",
    "    assert query.shape[0] == 1, f\"Found {query.shape[0]} matches for the scientific name of taxo {taxo}. Display the taxo table: \\n\" \\\n",
    "                                f\"{taxo_table[taxo_table.taxo == int(taxo)]}\"\n",
    "    bacteria_name = query.name.iat[0]\n",
    "    \n",
    "    formatted_bacteria = re.sub('[^A-Za-z0-9]+', '_', bacteria_name)\n",
    "    out_path = os.path.join(path_kmer_freq, kmer_folder, f\"{taxo}__{fna_name}__{formatted_bacteria}.pd\")\n",
    "    return taxo, bacteria_name, fna_name, out_path"
   ]
  },
  {
   "cell_type": "code",
   "execution_count": 18,
   "metadata": {},
   "outputs": [],
   "source": [
    "# TODO: test if working !! added the genome/plasmid differentiator\n",
    "def to_pandas(bac_kmers, bac):\n",
    "    df = pd.DataFrame(bac_kmers)\n",
    "    # put the file, fna and start at the beginning\n",
    "    df_cols = df.columns.to_list()\n",
    "    df = df.reindex(columns=df_cols[-4:] + df_cols[:-4])   # put the 4 non nucleotide col in the front bacteria, fna, len_genome, start\n",
    "    # add label if genome or plasmid (longest genome size)\n",
    "    genome_length = df[df.bacteria == bac].len_genome.unique().max()\n",
    "    df[\"genome_plasmid\"] = \"NaN\"\n",
    "    df.loc[(df.bacteria == bac) & (df.len_genome == genome_length), \n",
    "               \"genome_plasmid\"] = \"genome\"\n",
    "    df.loc[(df.bacteria == bac) & (df.len_genome != genome_length), \n",
    "               \"genome_plasmid\"] = \"plasmid\"\n",
    "    # Try to reduce size of these files\n",
    "    df.bacteria = df.bacteria.astype(\"category\")\n",
    "    df.fna = df.fna.astype(\"category\")\n",
    "    for col in col_kmer:\n",
    "        df[col] = df[col].astype(\"uint16\")\n",
    "    return df"
   ]
  },
  {
   "cell_type": "markdown",
   "metadata": {},
   "source": [
    "## Check taxonomy table (from Kraken)"
   ]
  },
  {
   "cell_type": "code",
   "execution_count": 19,
   "metadata": {
    "deletable": false,
    "editable": false,
    "run_control": {
     "frozen": true
    }
   },
   "outputs": [],
   "source": [
    "path_taxo_names = \"/home/ubuntu/Disks/SSD500/Segmentation/Kraken_10_clusters_V1/Kraken2_building/taxonomy/names.dmp\""
   ]
  },
  {
   "cell_type": "code",
   "execution_count": 21,
   "metadata": {
    "deletable": false,
    "editable": false,
    "run_control": {
     "frozen": true
    }
   },
   "outputs": [
    {
     "name": "stderr",
     "output_type": "stream",
     "text": [
      "/home/ubuntu/.pyenv/versions/3.7.3/envs/py373/lib/python3.7/site-packages/ipykernel_launcher.py:1: ParserWarning: Falling back to the 'python' engine because the 'c' engine does not support regex separators (separators > 1 char and different from '\\s+' are interpreted as regex); you can avoid this warning by specifying engine='python'.\n",
      "  \"\"\"Entry point for launching an IPython kernel.\n"
     ]
    }
   ],
   "source": [
    "taxo_table = pd.read_csv(path_taxo_names, sep=\"\\t|\\t\")"
   ]
  },
  {
   "cell_type": "code",
   "execution_count": 22,
   "metadata": {
    "deletable": false,
    "editable": false,
    "run_control": {
     "frozen": true
    }
   },
   "outputs": [
    {
     "data": {
      "text/html": [
       "<div>\n",
       "<style scoped>\n",
       "    .dataframe tbody tr th:only-of-type {\n",
       "        vertical-align: middle;\n",
       "    }\n",
       "\n",
       "    .dataframe tbody tr th {\n",
       "        vertical-align: top;\n",
       "    }\n",
       "\n",
       "    .dataframe thead th {\n",
       "        text-align: right;\n",
       "    }\n",
       "</style>\n",
       "<table border=\"1\" class=\"dataframe\">\n",
       "  <thead>\n",
       "    <tr style=\"text-align: right;\">\n",
       "      <th></th>\n",
       "      <th>1</th>\n",
       "      <th>|</th>\n",
       "      <th>all</th>\n",
       "      <th>|.1</th>\n",
       "      <th>Unnamed: 4</th>\n",
       "      <th>|.2</th>\n",
       "      <th>synonym</th>\n",
       "      <th>|.3</th>\n",
       "    </tr>\n",
       "  </thead>\n",
       "  <tbody>\n",
       "    <tr>\n",
       "      <th>0</th>\n",
       "      <td>1</td>\n",
       "      <td>|</td>\n",
       "      <td>root</td>\n",
       "      <td>|</td>\n",
       "      <td>NaN</td>\n",
       "      <td>|</td>\n",
       "      <td>scientific name</td>\n",
       "      <td>|</td>\n",
       "    </tr>\n",
       "    <tr>\n",
       "      <th>1</th>\n",
       "      <td>2</td>\n",
       "      <td>|</td>\n",
       "      <td>Bacteria</td>\n",
       "      <td>|</td>\n",
       "      <td>Bacteria &lt;prokaryotes&gt;</td>\n",
       "      <td>|</td>\n",
       "      <td>scientific name</td>\n",
       "      <td>|</td>\n",
       "    </tr>\n",
       "    <tr>\n",
       "      <th>2</th>\n",
       "      <td>2</td>\n",
       "      <td>|</td>\n",
       "      <td>Monera</td>\n",
       "      <td>|</td>\n",
       "      <td>Monera &lt;Bacteria&gt;</td>\n",
       "      <td>|</td>\n",
       "      <td>in-part</td>\n",
       "      <td>|</td>\n",
       "    </tr>\n",
       "    <tr>\n",
       "      <th>3</th>\n",
       "      <td>2</td>\n",
       "      <td>|</td>\n",
       "      <td>Procaryotae</td>\n",
       "      <td>|</td>\n",
       "      <td>Procaryotae &lt;Bacteria&gt;</td>\n",
       "      <td>|</td>\n",
       "      <td>in-part</td>\n",
       "      <td>|</td>\n",
       "    </tr>\n",
       "    <tr>\n",
       "      <th>4</th>\n",
       "      <td>2</td>\n",
       "      <td>|</td>\n",
       "      <td>Prokaryota</td>\n",
       "      <td>|</td>\n",
       "      <td>Prokaryota &lt;Bacteria&gt;</td>\n",
       "      <td>|</td>\n",
       "      <td>in-part</td>\n",
       "      <td>|</td>\n",
       "    </tr>\n",
       "  </tbody>\n",
       "</table>\n",
       "</div>"
      ],
      "text/plain": [
       "   1  |          all |.1              Unnamed: 4 |.2          synonym |.3\n",
       "0  1  |         root   |                     NaN   |  scientific name   |\n",
       "1  2  |     Bacteria   |  Bacteria <prokaryotes>   |  scientific name   |\n",
       "2  2  |       Monera   |       Monera <Bacteria>   |          in-part   |\n",
       "3  2  |  Procaryotae   |  Procaryotae <Bacteria>   |          in-part   |\n",
       "4  2  |   Prokaryota   |   Prokaryota <Bacteria>   |          in-part   |"
      ]
     },
     "execution_count": 22,
     "metadata": {},
     "output_type": "execute_result"
    }
   ],
   "source": [
    "taxo_table.head()"
   ]
  },
  {
   "cell_type": "code",
   "execution_count": 26,
   "metadata": {
    "deletable": false,
    "editable": false,
    "run_control": {
     "frozen": true
    }
   },
   "outputs": [],
   "source": [
    "taxo_table.drop([\"|\", \"|.1\", \"|.2\", \"|.3\"], inplace=True, axis=1)"
   ]
  },
  {
   "cell_type": "code",
   "execution_count": 28,
   "metadata": {
    "deletable": false,
    "editable": false,
    "run_control": {
     "frozen": true
    }
   },
   "outputs": [],
   "source": [
    "taxo_table.rename(columns={'1': 'taxo', 'all': 'name', 'Unnamed: 4': 'unique_name', 'synonym': 'class_name'}, inplace=True)"
   ]
  },
  {
   "cell_type": "code",
   "execution_count": 31,
   "metadata": {
    "deletable": false,
    "editable": false,
    "run_control": {
     "frozen": true
    }
   },
   "outputs": [
    {
     "data": {
      "text/html": [
       "<div>\n",
       "<style scoped>\n",
       "    .dataframe tbody tr th:only-of-type {\n",
       "        vertical-align: middle;\n",
       "    }\n",
       "\n",
       "    .dataframe tbody tr th {\n",
       "        vertical-align: top;\n",
       "    }\n",
       "\n",
       "    .dataframe thead th {\n",
       "        text-align: right;\n",
       "    }\n",
       "</style>\n",
       "<table border=\"1\" class=\"dataframe\">\n",
       "  <thead>\n",
       "    <tr style=\"text-align: right;\">\n",
       "      <th></th>\n",
       "      <th>taxo</th>\n",
       "      <th>name</th>\n",
       "      <th>unique_name</th>\n",
       "      <th>class_name</th>\n",
       "    </tr>\n",
       "  </thead>\n",
       "  <tbody>\n",
       "    <tr>\n",
       "      <th>862977</th>\n",
       "      <td>562494</td>\n",
       "      <td>Ribautiana</td>\n",
       "      <td>NaN</td>\n",
       "      <td>scientific name</td>\n",
       "    </tr>\n",
       "    <tr>\n",
       "      <th>1896551</th>\n",
       "      <td>1526535</td>\n",
       "      <td>Ceratobasidium sp. Rh 80</td>\n",
       "      <td>NaN</td>\n",
       "      <td>scientific name</td>\n",
       "    </tr>\n",
       "    <tr>\n",
       "      <th>2740817</th>\n",
       "      <td>2304353</td>\n",
       "      <td>Aloe capitata var. cipolinicola H.Perrier, 1926</td>\n",
       "      <td>NaN</td>\n",
       "      <td>authority</td>\n",
       "    </tr>\n",
       "    <tr>\n",
       "      <th>2715526</th>\n",
       "      <td>2280178</td>\n",
       "      <td>Megaselia sp. BIOUG27050-H04</td>\n",
       "      <td>NaN</td>\n",
       "      <td>scientific name</td>\n",
       "    </tr>\n",
       "    <tr>\n",
       "      <th>1594516</th>\n",
       "      <td>1273922</td>\n",
       "      <td>Pseudomonas sp. 110623_PC_C1_B7</td>\n",
       "      <td>NaN</td>\n",
       "      <td>scientific name</td>\n",
       "    </tr>\n",
       "  </tbody>\n",
       "</table>\n",
       "</div>"
      ],
      "text/plain": [
       "            taxo                                             name unique_name  \\\n",
       "862977    562494                                       Ribautiana         NaN   \n",
       "1896551  1526535                         Ceratobasidium sp. Rh 80         NaN   \n",
       "2740817  2304353  Aloe capitata var. cipolinicola H.Perrier, 1926         NaN   \n",
       "2715526  2280178                     Megaselia sp. BIOUG27050-H04         NaN   \n",
       "1594516  1273922                  Pseudomonas sp. 110623_PC_C1_B7         NaN   \n",
       "\n",
       "              class_name  \n",
       "862977   scientific name  \n",
       "1896551  scientific name  \n",
       "2740817        authority  \n",
       "2715526  scientific name  \n",
       "1594516  scientific name  "
      ]
     },
     "execution_count": 31,
     "metadata": {},
     "output_type": "execute_result"
    }
   ],
   "source": [
    "taxo_table.sample(5)"
   ]
  },
  {
   "cell_type": "code",
   "execution_count": 35,
   "metadata": {
    "deletable": false,
    "editable": false,
    "run_control": {
     "frozen": true
    }
   },
   "outputs": [],
   "source": [
    "taxo_table.to_pickle(\"/home/ubuntu/Disks/SSD500/NCBI/taxo_names.pd\")"
   ]
  },
  {
   "cell_type": "markdown",
   "metadata": {},
   "source": [
    "Wanted to add the missing taxon, but they id doesn't match with existing species in the NCBI database... <br>\n",
    "1049581 <br>\n",
    "1819728 <br>\n",
    "1743172 <br>"
   ]
  },
  {
   "cell_type": "code",
   "execution_count": null,
   "metadata": {
    "deletable": false,
    "editable": false,
    "run_control": {
     "frozen": true
    }
   },
   "outputs": [],
   "source": [
    "rows_to_add = {\n",
    "    \"taxo\": [1049581, 1819728, 1743172],\n",
    "    \"name\": [\"Bacillus altitudinis\", \"Polynucleobacter paneuropaeus\", \"\"],\n",
    "    \"unique_name\": [None, None, None],\n",
    "    \"class_name\": [\"scientific name\", \"scientific name\", \"scientific name\", ],\n",
    "}"
   ]
  },
  {
   "cell_type": "code",
   "execution_count": null,
   "metadata": {
    "deletable": false,
    "editable": false,
    "run_control": {
     "frozen": true
    }
   },
   "outputs": [],
   "source": [
    "taxo_table.append(pd.DataFrame(rows_to_add), ignore_index=True).tail(5)"
   ]
  },
  {
   "cell_type": "code",
   "execution_count": 22,
   "metadata": {
    "collapsed": true,
    "deletable": false,
    "editable": false,
    "run_control": {
     "frozen": true
    }
   },
   "outputs": [
    {
     "data": {
      "text/html": [
       "<div>\n",
       "<style scoped>\n",
       "    .dataframe tbody tr th:only-of-type {\n",
       "        vertical-align: middle;\n",
       "    }\n",
       "\n",
       "    .dataframe tbody tr th {\n",
       "        vertical-align: top;\n",
       "    }\n",
       "\n",
       "    .dataframe thead th {\n",
       "        text-align: right;\n",
       "    }\n",
       "</style>\n",
       "<table border=\"1\" class=\"dataframe\">\n",
       "  <thead>\n",
       "    <tr style=\"text-align: right;\">\n",
       "      <th></th>\n",
       "      <th>taxo</th>\n",
       "      <th>name</th>\n",
       "      <th>unique_name</th>\n",
       "      <th>class_name</th>\n",
       "    </tr>\n",
       "  </thead>\n",
       "  <tbody>\n",
       "    <tr>\n",
       "      <th>3007869</th>\n",
       "      <td>2592274</td>\n",
       "      <td>Mespilodaphne Nees &amp; Mart. ex Nees, 1833</td>\n",
       "      <td>NaN</td>\n",
       "      <td>authority</td>\n",
       "    </tr>\n",
       "    <tr>\n",
       "      <th>3007870</th>\n",
       "      <td>2592283</td>\n",
       "      <td>Mespilodaphne cymbarum</td>\n",
       "      <td>NaN</td>\n",
       "      <td>scientific name</td>\n",
       "    </tr>\n",
       "    <tr>\n",
       "      <th>3007871</th>\n",
       "      <td>2592283</td>\n",
       "      <td>Mespilodaphne cymbarum (Kunth) Trofimov, 2019</td>\n",
       "      <td>NaN</td>\n",
       "      <td>authority</td>\n",
       "    </tr>\n",
       "    <tr>\n",
       "      <th>3007872</th>\n",
       "      <td>2592283</td>\n",
       "      <td>Ocotea cymbarum</td>\n",
       "      <td>NaN</td>\n",
       "      <td>synonym</td>\n",
       "    </tr>\n",
       "    <tr>\n",
       "      <th>3007873</th>\n",
       "      <td>2592283</td>\n",
       "      <td>Ocotea cymbarum Kunth, 1816</td>\n",
       "      <td>NaN</td>\n",
       "      <td>authority</td>\n",
       "    </tr>\n",
       "  </tbody>\n",
       "</table>\n",
       "</div>"
      ],
      "text/plain": [
       "            taxo                                           name unique_name  \\\n",
       "3007869  2592274       Mespilodaphne Nees & Mart. ex Nees, 1833         NaN   \n",
       "3007870  2592283                         Mespilodaphne cymbarum         NaN   \n",
       "3007871  2592283  Mespilodaphne cymbarum (Kunth) Trofimov, 2019         NaN   \n",
       "3007872  2592283                                Ocotea cymbarum         NaN   \n",
       "3007873  2592283                    Ocotea cymbarum Kunth, 1816         NaN   \n",
       "\n",
       "              class_name  \n",
       "3007869        authority  \n",
       "3007870  scientific name  \n",
       "3007871        authority  \n",
       "3007872          synonym  \n",
       "3007873        authority  "
      ]
     },
     "execution_count": 22,
     "metadata": {},
     "output_type": "execute_result"
    }
   ],
   "source": [
    "taxo_table.tail(5)"
   ]
  },
  {
   "cell_type": "code",
   "execution_count": 23,
   "metadata": {
    "collapsed": true,
    "deletable": false,
    "editable": false,
    "run_control": {
     "frozen": true
    }
   },
   "outputs": [
    {
     "data": {
      "text/html": [
       "<div>\n",
       "<style scoped>\n",
       "    .dataframe tbody tr th:only-of-type {\n",
       "        vertical-align: middle;\n",
       "    }\n",
       "\n",
       "    .dataframe tbody tr th {\n",
       "        vertical-align: top;\n",
       "    }\n",
       "\n",
       "    .dataframe thead th {\n",
       "        text-align: right;\n",
       "    }\n",
       "</style>\n",
       "<table border=\"1\" class=\"dataframe\">\n",
       "  <thead>\n",
       "    <tr style=\"text-align: right;\">\n",
       "      <th></th>\n",
       "      <th>taxo</th>\n",
       "      <th>name</th>\n",
       "      <th>unique_name</th>\n",
       "      <th>class_name</th>\n",
       "    </tr>\n",
       "  </thead>\n",
       "  <tbody>\n",
       "    <tr>\n",
       "      <th>2954307</th>\n",
       "      <td>2527775</td>\n",
       "      <td>CIP 111323</td>\n",
       "      <td>CIP 111323 &lt;type strain&gt;</td>\n",
       "      <td>type material</td>\n",
       "    </tr>\n",
       "    <tr>\n",
       "      <th>2954308</th>\n",
       "      <td>2527775</td>\n",
       "      <td>DSM 103454</td>\n",
       "      <td>DSM 103454 &lt;type strain&gt;</td>\n",
       "      <td>type material</td>\n",
       "    </tr>\n",
       "    <tr>\n",
       "      <th>2954309</th>\n",
       "      <td>2527775</td>\n",
       "      <td>Polynucleobacter paneuropaeus</td>\n",
       "      <td>NaN</td>\n",
       "      <td>scientific name</td>\n",
       "    </tr>\n",
       "    <tr>\n",
       "      <th>2954310</th>\n",
       "      <td>2527775</td>\n",
       "      <td>Polynucleobacter paneuropaeus Hoetzinger et al...</td>\n",
       "      <td>NaN</td>\n",
       "      <td>authority</td>\n",
       "    </tr>\n",
       "    <tr>\n",
       "      <th>2954311</th>\n",
       "      <td>2527775</td>\n",
       "      <td>Polynucleobacter sp. FUKU-NW-11</td>\n",
       "      <td>NaN</td>\n",
       "      <td>includes</td>\n",
       "    </tr>\n",
       "    <tr>\n",
       "      <th>2954312</th>\n",
       "      <td>2527775</td>\n",
       "      <td>Polynucleobacter sp. MG-25-Pas1-D2</td>\n",
       "      <td>NaN</td>\n",
       "      <td>includes</td>\n",
       "    </tr>\n",
       "    <tr>\n",
       "      <th>2954313</th>\n",
       "      <td>2527775</td>\n",
       "      <td>Polynucleobacter sp. MWH-CNW20-3</td>\n",
       "      <td>NaN</td>\n",
       "      <td>includes</td>\n",
       "    </tr>\n",
       "    <tr>\n",
       "      <th>2954314</th>\n",
       "      <td>2527775</td>\n",
       "      <td>Polynucleobacter sp. MWH-Creno-4B4</td>\n",
       "      <td>NaN</td>\n",
       "      <td>includes</td>\n",
       "    </tr>\n",
       "    <tr>\n",
       "      <th>2954315</th>\n",
       "      <td>2527775</td>\n",
       "      <td>Polynucleobacter sp. MWH-UK1W16</td>\n",
       "      <td>NaN</td>\n",
       "      <td>includes</td>\n",
       "    </tr>\n",
       "    <tr>\n",
       "      <th>2954316</th>\n",
       "      <td>2527775</td>\n",
       "      <td>Polynucleobacter sp. UB-Kaiv-W7</td>\n",
       "      <td>NaN</td>\n",
       "      <td>includes</td>\n",
       "    </tr>\n",
       "    <tr>\n",
       "      <th>2954317</th>\n",
       "      <td>2527775</td>\n",
       "      <td>strain MG-25-Pas1-D2</td>\n",
       "      <td>strain MG-25-Pas1-D2 &lt;type strain&gt;</td>\n",
       "      <td>type material</td>\n",
       "    </tr>\n",
       "  </tbody>\n",
       "</table>\n",
       "</div>"
      ],
      "text/plain": [
       "            taxo                                               name  \\\n",
       "2954307  2527775                                         CIP 111323   \n",
       "2954308  2527775                                         DSM 103454   \n",
       "2954309  2527775                      Polynucleobacter paneuropaeus   \n",
       "2954310  2527775  Polynucleobacter paneuropaeus Hoetzinger et al...   \n",
       "2954311  2527775                    Polynucleobacter sp. FUKU-NW-11   \n",
       "2954312  2527775                 Polynucleobacter sp. MG-25-Pas1-D2   \n",
       "2954313  2527775                   Polynucleobacter sp. MWH-CNW20-3   \n",
       "2954314  2527775                 Polynucleobacter sp. MWH-Creno-4B4   \n",
       "2954315  2527775                    Polynucleobacter sp. MWH-UK1W16   \n",
       "2954316  2527775                    Polynucleobacter sp. UB-Kaiv-W7   \n",
       "2954317  2527775                               strain MG-25-Pas1-D2   \n",
       "\n",
       "                                unique_name       class_name  \n",
       "2954307            CIP 111323 <type strain>    type material  \n",
       "2954308            DSM 103454 <type strain>    type material  \n",
       "2954309                                 NaN  scientific name  \n",
       "2954310                                 NaN        authority  \n",
       "2954311                                 NaN         includes  \n",
       "2954312                                 NaN         includes  \n",
       "2954313                                 NaN         includes  \n",
       "2954314                                 NaN         includes  \n",
       "2954315                                 NaN         includes  \n",
       "2954316                                 NaN         includes  \n",
       "2954317  strain MG-25-Pas1-D2 <type strain>    type material  "
      ]
     },
     "execution_count": 23,
     "metadata": {},
     "output_type": "execute_result"
    }
   ],
   "source": [
    "taxo_table[taxo_table.taxo == 2527775]"
   ]
  },
  {
   "cell_type": "code",
   "execution_count": null,
   "metadata": {},
   "outputs": [],
   "source": []
  },
  {
   "cell_type": "code",
   "execution_count": 19,
   "metadata": {},
   "outputs": [],
   "source": [
    "taxo_table = pd.read_pickle(\"/home/ubuntu/Disks/SSD500/NCBI/taxo_names.pd\")"
   ]
  },
  {
   "cell_type": "markdown",
   "metadata": {},
   "source": [
    "## Loop through all bacteria and retrieve the kmer spectrum"
   ]
  },
  {
   "cell_type": "code",
   "execution_count": 20,
   "metadata": {},
   "outputs": [],
   "source": [
    "def extract_folder(folder, dic_template, ):\n",
    "\n",
    "    if not os.path.isdir(folder): return\n",
    "    files = [f for f in os.scandir(folder) if f.name.endswith(\".fna\") \n",
    "#                      and (f.name.startswith(\"NC_\") or f.name.startswith(\"AC_\"))\n",
    "             and \"multiisoloate\" not in f.path and \"multispecies\" not in f.path]\n",
    "    if len(files) == 0: return\n",
    "\n",
    "    # Looping through each file for a single bacteria (multiple chromosomes or alternative genomes ?)\n",
    "    bac_kmers = []\n",
    "    for file_i in files:\n",
    "        try:\n",
    "            # Check if already done\n",
    "            taxo, bacteria_name, fna_name, kmer_freq_path = \\\n",
    "                kmer_pkl_path(folder_kmers, file_i.path, taxo_ext=\"gff\")\n",
    "            if os.path.isfile(kmer_freq_path):\n",
    "                return   # Already done for this folder\n",
    "\n",
    "            # Count\n",
    "            rec = read_fna(file_i)    # go through all files\n",
    "            dic_template[\"bacteria\"] = bacteria_name\n",
    "            dic_template[\"fna\"] = fna_name\n",
    "            dic_template[\"len_genome\"] = len(rec)\n",
    "            success_n, kmer_counts = \\\n",
    "                count_kmers(rec, dic_template, k, bacteria_name, fna_name, w=window)\n",
    "            succ_fail = \"Success\" if len(rec)-3 == success_n else \"Fail   \"\n",
    "            print(f\"{succ_fail} -> Bacteria: {bacteria_name},\\t file: {fna_name},\\t len: {len(rec)}\")\n",
    "            nucleotides.append(success_n)\n",
    "\n",
    "            bac_kmers.extend(kmer_counts)\n",
    "        except Exception as e:\n",
    "            print(\"type error: \" + str(e))\n",
    "            print(traceback.format_exc())\n",
    "            print(file_i.path)\n",
    "\n",
    "    if len(bac_kmers) > 0:\n",
    "        # Pandas\n",
    "        df = to_pandas(bac_kmers, bacteria_name)\n",
    "        # Save to a file\n",
    "        df.to_pickle(kmer_freq_path)\n",
    "        n += 1\n"
   ]
  },
  {
   "cell_type": "code",
   "execution_count": 21,
   "metadata": {},
   "outputs": [],
   "source": [
    "def count_all(folder_kmers, scanning=path_ref_db, k=4, window=1000, stop=3, skip={}):\n",
    "    start = time()\n",
    "    n = 0\n",
    "    nucleotides = []\n",
    "    dic_template = {\"bacteria\": \"\", \"fna\": \"\", \"start\": None,}\n",
    "    dic_template.update(kmers_dic(k))\n",
    "    \n",
    "    # Looping through each family folder\n",
    "    for genera in tqdm(os.scandir(scanning), desc=\"Genera\", total=len(os.listdir(scanning))):\n",
    "        if stop > 0 and n > stop:  # 5400\n",
    "            break\n",
    "        # Looping through each bacterial folder\n",
    "#         results = Parallel(n_jobs=n_cores)(delayed(extract_folder)(folder, dic_template, ) \\\n",
    "#             for folder in tqdm(os.scandir(genera), desc=\"Species\", total=len(os.listdir(genera)), leave=False))\n",
    "    \n",
    "        for folder in tqdm(os.scandir(genera), desc=genera.name, total=len(os.listdir(genera)), leave=False):\n",
    "            if stop > 0 and n > stop:  # 5400\n",
    "                break\n",
    "            if genera.name in skip: continue\n",
    "            \n",
    "            if not os.path.isdir(folder): continue\n",
    "            files = [f for f in os.scandir(folder) if f.name.endswith(\".fna\") \n",
    "#                      and (f.name.startswith(\"NC_\") or f.name.startswith(\"AC_\"))\n",
    "                     and \"multiisoloate\" not in f.path and \"multispecies\" not in f.path]\n",
    "            if len(files) == 0: continue\n",
    "\n",
    "            # Looping through each file for a single bacteria (multiple chromosomes or alternative genomes ?)\n",
    "            bac_kmers = []\n",
    "            for file_i in files:\n",
    "                try:\n",
    "                    # Check if already done\n",
    "                    taxo, bacteria_name, fna_name, kmer_freq_path = \\\n",
    "                        kmer_pkl_path(folder_kmers, file_i.path, taxo_ext=\"gff\")\n",
    "                    if os.path.isfile(kmer_freq_path):\n",
    "                        continue   # Already done for this folder\n",
    "\n",
    "                    # Count\n",
    "                    rec = read_fna(file_i)    # go through all files\n",
    "                    dic_template[\"bacteria\"] = bacteria_name\n",
    "                    dic_template[\"fna\"] = fna_name\n",
    "                    dic_template[\"len_genome\"] = len(rec)\n",
    "                    success_n, kmer_counts = \\\n",
    "                        count_kmers(rec, dic_template, k, bacteria_name, fna_name, w=window)\n",
    "                    succ_fail = \"Success\" if len(rec)-3 == success_n else \"Fail   \"\n",
    "#                     print(f\"{succ_fail} -> Bacteria: {bacteria_name},\\t file: {fna_name},\\t len: {len(rec)}\")\n",
    "                    nucleotides.append(success_n)\n",
    "\n",
    "                    bac_kmers.extend(kmer_counts)\n",
    "                except Exception as e:\n",
    "                    print(\"type error: \" + str(e))\n",
    "#                     print(traceback.format_exc())\n",
    "                    print(file_i.path)\n",
    "\n",
    "            if len(bac_kmers) > 0:\n",
    "                # Pandas\n",
    "                df = to_pandas(bac_kmers, bacteria_name)\n",
    "                # Save to a file\n",
    "                df.to_pickle(kmer_freq_path)\n",
    "                n += 1\n",
    "\n",
    "\n",
    "                    \n",
    "    elapsed_time = time() - start\n",
    "    total = sum(nucleotides)\n",
    "    print(f\"\\n{n} folders have been scanned\\n\"\n",
    "          f\"Took {elapsed_time:,.1f}s / {elapsed_time/60:.1f}min  to complete. {total/elapsed_time:,.0f} bp/s\")\n",
    "    return nucleotides"
   ]
  },
  {
   "cell_type": "code",
   "execution_count": 25,
   "metadata": {},
   "outputs": [],
   "source": [
    "to_skip = {'archaea', 'bacteria', 'fungi', 'invertebrate', 'plant', 'protozoa', \n",
    "           'vertebrate_mammalian', 'vertebrate_other'}"
   ]
  },
  {
   "cell_type": "code",
   "execution_count": 26,
   "metadata": {
    "scrolled": true
   },
   "outputs": [
    {
     "data": {
      "application/vnd.jupyter.widget-view+json": {
       "model_id": "1b954c5595614f4c93e85696100ca6b5",
       "version_major": 2,
       "version_minor": 0
      },
      "text/plain": [
       "HBox(children=(IntProgress(value=0, description='Genera', max=8, style=ProgressStyle(description_width='initia…"
      ]
     },
     "metadata": {},
     "output_type": "display_data"
    },
    {
     "data": {
      "application/vnd.jupyter.widget-view+json": {
       "model_id": "",
       "version_major": 2,
       "version_minor": 0
      },
      "text/plain": [
       "HBox(children=(IntProgress(value=0, description='archaea', max=311, style=ProgressStyle(description_width='ini…"
      ]
     },
     "metadata": {},
     "output_type": "display_data"
    },
    {
     "data": {
      "application/vnd.jupyter.widget-view+json": {
       "model_id": "",
       "version_major": 2,
       "version_minor": 0
      },
      "text/plain": [
       "HBox(children=(IntProgress(value=0, description='bacteria', max=15922, style=ProgressStyle(description_width='…"
      ]
     },
     "metadata": {},
     "output_type": "display_data"
    },
    {
     "data": {
      "application/vnd.jupyter.widget-view+json": {
       "model_id": "",
       "version_major": 2,
       "version_minor": 0
      },
      "text/plain": [
       "HBox(children=(IntProgress(value=0, description='fungi', max=55, style=ProgressStyle(description_width='initia…"
      ]
     },
     "metadata": {},
     "output_type": "display_data"
    },
    {
     "data": {
      "application/vnd.jupyter.widget-view+json": {
       "model_id": "",
       "version_major": 2,
       "version_minor": 0
      },
      "text/plain": [
       "HBox(children=(IntProgress(value=0, description='invertebrate', max=24, style=ProgressStyle(description_width=…"
      ]
     },
     "metadata": {},
     "output_type": "display_data"
    },
    {
     "data": {
      "application/vnd.jupyter.widget-view+json": {
       "model_id": "",
       "version_major": 2,
       "version_minor": 0
      },
      "text/plain": [
       "HBox(children=(IntProgress(value=0, description='plant', max=64, style=ProgressStyle(description_width='initia…"
      ]
     },
     "metadata": {},
     "output_type": "display_data"
    },
    {
     "data": {
      "application/vnd.jupyter.widget-view+json": {
       "model_id": "",
       "version_major": 2,
       "version_minor": 0
      },
      "text/plain": [
       "HBox(children=(IntProgress(value=0, description='protozoa', max=40, style=ProgressStyle(description_width='ini…"
      ]
     },
     "metadata": {},
     "output_type": "display_data"
    },
    {
     "data": {
      "application/vnd.jupyter.widget-view+json": {
       "model_id": "",
       "version_major": 2,
       "version_minor": 0
      },
      "text/plain": [
       "HBox(children=(IntProgress(value=0, description='vertebrate_other', max=48, style=ProgressStyle(description_wi…"
      ]
     },
     "metadata": {},
     "output_type": "display_data"
    },
    {
     "data": {
      "application/vnd.jupyter.widget-view+json": {
       "model_id": "",
       "version_major": 2,
       "version_minor": 0
      },
      "text/plain": [
       "HBox(children=(IntProgress(value=0, description='viral', max=9291, style=ProgressStyle(description_width='init…"
      ]
     },
     "metadata": {},
     "output_type": "display_data"
    },
    {
     "name": "stdout",
     "output_type": "stream",
     "text": [
      "type error: Found 0 matches for the scientific name of taxo 10658. Display the taxo table: \n",
      "Empty DataFrame\n",
      "Columns: [taxo, name, unique_name, class_name]\n",
      "Index: []\n",
      "/home/ubuntu/Data/NCBI/20190704/refseq/viral/GCF_000837025.1/GCF_000837025.1_ViralProj14062_genomic.fna\n",
      "type error: Found 0 matches for the scientific name of taxo 114416. Display the taxo table: \n",
      "Empty DataFrame\n",
      "Columns: [taxo, name, unique_name, class_name]\n",
      "Index: []\n",
      "/home/ubuntu/Data/NCBI/20190704/refseq/viral/GCF_000841645.1/GCF_000841645.1_ViralProj14331_genomic.fna\n",
      "type error: Found 0 matches for the scientific name of taxo 354260. Display the taxo table: \n",
      "Empty DataFrame\n",
      "Columns: [taxo, name, unique_name, class_name]\n",
      "Index: []\n",
      "/home/ubuntu/Data/NCBI/20190704/refseq/viral/GCF_000843105.1/GCF_000843105.1_ViralProj14281_genomic.fna\n",
      "type error: Found 0 matches for the scientific name of taxo 227859. Display the taxo table: \n",
      "Empty DataFrame\n",
      "Columns: [taxo, name, unique_name, class_name]\n",
      "Index: []\n",
      "/home/ubuntu/Data/NCBI/20190704/refseq/viral/GCF_000864885.1/GCF_000864885.1_ViralProj15500_genomic.fna\n",
      "type error: Found 0 matches for the scientific name of taxo 146269. Display the taxo table: \n",
      "Empty DataFrame\n",
      "Columns: [taxo, name, unique_name, class_name]\n",
      "Index: []\n",
      "/home/ubuntu/Data/NCBI/20190704/refseq/viral/GCF_000866745.1/GCF_000866745.1_ViralProj16114_genomic.fna\n",
      "type error: Found 0 matches for the scientific name of taxo 1206545. Display the taxo table: \n",
      "Empty DataFrame\n",
      "Columns: [taxo, name, unique_name, class_name]\n",
      "Index: []\n",
      "/home/ubuntu/Data/NCBI/20190704/refseq/viral/GCF_000912655.1/GCF_000912655.1_ViralProj219106_genomic.fna\n",
      "type error: Found 0 matches for the scientific name of taxo 1458706. Display the taxo table: \n",
      "Empty DataFrame\n",
      "Columns: [taxo, name, unique_name, class_name]\n",
      "Index: []\n",
      "/home/ubuntu/Data/NCBI/20190704/refseq/viral/GCF_001470555.1/GCF_001470555.1_ViralProj306275_genomic.fna\n",
      "type error: /home/ubuntu/Data/NCBI/20190704/refseq/viral/GCF_002814475.1/GCF_002814475.1_ASM281447v1_genomic.fna DOESN'T have a .gff file ??\n",
      "/home/ubuntu/Data/NCBI/20190704/refseq/viral/GCF_002814475.1/GCF_002814475.1_ASM281447v1_genomic.fna\n",
      "type error: /home/ubuntu/Data/NCBI/20190704/refseq/viral/GCF_002817355.1/GCF_002817355.1_ASM281735v1_genomic.fna DOESN'T have a .gff file ??\n",
      "/home/ubuntu/Data/NCBI/20190704/refseq/viral/GCF_002817355.1/GCF_002817355.1_ASM281735v1_genomic.fna\n",
      "type error: /home/ubuntu/Data/NCBI/20190704/refseq/viral/GCF_002818175.1/GCF_002818175.1_ASM281817v1_genomic.fna DOESN'T have a .gff file ??\n",
      "/home/ubuntu/Data/NCBI/20190704/refseq/viral/GCF_002818175.1/GCF_002818175.1_ASM281817v1_genomic.fna\n",
      "type error: /home/ubuntu/Data/NCBI/20190704/refseq/viral/GCF_002830405.1/GCF_002830405.1_ASM283040v1_genomic.fna DOESN'T have a .gff file ??\n",
      "/home/ubuntu/Data/NCBI/20190704/refseq/viral/GCF_002830405.1/GCF_002830405.1_ASM283040v1_genomic.fna\n",
      "type error: /home/ubuntu/Data/NCBI/20190704/refseq/viral/GCF_002830425.1/GCF_002830425.1_ASM283042v1_genomic.fna DOESN'T have a .gff file ??\n",
      "/home/ubuntu/Data/NCBI/20190704/refseq/viral/GCF_002830425.1/GCF_002830425.1_ASM283042v1_genomic.fna\n",
      "type error: /home/ubuntu/Data/NCBI/20190704/refseq/viral/GCF_002830445.1/GCF_002830445.1_ASM283044v1_genomic.fna DOESN'T have a .gff file ??\n",
      "/home/ubuntu/Data/NCBI/20190704/refseq/viral/GCF_002830445.1/GCF_002830445.1_ASM283044v1_genomic.fna\n",
      "type error: /home/ubuntu/Data/NCBI/20190704/refseq/viral/GCF_002830485.1/GCF_002830485.1_ASM283048v1_genomic.fna DOESN'T have a .gff file ??\n",
      "/home/ubuntu/Data/NCBI/20190704/refseq/viral/GCF_002830485.1/GCF_002830485.1_ASM283048v1_genomic.fna\n",
      "type error: /home/ubuntu/Data/NCBI/20190704/refseq/viral/GCF_002830505.1/GCF_002830505.1_ASM283050v1_genomic.fna DOESN'T have a .gff file ??\n",
      "/home/ubuntu/Data/NCBI/20190704/refseq/viral/GCF_002830505.1/GCF_002830505.1_ASM283050v1_genomic.fna\n",
      "type error: /home/ubuntu/Data/NCBI/20190704/refseq/viral/GCF_002866945.1/GCF_002866945.1_ASM286694v1_genomic.fna DOESN'T have a .gff file ??\n",
      "/home/ubuntu/Data/NCBI/20190704/refseq/viral/GCF_002866945.1/GCF_002866945.1_ASM286694v1_genomic.fna\n",
      "type error: /home/ubuntu/Data/NCBI/20190704/refseq/viral/GCF_002986165.1/GCF_002986165.1_ASM298616v1_genomic.fna DOESN'T have a .gff file ??\n",
      "/home/ubuntu/Data/NCBI/20190704/refseq/viral/GCF_002986165.1/GCF_002986165.1_ASM298616v1_genomic.fna\n",
      "type error: /home/ubuntu/Data/NCBI/20190704/refseq/viral/GCF_002986195.1/GCF_002986195.1_ASM298619v1_genomic.fna DOESN'T have a .gff file ??\n",
      "/home/ubuntu/Data/NCBI/20190704/refseq/viral/GCF_002986195.1/GCF_002986195.1_ASM298619v1_genomic.fna\n",
      "type error: /home/ubuntu/Data/NCBI/20190704/refseq/viral/GCF_003033835.1/GCF_003033835.1_ASM303383v1_genomic.fna DOESN'T have a .gff file ??\n",
      "/home/ubuntu/Data/NCBI/20190704/refseq/viral/GCF_003033835.1/GCF_003033835.1_ASM303383v1_genomic.fna\n",
      "\n",
      "\n",
      "0 folders have been scanned\n",
      "Took 1,711.0s / 28.5min  to complete. 14,258 bp/s\n"
     ]
    }
   ],
   "source": [
    "total_counted = count_all(folder_kmers, stop=-1, window=10000, skip=to_skip)"
   ]
  },
  {
   "cell_type": "code",
   "execution_count": 27,
   "metadata": {},
   "outputs": [],
   "source": [
    "with open(\"/home/ubuntu/Disks/SSD500/TMP/total_counted.pkl\", \"wb\") as f:\n",
    "    pickle.dump(total_counted, f)"
   ]
  },
  {
   "cell_type": "code",
   "execution_count": null,
   "metadata": {},
   "outputs": [],
   "source": []
  },
  {
   "cell_type": "code",
   "execution_count": 38,
   "metadata": {},
   "outputs": [
    {
     "data": {
      "text/plain": [
       "['archaea',\n",
       " 'bacteria',\n",
       " 'fungi',\n",
       " 'invertebrate',\n",
       " 'plant',\n",
       " 'protozoa',\n",
       " 'vertebrate_mammalian',\n",
       " 'vertebrate_other',\n",
       " 'viral']"
      ]
     },
     "execution_count": 38,
     "metadata": {},
     "output_type": "execute_result"
    }
   ],
   "source": [
    "[genera.name for genera in os.scandir(path_ref_db)]"
   ]
  },
  {
   "cell_type": "code",
   "execution_count": 21,
   "metadata": {},
   "outputs": [
    {
     "data": {
      "text/html": [
       "<div>\n",
       "<style scoped>\n",
       "    .dataframe tbody tr th:only-of-type {\n",
       "        vertical-align: middle;\n",
       "    }\n",
       "\n",
       "    .dataframe tbody tr th {\n",
       "        vertical-align: top;\n",
       "    }\n",
       "\n",
       "    .dataframe thead th {\n",
       "        text-align: right;\n",
       "    }\n",
       "</style>\n",
       "<table border=\"1\" class=\"dataframe\">\n",
       "  <thead>\n",
       "    <tr style=\"text-align: right;\">\n",
       "      <th></th>\n",
       "      <th>taxo</th>\n",
       "      <th>name</th>\n",
       "      <th>unique_name</th>\n",
       "      <th>class_name</th>\n",
       "    </tr>\n",
       "  </thead>\n",
       "  <tbody>\n",
       "    <tr>\n",
       "      <th>173</th>\n",
       "      <td>38</td>\n",
       "      <td>\"Angiococcus disciformis\" (Thaxter 1904) Jahn ...</td>\n",
       "      <td>NaN</td>\n",
       "      <td>authority</td>\n",
       "    </tr>\n",
       "    <tr>\n",
       "      <th>174</th>\n",
       "      <td>38</td>\n",
       "      <td>\"Cystobacter disciformis\" (Thaxter 1904) Brock...</td>\n",
       "      <td>NaN</td>\n",
       "      <td>authority</td>\n",
       "    </tr>\n",
       "    <tr>\n",
       "      <th>175</th>\n",
       "      <td>38</td>\n",
       "      <td>ATCC 33172</td>\n",
       "      <td>ATCC 33172 &lt;type strain&gt;</td>\n",
       "      <td>type material</td>\n",
       "    </tr>\n",
       "    <tr>\n",
       "      <th>176</th>\n",
       "      <td>38</td>\n",
       "      <td>Angiococcus disciformis</td>\n",
       "      <td>NaN</td>\n",
       "      <td>synonym</td>\n",
       "    </tr>\n",
       "    <tr>\n",
       "      <th>177</th>\n",
       "      <td>38</td>\n",
       "      <td>Angiococcus disciformis (Thaxter 1904) Hook et...</td>\n",
       "      <td>NaN</td>\n",
       "      <td>authority</td>\n",
       "    </tr>\n",
       "    <tr>\n",
       "      <th>178</th>\n",
       "      <td>38</td>\n",
       "      <td>Archangium disciforme</td>\n",
       "      <td>NaN</td>\n",
       "      <td>scientific name</td>\n",
       "    </tr>\n",
       "    <tr>\n",
       "      <th>179</th>\n",
       "      <td>38</td>\n",
       "      <td>Archangium disciforme (Thaxter 1904) Lang et a...</td>\n",
       "      <td>NaN</td>\n",
       "      <td>authority</td>\n",
       "    </tr>\n",
       "    <tr>\n",
       "      <th>180</th>\n",
       "      <td>38</td>\n",
       "      <td>Cystobacter disciformis</td>\n",
       "      <td>NaN</td>\n",
       "      <td>synonym</td>\n",
       "    </tr>\n",
       "    <tr>\n",
       "      <th>181</th>\n",
       "      <td>38</td>\n",
       "      <td>DSM 17051</td>\n",
       "      <td>DSM 17051 &lt;type strain&gt;</td>\n",
       "      <td>type material</td>\n",
       "    </tr>\n",
       "    <tr>\n",
       "      <th>182</th>\n",
       "      <td>38</td>\n",
       "      <td>DSM 52716</td>\n",
       "      <td>DSM 52716 &lt;type strain&gt;</td>\n",
       "      <td>type material</td>\n",
       "    </tr>\n",
       "    <tr>\n",
       "      <th>183</th>\n",
       "      <td>38</td>\n",
       "      <td>Myxococcus disciformis</td>\n",
       "      <td>NaN</td>\n",
       "      <td>synonym</td>\n",
       "    </tr>\n",
       "    <tr>\n",
       "      <th>184</th>\n",
       "      <td>38</td>\n",
       "      <td>Myxococcus disciformis Thaxter 1904 (Approved ...</td>\n",
       "      <td>NaN</td>\n",
       "      <td>authority</td>\n",
       "    </tr>\n",
       "    <tr>\n",
       "      <th>185</th>\n",
       "      <td>38</td>\n",
       "      <td>strain CMU-1</td>\n",
       "      <td>strain CMU-1 &lt;type strain&gt;</td>\n",
       "      <td>type material</td>\n",
       "    </tr>\n",
       "  </tbody>\n",
       "</table>\n",
       "</div>"
      ],
      "text/plain": [
       "     taxo                                               name  \\\n",
       "173    38  \"Angiococcus disciformis\" (Thaxter 1904) Jahn ...   \n",
       "174    38  \"Cystobacter disciformis\" (Thaxter 1904) Brock...   \n",
       "175    38                                         ATCC 33172   \n",
       "176    38                            Angiococcus disciformis   \n",
       "177    38  Angiococcus disciformis (Thaxter 1904) Hook et...   \n",
       "178    38                              Archangium disciforme   \n",
       "179    38  Archangium disciforme (Thaxter 1904) Lang et a...   \n",
       "180    38                            Cystobacter disciformis   \n",
       "181    38                                          DSM 17051   \n",
       "182    38                                          DSM 52716   \n",
       "183    38                             Myxococcus disciformis   \n",
       "184    38  Myxococcus disciformis Thaxter 1904 (Approved ...   \n",
       "185    38                                       strain CMU-1   \n",
       "\n",
       "                    unique_name       class_name  \n",
       "173                         NaN        authority  \n",
       "174                         NaN        authority  \n",
       "175    ATCC 33172 <type strain>    type material  \n",
       "176                         NaN          synonym  \n",
       "177                         NaN        authority  \n",
       "178                         NaN  scientific name  \n",
       "179                         NaN        authority  \n",
       "180                         NaN          synonym  \n",
       "181     DSM 17051 <type strain>    type material  \n",
       "182     DSM 52716 <type strain>    type material  \n",
       "183                         NaN          synonym  \n",
       "184                         NaN        authority  \n",
       "185  strain CMU-1 <type strain>    type material  "
      ]
     },
     "execution_count": 21,
     "metadata": {},
     "output_type": "execute_result"
    }
   ],
   "source": [
    "taxo_table[taxo_table.taxo == 38]"
   ]
  },
  {
   "cell_type": "code",
   "execution_count": null,
   "metadata": {},
   "outputs": [],
   "source": []
  },
  {
   "cell_type": "code",
   "execution_count": null,
   "metadata": {},
   "outputs": [],
   "source": []
  },
  {
   "cell_type": "code",
   "execution_count": null,
   "metadata": {},
   "outputs": [],
   "source": []
  },
  {
   "cell_type": "code",
   "execution_count": 14,
   "metadata": {
    "scrolled": true
   },
   "outputs": [
    {
     "name": "stdout",
     "output_type": "stream",
     "text": [
      "Success -> Bacteria: multiisoloate_uid216090, file: NC_022107, len: 1042853\n",
      "Success -> Bacteria: Chlamydia_trachomatis_E_SW3_uid167483, file: NC_012631, len: 7502\n",
      "Success -> Bacteria: Chlamydia_trachomatis_F_SW4_uid167484, file: NC_012625, len: 7493\n",
      "Success -> Bacteria: Chlamydia_trachomatis_F_SW5_uid167485, file: NC_012626, len: 7471\n",
      "Success -> Bacteria: multispecies_uid212977, file: NC_021821, len: 1861334\n",
      "Success -> Bacteria: multispecies_uid212977, file: NC_021822, len: 1806995\n",
      "Success -> Bacteria: multispecies_uid212977, file: NC_021834, len: 1702398\n",
      "Success -> Bacteria: multispecies_uid212977, file: NC_021847, len: 3362228\n",
      "Success -> Bacteria: multispecies_uid212977, file: NC_021848, len: 3331580\n",
      "Success -> Bacteria: Chlamydophila_pneumoniae_AR39_uid57809, file: NC_002179, len: 1229853\n",
      "Success -> Bacteria: Comamonas_testosteroni_CNB_2_uid62961, file: NC_010935, len: 91181\n",
      "Success -> Bacteria: Desulfovibrio_hydrothermalis_AM13___DSM_14728_uid184831, file: NC_019953, len: 5328\n",
      "Success -> Bacteria: Desulfovibrio_hydrothermalis_AM13___DSM_14728_uid184831, file: NC_020055, len: 3703034\n",
      "Success -> Bacteria: Legionella_pneumophila_Lorraine_uid170535, file: NC_018139, len: 3467254\n",
      "Success -> Bacteria: Streptococcus_salivarius_57_I_uid162151, file: NC_017594, len: 2138805\n",
      "Success -> Bacteria: Enterococcus_faecalis_62_uid159663, file: NC_017312, len: 2988673\n",
      "Success -> Bacteria: Enterococcus_faecalis_62_uid159663, file: NC_017314, len: 5143\n",
      "Success -> Bacteria: Enterococcus_faecalis_62_uid159663, file: NC_017313, len: 51104\n",
      "Success -> Bacteria: Enterococcus_faecalis_62_uid159663, file: NC_017315, len: 55393\n",
      "Success -> Bacteria: Clostridium_perfringens_SM101_uid58117, file: NC_008262, len: 2897393\n",
      "Success -> Bacteria: Clostridium_perfringens_SM101_uid58117, file: NC_008263, len: 12397\n",
      "Success -> Bacteria: Clostridium_perfringens_SM101_uid58117, file: NC_008264, len: 12206\n",
      "Success -> Bacteria: Aggregatibacter_actinomycetemcomitans_D11S_1_uid41333, file: NC_013416, len: 2105764\n",
      "Success -> Bacteria: Aggregatibacter_actinomycetemcomitans_D11S_1_uid41333, file: NC_013438, len: 31045\n",
      "Success -> Bacteria: Aggregatibacter_actinomycetemcomitans_D11S_1_uid41333, file: NC_014629, len: 23886\n",
      "\n",
      "\n",
      "10 folders have been scanned\n",
      "Took 422.1s / 7.0min  to complete. 75,686 bp/s\n"
     ]
    }
   ],
   "source": [
    "total_counted = count_all(folder_kmers, stop=-1, window=10000)"
   ]
  },
  {
   "cell_type": "code",
   "execution_count": 21,
   "metadata": {
    "scrolled": true
   },
   "outputs": [
    {
     "data": {
      "text/plain": [
       "9578234988"
      ]
     },
     "execution_count": 21,
     "metadata": {},
     "output_type": "execute_result"
    }
   ],
   "source": [
    "sum(total_counted)"
   ]
  },
  {
   "cell_type": "code",
   "execution_count": null,
   "metadata": {
    "collapsed": true
   },
   "outputs": [],
   "source": []
  },
  {
   "cell_type": "code",
   "execution_count": null,
   "metadata": {
    "collapsed": true
   },
   "outputs": [],
   "source": []
  },
  {
   "cell_type": "code",
   "execution_count": 13,
   "metadata": {
    "code_folding": []
   },
   "outputs": [
    {
     "name": "stdout",
     "output_type": "stream",
     "text": [
      "confirm : y\n",
      "2782 files\n",
      "\n",
      "Dataset saved to /home/sjriondet/Data/Kmer_frequencies/4_V3/_all_bacteria_4mers.largepd \n"
     ]
    }
   ],
   "source": [
    "if input(\"confirm : \") == \"y\":\n",
    "    names = []\n",
    "    files = []\n",
    "    counts = []\n",
    "    path_4mer = os.path.join(path_kmer_freq, folder_kmers)\n",
    "    for f in os.scandir(path_4mer):\n",
    "        if f.name.endswith(\".pd\") and not f.name.startswith(\"_\") \\\n",
    "                and not \"multiisoloate\" in f.path and not \"multispecies\" in f.path:\n",
    "            files.append(f.path)\n",
    "            names.append(os.path.splitext(f.name)[0])\n",
    "    print(f\"{len(names)} files\")\n",
    "\n",
    "    if True:\n",
    "        df_concat = []\n",
    "        for file in tqdm(files):\n",
    "            df_concat.append(pd.read_pickle(file))\n",
    "\n",
    "        all_df = pd.concat(df_concat)\n",
    "\n",
    "        all_df.bacteria = all_df.bacteria.astype(\"category\")\n",
    "        all_df.fna = all_df.fna.astype(\"category\")\n",
    "\n",
    "    path_all = os.path.join(path_4mer, \"_all_bacteria_4mers.largepd\")\n",
    "    all_df.to_pickle(path_all)\n",
    "    print(f\"Dataset saved to {path_all} \")"
   ]
  },
  {
   "cell_type": "code",
   "execution_count": null,
   "metadata": {
    "collapsed": true
   },
   "outputs": [],
   "source": []
  },
  {
   "cell_type": "code",
   "execution_count": null,
   "metadata": {
    "collapsed": true
   },
   "outputs": [],
   "source": []
  },
  {
   "cell_type": "code",
   "execution_count": null,
   "metadata": {
    "collapsed": true
   },
   "outputs": [],
   "source": []
  },
  {
   "cell_type": "code",
   "execution_count": null,
   "metadata": {
    "collapsed": true
   },
   "outputs": [],
   "source": []
  },
  {
   "cell_type": "code",
   "execution_count": null,
   "metadata": {
    "collapsed": true
   },
   "outputs": [],
   "source": []
  },
  {
   "cell_type": "code",
   "execution_count": null,
   "metadata": {
    "collapsed": true
   },
   "outputs": [],
   "source": []
  },
  {
   "cell_type": "markdown",
   "metadata": {},
   "source": [
    "\n",
    "\n",
    "### End of the script.\n",
    "Sylvain @GIS"
   ]
  },
  {
   "cell_type": "markdown",
   "metadata": {},
   "source": [
    "## Tests"
   ]
  },
  {
   "cell_type": "code",
   "execution_count": 15,
   "metadata": {},
   "outputs": [],
   "source": [
    "from sklearn.feature_extraction.text import CountVectorizer\n",
    "import numpy as np"
   ]
  },
  {
   "cell_type": "code",
   "execution_count": 76,
   "metadata": {},
   "outputs": [],
   "source": [
    "test = \"ATCGCATACTGATCGATACTGATCGATGAATCCCGGT\""
   ]
  },
  {
   "cell_type": "code",
   "execution_count": 100,
   "metadata": {},
   "outputs": [],
   "source": [
    "vocabulary = set(kmers_dic(4))"
   ]
  },
  {
   "cell_type": "code",
   "execution_count": 102,
   "metadata": {},
   "outputs": [],
   "source": [
    "cv = CountVectorizer(analyzer=\"char\", lowercase=False, ngram_range=(4,4),\n",
    "                    vocabulary=vocabulary)"
   ]
  },
  {
   "cell_type": "code",
   "execution_count": 103,
   "metadata": {},
   "outputs": [],
   "source": [
    "data = cv.fit_transform([test]).toarray()"
   ]
  },
  {
   "cell_type": "code",
   "execution_count": 104,
   "metadata": {},
   "outputs": [
    {
     "data": {
      "text/plain": [
       "array([[0, 0, 0, 0, 0, 0, 0, 0, 0, 0, 0, 0, 0, 1, 0, 0, 0, 0, 0, 0, 0, 0,\n",
       "        0, 0, 0, 0, 0, 0, 0, 0, 2, 0, 0, 0, 0, 0, 0, 0, 0, 0, 0, 0, 0, 0,\n",
       "        0, 0, 0, 0, 0, 2, 0, 0, 0, 1, 3, 0, 1, 0, 0, 0, 0, 0, 0, 0, 0, 0,\n",
       "        0, 0, 0, 0, 0, 0, 0, 0, 0, 0, 1, 0, 0, 0, 0, 0, 0, 0, 0, 0, 1, 0,\n",
       "        0, 0, 1, 0, 0, 0, 0, 0, 0, 0, 0, 2, 1, 0, 0, 0, 0, 0, 0, 1, 0, 0,\n",
       "        0, 0, 0, 0, 0, 0, 0, 0, 0, 0, 2, 0, 0, 0, 0, 0, 0, 0, 0, 0, 0, 1,\n",
       "        0, 0, 0, 0, 0, 0, 0, 0, 1, 2, 1, 0, 0, 0, 0, 1, 0, 0, 0, 0, 0, 0,\n",
       "        0, 0, 0, 0, 0, 0, 0, 0, 0, 0, 0, 0, 0, 0, 0, 0, 0, 0, 0, 0, 0, 0,\n",
       "        0, 0, 0, 0, 0, 0, 0, 0, 0, 0, 0, 0, 0, 0, 0, 0, 0, 0, 0, 0, 0, 0,\n",
       "        0, 2, 0, 0, 0, 0, 0, 0, 0, 0, 0, 0, 0, 0, 0, 1, 0, 0, 2, 1, 0, 0,\n",
       "        0, 0, 0, 0, 1, 0, 0, 2, 0, 0, 0, 0, 0, 0, 0, 0, 0, 0, 0, 0, 0, 0,\n",
       "        0, 0, 0, 0, 0, 0, 0, 0, 0, 0, 0, 0, 0, 0]])"
      ]
     },
     "execution_count": 104,
     "metadata": {},
     "output_type": "execute_result"
    }
   ],
   "source": [
    "np.array(data)"
   ]
  },
  {
   "cell_type": "code",
   "execution_count": 105,
   "metadata": {},
   "outputs": [
    {
     "data": {
      "text/plain": [
       "['AAAA',\n",
       " 'AAAC',\n",
       " 'AAAG',\n",
       " 'AAAT',\n",
       " 'AACA',\n",
       " 'AACC',\n",
       " 'AACG',\n",
       " 'AACT',\n",
       " 'AAGA',\n",
       " 'AAGC',\n",
       " 'AAGG',\n",
       " 'AAGT',\n",
       " 'AATA',\n",
       " 'AATC',\n",
       " 'AATG',\n",
       " 'AATT',\n",
       " 'ACAA',\n",
       " 'ACAC',\n",
       " 'ACAG',\n",
       " 'ACAT',\n",
       " 'ACCA',\n",
       " 'ACCC',\n",
       " 'ACCG',\n",
       " 'ACCT',\n",
       " 'ACGA',\n",
       " 'ACGC',\n",
       " 'ACGG',\n",
       " 'ACGT',\n",
       " 'ACTA',\n",
       " 'ACTC',\n",
       " 'ACTG',\n",
       " 'ACTT',\n",
       " 'AGAA',\n",
       " 'AGAC',\n",
       " 'AGAG',\n",
       " 'AGAT',\n",
       " 'AGCA',\n",
       " 'AGCC',\n",
       " 'AGCG',\n",
       " 'AGCT',\n",
       " 'AGGA',\n",
       " 'AGGC',\n",
       " 'AGGG',\n",
       " 'AGGT',\n",
       " 'AGTA',\n",
       " 'AGTC',\n",
       " 'AGTG',\n",
       " 'AGTT',\n",
       " 'ATAA',\n",
       " 'ATAC',\n",
       " 'ATAG',\n",
       " 'ATAT',\n",
       " 'ATCA',\n",
       " 'ATCC',\n",
       " 'ATCG',\n",
       " 'ATCT',\n",
       " 'ATGA',\n",
       " 'ATGC',\n",
       " 'ATGG',\n",
       " 'ATGT',\n",
       " 'ATTA',\n",
       " 'ATTC',\n",
       " 'ATTG',\n",
       " 'ATTT',\n",
       " 'CAAA',\n",
       " 'CAAC',\n",
       " 'CAAG',\n",
       " 'CAAT',\n",
       " 'CACA',\n",
       " 'CACC',\n",
       " 'CACG',\n",
       " 'CACT',\n",
       " 'CAGA',\n",
       " 'CAGC',\n",
       " 'CAGG',\n",
       " 'CAGT',\n",
       " 'CATA',\n",
       " 'CATC',\n",
       " 'CATG',\n",
       " 'CATT',\n",
       " 'CCAA',\n",
       " 'CCAC',\n",
       " 'CCAG',\n",
       " 'CCAT',\n",
       " 'CCCA',\n",
       " 'CCCC',\n",
       " 'CCCG',\n",
       " 'CCCT',\n",
       " 'CCGA',\n",
       " 'CCGC',\n",
       " 'CCGG',\n",
       " 'CCGT',\n",
       " 'CCTA',\n",
       " 'CCTC',\n",
       " 'CCTG',\n",
       " 'CCTT',\n",
       " 'CGAA',\n",
       " 'CGAC',\n",
       " 'CGAG',\n",
       " 'CGAT',\n",
       " 'CGCA',\n",
       " 'CGCC',\n",
       " 'CGCG',\n",
       " 'CGCT',\n",
       " 'CGGA',\n",
       " 'CGGC',\n",
       " 'CGGG',\n",
       " 'CGGT',\n",
       " 'CGTA',\n",
       " 'CGTC',\n",
       " 'CGTG',\n",
       " 'CGTT',\n",
       " 'CTAA',\n",
       " 'CTAC',\n",
       " 'CTAG',\n",
       " 'CTAT',\n",
       " 'CTCA',\n",
       " 'CTCC',\n",
       " 'CTCG',\n",
       " 'CTCT',\n",
       " 'CTGA',\n",
       " 'CTGC',\n",
       " 'CTGG',\n",
       " 'CTGT',\n",
       " 'CTTA',\n",
       " 'CTTC',\n",
       " 'CTTG',\n",
       " 'CTTT',\n",
       " 'GAAA',\n",
       " 'GAAC',\n",
       " 'GAAG',\n",
       " 'GAAT',\n",
       " 'GACA',\n",
       " 'GACC',\n",
       " 'GACG',\n",
       " 'GACT',\n",
       " 'GAGA',\n",
       " 'GAGC',\n",
       " 'GAGG',\n",
       " 'GAGT',\n",
       " 'GATA',\n",
       " 'GATC',\n",
       " 'GATG',\n",
       " 'GATT',\n",
       " 'GCAA',\n",
       " 'GCAC',\n",
       " 'GCAG',\n",
       " 'GCAT',\n",
       " 'GCCA',\n",
       " 'GCCC',\n",
       " 'GCCG',\n",
       " 'GCCT',\n",
       " 'GCGA',\n",
       " 'GCGC',\n",
       " 'GCGG',\n",
       " 'GCGT',\n",
       " 'GCTA',\n",
       " 'GCTC',\n",
       " 'GCTG',\n",
       " 'GCTT',\n",
       " 'GGAA',\n",
       " 'GGAC',\n",
       " 'GGAG',\n",
       " 'GGAT',\n",
       " 'GGCA',\n",
       " 'GGCC',\n",
       " 'GGCG',\n",
       " 'GGCT',\n",
       " 'GGGA',\n",
       " 'GGGC',\n",
       " 'GGGG',\n",
       " 'GGGT',\n",
       " 'GGTA',\n",
       " 'GGTC',\n",
       " 'GGTG',\n",
       " 'GGTT',\n",
       " 'GTAA',\n",
       " 'GTAC',\n",
       " 'GTAG',\n",
       " 'GTAT',\n",
       " 'GTCA',\n",
       " 'GTCC',\n",
       " 'GTCG',\n",
       " 'GTCT',\n",
       " 'GTGA',\n",
       " 'GTGC',\n",
       " 'GTGG',\n",
       " 'GTGT',\n",
       " 'GTTA',\n",
       " 'GTTC',\n",
       " 'GTTG',\n",
       " 'GTTT',\n",
       " 'TAAA',\n",
       " 'TAAC',\n",
       " 'TAAG',\n",
       " 'TAAT',\n",
       " 'TACA',\n",
       " 'TACC',\n",
       " 'TACG',\n",
       " 'TACT',\n",
       " 'TAGA',\n",
       " 'TAGC',\n",
       " 'TAGG',\n",
       " 'TAGT',\n",
       " 'TATA',\n",
       " 'TATC',\n",
       " 'TATG',\n",
       " 'TATT',\n",
       " 'TCAA',\n",
       " 'TCAC',\n",
       " 'TCAG',\n",
       " 'TCAT',\n",
       " 'TCCA',\n",
       " 'TCCC',\n",
       " 'TCCG',\n",
       " 'TCCT',\n",
       " 'TCGA',\n",
       " 'TCGC',\n",
       " 'TCGG',\n",
       " 'TCGT',\n",
       " 'TCTA',\n",
       " 'TCTC',\n",
       " 'TCTG',\n",
       " 'TCTT',\n",
       " 'TGAA',\n",
       " 'TGAC',\n",
       " 'TGAG',\n",
       " 'TGAT',\n",
       " 'TGCA',\n",
       " 'TGCC',\n",
       " 'TGCG',\n",
       " 'TGCT',\n",
       " 'TGGA',\n",
       " 'TGGC',\n",
       " 'TGGG',\n",
       " 'TGGT',\n",
       " 'TGTA',\n",
       " 'TGTC',\n",
       " 'TGTG',\n",
       " 'TGTT',\n",
       " 'TTAA',\n",
       " 'TTAC',\n",
       " 'TTAG',\n",
       " 'TTAT',\n",
       " 'TTCA',\n",
       " 'TTCC',\n",
       " 'TTCG',\n",
       " 'TTCT',\n",
       " 'TTGA',\n",
       " 'TTGC',\n",
       " 'TTGG',\n",
       " 'TTGT',\n",
       " 'TTTA',\n",
       " 'TTTC',\n",
       " 'TTTG',\n",
       " 'TTTT']"
      ]
     },
     "execution_count": 105,
     "metadata": {},
     "output_type": "execute_result"
    }
   ],
   "source": [
    "cv.get_feature_names()"
   ]
  },
  {
   "cell_type": "code",
   "execution_count": null,
   "metadata": {
    "collapsed": true
   },
   "outputs": [],
   "source": []
  },
  {
   "cell_type": "code",
   "execution_count": 10,
   "metadata": {
    "code_folding": [],
    "collapsed": true
   },
   "outputs": [],
   "source": [
    "def kmer_freq_to_file(kmer_dic, freq_path):\n",
    "    with open(freq_path, 'wb') as f_out:\n",
    "        pickle.dump(kmer_dic, f_out)"
   ]
  },
  {
   "cell_type": "markdown",
   "metadata": {},
   "source": [
    "### Speed Tests"
   ]
  },
  {
   "cell_type": "code",
   "execution_count": null,
   "metadata": {
    "collapsed": true
   },
   "outputs": [],
   "source": [
    "os.chdir(path_ref_db)"
   ]
  },
  {
   "cell_type": "code",
   "execution_count": null,
   "metadata": {
    "collapsed": true
   },
   "outputs": [],
   "source": [
    "os.chdir(\"Acetobacter_pasteurianus_IFO_3283_32_uid158375\")"
   ]
  },
  {
   "cell_type": "code",
   "execution_count": null,
   "metadata": {},
   "outputs": [],
   "source": [
    "rec = read_fna(\"NC_017102.fna\")\n",
    "len(rec)"
   ]
  },
  {
   "cell_type": "markdown",
   "metadata": {},
   "source": [
    "### 4-mer"
   ]
  },
  {
   "cell_type": "code",
   "execution_count": null,
   "metadata": {
    "collapsed": true
   },
   "outputs": [],
   "source": [
    "kmer_4 = kmers_dic(4)"
   ]
  },
  {
   "cell_type": "code",
   "execution_count": null,
   "metadata": {
    "scrolled": true
   },
   "outputs": [],
   "source": [
    "kmer_4"
   ]
  },
  {
   "cell_type": "code",
   "execution_count": null,
   "metadata": {},
   "outputs": [],
   "source": [
    "%%timeit\n",
    "count_kmers(rec, kmer_4, 4)"
   ]
  },
  {
   "cell_type": "code",
   "execution_count": null,
   "metadata": {},
   "outputs": [],
   "source": [
    "%%timeit\n",
    "count_kmers(rec, kmer_4, 4)"
   ]
  },
  {
   "cell_type": "code",
   "execution_count": null,
   "metadata": {},
   "outputs": [],
   "source": [
    "%%timeit\n",
    "success_n = count_kmers(rec, kmer_4, 4)"
   ]
  },
  {
   "cell_type": "code",
   "execution_count": null,
   "metadata": {},
   "outputs": [],
   "source": [
    "%%timeit\n",
    "success_n, counts = count_kmers(rec, kmer_4, 4)"
   ]
  },
  {
   "cell_type": "code",
   "execution_count": null,
   "metadata": {},
   "outputs": [],
   "source": [
    "%%timeit\n",
    "success_n, counts = count_kmers(rec, kmer_4, 4, \"test\", \"fna\", w=100)"
   ]
  },
  {
   "cell_type": "code",
   "execution_count": null,
   "metadata": {},
   "outputs": [],
   "source": [
    "%%timeit\n",
    "success_n, counts = count_kmers(rec, kmer_4, 4, \"test\", \"fna\", w=100)"
   ]
  },
  {
   "cell_type": "code",
   "execution_count": null,
   "metadata": {},
   "outputs": [],
   "source": [
    "%%timeit\n",
    "kmer_4[max(kmer_4, key=kmer_4.get)]"
   ]
  },
  {
   "cell_type": "code",
   "execution_count": null,
   "metadata": {},
   "outputs": [],
   "source": [
    "%%timeit\n",
    "max(kmer_4.values())"
   ]
  },
  {
   "cell_type": "markdown",
   "metadata": {},
   "source": [
    "#### Checking paths "
   ]
  },
  {
   "cell_type": "code",
   "execution_count": null,
   "metadata": {},
   "outputs": [],
   "source": [
    "fna_path = \"/mnt/genomeDB/ncbi/genomes/Bacteria/Aciduliprofundum_boonei_T469_uid43333/NC_013926.gbk\"\n",
    "path_gbk = fna_path.replace(\".fna\", \".gbk\")\n",
    "with open(path_gbk) as gbk:\n",
    "    description = gbk.read()\n",
    "identificator = 'db_xref=\"taxon:'\n",
    "taxo_start = description.find(identificator)\n",
    "taxo = description[taxo_start+len(identificator):\n",
    "                   taxo_start+description[taxo_start:].find('\"\\n')]"
   ]
  },
  {
   "cell_type": "markdown",
   "metadata": {
    "collapsed": true
   },
   "source": [
    "#### Testing deepcopy speed"
   ]
  },
  {
   "cell_type": "code",
   "execution_count": null,
   "metadata": {
    "collapsed": true
   },
   "outputs": [],
   "source": [
    "from copy import deepcopy"
   ]
  },
  {
   "cell_type": "code",
   "execution_count": null,
   "metadata": {
    "collapsed": true
   },
   "outputs": [],
   "source": [
    "dic_template = kmers_dic(4)"
   ]
  },
  {
   "cell_type": "code",
   "execution_count": null,
   "metadata": {},
   "outputs": [],
   "source": [
    "%%timeit\n",
    "new_dic = deepcopy(dic_template)"
   ]
  },
  {
   "cell_type": "code",
   "execution_count": null,
   "metadata": {},
   "outputs": [],
   "source": [
    "%%timeit\n",
    "new_dic = dic_template.copy()"
   ]
  },
  {
   "cell_type": "markdown",
   "metadata": {
    "collapsed": true
   },
   "source": [
    "#### First attempts on reading sequence"
   ]
  },
  {
   "cell_type": "code",
   "execution_count": null,
   "metadata": {},
   "outputs": [],
   "source": [
    "for f in os.scandir():\n",
    "    if f.name.endswith(\"fna\"):\n",
    "        print(f\"{f.name}\\t{os.path.getsize(f):>10,d} bytes\")"
   ]
  },
  {
   "cell_type": "code",
   "execution_count": null,
   "metadata": {},
   "outputs": [],
   "source": [
    "%%timeit\n",
    "rec = SeqIO.read(\"NC_017102.fna\", \"fasta\")"
   ]
  },
  {
   "cell_type": "code",
   "execution_count": null,
   "metadata": {},
   "outputs": [],
   "source": [
    "rec"
   ]
  },
  {
   "cell_type": "code",
   "execution_count": null,
   "metadata": {
    "collapsed": true
   },
   "outputs": [],
   "source": []
  },
  {
   "cell_type": "code",
   "execution_count": null,
   "metadata": {
    "collapsed": true
   },
   "outputs": [],
   "source": [
    "mer2 = {f\"{a}{b}\":0 for a in nucleotides for b in nucleotides}"
   ]
  },
  {
   "cell_type": "code",
   "execution_count": null,
   "metadata": {},
   "outputs": [],
   "source": [
    "mer2 "
   ]
  },
  {
   "cell_type": "code",
   "execution_count": null,
   "metadata": {
    "collapsed": true
   },
   "outputs": [],
   "source": []
  },
  {
   "cell_type": "markdown",
   "metadata": {
    "collapsed": true
   },
   "source": [
    "#### DataFrame manipulation"
   ]
  },
  {
   "cell_type": "code",
   "execution_count": null,
   "metadata": {},
   "outputs": [],
   "source": [
    "df2 = df.copy()"
   ]
  },
  {
   "cell_type": "code",
   "execution_count": null,
   "metadata": {},
   "outputs": [],
   "source": [
    "for col in df2.columns:\n",
    "    if col not in [\"bacteria\", \"fna\", \"start\"]:\n",
    "        print(col)\n",
    "        df2[col] = df2[col].astype(\"uint8\")"
   ]
  },
  {
   "cell_type": "code",
   "execution_count": null,
   "metadata": {},
   "outputs": [],
   "source": [
    "df2"
   ]
  },
  {
   "cell_type": "code",
   "execution_count": null,
   "metadata": {
    "scrolled": true
   },
   "outputs": [],
   "source": [
    "df.memory_usage()"
   ]
  },
  {
   "cell_type": "code",
   "execution_count": null,
   "metadata": {
    "scrolled": true
   },
   "outputs": [],
   "source": [
    "df2.memory_usage()"
   ]
  },
  {
   "cell_type": "code",
   "execution_count": null,
   "metadata": {
    "collapsed": true
   },
   "outputs": [],
   "source": []
  },
  {
   "cell_type": "code",
   "execution_count": null,
   "metadata": {
    "collapsed": true
   },
   "outputs": [],
   "source": []
  },
  {
   "cell_type": "code",
   "execution_count": null,
   "metadata": {
    "collapsed": true
   },
   "outputs": [],
   "source": []
  }
 ],
 "metadata": {
  "hide_input": false,
  "kernelspec": {
   "display_name": "Python 3",
   "language": "python",
   "name": "python3"
  },
  "language_info": {
   "codemirror_mode": {
    "name": "ipython",
    "version": 3
   },
   "file_extension": ".py",
   "mimetype": "text/x-python",
   "name": "python",
   "nbconvert_exporter": "python",
   "pygments_lexer": "ipython3",
   "version": "3.7.3"
  },
  "toc": {
   "base_numbering": 1,
   "nav_menu": {},
   "number_sections": true,
   "sideBar": true,
   "skip_h1_title": false,
   "title_cell": "Table of Contents",
   "title_sidebar": "Contents",
   "toc_cell": false,
   "toc_position": {
    "height": "calc(100% - 180px)",
    "left": "10px",
    "top": "150px",
    "width": "165px"
   },
   "toc_section_display": true,
   "toc_window_display": false
  },
  "varInspector": {
   "cols": {
    "lenName": 16,
    "lenType": 16,
    "lenVar": 40
   },
   "kernels_config": {
    "python": {
     "delete_cmd_postfix": "",
     "delete_cmd_prefix": "del ",
     "library": "var_list.py",
     "varRefreshCmd": "print(var_dic_list())"
    },
    "r": {
     "delete_cmd_postfix": ") ",
     "delete_cmd_prefix": "rm(",
     "library": "var_list.r",
     "varRefreshCmd": "cat(var_dic_list()) "
    }
   },
   "types_to_exclude": [
    "module",
    "function",
    "builtin_function_or_method",
    "instance",
    "_Feature"
   ],
   "window_display": false
  },
  "widgets": {
   "state": {
    "2a213a5578a9462d87e3ff2a52aed4e3": {
     "views": [
      {
       "cell_index": 31
      }
     ]
    },
    "887ad623d39a4310b66a6f46d5dd5b05": {
     "views": [
      {
       "cell_index": 27
      }
     ]
    }
   },
   "version": "1.2.0"
  }
 },
 "nbformat": 4,
 "nbformat_minor": 2
}
