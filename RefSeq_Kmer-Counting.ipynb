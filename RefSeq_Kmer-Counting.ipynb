{
 "cells": [
  {
   "cell_type": "markdown",
   "metadata": {
    "deletable": true,
    "editable": true
   },
   "source": [
    "# Exploring the reference database - Kmer counting\n",
    "Let's start by counting the kmers :) "
   ]
  },
  {
   "cell_type": "markdown",
   "metadata": {
    "deletable": true,
    "editable": true
   },
   "source": [
    "## TODO\n",
    " - count all .fna not only the first one\n",
    " - split into multiple windows\n",
    " - split into slidable windows (smaller windows ?)"
   ]
  },
  {
   "cell_type": "markdown",
   "metadata": {
    "deletable": true,
    "editable": true
   },
   "source": [
    "## Structure\n",
    "In `genome/`, there's multiple sub-folder, we will start with `Bacteria`\n",
    "It then contains all recorded species/strands in individual folders\n"
   ]
  },
  {
   "cell_type": "markdown",
   "metadata": {
    "deletable": true,
    "editable": true
   },
   "source": [
    "## Content of each species/strand folder\n",
    "In each folder there's:\n",
    "- .ASN with \n",
    " - `taxname \"Acetobacter pasteurianus IFO 3283-32\"`\n",
    " - `db \"taxon\", tag id 634457`\n",
    " - `genus \"Acetobacter\", species \"pasteurianus\"`\n",
    " - `mod { {subtype strain, subname \"IFO 3283\" }, { subtype substrain, subname \"IFO 3283-32\" } },`\n",
    " - `lineage \"Bacteria; Proteobacteria; Alphaproteobacteria; Rhodospirillales; Acetobacteraceae; Acetobacter\",`\n",
    "- .FAA\n",
    " - with multiple \">gi|384064451|ref|YP_005479409.1| hypothetical protein APA32_44160 [Acetobacter pasteurianus IFO 3283-32]\"\n",
    " - and probably the amino-acid sequence for each of these proteins\n",
    "- .FFN\n",
    " - multiple \">gi|384064450|ref|NC_017102.1|:c562-116 Acetobacter pasteurianus IFO 3283-32 plasmid pAPA32-040, complete sequence\"\n",
    " - probably DNA sequence\n",
    "- .FNA\n",
    " - Also DNA\n",
    "- .GBK : Human readable format with most info !\n",
    " - have an identifier `/db_xref=\"taxon:634457\"`\n",
    "- .GFF with `##species http://www.ncbi.nlm.nih.gov/Taxonomy/Browser/wwwtax.cgi?id=634457`\n",
    "- .RPT\n",
    " - seem good with simple Python INI config file format: \n",
    "   - `DNA  length = 3035`\n",
    "   - `Taxname: Acetobacter pasteurianus IFO 3283-32`\n",
    "   - `Taxid: 634457`\n"
   ]
  },
  {
   "cell_type": "markdown",
   "metadata": {
    "deletable": true,
    "editable": true
   },
   "source": [
    "http://defindit.com/readme_files/ncbi_file_extension_format.html"
   ]
  },
  {
   "cell_type": "raw",
   "metadata": {
    "deletable": true,
    "editable": true
   },
   "source": [
    ".asn\tgenome record in asn.1 format\n",
    ".faa\tprotein sequences in fasta format, text file\n",
    ".ffn\tprotein coding portions of the genome segments\n",
    ".fna\tgenome fasta sequence\n",
    ".frn\trna coding portions of the genome segments\n",
    ".gbk\tgenome in genbank file format\n",
    ".gff\tgenome features\n",
    ".ptt\tprotein table\n",
    ".rnt\trna table\n",
    ".rpt\tsummary report\n",
    ".val\tbinary file (genome project?)"
   ]
  },
  {
   "cell_type": "markdown",
   "metadata": {
    "deletable": true,
    "editable": true
   },
   "source": [
    "What we need is the taxo id, name, and the DNA, which can be found in:\n",
    " - .gbk for the taxo and name\n",
    " - .fna for the sequence"
   ]
  },
  {
   "cell_type": "markdown",
   "metadata": {
    "deletable": true,
    "editable": true
   },
   "source": [
    "#### File marker\n",
    "https://www.ncbi.nlm.nih.gov/books/NBK21091/table/ch18.T.refseq_accession_numbers_and_mole/?report=objectonly <br>\n",
    "`NC_\tGenomic\tComplete genomic molecule, usually reference assembly`\n",
    "\n",
    "#### Status\n",
    "https://www.ncbi.nlm.nih.gov/books/NBK21091/table/ch18.T.refseq_status_codes/?report=objectonly <br>\n",
    "in `COMMENT` : VALIDATED > REVIEWED > PROVISIONAL > ...\n"
   ]
  },
  {
   "cell_type": "markdown",
   "metadata": {
    "deletable": true,
    "editable": true
   },
   "source": [
    "## Coding\n",
    "### Import and Paths"
   ]
  },
  {
   "cell_type": "code",
   "execution_count": 1,
   "metadata": {
    "collapsed": true,
    "deletable": true,
    "editable": true
   },
   "outputs": [],
   "source": [
    "import os\n",
    "import pandas as pd\n",
    "import configparser\n",
    "import pickle\n",
    "import traceback\n",
    "from Bio import SeqIO\n",
    "from time import time\n",
    "from tqdm import tqdm_notebook as tqdm"
   ]
  },
  {
   "cell_type": "code",
   "execution_count": 2,
   "metadata": {
    "collapsed": true,
    "deletable": true,
    "editable": true
   },
   "outputs": [],
   "source": [
    "path_ref_db = \"/mnt/genomeDB/ncbi/genomes/Bacteria/\"\n",
    "path_kmer_freq = \"/home/sjriondet/Data/Kmer_frequencies/\""
   ]
  },
  {
   "cell_type": "markdown",
   "metadata": {
    "deletable": true,
    "editable": true
   },
   "source": [
    "## Functions"
   ]
  },
  {
   "cell_type": "markdown",
   "metadata": {
    "deletable": true,
    "editable": true
   },
   "source": [
    "Counting kmer frequencies"
   ]
  },
  {
   "cell_type": "code",
   "execution_count": 3,
   "metadata": {
    "collapsed": true,
    "deletable": true,
    "editable": true
   },
   "outputs": [],
   "source": [
    "nucleotides = \"ACGT\""
   ]
  },
  {
   "cell_type": "code",
   "execution_count": 4,
   "metadata": {
    "collapsed": false,
    "deletable": true,
    "editable": true
   },
   "outputs": [],
   "source": [
    "def read_fna(file_path):\n",
    "    with open(file_path) as f:\n",
    "        rec = f.readlines()\n",
    "        return \"\".join(rec[1:]).replace(\"\\n\", \"\")"
   ]
  },
  {
   "cell_type": "code",
   "execution_count": 5,
   "metadata": {
    "collapsed": true,
    "deletable": true,
    "editable": true
   },
   "outputs": [],
   "source": [
    "def combinaisons(combi, n, instances=nucleotides):\n",
    "    if n == 1:\n",
    "        return combi\n",
    "    else:\n",
    "        return [f\"{a}{n}\" for a in combinaisons(combi, n-1) for n in instances]"
   ]
  },
  {
   "cell_type": "code",
   "execution_count": 6,
   "metadata": {
    "collapsed": true,
    "deletable": true,
    "editable": true
   },
   "outputs": [],
   "source": [
    "def kmers_dic(n, choice=nucleotides):\n",
    "    return {a:0 for a in combinaisons(choice, n)}"
   ]
  },
  {
   "cell_type": "code",
   "execution_count": 7,
   "metadata": {
    "collapsed": false,
    "deletable": true,
    "editable": true
   },
   "outputs": [],
   "source": [
    "def count_kmers(seq, kmer_template, n, bacteria_name, fna, w=100):\n",
    "    \"\"\" Count all kmers, ignore kmers with N or other undecided nucleotides \n",
    "        Return a list of dict for each window (w=100)\n",
    "    \"\"\"\n",
    "    res = []\n",
    "    current_split = 0\n",
    "    next_split = current_split + w\n",
    "    tmp_counts = kmer_template.copy()\n",
    "    tmp_counts[\"start\"] = current_split\n",
    "    \n",
    "    try:\n",
    "        for i, kmer in enumerate(window(seq, n)):\n",
    "            try:\n",
    "                tmp_counts[kmer] += 1\n",
    "            except:\n",
    "                pass\n",
    "            # To lower the computational need to split into windows\n",
    "            if i == next_split:\n",
    "                res.append(tmp_counts)\n",
    "                current_split = next_split\n",
    "                next_split += w\n",
    "                tmp_counts = kmer_template.copy()\n",
    "                tmp_counts[\"start\"] = current_split\n",
    "                \n",
    "        return i+1, res\n",
    "    except Exception as e:\n",
    "        print(\"type error: \" + str(e))\n",
    "        print(traceback.format_exc())\n",
    "        return i, res"
   ]
  },
  {
   "cell_type": "code",
   "execution_count": 8,
   "metadata": {
    "collapsed": true,
    "deletable": true,
    "editable": true
   },
   "outputs": [],
   "source": [
    "def window(fseq, window_size=53):\n",
    "    for i in range(len(fseq) - window_size + 1):\n",
    "        yield fseq[i:i+window_size]"
   ]
  },
  {
   "cell_type": "code",
   "execution_count": 9,
   "metadata": {
    "collapsed": true,
    "deletable": true,
    "editable": true
   },
   "outputs": [],
   "source": [
    "def kmer_pkl_path(kmer_folder, fna_path):\n",
    "    \"\"\" Return a file name based on the taxonomy id instead of the file name.\n",
    "        The taxo id is looked for in the associated .gbk file.\n",
    "    \"\"\"\n",
    "    path_gbk = fna_path.replace(\".fna\", \".gbk\")\n",
    "    assert os.path.isfile(path_gbk), f\"{fna_path} DOESN'T have a .gbk file ??\"\n",
    "    \n",
    "    with open(path_gbk) as gbk:\n",
    "        description=gbk.read()  #.replace('\\n', '')\n",
    "        \n",
    "    identificator = 'db_xref=\"taxon:'\n",
    "    taxo_start = description.find(identificator)\n",
    "    taxo = description[taxo_start+len(identificator):\n",
    "                       taxo_start+description[taxo_start:].find('\"\\n')]\n",
    "    assert len(taxo) < 10, f\"The taxo id search failed, found an id of length {len(taxo)}...\"\n",
    "    \n",
    "    bacteria_name = os.path.split(os.path.split(fna_path)[0])[1]\n",
    "    fna_name      = os.path.split(os.path.splitext(fna_path)[0])[1]\n",
    "    \n",
    "    out_path = os.path.join(path_kmer_freq, kmer_folder, f\"{taxo}__{bacteria_name}.pd\")\n",
    "    \n",
    "    return taxo, bacteria_name, fna_name, out_path"
   ]
  },
  {
   "cell_type": "code",
   "execution_count": 10,
   "metadata": {
    "collapsed": true,
    "deletable": true,
    "editable": true
   },
   "outputs": [],
   "source": [
    "def kmer_freq_to_file(kmer_dic, freq_path):\n",
    "    with open(freq_path, 'wb') as f_out:\n",
    "        pickle.dump(kmer_dic, f_out)"
   ]
  },
  {
   "cell_type": "code",
   "execution_count": 15,
   "metadata": {
    "collapsed": true
   },
   "outputs": [],
   "source": [
    "def to_pandas(bac_kmers):\n",
    "    df = pd.DataFrame(bac_kmers)\n",
    "    df_cols = df.columns.to_list()\n",
    "    df = df.reindex(columns=df_cols[-3:] + df_cols[:-3])\n",
    "    df.bacteria = df.bacteria.astype(\"category\")\n",
    "    df.fna = df.fna.astype(\"category\")\n",
    "    for col in df.columns:\n",
    "        if col not in [\"bacteria\", \"fna\", \"start\"]:\n",
    "            df[col] = df[col].astype(\"uint8\")\n",
    "    return df"
   ]
  },
  {
   "cell_type": "code",
   "execution_count": 12,
   "metadata": {
    "collapsed": true
   },
   "outputs": [],
   "source": [
    "def normalise_counts(kmer_count):\n",
    "    \"\"\"Nested dict, normalize each of the sub dict. \"\"\"\n",
    "    for window in kmer_count.keys():\n",
    "        max_val = max(kmer_count[window].values())\n",
    "        for key in kmer_count[window]:\n",
    "            kmer_count[window][key] /= max_val"
   ]
  },
  {
   "cell_type": "markdown",
   "metadata": {
    "deletable": true,
    "editable": true
   },
   "source": [
    "## Loop through all bacteria and retrieve the kmer spectrum"
   ]
  },
  {
   "cell_type": "code",
   "execution_count": 48,
   "metadata": {
    "collapsed": false,
    "deletable": true,
    "editable": true
   },
   "outputs": [],
   "source": [
    "def count_all(scanning=path_ref_db, k=4, window=200):\n",
    "    start = time()\n",
    "    n = 0\n",
    "    nucleotides = []\n",
    "    failed = 0\n",
    "    folder_kmers = \"4_V2\"   # Supposed to have 5242 files at the end\n",
    "    dic_template = {\"bacteria\": \"\", \"fna\": \"\", \"start\": None,}\n",
    "    dic_template.update(kmers_dic(k))\n",
    "    \n",
    "    # Looping through each bacterial folder\n",
    "    for folder in tqdm(os.scandir(scanning), desc=\"Species\", total=len(os.listdir(scanning))):\n",
    "        if not os.path.isdir(folder): continue\n",
    "        files = [f for f in os.scandir(folder) if f.name.endswith(\".fna\") and\n",
    "                (f.name.startswith(\"NC_\") or f.name.startswith(\"AC_\") )]\n",
    "        if len(files) == 0:           continue\n",
    "        \n",
    "        # Looping through each file for a single bacteria (multiple chromosomes or alternative genomes ?)\n",
    "        bac_kmers = []\n",
    "        for file_i in files:\n",
    "            # Check if already done\n",
    "            taxo, bacteria_name, fna_name, kmer_freq_path = kmer_pkl_path(folder_kmers, file_i.path)\n",
    "            if os.path.isfile(kmer_freq_path):\n",
    "                continue\n",
    "\n",
    "#                     try:\n",
    "            # Count\n",
    "            rec = read_fna(file_i)    # go through all files\n",
    "            dic_template[\"bacteria\"] = bacteria_name\n",
    "            dic_template[\"fna\"] = fna_name\n",
    "            success_n, kmer_counts = \\\n",
    "                count_kmers(rec, dic_template, k, bacteria_name, fna_name, w=window)\n",
    "            succ_fail = \"Success\" if len(rec)-3 == success_n else \"Fail   \"\n",
    "            print(f\"{succ_fail} -> Bactera: {bacteria_name}, file: {fna_name}, len: {len(rec)}\")\n",
    "            nucleotides.append(success_n)\n",
    "            \n",
    "            # No need to normalise yet \n",
    "            # normalise_counts(kmer_counts)\n",
    "            bac_kmers.extend(kmer_counts)\n",
    "            \n",
    "\n",
    "        if len(bac_kmers) > 0:\n",
    "            # Pandas\n",
    "            df = to_pandas(bac_kmers)\n",
    "#             return bac_kmers\n",
    "\n",
    "            # Save to a file\n",
    "            df.to_pickle(kmer_freq_path)\n",
    "            n += 1\n",
    "\n",
    "#                     except:\n",
    "#                         failed += 1\n",
    "#                         print(f\"Failed: {files[0].path}\")\n",
    "\n",
    "        if n + failed > 5400:  # 5400\n",
    "            break\n",
    "                    \n",
    "    elapsed_time = time() - start\n",
    "    total = sum(total_counted)\n",
    "    print(f\"\\n{n+failed} species have been scanned\\n Success: {n}, failed: {failed} \\n\"\n",
    "          f\"Took {elapsed_time:,.1f}s / {elapsed_time/60:.1f}min  to complete. {total/elapsed_time:,.0f} bp/s\")\n",
    "    return nucleotides"
   ]
  },
  {
   "cell_type": "code",
   "execution_count": 47,
   "metadata": {
    "collapsed": false,
    "deletable": true,
    "editable": true
   },
   "outputs": [
    {
     "name": "stdout",
     "output_type": "stream",
     "text": [
      "Success -> Bactera: Acholeplasma_laidlawii_PG_8A_uid58901, file: NC_010163, len: 1496992\n",
      "Success -> Bactera: Achromobacter_xylosoxidans_A8_uid59899, file: NC_014640, len: 7013095\n",
      "Success -> Bactera: Achromobacter_xylosoxidans_A8_uid59899, file: NC_014641, len: 98156\n",
      "Success -> Bactera: Achromobacter_xylosoxidans_A8_uid59899, file: NC_014642, len: 247895\n",
      "Success -> Bactera: Achromobacter_xylosoxidans_NBRC_15126_uid232243, file: NC_023061, len: 6683584\n",
      "Success -> Bactera: Achromobacter_xylosoxidans_uid205255, file: NC_021285, len: 6916670\n",
      "Success -> Bactera: Acidaminococcus_fermentans_DSM_20731_uid43471, file: NC_013740, len: 2329769\n",
      "Success -> Bactera: Acidaminococcus_intestini_RyC_MR95_uid74445, file: NC_016077, len: 2487765\n",
      "Success -> Bactera: Acidianus_hospitalis_W1_uid66875, file: NC_015518, len: 2137654\n",
      "Success -> Bactera: Acidilobus_saccharovorans_345_15_uid51395, file: NC_014374, len: 1496453\n",
      "Success -> Bactera: Acidimicrobidae_bacterium_YM16_304_uid193703, file: NC_020520, len: 4830181\n",
      "Success -> Bactera: Acidimicrobium_ferrooxidans_DSM_10331_uid59215, file: NC_013124, len: 2158157\n",
      "Success -> Bactera: Acidiphilium_cryptum_JF_5_uid58447, file: NC_009467, len: 203589\n",
      "Success -> Bactera: Acidiphilium_cryptum_JF_5_uid58447, file: NC_009468, len: 187422\n",
      "Success -> Bactera: Acidiphilium_cryptum_JF_5_uid58447, file: NC_009469, len: 88953\n",
      "Success -> Bactera: Acidiphilium_cryptum_JF_5_uid58447, file: NC_009470, len: 37415\n",
      "Success -> Bactera: Acidiphilium_cryptum_JF_5_uid58447, file: NC_009471, len: 37155\n",
      "Success -> Bactera: Acidiphilium_cryptum_JF_5_uid58447, file: NC_009472, len: 8781\n",
      "Success -> Bactera: Acidiphilium_cryptum_JF_5_uid58447, file: NC_009473, len: 5629\n",
      "Success -> Bactera: Acidiphilium_cryptum_JF_5_uid58447, file: NC_009474, len: 4909\n",
      "Success -> Bactera: Acidiphilium_cryptum_JF_5_uid58447, file: NC_009484, len: 3389227\n",
      "Success -> Bactera: Acidiphilium_multivorum_AIU301_uid63345, file: NC_015178, len: 271573\n",
      "Success -> Bactera: Acidiphilium_multivorum_AIU301_uid63345, file: NC_015179, len: 54248\n",
      "Success -> Bactera: Acidiphilium_multivorum_AIU301_uid63345, file: NC_015180, len: 14328\n",
      "Success -> Bactera: Acidiphilium_multivorum_AIU301_uid63345, file: NC_015181, len: 12125\n",
      "Success -> Bactera: Acidiphilium_multivorum_AIU301_uid63345, file: NC_015182, len: 1729\n",
      "Success -> Bactera: Acidiphilium_multivorum_AIU301_uid63345, file: NC_015186, len: 3749411\n",
      "Success -> Bactera: Acidiphilium_multivorum_AIU301_uid63345, file: NC_015187, len: 65564\n",
      "Success -> Bactera: Acidiphilium_multivorum_AIU301_uid63345, file: NC_015188, len: 40588\n",
      "Success -> Bactera: Acidiphilium_multivorum_AIU301_uid63345, file: NC_015189, len: 5178\n",
      "Success -> Bactera: Acidithiobacillus_caldus_SM_1_uid70791, file: NC_015850, len: 2932225\n",
      "Success -> Bactera: Acidithiobacillus_caldus_SM_1_uid70791, file: NC_015851, len: 251782\n",
      "Success -> Bactera: Acidithiobacillus_caldus_SM_1_uid70791, file: NC_015852, len: 9778\n",
      "Success -> Bactera: Acidithiobacillus_caldus_SM_1_uid70791, file: NC_015853, len: 14110\n",
      "Success -> Bactera: Acidithiobacillus_caldus_SM_1_uid70791, file: NC_015854, len: 29704\n",
      "Success -> Bactera: Acidithiobacillus_ferrivorans_SS3_uid67387, file: NC_015942, len: 3207552\n",
      "Success -> Bactera: Acidithiobacillus_ferrooxidans_ATCC_23270_uid57649, file: NC_011761, len: 2982397\n",
      "Success -> Bactera: Acidithiobacillus_ferrooxidans_ATCC_53993_uid58613, file: NC_011206, len: 2885038\n",
      "Success -> Bactera: Acidobacterium_MP5ACTX9_uid50551, file: NC_015057, len: 475658\n",
      "Success -> Bactera: Acidobacterium_MP5ACTX9_uid50551, file: NC_015058, len: 188167\n",
      "Success -> Bactera: Acidobacterium_MP5ACTX9_uid50551, file: NC_015059, len: 115493\n",
      "Success -> Bactera: Acidobacterium_MP5ACTX9_uid50551, file: NC_015060, len: 115221\n",
      "Success -> Bactera: Acidobacterium_MP5ACTX9_uid50551, file: NC_015064, len: 4309153\n",
      "Success -> Bactera: Acidobacterium_MP5ACTX9_uid50551, file: NC_015065, len: 300292\n",
      "Success -> Bactera: Acidobacterium_capsulatum_ATCC_51196_uid59127, file: NC_012483, len: 4127356\n",
      "Success -> Bactera: Acidothermus_cellulolyticus_11B_uid58501, file: NC_008578, len: 2443540\n",
      "Success -> Bactera: Acidovorax_JS42_uid58427, file: NC_008765, len: 72689\n",
      "Success -> Bactera: Acidovorax_JS42_uid58427, file: NC_008766, len: 63609\n",
      "Success -> Bactera: Acidovorax_JS42_uid58427, file: NC_008782, len: 4448856\n",
      "Success -> Bactera: Acidovorax_KKS102_uid176500, file: NC_018708, len: 5196935\n",
      "Success -> Bactera: Acidovorax_avenae_ATCC_19860_uid42497, file: NC_015138, len: 5482170\n",
      "Success -> Bactera: Acidovorax_citrulli_AAC00_1_uid58429, file: NC_008752, len: 5352772\n",
      "Success -> Bactera: Acidovorax_ebreus_TPSY_uid59233, file: NC_011992, len: 3796573\n",
      "Success -> Bactera: Aciduliprofundum_MAR08_339_uid184407, file: NC_019942, len: 1437090\n",
      "Success -> Bactera: Aciduliprofundum_boonei_T469_uid43333, file: NC_013926, len: 1486778\n",
      "Success -> Bactera: Acinetobacter_ADP1_uid61597, file: NC_005966, len: 3598621\n",
      "Success -> Bactera: Acinetobacter_baumannii_1656_2_uid158677, file: NC_017162, len: 3940614\n",
      "Success -> Bactera: Acinetobacter_baumannii_1656_2_uid158677, file: NC_017163, len: 74451\n",
      "Success -> Bactera: Acinetobacter_baumannii_1656_2_uid158677, file: NC_017164, len: 8041\n",
      "Success -> Bactera: Acinetobacter_baumannii_AB0057_uid59083, file: NC_011585, len: 8729\n",
      "Success -> Bactera: Acinetobacter_baumannii_AB0057_uid59083, file: NC_011586, len: 4050513\n",
      "Success -> Bactera: Acinetobacter_baumannii_AB307_0294_uid59271, file: NC_011595, len: 3760981\n",
      "Success -> Bactera: Acinetobacter_baumannii_ACICU_uid58765, file: NC_010605, len: 28279\n",
      "Success -> Bactera: Acinetobacter_baumannii_ACICU_uid58765, file: NC_010606, len: 64366\n",
      "Success -> Bactera: Acinetobacter_baumannii_ACICU_uid58765, file: NC_010611, len: 3904116\n",
      "\n",
      "31 species have been scanned\n",
      " Success: 31, failed: 0 \n",
      "Took 154.9s to complete. 85,163 bp/s\n"
     ]
    }
   ],
   "source": [
    "total_counted = count_all()"
   ]
  },
  {
   "cell_type": "code",
   "execution_count": null,
   "metadata": {
    "collapsed": true
   },
   "outputs": [],
   "source": []
  },
  {
   "cell_type": "code",
   "execution_count": null,
   "metadata": {
    "collapsed": true
   },
   "outputs": [],
   "source": []
  },
  {
   "cell_type": "code",
   "execution_count": null,
   "metadata": {
    "collapsed": true
   },
   "outputs": [],
   "source": []
  },
  {
   "cell_type": "code",
   "execution_count": null,
   "metadata": {
    "collapsed": true
   },
   "outputs": [],
   "source": []
  },
  {
   "cell_type": "code",
   "execution_count": null,
   "metadata": {
    "collapsed": true
   },
   "outputs": [],
   "source": []
  },
  {
   "cell_type": "code",
   "execution_count": null,
   "metadata": {
    "collapsed": true
   },
   "outputs": [],
   "source": []
  },
  {
   "cell_type": "code",
   "execution_count": null,
   "metadata": {
    "collapsed": true
   },
   "outputs": [],
   "source": []
  },
  {
   "cell_type": "code",
   "execution_count": null,
   "metadata": {
    "collapsed": true
   },
   "outputs": [],
   "source": []
  },
  {
   "cell_type": "code",
   "execution_count": null,
   "metadata": {
    "collapsed": true
   },
   "outputs": [],
   "source": []
  },
  {
   "cell_type": "markdown",
   "metadata": {
    "collapsed": false,
    "deletable": true,
    "editable": true
   },
   "source": [
    "\n",
    "\n",
    "### End of the script.\n",
    "Sylvain @GIS"
   ]
  },
  {
   "cell_type": "markdown",
   "metadata": {},
   "source": [
    "## Tests"
   ]
  },
  {
   "cell_type": "code",
   "execution_count": null,
   "metadata": {
    "collapsed": true
   },
   "outputs": [],
   "source": []
  },
  {
   "cell_type": "markdown",
   "metadata": {
    "deletable": true,
    "editable": true
   },
   "source": [
    "### Speed Tests"
   ]
  },
  {
   "cell_type": "code",
   "execution_count": null,
   "metadata": {
    "collapsed": true,
    "deletable": true,
    "editable": true
   },
   "outputs": [],
   "source": [
    "os.chdir(path_ref_db)"
   ]
  },
  {
   "cell_type": "code",
   "execution_count": null,
   "metadata": {
    "collapsed": true,
    "deletable": true,
    "editable": true
   },
   "outputs": [],
   "source": [
    "os.chdir(\"Acetobacter_pasteurianus_IFO_3283_32_uid158375\")"
   ]
  },
  {
   "cell_type": "code",
   "execution_count": null,
   "metadata": {
    "collapsed": false,
    "deletable": true,
    "editable": true
   },
   "outputs": [],
   "source": [
    "rec = read_fna(\"NC_017102.fna\")\n",
    "len(rec)"
   ]
  },
  {
   "cell_type": "markdown",
   "metadata": {
    "deletable": true,
    "editable": true
   },
   "source": [
    "### 4-mer"
   ]
  },
  {
   "cell_type": "code",
   "execution_count": null,
   "metadata": {
    "collapsed": true,
    "deletable": true,
    "editable": true
   },
   "outputs": [],
   "source": [
    "kmer_4 = kmers_dic(4)"
   ]
  },
  {
   "cell_type": "code",
   "execution_count": null,
   "metadata": {
    "collapsed": false,
    "deletable": true,
    "editable": true,
    "scrolled": true
   },
   "outputs": [],
   "source": [
    "kmer_4"
   ]
  },
  {
   "cell_type": "code",
   "execution_count": null,
   "metadata": {
    "collapsed": false,
    "deletable": true,
    "editable": true
   },
   "outputs": [],
   "source": [
    "%%timeit\n",
    "count_kmers(rec, kmer_4, 4)"
   ]
  },
  {
   "cell_type": "code",
   "execution_count": null,
   "metadata": {
    "collapsed": false,
    "deletable": true,
    "editable": true
   },
   "outputs": [],
   "source": [
    "%%timeit\n",
    "count_kmers(rec, kmer_4, 4)"
   ]
  },
  {
   "cell_type": "code",
   "execution_count": null,
   "metadata": {
    "collapsed": false,
    "deletable": true,
    "editable": true
   },
   "outputs": [],
   "source": [
    "%%timeit\n",
    "success_n = count_kmers(rec, kmer_4, 4)"
   ]
  },
  {
   "cell_type": "code",
   "execution_count": null,
   "metadata": {
    "collapsed": false,
    "deletable": true,
    "editable": true
   },
   "outputs": [],
   "source": [
    "%%timeit\n",
    "success_n, counts = count_kmers(rec, kmer_4, 4)"
   ]
  },
  {
   "cell_type": "code",
   "execution_count": null,
   "metadata": {
    "collapsed": false,
    "deletable": true,
    "editable": true
   },
   "outputs": [],
   "source": [
    "%%timeit\n",
    "success_n, counts = count_kmers(rec, kmer_4, 4, \"test\", \"fna\", w=100)"
   ]
  },
  {
   "cell_type": "code",
   "execution_count": null,
   "metadata": {
    "collapsed": false,
    "deletable": true,
    "editable": true
   },
   "outputs": [],
   "source": [
    "%%timeit\n",
    "success_n, counts = count_kmers(rec, kmer_4, 4, \"test\", \"fna\", w=100)"
   ]
  },
  {
   "cell_type": "code",
   "execution_count": null,
   "metadata": {
    "collapsed": false,
    "deletable": true,
    "editable": true
   },
   "outputs": [],
   "source": [
    "%%timeit\n",
    "kmer_4[max(kmer_4, key=kmer_4.get)]"
   ]
  },
  {
   "cell_type": "code",
   "execution_count": null,
   "metadata": {
    "collapsed": false,
    "deletable": true,
    "editable": true
   },
   "outputs": [],
   "source": [
    "%%timeit\n",
    "max(kmer_4.values())"
   ]
  },
  {
   "cell_type": "markdown",
   "metadata": {},
   "source": [
    "#### Checking paths "
   ]
  },
  {
   "cell_type": "code",
   "execution_count": null,
   "metadata": {
    "collapsed": false,
    "deletable": true,
    "editable": true
   },
   "outputs": [],
   "source": [
    "fna_path = \"/mnt/genomeDB/ncbi/genomes/Bacteria/Aciduliprofundum_boonei_T469_uid43333/NC_013926.gbk\"\n",
    "path_gbk = fna_path.replace(\".fna\", \".gbk\")\n",
    "with open(path_gbk) as gbk:\n",
    "    description = gbk.read()\n",
    "identificator = 'db_xref=\"taxon:'\n",
    "taxo_start = description.find(identificator)\n",
    "taxo = description[taxo_start+len(identificator):\n",
    "                   taxo_start+description[taxo_start:].find('\"\\n')]"
   ]
  },
  {
   "cell_type": "markdown",
   "metadata": {
    "collapsed": true,
    "deletable": true,
    "editable": true
   },
   "source": [
    "#### Testing deepcopy speed"
   ]
  },
  {
   "cell_type": "code",
   "execution_count": null,
   "metadata": {
    "collapsed": true,
    "deletable": true,
    "editable": true
   },
   "outputs": [],
   "source": [
    "from copy import deepcopy"
   ]
  },
  {
   "cell_type": "code",
   "execution_count": null,
   "metadata": {
    "collapsed": true,
    "deletable": true,
    "editable": true
   },
   "outputs": [],
   "source": [
    "dic_template = kmers_dic(4)"
   ]
  },
  {
   "cell_type": "code",
   "execution_count": null,
   "metadata": {
    "collapsed": false,
    "deletable": true,
    "editable": true
   },
   "outputs": [],
   "source": [
    "%%timeit\n",
    "new_dic = deepcopy(dic_template)"
   ]
  },
  {
   "cell_type": "code",
   "execution_count": null,
   "metadata": {
    "collapsed": false,
    "deletable": true,
    "editable": true
   },
   "outputs": [],
   "source": [
    "%%timeit\n",
    "new_dic = dic_template.copy()"
   ]
  },
  {
   "cell_type": "markdown",
   "metadata": {
    "collapsed": true,
    "deletable": true,
    "editable": true
   },
   "source": [
    "#### First attempts on reading sequence"
   ]
  },
  {
   "cell_type": "code",
   "execution_count": null,
   "metadata": {
    "collapsed": false,
    "deletable": true,
    "editable": true
   },
   "outputs": [],
   "source": [
    "for f in os.scandir():\n",
    "    if f.name.endswith(\"fna\"):\n",
    "        print(f\"{f.name}\\t{os.path.getsize(f):>10,d} bytes\")"
   ]
  },
  {
   "cell_type": "code",
   "execution_count": null,
   "metadata": {
    "collapsed": false,
    "deletable": true,
    "editable": true
   },
   "outputs": [],
   "source": [
    "%%timeit\n",
    "rec = SeqIO.read(\"NC_017102.fna\", \"fasta\")"
   ]
  },
  {
   "cell_type": "code",
   "execution_count": null,
   "metadata": {
    "collapsed": false,
    "deletable": true,
    "editable": true
   },
   "outputs": [],
   "source": [
    "rec"
   ]
  },
  {
   "cell_type": "code",
   "execution_count": null,
   "metadata": {
    "collapsed": true,
    "deletable": true,
    "editable": true
   },
   "outputs": [],
   "source": []
  },
  {
   "cell_type": "code",
   "execution_count": null,
   "metadata": {
    "collapsed": true,
    "deletable": true,
    "editable": true
   },
   "outputs": [],
   "source": [
    "mer2 = {f\"{a}{b}\":0 for a in nucleotides for b in nucleotides}"
   ]
  },
  {
   "cell_type": "code",
   "execution_count": null,
   "metadata": {
    "collapsed": false,
    "deletable": true,
    "editable": true
   },
   "outputs": [],
   "source": [
    "mer2 "
   ]
  },
  {
   "cell_type": "code",
   "execution_count": null,
   "metadata": {
    "collapsed": true,
    "deletable": true,
    "editable": true
   },
   "outputs": [],
   "source": []
  },
  {
   "cell_type": "markdown",
   "metadata": {
    "collapsed": true,
    "deletable": true,
    "editable": true
   },
   "source": [
    "#### DataFrame manipulation"
   ]
  },
  {
   "cell_type": "code",
   "execution_count": null,
   "metadata": {
    "collapsed": false,
    "deletable": true,
    "editable": true
   },
   "outputs": [],
   "source": [
    "df2 = df.copy()"
   ]
  },
  {
   "cell_type": "code",
   "execution_count": null,
   "metadata": {
    "collapsed": false,
    "deletable": true,
    "editable": true
   },
   "outputs": [],
   "source": [
    "for col in df2.columns:\n",
    "    if col not in [\"bacteria\", \"fna\", \"start\"]:\n",
    "        print(col)\n",
    "        df2[col] = df2[col].astype(\"uint8\")"
   ]
  },
  {
   "cell_type": "code",
   "execution_count": null,
   "metadata": {
    "collapsed": false,
    "deletable": true,
    "editable": true
   },
   "outputs": [],
   "source": [
    "df2"
   ]
  },
  {
   "cell_type": "code",
   "execution_count": null,
   "metadata": {
    "collapsed": false,
    "deletable": true,
    "editable": true,
    "scrolled": true
   },
   "outputs": [],
   "source": [
    "df.memory_usage()"
   ]
  },
  {
   "cell_type": "code",
   "execution_count": null,
   "metadata": {
    "collapsed": false,
    "deletable": true,
    "editable": true,
    "scrolled": true
   },
   "outputs": [],
   "source": [
    "df2.memory_usage()"
   ]
  },
  {
   "cell_type": "code",
   "execution_count": null,
   "metadata": {
    "collapsed": true,
    "deletable": true,
    "editable": true
   },
   "outputs": [],
   "source": []
  },
  {
   "cell_type": "code",
   "execution_count": null,
   "metadata": {
    "collapsed": true,
    "deletable": true,
    "editable": true
   },
   "outputs": [],
   "source": []
  },
  {
   "cell_type": "code",
   "execution_count": null,
   "metadata": {
    "collapsed": true,
    "deletable": true,
    "editable": true
   },
   "outputs": [],
   "source": []
  }
 ],
 "metadata": {
  "kernelspec": {
   "display_name": "Python 3",
   "language": "python",
   "name": "python3"
  },
  "language_info": {
   "codemirror_mode": {
    "name": "ipython",
    "version": 3
   },
   "file_extension": ".py",
   "mimetype": "text/x-python",
   "name": "python",
   "nbconvert_exporter": "python",
   "pygments_lexer": "ipython3",
   "version": "3.6.8"
  },
  "widgets": {
   "state": {
    "455fc960467442e4989d1fd37a2b2a2a": {
     "views": [
      {
       "cell_index": 25
      }
     ]
    }
   },
   "version": "1.2.0"
  }
 },
 "nbformat": 4,
 "nbformat_minor": 2
}
