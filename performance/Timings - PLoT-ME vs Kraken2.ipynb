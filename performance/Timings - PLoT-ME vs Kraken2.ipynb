{
 "cells": [
  {
   "cell_type": "code",
   "execution_count": 16,
   "metadata": {
    "ExecuteTime": {
     "end_time": "2020-06-09T15:09:40.574316Z",
     "start_time": "2020-06-09T15:09:40.570709Z"
    }
   },
   "outputs": [],
   "source": [
    "import pandas as pd\n",
    "import datetime as dt\n",
    "import time"
   ]
  },
  {
   "cell_type": "code",
   "execution_count": 2,
   "metadata": {
    "ExecuteTime": {
     "end_time": "2020-06-09T14:58:50.174731Z",
     "start_time": "2020-06-09T14:58:50.171717Z"
    }
   },
   "outputs": [],
   "source": [
    "path = \"/home/ubuntu/classify_records.csv\""
   ]
  },
  {
   "cell_type": "code",
   "execution_count": 22,
   "metadata": {
    "ExecuteTime": {
     "end_time": "2020-06-09T15:15:12.139366Z",
     "start_time": "2020-06-09T15:15:12.135198Z"
    }
   },
   "outputs": [],
   "source": [
    "def str_to_timedelta(string):\n",
    "    t = dt.datetime.strptime(string, \"%H:%M:%S\")\n",
    "    return dt.timedelta(hours=t.hour, minutes=t.minute, seconds=t.second)"
   ]
  },
  {
   "cell_type": "code",
   "execution_count": 23,
   "metadata": {
    "ExecuteTime": {
     "end_time": "2020-06-09T15:15:20.939721Z",
     "start_time": "2020-06-09T15:15:20.913685Z"
    }
   },
   "outputs": [],
   "source": [
    "df = pd.read_csv(path, sep='\\t', skiprows=114, parse_dates=[2, 3, 4], date_parser=str_to_timedelta)"
   ]
  },
  {
   "cell_type": "code",
   "execution_count": 24,
   "metadata": {
    "ExecuteTime": {
     "end_time": "2020-06-09T15:15:21.660421Z",
     "start_time": "2020-06-09T15:15:21.633594Z"
    }
   },
   "outputs": [
    {
     "data": {
      "text/html": [
       "<div>\n",
       "<style scoped>\n",
       "    .dataframe tbody tr th:only-of-type {\n",
       "        vertical-align: middle;\n",
       "    }\n",
       "\n",
       "    .dataframe tbody tr th {\n",
       "        vertical-align: top;\n",
       "    }\n",
       "\n",
       "    .dataframe thead th {\n",
       "        text-align: right;\n",
       "    }\n",
       "</style>\n",
       "<table border=\"1\" class=\"dataframe\">\n",
       "  <thead>\n",
       "    <tr style=\"text-align: right;\">\n",
       "      <th></th>\n",
       "      <th>FILE</th>\n",
       "      <th>BINS_vs_FULL</th>\n",
       "      <th>BINNING</th>\n",
       "      <th>CLASSIFY</th>\n",
       "      <th>TOTAL</th>\n",
       "      <th>HASHES_SIZE</th>\n",
       "      <th>NB_BINS</th>\n",
       "      <th>HASH_PATH</th>\n",
       "      <th>HASH_NAME</th>\n",
       "    </tr>\n",
       "  </thead>\n",
       "  <tbody>\n",
       "    <tr>\n",
       "      <th>0</th>\n",
       "      <td>2019-11-26_100000-SyntReads_20-BacGut.fasta</td>\n",
       "      <td>bins</td>\n",
       "      <td>00:05:32</td>\n",
       "      <td>00:11:10</td>\n",
       "      <td>00:16:43</td>\n",
       "      <td>32.65GB</td>\n",
       "      <td>18</td>\n",
       "      <td>/mnt/hdd3000/Segmentation/k4_s25000/minikm_b20...</td>\n",
       "      <td>minikm_b20_k4_s25000_oplant-vertebrate</td>\n",
       "    </tr>\n",
       "    <tr>\n",
       "      <th>1</th>\n",
       "      <td>2019-11-26_100000-SyntReads_20-BacGut.fasta</td>\n",
       "      <td>bins</td>\n",
       "      <td>00:16:46</td>\n",
       "      <td>00:08:56</td>\n",
       "      <td>00:25:43</td>\n",
       "      <td>33.91GB</td>\n",
       "      <td>46</td>\n",
       "      <td>/mnt/hdd3000/Segmentation/k4_s25000/minikm_b50...</td>\n",
       "      <td>minikm_b50_k4_s25000_oplant-vertebrate</td>\n",
       "    </tr>\n",
       "    <tr>\n",
       "      <th>2</th>\n",
       "      <td>20-WindowReads_10-EColiTest.fasta</td>\n",
       "      <td>bins</td>\n",
       "      <td>00:00:00</td>\n",
       "      <td>00:00:32</td>\n",
       "      <td>00:00:33</td>\n",
       "      <td>3.16GB</td>\n",
       "      <td>2</td>\n",
       "      <td>/mnt/hdd3000/Segmentation/k3_s10000/minikm_b20...</td>\n",
       "      <td>minikm_b20_k3_s10000_oplant-vertebrate</td>\n",
       "    </tr>\n",
       "    <tr>\n",
       "      <th>3</th>\n",
       "      <td>20-WindowReads_10-EColiTest.fasta</td>\n",
       "      <td>bins</td>\n",
       "      <td>00:00:01</td>\n",
       "      <td>00:01:25</td>\n",
       "      <td>00:01:27</td>\n",
       "      <td>3.20GB</td>\n",
       "      <td>4</td>\n",
       "      <td>/mnt/hdd3000/Segmentation/k3_s10000/minikm_b50...</td>\n",
       "      <td>minikm_b50_k3_s10000_oplant-vertebrate</td>\n",
       "    </tr>\n",
       "    <tr>\n",
       "      <th>4</th>\n",
       "      <td>Mock_1000-uniform-allkingdoms.fastq</td>\n",
       "      <td>bins</td>\n",
       "      <td>00:00:08</td>\n",
       "      <td>00:12:43</td>\n",
       "      <td>00:12:51</td>\n",
       "      <td>36.54GB</td>\n",
       "      <td>46</td>\n",
       "      <td>/mnt/hdd3000/Segmentation/k3_s10000/minikm_b50...</td>\n",
       "      <td>minikm_b50_k3_s10000_oplant-vertebrate</td>\n",
       "    </tr>\n",
       "    <tr>\n",
       "      <th>...</th>\n",
       "      <td>...</td>\n",
       "      <td>...</td>\n",
       "      <td>...</td>\n",
       "      <td>...</td>\n",
       "      <td>...</td>\n",
       "      <td>...</td>\n",
       "      <td>...</td>\n",
       "      <td>...</td>\n",
       "      <td>...</td>\n",
       "    </tr>\n",
       "    <tr>\n",
       "      <th>161</th>\n",
       "      <td>human-2euka-1archaea-46-bac-100k.fastq</td>\n",
       "      <td>full</td>\n",
       "      <td>00:00:00</td>\n",
       "      <td>00:02:00</td>\n",
       "      <td>00:02:00</td>\n",
       "      <td>33.02GB</td>\n",
       "      <td>1</td>\n",
       "      <td>/mnt/data/Segmentation/no-binning</td>\n",
       "      <td>no-binning</td>\n",
       "    </tr>\n",
       "    <tr>\n",
       "      <th>162</th>\n",
       "      <td>50-bac-100k.fastq</td>\n",
       "      <td>bins</td>\n",
       "      <td>00:07:24</td>\n",
       "      <td>00:04:35</td>\n",
       "      <td>00:11:59</td>\n",
       "      <td>33.18GB</td>\n",
       "      <td>9</td>\n",
       "      <td>/mnt/data/Segmentation/k3_s5000/minikm_b10_k3_...</td>\n",
       "      <td>minikm_b10_k3_s5000_oplant-vertebrate</td>\n",
       "    </tr>\n",
       "    <tr>\n",
       "      <th>163</th>\n",
       "      <td>50-bac-100k.fastq</td>\n",
       "      <td>bins</td>\n",
       "      <td>00:07:08</td>\n",
       "      <td>00:05:06</td>\n",
       "      <td>00:12:15</td>\n",
       "      <td>35.53GB</td>\n",
       "      <td>10</td>\n",
       "      <td>/mnt/data/Segmentation/k4_s5000/minikm_b10_k4_...</td>\n",
       "      <td>minikm_b10_k4_s5000_oplant-vertebrate</td>\n",
       "    </tr>\n",
       "    <tr>\n",
       "      <th>164</th>\n",
       "      <td>human-pathogen.fastq</td>\n",
       "      <td>full</td>\n",
       "      <td>00:00:00</td>\n",
       "      <td>00:03:16</td>\n",
       "      <td>00:03:16</td>\n",
       "      <td>33.02GB</td>\n",
       "      <td>1</td>\n",
       "      <td>/mnt/data/Segmentation/no-binning</td>\n",
       "      <td>no-binning</td>\n",
       "    </tr>\n",
       "    <tr>\n",
       "      <th>165</th>\n",
       "      <td>silico-3-euka-bac-100k-reads.fastq</td>\n",
       "      <td>full</td>\n",
       "      <td>00:00:00</td>\n",
       "      <td>00:03:43</td>\n",
       "      <td>00:03:43</td>\n",
       "      <td>33.02GB</td>\n",
       "      <td>1</td>\n",
       "      <td>/mnt/data/Segmentation/no-binning</td>\n",
       "      <td>no-binning</td>\n",
       "    </tr>\n",
       "  </tbody>\n",
       "</table>\n",
       "<p>166 rows × 9 columns</p>\n",
       "</div>"
      ],
      "text/plain": [
       "                                            FILE BINS_vs_FULL  BINNING  \\\n",
       "0    2019-11-26_100000-SyntReads_20-BacGut.fasta         bins 00:05:32   \n",
       "1    2019-11-26_100000-SyntReads_20-BacGut.fasta         bins 00:16:46   \n",
       "2              20-WindowReads_10-EColiTest.fasta         bins 00:00:00   \n",
       "3              20-WindowReads_10-EColiTest.fasta         bins 00:00:01   \n",
       "4            Mock_1000-uniform-allkingdoms.fastq         bins 00:00:08   \n",
       "..                                           ...          ...      ...   \n",
       "161       human-2euka-1archaea-46-bac-100k.fastq         full 00:00:00   \n",
       "162                            50-bac-100k.fastq         bins 00:07:24   \n",
       "163                            50-bac-100k.fastq         bins 00:07:08   \n",
       "164                         human-pathogen.fastq         full 00:00:00   \n",
       "165           silico-3-euka-bac-100k-reads.fastq         full 00:00:00   \n",
       "\n",
       "    CLASSIFY    TOTAL HASHES_SIZE  NB_BINS  \\\n",
       "0   00:11:10 00:16:43     32.65GB       18   \n",
       "1   00:08:56 00:25:43     33.91GB       46   \n",
       "2   00:00:32 00:00:33      3.16GB        2   \n",
       "3   00:01:25 00:01:27      3.20GB        4   \n",
       "4   00:12:43 00:12:51     36.54GB       46   \n",
       "..       ...      ...         ...      ...   \n",
       "161 00:02:00 00:02:00     33.02GB        1   \n",
       "162 00:04:35 00:11:59     33.18GB        9   \n",
       "163 00:05:06 00:12:15     35.53GB       10   \n",
       "164 00:03:16 00:03:16     33.02GB        1   \n",
       "165 00:03:43 00:03:43     33.02GB        1   \n",
       "\n",
       "                                             HASH_PATH  \\\n",
       "0    /mnt/hdd3000/Segmentation/k4_s25000/minikm_b20...   \n",
       "1    /mnt/hdd3000/Segmentation/k4_s25000/minikm_b50...   \n",
       "2    /mnt/hdd3000/Segmentation/k3_s10000/minikm_b20...   \n",
       "3    /mnt/hdd3000/Segmentation/k3_s10000/minikm_b50...   \n",
       "4    /mnt/hdd3000/Segmentation/k3_s10000/minikm_b50...   \n",
       "..                                                 ...   \n",
       "161                  /mnt/data/Segmentation/no-binning   \n",
       "162  /mnt/data/Segmentation/k3_s5000/minikm_b10_k3_...   \n",
       "163  /mnt/data/Segmentation/k4_s5000/minikm_b10_k4_...   \n",
       "164                  /mnt/data/Segmentation/no-binning   \n",
       "165                  /mnt/data/Segmentation/no-binning   \n",
       "\n",
       "                                  HASH_NAME  \n",
       "0    minikm_b20_k4_s25000_oplant-vertebrate  \n",
       "1    minikm_b50_k4_s25000_oplant-vertebrate  \n",
       "2    minikm_b20_k3_s10000_oplant-vertebrate  \n",
       "3    minikm_b50_k3_s10000_oplant-vertebrate  \n",
       "4    minikm_b50_k3_s10000_oplant-vertebrate  \n",
       "..                                      ...  \n",
       "161                              no-binning  \n",
       "162   minikm_b10_k3_s5000_oplant-vertebrate  \n",
       "163   minikm_b10_k4_s5000_oplant-vertebrate  \n",
       "164                              no-binning  \n",
       "165                              no-binning  \n",
       "\n",
       "[166 rows x 9 columns]"
      ]
     },
     "execution_count": 24,
     "metadata": {},
     "output_type": "execute_result"
    }
   ],
   "source": [
    "df"
   ]
  },
  {
   "cell_type": "code",
   "execution_count": 29,
   "metadata": {
    "ExecuteTime": {
     "end_time": "2020-06-09T15:26:51.598241Z",
     "start_time": "2020-06-09T15:26:51.593387Z"
    }
   },
   "outputs": [],
   "source": [
    "fastq_sizes = {\n",
    "    '2019-11-26_100000-SyntReads_20-BacGut.fasta':  576403338,\n",
    "    '20-WindowReads_10-EColiTest.fasta'          :     207678,\n",
    "    'Mock_1000-uniform-allkingdoms.fastq'        :   14527718,\n",
    "    'Mock_100000-bacteria-l1000-q10.fastq'       : 1489571241,\n",
    "    'silico-10-bacteria-20k-reads-500-1k.fastq'  :   31969496,\n",
    "    'silico-10-bacteria-20k-reads-1k-2k.fastq'   :   63471224,\n",
    "    'silico-10-bacteria-20k-reads-2k-5k.fastq'   :  131071153,\n",
    "    'silico-10-bacteria-20k-reads-5k-10k.fastq'  :  284158845,\n",
    "    'Mock_10000-uniform-bacteria-l1000-q8.fastq' :  155332584,\n",
    "    'silico-10-bacteria-100k-reads.fastq'        : 1611115246,\n",
    "    'silico-30p-human-70p-bac.fastq'             : 1308994366,\n",
    "    '50-bac-100k.fastq'                          : 1246611471,\n",
    "    'human-2euka-1archaea-46-bac-100k.fastq'     : 1770779323,\n",
    "    'human-pathogen.fastq'                       : 2585649335,\n",
    "    'silico-3-euka-bac-100k-reads.fastq'         : 2255148585,\n",
    "}"
   ]
  },
  {
   "cell_type": "code",
   "execution_count": null,
   "metadata": {},
   "outputs": [],
   "source": []
  },
  {
   "cell_type": "code",
   "execution_count": null,
   "metadata": {},
   "outputs": [],
   "source": []
  },
  {
   "cell_type": "code",
   "execution_count": null,
   "metadata": {},
   "outputs": [],
   "source": []
  },
  {
   "cell_type": "code",
   "execution_count": null,
   "metadata": {},
   "outputs": [],
   "source": []
  },
  {
   "cell_type": "code",
   "execution_count": null,
   "metadata": {},
   "outputs": [],
   "source": []
  },
  {
   "cell_type": "code",
   "execution_count": null,
   "metadata": {},
   "outputs": [],
   "source": []
  },
  {
   "cell_type": "code",
   "execution_count": null,
   "metadata": {},
   "outputs": [],
   "source": []
  },
  {
   "cell_type": "code",
   "execution_count": null,
   "metadata": {},
   "outputs": [],
   "source": []
  }
 ],
 "metadata": {
  "hide_input": false,
  "kernelspec": {
   "display_name": "Python 3",
   "language": "python",
   "name": "python3"
  },
  "language_info": {
   "codemirror_mode": {
    "name": "ipython",
    "version": 3
   },
   "file_extension": ".py",
   "mimetype": "text/x-python",
   "name": "python",
   "nbconvert_exporter": "python",
   "pygments_lexer": "ipython3",
   "version": "3.7.3"
  },
  "toc": {
   "base_numbering": 1,
   "nav_menu": {},
   "number_sections": true,
   "sideBar": true,
   "skip_h1_title": false,
   "title_cell": "Table of Contents",
   "title_sidebar": "Contents",
   "toc_cell": false,
   "toc_position": {},
   "toc_section_display": true,
   "toc_window_display": false
  },
  "varInspector": {
   "cols": {
    "lenName": 16,
    "lenType": 16,
    "lenVar": 40
   },
   "kernels_config": {
    "python": {
     "delete_cmd_postfix": "",
     "delete_cmd_prefix": "del ",
     "library": "var_list.py",
     "varRefreshCmd": "print(var_dic_list())"
    },
    "r": {
     "delete_cmd_postfix": ") ",
     "delete_cmd_prefix": "rm(",
     "library": "var_list.r",
     "varRefreshCmd": "cat(var_dic_list()) "
    }
   },
   "types_to_exclude": [
    "module",
    "function",
    "builtin_function_or_method",
    "instance",
    "_Feature"
   ],
   "window_display": false
  }
 },
 "nbformat": 4,
 "nbformat_minor": 2
}
