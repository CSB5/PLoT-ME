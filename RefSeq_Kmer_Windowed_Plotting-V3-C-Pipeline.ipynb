{
 "cells": [
  {
   "cell_type": "markdown",
   "metadata": {
    "deletable": true,
    "editable": true
   },
   "source": [
    "# Exploring the reference database\n",
    "Let's see what properties we can find :) <br>\n",
    "Let's put more data into it !"
   ]
  },
  {
   "cell_type": "markdown",
   "metadata": {
    "deletable": true,
    "editable": true
   },
   "source": [
    "## TODOs\n",
    " - scale frequency spectrum before\n",
    " - species level precision (instead of strand level)\n",
    " - automate all : \n",
    "  - PCA/LDA/Autoencoder/nothing\n",
    "  - number of bacteria and samples\n",
    " - treat plasmids differently\n",
    " - try with real Nanopore reads\n",
    " - unsupervised learning on all windows into 10 bins ?\n",
    " - hierarchical clustering ??\n",
    " - clustering with minimal distance\n",
    " - taxo id to family or genus\n",
    " - tsne plot\n",
    " - Add **Visualisation** : https://pandas.pydata.org/pandas-docs/stable/user_guide/visualization.html\n",
    " - Save each case, not each run. don't run cases that have already been computed."
   ]
  },
  {
   "cell_type": "markdown",
   "metadata": {
    "deletable": true,
    "editable": true
   },
   "source": [
    "## Structure\n",
    "In `genome/`, there's multiple sub-folder, we will start with `Bacteria`\n",
    "It then contains all recorded species/strands in individual folders\n"
   ]
  },
  {
   "cell_type": "markdown",
   "metadata": {
    "deletable": true,
    "editable": true
   },
   "source": [
    "http://defindit.com/readme_files/ncbi_file_extension_format.html"
   ]
  },
  {
   "cell_type": "markdown",
   "metadata": {
    "deletable": true,
    "editable": true
   },
   "source": [
    "What we need is the taxo id, name, and the DNA, which can be found in:\n",
    " - .gbk for the taxo and name\n",
    " - .fna for the sequence"
   ]
  },
  {
   "cell_type": "markdown",
   "metadata": {
    "deletable": true,
    "editable": true
   },
   "source": [
    "## Coding\n",
    "### Import and Paths"
   ]
  },
  {
   "cell_type": "code",
   "execution_count": 1,
   "metadata": {
    "collapsed": true,
    "deletable": true,
    "editable": true
   },
   "outputs": [],
   "source": [
    "import os\n",
    "import pandas as pd\n",
    "import numpy as np\n",
    "import pickle\n",
    "import traceback\n",
    "from datetime import datetime as dt\n",
    "from time import time\n",
    "from tqdm import tqdm_notebook as tqdm"
   ]
  },
  {
   "cell_type": "code",
   "execution_count": 2,
   "metadata": {
    "collapsed": true,
    "deletable": true,
    "editable": true
   },
   "outputs": [],
   "source": [
    "from sklearn.preprocessing import MinMaxScaler, scale\n",
    "from sklearn.pipeline import Pipeline\n",
    "from sklearn.decomposition import PCA\n",
    "from sklearn.discriminant_analysis import LinearDiscriminantAnalysis\n",
    "import matplotlib.pyplot as plt"
   ]
  },
  {
   "cell_type": "code",
   "execution_count": 3,
   "metadata": {
    "collapsed": true,
    "deletable": true,
    "editable": true
   },
   "outputs": [],
   "source": [
    "from sklearn import linear_model\n",
    "from sklearn.svm import SVC\n",
    "from sklearn.tree import DecisionTreeClassifier\n",
    "from sklearn.ensemble import RandomForestClassifier, AdaBoostClassifier\n",
    "from sklearn.neighbors import KNeighborsClassifier\n",
    "from sklearn.linear_model import ElasticNet\n",
    "from sklearn.neural_network import MLPClassifier\n",
    "from sklearn.gaussian_process.kernels import RBF\n",
    "from sklearn.gaussian_process import GaussianProcessClassifier\n",
    "from sklearn.naive_bayes import GaussianNB\n",
    "from sklearn.discriminant_analysis import QuadraticDiscriminantAnalysis\n",
    "\n",
    "from sklearn.model_selection import train_test_split\n",
    "from sklearn.metrics import mean_squared_error, r2_score"
   ]
  },
  {
   "cell_type": "code",
   "execution_count": 4,
   "metadata": {
    "collapsed": true,
    "deletable": true,
    "editable": true
   },
   "outputs": [],
   "source": [
    "plt.rcParams['figure.figsize'] = 13, 8"
   ]
  },
  {
   "cell_type": "code",
   "execution_count": 5,
   "metadata": {
    "collapsed": true,
    "deletable": true,
    "editable": true
   },
   "outputs": [],
   "source": [
    "pd.options.display.float_format = '{:,.2f}'.format"
   ]
  },
  {
   "cell_type": "code",
   "execution_count": 6,
   "metadata": {
    "collapsed": true,
    "deletable": true,
    "editable": true
   },
   "outputs": [],
   "source": [
    "path_ref_db = \"/mnt/genomeDB/ncbi/genomes/Bacteria/\"\n",
    "path_kmer_freq = \"/home/sjriondet/Data/Kmer_frequencies/\""
   ]
  },
  {
   "cell_type": "code",
   "execution_count": 7,
   "metadata": {
    "collapsed": true,
    "deletable": true,
    "editable": true
   },
   "outputs": [],
   "source": [
    "path_4mer = \"4_V4_10k/\"\n",
    "path_4mer = os.path.join(path_kmer_freq, path_4mer)"
   ]
  },
  {
   "cell_type": "code",
   "execution_count": 8,
   "metadata": {
    "collapsed": false,
    "deletable": true,
    "editable": true
   },
   "outputs": [
    {
     "data": {
      "text/plain": [
       "'/home/sjriondet/Data/Kmer_frequencies/4_V4_10k/_all_bacteria_4mers.largepd'"
      ]
     },
     "execution_count": 8,
     "metadata": {},
     "output_type": "execute_result"
    }
   ],
   "source": [
    "path_all = os.path.join(path_4mer, \"_all_bacteria_4mers.largepd\")\n",
    "path_all"
   ]
  },
  {
   "cell_type": "markdown",
   "metadata": {
    "deletable": true,
    "editable": true
   },
   "source": [
    "## Main dataset"
   ]
  },
  {
   "cell_type": "markdown",
   "metadata": {
    "deletable": true,
    "editable": true
   },
   "source": [
    "Load the whole dataset. Will take a while !!"
   ]
  },
  {
   "cell_type": "code",
   "execution_count": 9,
   "metadata": {
    "collapsed": false,
    "deletable": true,
    "editable": true
   },
   "outputs": [],
   "source": [
    "all_all_df = pd.read_pickle(path_all)"
   ]
  },
  {
   "cell_type": "code",
   "execution_count": 10,
   "metadata": {
    "collapsed": false,
    "deletable": true,
    "editable": true
   },
   "outputs": [],
   "source": [
    "cols_kmers = all_all_df.columns.to_list()[4:]"
   ]
  },
  {
   "cell_type": "code",
   "execution_count": 11,
   "metadata": {
    "collapsed": false,
    "deletable": true,
    "editable": true
   },
   "outputs": [],
   "source": [
    "cols_spe = sorted(list(set(all_all_df.columns.to_list()).difference(set(cols_kmers))))"
   ]
  },
  {
   "cell_type": "code",
   "execution_count": 12,
   "metadata": {
    "collapsed": true,
    "deletable": true,
    "editable": true
   },
   "outputs": [],
   "source": [
    "for col in cols_kmers:\n",
    "    all_all_df[col] = all_all_df[col].astype('float64')"
   ]
  },
  {
   "cell_type": "code",
   "execution_count": 13,
   "metadata": {
    "collapsed": false,
    "deletable": true,
    "editable": true,
    "scrolled": false
   },
   "outputs": [
    {
     "data": {
      "text/html": [
       "<div>\n",
       "<style scoped>\n",
       "    .dataframe tbody tr th:only-of-type {\n",
       "        vertical-align: middle;\n",
       "    }\n",
       "\n",
       "    .dataframe tbody tr th {\n",
       "        vertical-align: top;\n",
       "    }\n",
       "\n",
       "    .dataframe thead th {\n",
       "        text-align: right;\n",
       "    }\n",
       "</style>\n",
       "<table border=\"1\" class=\"dataframe\">\n",
       "  <thead>\n",
       "    <tr style=\"text-align: right;\">\n",
       "      <th></th>\n",
       "      <th>bacteria</th>\n",
       "      <th>fna</th>\n",
       "      <th>len_genome</th>\n",
       "      <th>start</th>\n",
       "      <th>AAAA</th>\n",
       "      <th>AAAC</th>\n",
       "      <th>AAAG</th>\n",
       "      <th>AAAT</th>\n",
       "      <th>AACA</th>\n",
       "      <th>AACC</th>\n",
       "      <th>...</th>\n",
       "      <th>TTCG</th>\n",
       "      <th>TTCT</th>\n",
       "      <th>TTGA</th>\n",
       "      <th>TTGC</th>\n",
       "      <th>TTGG</th>\n",
       "      <th>TTGT</th>\n",
       "      <th>TTTA</th>\n",
       "      <th>TTTC</th>\n",
       "      <th>TTTG</th>\n",
       "      <th>TTTT</th>\n",
       "    </tr>\n",
       "  </thead>\n",
       "  <tbody>\n",
       "    <tr>\n",
       "      <th>181</th>\n",
       "      <td>Geobacillus_JF8_uid215234</td>\n",
       "      <td>NC_022080</td>\n",
       "      <td>3446630</td>\n",
       "      <td>1810000</td>\n",
       "      <td>97.00</td>\n",
       "      <td>71.00</td>\n",
       "      <td>49.00</td>\n",
       "      <td>93.00</td>\n",
       "      <td>67.00</td>\n",
       "      <td>43.00</td>\n",
       "      <td>...</td>\n",
       "      <td>39.00</td>\n",
       "      <td>69.00</td>\n",
       "      <td>56.00</td>\n",
       "      <td>65.00</td>\n",
       "      <td>38.00</td>\n",
       "      <td>68.00</td>\n",
       "      <td>72.00</td>\n",
       "      <td>114.00</td>\n",
       "      <td>93.00</td>\n",
       "      <td>172.00</td>\n",
       "    </tr>\n",
       "    <tr>\n",
       "      <th>266</th>\n",
       "      <td>Desulfosporosinus_meridiei_DSM_13257_uid75097</td>\n",
       "      <td>NC_018515</td>\n",
       "      <td>4873567</td>\n",
       "      <td>2660000</td>\n",
       "      <td>41.00</td>\n",
       "      <td>45.00</td>\n",
       "      <td>56.00</td>\n",
       "      <td>50.00</td>\n",
       "      <td>58.00</td>\n",
       "      <td>45.00</td>\n",
       "      <td>...</td>\n",
       "      <td>33.00</td>\n",
       "      <td>87.00</td>\n",
       "      <td>54.00</td>\n",
       "      <td>52.00</td>\n",
       "      <td>44.00</td>\n",
       "      <td>42.00</td>\n",
       "      <td>79.00</td>\n",
       "      <td>85.00</td>\n",
       "      <td>62.00</td>\n",
       "      <td>111.00</td>\n",
       "    </tr>\n",
       "    <tr>\n",
       "      <th>65</th>\n",
       "      <td>Lactobacillus_amylovorus_GRL1118_uid160233</td>\n",
       "      <td>NC_017470</td>\n",
       "      <td>1894401</td>\n",
       "      <td>650000</td>\n",
       "      <td>175.00</td>\n",
       "      <td>56.00</td>\n",
       "      <td>98.00</td>\n",
       "      <td>101.00</td>\n",
       "      <td>44.00</td>\n",
       "      <td>35.00</td>\n",
       "      <td>...</td>\n",
       "      <td>25.00</td>\n",
       "      <td>47.00</td>\n",
       "      <td>112.00</td>\n",
       "      <td>64.00</td>\n",
       "      <td>60.00</td>\n",
       "      <td>47.00</td>\n",
       "      <td>106.00</td>\n",
       "      <td>60.00</td>\n",
       "      <td>108.00</td>\n",
       "      <td>142.00</td>\n",
       "    </tr>\n",
       "    <tr>\n",
       "      <th>355</th>\n",
       "      <td>Clostridium_phytofermentans_ISDg_uid58519</td>\n",
       "      <td>NC_010001</td>\n",
       "      <td>4847594</td>\n",
       "      <td>3550000</td>\n",
       "      <td>117.00</td>\n",
       "      <td>65.00</td>\n",
       "      <td>58.00</td>\n",
       "      <td>94.00</td>\n",
       "      <td>72.00</td>\n",
       "      <td>33.00</td>\n",
       "      <td>...</td>\n",
       "      <td>35.00</td>\n",
       "      <td>113.00</td>\n",
       "      <td>53.00</td>\n",
       "      <td>41.00</td>\n",
       "      <td>39.00</td>\n",
       "      <td>45.00</td>\n",
       "      <td>123.00</td>\n",
       "      <td>94.00</td>\n",
       "      <td>71.00</td>\n",
       "      <td>196.00</td>\n",
       "    </tr>\n",
       "    <tr>\n",
       "      <th>46</th>\n",
       "      <td>Polynucleobacter_necessarius_STIR1_uid58967</td>\n",
       "      <td>NC_010531</td>\n",
       "      <td>1560469</td>\n",
       "      <td>460000</td>\n",
       "      <td>90.00</td>\n",
       "      <td>34.00</td>\n",
       "      <td>67.00</td>\n",
       "      <td>62.00</td>\n",
       "      <td>22.00</td>\n",
       "      <td>27.00</td>\n",
       "      <td>...</td>\n",
       "      <td>41.00</td>\n",
       "      <td>48.00</td>\n",
       "      <td>76.00</td>\n",
       "      <td>92.00</td>\n",
       "      <td>95.00</td>\n",
       "      <td>52.00</td>\n",
       "      <td>86.00</td>\n",
       "      <td>49.00</td>\n",
       "      <td>102.00</td>\n",
       "      <td>92.00</td>\n",
       "    </tr>\n",
       "  </tbody>\n",
       "</table>\n",
       "<p>5 rows × 260 columns</p>\n",
       "</div>"
      ],
      "text/plain": [
       "                                          bacteria        fna  len_genome  \\\n",
       "181                      Geobacillus_JF8_uid215234  NC_022080     3446630   \n",
       "266  Desulfosporosinus_meridiei_DSM_13257_uid75097  NC_018515     4873567   \n",
       "65      Lactobacillus_amylovorus_GRL1118_uid160233  NC_017470     1894401   \n",
       "355      Clostridium_phytofermentans_ISDg_uid58519  NC_010001     4847594   \n",
       "46     Polynucleobacter_necessarius_STIR1_uid58967  NC_010531     1560469   \n",
       "\n",
       "       start   AAAA  AAAC  AAAG   AAAT  AACA  AACC  ...  TTCG   TTCT   TTGA  \\\n",
       "181  1810000  97.00 71.00 49.00  93.00 67.00 43.00  ... 39.00  69.00  56.00   \n",
       "266  2660000  41.00 45.00 56.00  50.00 58.00 45.00  ... 33.00  87.00  54.00   \n",
       "65    650000 175.00 56.00 98.00 101.00 44.00 35.00  ... 25.00  47.00 112.00   \n",
       "355  3550000 117.00 65.00 58.00  94.00 72.00 33.00  ... 35.00 113.00  53.00   \n",
       "46    460000  90.00 34.00 67.00  62.00 22.00 27.00  ... 41.00  48.00  76.00   \n",
       "\n",
       "     TTGC  TTGG  TTGT   TTTA   TTTC   TTTG   TTTT  \n",
       "181 65.00 38.00 68.00  72.00 114.00  93.00 172.00  \n",
       "266 52.00 44.00 42.00  79.00  85.00  62.00 111.00  \n",
       "65  64.00 60.00 47.00 106.00  60.00 108.00 142.00  \n",
       "355 41.00 39.00 45.00 123.00  94.00  71.00 196.00  \n",
       "46  92.00 95.00 52.00  86.00  49.00 102.00  92.00  \n",
       "\n",
       "[5 rows x 260 columns]"
      ]
     },
     "execution_count": 13,
     "metadata": {},
     "output_type": "execute_result"
    }
   ],
   "source": [
    "all_all_df.sample(5)"
   ]
  },
  {
   "cell_type": "code",
   "execution_count": 14,
   "metadata": {
    "collapsed": false,
    "deletable": true,
    "editable": true
   },
   "outputs": [
    {
     "data": {
      "text/plain": [
       "(953798, 260)"
      ]
     },
     "execution_count": 14,
     "metadata": {},
     "output_type": "execute_result"
    }
   ],
   "source": [
    "all_all_df.shape"
   ]
  },
  {
   "cell_type": "code",
   "execution_count": 15,
   "metadata": {
    "collapsed": false,
    "deletable": true,
    "editable": true
   },
   "outputs": [
    {
     "data": {
      "text/plain": [
       "2782"
      ]
     },
     "execution_count": 15,
     "metadata": {},
     "output_type": "execute_result"
    }
   ],
   "source": [
    "unique_bacteria = len(all_all_df.bacteria.unique())\n",
    "unique_bacteria"
   ]
  },
  {
   "cell_type": "code",
   "execution_count": 16,
   "metadata": {
    "collapsed": true,
    "deletable": true,
    "editable": true
   },
   "outputs": [],
   "source": [
    "all_df = all_all_df[all_all_df.bacteria.isin(all_all_df.bacteria.unique()[:100])].sample(10000)"
   ]
  },
  {
   "cell_type": "code",
   "execution_count": null,
   "metadata": {
    "collapsed": true,
    "deletable": true,
    "editable": true
   },
   "outputs": [],
   "source": []
  },
  {
   "cell_type": "markdown",
   "metadata": {
    "deletable": true,
    "editable": true
   },
   "source": [
    "## Reduction possibilities"
   ]
  },
  {
   "cell_type": "markdown",
   "metadata": {
    "deletable": true,
    "editable": true
   },
   "source": [
    "### PCA Principal Component Analysis\n",
    "Reducing dimension from 256 to ~10"
   ]
  },
  {
   "cell_type": "code",
   "execution_count": 17,
   "metadata": {
    "collapsed": true,
    "deletable": true,
    "editable": true
   },
   "outputs": [],
   "source": [
    "components = 50"
   ]
  },
  {
   "cell_type": "code",
   "execution_count": 18,
   "metadata": {
    "collapsed": false,
    "deletable": true,
    "editable": true
   },
   "outputs": [
    {
     "data": {
      "text/plain": [
       "PCA(copy=True, iterated_power='auto', n_components=50, random_state=None,\n",
       "  svd_solver='auto', tol=0.0, whiten=False)"
      ]
     },
     "execution_count": 18,
     "metadata": {},
     "output_type": "execute_result"
    }
   ],
   "source": [
    "pca = PCA(n_components=components)\n",
    "pca.fit(all_df[cols_kmers])"
   ]
  },
  {
   "cell_type": "code",
   "execution_count": 19,
   "metadata": {
    "collapsed": false,
    "deletable": true,
    "editable": true,
    "scrolled": true
   },
   "outputs": [
    {
     "data": {
      "image/png": "[encoded data removed]",
      "text/plain": [
       "<Figure size 936x576 with 1 Axes>"
      ]
     },
     "metadata": {},
     "output_type": "display_data"
    },
    {
     "name": "stdout",
     "output_type": "stream",
     "text": [
      "captured by PCA: 96.1%\n"
     ]
    }
   ],
   "source": [
    "plt.scatter(x=range(len(pca.explained_variance_ratio_)+1), \n",
    "            y=np.insert(pca.explained_variance_ratio_.cumsum(), 0, 0))\n",
    "plt.show()\n",
    "print(f\"captured by PCA: {sum(pca.explained_variance_ratio_)*100:0.1f}%\")"
   ]
  },
  {
   "cell_type": "code",
   "execution_count": 20,
   "metadata": {
    "collapsed": false,
    "deletable": true,
    "editable": true
   },
   "outputs": [],
   "source": [
    "cols_pca = [f\"pca_{i+1}\" for i in range(components)]"
   ]
  },
  {
   "cell_type": "code",
   "execution_count": 21,
   "metadata": {
    "collapsed": false,
    "deletable": true,
    "editable": true
   },
   "outputs": [
    {
     "data": {
      "text/plain": [
       "(10000, 55)"
      ]
     },
     "execution_count": 21,
     "metadata": {},
     "output_type": "execute_result"
    }
   ],
   "source": [
    "np_pca = pca.transform(all_df[cols_kmers])\n",
    "df_pca = pd.DataFrame(np_pca, columns=cols_pca)\n",
    "df_pca = pd.concat([all_df[cols_spe].reset_index(inplace=False, drop=True), df_pca], axis=1) # , ignore_index=True)\n",
    "df_pca[\"color_map\"] = 0\n",
    "for i, bacteria in enumerate(df_pca.bacteria.unique()):\n",
    "    df_pca.loc[df_pca[\"bacteria\"] == bacteria, ['color_map']] = i\n",
    "df_pca.shape"
   ]
  },
  {
   "cell_type": "code",
   "execution_count": 22,
   "metadata": {
    "collapsed": false,
    "deletable": true,
    "editable": true,
    "scrolled": true
   },
   "outputs": [
    {
     "data": {
      "image/png": "[encoded data removed]",
      "text/plain": [
       "<Figure size 936x576 with 2 Axes>"
      ]
     },
     "metadata": {},
     "output_type": "display_data"
    },
    {
     "name": "stdout",
     "output_type": "stream",
     "text": [
      "captured by PCA: 72.6%\n"
     ]
    }
   ],
   "source": [
    "df_pca.sample(1000).plot.scatter(x=\"pca_1\", y=\"pca_2\", s=1, c=\"color_map\", colormap=\"nipy_spectral\")  # gist_ncar\n",
    "plt.show()\n",
    "print(f\"captured by PCA: {sum(pca.explained_variance_ratio_[:2])*100:0.1f}%\")"
   ]
  },
  {
   "cell_type": "markdown",
   "metadata": {
    "deletable": true,
    "editable": true
   },
   "source": [
    "### LDA Linear Discriminant Analysis\n",
    "Another dimension reduction"
   ]
  },
  {
   "cell_type": "code",
   "execution_count": 23,
   "metadata": {
    "collapsed": false,
    "deletable": true,
    "editable": true,
    "scrolled": true
   },
   "outputs": [
    {
     "name": "stdout",
     "output_type": "stream",
     "text": [
      "captured by LDA: 98.2%\n"
     ]
    }
   ],
   "source": [
    "lda = LinearDiscriminantAnalysis(n_components=components)\n",
    "lda.fit(all_df[cols_kmers], all_df.bacteria)\n",
    "print(f\"captured by LDA: {sum(lda.explained_variance_ratio_)*100:0.1f}%\")"
   ]
  },
  {
   "cell_type": "code",
   "execution_count": 24,
   "metadata": {
    "collapsed": false,
    "deletable": true,
    "editable": true,
    "scrolled": true
   },
   "outputs": [
    {
     "data": {
      "image/png": "[encoded data removed]",
      "text/plain": [
       "<Figure size 936x576 with 1 Axes>"
      ]
     },
     "metadata": {},
     "output_type": "display_data"
    },
    {
     "name": "stdout",
     "output_type": "stream",
     "text": [
      "captured by LDA: 98.2%\n"
     ]
    }
   ],
   "source": [
    "plt.scatter(x=range(len(lda.explained_variance_ratio_)+1), \n",
    "            y=np.insert(lda.explained_variance_ratio_.cumsum(), 0, 0),)\n",
    "plt.show()\n",
    "print(f\"captured by LDA: {sum(lda.explained_variance_ratio_)*100:0.1f}%\")"
   ]
  },
  {
   "cell_type": "raw",
   "metadata": {
    "collapsed": false,
    "deletable": true,
    "editable": true,
    "scrolled": true
   },
   "source": [
    "{i+1: cum for i, cum in enumerate(lda.explained_variance_ratio_.cumsum())}"
   ]
  },
  {
   "cell_type": "code",
   "execution_count": 25,
   "metadata": {
    "collapsed": false,
    "deletable": true,
    "editable": true
   },
   "outputs": [
    {
     "name": "stdout",
     "output_type": "stream",
     "text": [
      "captured by LDA: 98.2%\n"
     ]
    }
   ],
   "source": [
    "lda = LinearDiscriminantAnalysis(n_components=components)\n",
    "lda.fit(all_df[cols_kmers], all_df.bacteria)\n",
    "print(f\"captured by LDA: {sum(lda.explained_variance_ratio_)*100:0.1f}%\")"
   ]
  },
  {
   "cell_type": "code",
   "execution_count": 26,
   "metadata": {
    "collapsed": false,
    "deletable": true,
    "editable": true
   },
   "outputs": [],
   "source": [
    "np_lda = lda.transform(all_df[cols_kmers])\n",
    "cols_lda = [f\"lda_{i+1}\" for i in range(components)]\n",
    "df_lda = pd.DataFrame(np_lda, columns=cols_lda)\n",
    "df_lda = pd.concat([all_df[cols_spe].reset_index(inplace=False, drop=True), df_lda], axis=1) # , ignore_index=True)\n",
    "df_lda[\"color_map\"] = 0\n",
    "for i, bacteria in enumerate(df_lda.bacteria.unique()):\n",
    "    df_lda.loc[df_lda[\"bacteria\"] == bacteria, ['color_map']] = i"
   ]
  },
  {
   "cell_type": "code",
   "execution_count": 27,
   "metadata": {
    "collapsed": false,
    "deletable": true,
    "editable": true,
    "scrolled": false
   },
   "outputs": [
    {
     "data": {
      "image/png": "[encoded data removed]",
      "text/plain": [
       "<Figure size 936x576 with 2 Axes>"
      ]
     },
     "metadata": {},
     "output_type": "display_data"
    },
    {
     "name": "stdout",
     "output_type": "stream",
     "text": [
      "captured by LDA: 34.7%\n"
     ]
    }
   ],
   "source": [
    "df_lda.sample(1000).plot.scatter(x=\"lda_1\", y=\"lda_2\", s=1, c=\"color_map\", colormap=\"nipy_spectral\")  # gist_ncar\n",
    "plt.show()\n",
    "print(f\"captured by LDA: {sum(lda.explained_variance_ratio_[:2])*100:0.1f}%\")"
   ]
  },
  {
   "cell_type": "markdown",
   "metadata": {
    "deletable": true,
    "editable": true
   },
   "source": [
    "## Functions"
   ]
  },
  {
   "cell_type": "code",
   "execution_count": 28,
   "metadata": {
    "collapsed": false,
    "deletable": true,
    "editable": true
   },
   "outputs": [],
   "source": [
    "def apply_PCA(x, y, components=10):\n",
    "    cols_pca = [f\"pca_{i+1}\" for i in range(components)]\n",
    "    pca = PCA(n_components=components)\n",
    "    np_pca = pca.fit_transform(x)\n",
    "    df_pca = pd.DataFrame(np_pca, columns=cols_pca, index=x.index)\n",
    "    return df_pca, y, sum(pca.explained_variance_ratio_)"
   ]
  },
  {
   "cell_type": "code",
   "execution_count": 29,
   "metadata": {
    "collapsed": false,
    "deletable": true,
    "editable": true,
    "scrolled": true
   },
   "outputs": [],
   "source": [
    "def apply_LDA(x, y, components=10):\n",
    "    cols_lda = [f\"lda_{i+1}\" for i in range(components)]\n",
    "    lda = LinearDiscriminantAnalysis(n_components=components)\n",
    "    np_lda = lda.fit_transform(x, y)\n",
    "    print(np_lda.shape)\n",
    "    df_lda = pd.DataFrame(np_lda, columns=cols_lda, index=x.index)\n",
    "    return df_lda, y, sum(lda.explained_variance_ratio_)"
   ]
  },
  {
   "cell_type": "code",
   "execution_count": 30,
   "metadata": {
    "collapsed": true,
    "deletable": true,
    "editable": true
   },
   "outputs": [],
   "source": [
    "def apply_nothing(x, y, components=None):\n",
    "    return x, y, 1"
   ]
  },
  {
   "cell_type": "code",
   "execution_count": 31,
   "metadata": {
    "collapsed": true,
    "deletable": true,
    "editable": true
   },
   "outputs": [],
   "source": [
    "dim_reduc = {\n",
    "    \"PCA\": apply_PCA,\n",
    "    \"LDA\": apply_LDA,\n",
    "    \"raw\": apply_nothing,\n",
    "}"
   ]
  },
  {
   "cell_type": "code",
   "execution_count": 32,
   "metadata": {
    "collapsed": false,
    "deletable": true,
    "editable": true
   },
   "outputs": [],
   "source": [
    "def save_models(path_models, name_run, models):\n",
    "    for model in tqdm(models_names):\n",
    "        with open(os.path.join(path_models, f\"_{name_run}_{model}.pkl\"), 'wb') as f_out:\n",
    "            pickle.dump(models[model], f_out)"
   ]
  },
  {
   "cell_type": "code",
   "execution_count": 33,
   "metadata": {
    "collapsed": true,
    "deletable": true,
    "editable": true
   },
   "outputs": [],
   "source": [
    "def launch_models(models_names, X_train, y_train, X_test, y_test=None, predict=True, path_models=\"\", name_run=\"\"):\n",
    "    models = {\n",
    "        \"QDA\": QuadraticDiscriminantAnalysis(),\n",
    "        \"Naive_Bayes\": GaussianNB(),\n",
    "        \"RF\": RandomForestClassifier(max_depth=20, random_state=0, n_estimators=100, n_jobs=6),\n",
    "        \"SVM_lin\": SVC(kernel=\"linear\", C=0.025),\n",
    "        \"SVM_rbf\": SVC(kernel='rbf', C=1, gamma='auto', cache_size=1000),   # too slow and memory consumption\n",
    "        \"KNeigh\": KNeighborsClassifier(n_neighbors=20, n_jobs=6),\n",
    "        \"DTree\": DecisionTreeClassifier(max_depth=20),\n",
    "        \"NNet\": MLPClassifier(alpha=1),    # too slow\n",
    "        \"AdaBoost\": AdaBoostClassifier(),  # worse classifier\n",
    "    }\n",
    "    results = {}\n",
    "    for name in tqdm(models_names, disable=False, desc=\"ML_Models\", leave=False, dynamic_ncols=True):\n",
    "        if name in models.keys():\n",
    "#             print(name)\n",
    "            start = time()\n",
    "            results[name] = {}\n",
    "\n",
    "            # Train\n",
    "            models[name].fit(X_train, y_train)\n",
    "            time_fitted = time()\n",
    "            results[name][\"time_fit\"] = time_fitted - start\n",
    "\n",
    "            if predict:\n",
    "                # Predict\n",
    "                predicted = models[name].predict(X_test)\n",
    "                results[name][\"predicted\"] = predicted\n",
    "                time_predicted = time()\n",
    "                results[name][\"time_predict\"] = time_predicted - time_fitted\n",
    "\n",
    "            results[name][\"time\"] = time() - start\n",
    "            \n",
    "    if path_models != \"\" and name_run != \"\": save_models(path_models, name_run, models)\n",
    "    return results"
   ]
  },
  {
   "cell_type": "code",
   "execution_count": 34,
   "metadata": {
    "collapsed": true,
    "deletable": true,
    "editable": true
   },
   "outputs": [],
   "source": [
    "def pred_accuracy(results, y_test):\n",
    "    to_df = {\"Ground_Truth\": y_test}\n",
    "    for name in results.keys():\n",
    "        predicted = results[name][\"predicted\"]\n",
    "        to_df[f\"{name}_pred\"] = predicted\n",
    "        to_df[f\"{name}_strand\"] = (y_test==predicted).astype(int)\n",
    "        to_df[f\"{name}_species\"] = 0\n",
    "        to_df[f\"{name}_genus\"] = 0\n",
    "    pd_res = pd.DataFrame(to_df)\n",
    "\n",
    "    for name in results.keys():\n",
    "        # check if the first split of the species name is egal (corresponds to genus level)\n",
    "        pd_res[f\"{name}_genus\"] = (pd_res.Ground_Truth.str.split(\"_\", 1).str[0] == \\\n",
    "                                         pd_res[f\"{name}_pred\"].str.split(\"_\", 1).str[0]).astype(int)\n",
    "        # Then chec the second, and multiply by the genus (in case some second names are common accross genus)\n",
    "        pd_res[f\"{name}_species\"] = ((pd_res.Ground_Truth.str.split(\"_\", 2).str[1] == \\\n",
    "                                            pd_res[f\"{name}_pred\"].str.split(\"_\", 2).str[1]) \\\n",
    "                                            * pd_res[f\"{name}_genus\"]).astype(int)\n",
    "    \n",
    "    return pd_res"
   ]
  },
  {
   "cell_type": "code",
   "execution_count": 35,
   "metadata": {
    "collapsed": false,
    "deletable": true,
    "editable": true
   },
   "outputs": [],
   "source": [
    "def ranking_ml(pd_res, test_size, results):\n",
    "    ranking = 100 * pd_res.sum(numeric_only=True) / test_size\n",
    "    pd_ranking = pd.DataFrame({\"name\": ranking.index.values, \n",
    "                               \"percentage\": ranking.values})\n",
    "    for times in (\"time\", \"time_fit\", \"time_predict\", ):\n",
    "        pd_ranking[times] = 0\n",
    "        for name in results.keys():\n",
    "            pd_ranking.loc[pd_ranking[\"name\"].str.contains(name), [times]] = results[name][times]\n",
    "    return pd_ranking.sort_values(by=[\"percentage\"], ascending=False)"
   ]
  },
  {
   "cell_type": "markdown",
   "metadata": {
    "deletable": true,
    "editable": true
   },
   "source": [
    "# Pipeline"
   ]
  },
  {
   "cell_type": "code",
   "execution_count": 51,
   "metadata": {
    "collapsed": false,
    "deletable": true,
    "editable": true
   },
   "outputs": [],
   "source": [
    "def run_all_param(df_initial, ml_models, path_4mer=path_4mer, path_models=\"ml_models/\", n_samples=10000, n_bacteria=100,\n",
    "                  dim_reduc_tool=\"LDA\", components=10, test_ratio=0.1, random_seed=0,):\n",
    "    \n",
    "    path_models = os.path.join(path_4mer, path_models)\n",
    "    if n_bacteria < 0:\n",
    "        n_bacteria = len(df_initial.bacteria.unique())\n",
    "        df_down_sampled = df_initial\n",
    "    else:\n",
    "        df_down_sampled = df_initial[df_initial.bacteria.isin(df_initial.bacteria.unique()[:n_bacteria])]\n",
    "    \n",
    "    if n_samples < 0:\n",
    "        n_samples = df_down_sampled.shape[0]\n",
    "    df_down_sampled = df_down_sampled.sample(n_samples, random_state=random_seed)\n",
    "    test_size = test_ratio * n_samples\n",
    "\n",
    "    name_run = f\"_{dim_reduc_tool}-{'256' if dim_reduc_tool=='raw' else components}\" \\\n",
    "               f\"_{df_down_sampled.shape[0] if n_samples<0 else n_samples}-samples\" \\\n",
    "               f\"_{unique_bacteria if n_bacteria<0 else n_bacteria}-bac\"\n",
    "    print(f\"\\n\\n{name_run}\")\n",
    "\n",
    "    y = df_down_sampled[\"bacteria\"]\n",
    "    x = df_down_sampled[cols_kmers]\n",
    "\n",
    "    # average each row ?\n",
    "\n",
    "    x, y, variance_captured = dim_reduc[dim_reduc_tool](x, y, components)\n",
    "    print(f\"Variance captured by {dim_reduc_tool} = {variance_captured*100:.2f}%\")\n",
    "\n",
    "    x = pd.DataFrame(scale(x), index=x.index, columns=x.columns)\n",
    "\n",
    "    X_train, X_test, y_train, y_test = train_test_split(x, y, test_size=test_ratio, random_state=random_seed)\n",
    "\n",
    "    results = {}\n",
    "    try:\n",
    "        results = launch_models(ml_models, X_train, y_train, X_test, y_test, path_models, )  # name_run\n",
    "    except Exception as e:\n",
    "        print(\"type error: \" + str(e))\n",
    "        print(traceback.format_exc())\n",
    "        return name_run, results, y_test, variance_captured\n",
    "        \n",
    "    pd_res = pred_accuracy(results, y_test)\n",
    "    pd_res.to_pickle(os.path.join(path_models, f\"_{name_run}_results.pd\"))\n",
    "\n",
    "    pd_ranking = ranking_ml(pd_res, test_size, results)\n",
    "    pd_ranking.to_pickle(os.path.join(path_models, f\"_{name_run}_ranking.pd\"))\n",
    "    return name_run, pd_ranking, pd_res, variance_captured"
   ]
  },
  {
   "cell_type": "code",
   "execution_count": 52,
   "metadata": {
    "collapsed": false,
    "deletable": true,
    "editable": true,
    "scrolled": true
   },
   "outputs": [],
   "source": [
    "def launch_multiple_cases():\n",
    "    all_ranking = {}\n",
    "    all_results = {}\n",
    "    all_dim_reduc = {}\n",
    "    guard = 0\n",
    "    stop = 80\n",
    "\n",
    "    for n_s in tqdm(sample_sizes, desc=\"#Sample\", dynamic_ncols=True):  # 10000,\n",
    "        for n_b in tqdm(bacteria_number, desc=\"#Bacteria\", dynamic_ncols=True, leave=False):\n",
    "            for dim_r in tqdm(dimension_reductions, desc=\"DimReduc\", dynamic_ncols=True, leave=False):  # \"raw\", \n",
    "\n",
    "                # Some combination are not worth or too slow, skip them\n",
    "                if n_s == 10000 and (n_b <= 0 or 500 < n_b):                 continue\n",
    "                if dim_r == \"raw\" and n_s == -1 and (n_b <= 0 or 200 < n_b): continue\n",
    "\n",
    "                name, pd_ranking, pd_res, variance_captured = \\\n",
    "                    run_all_param(all_all_df, ml_models, n_samples=n_s, n_bacteria=n_b, \n",
    "                                  dim_reduc_tool=dim_r, components=20, random_seed=7)\n",
    "\n",
    "                if not isinstance(pd_ranking, dict): print(pd_ranking[:10])\n",
    "                all_ranking[name] = pd_ranking\n",
    "                all_results[name] = pd_res\n",
    "                all_dim_reduc[name] = variance_captured\n",
    "                print(pd_ranking[[\"time_fit\", \"time_predict\"]].describe().loc[[\"mean\"]])\n",
    "\n",
    "                guard += 1\n",
    "                if guard>stop: break\n",
    "            if guard>stop: break\n",
    "        if guard>stop: break\n",
    "\n",
    "    path_models = os.path.join(path_4mer, \"ml_models/\")\n",
    "    now = dt.now().strftime(\"%Y-%m-%d_%H-%M\")\n",
    "    with open(os.path.join(path_models, f\"_all_results_{now}.pkl\"), 'wb') as f: pickle.dump(all_results, f)\n",
    "    with open(os.path.join(path_models, f\"_all_rankings_{now}.pkl\"), 'wb') as f: pickle.dump(all_ranking, f)\n",
    "    print(\"Finished !\")"
   ]
  },
  {
   "cell_type": "raw",
   "metadata": {
    "deletable": true,
    "editable": true
   },
   "source": [
    "run_all_param(all_all_df, path_models=\"ml_models/\", n_samples=10000, n_bacteria=100, dim_reduc_tool=\"PCA\", components=10)"
   ]
  },
  {
   "cell_type": "code",
   "execution_count": 46,
   "metadata": {
    "collapsed": false,
    "deletable": true,
    "editable": true
   },
   "outputs": [
    {
     "name": "stdout",
     "output_type": "stream",
     "text": [
      "Ready ?\n"
     ]
    }
   ],
   "source": [
    "print(\"Ready ?\")"
   ]
  },
  {
   "cell_type": "code",
   "execution_count": 59,
   "metadata": {
    "collapsed": true,
    "deletable": true,
    "editable": true
   },
   "outputs": [],
   "source": [
    "# Parameters\n",
    "\n",
    "# ml_models = ['Naive_Bayes', 'KNeigh', 'QDA', 'RF', 'SVM_lin', 'SVM_rbf', 'DTree', 'NNet']\n",
    "ml_models = ['Naive_Bayes', 'KNeigh', 'QDA''RF', 'DTree', ] # 'SVM_lin', 'SVM_rbf', 'NNet', \n",
    "# ml_models = ['Naive_Bayes', 'RF', 'KNeigh', 'DTree', 'QDA'] # 'SVM_lin', 'SVM_rbf', 'NNet', \n",
    "\n",
    "sample_sizes = (-1, )  # \n",
    "bacteria_number = (-1, )  #  -1,\n",
    "dimension_reductions = (\"LDA\", )  # \"raw\", \"PCA\", "
   ]
  },
  {
   "cell_type": "code",
   "execution_count": null,
   "metadata": {
    "collapsed": true
   },
   "outputs": [],
   "source": []
  },
  {
   "cell_type": "code",
   "execution_count": null,
   "metadata": {
    "collapsed": true
   },
   "outputs": [],
   "source": []
  },
  {
   "cell_type": "code",
   "execution_count": null,
   "metadata": {
    "collapsed": true
   },
   "outputs": [],
   "source": []
  },
  {
   "cell_type": "code",
   "execution_count": null,
   "metadata": {
    "collapsed": false,
    "deletable": true,
    "editable": true
   },
   "outputs": [
    {
     "name": "stdout",
     "output_type": "stream",
     "text": [
      "\n",
      "\n",
      "_LDA-20_953798-samples_2782-bac\n",
      "(953798, 20)\n",
      "Variance captured by LDA = 77.66%\n"
     ]
    }
   ],
   "source": [
    "launch_multiple_cases()"
   ]
  },
  {
   "cell_type": "code",
   "execution_count": null,
   "metadata": {
    "collapsed": true
   },
   "outputs": [],
   "source": []
  },
  {
   "cell_type": "code",
   "execution_count": 58,
   "metadata": {
    "collapsed": false
   },
   "outputs": [
    {
     "name": "stdout",
     "output_type": "stream",
     "text": [
      "\n",
      "\n",
      "_LDA-20_338665-samples_1000-bac\n",
      "(338665, 20)\n",
      "Variance captured by LDA = 78.18%\n",
      "                  name  percentage   time  time_fit  time_predict\n",
      "2         KNeigh_genus       92.13  66.29      1.39         64.89\n",
      "5    Naive_Bayes_genus       90.57  12.34      7.10          5.24\n",
      "1       KNeigh_species       77.49  66.29      1.39         64.89\n",
      "4  Naive_Bayes_species       75.14  12.34      7.10          5.24\n",
      "8          DTree_genus       67.18 220.09    219.93          0.16\n",
      "3   Naive_Bayes_strand       53.58  12.34      7.10          5.24\n",
      "0        KNeigh_strand       52.59  66.29      1.39         64.89\n",
      "7        DTree_species       52.28 220.09    219.93          0.16\n",
      "6         DTree_strand       35.60 220.09    219.93          0.16\n",
      "      time_fit  time_predict\n",
      "mean     76.14         23.43\n",
      "\n",
      "Finished !\n"
     ]
    }
   ],
   "source": [
    "launch_multiple_cases()"
   ]
  },
  {
   "cell_type": "code",
   "execution_count": null,
   "metadata": {
    "collapsed": true
   },
   "outputs": [],
   "source": []
  },
  {
   "cell_type": "code",
   "execution_count": 55,
   "metadata": {
    "collapsed": false
   },
   "outputs": [
    {
     "name": "stdout",
     "output_type": "stream",
     "text": [
      "\n",
      "\n",
      "_LDA-20_34119-samples_100-bac\n",
      "(34119, 20)\n",
      "Variance captured by LDA = 86.03%\n"
     ]
    },
    {
     "name": "stderr",
     "output_type": "stream",
     "text": [
      "/opt/anaconda3/lib/python3.6/site-packages/sklearn/discriminant_analysis.py:692: UserWarning: Variables are collinear\n",
      "  warnings.warn(\"Variables are collinear\")\n"
     ]
    },
    {
     "name": "stdout",
     "output_type": "stream",
     "text": [
      "                 name  percentage  time  time_fit  time_predict\n",
      "8           QDA_genus       98.10  0.22      0.14          0.08\n",
      "17      SVM_rbf_genus       98.10 18.93     10.06          8.87\n",
      "14      SVM_lin_genus       97.95 12.88      4.62          8.26\n",
      "11           RF_genus       97.75  6.72      6.61          0.11\n",
      "5   Naive_Bayes_genus       97.45  0.18      0.13          0.05\n",
      "23         NNet_genus       97.42 41.27     41.25          0.02\n",
      "2        KNeigh_genus       97.34  1.47      0.07          1.40\n",
      "13    SVM_lin_species       93.20 12.88      4.62          8.26\n",
      "16    SVM_rbf_species       92.94 18.93     10.06          8.87\n",
      "10         RF_species       91.47  6.72      6.61          0.11\n",
      "      time_fit  time_predict\n",
      "mean      8.24          2.35\n",
      "\n",
      "\n",
      "_PCA-20_34119-samples_100-bac\n",
      "Variance captured by PCA = 92.17%\n"
     ]
    },
    {
     "name": "stderr",
     "output_type": "stream",
     "text": [
      "/opt/anaconda3/lib/python3.6/site-packages/sklearn/discriminant_analysis.py:692: UserWarning: Variables are collinear\n",
      "  warnings.warn(\"Variables are collinear\")\n"
     ]
    },
    {
     "name": "stdout",
     "output_type": "stream",
     "text": [
      "                 name  percentage  time  time_fit  time_predict\n",
      "17      SVM_rbf_genus       97.37 26.81     16.42         10.39\n",
      "14      SVM_lin_genus       96.90 16.40      6.63          9.77\n",
      "8           QDA_genus       96.87  0.21      0.13          0.08\n",
      "11           RF_genus       95.99  6.82      6.71          0.11\n",
      "23         NNet_genus       95.87 43.75     43.73          0.02\n",
      "2        KNeigh_genus       95.64  2.97      0.07          2.90\n",
      "5   Naive_Bayes_genus       93.85  0.18      0.13          0.05\n",
      "16    SVM_rbf_species       91.77 26.81     16.42         10.39\n",
      "13    SVM_lin_species       91.65 16.40      6.63          9.77\n",
      "7         QDA_species       90.68  0.21      0.13          0.08\n",
      "      time_fit  time_predict\n",
      "mean      9.61          2.92\n",
      "\n",
      "Finished !\n"
     ]
    }
   ],
   "source": [
    "launch_multiple_cases()"
   ]
  },
  {
   "cell_type": "code",
   "execution_count": null,
   "metadata": {
    "collapsed": true
   },
   "outputs": [],
   "source": []
  },
  {
   "cell_type": "code",
   "execution_count": 53,
   "metadata": {
    "collapsed": false
   },
   "outputs": [
    {
     "name": "stdout",
     "output_type": "stream",
     "text": [
      "\n",
      "\n",
      "_LDA-20_34119-samples_100-bac\n",
      "(34119, 20)\n",
      "Variance captured by LDA = 86.03%\n",
      "                  name  percentage  time  time_fit  time_predict\n",
      "5    Naive_Bayes_genus       97.45  0.18      0.12          0.05\n",
      "2         KNeigh_genus       97.34  1.46      0.07          1.39\n",
      "1       KNeigh_species       91.39  1.46      0.07          1.39\n",
      "4  Naive_Bayes_species       91.21  0.18      0.12          0.05\n",
      "8          DTree_genus       90.77  3.05      3.04          0.00\n",
      "7        DTree_species       84.38  3.05      3.04          0.00\n",
      "0        KNeigh_strand       80.83  1.46      0.07          1.39\n",
      "3   Naive_Bayes_strand       80.48  0.18      0.12          0.05\n",
      "6         DTree_strand       74.45  3.05      3.04          0.00\n",
      "      time_fit  time_predict\n",
      "mean      1.08          0.48\n",
      "\n",
      "\n",
      "_PCA-20_34119-samples_100-bac\n",
      "Variance captured by PCA = 92.17%\n",
      "                  name  percentage  time  time_fit  time_predict\n",
      "2         KNeigh_genus       95.61  2.17      0.08          2.10\n",
      "5    Naive_Bayes_genus       93.85  0.18      0.13          0.06\n",
      "1       KNeigh_species       89.10  2.17      0.08          2.10\n",
      "8          DTree_genus       87.49  3.10      3.10          0.00\n",
      "4  Naive_Bayes_species       86.84  0.18      0.13          0.06\n",
      "7        DTree_species       81.16  3.10      3.10          0.00\n",
      "0        KNeigh_strand       78.11  2.17      0.08          2.10\n",
      "3   Naive_Bayes_strand       76.67  0.18      0.13          0.06\n",
      "6         DTree_strand       71.02  3.10      3.10          0.00\n",
      "      time_fit  time_predict\n",
      "mean      1.10          0.72\n",
      "\n",
      "Finished !\n"
     ]
    }
   ],
   "source": [
    "launch_multiple_cases()"
   ]
  },
  {
   "cell_type": "code",
   "execution_count": null,
   "metadata": {
    "collapsed": true
   },
   "outputs": [],
   "source": []
  },
  {
   "cell_type": "code",
   "execution_count": null,
   "metadata": {
    "collapsed": false,
    "deletable": true,
    "editable": true,
    "scrolled": false
   },
   "outputs": [
    {
     "name": "stdout",
     "output_type": "stream",
     "text": [
      "\n",
      "\n",
      "_LDA-20_338665-samples_1000-bac\n",
      "(338665, 20)\n",
      "Variance captured by LDA = 78.18%\n",
      "                  name  percentage   time  time_fit  time_predict\n",
      "2         KNeigh_genus       92.13  60.65      1.38         59.27\n",
      "5    Naive_Bayes_genus       90.57  12.22      7.13          5.08\n",
      "1       KNeigh_species       77.49  60.65      1.38         59.27\n",
      "4  Naive_Bayes_species       75.14  12.22      7.13          5.08\n",
      "8          DTree_genus       67.15 219.01    218.85          0.16\n",
      "3   Naive_Bayes_strand       53.58  12.22      7.13          5.08\n",
      "0        KNeigh_strand       52.59  60.65      1.38         59.27\n",
      "7        DTree_species       52.23 219.01    218.85          0.16\n",
      "6         DTree_strand       35.65 219.01    218.85          0.16\n",
      "      time_fit  time_predict\n",
      "mean     75.79         21.51\n",
      "\n",
      "\n",
      "_PCA-20_338665-samples_1000-bac\n",
      "Variance captured by PCA = 91.10%\n"
     ]
    }
   ],
   "source": [
    "launch_multiple_cases()"
   ]
  },
  {
   "cell_type": "code",
   "execution_count": null,
   "metadata": {
    "collapsed": true
   },
   "outputs": [],
   "source": []
  },
  {
   "cell_type": "code",
   "execution_count": null,
   "metadata": {
    "collapsed": true
   },
   "outputs": [],
   "source": []
  },
  {
   "cell_type": "code",
   "execution_count": 40,
   "metadata": {
    "collapsed": false,
    "deletable": true,
    "editable": true,
    "scrolled": true
   },
   "outputs": [
    {
     "name": "stdout",
     "output_type": "stream",
     "text": [
      "\n",
      "\n",
      "_LDA-20_97924-samples_300-bac\n",
      "(97924, 20)\n",
      "Variance captured by LDA = 80.15%\n"
     ]
    },
    {
     "name": "stderr",
     "output_type": "stream",
     "text": [
      "/opt/anaconda3/lib/python3.6/site-packages/sklearn/discriminant_analysis.py:692: UserWarning: Variables are collinear\n",
      "  warnings.warn(\"Variables are collinear\")\n"
     ]
    },
    {
     "name": "stdout",
     "output_type": "stream",
     "text": [
      "                 name  percentage   time  time_fit  time_predict\n",
      "17          QDA_genus       94.86   1.19      0.50          0.69\n",
      "8        KNeigh_genus       94.09  11.46      0.29         11.17\n",
      "2            RF_genus       93.73  48.54     47.62          0.92\n",
      "14  Naive_Bayes_genus       92.71   1.17      0.74          0.43\n",
      "5          NNet_genus       92.01 643.30    643.17          0.12\n",
      "16        QDA_species       85.44   1.19      0.50          0.69\n",
      "1          RF_species       84.64  48.54     47.62          0.92\n",
      "7      KNeigh_species       84.26  11.46      0.29         11.17\n",
      "      time_fit  time_predict\n",
      "mean    118.87          2.22\n",
      "\n"
     ]
    }
   ],
   "source": [
    "all_ranking = {}\n",
    "all_results = {}\n",
    "all_dim_reduc = {}\n",
    "guard = 0\n",
    "stop = 80\n",
    "    \n",
    "for n_s in tqdm(sample_sizes, desc=\"#Sample\", dynamic_ncols=True):  # 10000,\n",
    "    for n_b in tqdm(bacteria_number, desc=\"#Bacteria\", dynamic_ncols=True, leave=False):\n",
    "        for dim_r in tqdm(dimension_reductions, desc=\"DimReduc\", dynamic_ncols=True, leave=False):  # \"raw\", \n",
    "            \n",
    "            # Some combination are not worth or too slow, skip them\n",
    "            if n_s == 10000 and (n_b <= 0 or 500 < n_b):\n",
    "                continue\n",
    "            if dim_r == \"raw\" and n_s == -1 and (n_b <= 0 or 200 < n_b):\n",
    "                continue\n",
    "            \n",
    "            name, pd_ranking, pd_res, variance_captured = \\\n",
    "                run_all_param(all_all_df, ml_models, n_samples=n_s, n_bacteria=n_b, \n",
    "                              dim_reduc_tool=dim_r, components=20, random_seed=7)\n",
    "            \n",
    "            if not isinstance(pd_ranking, dict): print(pd_ranking[:8])\n",
    "            all_ranking[name] = pd_ranking\n",
    "            all_results[name] = pd_res\n",
    "            all_dim_reduc[name] = variance_captured\n",
    "            print(pd_ranking[[\"time_fit\", \"time_predict\"]].describe().loc[[\"mean\"]])\n",
    "            \n",
    "            guard += 1\n",
    "            if guard>stop:\n",
    "                break\n",
    "        if guard>stop:\n",
    "            break\n",
    "    if guard>stop:\n",
    "        break"
   ]
  },
  {
   "cell_type": "code",
   "execution_count": null,
   "metadata": {
    "collapsed": false,
    "deletable": true,
    "editable": true
   },
   "outputs": [],
   "source": []
  },
  {
   "cell_type": "markdown",
   "metadata": {},
   "source": [
    "save results"
   ]
  },
  {
   "cell_type": "code",
   "execution_count": 43,
   "metadata": {
    "collapsed": true,
    "deletable": true,
    "editable": true
   },
   "outputs": [],
   "source": [
    "path_models = os.path.join(path_4mer, \"ml_models/\")\n",
    "now = dt.now().strftime(\"%Y-%m-%d_%H-%M\")\n",
    "with open(os.path.join(path_models, f\"_all_results_{now}.pkl\"), 'wb') as f:\n",
    "    pickle.dump(all_results, f)\n",
    "with open(os.path.join(path_models, f\"_all_rankings_{now}.pkl\"), 'wb') as f:\n",
    "    pickle.dump(all_ranking, f)"
   ]
  },
  {
   "cell_type": "code",
   "execution_count": null,
   "metadata": {
    "collapsed": true
   },
   "outputs": [],
   "source": []
  },
  {
   "cell_type": "code",
   "execution_count": null,
   "metadata": {
    "collapsed": true,
    "deletable": true,
    "editable": true
   },
   "outputs": [],
   "source": []
  },
  {
   "cell_type": "code",
   "execution_count": 44,
   "metadata": {
    "collapsed": false,
    "deletable": true,
    "editable": true
   },
   "outputs": [
    {
     "name": "stdout",
     "output_type": "stream",
     "text": [
      "time_fit       2.08\n",
      "time_predict   3.14\n",
      "dtype: float64\n"
     ]
    }
   ],
   "source": [
    "print(pd_ranking[[\"time_fit\", \"time_predict\"]].mean())"
   ]
  },
  {
   "cell_type": "code",
   "execution_count": 53,
   "metadata": {
    "collapsed": false,
    "deletable": true,
    "editable": true
   },
   "outputs": [
    {
     "data": {
      "text/html": [
       "<div>\n",
       "<style scoped>\n",
       "    .dataframe tbody tr th:only-of-type {\n",
       "        vertical-align: middle;\n",
       "    }\n",
       "\n",
       "    .dataframe tbody tr th {\n",
       "        vertical-align: top;\n",
       "    }\n",
       "\n",
       "    .dataframe thead th {\n",
       "        text-align: right;\n",
       "    }\n",
       "</style>\n",
       "<table border=\"1\" class=\"dataframe\">\n",
       "  <thead>\n",
       "    <tr style=\"text-align: right;\">\n",
       "      <th></th>\n",
       "      <th>time_fit</th>\n",
       "      <th>time_predict</th>\n",
       "    </tr>\n",
       "  </thead>\n",
       "  <tbody>\n",
       "    <tr>\n",
       "      <th>mean</th>\n",
       "      <td>2.08</td>\n",
       "      <td>3.14</td>\n",
       "    </tr>\n",
       "  </tbody>\n",
       "</table>\n",
       "</div>"
      ],
      "text/plain": [
       "      time_fit  time_predict\n",
       "mean      2.08          3.14"
      ]
     },
     "execution_count": 53,
     "metadata": {},
     "output_type": "execute_result"
    }
   ],
   "source": [
    "pd_ranking[[\"time_fit\", \"time_predict\"]].describe().loc[[\"mean\"]]"
   ]
  },
  {
   "cell_type": "code",
   "execution_count": null,
   "metadata": {
    "collapsed": true,
    "deletable": true,
    "editable": true
   },
   "outputs": [],
   "source": []
  },
  {
   "cell_type": "code",
   "execution_count": 51,
   "metadata": {
    "collapsed": false,
    "deletable": true,
    "editable": true
   },
   "outputs": [
    {
     "data": {
      "text/plain": [
       "'/home/sjriondet/Data/Kmer_frequencies/4_V4_10k/ml_models/'"
      ]
     },
     "execution_count": 51,
     "metadata": {},
     "output_type": "execute_result"
    }
   ],
   "source": [
    "path_models"
   ]
  },
  {
   "cell_type": "code",
   "execution_count": 54,
   "metadata": {
    "collapsed": false,
    "deletable": true,
    "editable": true
   },
   "outputs": [
    {
     "data": {
      "text/plain": [
       "3"
      ]
     },
     "execution_count": 54,
     "metadata": {},
     "output_type": "execute_result"
    }
   ],
   "source": [
    "len(all_ranking)"
   ]
  },
  {
   "cell_type": "code",
   "execution_count": null,
   "metadata": {
    "collapsed": true,
    "deletable": true,
    "editable": true
   },
   "outputs": [],
   "source": []
  },
  {
   "cell_type": "code",
   "execution_count": 61,
   "metadata": {
    "collapsed": false,
    "deletable": true,
    "editable": true
   },
   "outputs": [
    {
     "data": {
      "text/html": [
       "<div>\n",
       "<style scoped>\n",
       "    .dataframe tbody tr th:only-of-type {\n",
       "        vertical-align: middle;\n",
       "    }\n",
       "\n",
       "    .dataframe tbody tr th {\n",
       "        vertical-align: top;\n",
       "    }\n",
       "\n",
       "    .dataframe thead th {\n",
       "        text-align: right;\n",
       "    }\n",
       "</style>\n",
       "<table border=\"1\" class=\"dataframe\">\n",
       "  <thead>\n",
       "    <tr style=\"text-align: right;\">\n",
       "      <th></th>\n",
       "      <th>bacteria</th>\n",
       "      <th>fna</th>\n",
       "      <th>len_genome</th>\n",
       "      <th>start</th>\n",
       "      <th>AAAA</th>\n",
       "      <th>AAAC</th>\n",
       "      <th>AAAG</th>\n",
       "      <th>AAAT</th>\n",
       "      <th>AACA</th>\n",
       "      <th>AACC</th>\n",
       "      <th>...</th>\n",
       "      <th>TTCG</th>\n",
       "      <th>TTCT</th>\n",
       "      <th>TTGA</th>\n",
       "      <th>TTGC</th>\n",
       "      <th>TTGG</th>\n",
       "      <th>TTGT</th>\n",
       "      <th>TTTA</th>\n",
       "      <th>TTTC</th>\n",
       "      <th>TTTG</th>\n",
       "      <th>TTTT</th>\n",
       "    </tr>\n",
       "  </thead>\n",
       "  <tbody>\n",
       "    <tr>\n",
       "      <th>0</th>\n",
       "      <td>Anaplasma_phagocytophilum_JM_uid213223</td>\n",
       "      <td>NC_021880</td>\n",
       "      <td>1481598</td>\n",
       "      <td>0</td>\n",
       "      <td>137.00</td>\n",
       "      <td>33.00</td>\n",
       "      <td>79.00</td>\n",
       "      <td>82.00</td>\n",
       "      <td>44.00</td>\n",
       "      <td>16.00</td>\n",
       "      <td>...</td>\n",
       "      <td>25.00</td>\n",
       "      <td>58.00</td>\n",
       "      <td>63.00</td>\n",
       "      <td>48.00</td>\n",
       "      <td>63.00</td>\n",
       "      <td>56.00</td>\n",
       "      <td>75.00</td>\n",
       "      <td>64.00</td>\n",
       "      <td>77.00</td>\n",
       "      <td>134.00</td>\n",
       "    </tr>\n",
       "    <tr>\n",
       "      <th>1</th>\n",
       "      <td>Anaplasma_phagocytophilum_JM_uid213223</td>\n",
       "      <td>NC_021880</td>\n",
       "      <td>1481598</td>\n",
       "      <td>10000</td>\n",
       "      <td>170.00</td>\n",
       "      <td>68.00</td>\n",
       "      <td>99.00</td>\n",
       "      <td>103.00</td>\n",
       "      <td>73.00</td>\n",
       "      <td>25.00</td>\n",
       "      <td>...</td>\n",
       "      <td>19.00</td>\n",
       "      <td>70.00</td>\n",
       "      <td>67.00</td>\n",
       "      <td>41.00</td>\n",
       "      <td>35.00</td>\n",
       "      <td>45.00</td>\n",
       "      <td>70.00</td>\n",
       "      <td>36.00</td>\n",
       "      <td>60.00</td>\n",
       "      <td>88.00</td>\n",
       "    </tr>\n",
       "    <tr>\n",
       "      <th>2</th>\n",
       "      <td>Anaplasma_phagocytophilum_JM_uid213223</td>\n",
       "      <td>NC_021880</td>\n",
       "      <td>1481598</td>\n",
       "      <td>20000</td>\n",
       "      <td>61.00</td>\n",
       "      <td>40.00</td>\n",
       "      <td>61.00</td>\n",
       "      <td>56.00</td>\n",
       "      <td>53.00</td>\n",
       "      <td>31.00</td>\n",
       "      <td>...</td>\n",
       "      <td>24.00</td>\n",
       "      <td>85.00</td>\n",
       "      <td>49.00</td>\n",
       "      <td>46.00</td>\n",
       "      <td>41.00</td>\n",
       "      <td>77.00</td>\n",
       "      <td>72.00</td>\n",
       "      <td>86.00</td>\n",
       "      <td>72.00</td>\n",
       "      <td>156.00</td>\n",
       "    </tr>\n",
       "    <tr>\n",
       "      <th>3</th>\n",
       "      <td>Anaplasma_phagocytophilum_JM_uid213223</td>\n",
       "      <td>NC_021880</td>\n",
       "      <td>1481598</td>\n",
       "      <td>30000</td>\n",
       "      <td>95.00</td>\n",
       "      <td>58.00</td>\n",
       "      <td>51.00</td>\n",
       "      <td>77.00</td>\n",
       "      <td>44.00</td>\n",
       "      <td>40.00</td>\n",
       "      <td>...</td>\n",
       "      <td>24.00</td>\n",
       "      <td>46.00</td>\n",
       "      <td>52.00</td>\n",
       "      <td>53.00</td>\n",
       "      <td>28.00</td>\n",
       "      <td>66.00</td>\n",
       "      <td>58.00</td>\n",
       "      <td>48.00</td>\n",
       "      <td>54.00</td>\n",
       "      <td>88.00</td>\n",
       "    </tr>\n",
       "    <tr>\n",
       "      <th>4</th>\n",
       "      <td>Anaplasma_phagocytophilum_JM_uid213223</td>\n",
       "      <td>NC_021880</td>\n",
       "      <td>1481598</td>\n",
       "      <td>40000</td>\n",
       "      <td>64.00</td>\n",
       "      <td>31.00</td>\n",
       "      <td>62.00</td>\n",
       "      <td>47.00</td>\n",
       "      <td>59.00</td>\n",
       "      <td>27.00</td>\n",
       "      <td>...</td>\n",
       "      <td>18.00</td>\n",
       "      <td>61.00</td>\n",
       "      <td>61.00</td>\n",
       "      <td>58.00</td>\n",
       "      <td>58.00</td>\n",
       "      <td>72.00</td>\n",
       "      <td>63.00</td>\n",
       "      <td>55.00</td>\n",
       "      <td>84.00</td>\n",
       "      <td>100.00</td>\n",
       "    </tr>\n",
       "    <tr>\n",
       "      <th>5</th>\n",
       "      <td>Anaplasma_phagocytophilum_JM_uid213223</td>\n",
       "      <td>NC_021880</td>\n",
       "      <td>1481598</td>\n",
       "      <td>50000</td>\n",
       "      <td>88.00</td>\n",
       "      <td>28.00</td>\n",
       "      <td>56.00</td>\n",
       "      <td>71.00</td>\n",
       "      <td>31.00</td>\n",
       "      <td>16.00</td>\n",
       "      <td>...</td>\n",
       "      <td>26.00</td>\n",
       "      <td>91.00</td>\n",
       "      <td>56.00</td>\n",
       "      <td>55.00</td>\n",
       "      <td>56.00</td>\n",
       "      <td>75.00</td>\n",
       "      <td>71.00</td>\n",
       "      <td>83.00</td>\n",
       "      <td>84.00</td>\n",
       "      <td>126.00</td>\n",
       "    </tr>\n",
       "    <tr>\n",
       "      <th>6</th>\n",
       "      <td>Anaplasma_phagocytophilum_JM_uid213223</td>\n",
       "      <td>NC_021880</td>\n",
       "      <td>1481598</td>\n",
       "      <td>60000</td>\n",
       "      <td>103.00</td>\n",
       "      <td>59.00</td>\n",
       "      <td>73.00</td>\n",
       "      <td>62.00</td>\n",
       "      <td>52.00</td>\n",
       "      <td>39.00</td>\n",
       "      <td>...</td>\n",
       "      <td>27.00</td>\n",
       "      <td>79.00</td>\n",
       "      <td>48.00</td>\n",
       "      <td>43.00</td>\n",
       "      <td>35.00</td>\n",
       "      <td>61.00</td>\n",
       "      <td>52.00</td>\n",
       "      <td>56.00</td>\n",
       "      <td>66.00</td>\n",
       "      <td>86.00</td>\n",
       "    </tr>\n",
       "    <tr>\n",
       "      <th>7</th>\n",
       "      <td>Anaplasma_phagocytophilum_JM_uid213223</td>\n",
       "      <td>NC_021880</td>\n",
       "      <td>1481598</td>\n",
       "      <td>70000</td>\n",
       "      <td>78.00</td>\n",
       "      <td>40.00</td>\n",
       "      <td>80.00</td>\n",
       "      <td>53.00</td>\n",
       "      <td>36.00</td>\n",
       "      <td>17.00</td>\n",
       "      <td>...</td>\n",
       "      <td>28.00</td>\n",
       "      <td>48.00</td>\n",
       "      <td>71.00</td>\n",
       "      <td>52.00</td>\n",
       "      <td>46.00</td>\n",
       "      <td>73.00</td>\n",
       "      <td>65.00</td>\n",
       "      <td>45.00</td>\n",
       "      <td>89.00</td>\n",
       "      <td>151.00</td>\n",
       "    </tr>\n",
       "    <tr>\n",
       "      <th>8</th>\n",
       "      <td>Anaplasma_phagocytophilum_JM_uid213223</td>\n",
       "      <td>NC_021880</td>\n",
       "      <td>1481598</td>\n",
       "      <td>80000</td>\n",
       "      <td>88.00</td>\n",
       "      <td>54.00</td>\n",
       "      <td>65.00</td>\n",
       "      <td>75.00</td>\n",
       "      <td>54.00</td>\n",
       "      <td>37.00</td>\n",
       "      <td>...</td>\n",
       "      <td>21.00</td>\n",
       "      <td>58.00</td>\n",
       "      <td>51.00</td>\n",
       "      <td>40.00</td>\n",
       "      <td>37.00</td>\n",
       "      <td>70.00</td>\n",
       "      <td>61.00</td>\n",
       "      <td>56.00</td>\n",
       "      <td>60.00</td>\n",
       "      <td>83.00</td>\n",
       "    </tr>\n",
       "    <tr>\n",
       "      <th>9</th>\n",
       "      <td>Anaplasma_phagocytophilum_JM_uid213223</td>\n",
       "      <td>NC_021880</td>\n",
       "      <td>1481598</td>\n",
       "      <td>90000</td>\n",
       "      <td>48.00</td>\n",
       "      <td>41.00</td>\n",
       "      <td>39.00</td>\n",
       "      <td>52.00</td>\n",
       "      <td>41.00</td>\n",
       "      <td>39.00</td>\n",
       "      <td>...</td>\n",
       "      <td>12.00</td>\n",
       "      <td>69.00</td>\n",
       "      <td>52.00</td>\n",
       "      <td>44.00</td>\n",
       "      <td>40.00</td>\n",
       "      <td>60.00</td>\n",
       "      <td>66.00</td>\n",
       "      <td>62.00</td>\n",
       "      <td>65.00</td>\n",
       "      <td>97.00</td>\n",
       "    </tr>\n",
       "    <tr>\n",
       "      <th>10</th>\n",
       "      <td>Anaplasma_phagocytophilum_JM_uid213223</td>\n",
       "      <td>NC_021880</td>\n",
       "      <td>1481598</td>\n",
       "      <td>100000</td>\n",
       "      <td>53.00</td>\n",
       "      <td>17.00</td>\n",
       "      <td>46.00</td>\n",
       "      <td>48.00</td>\n",
       "      <td>35.00</td>\n",
       "      <td>20.00</td>\n",
       "      <td>...</td>\n",
       "      <td>29.00</td>\n",
       "      <td>70.00</td>\n",
       "      <td>49.00</td>\n",
       "      <td>66.00</td>\n",
       "      <td>52.00</td>\n",
       "      <td>61.00</td>\n",
       "      <td>68.00</td>\n",
       "      <td>77.00</td>\n",
       "      <td>73.00</td>\n",
       "      <td>122.00</td>\n",
       "    </tr>\n",
       "    <tr>\n",
       "      <th>11</th>\n",
       "      <td>Anaplasma_phagocytophilum_JM_uid213223</td>\n",
       "      <td>NC_021880</td>\n",
       "      <td>1481598</td>\n",
       "      <td>110000</td>\n",
       "      <td>59.00</td>\n",
       "      <td>32.00</td>\n",
       "      <td>52.00</td>\n",
       "      <td>64.00</td>\n",
       "      <td>31.00</td>\n",
       "      <td>11.00</td>\n",
       "      <td>...</td>\n",
       "      <td>31.00</td>\n",
       "      <td>88.00</td>\n",
       "      <td>59.00</td>\n",
       "      <td>53.00</td>\n",
       "      <td>51.00</td>\n",
       "      <td>93.00</td>\n",
       "      <td>65.00</td>\n",
       "      <td>50.00</td>\n",
       "      <td>93.00</td>\n",
       "      <td>122.00</td>\n",
       "    </tr>\n",
       "    <tr>\n",
       "      <th>12</th>\n",
       "      <td>Anaplasma_phagocytophilum_JM_uid213223</td>\n",
       "      <td>NC_021880</td>\n",
       "      <td>1481598</td>\n",
       "      <td>120000</td>\n",
       "      <td>89.00</td>\n",
       "      <td>38.00</td>\n",
       "      <td>53.00</td>\n",
       "      <td>56.00</td>\n",
       "      <td>35.00</td>\n",
       "      <td>23.00</td>\n",
       "      <td>...</td>\n",
       "      <td>23.00</td>\n",
       "      <td>86.00</td>\n",
       "      <td>55.00</td>\n",
       "      <td>71.00</td>\n",
       "      <td>50.00</td>\n",
       "      <td>70.00</td>\n",
       "      <td>78.00</td>\n",
       "      <td>69.00</td>\n",
       "      <td>91.00</td>\n",
       "      <td>132.00</td>\n",
       "    </tr>\n",
       "    <tr>\n",
       "      <th>13</th>\n",
       "      <td>Anaplasma_phagocytophilum_JM_uid213223</td>\n",
       "      <td>NC_021880</td>\n",
       "      <td>1481598</td>\n",
       "      <td>130000</td>\n",
       "      <td>69.00</td>\n",
       "      <td>57.00</td>\n",
       "      <td>65.00</td>\n",
       "      <td>45.00</td>\n",
       "      <td>56.00</td>\n",
       "      <td>57.00</td>\n",
       "      <td>...</td>\n",
       "      <td>24.00</td>\n",
       "      <td>67.00</td>\n",
       "      <td>33.00</td>\n",
       "      <td>61.00</td>\n",
       "      <td>39.00</td>\n",
       "      <td>44.00</td>\n",
       "      <td>62.00</td>\n",
       "      <td>51.00</td>\n",
       "      <td>57.00</td>\n",
       "      <td>91.00</td>\n",
       "    </tr>\n",
       "    <tr>\n",
       "      <th>14</th>\n",
       "      <td>Anaplasma_phagocytophilum_JM_uid213223</td>\n",
       "      <td>NC_021880</td>\n",
       "      <td>1481598</td>\n",
       "      <td>140000</td>\n",
       "      <td>69.00</td>\n",
       "      <td>50.00</td>\n",
       "      <td>51.00</td>\n",
       "      <td>61.00</td>\n",
       "      <td>64.00</td>\n",
       "      <td>50.00</td>\n",
       "      <td>...</td>\n",
       "      <td>28.00</td>\n",
       "      <td>57.00</td>\n",
       "      <td>42.00</td>\n",
       "      <td>45.00</td>\n",
       "      <td>25.00</td>\n",
       "      <td>55.00</td>\n",
       "      <td>63.00</td>\n",
       "      <td>69.00</td>\n",
       "      <td>65.00</td>\n",
       "      <td>108.00</td>\n",
       "    </tr>\n",
       "    <tr>\n",
       "      <th>15</th>\n",
       "      <td>Anaplasma_phagocytophilum_JM_uid213223</td>\n",
       "      <td>NC_021880</td>\n",
       "      <td>1481598</td>\n",
       "      <td>150000</td>\n",
       "      <td>35.00</td>\n",
       "      <td>14.00</td>\n",
       "      <td>36.00</td>\n",
       "      <td>36.00</td>\n",
       "      <td>17.00</td>\n",
       "      <td>7.00</td>\n",
       "      <td>...</td>\n",
       "      <td>39.00</td>\n",
       "      <td>72.00</td>\n",
       "      <td>61.00</td>\n",
       "      <td>74.00</td>\n",
       "      <td>77.00</td>\n",
       "      <td>94.00</td>\n",
       "      <td>61.00</td>\n",
       "      <td>51.00</td>\n",
       "      <td>95.00</td>\n",
       "      <td>118.00</td>\n",
       "    </tr>\n",
       "    <tr>\n",
       "      <th>16</th>\n",
       "      <td>Anaplasma_phagocytophilum_JM_uid213223</td>\n",
       "      <td>NC_021880</td>\n",
       "      <td>1481598</td>\n",
       "      <td>160000</td>\n",
       "      <td>53.00</td>\n",
       "      <td>19.00</td>\n",
       "      <td>54.00</td>\n",
       "      <td>46.00</td>\n",
       "      <td>23.00</td>\n",
       "      <td>13.00</td>\n",
       "      <td>...</td>\n",
       "      <td>24.00</td>\n",
       "      <td>54.00</td>\n",
       "      <td>62.00</td>\n",
       "      <td>64.00</td>\n",
       "      <td>64.00</td>\n",
       "      <td>63.00</td>\n",
       "      <td>53.00</td>\n",
       "      <td>60.00</td>\n",
       "      <td>86.00</td>\n",
       "      <td>82.00</td>\n",
       "    </tr>\n",
       "    <tr>\n",
       "      <th>17</th>\n",
       "      <td>Anaplasma_phagocytophilum_JM_uid213223</td>\n",
       "      <td>NC_021880</td>\n",
       "      <td>1481598</td>\n",
       "      <td>170000</td>\n",
       "      <td>88.00</td>\n",
       "      <td>53.00</td>\n",
       "      <td>87.00</td>\n",
       "      <td>56.00</td>\n",
       "      <td>76.00</td>\n",
       "      <td>39.00</td>\n",
       "      <td>...</td>\n",
       "      <td>17.00</td>\n",
       "      <td>52.00</td>\n",
       "      <td>40.00</td>\n",
       "      <td>45.00</td>\n",
       "      <td>36.00</td>\n",
       "      <td>54.00</td>\n",
       "      <td>55.00</td>\n",
       "      <td>61.00</td>\n",
       "      <td>43.00</td>\n",
       "      <td>94.00</td>\n",
       "    </tr>\n",
       "    <tr>\n",
       "      <th>18</th>\n",
       "      <td>Anaplasma_phagocytophilum_JM_uid213223</td>\n",
       "      <td>NC_021880</td>\n",
       "      <td>1481598</td>\n",
       "      <td>180000</td>\n",
       "      <td>77.00</td>\n",
       "      <td>51.00</td>\n",
       "      <td>60.00</td>\n",
       "      <td>70.00</td>\n",
       "      <td>73.00</td>\n",
       "      <td>33.00</td>\n",
       "      <td>...</td>\n",
       "      <td>17.00</td>\n",
       "      <td>67.00</td>\n",
       "      <td>34.00</td>\n",
       "      <td>58.00</td>\n",
       "      <td>32.00</td>\n",
       "      <td>50.00</td>\n",
       "      <td>51.00</td>\n",
       "      <td>64.00</td>\n",
       "      <td>61.00</td>\n",
       "      <td>68.00</td>\n",
       "    </tr>\n",
       "    <tr>\n",
       "      <th>19</th>\n",
       "      <td>Anaplasma_phagocytophilum_JM_uid213223</td>\n",
       "      <td>NC_021880</td>\n",
       "      <td>1481598</td>\n",
       "      <td>190000</td>\n",
       "      <td>69.00</td>\n",
       "      <td>35.00</td>\n",
       "      <td>63.00</td>\n",
       "      <td>48.00</td>\n",
       "      <td>36.00</td>\n",
       "      <td>25.00</td>\n",
       "      <td>...</td>\n",
       "      <td>24.00</td>\n",
       "      <td>57.00</td>\n",
       "      <td>45.00</td>\n",
       "      <td>60.00</td>\n",
       "      <td>49.00</td>\n",
       "      <td>71.00</td>\n",
       "      <td>54.00</td>\n",
       "      <td>69.00</td>\n",
       "      <td>63.00</td>\n",
       "      <td>97.00</td>\n",
       "    </tr>\n",
       "    <tr>\n",
       "      <th>20</th>\n",
       "      <td>Anaplasma_phagocytophilum_JM_uid213223</td>\n",
       "      <td>NC_021880</td>\n",
       "      <td>1481598</td>\n",
       "      <td>200000</td>\n",
       "      <td>64.00</td>\n",
       "      <td>39.00</td>\n",
       "      <td>51.00</td>\n",
       "      <td>58.00</td>\n",
       "      <td>51.00</td>\n",
       "      <td>23.00</td>\n",
       "      <td>...</td>\n",
       "      <td>21.00</td>\n",
       "      <td>69.00</td>\n",
       "      <td>42.00</td>\n",
       "      <td>57.00</td>\n",
       "      <td>32.00</td>\n",
       "      <td>72.00</td>\n",
       "      <td>70.00</td>\n",
       "      <td>68.00</td>\n",
       "      <td>68.00</td>\n",
       "      <td>105.00</td>\n",
       "    </tr>\n",
       "    <tr>\n",
       "      <th>21</th>\n",
       "      <td>Anaplasma_phagocytophilum_JM_uid213223</td>\n",
       "      <td>NC_021880</td>\n",
       "      <td>1481598</td>\n",
       "      <td>210000</td>\n",
       "      <td>61.00</td>\n",
       "      <td>35.00</td>\n",
       "      <td>83.00</td>\n",
       "      <td>52.00</td>\n",
       "      <td>44.00</td>\n",
       "      <td>26.00</td>\n",
       "      <td>...</td>\n",
       "      <td>18.00</td>\n",
       "      <td>71.00</td>\n",
       "      <td>52.00</td>\n",
       "      <td>56.00</td>\n",
       "      <td>27.00</td>\n",
       "      <td>46.00</td>\n",
       "      <td>52.00</td>\n",
       "      <td>66.00</td>\n",
       "      <td>57.00</td>\n",
       "      <td>97.00</td>\n",
       "    </tr>\n",
       "    <tr>\n",
       "      <th>22</th>\n",
       "      <td>Anaplasma_phagocytophilum_JM_uid213223</td>\n",
       "      <td>NC_021880</td>\n",
       "      <td>1481598</td>\n",
       "      <td>220000</td>\n",
       "      <td>64.00</td>\n",
       "      <td>47.00</td>\n",
       "      <td>66.00</td>\n",
       "      <td>33.00</td>\n",
       "      <td>42.00</td>\n",
       "      <td>45.00</td>\n",
       "      <td>...</td>\n",
       "      <td>20.00</td>\n",
       "      <td>65.00</td>\n",
       "      <td>46.00</td>\n",
       "      <td>50.00</td>\n",
       "      <td>39.00</td>\n",
       "      <td>73.00</td>\n",
       "      <td>59.00</td>\n",
       "      <td>68.00</td>\n",
       "      <td>78.00</td>\n",
       "      <td>101.00</td>\n",
       "    </tr>\n",
       "    <tr>\n",
       "      <th>23</th>\n",
       "      <td>Anaplasma_phagocytophilum_JM_uid213223</td>\n",
       "      <td>NC_021880</td>\n",
       "      <td>1481598</td>\n",
       "      <td>230000</td>\n",
       "      <td>57.00</td>\n",
       "      <td>39.00</td>\n",
       "      <td>51.00</td>\n",
       "      <td>52.00</td>\n",
       "      <td>48.00</td>\n",
       "      <td>26.00</td>\n",
       "      <td>...</td>\n",
       "      <td>32.00</td>\n",
       "      <td>85.00</td>\n",
       "      <td>64.00</td>\n",
       "      <td>64.00</td>\n",
       "      <td>28.00</td>\n",
       "      <td>74.00</td>\n",
       "      <td>57.00</td>\n",
       "      <td>74.00</td>\n",
       "      <td>78.00</td>\n",
       "      <td>134.00</td>\n",
       "    </tr>\n",
       "    <tr>\n",
       "      <th>24</th>\n",
       "      <td>Anaplasma_phagocytophilum_JM_uid213223</td>\n",
       "      <td>NC_021880</td>\n",
       "      <td>1481598</td>\n",
       "      <td>240000</td>\n",
       "      <td>53.00</td>\n",
       "      <td>31.00</td>\n",
       "      <td>51.00</td>\n",
       "      <td>52.00</td>\n",
       "      <td>31.00</td>\n",
       "      <td>27.00</td>\n",
       "      <td>...</td>\n",
       "      <td>30.00</td>\n",
       "      <td>77.00</td>\n",
       "      <td>51.00</td>\n",
       "      <td>62.00</td>\n",
       "      <td>37.00</td>\n",
       "      <td>54.00</td>\n",
       "      <td>63.00</td>\n",
       "      <td>64.00</td>\n",
       "      <td>72.00</td>\n",
       "      <td>96.00</td>\n",
       "    </tr>\n",
       "    <tr>\n",
       "      <th>25</th>\n",
       "      <td>Anaplasma_phagocytophilum_JM_uid213223</td>\n",
       "      <td>NC_021880</td>\n",
       "      <td>1481598</td>\n",
       "      <td>250000</td>\n",
       "      <td>70.00</td>\n",
       "      <td>31.00</td>\n",
       "      <td>51.00</td>\n",
       "      <td>53.00</td>\n",
       "      <td>43.00</td>\n",
       "      <td>24.00</td>\n",
       "      <td>...</td>\n",
       "      <td>24.00</td>\n",
       "      <td>72.00</td>\n",
       "      <td>35.00</td>\n",
       "      <td>60.00</td>\n",
       "      <td>41.00</td>\n",
       "      <td>70.00</td>\n",
       "      <td>58.00</td>\n",
       "      <td>58.00</td>\n",
       "      <td>70.00</td>\n",
       "      <td>130.00</td>\n",
       "    </tr>\n",
       "    <tr>\n",
       "      <th>26</th>\n",
       "      <td>Anaplasma_phagocytophilum_JM_uid213223</td>\n",
       "      <td>NC_021880</td>\n",
       "      <td>1481598</td>\n",
       "      <td>260000</td>\n",
       "      <td>136.00</td>\n",
       "      <td>69.00</td>\n",
       "      <td>70.00</td>\n",
       "      <td>65.00</td>\n",
       "      <td>72.00</td>\n",
       "      <td>54.00</td>\n",
       "      <td>...</td>\n",
       "      <td>18.00</td>\n",
       "      <td>87.00</td>\n",
       "      <td>28.00</td>\n",
       "      <td>41.00</td>\n",
       "      <td>27.00</td>\n",
       "      <td>35.00</td>\n",
       "      <td>50.00</td>\n",
       "      <td>72.00</td>\n",
       "      <td>45.00</td>\n",
       "      <td>84.00</td>\n",
       "    </tr>\n",
       "    <tr>\n",
       "      <th>27</th>\n",
       "      <td>Anaplasma_phagocytophilum_JM_uid213223</td>\n",
       "      <td>NC_021880</td>\n",
       "      <td>1481598</td>\n",
       "      <td>270000</td>\n",
       "      <td>40.00</td>\n",
       "      <td>20.00</td>\n",
       "      <td>79.00</td>\n",
       "      <td>35.00</td>\n",
       "      <td>32.00</td>\n",
       "      <td>11.00</td>\n",
       "      <td>...</td>\n",
       "      <td>26.00</td>\n",
       "      <td>54.00</td>\n",
       "      <td>58.00</td>\n",
       "      <td>53.00</td>\n",
       "      <td>66.00</td>\n",
       "      <td>74.00</td>\n",
       "      <td>54.00</td>\n",
       "      <td>39.00</td>\n",
       "      <td>78.00</td>\n",
       "      <td>97.00</td>\n",
       "    </tr>\n",
       "    <tr>\n",
       "      <th>28</th>\n",
       "      <td>Anaplasma_phagocytophilum_JM_uid213223</td>\n",
       "      <td>NC_021880</td>\n",
       "      <td>1481598</td>\n",
       "      <td>280000</td>\n",
       "      <td>40.00</td>\n",
       "      <td>15.00</td>\n",
       "      <td>66.00</td>\n",
       "      <td>39.00</td>\n",
       "      <td>16.00</td>\n",
       "      <td>8.00</td>\n",
       "      <td>...</td>\n",
       "      <td>22.00</td>\n",
       "      <td>83.00</td>\n",
       "      <td>79.00</td>\n",
       "      <td>72.00</td>\n",
       "      <td>62.00</td>\n",
       "      <td>89.00</td>\n",
       "      <td>66.00</td>\n",
       "      <td>53.00</td>\n",
       "      <td>101.00</td>\n",
       "      <td>108.00</td>\n",
       "    </tr>\n",
       "    <tr>\n",
       "      <th>29</th>\n",
       "      <td>Anaplasma_phagocytophilum_JM_uid213223</td>\n",
       "      <td>NC_021880</td>\n",
       "      <td>1481598</td>\n",
       "      <td>290000</td>\n",
       "      <td>81.00</td>\n",
       "      <td>42.00</td>\n",
       "      <td>55.00</td>\n",
       "      <td>52.00</td>\n",
       "      <td>40.00</td>\n",
       "      <td>27.00</td>\n",
       "      <td>...</td>\n",
       "      <td>21.00</td>\n",
       "      <td>76.00</td>\n",
       "      <td>40.00</td>\n",
       "      <td>102.00</td>\n",
       "      <td>43.00</td>\n",
       "      <td>98.00</td>\n",
       "      <td>67.00</td>\n",
       "      <td>64.00</td>\n",
       "      <td>78.00</td>\n",
       "      <td>117.00</td>\n",
       "    </tr>\n",
       "    <tr>\n",
       "      <th>...</th>\n",
       "      <td>...</td>\n",
       "      <td>...</td>\n",
       "      <td>...</td>\n",
       "      <td>...</td>\n",
       "      <td>...</td>\n",
       "      <td>...</td>\n",
       "      <td>...</td>\n",
       "      <td>...</td>\n",
       "      <td>...</td>\n",
       "      <td>...</td>\n",
       "      <td>...</td>\n",
       "      <td>...</td>\n",
       "      <td>...</td>\n",
       "      <td>...</td>\n",
       "      <td>...</td>\n",
       "      <td>...</td>\n",
       "      <td>...</td>\n",
       "      <td>...</td>\n",
       "      <td>...</td>\n",
       "      <td>...</td>\n",
       "      <td>...</td>\n",
       "    </tr>\n",
       "    <tr>\n",
       "      <th>118</th>\n",
       "      <td>Anaplasma_phagocytophilum_JM_uid213223</td>\n",
       "      <td>NC_021880</td>\n",
       "      <td>1481598</td>\n",
       "      <td>1180000</td>\n",
       "      <td>87.00</td>\n",
       "      <td>55.00</td>\n",
       "      <td>53.00</td>\n",
       "      <td>64.00</td>\n",
       "      <td>69.00</td>\n",
       "      <td>48.00</td>\n",
       "      <td>...</td>\n",
       "      <td>21.00</td>\n",
       "      <td>70.00</td>\n",
       "      <td>52.00</td>\n",
       "      <td>38.00</td>\n",
       "      <td>39.00</td>\n",
       "      <td>44.00</td>\n",
       "      <td>57.00</td>\n",
       "      <td>75.00</td>\n",
       "      <td>51.00</td>\n",
       "      <td>82.00</td>\n",
       "    </tr>\n",
       "    <tr>\n",
       "      <th>119</th>\n",
       "      <td>Anaplasma_phagocytophilum_JM_uid213223</td>\n",
       "      <td>NC_021880</td>\n",
       "      <td>1481598</td>\n",
       "      <td>1190000</td>\n",
       "      <td>64.00</td>\n",
       "      <td>63.00</td>\n",
       "      <td>48.00</td>\n",
       "      <td>40.00</td>\n",
       "      <td>64.00</td>\n",
       "      <td>36.00</td>\n",
       "      <td>...</td>\n",
       "      <td>29.00</td>\n",
       "      <td>76.00</td>\n",
       "      <td>44.00</td>\n",
       "      <td>59.00</td>\n",
       "      <td>27.00</td>\n",
       "      <td>70.00</td>\n",
       "      <td>47.00</td>\n",
       "      <td>72.00</td>\n",
       "      <td>66.00</td>\n",
       "      <td>92.00</td>\n",
       "    </tr>\n",
       "    <tr>\n",
       "      <th>120</th>\n",
       "      <td>Anaplasma_phagocytophilum_JM_uid213223</td>\n",
       "      <td>NC_021880</td>\n",
       "      <td>1481598</td>\n",
       "      <td>1200000</td>\n",
       "      <td>128.00</td>\n",
       "      <td>62.00</td>\n",
       "      <td>46.00</td>\n",
       "      <td>95.00</td>\n",
       "      <td>104.00</td>\n",
       "      <td>45.00</td>\n",
       "      <td>...</td>\n",
       "      <td>22.00</td>\n",
       "      <td>75.00</td>\n",
       "      <td>33.00</td>\n",
       "      <td>57.00</td>\n",
       "      <td>18.00</td>\n",
       "      <td>42.00</td>\n",
       "      <td>75.00</td>\n",
       "      <td>50.00</td>\n",
       "      <td>38.00</td>\n",
       "      <td>91.00</td>\n",
       "    </tr>\n",
       "    <tr>\n",
       "      <th>121</th>\n",
       "      <td>Anaplasma_phagocytophilum_JM_uid213223</td>\n",
       "      <td>NC_021880</td>\n",
       "      <td>1481598</td>\n",
       "      <td>1210000</td>\n",
       "      <td>114.00</td>\n",
       "      <td>69.00</td>\n",
       "      <td>69.00</td>\n",
       "      <td>56.00</td>\n",
       "      <td>79.00</td>\n",
       "      <td>48.00</td>\n",
       "      <td>...</td>\n",
       "      <td>17.00</td>\n",
       "      <td>51.00</td>\n",
       "      <td>40.00</td>\n",
       "      <td>50.00</td>\n",
       "      <td>32.00</td>\n",
       "      <td>45.00</td>\n",
       "      <td>56.00</td>\n",
       "      <td>44.00</td>\n",
       "      <td>57.00</td>\n",
       "      <td>93.00</td>\n",
       "    </tr>\n",
       "    <tr>\n",
       "      <th>122</th>\n",
       "      <td>Anaplasma_phagocytophilum_JM_uid213223</td>\n",
       "      <td>NC_021880</td>\n",
       "      <td>1481598</td>\n",
       "      <td>1220000</td>\n",
       "      <td>111.00</td>\n",
       "      <td>76.00</td>\n",
       "      <td>50.00</td>\n",
       "      <td>58.00</td>\n",
       "      <td>84.00</td>\n",
       "      <td>55.00</td>\n",
       "      <td>...</td>\n",
       "      <td>31.00</td>\n",
       "      <td>84.00</td>\n",
       "      <td>47.00</td>\n",
       "      <td>55.00</td>\n",
       "      <td>36.00</td>\n",
       "      <td>39.00</td>\n",
       "      <td>57.00</td>\n",
       "      <td>86.00</td>\n",
       "      <td>54.00</td>\n",
       "      <td>130.00</td>\n",
       "    </tr>\n",
       "    <tr>\n",
       "      <th>123</th>\n",
       "      <td>Anaplasma_phagocytophilum_JM_uid213223</td>\n",
       "      <td>NC_021880</td>\n",
       "      <td>1481598</td>\n",
       "      <td>1230000</td>\n",
       "      <td>97.00</td>\n",
       "      <td>73.00</td>\n",
       "      <td>45.00</td>\n",
       "      <td>63.00</td>\n",
       "      <td>73.00</td>\n",
       "      <td>50.00</td>\n",
       "      <td>...</td>\n",
       "      <td>16.00</td>\n",
       "      <td>60.00</td>\n",
       "      <td>36.00</td>\n",
       "      <td>42.00</td>\n",
       "      <td>37.00</td>\n",
       "      <td>63.00</td>\n",
       "      <td>42.00</td>\n",
       "      <td>53.00</td>\n",
       "      <td>56.00</td>\n",
       "      <td>87.00</td>\n",
       "    </tr>\n",
       "    <tr>\n",
       "      <th>124</th>\n",
       "      <td>Anaplasma_phagocytophilum_JM_uid213223</td>\n",
       "      <td>NC_021880</td>\n",
       "      <td>1481598</td>\n",
       "      <td>1240000</td>\n",
       "      <td>77.00</td>\n",
       "      <td>62.00</td>\n",
       "      <td>56.00</td>\n",
       "      <td>66.00</td>\n",
       "      <td>76.00</td>\n",
       "      <td>43.00</td>\n",
       "      <td>...</td>\n",
       "      <td>28.00</td>\n",
       "      <td>66.00</td>\n",
       "      <td>47.00</td>\n",
       "      <td>40.00</td>\n",
       "      <td>28.00</td>\n",
       "      <td>46.00</td>\n",
       "      <td>70.00</td>\n",
       "      <td>61.00</td>\n",
       "      <td>56.00</td>\n",
       "      <td>77.00</td>\n",
       "    </tr>\n",
       "    <tr>\n",
       "      <th>125</th>\n",
       "      <td>Anaplasma_phagocytophilum_JM_uid213223</td>\n",
       "      <td>NC_021880</td>\n",
       "      <td>1481598</td>\n",
       "      <td>1250000</td>\n",
       "      <td>72.00</td>\n",
       "      <td>45.00</td>\n",
       "      <td>63.00</td>\n",
       "      <td>44.00</td>\n",
       "      <td>38.00</td>\n",
       "      <td>37.00</td>\n",
       "      <td>...</td>\n",
       "      <td>16.00</td>\n",
       "      <td>58.00</td>\n",
       "      <td>44.00</td>\n",
       "      <td>44.00</td>\n",
       "      <td>53.00</td>\n",
       "      <td>58.00</td>\n",
       "      <td>53.00</td>\n",
       "      <td>58.00</td>\n",
       "      <td>50.00</td>\n",
       "      <td>74.00</td>\n",
       "    </tr>\n",
       "    <tr>\n",
       "      <th>126</th>\n",
       "      <td>Anaplasma_phagocytophilum_JM_uid213223</td>\n",
       "      <td>NC_021880</td>\n",
       "      <td>1481598</td>\n",
       "      <td>1260000</td>\n",
       "      <td>79.00</td>\n",
       "      <td>63.00</td>\n",
       "      <td>51.00</td>\n",
       "      <td>49.00</td>\n",
       "      <td>67.00</td>\n",
       "      <td>50.00</td>\n",
       "      <td>...</td>\n",
       "      <td>29.00</td>\n",
       "      <td>65.00</td>\n",
       "      <td>32.00</td>\n",
       "      <td>48.00</td>\n",
       "      <td>32.00</td>\n",
       "      <td>49.00</td>\n",
       "      <td>46.00</td>\n",
       "      <td>55.00</td>\n",
       "      <td>44.00</td>\n",
       "      <td>73.00</td>\n",
       "    </tr>\n",
       "    <tr>\n",
       "      <th>127</th>\n",
       "      <td>Anaplasma_phagocytophilum_JM_uid213223</td>\n",
       "      <td>NC_021880</td>\n",
       "      <td>1481598</td>\n",
       "      <td>1270000</td>\n",
       "      <td>79.00</td>\n",
       "      <td>49.00</td>\n",
       "      <td>53.00</td>\n",
       "      <td>52.00</td>\n",
       "      <td>79.00</td>\n",
       "      <td>63.00</td>\n",
       "      <td>...</td>\n",
       "      <td>11.00</td>\n",
       "      <td>45.00</td>\n",
       "      <td>36.00</td>\n",
       "      <td>47.00</td>\n",
       "      <td>41.00</td>\n",
       "      <td>47.00</td>\n",
       "      <td>44.00</td>\n",
       "      <td>53.00</td>\n",
       "      <td>54.00</td>\n",
       "      <td>68.00</td>\n",
       "    </tr>\n",
       "    <tr>\n",
       "      <th>128</th>\n",
       "      <td>Anaplasma_phagocytophilum_JM_uid213223</td>\n",
       "      <td>NC_021880</td>\n",
       "      <td>1481598</td>\n",
       "      <td>1280000</td>\n",
       "      <td>130.00</td>\n",
       "      <td>80.00</td>\n",
       "      <td>57.00</td>\n",
       "      <td>71.00</td>\n",
       "      <td>84.00</td>\n",
       "      <td>74.00</td>\n",
       "      <td>...</td>\n",
       "      <td>23.00</td>\n",
       "      <td>75.00</td>\n",
       "      <td>35.00</td>\n",
       "      <td>40.00</td>\n",
       "      <td>14.00</td>\n",
       "      <td>44.00</td>\n",
       "      <td>47.00</td>\n",
       "      <td>49.00</td>\n",
       "      <td>37.00</td>\n",
       "      <td>61.00</td>\n",
       "    </tr>\n",
       "    <tr>\n",
       "      <th>129</th>\n",
       "      <td>Anaplasma_phagocytophilum_JM_uid213223</td>\n",
       "      <td>NC_021880</td>\n",
       "      <td>1481598</td>\n",
       "      <td>1290000</td>\n",
       "      <td>97.00</td>\n",
       "      <td>58.00</td>\n",
       "      <td>67.00</td>\n",
       "      <td>57.00</td>\n",
       "      <td>62.00</td>\n",
       "      <td>62.00</td>\n",
       "      <td>...</td>\n",
       "      <td>25.00</td>\n",
       "      <td>56.00</td>\n",
       "      <td>29.00</td>\n",
       "      <td>55.00</td>\n",
       "      <td>26.00</td>\n",
       "      <td>35.00</td>\n",
       "      <td>65.00</td>\n",
       "      <td>58.00</td>\n",
       "      <td>43.00</td>\n",
       "      <td>84.00</td>\n",
       "    </tr>\n",
       "    <tr>\n",
       "      <th>130</th>\n",
       "      <td>Anaplasma_phagocytophilum_JM_uid213223</td>\n",
       "      <td>NC_021880</td>\n",
       "      <td>1481598</td>\n",
       "      <td>1300000</td>\n",
       "      <td>65.00</td>\n",
       "      <td>43.00</td>\n",
       "      <td>50.00</td>\n",
       "      <td>46.00</td>\n",
       "      <td>40.00</td>\n",
       "      <td>31.00</td>\n",
       "      <td>...</td>\n",
       "      <td>29.00</td>\n",
       "      <td>74.00</td>\n",
       "      <td>52.00</td>\n",
       "      <td>58.00</td>\n",
       "      <td>61.00</td>\n",
       "      <td>62.00</td>\n",
       "      <td>57.00</td>\n",
       "      <td>64.00</td>\n",
       "      <td>72.00</td>\n",
       "      <td>97.00</td>\n",
       "    </tr>\n",
       "    <tr>\n",
       "      <th>131</th>\n",
       "      <td>Anaplasma_phagocytophilum_JM_uid213223</td>\n",
       "      <td>NC_021880</td>\n",
       "      <td>1481598</td>\n",
       "      <td>1310000</td>\n",
       "      <td>76.00</td>\n",
       "      <td>63.00</td>\n",
       "      <td>46.00</td>\n",
       "      <td>58.00</td>\n",
       "      <td>59.00</td>\n",
       "      <td>42.00</td>\n",
       "      <td>...</td>\n",
       "      <td>23.00</td>\n",
       "      <td>78.00</td>\n",
       "      <td>48.00</td>\n",
       "      <td>51.00</td>\n",
       "      <td>42.00</td>\n",
       "      <td>66.00</td>\n",
       "      <td>62.00</td>\n",
       "      <td>56.00</td>\n",
       "      <td>61.00</td>\n",
       "      <td>75.00</td>\n",
       "    </tr>\n",
       "    <tr>\n",
       "      <th>132</th>\n",
       "      <td>Anaplasma_phagocytophilum_JM_uid213223</td>\n",
       "      <td>NC_021880</td>\n",
       "      <td>1481598</td>\n",
       "      <td>1320000</td>\n",
       "      <td>80.00</td>\n",
       "      <td>62.00</td>\n",
       "      <td>43.00</td>\n",
       "      <td>57.00</td>\n",
       "      <td>59.00</td>\n",
       "      <td>49.00</td>\n",
       "      <td>...</td>\n",
       "      <td>26.00</td>\n",
       "      <td>53.00</td>\n",
       "      <td>33.00</td>\n",
       "      <td>51.00</td>\n",
       "      <td>30.00</td>\n",
       "      <td>51.00</td>\n",
       "      <td>56.00</td>\n",
       "      <td>59.00</td>\n",
       "      <td>44.00</td>\n",
       "      <td>84.00</td>\n",
       "    </tr>\n",
       "    <tr>\n",
       "      <th>133</th>\n",
       "      <td>Anaplasma_phagocytophilum_JM_uid213223</td>\n",
       "      <td>NC_021880</td>\n",
       "      <td>1481598</td>\n",
       "      <td>1330000</td>\n",
       "      <td>70.00</td>\n",
       "      <td>59.00</td>\n",
       "      <td>59.00</td>\n",
       "      <td>46.00</td>\n",
       "      <td>54.00</td>\n",
       "      <td>36.00</td>\n",
       "      <td>...</td>\n",
       "      <td>17.00</td>\n",
       "      <td>57.00</td>\n",
       "      <td>50.00</td>\n",
       "      <td>62.00</td>\n",
       "      <td>46.00</td>\n",
       "      <td>67.00</td>\n",
       "      <td>51.00</td>\n",
       "      <td>45.00</td>\n",
       "      <td>57.00</td>\n",
       "      <td>77.00</td>\n",
       "    </tr>\n",
       "    <tr>\n",
       "      <th>134</th>\n",
       "      <td>Anaplasma_phagocytophilum_JM_uid213223</td>\n",
       "      <td>NC_021880</td>\n",
       "      <td>1481598</td>\n",
       "      <td>1340000</td>\n",
       "      <td>83.00</td>\n",
       "      <td>59.00</td>\n",
       "      <td>54.00</td>\n",
       "      <td>49.00</td>\n",
       "      <td>60.00</td>\n",
       "      <td>52.00</td>\n",
       "      <td>...</td>\n",
       "      <td>30.00</td>\n",
       "      <td>74.00</td>\n",
       "      <td>50.00</td>\n",
       "      <td>45.00</td>\n",
       "      <td>29.00</td>\n",
       "      <td>61.00</td>\n",
       "      <td>63.00</td>\n",
       "      <td>74.00</td>\n",
       "      <td>50.00</td>\n",
       "      <td>91.00</td>\n",
       "    </tr>\n",
       "    <tr>\n",
       "      <th>135</th>\n",
       "      <td>Anaplasma_phagocytophilum_JM_uid213223</td>\n",
       "      <td>NC_021880</td>\n",
       "      <td>1481598</td>\n",
       "      <td>1350000</td>\n",
       "      <td>140.00</td>\n",
       "      <td>64.00</td>\n",
       "      <td>69.00</td>\n",
       "      <td>66.00</td>\n",
       "      <td>55.00</td>\n",
       "      <td>32.00</td>\n",
       "      <td>...</td>\n",
       "      <td>14.00</td>\n",
       "      <td>61.00</td>\n",
       "      <td>45.00</td>\n",
       "      <td>52.00</td>\n",
       "      <td>41.00</td>\n",
       "      <td>63.00</td>\n",
       "      <td>52.00</td>\n",
       "      <td>37.00</td>\n",
       "      <td>54.00</td>\n",
       "      <td>61.00</td>\n",
       "    </tr>\n",
       "    <tr>\n",
       "      <th>136</th>\n",
       "      <td>Anaplasma_phagocytophilum_JM_uid213223</td>\n",
       "      <td>NC_021880</td>\n",
       "      <td>1481598</td>\n",
       "      <td>1360000</td>\n",
       "      <td>75.00</td>\n",
       "      <td>54.00</td>\n",
       "      <td>57.00</td>\n",
       "      <td>58.00</td>\n",
       "      <td>60.00</td>\n",
       "      <td>29.00</td>\n",
       "      <td>...</td>\n",
       "      <td>27.00</td>\n",
       "      <td>69.00</td>\n",
       "      <td>62.00</td>\n",
       "      <td>44.00</td>\n",
       "      <td>56.00</td>\n",
       "      <td>50.00</td>\n",
       "      <td>60.00</td>\n",
       "      <td>63.00</td>\n",
       "      <td>52.00</td>\n",
       "      <td>80.00</td>\n",
       "    </tr>\n",
       "    <tr>\n",
       "      <th>137</th>\n",
       "      <td>Anaplasma_phagocytophilum_JM_uid213223</td>\n",
       "      <td>NC_021880</td>\n",
       "      <td>1481598</td>\n",
       "      <td>1370000</td>\n",
       "      <td>118.00</td>\n",
       "      <td>65.00</td>\n",
       "      <td>68.00</td>\n",
       "      <td>80.00</td>\n",
       "      <td>71.00</td>\n",
       "      <td>44.00</td>\n",
       "      <td>...</td>\n",
       "      <td>18.00</td>\n",
       "      <td>46.00</td>\n",
       "      <td>41.00</td>\n",
       "      <td>67.00</td>\n",
       "      <td>34.00</td>\n",
       "      <td>56.00</td>\n",
       "      <td>57.00</td>\n",
       "      <td>51.00</td>\n",
       "      <td>64.00</td>\n",
       "      <td>81.00</td>\n",
       "    </tr>\n",
       "    <tr>\n",
       "      <th>138</th>\n",
       "      <td>Anaplasma_phagocytophilum_JM_uid213223</td>\n",
       "      <td>NC_021880</td>\n",
       "      <td>1481598</td>\n",
       "      <td>1380000</td>\n",
       "      <td>129.00</td>\n",
       "      <td>73.00</td>\n",
       "      <td>77.00</td>\n",
       "      <td>77.00</td>\n",
       "      <td>90.00</td>\n",
       "      <td>53.00</td>\n",
       "      <td>...</td>\n",
       "      <td>20.00</td>\n",
       "      <td>52.00</td>\n",
       "      <td>35.00</td>\n",
       "      <td>34.00</td>\n",
       "      <td>26.00</td>\n",
       "      <td>35.00</td>\n",
       "      <td>55.00</td>\n",
       "      <td>52.00</td>\n",
       "      <td>46.00</td>\n",
       "      <td>73.00</td>\n",
       "    </tr>\n",
       "    <tr>\n",
       "      <th>139</th>\n",
       "      <td>Anaplasma_phagocytophilum_JM_uid213223</td>\n",
       "      <td>NC_021880</td>\n",
       "      <td>1481598</td>\n",
       "      <td>1390000</td>\n",
       "      <td>84.00</td>\n",
       "      <td>76.00</td>\n",
       "      <td>51.00</td>\n",
       "      <td>65.00</td>\n",
       "      <td>70.00</td>\n",
       "      <td>55.00</td>\n",
       "      <td>...</td>\n",
       "      <td>21.00</td>\n",
       "      <td>63.00</td>\n",
       "      <td>38.00</td>\n",
       "      <td>44.00</td>\n",
       "      <td>36.00</td>\n",
       "      <td>57.00</td>\n",
       "      <td>50.00</td>\n",
       "      <td>61.00</td>\n",
       "      <td>52.00</td>\n",
       "      <td>90.00</td>\n",
       "    </tr>\n",
       "    <tr>\n",
       "      <th>140</th>\n",
       "      <td>Anaplasma_phagocytophilum_JM_uid213223</td>\n",
       "      <td>NC_021880</td>\n",
       "      <td>1481598</td>\n",
       "      <td>1400000</td>\n",
       "      <td>88.00</td>\n",
       "      <td>63.00</td>\n",
       "      <td>63.00</td>\n",
       "      <td>60.00</td>\n",
       "      <td>74.00</td>\n",
       "      <td>52.00</td>\n",
       "      <td>...</td>\n",
       "      <td>23.00</td>\n",
       "      <td>65.00</td>\n",
       "      <td>26.00</td>\n",
       "      <td>50.00</td>\n",
       "      <td>29.00</td>\n",
       "      <td>49.00</td>\n",
       "      <td>54.00</td>\n",
       "      <td>55.00</td>\n",
       "      <td>49.00</td>\n",
       "      <td>79.00</td>\n",
       "    </tr>\n",
       "    <tr>\n",
       "      <th>141</th>\n",
       "      <td>Anaplasma_phagocytophilum_JM_uid213223</td>\n",
       "      <td>NC_021880</td>\n",
       "      <td>1481598</td>\n",
       "      <td>1410000</td>\n",
       "      <td>85.00</td>\n",
       "      <td>63.00</td>\n",
       "      <td>54.00</td>\n",
       "      <td>70.00</td>\n",
       "      <td>87.00</td>\n",
       "      <td>61.00</td>\n",
       "      <td>...</td>\n",
       "      <td>23.00</td>\n",
       "      <td>61.00</td>\n",
       "      <td>19.00</td>\n",
       "      <td>34.00</td>\n",
       "      <td>18.00</td>\n",
       "      <td>26.00</td>\n",
       "      <td>59.00</td>\n",
       "      <td>55.00</td>\n",
       "      <td>29.00</td>\n",
       "      <td>69.00</td>\n",
       "    </tr>\n",
       "    <tr>\n",
       "      <th>142</th>\n",
       "      <td>Anaplasma_phagocytophilum_JM_uid213223</td>\n",
       "      <td>NC_021880</td>\n",
       "      <td>1481598</td>\n",
       "      <td>1420000</td>\n",
       "      <td>96.00</td>\n",
       "      <td>59.00</td>\n",
       "      <td>72.00</td>\n",
       "      <td>66.00</td>\n",
       "      <td>63.00</td>\n",
       "      <td>52.00</td>\n",
       "      <td>...</td>\n",
       "      <td>14.00</td>\n",
       "      <td>75.00</td>\n",
       "      <td>46.00</td>\n",
       "      <td>45.00</td>\n",
       "      <td>43.00</td>\n",
       "      <td>52.00</td>\n",
       "      <td>60.00</td>\n",
       "      <td>46.00</td>\n",
       "      <td>46.00</td>\n",
       "      <td>60.00</td>\n",
       "    </tr>\n",
       "    <tr>\n",
       "      <th>143</th>\n",
       "      <td>Anaplasma_phagocytophilum_JM_uid213223</td>\n",
       "      <td>NC_021880</td>\n",
       "      <td>1481598</td>\n",
       "      <td>1430000</td>\n",
       "      <td>75.00</td>\n",
       "      <td>48.00</td>\n",
       "      <td>57.00</td>\n",
       "      <td>63.00</td>\n",
       "      <td>37.00</td>\n",
       "      <td>33.00</td>\n",
       "      <td>...</td>\n",
       "      <td>25.00</td>\n",
       "      <td>67.00</td>\n",
       "      <td>40.00</td>\n",
       "      <td>41.00</td>\n",
       "      <td>55.00</td>\n",
       "      <td>64.00</td>\n",
       "      <td>77.00</td>\n",
       "      <td>85.00</td>\n",
       "      <td>67.00</td>\n",
       "      <td>120.00</td>\n",
       "    </tr>\n",
       "    <tr>\n",
       "      <th>144</th>\n",
       "      <td>Anaplasma_phagocytophilum_JM_uid213223</td>\n",
       "      <td>NC_021880</td>\n",
       "      <td>1481598</td>\n",
       "      <td>1440000</td>\n",
       "      <td>97.00</td>\n",
       "      <td>52.00</td>\n",
       "      <td>70.00</td>\n",
       "      <td>96.00</td>\n",
       "      <td>47.00</td>\n",
       "      <td>32.00</td>\n",
       "      <td>...</td>\n",
       "      <td>22.00</td>\n",
       "      <td>61.00</td>\n",
       "      <td>58.00</td>\n",
       "      <td>53.00</td>\n",
       "      <td>25.00</td>\n",
       "      <td>59.00</td>\n",
       "      <td>72.00</td>\n",
       "      <td>65.00</td>\n",
       "      <td>65.00</td>\n",
       "      <td>121.00</td>\n",
       "    </tr>\n",
       "    <tr>\n",
       "      <th>145</th>\n",
       "      <td>Anaplasma_phagocytophilum_JM_uid213223</td>\n",
       "      <td>NC_021880</td>\n",
       "      <td>1481598</td>\n",
       "      <td>1450000</td>\n",
       "      <td>75.00</td>\n",
       "      <td>39.00</td>\n",
       "      <td>78.00</td>\n",
       "      <td>66.00</td>\n",
       "      <td>51.00</td>\n",
       "      <td>23.00</td>\n",
       "      <td>...</td>\n",
       "      <td>26.00</td>\n",
       "      <td>62.00</td>\n",
       "      <td>44.00</td>\n",
       "      <td>74.00</td>\n",
       "      <td>38.00</td>\n",
       "      <td>74.00</td>\n",
       "      <td>65.00</td>\n",
       "      <td>67.00</td>\n",
       "      <td>84.00</td>\n",
       "      <td>121.00</td>\n",
       "    </tr>\n",
       "    <tr>\n",
       "      <th>146</th>\n",
       "      <td>Anaplasma_phagocytophilum_JM_uid213223</td>\n",
       "      <td>NC_021880</td>\n",
       "      <td>1481598</td>\n",
       "      <td>1460000</td>\n",
       "      <td>70.00</td>\n",
       "      <td>63.00</td>\n",
       "      <td>45.00</td>\n",
       "      <td>43.00</td>\n",
       "      <td>79.00</td>\n",
       "      <td>62.00</td>\n",
       "      <td>...</td>\n",
       "      <td>19.00</td>\n",
       "      <td>49.00</td>\n",
       "      <td>42.00</td>\n",
       "      <td>49.00</td>\n",
       "      <td>31.00</td>\n",
       "      <td>45.00</td>\n",
       "      <td>57.00</td>\n",
       "      <td>48.00</td>\n",
       "      <td>40.00</td>\n",
       "      <td>79.00</td>\n",
       "    </tr>\n",
       "    <tr>\n",
       "      <th>147</th>\n",
       "      <td>Anaplasma_phagocytophilum_JM_uid213223</td>\n",
       "      <td>NC_021880</td>\n",
       "      <td>1481598</td>\n",
       "      <td>1470000</td>\n",
       "      <td>99.00</td>\n",
       "      <td>71.00</td>\n",
       "      <td>63.00</td>\n",
       "      <td>80.00</td>\n",
       "      <td>73.00</td>\n",
       "      <td>60.00</td>\n",
       "      <td>...</td>\n",
       "      <td>22.00</td>\n",
       "      <td>79.00</td>\n",
       "      <td>22.00</td>\n",
       "      <td>40.00</td>\n",
       "      <td>25.00</td>\n",
       "      <td>43.00</td>\n",
       "      <td>55.00</td>\n",
       "      <td>71.00</td>\n",
       "      <td>29.00</td>\n",
       "      <td>108.00</td>\n",
       "    </tr>\n",
       "  </tbody>\n",
       "</table>\n",
       "<p>148 rows × 260 columns</p>\n",
       "</div>"
      ],
      "text/plain": [
       "                                   bacteria        fna  len_genome    start  \\\n",
       "0    Anaplasma_phagocytophilum_JM_uid213223  NC_021880     1481598        0   \n",
       "1    Anaplasma_phagocytophilum_JM_uid213223  NC_021880     1481598    10000   \n",
       "2    Anaplasma_phagocytophilum_JM_uid213223  NC_021880     1481598    20000   \n",
       "3    Anaplasma_phagocytophilum_JM_uid213223  NC_021880     1481598    30000   \n",
       "4    Anaplasma_phagocytophilum_JM_uid213223  NC_021880     1481598    40000   \n",
       "5    Anaplasma_phagocytophilum_JM_uid213223  NC_021880     1481598    50000   \n",
       "6    Anaplasma_phagocytophilum_JM_uid213223  NC_021880     1481598    60000   \n",
       "7    Anaplasma_phagocytophilum_JM_uid213223  NC_021880     1481598    70000   \n",
       "8    Anaplasma_phagocytophilum_JM_uid213223  NC_021880     1481598    80000   \n",
       "9    Anaplasma_phagocytophilum_JM_uid213223  NC_021880     1481598    90000   \n",
       "10   Anaplasma_phagocytophilum_JM_uid213223  NC_021880     1481598   100000   \n",
       "11   Anaplasma_phagocytophilum_JM_uid213223  NC_021880     1481598   110000   \n",
       "12   Anaplasma_phagocytophilum_JM_uid213223  NC_021880     1481598   120000   \n",
       "13   Anaplasma_phagocytophilum_JM_uid213223  NC_021880     1481598   130000   \n",
       "14   Anaplasma_phagocytophilum_JM_uid213223  NC_021880     1481598   140000   \n",
       "15   Anaplasma_phagocytophilum_JM_uid213223  NC_021880     1481598   150000   \n",
       "16   Anaplasma_phagocytophilum_JM_uid213223  NC_021880     1481598   160000   \n",
       "17   Anaplasma_phagocytophilum_JM_uid213223  NC_021880     1481598   170000   \n",
       "18   Anaplasma_phagocytophilum_JM_uid213223  NC_021880     1481598   180000   \n",
       "19   Anaplasma_phagocytophilum_JM_uid213223  NC_021880     1481598   190000   \n",
       "20   Anaplasma_phagocytophilum_JM_uid213223  NC_021880     1481598   200000   \n",
       "21   Anaplasma_phagocytophilum_JM_uid213223  NC_021880     1481598   210000   \n",
       "22   Anaplasma_phagocytophilum_JM_uid213223  NC_021880     1481598   220000   \n",
       "23   Anaplasma_phagocytophilum_JM_uid213223  NC_021880     1481598   230000   \n",
       "24   Anaplasma_phagocytophilum_JM_uid213223  NC_021880     1481598   240000   \n",
       "25   Anaplasma_phagocytophilum_JM_uid213223  NC_021880     1481598   250000   \n",
       "26   Anaplasma_phagocytophilum_JM_uid213223  NC_021880     1481598   260000   \n",
       "27   Anaplasma_phagocytophilum_JM_uid213223  NC_021880     1481598   270000   \n",
       "28   Anaplasma_phagocytophilum_JM_uid213223  NC_021880     1481598   280000   \n",
       "29   Anaplasma_phagocytophilum_JM_uid213223  NC_021880     1481598   290000   \n",
       "..                                      ...        ...         ...      ...   \n",
       "118  Anaplasma_phagocytophilum_JM_uid213223  NC_021880     1481598  1180000   \n",
       "119  Anaplasma_phagocytophilum_JM_uid213223  NC_021880     1481598  1190000   \n",
       "120  Anaplasma_phagocytophilum_JM_uid213223  NC_021880     1481598  1200000   \n",
       "121  Anaplasma_phagocytophilum_JM_uid213223  NC_021880     1481598  1210000   \n",
       "122  Anaplasma_phagocytophilum_JM_uid213223  NC_021880     1481598  1220000   \n",
       "123  Anaplasma_phagocytophilum_JM_uid213223  NC_021880     1481598  1230000   \n",
       "124  Anaplasma_phagocytophilum_JM_uid213223  NC_021880     1481598  1240000   \n",
       "125  Anaplasma_phagocytophilum_JM_uid213223  NC_021880     1481598  1250000   \n",
       "126  Anaplasma_phagocytophilum_JM_uid213223  NC_021880     1481598  1260000   \n",
       "127  Anaplasma_phagocytophilum_JM_uid213223  NC_021880     1481598  1270000   \n",
       "128  Anaplasma_phagocytophilum_JM_uid213223  NC_021880     1481598  1280000   \n",
       "129  Anaplasma_phagocytophilum_JM_uid213223  NC_021880     1481598  1290000   \n",
       "130  Anaplasma_phagocytophilum_JM_uid213223  NC_021880     1481598  1300000   \n",
       "131  Anaplasma_phagocytophilum_JM_uid213223  NC_021880     1481598  1310000   \n",
       "132  Anaplasma_phagocytophilum_JM_uid213223  NC_021880     1481598  1320000   \n",
       "133  Anaplasma_phagocytophilum_JM_uid213223  NC_021880     1481598  1330000   \n",
       "134  Anaplasma_phagocytophilum_JM_uid213223  NC_021880     1481598  1340000   \n",
       "135  Anaplasma_phagocytophilum_JM_uid213223  NC_021880     1481598  1350000   \n",
       "136  Anaplasma_phagocytophilum_JM_uid213223  NC_021880     1481598  1360000   \n",
       "137  Anaplasma_phagocytophilum_JM_uid213223  NC_021880     1481598  1370000   \n",
       "138  Anaplasma_phagocytophilum_JM_uid213223  NC_021880     1481598  1380000   \n",
       "139  Anaplasma_phagocytophilum_JM_uid213223  NC_021880     1481598  1390000   \n",
       "140  Anaplasma_phagocytophilum_JM_uid213223  NC_021880     1481598  1400000   \n",
       "141  Anaplasma_phagocytophilum_JM_uid213223  NC_021880     1481598  1410000   \n",
       "142  Anaplasma_phagocytophilum_JM_uid213223  NC_021880     1481598  1420000   \n",
       "143  Anaplasma_phagocytophilum_JM_uid213223  NC_021880     1481598  1430000   \n",
       "144  Anaplasma_phagocytophilum_JM_uid213223  NC_021880     1481598  1440000   \n",
       "145  Anaplasma_phagocytophilum_JM_uid213223  NC_021880     1481598  1450000   \n",
       "146  Anaplasma_phagocytophilum_JM_uid213223  NC_021880     1481598  1460000   \n",
       "147  Anaplasma_phagocytophilum_JM_uid213223  NC_021880     1481598  1470000   \n",
       "\n",
       "      AAAA  AAAC  AAAG   AAAT   AACA  AACC  ...  TTCG  TTCT  TTGA   TTGC  \\\n",
       "0   137.00 33.00 79.00  82.00  44.00 16.00  ... 25.00 58.00 63.00  48.00   \n",
       "1   170.00 68.00 99.00 103.00  73.00 25.00  ... 19.00 70.00 67.00  41.00   \n",
       "2    61.00 40.00 61.00  56.00  53.00 31.00  ... 24.00 85.00 49.00  46.00   \n",
       "3    95.00 58.00 51.00  77.00  44.00 40.00  ... 24.00 46.00 52.00  53.00   \n",
       "4    64.00 31.00 62.00  47.00  59.00 27.00  ... 18.00 61.00 61.00  58.00   \n",
       "5    88.00 28.00 56.00  71.00  31.00 16.00  ... 26.00 91.00 56.00  55.00   \n",
       "6   103.00 59.00 73.00  62.00  52.00 39.00  ... 27.00 79.00 48.00  43.00   \n",
       "7    78.00 40.00 80.00  53.00  36.00 17.00  ... 28.00 48.00 71.00  52.00   \n",
       "8    88.00 54.00 65.00  75.00  54.00 37.00  ... 21.00 58.00 51.00  40.00   \n",
       "9    48.00 41.00 39.00  52.00  41.00 39.00  ... 12.00 69.00 52.00  44.00   \n",
       "10   53.00 17.00 46.00  48.00  35.00 20.00  ... 29.00 70.00 49.00  66.00   \n",
       "11   59.00 32.00 52.00  64.00  31.00 11.00  ... 31.00 88.00 59.00  53.00   \n",
       "12   89.00 38.00 53.00  56.00  35.00 23.00  ... 23.00 86.00 55.00  71.00   \n",
       "13   69.00 57.00 65.00  45.00  56.00 57.00  ... 24.00 67.00 33.00  61.00   \n",
       "14   69.00 50.00 51.00  61.00  64.00 50.00  ... 28.00 57.00 42.00  45.00   \n",
       "15   35.00 14.00 36.00  36.00  17.00  7.00  ... 39.00 72.00 61.00  74.00   \n",
       "16   53.00 19.00 54.00  46.00  23.00 13.00  ... 24.00 54.00 62.00  64.00   \n",
       "17   88.00 53.00 87.00  56.00  76.00 39.00  ... 17.00 52.00 40.00  45.00   \n",
       "18   77.00 51.00 60.00  70.00  73.00 33.00  ... 17.00 67.00 34.00  58.00   \n",
       "19   69.00 35.00 63.00  48.00  36.00 25.00  ... 24.00 57.00 45.00  60.00   \n",
       "20   64.00 39.00 51.00  58.00  51.00 23.00  ... 21.00 69.00 42.00  57.00   \n",
       "21   61.00 35.00 83.00  52.00  44.00 26.00  ... 18.00 71.00 52.00  56.00   \n",
       "22   64.00 47.00 66.00  33.00  42.00 45.00  ... 20.00 65.00 46.00  50.00   \n",
       "23   57.00 39.00 51.00  52.00  48.00 26.00  ... 32.00 85.00 64.00  64.00   \n",
       "24   53.00 31.00 51.00  52.00  31.00 27.00  ... 30.00 77.00 51.00  62.00   \n",
       "25   70.00 31.00 51.00  53.00  43.00 24.00  ... 24.00 72.00 35.00  60.00   \n",
       "26  136.00 69.00 70.00  65.00  72.00 54.00  ... 18.00 87.00 28.00  41.00   \n",
       "27   40.00 20.00 79.00  35.00  32.00 11.00  ... 26.00 54.00 58.00  53.00   \n",
       "28   40.00 15.00 66.00  39.00  16.00  8.00  ... 22.00 83.00 79.00  72.00   \n",
       "29   81.00 42.00 55.00  52.00  40.00 27.00  ... 21.00 76.00 40.00 102.00   \n",
       "..     ...   ...   ...    ...    ...   ...  ...   ...   ...   ...    ...   \n",
       "118  87.00 55.00 53.00  64.00  69.00 48.00  ... 21.00 70.00 52.00  38.00   \n",
       "119  64.00 63.00 48.00  40.00  64.00 36.00  ... 29.00 76.00 44.00  59.00   \n",
       "120 128.00 62.00 46.00  95.00 104.00 45.00  ... 22.00 75.00 33.00  57.00   \n",
       "121 114.00 69.00 69.00  56.00  79.00 48.00  ... 17.00 51.00 40.00  50.00   \n",
       "122 111.00 76.00 50.00  58.00  84.00 55.00  ... 31.00 84.00 47.00  55.00   \n",
       "123  97.00 73.00 45.00  63.00  73.00 50.00  ... 16.00 60.00 36.00  42.00   \n",
       "124  77.00 62.00 56.00  66.00  76.00 43.00  ... 28.00 66.00 47.00  40.00   \n",
       "125  72.00 45.00 63.00  44.00  38.00 37.00  ... 16.00 58.00 44.00  44.00   \n",
       "126  79.00 63.00 51.00  49.00  67.00 50.00  ... 29.00 65.00 32.00  48.00   \n",
       "127  79.00 49.00 53.00  52.00  79.00 63.00  ... 11.00 45.00 36.00  47.00   \n",
       "128 130.00 80.00 57.00  71.00  84.00 74.00  ... 23.00 75.00 35.00  40.00   \n",
       "129  97.00 58.00 67.00  57.00  62.00 62.00  ... 25.00 56.00 29.00  55.00   \n",
       "130  65.00 43.00 50.00  46.00  40.00 31.00  ... 29.00 74.00 52.00  58.00   \n",
       "131  76.00 63.00 46.00  58.00  59.00 42.00  ... 23.00 78.00 48.00  51.00   \n",
       "132  80.00 62.00 43.00  57.00  59.00 49.00  ... 26.00 53.00 33.00  51.00   \n",
       "133  70.00 59.00 59.00  46.00  54.00 36.00  ... 17.00 57.00 50.00  62.00   \n",
       "134  83.00 59.00 54.00  49.00  60.00 52.00  ... 30.00 74.00 50.00  45.00   \n",
       "135 140.00 64.00 69.00  66.00  55.00 32.00  ... 14.00 61.00 45.00  52.00   \n",
       "136  75.00 54.00 57.00  58.00  60.00 29.00  ... 27.00 69.00 62.00  44.00   \n",
       "137 118.00 65.00 68.00  80.00  71.00 44.00  ... 18.00 46.00 41.00  67.00   \n",
       "138 129.00 73.00 77.00  77.00  90.00 53.00  ... 20.00 52.00 35.00  34.00   \n",
       "139  84.00 76.00 51.00  65.00  70.00 55.00  ... 21.00 63.00 38.00  44.00   \n",
       "140  88.00 63.00 63.00  60.00  74.00 52.00  ... 23.00 65.00 26.00  50.00   \n",
       "141  85.00 63.00 54.00  70.00  87.00 61.00  ... 23.00 61.00 19.00  34.00   \n",
       "142  96.00 59.00 72.00  66.00  63.00 52.00  ... 14.00 75.00 46.00  45.00   \n",
       "143  75.00 48.00 57.00  63.00  37.00 33.00  ... 25.00 67.00 40.00  41.00   \n",
       "144  97.00 52.00 70.00  96.00  47.00 32.00  ... 22.00 61.00 58.00  53.00   \n",
       "145  75.00 39.00 78.00  66.00  51.00 23.00  ... 26.00 62.00 44.00  74.00   \n",
       "146  70.00 63.00 45.00  43.00  79.00 62.00  ... 19.00 49.00 42.00  49.00   \n",
       "147  99.00 71.00 63.00  80.00  73.00 60.00  ... 22.00 79.00 22.00  40.00   \n",
       "\n",
       "     TTGG  TTGT  TTTA  TTTC   TTTG   TTTT  \n",
       "0   63.00 56.00 75.00 64.00  77.00 134.00  \n",
       "1   35.00 45.00 70.00 36.00  60.00  88.00  \n",
       "2   41.00 77.00 72.00 86.00  72.00 156.00  \n",
       "3   28.00 66.00 58.00 48.00  54.00  88.00  \n",
       "4   58.00 72.00 63.00 55.00  84.00 100.00  \n",
       "5   56.00 75.00 71.00 83.00  84.00 126.00  \n",
       "6   35.00 61.00 52.00 56.00  66.00  86.00  \n",
       "7   46.00 73.00 65.00 45.00  89.00 151.00  \n",
       "8   37.00 70.00 61.00 56.00  60.00  83.00  \n",
       "9   40.00 60.00 66.00 62.00  65.00  97.00  \n",
       "10  52.00 61.00 68.00 77.00  73.00 122.00  \n",
       "11  51.00 93.00 65.00 50.00  93.00 122.00  \n",
       "12  50.00 70.00 78.00 69.00  91.00 132.00  \n",
       "13  39.00 44.00 62.00 51.00  57.00  91.00  \n",
       "14  25.00 55.00 63.00 69.00  65.00 108.00  \n",
       "15  77.00 94.00 61.00 51.00  95.00 118.00  \n",
       "16  64.00 63.00 53.00 60.00  86.00  82.00  \n",
       "17  36.00 54.00 55.00 61.00  43.00  94.00  \n",
       "18  32.00 50.00 51.00 64.00  61.00  68.00  \n",
       "19  49.00 71.00 54.00 69.00  63.00  97.00  \n",
       "20  32.00 72.00 70.00 68.00  68.00 105.00  \n",
       "21  27.00 46.00 52.00 66.00  57.00  97.00  \n",
       "22  39.00 73.00 59.00 68.00  78.00 101.00  \n",
       "23  28.00 74.00 57.00 74.00  78.00 134.00  \n",
       "24  37.00 54.00 63.00 64.00  72.00  96.00  \n",
       "25  41.00 70.00 58.00 58.00  70.00 130.00  \n",
       "26  27.00 35.00 50.00 72.00  45.00  84.00  \n",
       "27  66.00 74.00 54.00 39.00  78.00  97.00  \n",
       "28  62.00 89.00 66.00 53.00 101.00 108.00  \n",
       "29  43.00 98.00 67.00 64.00  78.00 117.00  \n",
       "..    ...   ...   ...   ...    ...    ...  \n",
       "118 39.00 44.00 57.00 75.00  51.00  82.00  \n",
       "119 27.00 70.00 47.00 72.00  66.00  92.00  \n",
       "120 18.00 42.00 75.00 50.00  38.00  91.00  \n",
       "121 32.00 45.00 56.00 44.00  57.00  93.00  \n",
       "122 36.00 39.00 57.00 86.00  54.00 130.00  \n",
       "123 37.00 63.00 42.00 53.00  56.00  87.00  \n",
       "124 28.00 46.00 70.00 61.00  56.00  77.00  \n",
       "125 53.00 58.00 53.00 58.00  50.00  74.00  \n",
       "126 32.00 49.00 46.00 55.00  44.00  73.00  \n",
       "127 41.00 47.00 44.00 53.00  54.00  68.00  \n",
       "128 14.00 44.00 47.00 49.00  37.00  61.00  \n",
       "129 26.00 35.00 65.00 58.00  43.00  84.00  \n",
       "130 61.00 62.00 57.00 64.00  72.00  97.00  \n",
       "131 42.00 66.00 62.00 56.00  61.00  75.00  \n",
       "132 30.00 51.00 56.00 59.00  44.00  84.00  \n",
       "133 46.00 67.00 51.00 45.00  57.00  77.00  \n",
       "134 29.00 61.00 63.00 74.00  50.00  91.00  \n",
       "135 41.00 63.00 52.00 37.00  54.00  61.00  \n",
       "136 56.00 50.00 60.00 63.00  52.00  80.00  \n",
       "137 34.00 56.00 57.00 51.00  64.00  81.00  \n",
       "138 26.00 35.00 55.00 52.00  46.00  73.00  \n",
       "139 36.00 57.00 50.00 61.00  52.00  90.00  \n",
       "140 29.00 49.00 54.00 55.00  49.00  79.00  \n",
       "141 18.00 26.00 59.00 55.00  29.00  69.00  \n",
       "142 43.00 52.00 60.00 46.00  46.00  60.00  \n",
       "143 55.00 64.00 77.00 85.00  67.00 120.00  \n",
       "144 25.00 59.00 72.00 65.00  65.00 121.00  \n",
       "145 38.00 74.00 65.00 67.00  84.00 121.00  \n",
       "146 31.00 45.00 57.00 48.00  40.00  79.00  \n",
       "147 25.00 43.00 55.00 71.00  29.00 108.00  \n",
       "\n",
       "[148 rows x 260 columns]"
      ]
     },
     "execution_count": 61,
     "metadata": {},
     "output_type": "execute_result"
    }
   ],
   "source": [
    "all_all_df[all_all_df.bacteria == \"Anaplasma_phagocytophilum_JM_uid213223\"]"
   ]
  },
  {
   "cell_type": "code",
   "execution_count": null,
   "metadata": {
    "collapsed": false,
    "deletable": true,
    "editable": true,
    "scrolled": true
   },
   "outputs": [],
   "source": [
    "all_results[\"_nothing-20_10000-samples_100-bac\"][0]"
   ]
  },
  {
   "cell_type": "code",
   "execution_count": null,
   "metadata": {
    "collapsed": false,
    "deletable": true,
    "editable": true
   },
   "outputs": [],
   "source": [
    "len(all_results.keys())"
   ]
  },
  {
   "cell_type": "code",
   "execution_count": null,
   "metadata": {
    "collapsed": false,
    "deletable": true,
    "editable": true,
    "scrolled": true
   },
   "outputs": [],
   "source": [
    "for key in all_results.keys():\n",
    "    print(key)\n",
    "    print(all_results[key][0])"
   ]
  },
  {
   "cell_type": "code",
   "execution_count": null,
   "metadata": {
    "collapsed": true,
    "deletable": true,
    "editable": true
   },
   "outputs": [],
   "source": []
  },
  {
   "cell_type": "markdown",
   "metadata": {
    "collapsed": false,
    "deletable": true,
    "editable": true
   },
   "source": [
    "\n",
    "\n",
    "### End of the script.\n",
    "Sylvain @GIS"
   ]
  },
  {
   "cell_type": "code",
   "execution_count": null,
   "metadata": {
    "collapsed": true,
    "deletable": true,
    "editable": true
   },
   "outputs": [],
   "source": []
  },
  {
   "cell_type": "code",
   "execution_count": null,
   "metadata": {
    "collapsed": false,
    "deletable": true,
    "editable": true
   },
   "outputs": [],
   "source": [
    "ranking_ml(pd_res, 1000)"
   ]
  },
  {
   "cell_type": "code",
   "execution_count": null,
   "metadata": {
    "collapsed": true,
    "deletable": true,
    "editable": true
   },
   "outputs": [],
   "source": [
    "pd_res"
   ]
  },
  {
   "cell_type": "code",
   "execution_count": null,
   "metadata": {
    "collapsed": false,
    "deletable": true,
    "editable": true,
    "scrolled": true
   },
   "outputs": [],
   "source": [
    "pd_res[f\"RF_pred\"].str.split(\"_\", 2).str[1]"
   ]
  },
  {
   "cell_type": "code",
   "execution_count": null,
   "metadata": {
    "collapsed": false,
    "deletable": true,
    "editable": true,
    "scrolled": true
   },
   "outputs": [],
   "source": [
    "pd_res.Ground_Truth.str.split(\"_\", 1).str[0] == pd_res[f\"RF_pred\"].str.split(\"_\", 1).str[0]"
   ]
  },
  {
   "cell_type": "code",
   "execution_count": null,
   "metadata": {
    "collapsed": false,
    "deletable": true,
    "editable": true,
    "scrolled": true
   },
   "outputs": [],
   "source": [
    "pd_res.Ground_Truth == pd_res[f\"RF_pred\"]"
   ]
  },
  {
   "cell_type": "code",
   "execution_count": null,
   "metadata": {
    "collapsed": true,
    "deletable": true,
    "editable": true
   },
   "outputs": [],
   "source": []
  },
  {
   "cell_type": "code",
   "execution_count": null,
   "metadata": {
    "collapsed": true,
    "deletable": true,
    "editable": true
   },
   "outputs": [],
   "source": []
  },
  {
   "cell_type": "code",
   "execution_count": null,
   "metadata": {
    "collapsed": true,
    "deletable": true,
    "editable": true
   },
   "outputs": [],
   "source": []
  },
  {
   "cell_type": "code",
   "execution_count": null,
   "metadata": {
    "collapsed": true,
    "deletable": true,
    "editable": true
   },
   "outputs": [],
   "source": [
    "path_models = \"ml_models/\"\n",
    "path_models = os.path.join(path_4mer, path_models)"
   ]
  },
  {
   "cell_type": "code",
   "execution_count": null,
   "metadata": {
    "collapsed": true,
    "deletable": true,
    "editable": true
   },
   "outputs": [],
   "source": [
    "n_samples = 10000\n",
    "n_bacteria = 100\n",
    "random_seed = 0\n",
    "dim_reduc_tool = \"PCA\"\n",
    "components = 10\n",
    "test_ratio = 0.1"
   ]
  },
  {
   "cell_type": "code",
   "execution_count": null,
   "metadata": {
    "collapsed": true,
    "deletable": true,
    "editable": true
   },
   "outputs": [],
   "source": [
    "name_run = f\"_{dim_reduc_tool}-{components}_{n_samples}-samples_{n_bacteria}-bac\""
   ]
  },
  {
   "cell_type": "code",
   "execution_count": null,
   "metadata": {
    "collapsed": true,
    "deletable": true,
    "editable": true
   },
   "outputs": [],
   "source": [
    "all_df = all_all_df[all_all_df.bacteria.isin(all_all_df.bacteria.unique()[:n_bacteria])].sample(n_samples)"
   ]
  },
  {
   "cell_type": "code",
   "execution_count": null,
   "metadata": {
    "collapsed": true,
    "deletable": true,
    "editable": true
   },
   "outputs": [],
   "source": [
    "y = all_df[\"bacteria\"]\n",
    "x = all_df[cols_kmers]"
   ]
  },
  {
   "cell_type": "code",
   "execution_count": null,
   "metadata": {
    "collapsed": true,
    "deletable": true,
    "editable": true
   },
   "outputs": [],
   "source": [
    "# average each row ?"
   ]
  },
  {
   "cell_type": "code",
   "execution_count": null,
   "metadata": {
    "collapsed": false,
    "deletable": true,
    "editable": true,
    "scrolled": true
   },
   "outputs": [],
   "source": [
    "x, y = dim_reduc[dim_reduc_tool](x, y, components)"
   ]
  },
  {
   "cell_type": "code",
   "execution_count": null,
   "metadata": {
    "collapsed": false,
    "deletable": true,
    "editable": true
   },
   "outputs": [],
   "source": [
    "x = pd.DataFrame(scale(x), index=x.index, columns=x.columns)"
   ]
  },
  {
   "cell_type": "code",
   "execution_count": null,
   "metadata": {
    "collapsed": false,
    "deletable": true,
    "editable": true
   },
   "outputs": [],
   "source": [
    "X_train, X_test, y_train, y_test = train_test_split(x, y, test_size=test_ratio, random_state=random_seed)"
   ]
  },
  {
   "cell_type": "code",
   "execution_count": null,
   "metadata": {
    "collapsed": true,
    "deletable": true,
    "editable": true
   },
   "outputs": [],
   "source": [
    "models_names = ['RF', 'SVM_lin', 'SVM_rbf', 'KNeigh', 'DTree', 'NNet', 'Naive_Bayes', 'QDA']"
   ]
  },
  {
   "cell_type": "code",
   "execution_count": null,
   "metadata": {
    "collapsed": false,
    "deletable": true,
    "editable": true
   },
   "outputs": [],
   "source": [
    "results = launch_models(models_names, X_train, y_train, X_test, y_test, path_models, )  # name_run"
   ]
  },
  {
   "cell_type": "code",
   "execution_count": null,
   "metadata": {
    "collapsed": false,
    "deletable": true,
    "editable": true
   },
   "outputs": [],
   "source": [
    "pd_res = pred_accuracy(results, y_test)\n",
    "pd_res.to_pickle(os.path.join(path_models, f\"_results_{name_run}.pd\"))"
   ]
  },
  {
   "cell_type": "code",
   "execution_count": null,
   "metadata": {
    "collapsed": false,
    "deletable": true,
    "editable": true
   },
   "outputs": [],
   "source": [
    "pd_res.shape"
   ]
  },
  {
   "cell_type": "code",
   "execution_count": null,
   "metadata": {
    "collapsed": true,
    "deletable": true,
    "editable": true
   },
   "outputs": [],
   "source": [
    "pd_ranking = ranking_ml(pd_res, test_ratio * n_samples)\n",
    "pd_ranking.to_pickle(os.path.join(path_models, f\"_ranking_{name_run}.pd\"))\n",
    "pd_ranking"
   ]
  },
  {
   "cell_type": "code",
   "execution_count": null,
   "metadata": {
    "collapsed": true,
    "deletable": true,
    "editable": true
   },
   "outputs": [],
   "source": []
  },
  {
   "cell_type": "code",
   "execution_count": null,
   "metadata": {
    "collapsed": true,
    "deletable": true,
    "editable": true
   },
   "outputs": [],
   "source": []
  },
  {
   "cell_type": "code",
   "execution_count": null,
   "metadata": {
    "collapsed": true,
    "deletable": true,
    "editable": true
   },
   "outputs": [],
   "source": []
  },
  {
   "cell_type": "code",
   "execution_count": null,
   "metadata": {
    "collapsed": true,
    "deletable": true,
    "editable": true
   },
   "outputs": [],
   "source": []
  },
  {
   "cell_type": "code",
   "execution_count": null,
   "metadata": {
    "collapsed": true,
    "deletable": true,
    "editable": true
   },
   "outputs": [],
   "source": []
  },
  {
   "cell_type": "code",
   "execution_count": null,
   "metadata": {
    "collapsed": true,
    "deletable": true,
    "editable": true
   },
   "outputs": [],
   "source": []
  },
  {
   "cell_type": "code",
   "execution_count": null,
   "metadata": {
    "collapsed": false,
    "deletable": true,
    "editable": true
   },
   "outputs": [],
   "source": [
    "class subSample:\n",
    "    \"\"\" Attempt to use Pipeline correctly\n",
    "        Select a subset of the available bacteria, and subsample again a number of windows\n",
    "    \"\"\"\n",
    "    \n",
    "    def __init__(self, n_samples=10000, n_species=100, random_state=0):\n",
    "        self.n_samples = n_samples\n",
    "        self.n_species = n_species\n",
    "        self.random_state = random_state\n",
    "        self._queried = None\n",
    "        \n",
    "    def fit(self, X, y):\n",
    "        assert len(X) > self.n_samples, f\"Dataset has less rows ({len(X)}) than the requested number of samples\"\n",
    "        assert len(y.unique()) > self.n_species, f\"Dataset has less number of species \"\\\n",
    "                                                 f\"({len(y.unique())}) than the requested number of samples\"\n",
    "        if self.n_species < 0:\n",
    "            self._queried = y.index\n",
    "        else:\n",
    "            self._queried = y[y.values.isin(y.unique()[:self.n_species])].index\n",
    "        return self\n",
    "    \n",
    "    def transform(self, X, y=None):\n",
    "        if y is None:\n",
    "            if self.n_samples < 0:\n",
    "                return X.iloc[self._queried]\n",
    "            return X.iloc[self._queried].sample(self.n_samples, random_state=self.random_state)\n",
    "        else:\n",
    "            if self.n_samples < 0:\n",
    "                return (X.iloc[self._queried],\n",
    "                        y.iloc[self._queried]\n",
    "                       )\n",
    "            return (X.iloc[self._queried].sample(self.n_samples, random_state=self.random_state),\n",
    "                    y.iloc[self._queried].sample(self.n_samples, random_state=self.random_state))\n",
    "        \n",
    "        return \n",
    "    \n",
    "    def fit_transform(self, X, y):\n",
    "        self.fit(X, y)\n",
    "        return self.transform(X, y)"
   ]
  },
  {
   "cell_type": "code",
   "execution_count": null,
   "metadata": {
    "collapsed": true,
    "deletable": true,
    "editable": true
   },
   "outputs": [],
   "source": [
    "subSam = subSample()"
   ]
  },
  {
   "cell_type": "code",
   "execution_count": null,
   "metadata": {
    "collapsed": false,
    "deletable": true,
    "editable": true
   },
   "outputs": [],
   "source": [
    "subSam.fit(all_all_df[cols_kmers], all_all_df[\"bacteria\"])"
   ]
  },
  {
   "cell_type": "code",
   "execution_count": null,
   "metadata": {
    "collapsed": false,
    "deletable": true,
    "editable": true
   },
   "outputs": [],
   "source": [
    "X, y = subSam.fit_transform(all_all_df[cols_kmers], all_all_df[\"bacteria\"])"
   ]
  },
  {
   "cell_type": "code",
   "execution_count": null,
   "metadata": {
    "collapsed": false,
    "deletable": true,
    "editable": true
   },
   "outputs": [],
   "source": [
    "res[0].shape"
   ]
  },
  {
   "cell_type": "code",
   "execution_count": null,
   "metadata": {
    "collapsed": true,
    "deletable": true,
    "editable": true
   },
   "outputs": [],
   "source": []
  },
  {
   "cell_type": "code",
   "execution_count": null,
   "metadata": {
    "collapsed": true,
    "deletable": true,
    "editable": true
   },
   "outputs": [],
   "source": []
  },
  {
   "cell_type": "code",
   "execution_count": null,
   "metadata": {
    "collapsed": true,
    "deletable": true,
    "editable": true
   },
   "outputs": [],
   "source": []
  },
  {
   "cell_type": "code",
   "execution_count": null,
   "metadata": {
    "collapsed": true,
    "deletable": true,
    "editable": true
   },
   "outputs": [],
   "source": []
  },
  {
   "cell_type": "code",
   "execution_count": null,
   "metadata": {
    "collapsed": true,
    "deletable": true,
    "editable": true
   },
   "outputs": [],
   "source": []
  },
  {
   "cell_type": "code",
   "execution_count": null,
   "metadata": {
    "collapsed": true,
    "deletable": true,
    "editable": true
   },
   "outputs": [],
   "source": []
  },
  {
   "cell_type": "code",
   "execution_count": null,
   "metadata": {
    "collapsed": true,
    "deletable": true,
    "editable": true
   },
   "outputs": [],
   "source": [
    "n_samples = 10000\n",
    "n_bacteria = 100"
   ]
  },
  {
   "cell_type": "code",
   "execution_count": null,
   "metadata": {
    "collapsed": false,
    "deletable": true,
    "editable": true
   },
   "outputs": [],
   "source": [
    "all_df = all_all_df[all_all_df.bacteria.isin(all_all_df.bacteria.unique()[:n_bacteria])].sample(n_samples)"
   ]
  },
  {
   "cell_type": "code",
   "execution_count": null,
   "metadata": {
    "collapsed": false,
    "deletable": true,
    "editable": true
   },
   "outputs": [],
   "source": [
    "all_all_df.shape, all_df.shape"
   ]
  },
  {
   "cell_type": "code",
   "execution_count": null,
   "metadata": {
    "collapsed": false,
    "deletable": true,
    "editable": true
   },
   "outputs": [],
   "source": [
    "# Raw data\n",
    "X_train, X_test, y_train, y_test = train_test_split(scale(all_df[cols_kmers]), all_df.bacteria, \n",
    "                                                    test_size=0.1, random_state=0)"
   ]
  },
  {
   "cell_type": "code",
   "execution_count": null,
   "metadata": {
    "collapsed": false,
    "deletable": true,
    "editable": true,
    "scrolled": true
   },
   "outputs": [],
   "source": [
    "y_test = all_all_df[\"bacteria\"]"
   ]
  },
  {
   "cell_type": "code",
   "execution_count": null,
   "metadata": {
    "collapsed": false,
    "deletable": true,
    "editable": true,
    "scrolled": true
   },
   "outputs": [],
   "source": [
    "queried = y_test[y_test.values.isin(y_test.unique()[:n_bacteria])].index"
   ]
  },
  {
   "cell_type": "code",
   "execution_count": null,
   "metadata": {
    "collapsed": false,
    "deletable": true,
    "editable": true
   },
   "outputs": [],
   "source": [
    "all_all_df.iloc[queried].sample(5).shape"
   ]
  },
  {
   "cell_type": "code",
   "execution_count": null,
   "metadata": {
    "collapsed": true,
    "deletable": true,
    "editable": true
   },
   "outputs": [],
   "source": []
  },
  {
   "cell_type": "code",
   "execution_count": null,
   "metadata": {
    "collapsed": true,
    "deletable": true,
    "editable": true
   },
   "outputs": [],
   "source": []
  },
  {
   "cell_type": "markdown",
   "metadata": {
    "deletable": true,
    "editable": true
   },
   "source": [
    "## Machine Learning classification"
   ]
  },
  {
   "cell_type": "code",
   "execution_count": null,
   "metadata": {
    "collapsed": false,
    "deletable": true,
    "editable": true
   },
   "outputs": [],
   "source": [
    "cols_spe"
   ]
  },
  {
   "cell_type": "raw",
   "metadata": {
    "collapsed": false,
    "deletable": true,
    "editable": true
   },
   "source": [
    "# Raw data\n",
    "X_train, X_test, y_train, y_test = train_test_split(scale(all_df[cols_kmers]), all_df.bacteria, \n",
    "                                                    test_size=0.1, random_state=0)"
   ]
  },
  {
   "cell_type": "raw",
   "metadata": {
    "collapsed": false,
    "deletable": true,
    "editable": true
   },
   "source": [
    "# With PCA\n",
    "X_train, X_test, y_train, y_test = train_test_split(scale(df_pca[cols_pca]), df_pca.bacteria, \n",
    "                                                    test_size=0.1, random_state=0)"
   ]
  },
  {
   "cell_type": "code",
   "execution_count": null,
   "metadata": {
    "collapsed": true,
    "deletable": true,
    "editable": true
   },
   "outputs": [],
   "source": [
    "# With LDA\n",
    "X_train, X_test, y_train, y_test = train_test_split(scale(df_lda[cols_pca]), df_lda.bacteria, \n",
    "                                                    test_size=0.1, random_state=0)"
   ]
  },
  {
   "cell_type": "raw",
   "metadata": {
    "deletable": true,
    "editable": true
   },
   "source": [
    "y_test"
   ]
  },
  {
   "cell_type": "raw",
   "metadata": {
    "collapsed": false,
    "deletable": true,
    "editable": true
   },
   "source": [
    "names = [\"Nearest Neighbors\", \"Linear SVM\", \"RBF SVM\", \"Gaussian Process\",\n",
    "         \"Decision Tree\", \"Random Forest\", \"Neural Net\", \"AdaBoost\",\n",
    "         \"Naive Bayes\", \"QDA\"]\n",
    "\n",
    "classifiers = [\n",
    "    KNeighborsClassifier(3),\n",
    "    SVC(kernel=\"linear\", C=0.025),\n",
    "    SVC(gamma=2, C=1),\n",
    "    GaussianProcessClassifier(1.0 * RBF(1.0)),\n",
    "    DecisionTreeClassifier(max_depth=5),\n",
    "    RandomForestClassifier(max_depth=5, n_estimators=10, max_features=1),\n",
    "    MLPClassifier(alpha=1),\n",
    "    AdaBoostClassifier(),\n",
    "    GaussianNB(),\n",
    "    QuadraticDiscriminantAnalysis()]"
   ]
  },
  {
   "cell_type": "code",
   "execution_count": null,
   "metadata": {
    "collapsed": false,
    "deletable": true,
    "editable": true
   },
   "outputs": [],
   "source": [
    "models = {\n",
    "    \"RF\": RandomForestClassifier(max_depth=20, random_state=0, n_estimators=100, n_jobs=6),\n",
    "    \"SVM_lin\": SVC(kernel=\"linear\", C=0.025),\n",
    "    \"SVM_rbf\": SVC(kernel='rbf', C=1, gamma='auto', cache_size=1000),\n",
    "    \"KNeigh\": KNeighborsClassifier(n_neighbors=20, n_jobs=6),\n",
    "    \"DTree\": DecisionTreeClassifier(max_depth=20),\n",
    "    \"NNet\": MLPClassifier(alpha=1),\n",
    "#     \"AdaBoost\": AdaBoostClassifier(),  # worse classifier\n",
    "    \"Naive_Bayes\": GaussianNB(),\n",
    "    \"QDA\": QuadraticDiscriminantAnalysis()\n",
    "}"
   ]
  },
  {
   "cell_type": "code",
   "execution_count": null,
   "metadata": {
    "collapsed": true,
    "deletable": true,
    "editable": true
   },
   "outputs": [],
   "source": [
    "results = {}"
   ]
  },
  {
   "cell_type": "code",
   "execution_count": null,
   "metadata": {
    "collapsed": false,
    "deletable": true,
    "editable": true
   },
   "outputs": [],
   "source": [
    "for name in tqdm(models.keys()):\n",
    "    if name not in results.keys():\n",
    "        print(name)\n",
    "        start = time()\n",
    "        results[name] = {}\n",
    "        \n",
    "        models[name].fit(X_train, y_train)\n",
    "        time_fitted = time()\n",
    "        results[name][\"time_fit\"] = time_fitted - start\n",
    "        \n",
    "        predicted = models[name].predict(X_test)\n",
    "        results[name][\"predicted\"] = predicted\n",
    "        time_predicted = time()\n",
    "        results[name][\"time_predict\"] = time_predicted - time_fitted\n",
    "        \n",
    "#         score = models[name].score(X_test, y_test)\n",
    "#         results[name][\"score\"] = score\n",
    "#         results[name][\"time_score\"] = time() - time_predicted\n",
    "        \n",
    "        results[name][\"time\"] = time() - start\n",
    "    "
   ]
  },
  {
   "cell_type": "code",
   "execution_count": null,
   "metadata": {
    "collapsed": true,
    "deletable": true,
    "editable": true
   },
   "outputs": [],
   "source": [
    "path_models = \"ml_models/\"\n",
    "path_models = os.path.join(path_4mer, path_models)"
   ]
  },
  {
   "cell_type": "code",
   "execution_count": null,
   "metadata": {
    "collapsed": true,
    "deletable": true,
    "editable": true
   },
   "outputs": [],
   "source": [
    "name_run = f\"_LDA40_{n_samples}samples_{n_bacteria}bac\""
   ]
  },
  {
   "cell_type": "markdown",
   "metadata": {
    "collapsed": true,
    "deletable": true,
    "editable": true
   },
   "source": [
    "`name_run = f\"_LDA-40_{n_samples}-samples_{n_bacteria}-bac\"`"
   ]
  },
  {
   "cell_type": "code",
   "execution_count": null,
   "metadata": {
    "collapsed": false,
    "deletable": true,
    "editable": true
   },
   "outputs": [],
   "source": [
    "if True:\n",
    "    for model in tqdm(models.keys()):\n",
    "        with open(os.path.join(path_models, f\"_{model}_{name_run}.pkl\"), 'wb') as f_out:\n",
    "            pickle.dump(models[model], f_out)"
   ]
  },
  {
   "cell_type": "raw",
   "metadata": {
    "deletable": true,
    "editable": true
   },
   "source": [
    "results"
   ]
  },
  {
   "cell_type": "code",
   "execution_count": null,
   "metadata": {
    "collapsed": true,
    "deletable": true,
    "editable": true
   },
   "outputs": [],
   "source": [
    "to_df = {\"Ground_Truth\": y_test}\n",
    "for name in results.keys():\n",
    "    predicted = results[name][\"predicted\"]\n",
    "    to_df[f\"{name}\"] = (y_test==predicted).astype(int)\n",
    "    to_df[f\"{name}_pred\"] = predicted\n",
    "pd_res = pd.DataFrame(to_df)\n",
    "\n",
    "pd_res.to_pickle(os.path.join(path_models, f\"_results_{name_run}.pd\"))"
   ]
  },
  {
   "cell_type": "code",
   "execution_count": null,
   "metadata": {
    "collapsed": true,
    "deletable": true,
    "editable": true
   },
   "outputs": [],
   "source": [
    "ranking = 100 * pd_res.sum(numeric_only=True) / pd_res.RF.count()"
   ]
  },
  {
   "cell_type": "code",
   "execution_count": null,
   "metadata": {
    "collapsed": false,
    "deletable": true,
    "editable": true
   },
   "outputs": [],
   "source": [
    "pd_ranking = pd.DataFrame({\"name\": ranking.index.values, \n",
    "                           \"percentage\": ranking.values})"
   ]
  },
  {
   "cell_type": "code",
   "execution_count": null,
   "metadata": {
    "collapsed": false,
    "deletable": true,
    "editable": true
   },
   "outputs": [],
   "source": [
    "for times in (\"time\", \"time_fit\", \"time_predict\", ):\n",
    "    pd_ranking[times] = 0\n",
    "    for name in results.keys():\n",
    "        pd_ranking.loc[pd_ranking[\"name\"] == name, [times]] = results[name][times]"
   ]
  },
  {
   "cell_type": "code",
   "execution_count": null,
   "metadata": {
    "collapsed": false,
    "deletable": true,
    "editable": true
   },
   "outputs": [],
   "source": [
    "pd_ranking = pd_ranking.sort_values(by=[\"percentage\"], ascending=False)\n",
    "pd_ranking"
   ]
  },
  {
   "cell_type": "code",
   "execution_count": null,
   "metadata": {
    "collapsed": true,
    "deletable": true,
    "editable": true
   },
   "outputs": [],
   "source": []
  },
  {
   "cell_type": "markdown",
   "metadata": {
    "deletable": true,
    "editable": true
   },
   "source": [
    "## Saved results for various input settings"
   ]
  },
  {
   "cell_type": "markdown",
   "metadata": {
    "deletable": true,
    "editable": true
   },
   "source": [
    "Results for 100,000 samples from 100 species, NO PCA, 256 features"
   ]
  },
  {
   "cell_type": "code",
   "execution_count": null,
   "metadata": {
    "collapsed": false,
    "deletable": true,
    "editable": true
   },
   "outputs": [],
   "source": [
    "pd_ranking = pd_ranking.sort_values(by=[\"percentage\"], ascending=False)\n",
    "pd_ranking.to_pickle(os.path.join(path_models, f\"_ranking_{name_run}.pd\"))\n",
    "pd_ranking"
   ]
  },
  {
   "cell_type": "markdown",
   "metadata": {
    "deletable": true,
    "editable": true
   },
   "source": [
    "Results for 100,000 samples from 100 species, LDA, 40 features"
   ]
  },
  {
   "cell_type": "code",
   "execution_count": null,
   "metadata": {
    "collapsed": false,
    "deletable": true,
    "editable": true
   },
   "outputs": [],
   "source": [
    "pd_ranking = pd_ranking.sort_values(by=[\"percentage\"], ascending=False)\n",
    "pd_ranking.to_pickle(os.path.join(path_models, f\"_ranking_{name_run}.pd\"))\n",
    "pd_ranking"
   ]
  },
  {
   "cell_type": "markdown",
   "metadata": {
    "deletable": true,
    "editable": true
   },
   "source": [
    "Results for 100,000 samples from 100 species, LDA, 10 features"
   ]
  },
  {
   "cell_type": "code",
   "execution_count": null,
   "metadata": {
    "collapsed": false,
    "deletable": true,
    "editable": true,
    "scrolled": true
   },
   "outputs": [],
   "source": [
    "pd_ranking = pd_ranking.sort_values(by=[\"percentage\"], ascending=False)\n",
    "pd_ranking.to_pickle(os.path.join(path_models, f\"_ranking_{name_run}.pd\"))\n",
    "pd_ranking"
   ]
  },
  {
   "cell_type": "markdown",
   "metadata": {
    "deletable": true,
    "editable": true
   },
   "source": [
    "Results for 100,000 samples from 100 species, with PCA, 10 features"
   ]
  },
  {
   "cell_type": "code",
   "execution_count": null,
   "metadata": {
    "collapsed": false,
    "deletable": true,
    "editable": true
   },
   "outputs": [],
   "source": [
    "pd_ranking.sort_values(by=[\"percentage\"], ascending=False)"
   ]
  },
  {
   "cell_type": "markdown",
   "metadata": {
    "deletable": true,
    "editable": true
   },
   "source": [
    "Results for 10,000 samples from 100 species, with PCA"
   ]
  },
  {
   "cell_type": "code",
   "execution_count": null,
   "metadata": {
    "collapsed": false,
    "deletable": true,
    "editable": true
   },
   "outputs": [],
   "source": [
    "pd_ranking.sort_values(by=[\"percentage\"], ascending=False)"
   ]
  },
  {
   "cell_type": "code",
   "execution_count": null,
   "metadata": {
    "collapsed": false,
    "deletable": true,
    "editable": true
   },
   "outputs": [],
   "source": [
    "pd_res"
   ]
  },
  {
   "cell_type": "code",
   "execution_count": null,
   "metadata": {
    "collapsed": true,
    "deletable": true,
    "editable": true
   },
   "outputs": [],
   "source": []
  },
  {
   "cell_type": "code",
   "execution_count": null,
   "metadata": {
    "collapsed": true,
    "deletable": true,
    "editable": true
   },
   "outputs": [],
   "source": []
  },
  {
   "cell_type": "code",
   "execution_count": null,
   "metadata": {
    "collapsed": true,
    "deletable": true,
    "editable": true
   },
   "outputs": [],
   "source": []
  },
  {
   "cell_type": "code",
   "execution_count": null,
   "metadata": {
    "collapsed": false,
    "deletable": true,
    "editable": true
   },
   "outputs": [],
   "source": [
    "all_df.sample(5)"
   ]
  },
  {
   "cell_type": "code",
   "execution_count": null,
   "metadata": {
    "collapsed": false,
    "deletable": true,
    "editable": true
   },
   "outputs": [],
   "source": [
    "all_df[all_df.fna.str.contains(\"NC\")].shape"
   ]
  },
  {
   "cell_type": "code",
   "execution_count": null,
   "metadata": {
    "collapsed": false,
    "deletable": true,
    "editable": true
   },
   "outputs": [],
   "source": [
    "all_df.loc[all_df.bacteria.str.contains(\"Salmonella_enterica_serovar_Bovismorbificans_3\"), \"fna\"].unique()"
   ]
  },
  {
   "cell_type": "code",
   "execution_count": null,
   "metadata": {
    "collapsed": false,
    "deletable": true,
    "editable": true
   },
   "outputs": [],
   "source": [
    "all_df[(all_df.bacteria.str.contains(\"Salmonella_enterica_serovar_Bovismorbificans_3\"))].len_genome.unique()"
   ]
  },
  {
   "cell_type": "code",
   "execution_count": null,
   "metadata": {
    "collapsed": false,
    "deletable": true,
    "editable": true
   },
   "outputs": [],
   "source": [
    "y_test"
   ]
  },
  {
   "cell_type": "code",
   "execution_count": null,
   "metadata": {
    "collapsed": false,
    "deletable": true,
    "editable": true,
    "scrolled": true
   },
   "outputs": [],
   "source": [
    "df_pca1000.bacteria"
   ]
  },
  {
   "cell_type": "code",
   "execution_count": null,
   "metadata": {
    "collapsed": true,
    "deletable": true,
    "editable": true
   },
   "outputs": [],
   "source": []
  },
  {
   "cell_type": "markdown",
   "metadata": {
    "collapsed": false,
    "deletable": true,
    "editable": true
   },
   "source": [
    "\n",
    "\n",
    "### End of the script.\n",
    "Sylvain @GIS"
   ]
  },
  {
   "cell_type": "markdown",
   "metadata": {
    "collapsed": true,
    "deletable": true,
    "editable": true
   },
   "source": [
    "## Keep other methods"
   ]
  },
  {
   "cell_type": "markdown",
   "metadata": {
    "deletable": true,
    "editable": true
   },
   "source": [
    "ML stuff"
   ]
  },
  {
   "cell_type": "markdown",
   "metadata": {
    "deletable": true,
    "editable": true
   },
   "source": [
    "https://scikit-learn.org/stable/auto_examples/classification/plot_classifier_comparison.html"
   ]
  },
  {
   "cell_type": "code",
   "execution_count": null,
   "metadata": {
    "collapsed": false,
    "deletable": true,
    "editable": true
   },
   "outputs": [],
   "source": [
    "names = [\"Nearest Neighbors\", \"Linear SVM\", \"RBF SVM\", \"Gaussian Process\",\n",
    "         \"Decision Tree\", \"Random Forest\", \"Neural Net\", \"AdaBoost\",\n",
    "         \"Naive Bayes\", \"QDA\"]\n",
    "\n",
    "classifiers = [\n",
    "    KNeighborsClassifier(3),\n",
    "    SVC(kernel=\"linear\", C=0.025),\n",
    "    SVC(gamma=2, C=1),\n",
    "    GaussianProcessClassifier(1.0 * RBF(1.0)),\n",
    "    DecisionTreeClassifier(max_depth=5),\n",
    "    RandomForestClassifier(max_depth=5, n_estimators=10, max_features=1),\n",
    "    MLPClassifier(alpha=1),\n",
    "    AdaBoostClassifier(),\n",
    "    GaussianNB(),\n",
    "    QuadraticDiscriminantAnalysis()]"
   ]
  },
  {
   "cell_type": "code",
   "execution_count": null,
   "metadata": {
    "collapsed": true,
    "deletable": true,
    "editable": true
   },
   "outputs": [],
   "source": [
    "def normalise_counts(kmer_count):\n",
    "    \"\"\"Nested dict, normalize each of the sub dict. \"\"\"\n",
    "    for window in kmer_count.keys():\n",
    "        max_val = max(kmer_count[window].values())\n",
    "        for key in kmer_count[window]:\n",
    "            kmer_count[window][key] /= max_val"
   ]
  },
  {
   "cell_type": "code",
   "execution_count": null,
   "metadata": {
    "collapsed": true,
    "deletable": true,
    "editable": true
   },
   "outputs": [],
   "source": []
  },
  {
   "cell_type": "code",
   "execution_count": null,
   "metadata": {
    "collapsed": true,
    "deletable": true,
    "editable": true
   },
   "outputs": [],
   "source": []
  },
  {
   "cell_type": "code",
   "execution_count": null,
   "metadata": {
    "collapsed": true,
    "deletable": true,
    "editable": true
   },
   "outputs": [],
   "source": []
  }
 ],
 "metadata": {
  "kernelspec": {
   "display_name": "Python 3",
   "language": "python",
   "name": "python3"
  },
  "language_info": {
   "codemirror_mode": {
    "name": "ipython",
    "version": 3
   },
   "file_extension": ".py",
   "mimetype": "text/x-python",
   "name": "python",
   "nbconvert_exporter": "python",
   "pygments_lexer": "ipython3",
   "version": "3.6.8"
  },
  "widgets": {
   "state": {
    "0e9c191eea7f40d285004638e47280fe": {
     "views": [
      {
       "cell_index": 54
      }
     ]
    },
    "0f443ad9bd094c499c768efd24875e40": {
     "views": [
      {
       "cell_index": 54
      }
     ]
    },
    "154d0a0981d34211aeb05a35846073d7": {
     "views": [
      {
       "cell_index": 58
      }
     ]
    },
    "36315b35feb74a04b75262a8a1b29efd": {
     "views": [
      {
       "cell_index": 54
      }
     ]
    },
    "3e5461499e224d20992dd99bb8e87d3a": {
     "views": [
      {
       "cell_index": 55
      }
     ]
    },
    "5a6b7a2614494e3c89286b0694a13b33": {
     "views": [
      {
       "cell_index": 58
      }
     ]
    },
    "5f3069321de84461be2127dc01770ee6": {
     "views": [
      {
       "cell_index": 58
      }
     ]
    },
    "6a82cf542f644908894de9ae1000b033": {
     "views": [
      {
       "cell_index": 54
      }
     ]
    },
    "8dfced7f5db840c2bd3eb36ad0721fc7": {
     "views": [
      {
       "cell_index": 58
      }
     ]
    },
    "d986f542142a4e6da1539fe16d405b2b": {
     "views": [
      {
       "cell_index": 54
      }
     ]
    },
    "de4d1ff66e51426fa1b88e39087f36d9": {
     "views": [
      {
       "cell_index": 59
      }
     ]
    }
   },
   "version": "1.2.0"
  }
 },
 "nbformat": 4,
 "nbformat_minor": 2
}
