{
 "cells": [
  {
   "cell_type": "markdown",
   "metadata": {},
   "source": [
    "# Exploring the reference database\n",
    "Let's see what properties we can find :)"
   ]
  },
  {
   "cell_type": "markdown",
   "metadata": {},
   "source": [
    "## Structure\n",
    "In `genome/`, there's multiple sub-folder, we will start with `Bacteria`\n",
    "It then contains all recorded species/strands in individual folders\n"
   ]
  },
  {
   "cell_type": "markdown",
   "metadata": {},
   "source": [
    "## Content of each species/strand folder\n",
    "In each folder there's:\n",
    "- .ASN with \n",
    " - `taxname \"Acetobacter pasteurianus IFO 3283-32\"`\n",
    " - `db \"taxon\", tag id 634457`\n",
    " - `genus \"Acetobacter\", species \"pasteurianus\"`\n",
    " - `mod { {subtype strain, subname \"IFO 3283\" }, { subtype substrain, subname \"IFO 3283-32\" } },`\n",
    " - `lineage \"Bacteria; Proteobacteria; Alphaproteobacteria; Rhodospirillales; Acetobacteraceae; Acetobacter\",`\n",
    "- .FAA\n",
    " - with multiple \">gi|384064451|ref|YP_005479409.1| hypothetical protein APA32_44160 [Acetobacter pasteurianus IFO 3283-32]\"\n",
    " - and probably the amino-acid sequence for each of these proteins\n",
    "- .FFN\n",
    " - multiple \">gi|384064450|ref|NC_017102.1|:c562-116 Acetobacter pasteurianus IFO 3283-32 plasmid pAPA32-040, complete sequence\"\n",
    " - probably DNA sequence\n",
    "- .FNA\n",
    " - Also DNA\n",
    "- .GBK : Human readable format with most info !\n",
    " - have an identifier `/db_xref=\"taxon:634457\"`\n",
    "- .GFF with `##species http://www.ncbi.nlm.nih.gov/Taxonomy/Browser/wwwtax.cgi?id=634457`\n",
    "- .RPT\n",
    " - seem good with simple Python INI config file format: \n",
    "   - `DNA  length = 3035`\n",
    "   - `Taxname: Acetobacter pasteurianus IFO 3283-32`\n",
    "   - `Taxid: 634457`\n"
   ]
  },
  {
   "cell_type": "markdown",
   "metadata": {},
   "source": [
    "http://defindit.com/readme_files/ncbi_file_extension_format.html"
   ]
  },
  {
   "cell_type": "raw",
   "metadata": {},
   "source": [
    ".asn\tgenome record in asn.1 format\n",
    ".faa\tprotein sequences in fasta format, text file\n",
    ".ffn\tprotein coding portions of the genome segments\n",
    ".fna\tgenome fasta sequence\n",
    ".frn\trna coding portions of the genome segments\n",
    ".gbk\tgenome in genbank file format\n",
    ".gff\tgenome features\n",
    ".ptt\tprotein table\n",
    ".rnt\trna table\n",
    ".rpt\tsummary report\n",
    ".val\tbinary file (genome project?)"
   ]
  },
  {
   "cell_type": "markdown",
   "metadata": {},
   "source": [
    "What we need is the taxo id, name, and the DNA, which can be found in:\n",
    " - .gbk for the taxo and name\n",
    " - .fna for the sequence"
   ]
  },
  {
   "cell_type": "markdown",
   "metadata": {},
   "source": [
    "#### File marker\n",
    "https://www.ncbi.nlm.nih.gov/books/NBK21091/table/ch18.T.refseq_accession_numbers_and_mole/?report=objectonly <br>\n",
    "`NC_\tGenomic\tComplete genomic molecule, usually reference assembly`\n",
    "\n",
    "#### Status\n",
    "https://www.ncbi.nlm.nih.gov/books/NBK21091/table/ch18.T.refseq_status_codes/?report=objectonly <br>\n",
    "in `COMMENT` : VALIDATED > REVIEWED > PROVISIONAL > ...\n"
   ]
  },
  {
   "cell_type": "markdown",
   "metadata": {},
   "source": [
    "## Coding\n",
    "### Import and Paths"
   ]
  },
  {
   "cell_type": "code",
   "execution_count": 2,
   "metadata": {
    "collapsed": true
   },
   "outputs": [],
   "source": [
    "import os\n",
    "import pandas as pd\n",
    "import configparser\n",
    "import pickle\n",
    "from Bio import SeqIO\n",
    "from time import time\n",
    "from tqdm import tqdm_notebook as tqdm"
   ]
  },
  {
   "cell_type": "code",
   "execution_count": 3,
   "metadata": {
    "collapsed": true
   },
   "outputs": [],
   "source": [
    "path_ref_db = \"/mnt/genomeDB/ncbi/genomes/Bacteria/\"\n",
    "path_kmer_freq = \"/home/sjriondet/Data/Kmer_frequencies/\""
   ]
  },
  {
   "cell_type": "code",
   "execution_count": 4,
   "metadata": {
    "collapsed": true
   },
   "outputs": [],
   "source": [
    "os.chdir(path_ref_db)"
   ]
  },
  {
   "cell_type": "markdown",
   "metadata": {},
   "source": [
    "## Functions"
   ]
  },
  {
   "cell_type": "markdown",
   "metadata": {},
   "source": [
    "Counting kmer frequencies"
   ]
  },
  {
   "cell_type": "code",
   "execution_count": 5,
   "metadata": {
    "collapsed": true,
    "deletable": true,
    "editable": true
   },
   "outputs": [],
   "source": [
    "nucleotides = \"ACGT\""
   ]
  },
  {
   "cell_type": "code",
   "execution_count": 6,
   "metadata": {
    "collapsed": true
   },
   "outputs": [],
   "source": [
    "k = 4"
   ]
  },
  {
   "cell_type": "code",
   "execution_count": 7,
   "metadata": {
    "collapsed": false,
    "deletable": true,
    "editable": true
   },
   "outputs": [],
   "source": [
    "def read_fna(file_path):\n",
    "    with open(file_path) as f:\n",
    "        rec = f.readlines()\n",
    "        return \"\".join(rec[1:]).replace(\"\\n\", \"\")"
   ]
  },
  {
   "cell_type": "code",
   "execution_count": 8,
   "metadata": {
    "collapsed": true,
    "deletable": true,
    "editable": true
   },
   "outputs": [],
   "source": [
    "def combinaisons(combi, n, instances=nucleotides):\n",
    "    if n == 1:\n",
    "        return combi\n",
    "    else:\n",
    "        return [f\"{a}{n}\" for a in combinaisons(combi, n-1) for n in instances]"
   ]
  },
  {
   "cell_type": "code",
   "execution_count": 9,
   "metadata": {
    "collapsed": true,
    "deletable": true,
    "editable": true
   },
   "outputs": [],
   "source": [
    "def kmers_dic(n):\n",
    "    return {a:0 for a in combinaisons(nucleotides, n)}"
   ]
  },
  {
   "cell_type": "code",
   "execution_count": 10,
   "metadata": {
    "collapsed": true,
    "deletable": true,
    "editable": true
   },
   "outputs": [],
   "source": [
    "def count_kmers(seq, kmer_dic, n):\n",
    "    for kmer in window(seq, n):\n",
    "        kmer_dic[kmer] += 1"
   ]
  },
  {
   "cell_type": "code",
   "execution_count": 11,
   "metadata": {
    "collapsed": true,
    "deletable": true,
    "editable": true
   },
   "outputs": [],
   "source": [
    "def window(fseq, window_size=53):\n",
    "    for i in range(len(fseq) - window_size + 1):\n",
    "        yield fseq[i:i+window_size]"
   ]
  },
  {
   "cell_type": "markdown",
   "metadata": {},
   "source": [
    "## Tests"
   ]
  },
  {
   "cell_type": "code",
   "execution_count": 12,
   "metadata": {
    "collapsed": true,
    "deletable": true,
    "editable": true
   },
   "outputs": [],
   "source": [
    "os.chdir(\"Acetobacter_pasteurianus_IFO_3283_32_uid158375\")"
   ]
  },
  {
   "cell_type": "code",
   "execution_count": 13,
   "metadata": {
    "collapsed": false,
    "deletable": true,
    "editable": true
   },
   "outputs": [
    {
     "data": {
      "text/plain": [
       "3204"
      ]
     },
     "execution_count": 13,
     "metadata": {},
     "output_type": "execute_result"
    }
   ],
   "source": [
    "rec = read_fna(\"NC_017102.fna\")\n",
    "len(rec)"
   ]
  },
  {
   "cell_type": "markdown",
   "metadata": {
    "deletable": true,
    "editable": true
   },
   "source": [
    "### 3-mer"
   ]
  },
  {
   "cell_type": "code",
   "execution_count": 14,
   "metadata": {
    "collapsed": true,
    "deletable": true,
    "editable": true
   },
   "outputs": [],
   "source": [
    "kmer_3 = kmers_dic(3)"
   ]
  },
  {
   "cell_type": "code",
   "execution_count": 15,
   "metadata": {
    "collapsed": true,
    "deletable": true,
    "editable": true
   },
   "outputs": [],
   "source": [
    "# %%timeit\n",
    "count_kmers(rec, kmer_3, 3)"
   ]
  },
  {
   "cell_type": "markdown",
   "metadata": {},
   "source": [
    "### 4-mer"
   ]
  },
  {
   "cell_type": "code",
   "execution_count": 16,
   "metadata": {
    "collapsed": true,
    "deletable": true,
    "editable": true
   },
   "outputs": [],
   "source": [
    "kmer_4 = kmers_dic(4)"
   ]
  },
  {
   "cell_type": "code",
   "execution_count": 17,
   "metadata": {
    "collapsed": false
   },
   "outputs": [
    {
     "data": {
      "text/plain": [
       "{'AAAA': 0,\n",
       " 'AAAC': 0,\n",
       " 'AAAG': 0,\n",
       " 'AAAT': 0,\n",
       " 'AACA': 0,\n",
       " 'AACC': 0,\n",
       " 'AACG': 0,\n",
       " 'AACT': 0,\n",
       " 'AAGA': 0,\n",
       " 'AAGC': 0,\n",
       " 'AAGG': 0,\n",
       " 'AAGT': 0,\n",
       " 'AATA': 0,\n",
       " 'AATC': 0,\n",
       " 'AATG': 0,\n",
       " 'AATT': 0,\n",
       " 'ACAA': 0,\n",
       " 'ACAC': 0,\n",
       " 'ACAG': 0,\n",
       " 'ACAT': 0,\n",
       " 'ACCA': 0,\n",
       " 'ACCC': 0,\n",
       " 'ACCG': 0,\n",
       " 'ACCT': 0,\n",
       " 'ACGA': 0,\n",
       " 'ACGC': 0,\n",
       " 'ACGG': 0,\n",
       " 'ACGT': 0,\n",
       " 'ACTA': 0,\n",
       " 'ACTC': 0,\n",
       " 'ACTG': 0,\n",
       " 'ACTT': 0,\n",
       " 'AGAA': 0,\n",
       " 'AGAC': 0,\n",
       " 'AGAG': 0,\n",
       " 'AGAT': 0,\n",
       " 'AGCA': 0,\n",
       " 'AGCC': 0,\n",
       " 'AGCG': 0,\n",
       " 'AGCT': 0,\n",
       " 'AGGA': 0,\n",
       " 'AGGC': 0,\n",
       " 'AGGG': 0,\n",
       " 'AGGT': 0,\n",
       " 'AGTA': 0,\n",
       " 'AGTC': 0,\n",
       " 'AGTG': 0,\n",
       " 'AGTT': 0,\n",
       " 'ATAA': 0,\n",
       " 'ATAC': 0,\n",
       " 'ATAG': 0,\n",
       " 'ATAT': 0,\n",
       " 'ATCA': 0,\n",
       " 'ATCC': 0,\n",
       " 'ATCG': 0,\n",
       " 'ATCT': 0,\n",
       " 'ATGA': 0,\n",
       " 'ATGC': 0,\n",
       " 'ATGG': 0,\n",
       " 'ATGT': 0,\n",
       " 'ATTA': 0,\n",
       " 'ATTC': 0,\n",
       " 'ATTG': 0,\n",
       " 'ATTT': 0,\n",
       " 'CAAA': 0,\n",
       " 'CAAC': 0,\n",
       " 'CAAG': 0,\n",
       " 'CAAT': 0,\n",
       " 'CACA': 0,\n",
       " 'CACC': 0,\n",
       " 'CACG': 0,\n",
       " 'CACT': 0,\n",
       " 'CAGA': 0,\n",
       " 'CAGC': 0,\n",
       " 'CAGG': 0,\n",
       " 'CAGT': 0,\n",
       " 'CATA': 0,\n",
       " 'CATC': 0,\n",
       " 'CATG': 0,\n",
       " 'CATT': 0,\n",
       " 'CCAA': 0,\n",
       " 'CCAC': 0,\n",
       " 'CCAG': 0,\n",
       " 'CCAT': 0,\n",
       " 'CCCA': 0,\n",
       " 'CCCC': 0,\n",
       " 'CCCG': 0,\n",
       " 'CCCT': 0,\n",
       " 'CCGA': 0,\n",
       " 'CCGC': 0,\n",
       " 'CCGG': 0,\n",
       " 'CCGT': 0,\n",
       " 'CCTA': 0,\n",
       " 'CCTC': 0,\n",
       " 'CCTG': 0,\n",
       " 'CCTT': 0,\n",
       " 'CGAA': 0,\n",
       " 'CGAC': 0,\n",
       " 'CGAG': 0,\n",
       " 'CGAT': 0,\n",
       " 'CGCA': 0,\n",
       " 'CGCC': 0,\n",
       " 'CGCG': 0,\n",
       " 'CGCT': 0,\n",
       " 'CGGA': 0,\n",
       " 'CGGC': 0,\n",
       " 'CGGG': 0,\n",
       " 'CGGT': 0,\n",
       " 'CGTA': 0,\n",
       " 'CGTC': 0,\n",
       " 'CGTG': 0,\n",
       " 'CGTT': 0,\n",
       " 'CTAA': 0,\n",
       " 'CTAC': 0,\n",
       " 'CTAG': 0,\n",
       " 'CTAT': 0,\n",
       " 'CTCA': 0,\n",
       " 'CTCC': 0,\n",
       " 'CTCG': 0,\n",
       " 'CTCT': 0,\n",
       " 'CTGA': 0,\n",
       " 'CTGC': 0,\n",
       " 'CTGG': 0,\n",
       " 'CTGT': 0,\n",
       " 'CTTA': 0,\n",
       " 'CTTC': 0,\n",
       " 'CTTG': 0,\n",
       " 'CTTT': 0,\n",
       " 'GAAA': 0,\n",
       " 'GAAC': 0,\n",
       " 'GAAG': 0,\n",
       " 'GAAT': 0,\n",
       " 'GACA': 0,\n",
       " 'GACC': 0,\n",
       " 'GACG': 0,\n",
       " 'GACT': 0,\n",
       " 'GAGA': 0,\n",
       " 'GAGC': 0,\n",
       " 'GAGG': 0,\n",
       " 'GAGT': 0,\n",
       " 'GATA': 0,\n",
       " 'GATC': 0,\n",
       " 'GATG': 0,\n",
       " 'GATT': 0,\n",
       " 'GCAA': 0,\n",
       " 'GCAC': 0,\n",
       " 'GCAG': 0,\n",
       " 'GCAT': 0,\n",
       " 'GCCA': 0,\n",
       " 'GCCC': 0,\n",
       " 'GCCG': 0,\n",
       " 'GCCT': 0,\n",
       " 'GCGA': 0,\n",
       " 'GCGC': 0,\n",
       " 'GCGG': 0,\n",
       " 'GCGT': 0,\n",
       " 'GCTA': 0,\n",
       " 'GCTC': 0,\n",
       " 'GCTG': 0,\n",
       " 'GCTT': 0,\n",
       " 'GGAA': 0,\n",
       " 'GGAC': 0,\n",
       " 'GGAG': 0,\n",
       " 'GGAT': 0,\n",
       " 'GGCA': 0,\n",
       " 'GGCC': 0,\n",
       " 'GGCG': 0,\n",
       " 'GGCT': 0,\n",
       " 'GGGA': 0,\n",
       " 'GGGC': 0,\n",
       " 'GGGG': 0,\n",
       " 'GGGT': 0,\n",
       " 'GGTA': 0,\n",
       " 'GGTC': 0,\n",
       " 'GGTG': 0,\n",
       " 'GGTT': 0,\n",
       " 'GTAA': 0,\n",
       " 'GTAC': 0,\n",
       " 'GTAG': 0,\n",
       " 'GTAT': 0,\n",
       " 'GTCA': 0,\n",
       " 'GTCC': 0,\n",
       " 'GTCG': 0,\n",
       " 'GTCT': 0,\n",
       " 'GTGA': 0,\n",
       " 'GTGC': 0,\n",
       " 'GTGG': 0,\n",
       " 'GTGT': 0,\n",
       " 'GTTA': 0,\n",
       " 'GTTC': 0,\n",
       " 'GTTG': 0,\n",
       " 'GTTT': 0,\n",
       " 'TAAA': 0,\n",
       " 'TAAC': 0,\n",
       " 'TAAG': 0,\n",
       " 'TAAT': 0,\n",
       " 'TACA': 0,\n",
       " 'TACC': 0,\n",
       " 'TACG': 0,\n",
       " 'TACT': 0,\n",
       " 'TAGA': 0,\n",
       " 'TAGC': 0,\n",
       " 'TAGG': 0,\n",
       " 'TAGT': 0,\n",
       " 'TATA': 0,\n",
       " 'TATC': 0,\n",
       " 'TATG': 0,\n",
       " 'TATT': 0,\n",
       " 'TCAA': 0,\n",
       " 'TCAC': 0,\n",
       " 'TCAG': 0,\n",
       " 'TCAT': 0,\n",
       " 'TCCA': 0,\n",
       " 'TCCC': 0,\n",
       " 'TCCG': 0,\n",
       " 'TCCT': 0,\n",
       " 'TCGA': 0,\n",
       " 'TCGC': 0,\n",
       " 'TCGG': 0,\n",
       " 'TCGT': 0,\n",
       " 'TCTA': 0,\n",
       " 'TCTC': 0,\n",
       " 'TCTG': 0,\n",
       " 'TCTT': 0,\n",
       " 'TGAA': 0,\n",
       " 'TGAC': 0,\n",
       " 'TGAG': 0,\n",
       " 'TGAT': 0,\n",
       " 'TGCA': 0,\n",
       " 'TGCC': 0,\n",
       " 'TGCG': 0,\n",
       " 'TGCT': 0,\n",
       " 'TGGA': 0,\n",
       " 'TGGC': 0,\n",
       " 'TGGG': 0,\n",
       " 'TGGT': 0,\n",
       " 'TGTA': 0,\n",
       " 'TGTC': 0,\n",
       " 'TGTG': 0,\n",
       " 'TGTT': 0,\n",
       " 'TTAA': 0,\n",
       " 'TTAC': 0,\n",
       " 'TTAG': 0,\n",
       " 'TTAT': 0,\n",
       " 'TTCA': 0,\n",
       " 'TTCC': 0,\n",
       " 'TTCG': 0,\n",
       " 'TTCT': 0,\n",
       " 'TTGA': 0,\n",
       " 'TTGC': 0,\n",
       " 'TTGG': 0,\n",
       " 'TTGT': 0,\n",
       " 'TTTA': 0,\n",
       " 'TTTC': 0,\n",
       " 'TTTG': 0,\n",
       " 'TTTT': 0}"
      ]
     },
     "execution_count": 17,
     "metadata": {},
     "output_type": "execute_result"
    }
   ],
   "source": [
    "kmer_4"
   ]
  },
  {
   "cell_type": "code",
   "execution_count": 18,
   "metadata": {
    "collapsed": false,
    "deletable": true,
    "editable": true
   },
   "outputs": [
    {
     "name": "stdout",
     "output_type": "stream",
     "text": [
      "1000 loops, best of 3: 1.29 ms per loop\n"
     ]
    }
   ],
   "source": [
    "%%timeit\n",
    "count_kmers(rec, kmer_4, 4)"
   ]
  },
  {
   "cell_type": "code",
   "execution_count": 19,
   "metadata": {
    "collapsed": false
   },
   "outputs": [
    {
     "name": "stdout",
     "output_type": "stream",
     "text": [
      "10000 loops, best of 3: 26.4 µs per loop\n"
     ]
    }
   ],
   "source": [
    "%%timeit\n",
    "kmer_4[max(kmer_4, key=kmer_4.get)]"
   ]
  },
  {
   "cell_type": "code",
   "execution_count": 20,
   "metadata": {
    "collapsed": false,
    "deletable": true,
    "editable": true
   },
   "outputs": [
    {
     "name": "stdout",
     "output_type": "stream",
     "text": [
      "100000 loops, best of 3: 6.09 µs per loop\n"
     ]
    }
   ],
   "source": [
    "%%timeit\n",
    "max(kmer_4.values())"
   ]
  },
  {
   "cell_type": "code",
   "execution_count": 21,
   "metadata": {
    "collapsed": false
   },
   "outputs": [
    {
     "name": "stdout",
     "output_type": "stream",
     "text": [
      "10000 loops, best of 3: 33.6 µs per loop\n"
     ]
    }
   ],
   "source": [
    "%%timeit\n",
    "for k in kmer_4:\n",
    "    kmer_4[k] /= 4"
   ]
  },
  {
   "cell_type": "code",
   "execution_count": 22,
   "metadata": {
    "collapsed": false,
    "deletable": true,
    "editable": true
   },
   "outputs": [
    {
     "name": "stdout",
     "output_type": "stream",
     "text": [
      "10000 loops, best of 3: 45.4 µs per loop\n"
     ]
    }
   ],
   "source": [
    "%%timeit\n",
    "kmer_4.update((x, y/4) for x, y in kmer_4.items())"
   ]
  },
  {
   "cell_type": "code",
   "execution_count": 23,
   "metadata": {
    "collapsed": true
   },
   "outputs": [],
   "source": [
    "def kmer_pkl_path(k, fna_path):\n",
    "    path_gbk = fna_path.replace(\".fna\", \".gbk\")\n",
    "    assert os.path.isfile(path_gbk), f\"{fna_path} DOESN'T have a .gbk file ??\"\n",
    "    \n",
    "    with open(path_gbk) as gbk:\n",
    "        description=gbk.read()  #.replace('\\n', '')\n",
    "        \n",
    "    identificator = 'db_xref=\"taxon:'\n",
    "    taxo_start = description.find(identificator)\n",
    "    taxo = description[taxo_start+len(identificator):\n",
    "                       taxo_start+description[taxo_start:].find('\"\\n')]\n",
    "    assert len(taxo) < 10, f\"The taxo id search failed, found an id of length {len(taxo)}...\"\n",
    "    \n",
    "    # TODO: ADD full path of the original file in the file name, or maybe in the .pkl\n",
    "    \n",
    "    return os.path.join(path_kmer_freq, str(k), taxo + \".pkl\")"
   ]
  },
  {
   "cell_type": "code",
   "execution_count": 24,
   "metadata": {
    "collapsed": true
   },
   "outputs": [],
   "source": [
    "def kmer_freq_to_file(kmer_dic, freq_path):\n",
    "    with open(freq_path, 'wb') as f_out:\n",
    "        pickle.dump(kmer_dic, f_out)"
   ]
  },
  {
   "cell_type": "code",
   "execution_count": 25,
   "metadata": {
    "collapsed": false
   },
   "outputs": [],
   "source": [
    "fna_path = \"/mnt/genomeDB/ncbi/genomes/Bacteria/Aciduliprofundum_boonei_T469_uid43333/NC_013926.gbk\"\n",
    "path_gbk = fna_path.replace(\".fna\", \".gbk\")\n",
    "with open(path_gbk) as gbk:\n",
    "    description = gbk.read()\n",
    "identificator = 'db_xref=\"taxon:'\n",
    "taxo_start = description.find(identificator)\n",
    "taxo = description[taxo_start+len(identificator):\n",
    "                   taxo_start+description[taxo_start:].find('\"\\n')]"
   ]
  },
  {
   "cell_type": "code",
   "execution_count": 26,
   "metadata": {
    "collapsed": false
   },
   "outputs": [
    {
     "data": {
      "text/plain": [
       "6"
      ]
     },
     "execution_count": 26,
     "metadata": {},
     "output_type": "execute_result"
    }
   ],
   "source": [
    "len(taxo)"
   ]
  },
  {
   "cell_type": "code",
   "execution_count": 27,
   "metadata": {
    "collapsed": false,
    "deletable": true,
    "editable": true
   },
   "outputs": [
    {
     "data": {
      "text/plain": [
       "'439481'"
      ]
     },
     "execution_count": 27,
     "metadata": {},
     "output_type": "execute_result"
    }
   ],
   "source": [
    "taxo"
   ]
  },
  {
   "cell_type": "code",
   "execution_count": 28,
   "metadata": {
    "collapsed": false
   },
   "outputs": [
    {
     "data": {
      "text/plain": [
       "4336"
      ]
     },
     "execution_count": 28,
     "metadata": {},
     "output_type": "execute_result"
    }
   ],
   "source": [
    "description.find('db_xref=\"')"
   ]
  },
  {
   "cell_type": "code",
   "execution_count": 176,
   "metadata": {
    "collapsed": false
   },
   "outputs": [
    {
     "data": {
      "text/plain": [
       "4231"
      ]
     },
     "execution_count": 176,
     "metadata": {},
     "output_type": "execute_result"
    }
   ],
   "source": [
    "description.find('\"\\n')"
   ]
  },
  {
   "cell_type": "code",
   "execution_count": null,
   "metadata": {
    "collapsed": true
   },
   "outputs": [],
   "source": []
  },
  {
   "cell_type": "code",
   "execution_count": null,
   "metadata": {
    "collapsed": true
   },
   "outputs": [],
   "source": []
  },
  {
   "cell_type": "markdown",
   "metadata": {},
   "source": [
    "## Loop through all bacteria and retrieve the kmer spectrum"
   ]
  },
  {
   "cell_type": "code",
   "execution_count": 29,
   "metadata": {
    "collapsed": false
   },
   "outputs": [],
   "source": [
    "def count_all(scanning=path_ref_db, k=4):\n",
    "    start = time()\n",
    "    n = 0\n",
    "    failed = 0\n",
    "    for folder in tqdm(os.scandir(scanning), desc=\"Species\", total=len(os.listdir(scanning))):\n",
    "        if os.path.isdir(folder):\n",
    "            files = [f for f in os.scandir(folder) if f.name.endswith(\".fna\")]\n",
    "            if len(files) > 0:\n",
    "                # Check if already done\n",
    "                kmer_freq_path = kmer_pkl_path(k, files[0].path)\n",
    "                if os.path.isfile(kmer_freq_path):\n",
    "                    continue\n",
    "                    \n",
    "                try:\n",
    "                    # Count kmers\n",
    "                    kmer_count = kmers_dic(k)   # change to deepcopy for speed up\n",
    "                    rec = read_fna(files[0])    # go through all files\n",
    "                    count_kmers(rec, kmer_count, k)\n",
    "\n",
    "                    # Normalise\n",
    "                    max_val = max(kmer_count.values())\n",
    "                    for key in kmer_4:\n",
    "                        kmer_count[key] /= max_val\n",
    "\n",
    "                    # Save to a file\n",
    "                    kmer_freq_to_file(kmer_count, kmer_freq_path)\n",
    "                    n += 1\n",
    "                \n",
    "                except:\n",
    "                    failed += 1\n",
    "                    print(f\"Failed: {files[0].path}\")\n",
    "\n",
    "                if n + failed > 3000:\n",
    "                    break\n",
    "                    \n",
    "    print(f\"\\n{n+failed} species have been scanned\\n\"\n",
    "          f\"Success: {n}, failed: {failed} \\n\"\n",
    "          f\"Took {time()-start:.1f}s to complete\")"
   ]
  },
  {
   "cell_type": "code",
   "execution_count": null,
   "metadata": {
    "collapsed": false
   },
   "outputs": [
    {
     "name": "stdout",
     "output_type": "stream",
     "text": [
      "Failed: /mnt/genomeDB/ncbi/genomes/Bacteria/Achromobacter_xylosoxidans_uid205255/NC_021285.fna\n",
      "Failed: /mnt/genomeDB/ncbi/genomes/Bacteria/Acinetobacter_baumannii_ACICU_uid58765/NC_010605.fna\n",
      "Failed: /mnt/genomeDB/ncbi/genomes/Bacteria/Acinetobacter_baumannii_TYTH_1_uid176498/NC_018706.fna\n",
      "Failed: /mnt/genomeDB/ncbi/genomes/Bacteria/Actinobacillus_pleuropneumoniae_serovar_3_JL03_uid58891/NC_010278.fna\n",
      "Failed: /mnt/genomeDB/ncbi/genomes/Bacteria/Actinobacillus_suis_H91_0380_uid176363/NC_018690.fna\n"
     ]
    }
   ],
   "source": [
    "count_all()"
   ]
  },
  {
   "cell_type": "code",
   "execution_count": null,
   "metadata": {
    "collapsed": true
   },
   "outputs": [],
   "source": []
  },
  {
   "cell_type": "code",
   "execution_count": 47,
   "metadata": {
    "collapsed": false
   },
   "outputs": [
    {
     "name": "stdout",
     "output_type": "stream",
     "text": [
      "NC_017102.fna\t     3,356 bytes\n",
      "NC_017103.fna\t     3,185 bytes\n",
      "NC_017111.fna\t 2,946,222 bytes\n",
      "NC_017112.fna\t     1,947 bytes\n",
      "NC_017134.fna\t   194,284 bytes\n",
      "NC_017135.fna\t    50,781 bytes\n",
      "NC_017149.fna\t   185,660 bytes\n"
     ]
    }
   ],
   "source": [
    "for f in os.scandir():\n",
    "    if f.name.endswith(\"fna\"):\n",
    "        print(f\"{f.name}\\t{os.path.getsize(f):>10,d} bytes\")"
   ]
  },
  {
   "cell_type": "code",
   "execution_count": 74,
   "metadata": {
    "collapsed": false
   },
   "outputs": [
    {
     "name": "stdout",
     "output_type": "stream",
     "text": [
      "1000 loops, best of 3: 535 µs per loop\n"
     ]
    }
   ],
   "source": [
    "%%timeit\n",
    "rec = SeqIO.read(\"NC_017102.fna\", \"fasta\")"
   ]
  },
  {
   "cell_type": "code",
   "execution_count": 75,
   "metadata": {
    "collapsed": false
   },
   "outputs": [
    {
     "data": {
      "text/plain": [
       "'CAAATTGCGCTACAGATAGTTTGATAGTCTTCCGAAGTTCCAGAGAGAGGCAGCAGAAACTCTTTTACTTTCGCTTCTCCACCAGCCTGCCTGAAAATTACATAAACTGAATCCATCATTTTTCTCCGGCTAATAACGCATCACCTTTTTCTTTCCACTCCTGCCTTTTGGTGTCGTTTATTTCGGCTTTTGCCATAGAAGCCAAAGCCCCCAGAAGTTCGCCTTTGTCCCATGTTGGATTGCCGGTCTTACTATCGACCAGACCGGCCAGAATAAGCAGGCCAGCAGACTGGATGAGGTTATGCGTTCTTTCCTTGTCCTTGGCGTCTCTTTCTCTCTTGGCGATTTTCGATGATCTGGCCTTTGCTTCGGATGCTTTGGCTTTAGCCTCTTTTACGGCTTCCTGCGCTTTTTCCGACCGGATGAGTGCCTTGAGGTCTCTTTCCTCTTTTGGCGTTCTGTCAGTCTTGTCATAGAGCAAGATCAGGATGCGCTGTTCTGTCGATGGCTTCTCAAGCTGTCGAAGGTTAGCGATATGCGTTTCAATCCGAAAAGAGGCCATAGGTTTTCATCCAAACATAAAACGATTATCCGGCTTTATAGCATAAAAATGGTAGCAAATAGACGAGAGCCAAATTATCCTTCCTTGTAGGAAGGCGCGCTTAGACGTTTCTCATAAATGAGAAACAGCACGTTAGGGGTAAACCCCTTAAAACCCCGTTTTAACTTCAAAGGATTGTGGTGTGGCGATTGGTCGTTTGTCGATGAAGGTTGGAGGCAAGGGCAAAGCCTGCGCCCACTCCAACTACATCGAACGCCAAGGCAAATATGCCCATCGCCTAGAAACTGGTGAACGACTGGTTGCGACCGGCAGCGGCAACATGCCGGAATGGGCGCAATCCTCATCACAGTTCTGGAAGGCAGCGGATGAGCATGAACGGGCGAATGGCACCACATACCGCGAAATGGAAATAGCCCTGCCGCGTGAACTGGATGACAAGCAGAAGGAGAAGCTGGTCAGGGAGTGGGTGAAGCAGGAAATCGGCCAGCAGCACGCCTACACATGGGCCATTCATTCTCCCAAGGCGAGTGACGGCGGAGAGCAGCCTCATGTGCATCTGATGTTTTCAGAACGGGTCATGGACGGTCATGAACGCGGGCCGGAACAGTTCTTCAAACGCTACAACAGCAAGACGCCAGAGAAAGGCGGAGCCAAGAAGGCCAACACCGGCAAGCATCCTTTGGAGCGGAAAGAAGAACTGAAAGACCTGCGGCATCGCTGGGAGGTTCTCTGTAACCGGCACCTCAGAGCAGCAGAGTGTCGGGAGCGCGTCAGCCTGAAACCGAATAACGAGATCAGGCAGGGTGAACCGGAACCGAAGATGTTGCCGAGCGAATGGCAGCGCGGCACCGGCAAGGCCGACATCATTGCTTTCCGGGAGGCCCGAAAAGAGCAGGTCGAGGCCCGCCATGACGTGCGTTTGTCGGTCAGGCCAACGGAGCAAATGGAAGCTGAACTGATTCACCTGGCCTACCGGAAGAAAGTTGACCAGGAGAAAGCCCAGGTTACGGCAGAGGCCGCCAGACAGGCCGAAGCGACCCGCCGCGCAGACGAGGAAAGGCAAGCCCTTATCGCCAAGCTGCCAGCGATGGAGAAGGCCGTCATTGCCGAGATTGAGGACGAGACAAACAGGCGGCTCAGGACGGACGGTGAGTTTCAGGCACTCCAAAATGAGCGTGAGCAGCATGAGGAGGCTCGTCAGGAGGCAGAGGCCAATGCTGACAAGGCAGAGCGTGATGAGACAGCAGCAGCTCAGGAAGCGCAGGATTTAGCTAAGAAGCACACGATACAGACCCGGCTTCATAGATCTGGCTTCAAGACCTTCATGCCCTTGGCCGAGGCCGAGCAGTTCCGTGACGACTGCAAGACCTACAAGGAGGCCGAACGGACGCGGCAGACCTCTCTTGCCGAGAAAGTCGAGCAGATCGACCAGAAGCTGAAAGAGATTCGCCAGCGGATTCTGGACAAGGCCCGGAAGGAACTGGACGGTCTTTACAAGAAACTTGCATCCATTCGGGAAGCCATGAAGGCGGCCAAGGAAGCCCGTGTAGTCCAAGAAAAAGCCCAGAAAAAAGCCCAGACGCCAGCCAGTCAGGAAGATCAGGCTGTCAGAAAACGAGGGCGAGGGCGGTGAAGGGGTTGCCTTTGGAGTAAATCCAGAAGAATCTCTGCCCCAGAAACGGCGAAGGCCCGGTGATTGCAACACCGAGCCTTCAGCAAGTCCGATTAGAACACACCTAAGCGGACCGCCTTTCGTGGAAGGATTAACCCGACTTTGGGTTCCCCTTCAAGCGGAAGATGGTCGGCGAAGCAGAGAAACGCCAGTGACCTTTGTAAAAAACCGAGTTCCCGCCCTCTCCCATGCTCAAAATGCAATTCCACGGGATAAGCTGAAATCCTTGTTTAAGTCAGGGGTTGAAGCCGCGCTGATGACTGGCGAACTGCCAAGTCGGAATCATGGCTGGAAGTCAGTATTCGATAAGTTCATCGACCTGATGGGGCCGGATGGCTCGTGGTTTCCATCACATGCGAAAGTGGCAGAGAAAGCCGGAGTGTCTGAACGGACAGCATGGGCCGCGATCAATGCGCTTGAGAGTATCGGCCTTATCCGTGTGGAAGCCCGCTACCTATACGACCCAGAGAAGGGTAAGACGGTCAGAACCAGCAATCTCTATGAGGTTGTGGTGACCAAGGCGCAGAGAGCCATAGCGATCCTTGCTGCCGCTGCTCGTAAGGCCAAGGAAGCGGCTAAGAGGCAATGGGCAATAGCCAGCCGGTCAAGCATGGCCGAGTGGGGCAGGAGAGTTATCCACCACCTACCCGCAACGGCTGCGGAGGACCCCCAATTAAATATATTTAAAAGGGGAAATCAGGCCGAACCATCCCGAAACTGGAGCCATAACGAGTGGATTGAGTATTGCCAGACAGGCAATCAAACCACCTAACCGCAACGGCATCGACCTAACCGCAACGACAAAAAGGCATTGAAGGGGAGCAGACGGGAGAGGTCTGTCCACCTAACCGCAACGGCATTGCGGTTAGGTCAAAAAGGTATCCATTTTTGCCACTGATCGCGTGTCACTACGACCTGTCGAGATTCATTGATAATGGCAACGACAGTCGCCGGCGCGGGAAGCCCATAC'"
      ]
     },
     "execution_count": 75,
     "metadata": {},
     "output_type": "execute_result"
    }
   ],
   "source": [
    "rec"
   ]
  },
  {
   "cell_type": "code",
   "execution_count": null,
   "metadata": {
    "collapsed": true
   },
   "outputs": [],
   "source": []
  },
  {
   "cell_type": "code",
   "execution_count": 86,
   "metadata": {
    "collapsed": true
   },
   "outputs": [],
   "source": [
    "mer2 = {f\"{a}{b}\":0 for a in nucleotides for b in nucleotides}"
   ]
  },
  {
   "cell_type": "code",
   "execution_count": 87,
   "metadata": {
    "collapsed": false
   },
   "outputs": [
    {
     "data": {
      "text/plain": [
       "{'AA': 0,\n",
       " 'AC': 0,\n",
       " 'AG': 0,\n",
       " 'AT': 0,\n",
       " 'CA': 0,\n",
       " 'CC': 0,\n",
       " 'CG': 0,\n",
       " 'CT': 0,\n",
       " 'GA': 0,\n",
       " 'GC': 0,\n",
       " 'GG': 0,\n",
       " 'GT': 0,\n",
       " 'TA': 0,\n",
       " 'TC': 0,\n",
       " 'TG': 0,\n",
       " 'TT': 0}"
      ]
     },
     "execution_count": 87,
     "metadata": {},
     "output_type": "execute_result"
    }
   ],
   "source": [
    "mer2 "
   ]
  },
  {
   "cell_type": "code",
   "execution_count": null,
   "metadata": {
    "collapsed": true
   },
   "outputs": [],
   "source": []
  },
  {
   "cell_type": "code",
   "execution_count": null,
   "metadata": {
    "collapsed": true
   },
   "outputs": [],
   "source": []
  },
  {
   "cell_type": "code",
   "execution_count": null,
   "metadata": {
    "collapsed": true
   },
   "outputs": [],
   "source": []
  },
  {
   "cell_type": "code",
   "execution_count": null,
   "metadata": {
    "collapsed": true
   },
   "outputs": [],
   "source": []
  },
  {
   "cell_type": "code",
   "execution_count": null,
   "metadata": {
    "collapsed": true
   },
   "outputs": [],
   "source": []
  }
 ],
 "metadata": {
  "kernelspec": {
   "display_name": "Python 3",
   "language": "python",
   "name": "python3"
  },
  "language_info": {
   "codemirror_mode": {
    "name": "ipython",
    "version": 3
   },
   "file_extension": ".py",
   "mimetype": "text/x-python",
   "name": "python",
   "nbconvert_exporter": "python",
   "pygments_lexer": "ipython3",
   "version": "3.6.8"
  },
  "widgets": {
   "state": {
    "8451655010054998aa4877f6daaf81a1": {
     "views": [
      {
       "cell_index": 45
      }
     ]
    },
    "8e8a26d84eb943a2a4be8d7be082555f": {
     "views": [
      {
       "cell_index": 28
      }
     ]
    },
    "c881b05012a84ef6a509072788065946": {
     "views": [
      {
       "cell_index": 28
      }
     ]
    }
   },
   "version": "1.2.0"
  }
 },
 "nbformat": 4,
 "nbformat_minor": 2
}
