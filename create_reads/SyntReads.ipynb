{
 "cells": [
  {
   "cell_type": "markdown",
   "metadata": {},
   "source": [
    "# Imports, settings and paths"
   ]
  },
  {
   "cell_type": "code",
   "execution_count": 30,
   "metadata": {},
   "outputs": [],
   "source": [
    "import pandas as pd\n",
    "import os\n",
    "from copy import deepcopy\n",
    "from random import randint"
   ]
  },
  {
   "cell_type": "code",
   "execution_count": 152,
   "metadata": {},
   "outputs": [],
   "source": [
    "from Bio import SeqIO\n",
    "from Bio.Seq import Seq\n",
    "from Bio.SeqRecord import SeqRecord\n",
    "from Bio.Alphabet import SingleLetterAlphabet\n",
    "from tqdm import tqdm_notebook as tqdm\n",
    "from ete3 import NCBITaxa"
   ]
  },
  {
   "cell_type": "code",
   "execution_count": 3,
   "metadata": {},
   "outputs": [],
   "source": [
    "# path_ncbi = \"/home/ubuntu/Disks/HDD1000/NCBI/20190704/refseq\"\n",
    "path_ncbi_csv = \"/home/ubuntu/Disks/HDD1000/NCBI/ncbi.csv\"\n",
    "path_ncbi_pd = \"/home/ubuntu/Disks/HDD1000/NCBI/ncbi.pd\""
   ]
  },
  {
   "cell_type": "code",
   "execution_count": 4,
   "metadata": {},
   "outputs": [],
   "source": [
    "pd.set_option('display.max_columns', 50)\n",
    "pd.set_option('display.width', 500)"
   ]
  },
  {
   "cell_type": "raw",
   "metadata": {},
   "source": [
    "ncbi = NCBITaxa()"
   ]
  },
  {
   "cell_type": "raw",
   "metadata": {},
   "source": [
    "desired_ranks = ['superkingdom', 'kingdom', 'phylum', 'class', 'order', 'family', 'genus', 'species']"
   ]
  },
  {
   "cell_type": "markdown",
   "metadata": {},
   "source": [
    "# SyntRead Class"
   ]
  },
  {
   "cell_type": "code",
   "execution_count": 174,
   "metadata": {},
   "outputs": [],
   "source": [
    "class SyntRead:\n",
    "    count = 0\n",
    "    \n",
    "    def __init__(self, record_id, taxon, genome, what, s_kingdom, path_complete, description):  # folder, file,\n",
    "        self.object_id    = SyntRead.counter()\n",
    "        self.record_id    = record_id\n",
    "        self.taxon        = taxon\n",
    "        self.genome       = genome\n",
    "        self.gen_chr_plas = what\n",
    "        self.s_kingdom    = s_kingdom\n",
    "        self.path         = path_complete  # os.path.join(folder, file)\n",
    "        self.description  = description\n",
    "        self.description_original = description\n",
    "        \n",
    "        self.seq          = None\n",
    "        self.seq_len      = None\n",
    "        self.start        = None\n",
    "        self.stop         = None\n",
    "        self.read_len     = None\n",
    "        self.read         = None \n",
    "        \n",
    "    def counter():\n",
    "        SyntRead.count += 1\n",
    "        return SyntRead.count - 1\n",
    "        \n",
    "    def synthetize_read(self, seq=\"\"):\n",
    "        if seq == \"\":\n",
    "            records = list(SeqIO.parse(self.path, \"fasta\"))\n",
    "            for r in records:\n",
    "                if r.id == self.record_id:\n",
    "                    seq = str(r.seq)\n",
    "                    break\n",
    "                else:\n",
    "                    raise FileNotFoundError(\"File error, couldn't find the right record\")\n",
    "            self.seq_len = len(seq)\n",
    "            \n",
    "        self.read_len  = randint(1000, 10000)\n",
    "        self.start     = randint(0, self.seq_len - self.read_len)\n",
    "        self.stop      = self.start + self.read_len\n",
    "        self.read      = seq[self.start:self.stop]\n",
    "        self.update_description()\n",
    "        \n",
    "    def deep_random_copy(self, n):\n",
    "        seq = self.fetch_seq()\n",
    "        l = []\n",
    "        for i in range(n):\n",
    "            new_item = deepcopy(self)\n",
    "            new_item.synthetize_read(seq)\n",
    "            l.append(new_item)\n",
    "        return l\n",
    "    \n",
    "    def update_description(self):\n",
    "        self.description = self.description_original + f\", synthetic read from this genome (taxid={self.taxon}), \"\\\n",
    "                                                       f\"from nucleotide {self.start} to {self.stop}(len={self.read_len})\"\n",
    "        \n",
    "    def fetch_seq(self):\n",
    "        records = list(SeqIO.parse(self.path, \"fasta\"))\n",
    "        for r in records:\n",
    "            if r.id == self.record_id:\n",
    "                seq = str(r.seq)\n",
    "                break\n",
    "            else:\n",
    "                raise FileNotFoundError(\"File error, couldn't find the right record\")\n",
    "        return seq\n",
    "    \n",
    "    def __repr__(self):\n",
    "        return f\"Synthetic read from {self.genome}, len={self.read_len}, [{self.start}:{self.stop}]\"\n",
    "        \n",
    "    def to_fastq(list_sr, path_fastq):\n",
    "        records = []\n",
    "        for sr in tqdm(list_sr):\n",
    "            records.append(SeqRecord(Seq(sr.read, SingleLetterAlphabet), \n",
    "                                     id=sr.record_id, name=sr.genome, description=sr.description))\n",
    "        with open(path_fastq, \"w\") as f:\n",
    "            SeqIO.write(records, f, \"fasta\")"
   ]
  },
  {
   "cell_type": "markdown",
   "metadata": {},
   "source": [
    "# Create List of SyntReads"
   ]
  },
  {
   "cell_type": "raw",
   "metadata": {
    "scrolled": true
   },
   "source": [
    "df = pd.read_csv(path_ncbi_csv, sep=\"\\t\", )"
   ]
  },
  {
   "cell_type": "code",
   "execution_count": 6,
   "metadata": {},
   "outputs": [],
   "source": [
    "df = pd.read_pickle(path_ncbi_pd)"
   ]
  },
  {
   "cell_type": "code",
   "execution_count": 7,
   "metadata": {},
   "outputs": [
    {
     "data": {
      "text/plain": [
       "(578756, 25)"
      ]
     },
     "execution_count": 7,
     "metadata": {},
     "output_type": "execute_result"
    }
   ],
   "source": [
    "df.shape"
   ]
  },
  {
   "cell_type": "code",
   "execution_count": 8,
   "metadata": {},
   "outputs": [
    {
     "data": {
      "text/plain": [
       "(26647, 25)"
      ]
     },
     "execution_count": 8,
     "metadata": {},
     "output_type": "execute_result"
    }
   ],
   "source": [
    "df[(df.name_superkingdom == \"Bacteria\") | (df.name_superkingdom == \"Archea\")].shape"
   ]
  },
  {
   "cell_type": "code",
   "execution_count": 9,
   "metadata": {},
   "outputs": [],
   "source": [
    "from ete3 import NCBITaxa\n",
    "ncbi = NCBITaxa()\n",
    "\n",
    "ncbi.get_fuzzy_name_translation(\"Clostridioides difficile\")\n",
    "\n",
    "ncbi.get_name_translator([\"Clostridioides difficile\"])"
   ]
  },
  {
   "cell_type": "code",
   "execution_count": 140,
   "metadata": {},
   "outputs": [
    {
     "data": {
      "text/html": [
       "<div>\n",
       "<style scoped>\n",
       "    .dataframe tbody tr th:only-of-type {\n",
       "        vertical-align: middle;\n",
       "    }\n",
       "\n",
       "    .dataframe tbody tr th {\n",
       "        vertical-align: top;\n",
       "    }\n",
       "\n",
       "    .dataframe thead th {\n",
       "        text-align: right;\n",
       "    }\n",
       "</style>\n",
       "<table border=\"1\" class=\"dataframe\">\n",
       "  <thead>\n",
       "    <tr style=\"text-align: right;\">\n",
       "      <th></th>\n",
       "      <th>taxon_id</th>\n",
       "      <th>taxon_name</th>\n",
       "      <th>rank</th>\n",
       "      <th>type</th>\n",
       "      <th>length</th>\n",
       "      <th>record_id</th>\n",
       "      <th>record_description</th>\n",
       "      <th>path_folder</th>\n",
       "      <th>path_file</th>\n",
       "      <th>id_superkingdom</th>\n",
       "      <th>name_superkingdom</th>\n",
       "      <th>id_kingdom</th>\n",
       "      <th>name_kingdom</th>\n",
       "      <th>id_phylum</th>\n",
       "      <th>name_phylum</th>\n",
       "      <th>id_class</th>\n",
       "      <th>name_class</th>\n",
       "      <th>id_order</th>\n",
       "      <th>name_order</th>\n",
       "      <th>id_family</th>\n",
       "      <th>name_family</th>\n",
       "      <th>id_genus</th>\n",
       "      <th>name_genus</th>\n",
       "      <th>id_species</th>\n",
       "      <th>name_species</th>\n",
       "    </tr>\n",
       "  </thead>\n",
       "  <tbody>\n",
       "    <tr>\n",
       "      <th>17887</th>\n",
       "      <td>1618022</td>\n",
       "      <td>Nostoc sp. 'Lobaria pulmonaria (5183) cyanobiont'</td>\n",
       "      <td>species</td>\n",
       "      <td>plasmid</td>\n",
       "      <td>121770</td>\n",
       "      <td>NZ_CP026693.1</td>\n",
       "      <td>NZ_CP026693.1 Nostoc sp. 'Lobaria pulmonaria (...</td>\n",
       "      <td>/home/ubuntu/Disks/HDD1000/NCBI/20190704/refseq/</td>\n",
       "      <td>bacteria/GCF_002949795.1/GCF_002949795.1_ASM29...</td>\n",
       "      <td>2</td>\n",
       "      <td>Bacteria</td>\n",
       "      <td>1117</td>\n",
       "      <td>Cyanobacteria</td>\n",
       "      <td>1161</td>\n",
       "      <td>Nostocales</td>\n",
       "      <td>1162</td>\n",
       "      <td>Nostocaceae</td>\n",
       "      <td>1177</td>\n",
       "      <td>Nostoc</td>\n",
       "      <td>1618022</td>\n",
       "      <td>Nostoc sp. 'Lobaria pulmonaria (5183) cyanobiont'</td>\n",
       "      <td>0</td>\n",
       "      <td>NaN</td>\n",
       "      <td>0</td>\n",
       "      <td>NaN</td>\n",
       "    </tr>\n",
       "    <tr>\n",
       "      <th>451580</th>\n",
       "      <td>4686</td>\n",
       "      <td>Asparagus officinalis</td>\n",
       "      <td>species</td>\n",
       "      <td>undefined</td>\n",
       "      <td>562</td>\n",
       "      <td>NW_017980223.1</td>\n",
       "      <td>NW_017980223.1 Asparagus officinalis unplaced ...</td>\n",
       "      <td>/home/ubuntu/Disks/HDD1000/NCBI/20190704/refseq/</td>\n",
       "      <td>plant/GCF_001876935.1/GCF_001876935.1_Aspof.V1...</td>\n",
       "      <td>2759</td>\n",
       "      <td>Eukaryota</td>\n",
       "      <td>4447</td>\n",
       "      <td>Liliopsida</td>\n",
       "      <td>4685</td>\n",
       "      <td>Asparagus</td>\n",
       "      <td>4686</td>\n",
       "      <td>Asparagus officinalis</td>\n",
       "      <td>33090</td>\n",
       "      <td>Viridiplantae</td>\n",
       "      <td>35493</td>\n",
       "      <td>Streptophyta</td>\n",
       "      <td>40552</td>\n",
       "      <td>Asparagaceae</td>\n",
       "      <td>73496</td>\n",
       "      <td>Asparagales</td>\n",
       "    </tr>\n",
       "  </tbody>\n",
       "</table>\n",
       "</div>"
      ],
      "text/plain": [
       "        taxon_id                                         taxon_name     rank       type  length       record_id                                 record_description                                       path_folder                                          path_file id_superkingdom name_superkingdom id_kingdom   name_kingdom id_phylum name_phylum id_class             name_class id_order     name_order id_family                                        name_family id_genus    name_genus id_species  \\\n",
       "17887    1618022  Nostoc sp. 'Lobaria pulmonaria (5183) cyanobiont'  species    plasmid  121770   NZ_CP026693.1  NZ_CP026693.1 Nostoc sp. 'Lobaria pulmonaria (...  /home/ubuntu/Disks/HDD1000/NCBI/20190704/refseq/  bacteria/GCF_002949795.1/GCF_002949795.1_ASM29...               2          Bacteria       1117  Cyanobacteria      1161  Nostocales     1162            Nostocaceae     1177         Nostoc   1618022  Nostoc sp. 'Lobaria pulmonaria (5183) cyanobiont'        0           NaN          0   \n",
       "451580      4686                              Asparagus officinalis  species  undefined     562  NW_017980223.1  NW_017980223.1 Asparagus officinalis unplaced ...  /home/ubuntu/Disks/HDD1000/NCBI/20190704/refseq/  plant/GCF_001876935.1/GCF_001876935.1_Aspof.V1...            2759         Eukaryota       4447     Liliopsida      4685   Asparagus     4686  Asparagus officinalis    33090  Viridiplantae     35493                                       Streptophyta    40552  Asparagaceae      73496   \n",
       "\n",
       "       name_species  \n",
       "17887           NaN  \n",
       "451580  Asparagales  "
      ]
     },
     "execution_count": 140,
     "metadata": {},
     "output_type": "execute_result"
    }
   ],
   "source": [
    "df.sample(2)"
   ]
  },
  {
   "cell_type": "code",
   "execution_count": 141,
   "metadata": {},
   "outputs": [
    {
     "data": {
      "text/html": [
       "<div>\n",
       "<style scoped>\n",
       "    .dataframe tbody tr th:only-of-type {\n",
       "        vertical-align: middle;\n",
       "    }\n",
       "\n",
       "    .dataframe tbody tr th {\n",
       "        vertical-align: top;\n",
       "    }\n",
       "\n",
       "    .dataframe thead th {\n",
       "        text-align: right;\n",
       "    }\n",
       "</style>\n",
       "<table border=\"1\" class=\"dataframe\">\n",
       "  <thead>\n",
       "    <tr style=\"text-align: right;\">\n",
       "      <th></th>\n",
       "      <th>taxon_id</th>\n",
       "      <th>taxon_name</th>\n",
       "      <th>rank</th>\n",
       "      <th>type</th>\n",
       "      <th>length</th>\n",
       "      <th>record_id</th>\n",
       "      <th>record_description</th>\n",
       "      <th>path_folder</th>\n",
       "      <th>path_file</th>\n",
       "      <th>id_superkingdom</th>\n",
       "      <th>name_superkingdom</th>\n",
       "      <th>id_kingdom</th>\n",
       "      <th>name_kingdom</th>\n",
       "      <th>id_phylum</th>\n",
       "      <th>name_phylum</th>\n",
       "      <th>id_class</th>\n",
       "      <th>name_class</th>\n",
       "      <th>id_order</th>\n",
       "      <th>name_order</th>\n",
       "      <th>id_family</th>\n",
       "      <th>name_family</th>\n",
       "      <th>id_genus</th>\n",
       "      <th>name_genus</th>\n",
       "      <th>id_species</th>\n",
       "      <th>name_species</th>\n",
       "    </tr>\n",
       "  </thead>\n",
       "  <tbody>\n",
       "    <tr>\n",
       "      <th>6161</th>\n",
       "      <td>1382924</td>\n",
       "      <td>Helicobacter pylori oki422</td>\n",
       "      <td>no rank</td>\n",
       "      <td>complete genome</td>\n",
       "      <td>1634852</td>\n",
       "      <td>NZ_CP006824.1</td>\n",
       "      <td>NZ_CP006824.1 Helicobacter pylori oki422, comp...</td>\n",
       "      <td>/home/ubuntu/Disks/HDD1000/NCBI/20190704/refseq/</td>\n",
       "      <td>bacteria/GCF_000600165.1/GCF_000600165.1_ASM60...</td>\n",
       "      <td>2</td>\n",
       "      <td>Bacteria</td>\n",
       "      <td>209</td>\n",
       "      <td>Helicobacter</td>\n",
       "      <td>210</td>\n",
       "      <td>Helicobacter pylori</td>\n",
       "      <td>1224</td>\n",
       "      <td>Proteobacteria</td>\n",
       "      <td>29547</td>\n",
       "      <td>Epsilonproteobacteria</td>\n",
       "      <td>72293</td>\n",
       "      <td>Helicobacteraceae</td>\n",
       "      <td>213849</td>\n",
       "      <td>Campylobacterales</td>\n",
       "      <td>0</td>\n",
       "      <td>NaN</td>\n",
       "    </tr>\n",
       "    <tr>\n",
       "      <th>12540</th>\n",
       "      <td>197</td>\n",
       "      <td>Campylobacter jejuni</td>\n",
       "      <td>species</td>\n",
       "      <td>complete genome</td>\n",
       "      <td>1629484</td>\n",
       "      <td>NZ_CP007189.1</td>\n",
       "      <td>NZ_CP007189.1 Campylobacter jejuni strain HF5-...</td>\n",
       "      <td>/home/ubuntu/Disks/HDD1000/NCBI/20190704/refseq/</td>\n",
       "      <td>bacteria/GCF_001951255.1/GCF_001951255.1_ASM19...</td>\n",
       "      <td>2</td>\n",
       "      <td>Bacteria</td>\n",
       "      <td>194</td>\n",
       "      <td>Campylobacter</td>\n",
       "      <td>197</td>\n",
       "      <td>Campylobacter jejuni</td>\n",
       "      <td>1224</td>\n",
       "      <td>Proteobacteria</td>\n",
       "      <td>29547</td>\n",
       "      <td>Epsilonproteobacteria</td>\n",
       "      <td>72294</td>\n",
       "      <td>Campylobacteraceae</td>\n",
       "      <td>213849</td>\n",
       "      <td>Campylobacterales</td>\n",
       "      <td>0</td>\n",
       "      <td>NaN</td>\n",
       "    </tr>\n",
       "  </tbody>\n",
       "</table>\n",
       "</div>"
      ],
      "text/plain": [
       "       taxon_id                  taxon_name     rank             type   length      record_id                                 record_description                                       path_folder                                          path_file id_superkingdom name_superkingdom id_kingdom   name_kingdom id_phylum           name_phylum id_class      name_class id_order             name_order id_family         name_family id_genus         name_genus id_species name_species\n",
       "6161    1382924  Helicobacter pylori oki422  no rank  complete genome  1634852  NZ_CP006824.1  NZ_CP006824.1 Helicobacter pylori oki422, comp...  /home/ubuntu/Disks/HDD1000/NCBI/20190704/refseq/  bacteria/GCF_000600165.1/GCF_000600165.1_ASM60...               2          Bacteria        209   Helicobacter       210   Helicobacter pylori     1224  Proteobacteria    29547  Epsilonproteobacteria     72293   Helicobacteraceae   213849  Campylobacterales          0          NaN\n",
       "12540       197        Campylobacter jejuni  species  complete genome  1629484  NZ_CP007189.1  NZ_CP007189.1 Campylobacter jejuni strain HF5-...  /home/ubuntu/Disks/HDD1000/NCBI/20190704/refseq/  bacteria/GCF_001951255.1/GCF_001951255.1_ASM19...               2          Bacteria        194  Campylobacter       197  Campylobacter jejuni     1224  Proteobacteria    29547  Epsilonproteobacteria     72294  Campylobacteraceae   213849  Campylobacterales          0          NaN"
      ]
     },
     "execution_count": 141,
     "metadata": {},
     "output_type": "execute_result"
    }
   ],
   "source": [
    "df[(df.type == \"complete genome\") \n",
    "   & ((df.name_superkingdom == \"Bacteria\") \n",
    "      | (df.name_superkingdom == \"Archea\"))].sample(2)  #[[\"taxon_id\", \"taxon_name\", \"rank\"]]"
   ]
  },
  {
   "cell_type": "code",
   "execution_count": 168,
   "metadata": {
    "scrolled": true
   },
   "outputs": [],
   "source": [
    "selected_species = df[(df.type == \"complete genome\") \n",
    "   & (df.length > 1000000) \n",
    "   & ((df.name_superkingdom == \"Bacteria\") \n",
    "      | (df.name_superkingdom == \"Archea\"))].sample(100)[\n",
    "    [\"taxon_id\", \"taxon_name\", \"type\", \"length\", \"record_id\", \"path_folder\", \"path_file\",\n",
    "     \"name_superkingdom\", \"record_description\", \"name_genus\"]]"
   ]
  },
  {
   "cell_type": "code",
   "execution_count": 169,
   "metadata": {
    "scrolled": true
   },
   "outputs": [
    {
     "data": {
      "text/html": [
       "<div>\n",
       "<style scoped>\n",
       "    .dataframe tbody tr th:only-of-type {\n",
       "        vertical-align: middle;\n",
       "    }\n",
       "\n",
       "    .dataframe tbody tr th {\n",
       "        vertical-align: top;\n",
       "    }\n",
       "\n",
       "    .dataframe thead th {\n",
       "        text-align: right;\n",
       "    }\n",
       "</style>\n",
       "<table border=\"1\" class=\"dataframe\">\n",
       "  <thead>\n",
       "    <tr style=\"text-align: right;\">\n",
       "      <th></th>\n",
       "      <th>taxon_id</th>\n",
       "      <th>taxon_name</th>\n",
       "      <th>type</th>\n",
       "      <th>length</th>\n",
       "      <th>record_id</th>\n",
       "      <th>name_superkingdom</th>\n",
       "      <th>record_description</th>\n",
       "      <th>name_genus</th>\n",
       "      <th>path</th>\n",
       "    </tr>\n",
       "  </thead>\n",
       "  <tbody>\n",
       "    <tr>\n",
       "      <th>8311</th>\n",
       "      <td>134601</td>\n",
       "      <td>Mycolicibacterium goodii</td>\n",
       "      <td>complete genome</td>\n",
       "      <td>7105933</td>\n",
       "      <td>NZ_CP012150.1</td>\n",
       "      <td>Bacteria</td>\n",
       "      <td>NZ_CP012150.1 Mycobacterium goodii strain X7B,...</td>\n",
       "      <td>Mycolicibacterium</td>\n",
       "      <td>/home/ubuntu/Disks/HDD1000/NCBI/20190704/refse...</td>\n",
       "    </tr>\n",
       "    <tr>\n",
       "      <th>4602</th>\n",
       "      <td>1248726</td>\n",
       "      <td>Helicobacter pylori OK310</td>\n",
       "      <td>complete genome</td>\n",
       "      <td>1591278</td>\n",
       "      <td>NC_020509.1</td>\n",
       "      <td>Bacteria</td>\n",
       "      <td>NC_020509.1 Helicobacter pylori OK310 DNA, com...</td>\n",
       "      <td>Campylobacterales</td>\n",
       "      <td>/home/ubuntu/Disks/HDD1000/NCBI/20190704/refse...</td>\n",
       "    </tr>\n",
       "    <tr>\n",
       "      <th>1323</th>\n",
       "      <td>329726</td>\n",
       "      <td>Acaryochloris marina MBIC11017</td>\n",
       "      <td>complete genome</td>\n",
       "      <td>6503724</td>\n",
       "      <td>NC_009925.1</td>\n",
       "      <td>Bacteria</td>\n",
       "      <td>NC_009925.1 Acaryochloris marina MBIC11017, co...</td>\n",
       "      <td>NaN</td>\n",
       "      <td>/home/ubuntu/Disks/HDD1000/NCBI/20190704/refse...</td>\n",
       "    </tr>\n",
       "    <tr>\n",
       "      <th>11414</th>\n",
       "      <td>1340842</td>\n",
       "      <td>Campylobacter jejuni subsp. jejuni str. RM3420</td>\n",
       "      <td>complete genome</td>\n",
       "      <td>1666780</td>\n",
       "      <td>NZ_CP017456.1</td>\n",
       "      <td>Bacteria</td>\n",
       "      <td>NZ_CP017456.1 Campylobacter jejuni subsp. jeju...</td>\n",
       "      <td>Campylobacterales</td>\n",
       "      <td>/home/ubuntu/Disks/HDD1000/NCBI/20190704/refse...</td>\n",
       "    </tr>\n",
       "    <tr>\n",
       "      <th>9112</th>\n",
       "      <td>287</td>\n",
       "      <td>Pseudomonas aeruginosa</td>\n",
       "      <td>complete genome</td>\n",
       "      <td>6322459</td>\n",
       "      <td>NZ_CP008867.1</td>\n",
       "      <td>Bacteria</td>\n",
       "      <td>NZ_CP008867.1 Pseudomonas aeruginosa strain T5...</td>\n",
       "      <td>Pseudomonadaceae</td>\n",
       "      <td>/home/ubuntu/Disks/HDD1000/NCBI/20190704/refse...</td>\n",
       "    </tr>\n",
       "    <tr>\n",
       "      <th>...</th>\n",
       "      <td>...</td>\n",
       "      <td>...</td>\n",
       "      <td>...</td>\n",
       "      <td>...</td>\n",
       "      <td>...</td>\n",
       "      <td>...</td>\n",
       "      <td>...</td>\n",
       "      <td>...</td>\n",
       "      <td>...</td>\n",
       "    </tr>\n",
       "    <tr>\n",
       "      <th>8251</th>\n",
       "      <td>470</td>\n",
       "      <td>Acinetobacter baumannii</td>\n",
       "      <td>complete genome</td>\n",
       "      <td>3857743</td>\n",
       "      <td>NZ_CP012004.1</td>\n",
       "      <td>Bacteria</td>\n",
       "      <td>NZ_CP012004.1 Acinetobacter baumannii ATCC 179...</td>\n",
       "      <td>Pseudomonadales</td>\n",
       "      <td>/home/ubuntu/Disks/HDD1000/NCBI/20190704/refse...</td>\n",
       "    </tr>\n",
       "    <tr>\n",
       "      <th>1340</th>\n",
       "      <td>293614</td>\n",
       "      <td>Rickettsia akari str. Hartford</td>\n",
       "      <td>complete genome</td>\n",
       "      <td>1231060</td>\n",
       "      <td>NC_009881.1</td>\n",
       "      <td>Bacteria</td>\n",
       "      <td>NC_009881.1 Rickettsia akari str. Hartford, co...</td>\n",
       "      <td>Alphaproteobacteria</td>\n",
       "      <td>/home/ubuntu/Disks/HDD1000/NCBI/20190704/refse...</td>\n",
       "    </tr>\n",
       "    <tr>\n",
       "      <th>9950</th>\n",
       "      <td>1827469</td>\n",
       "      <td>Brevundimonas sp. GW460-12-10-14-LB2</td>\n",
       "      <td>complete genome</td>\n",
       "      <td>3263775</td>\n",
       "      <td>NZ_CP015511.1</td>\n",
       "      <td>Bacteria</td>\n",
       "      <td>NZ_CP015511.1 Brevundimonas sp. GW460-12-10-14...</td>\n",
       "      <td>Brevundimonas sp. GW460-12-10-14-LB2</td>\n",
       "      <td>/home/ubuntu/Disks/HDD1000/NCBI/20190704/refse...</td>\n",
       "    </tr>\n",
       "    <tr>\n",
       "      <th>6133</th>\n",
       "      <td>1420012</td>\n",
       "      <td>Klebsiella pneumoniae 30660/NJST258_1</td>\n",
       "      <td>complete genome</td>\n",
       "      <td>5263229</td>\n",
       "      <td>NZ_CP006923.1</td>\n",
       "      <td>Bacteria</td>\n",
       "      <td>NZ_CP006923.1 Klebsiella pneumoniae 30660/NJST...</td>\n",
       "      <td>Enterobacterales</td>\n",
       "      <td>/home/ubuntu/Disks/HDD1000/NCBI/20190704/refse...</td>\n",
       "    </tr>\n",
       "    <tr>\n",
       "      <th>1256</th>\n",
       "      <td>359787</td>\n",
       "      <td>Staphylococcus aureus subsp. aureus JH1</td>\n",
       "      <td>complete genome</td>\n",
       "      <td>2906507</td>\n",
       "      <td>NC_009632.1</td>\n",
       "      <td>Bacteria</td>\n",
       "      <td>NC_009632.1 Staphylococcus aureus subsp. aureu...</td>\n",
       "      <td>Bacilli</td>\n",
       "      <td>/home/ubuntu/Disks/HDD1000/NCBI/20190704/refse...</td>\n",
       "    </tr>\n",
       "  </tbody>\n",
       "</table>\n",
       "<p>100 rows × 9 columns</p>\n",
       "</div>"
      ],
      "text/plain": [
       "       taxon_id                                      taxon_name             type   length      record_id name_superkingdom                                 record_description                            name_genus                                               path\n",
       "8311     134601                        Mycolicibacterium goodii  complete genome  7105933  NZ_CP012150.1          Bacteria  NZ_CP012150.1 Mycobacterium goodii strain X7B,...                     Mycolicibacterium  /home/ubuntu/Disks/HDD1000/NCBI/20190704/refse...\n",
       "4602    1248726                       Helicobacter pylori OK310  complete genome  1591278    NC_020509.1          Bacteria  NC_020509.1 Helicobacter pylori OK310 DNA, com...                     Campylobacterales  /home/ubuntu/Disks/HDD1000/NCBI/20190704/refse...\n",
       "1323     329726                  Acaryochloris marina MBIC11017  complete genome  6503724    NC_009925.1          Bacteria  NC_009925.1 Acaryochloris marina MBIC11017, co...                                   NaN  /home/ubuntu/Disks/HDD1000/NCBI/20190704/refse...\n",
       "11414   1340842  Campylobacter jejuni subsp. jejuni str. RM3420  complete genome  1666780  NZ_CP017456.1          Bacteria  NZ_CP017456.1 Campylobacter jejuni subsp. jeju...                     Campylobacterales  /home/ubuntu/Disks/HDD1000/NCBI/20190704/refse...\n",
       "9112        287                          Pseudomonas aeruginosa  complete genome  6322459  NZ_CP008867.1          Bacteria  NZ_CP008867.1 Pseudomonas aeruginosa strain T5...                      Pseudomonadaceae  /home/ubuntu/Disks/HDD1000/NCBI/20190704/refse...\n",
       "...         ...                                             ...              ...      ...            ...               ...                                                ...                                   ...                                                ...\n",
       "8251        470                         Acinetobacter baumannii  complete genome  3857743  NZ_CP012004.1          Bacteria  NZ_CP012004.1 Acinetobacter baumannii ATCC 179...                       Pseudomonadales  /home/ubuntu/Disks/HDD1000/NCBI/20190704/refse...\n",
       "1340     293614                  Rickettsia akari str. Hartford  complete genome  1231060    NC_009881.1          Bacteria  NC_009881.1 Rickettsia akari str. Hartford, co...                   Alphaproteobacteria  /home/ubuntu/Disks/HDD1000/NCBI/20190704/refse...\n",
       "9950    1827469            Brevundimonas sp. GW460-12-10-14-LB2  complete genome  3263775  NZ_CP015511.1          Bacteria  NZ_CP015511.1 Brevundimonas sp. GW460-12-10-14...  Brevundimonas sp. GW460-12-10-14-LB2  /home/ubuntu/Disks/HDD1000/NCBI/20190704/refse...\n",
       "6133    1420012           Klebsiella pneumoniae 30660/NJST258_1  complete genome  5263229  NZ_CP006923.1          Bacteria  NZ_CP006923.1 Klebsiella pneumoniae 30660/NJST...                      Enterobacterales  /home/ubuntu/Disks/HDD1000/NCBI/20190704/refse...\n",
       "1256     359787         Staphylococcus aureus subsp. aureus JH1  complete genome  2906507    NC_009632.1          Bacteria  NC_009632.1 Staphylococcus aureus subsp. aureu...                               Bacilli  /home/ubuntu/Disks/HDD1000/NCBI/20190704/refse...\n",
       "\n",
       "[100 rows x 9 columns]"
      ]
     },
     "execution_count": 169,
     "metadata": {},
     "output_type": "execute_result"
    }
   ],
   "source": [
    "selected_species[\"path\"] = selected_species.path_folder.str.cat(selected_species.path_file)\n",
    "selected_species.drop(columns=[\"path_folder\", \"path_file\"], inplace=True)\n",
    "selected_species"
   ]
  },
  {
   "cell_type": "code",
   "execution_count": 170,
   "metadata": {
    "scrolled": true
   },
   "outputs": [
    {
     "data": {
      "application/vnd.jupyter.widget-view+json": {
       "model_id": "fb87e52a75a84236b5eeec161dacbd4d",
       "version_major": 2,
       "version_minor": 0
      },
      "text/plain": [
       "HBox(children=(IntProgress(value=1, bar_style='info', max=1), HTML(value='')))"
      ]
     },
     "metadata": {},
     "output_type": "display_data"
    },
    {
     "name": "stdout",
     "output_type": "stream",
     "text": [
      "Synthetic read from Mycolicibacterium goodii, len=1494, [6261127:6262621]\n",
      "Synthetic read from Helicobacter pylori OK310, len=5111, [1009290:1014401]\n",
      "Synthetic read from Acaryochloris marina MBIC11017, len=6231, [4472885:4479116]\n",
      "Synthetic read from Campylobacter jejuni subsp. jejuni str. RM3420, len=5574, [549552:555126]\n",
      "Synthetic read from Pseudomonas aeruginosa, len=1740, [5665363:5667103]\n",
      "Synthetic read from Escherichia coli, len=6554, [1953601:1960155]\n",
      "Synthetic read from Klebsiella quasipneumoniae, len=2826, [2548648:2551474]\n",
      "Synthetic read from Campylobacter jejuni, len=9777, [1375625:1385402]\n",
      "Synthetic read from Campylobacter jejuni subsp. jejuni, len=1578, [237963:239541]\n",
      "Synthetic read from Chelatococcus sp. CO-6, len=2013, [3650172:3652185]\n",
      "Synthetic read from Bordetella parapertussis 12822, len=8189, [1563349:1571538]\n",
      "Synthetic read from Rivularia sp. PCC 7116, len=7821, [224936:232757]\n",
      "Synthetic read from Francisella tularensis subsp. tularensis NE061598, len=4210, [148992:153202]\n",
      "Synthetic read from Bartonella ancashensis, len=8578, [848016:856594]\n",
      "Synthetic read from Neisseria meningitidis M7124, len=9987, [822559:832546]\n",
      "Synthetic read from Wolbachia endosymbiont of Drosophila melanogaster, len=3459, [1032849:1036308]\n",
      "Synthetic read from Leifsonia xyli, len=5667, [296706:302373]\n",
      "Synthetic read from Bacillus anthracis, len=4918, [3580129:3585047]\n",
      "Synthetic read from Staphylococcus aureus subsp. aureus str. JKD6008, len=8983, [2701472:2710455]\n",
      "Synthetic read from Bordetella pertussis, len=6508, [748952:755460]\n",
      "Synthetic read from Escherichia coli, len=6970, [4442660:4449630]\n",
      "Synthetic read from Lactobacillus plantarum, len=8676, [1732378:1741054]\n",
      "Synthetic read from Rhizobium sp. N6212, len=4734, [1701769:1706503]\n",
      "Synthetic read from Klebsiella pneumoniae, len=5689, [1241628:1247317]\n",
      "Synthetic read from Acinetobacter schindleri, len=4630, [1065557:1070187]\n",
      "Synthetic read from Staphylococcus aureus, len=9095, [1801457:1810552]\n",
      "Synthetic read from Bordetella pertussis, len=9379, [1588348:1597727]\n",
      "Synthetic read from Frischella perrara, len=5558, [1442397:1447955]\n",
      "Synthetic read from Staphylococcus aureus, len=7127, [2450300:2457427]\n",
      "Synthetic read from Escherichia coli O145:H28 str. RM12581, len=8660, [5127038:5135698]\n",
      "Synthetic read from Streptococcus lutetiensis 033, len=4503, [898016:902519]\n",
      "Synthetic read from Bordetella pertussis, len=5853, [595829:601682]\n",
      "Synthetic read from Chlamydia pecorum E58, len=1153, [576035:577188]\n",
      "Synthetic read from Weissella cibaria, len=2208, [1052357:1054565]\n",
      "Synthetic read from Sulfurifustis variabilis, len=1375, [3290188:3291563]\n",
      "Synthetic read from Neisseria meningitidis, len=1388, [859253:860641]\n",
      "Synthetic read from Pseudomonas koreensis, len=8505, [1759864:1768369]\n",
      "Synthetic read from Streptococcus anginosus C238, len=3929, [152253:156182]\n",
      "Synthetic read from Helicobacter pylori, len=2224, [1033745:1035969]\n",
      "Synthetic read from Bordetella pertussis, len=1818, [2332533:2334351]\n",
      "Synthetic read from Xanthomonas campestris, len=8505, [4659020:4667525]\n",
      "Synthetic read from Methylomonas methanica MC09, len=8757, [5029357:5038114]\n",
      "Synthetic read from Chlamydia trachomatis E/SW3, len=2225, [59327:61552]\n",
      "Synthetic read from Caldisericum exile AZM16c01, len=8754, [1502257:1511011]\n",
      "Synthetic read from Yersinia pestis CO92, len=3676, [979628:983304]\n",
      "Synthetic read from Xanthomonas citri pv. citri, len=3348, [4119503:4122851]\n",
      "Synthetic read from Spongiibacter sp. IMCC21906, len=9465, [2127836:2137301]\n",
      "Synthetic read from Streptococcus suis P1/7, len=8324, [1807585:1815909]\n",
      "Synthetic read from Collimonas fungivorans Ter331, len=9864, [3898491:3908355]\n",
      "Synthetic read from Helicobacter pylori, len=9967, [1373050:1383017]\n",
      "Synthetic read from Staphylococcus epidermidis, len=9201, [2245117:2254318]\n",
      "Synthetic read from Lachnospiraceae bacterium GAM79, len=4607, [629582:634189]\n",
      "Synthetic read from Escherichia coli K-12, len=9875, [3896678:3906553]\n",
      "Synthetic read from Chlamydia psittaci WS/RT/E30, len=3848, [1038868:1042716]\n",
      "Synthetic read from Enterobacter cloacae, len=5749, [3885711:3891460]\n",
      "Synthetic read from Staphylococcus aureus subsp. aureus ED133, len=1739, [507635:509374]\n",
      "Synthetic read from Actinobacillus suis H91-0380, len=2575, [2194973:2197548]\n",
      "Synthetic read from Neisseria meningitidis, len=7856, [1858495:1866351]\n",
      "Synthetic read from Lactobacillus coryniformis subsp. torquens DSM 20004 = KCTC 3535, len=9211, [1097288:1106499]\n",
      "Synthetic read from Clostridium botulinum B str. Eklund 17B (NRP), len=9709, [3717879:3727588]\n",
      "Synthetic read from Polynucleobacter necessarius STIR1, len=7309, [1056859:1064168]\n",
      "Synthetic read from Escherichia coli O157, len=7649, [5403449:5411098]\n",
      "Synthetic read from Lactobacillus amylovorus GRL1118, len=4179, [1012169:1016348]\n",
      "Synthetic read from Bifidobacterium actinocoloniiforme DSM 22766, len=9370, [1523355:1532725]\n",
      "Synthetic read from Mycobacterium canettii CIPT 140070010, len=4160, [45133:49293]\n",
      "Synthetic read from Bordetella pertussis, len=7743, [1279948:1287691]\n",
      "Synthetic read from Chlamydia muridarum, len=1929, [87885:89814]\n",
      "Synthetic read from Weeksella virosa DSM 16922, len=6845, [586791:593636]\n",
      "Synthetic read from Chlamydia trachomatis L2b/795, len=3334, [878554:881888]\n",
      "Synthetic read from Staphylococcus aureus, len=6857, [782611:789468]\n",
      "Synthetic read from endosymbiont of Bathymodiolus septemdierum str. Myojin knoll, len=8925, [395094:404019]\n",
      "Synthetic read from Helicobacter pylori 35A, len=6828, [74797:81625]\n",
      "Synthetic read from Klebsiella pneumoniae, len=8257, [4693050:4701307]\n",
      "Synthetic read from Klebsiella pneumoniae, len=5266, [2751612:2756878]\n",
      "Synthetic read from Pseudomonas protegens, len=6814, [6071695:6078509]\n",
      "Synthetic read from Xanthomonas citri pv. citri, len=1435, [1550211:1551646]\n",
      "Synthetic read from Staphylococcus aureus subsp. aureus, len=6579, [583657:590236]\n",
      "Synthetic read from Streptococcus thermophilus, len=9341, [1164600:1173941]\n",
      "Synthetic read from Acinetobacter baumannii MDR-ZJ06, len=5623, [1897431:1903054]\n",
      "Synthetic read from Methylococcus capsulatus str. Bath, len=2946, [2796782:2799728]\n",
      "Synthetic read from Streptococcus agalactiae, len=3930, [883850:887780]\n",
      "Synthetic read from Yersinia pestis, len=1886, [4676659:4678545]\n",
      "Synthetic read from Klebsiella pneumoniae, len=6265, [490723:496988]\n",
      "Synthetic read from Desulfitobacterium dehalogenans ATCC 51507, len=8479, [4092440:4100919]\n",
      "Synthetic read from Desulfosporosinus acidiphilus SJ4, len=2781, [12931:15712]\n",
      "Synthetic read from Thermotoga profunda AZM34c06, len=4864, [1493907:1498771]\n",
      "Synthetic read from Xanthomonas phaseoli pv. phaseoli, len=7500, [1535986:1543486]\n",
      "Synthetic read from Staphylococcus aureus, len=8995, [202654:211649]\n",
      "Synthetic read from Rhodococcus pyridinivorans SB3094, len=9090, [972940:982030]\n",
      "Synthetic read from Legionella pneumophila, len=7276, [1317192:1324468]\n",
      "Synthetic read from Flavobacterium columnare ATCC 49512, len=7696, [2379752:2387448]\n",
      "Synthetic read from Bordetella bronchiseptica, len=5277, [3102006:3107283]\n",
      "Synthetic read from Klebsiella pneumoniae, len=9812, [2415344:2425156]\n",
      "Synthetic read from Nostoc linckia NIES-25, len=9460, [466327:475787]\n",
      "Synthetic read from Tenacibaculum todarodis, len=1694, [1043964:1045658]\n",
      "Synthetic read from Acinetobacter baumannii, len=3273, [3138940:3142213]\n",
      "Synthetic read from Rickettsia akari str. Hartford, len=3673, [893108:896781]\n",
      "Synthetic read from Brevundimonas sp. GW460-12-10-14-LB2, len=5725, [465878:471603]\n",
      "Synthetic read from Klebsiella pneumoniae 30660/NJST258_1, len=5187, [5067741:5072928]\n",
      "Synthetic read from Staphylococcus aureus subsp. aureus JH1, len=3502, [840980:844482]\n",
      "\n"
     ]
    }
   ],
   "source": [
    "seeds = []\n",
    "for row in tqdm(selected_species.itertuples()):\n",
    "#     print(row.taxon_id)\n",
    "    #  record_id, taxon, what, s_kingdom, folder, file    row[\"type\"]\n",
    "    #  record_id, taxon, genome, what, s_kingdom, path_complete, description\n",
    "    sr = SyntRead(row.record_id, row.taxon_id, row.taxon_name, row.type, row.name_superkingdom, row.path, row.record_description)\n",
    "    sr.synthetize_read()\n",
    "    print(sr)\n",
    "    seeds.append(sr)"
   ]
  },
  {
   "cell_type": "code",
   "execution_count": 172,
   "metadata": {},
   "outputs": [
    {
     "data": {
      "application/vnd.jupyter.widget-view+json": {
       "model_id": "0ba2d5c98b7849768a8ef1f1f1adaac7",
       "version_major": 2,
       "version_minor": 0
      },
      "text/plain": [
       "HBox(children=(IntProgress(value=0), HTML(value='')))"
      ]
     },
     "metadata": {},
     "output_type": "display_data"
    },
    {
     "name": "stdout",
     "output_type": "stream",
     "text": [
      "\n"
     ]
    }
   ],
   "source": [
    "synt_reads = []\n",
    "for seed in tqdm(seeds):\n",
    "    synt_reads.extend([seed] + seed.deep_random_copy(1000 -1))"
   ]
  },
  {
   "cell_type": "code",
   "execution_count": 173,
   "metadata": {},
   "outputs": [
    {
     "data": {
      "application/vnd.jupyter.widget-view+json": {
       "model_id": "33ad4ad777e24a0cacba671790840468",
       "version_major": 2,
       "version_minor": 0
      },
      "text/plain": [
       "HBox(children=(IntProgress(value=0, max=100000), HTML(value='')))"
      ]
     },
     "metadata": {},
     "output_type": "display_data"
    },
    {
     "name": "stdout",
     "output_type": "stream",
     "text": [
      "\n"
     ]
    }
   ],
   "source": [
    "path_out_syntreads = \"/home/ubuntu/Data/Segmentation/Test-Data/Synthetic_from_Genomes/2019-11-22_SyntReads_100-BacArc.fastq\"\n",
    "SyntRead.to_fastq(synt_reads, path_out_syntreads)"
   ]
  },
  {
   "cell_type": "code",
   "execution_count": null,
   "metadata": {},
   "outputs": [],
   "source": []
  },
  {
   "cell_type": "markdown",
   "metadata": {},
   "source": [
    "# End"
   ]
  },
  {
   "cell_type": "code",
   "execution_count": 79,
   "metadata": {
    "scrolled": true
   },
   "outputs": [
    {
     "data": {
      "text/plain": [
       "'461.5 MB'"
      ]
     },
     "execution_count": 79,
     "metadata": {},
     "output_type": "execute_result"
    }
   ],
   "source": [
    "# df.info(memory_usage='deep')\n",
    "f\"{df.memory_usage(deep=True).sum()/1000000:.1f} MB\""
   ]
  },
  {
   "cell_type": "code",
   "execution_count": 39,
   "metadata": {},
   "outputs": [],
   "source": [
    "pd.set_option('display.max_columns', 50)\n",
    "pd.set_option('display.max_colwidth', 500)"
   ]
  },
  {
   "cell_type": "code",
   "execution_count": 76,
   "metadata": {
    "scrolled": true
   },
   "outputs": [
    {
     "data": {
      "text/html": [
       "<div>\n",
       "<style scoped>\n",
       "    .dataframe tbody tr th:only-of-type {\n",
       "        vertical-align: middle;\n",
       "    }\n",
       "\n",
       "    .dataframe tbody tr th {\n",
       "        vertical-align: top;\n",
       "    }\n",
       "\n",
       "    .dataframe thead th {\n",
       "        text-align: right;\n",
       "    }\n",
       "</style>\n",
       "<table border=\"1\" class=\"dataframe\">\n",
       "  <thead>\n",
       "    <tr style=\"text-align: right;\">\n",
       "      <th></th>\n",
       "      <th>record_description</th>\n",
       "      <th>length</th>\n",
       "    </tr>\n",
       "  </thead>\n",
       "  <tbody>\n",
       "    <tr>\n",
       "      <th>27</th>\n",
       "      <td>NC_005791.1 Methanococcus maripaludis strain S2, complete sequence</td>\n",
       "      <td>1661137</td>\n",
       "    </tr>\n",
       "    <tr>\n",
       "      <th>236</th>\n",
       "      <td>NC_023044.1 Methanobacterium sp. MB1 complete sequence</td>\n",
       "      <td>2029766</td>\n",
       "    </tr>\n",
       "    <tr>\n",
       "      <th>249</th>\n",
       "      <td>NZ_CP007551.1 Haloferax mediterranei ATCC 33500 genome</td>\n",
       "      <td>2946877</td>\n",
       "    </tr>\n",
       "    <tr>\n",
       "      <th>257</th>\n",
       "      <td>NZ_CP008822.1 Metallosphaera sedula strain CuR1 genome</td>\n",
       "      <td>2191492</td>\n",
       "    </tr>\n",
       "    <tr>\n",
       "      <th>327</th>\n",
       "      <td>NZ_CP013695.1 Sulfolobus acidocaldarius strain NG05B_CO5_07 genome</td>\n",
       "      <td>2217426</td>\n",
       "    </tr>\n",
       "    <tr>\n",
       "      <th>356</th>\n",
       "      <td>NZ_CP019470.1 Methanopyrus sp. KOL6 genome</td>\n",
       "      <td>1430309</td>\n",
       "    </tr>\n",
       "    <tr>\n",
       "      <th>368</th>\n",
       "      <td>NZ_CP015193.1 Complete genome sequence of Thermococcus chitonophagus type strain GC74</td>\n",
       "      <td>1961979</td>\n",
       "    </tr>\n",
       "    <tr>\n",
       "      <th>379</th>\n",
       "      <td>NZ_CP017881.1 Methanohalophilus portucalensis strain FDF-1T genome</td>\n",
       "      <td>2084975</td>\n",
       "    </tr>\n",
       "    <tr>\n",
       "      <th>525</th>\n",
       "      <td>NC_002655.2 Escherichia coli O157:H7 str. EDL933 genome</td>\n",
       "      <td>5528445</td>\n",
       "    </tr>\n",
       "    <tr>\n",
       "      <th>595</th>\n",
       "      <td>NC_002940.2 [Haemophilus] ducreyi 35000HP, complete sequence</td>\n",
       "      <td>1698955</td>\n",
       "    </tr>\n",
       "    <tr>\n",
       "      <th>879</th>\n",
       "      <td>NC_002491.1 Chlamydophila pneumoniae J138 genomic DNA, complete sequence</td>\n",
       "      <td>1226565</td>\n",
       "    </tr>\n",
       "    <tr>\n",
       "      <th>1131</th>\n",
       "      <td>NC_008697.1 Nocardioides sp. JS614, complete sequence</td>\n",
       "      <td>307814</td>\n",
       "    </tr>\n",
       "    <tr>\n",
       "      <th>1152</th>\n",
       "      <td>NC_008787.1 Campylobacter jejuni subsp. jejuni 81-176, complete sequence</td>\n",
       "      <td>1616554</td>\n",
       "    </tr>\n",
       "    <tr>\n",
       "      <th>1167</th>\n",
       "      <td>NC_009012.1 Hungateiclostridium thermocellum ATCC 27405, complete sequence</td>\n",
       "      <td>3843301</td>\n",
       "    </tr>\n",
       "    <tr>\n",
       "      <th>1314</th>\n",
       "      <td>NC_009848.4 Bacillus pumilus SAFR-032, complete sequence</td>\n",
       "      <td>3704641</td>\n",
       "    </tr>\n",
       "    <tr>\n",
       "      <th>1358</th>\n",
       "      <td>NC_009976.1 Prochlorococcus marinus str. MIT 9211 genome</td>\n",
       "      <td>1688963</td>\n",
       "    </tr>\n",
       "    <tr>\n",
       "      <th>1583</th>\n",
       "      <td>NC_012751.1 Candidatus Hamiltonella defensa 5AT (Acyrthosiphon pisum) genome</td>\n",
       "      <td>2110331</td>\n",
       "    </tr>\n",
       "    <tr>\n",
       "      <th>1614</th>\n",
       "      <td>NC_011898.1 Ruminiclostridium cellulolyticum H10, complete sequence</td>\n",
       "      <td>4068724</td>\n",
       "    </tr>\n",
       "    <tr>\n",
       "      <th>1762</th>\n",
       "      <td>NC_013412.1 Geobacillus sp. Y412MC61, complete sequence</td>\n",
       "      <td>45057</td>\n",
       "    </tr>\n",
       "    <tr>\n",
       "      <th>1829</th>\n",
       "      <td>NC_009445.1 Bradyrhizobium sp. ORS278,complete sequence</td>\n",
       "      <td>7456587</td>\n",
       "    </tr>\n",
       "    <tr>\n",
       "      <th>1878</th>\n",
       "      <td>NC_013971.1 Erwinia amylovora ATCC 49946 chromosomal sequence</td>\n",
       "      <td>3805874</td>\n",
       "    </tr>\n",
       "    <tr>\n",
       "      <th>1894</th>\n",
       "      <td>NC_006155.1 Yersinia pseudotuberculosis IP32953 genome, complete sequence</td>\n",
       "      <td>4744671</td>\n",
       "    </tr>\n",
       "    <tr>\n",
       "      <th>1907</th>\n",
       "      <td>NC_008571.1 Gramella forsetii KT0803 complete circular genome</td>\n",
       "      <td>3798465</td>\n",
       "    </tr>\n",
       "    <tr>\n",
       "      <th>1908</th>\n",
       "      <td>NC_009482.1 Synechococcus sp. RCC307 genomic DNA sequence</td>\n",
       "      <td>2224914</td>\n",
       "    </tr>\n",
       "    <tr>\n",
       "      <th>2063</th>\n",
       "      <td>NC_020449.1 Candidatus Cloacamonas acidaminovorans str. Evry provisional genome sequence from WWE1 candidate division</td>\n",
       "      <td>2246820</td>\n",
       "    </tr>\n",
       "    <tr>\n",
       "      <th>2668</th>\n",
       "      <td>NC_017304.1 Hungateiclostridium thermocellum DSM 1313, complete sequence</td>\n",
       "      <td>3561619</td>\n",
       "    </tr>\n",
       "    <tr>\n",
       "      <th>2955</th>\n",
       "      <td>NC_014810.2 Helicobacter felis ATCC 49179 genome</td>\n",
       "      <td>1672681</td>\n",
       "    </tr>\n",
       "    <tr>\n",
       "      <th>2983</th>\n",
       "      <td>NC_014000.1 Anabaena variabilis ATCC 29413 incision element, complete sequence</td>\n",
       "      <td>37151</td>\n",
       "    </tr>\n",
       "    <tr>\n",
       "      <th>3010</th>\n",
       "      <td>NC_021021.1 Gordonibacter pamelaeae 7-10-1-b draft genome</td>\n",
       "      <td>3608022</td>\n",
       "    </tr>\n",
       "    <tr>\n",
       "      <th>3011</th>\n",
       "      <td>NC_021039.1 Ruminococcus champanellensis type strain 18P13T draft genome</td>\n",
       "      <td>2573208</td>\n",
       "    </tr>\n",
       "    <tr>\n",
       "      <th>...</th>\n",
       "      <td>...</td>\n",
       "      <td>...</td>\n",
       "    </tr>\n",
       "    <tr>\n",
       "      <th>17949</th>\n",
       "      <td>NZ_CP023266.1 Helicobacter pylori strain 7.13_2 genome</td>\n",
       "      <td>1674214</td>\n",
       "    </tr>\n",
       "    <tr>\n",
       "      <th>17950</th>\n",
       "      <td>NZ_CP023267.1 Helicobacter pylori strain 7.13_1 genome</td>\n",
       "      <td>1674115</td>\n",
       "    </tr>\n",
       "    <tr>\n",
       "      <th>18137</th>\n",
       "      <td>NZ_CP014331.1 Clostridium sp. MF28, genome</td>\n",
       "      <td>6148198</td>\n",
       "    </tr>\n",
       "    <tr>\n",
       "      <th>18982</th>\n",
       "      <td>NZ_CP022390.1 Alcaligenes aquatilis strain BU33N genome</td>\n",
       "      <td>3838399</td>\n",
       "    </tr>\n",
       "    <tr>\n",
       "      <th>18987</th>\n",
       "      <td>NZ_CP021113.1 Treponema pallidum subsp. pertenue strain LMNP-1 genome sequence</td>\n",
       "      <td>1139772</td>\n",
       "    </tr>\n",
       "    <tr>\n",
       "      <th>19054</th>\n",
       "      <td>NZ_CP010405.1 Bacillus safensis FO-36b genome</td>\n",
       "      <td>3766664</td>\n",
       "    </tr>\n",
       "    <tr>\n",
       "      <th>19396</th>\n",
       "      <td>NZ_CP021349.1 Staphylococcus aureus strain 080880048-3 genome</td>\n",
       "      <td>2781362</td>\n",
       "    </tr>\n",
       "    <tr>\n",
       "      <th>19407</th>\n",
       "      <td>NZ_CP021350.1 Staphylococcus aureus strain 101110051-1 genome</td>\n",
       "      <td>2788812</td>\n",
       "    </tr>\n",
       "    <tr>\n",
       "      <th>19408</th>\n",
       "      <td>NZ_CP021351.1 Staphylococcus aureus strain 101110041-3 genome</td>\n",
       "      <td>2773442</td>\n",
       "    </tr>\n",
       "    <tr>\n",
       "      <th>19409</th>\n",
       "      <td>NZ_CP021352.1 Staphylococcus aureus strain 0201753-2 genome</td>\n",
       "      <td>2870488</td>\n",
       "    </tr>\n",
       "    <tr>\n",
       "      <th>19410</th>\n",
       "      <td>NZ_CP021353.1 Staphylococcus aureus strain 121560027-1 genome</td>\n",
       "      <td>2818490</td>\n",
       "    </tr>\n",
       "    <tr>\n",
       "      <th>19763</th>\n",
       "      <td>NZ_CP022199.1 Achromobacter insolitus strain AB2 genome</td>\n",
       "      <td>6438278</td>\n",
       "    </tr>\n",
       "    <tr>\n",
       "      <th>19764</th>\n",
       "      <td>NZ_CP022162.1 Microbacterium sp. PM5 genome</td>\n",
       "      <td>3158783</td>\n",
       "    </tr>\n",
       "    <tr>\n",
       "      <th>19845</th>\n",
       "      <td>NZ_CP016437.1 Hyphomonas sp. CACIAM 19H1 genome</td>\n",
       "      <td>4080747</td>\n",
       "    </tr>\n",
       "    <tr>\n",
       "      <th>20027</th>\n",
       "      <td>NZ_CP022313.1 Pseudomonas fluorescens strain NEP1 genome</td>\n",
       "      <td>6313875</td>\n",
       "    </tr>\n",
       "    <tr>\n",
       "      <th>20391</th>\n",
       "      <td>NZ_CP008879.1 Flavobacterium psychrophilum strain V1-20 genome</td>\n",
       "      <td>2699630</td>\n",
       "    </tr>\n",
       "    <tr>\n",
       "      <th>20392</th>\n",
       "      <td>NZ_CP008880.1 Flavobacterium psychrophilum strain V2-20 genome</td>\n",
       "      <td>2692540</td>\n",
       "    </tr>\n",
       "    <tr>\n",
       "      <th>20393</th>\n",
       "      <td>NZ_CP008882.1 Flavobacterium psychrophilum strain V4-28 genome</td>\n",
       "      <td>2697393</td>\n",
       "    </tr>\n",
       "    <tr>\n",
       "      <th>20671</th>\n",
       "      <td>NZ_CP012901.1 Pseudomonas aeruginosa strain N15-01092, complete sequence</td>\n",
       "      <td>6972899</td>\n",
       "    </tr>\n",
       "    <tr>\n",
       "      <th>20853</th>\n",
       "      <td>NZ_CP014381.1 Staphylococcus aureus strain USA300-SUR6</td>\n",
       "      <td>2919719</td>\n",
       "    </tr>\n",
       "    <tr>\n",
       "      <th>20859</th>\n",
       "      <td>NZ_CP014387.1 Staphylococcus aureus strain USA300-SUR8</td>\n",
       "      <td>2918010</td>\n",
       "    </tr>\n",
       "    <tr>\n",
       "      <th>20968</th>\n",
       "      <td>NZ_CP024811.1 Halomonas alkaliphila X3, complete sequence</td>\n",
       "      <td>4029514</td>\n",
       "    </tr>\n",
       "    <tr>\n",
       "      <th>22113</th>\n",
       "      <td>NZ_CP034429.1 Pseudomonas aeruginosa strain GIMC5015:PAKB6, complete sequence</td>\n",
       "      <td>6258491</td>\n",
       "    </tr>\n",
       "    <tr>\n",
       "      <th>22312</th>\n",
       "      <td>NZ_CP016430.1 Wolbachia endosymbiont of Bemisia tabaci strain China 1 genome</td>\n",
       "      <td>1306495</td>\n",
       "    </tr>\n",
       "    <tr>\n",
       "      <th>22352</th>\n",
       "      <td>NZ_CP034430.1 Pseudomonas aeruginosa strain GIMC5016:PA1840, complete sequence</td>\n",
       "      <td>6750271</td>\n",
       "    </tr>\n",
       "    <tr>\n",
       "      <th>27525</th>\n",
       "      <td>NW_001884665.1 Aspergillus oryzae RIB40 DNA, 47Q_0155</td>\n",
       "      <td>6938</td>\n",
       "    </tr>\n",
       "    <tr>\n",
       "      <th>27526</th>\n",
       "      <td>NW_001884669.1 Aspergillus oryzae RIB40 DNA, 47Q_0173</td>\n",
       "      <td>18226</td>\n",
       "    </tr>\n",
       "    <tr>\n",
       "      <th>27527</th>\n",
       "      <td>NW_001884683.1 Aspergillus oryzae RIB40 DNA, Q47Con0163</td>\n",
       "      <td>8921</td>\n",
       "    </tr>\n",
       "    <tr>\n",
       "      <th>28431</th>\n",
       "      <td>NW_020311997.1 Fusarium venenatum strain A3/5 genome assembly, organelle: mitochondrion</td>\n",
       "      <td>78612</td>\n",
       "    </tr>\n",
       "    <tr>\n",
       "      <th>43302</th>\n",
       "      <td>NW_003101688.1 Caenorhabditis briggsae strain AF16</td>\n",
       "      <td>7311690</td>\n",
       "    </tr>\n",
       "  </tbody>\n",
       "</table>\n",
       "<p>392 rows × 2 columns</p>\n",
       "</div>"
      ],
      "text/plain": [
       "                                                                                                          record_description   length\n",
       "27                                                        NC_005791.1 Methanococcus maripaludis strain S2, complete sequence  1661137\n",
       "236                                                                   NC_023044.1 Methanobacterium sp. MB1 complete sequence  2029766\n",
       "249                                                                   NZ_CP007551.1 Haloferax mediterranei ATCC 33500 genome  2946877\n",
       "257                                                                   NZ_CP008822.1 Metallosphaera sedula strain CuR1 genome  2191492\n",
       "327                                                       NZ_CP013695.1 Sulfolobus acidocaldarius strain NG05B_CO5_07 genome  2217426\n",
       "356                                                                               NZ_CP019470.1 Methanopyrus sp. KOL6 genome  1430309\n",
       "368                                    NZ_CP015193.1 Complete genome sequence of Thermococcus chitonophagus type strain GC74  1961979\n",
       "379                                                       NZ_CP017881.1 Methanohalophilus portucalensis strain FDF-1T genome  2084975\n",
       "525                                                                  NC_002655.2 Escherichia coli O157:H7 str. EDL933 genome  5528445\n",
       "595                                                             NC_002940.2 [Haemophilus] ducreyi 35000HP, complete sequence  1698955\n",
       "879                                                 NC_002491.1 Chlamydophila pneumoniae J138 genomic DNA, complete sequence  1226565\n",
       "1131                                                                   NC_008697.1 Nocardioides sp. JS614, complete sequence   307814\n",
       "1152                                                NC_008787.1 Campylobacter jejuni subsp. jejuni 81-176, complete sequence  1616554\n",
       "1167                                              NC_009012.1 Hungateiclostridium thermocellum ATCC 27405, complete sequence  3843301\n",
       "1314                                                                NC_009848.4 Bacillus pumilus SAFR-032, complete sequence  3704641\n",
       "1358                                                                NC_009976.1 Prochlorococcus marinus str. MIT 9211 genome  1688963\n",
       "1583                                            NC_012751.1 Candidatus Hamiltonella defensa 5AT (Acyrthosiphon pisum) genome  2110331\n",
       "1614                                                     NC_011898.1 Ruminiclostridium cellulolyticum H10, complete sequence  4068724\n",
       "1762                                                                 NC_013412.1 Geobacillus sp. Y412MC61, complete sequence    45057\n",
       "1829                                                                 NC_009445.1 Bradyrhizobium sp. ORS278,complete sequence  7456587\n",
       "1878                                                           NC_013971.1 Erwinia amylovora ATCC 49946 chromosomal sequence  3805874\n",
       "1894                                               NC_006155.1 Yersinia pseudotuberculosis IP32953 genome, complete sequence  4744671\n",
       "1907                                                           NC_008571.1 Gramella forsetii KT0803 complete circular genome  3798465\n",
       "1908                                                               NC_009482.1 Synechococcus sp. RCC307 genomic DNA sequence  2224914\n",
       "2063   NC_020449.1 Candidatus Cloacamonas acidaminovorans str. Evry provisional genome sequence from WWE1 candidate division  2246820\n",
       "2668                                                NC_017304.1 Hungateiclostridium thermocellum DSM 1313, complete sequence  3561619\n",
       "2955                                                                        NC_014810.2 Helicobacter felis ATCC 49179 genome  1672681\n",
       "2983                                          NC_014000.1 Anabaena variabilis ATCC 29413 incision element, complete sequence    37151\n",
       "3010                                                               NC_021021.1 Gordonibacter pamelaeae 7-10-1-b draft genome  3608022\n",
       "3011                                                NC_021039.1 Ruminococcus champanellensis type strain 18P13T draft genome  2573208\n",
       "...                                                                                                                      ...      ...\n",
       "17949                                                                 NZ_CP023266.1 Helicobacter pylori strain 7.13_2 genome  1674214\n",
       "17950                                                                 NZ_CP023267.1 Helicobacter pylori strain 7.13_1 genome  1674115\n",
       "18137                                                                             NZ_CP014331.1 Clostridium sp. MF28, genome  6148198\n",
       "18982                                                                NZ_CP022390.1 Alcaligenes aquatilis strain BU33N genome  3838399\n",
       "18987                                         NZ_CP021113.1 Treponema pallidum subsp. pertenue strain LMNP-1 genome sequence  1139772\n",
       "19054                                                                          NZ_CP010405.1 Bacillus safensis FO-36b genome  3766664\n",
       "19396                                                          NZ_CP021349.1 Staphylococcus aureus strain 080880048-3 genome  2781362\n",
       "19407                                                          NZ_CP021350.1 Staphylococcus aureus strain 101110051-1 genome  2788812\n",
       "19408                                                          NZ_CP021351.1 Staphylococcus aureus strain 101110041-3 genome  2773442\n",
       "19409                                                            NZ_CP021352.1 Staphylococcus aureus strain 0201753-2 genome  2870488\n",
       "19410                                                          NZ_CP021353.1 Staphylococcus aureus strain 121560027-1 genome  2818490\n",
       "19763                                                                NZ_CP022199.1 Achromobacter insolitus strain AB2 genome  6438278\n",
       "19764                                                                            NZ_CP022162.1 Microbacterium sp. PM5 genome  3158783\n",
       "19845                                                                        NZ_CP016437.1 Hyphomonas sp. CACIAM 19H1 genome  4080747\n",
       "20027                                                               NZ_CP022313.1 Pseudomonas fluorescens strain NEP1 genome  6313875\n",
       "20391                                                         NZ_CP008879.1 Flavobacterium psychrophilum strain V1-20 genome  2699630\n",
       "20392                                                         NZ_CP008880.1 Flavobacterium psychrophilum strain V2-20 genome  2692540\n",
       "20393                                                         NZ_CP008882.1 Flavobacterium psychrophilum strain V4-28 genome  2697393\n",
       "20671                                               NZ_CP012901.1 Pseudomonas aeruginosa strain N15-01092, complete sequence  6972899\n",
       "20853                                                                 NZ_CP014381.1 Staphylococcus aureus strain USA300-SUR6  2919719\n",
       "20859                                                                 NZ_CP014387.1 Staphylococcus aureus strain USA300-SUR8  2918010\n",
       "20968                                                              NZ_CP024811.1 Halomonas alkaliphila X3, complete sequence  4029514\n",
       "22113                                          NZ_CP034429.1 Pseudomonas aeruginosa strain GIMC5015:PAKB6, complete sequence  6258491\n",
       "22312                                           NZ_CP016430.1 Wolbachia endosymbiont of Bemisia tabaci strain China 1 genome  1306495\n",
       "22352                                         NZ_CP034430.1 Pseudomonas aeruginosa strain GIMC5016:PA1840, complete sequence  6750271\n",
       "27525                                                                  NW_001884665.1 Aspergillus oryzae RIB40 DNA, 47Q_0155     6938\n",
       "27526                                                                  NW_001884669.1 Aspergillus oryzae RIB40 DNA, 47Q_0173    18226\n",
       "27527                                                                NW_001884683.1 Aspergillus oryzae RIB40 DNA, Q47Con0163     8921\n",
       "28431                                NW_020311997.1 Fusarium venenatum strain A3/5 genome assembly, organelle: mitochondrion    78612\n",
       "43302                                                                     NW_003101688.1 Caenorhabditis briggsae strain AF16  7311690\n",
       "\n",
       "[392 rows x 2 columns]"
      ]
     },
     "execution_count": 76,
     "metadata": {},
     "output_type": "execute_result"
    }
   ],
   "source": [
    "df[(df[\"type\"] == \"undefined\") \n",
    "   & ~(df.record_description.str.lower().str.contains(\"drosophila melanogaster\")) \n",
    "   & ~(df.record_description.str.lower().str.contains(\"plasmid\")) \n",
    "   & ~(df.record_description.str.lower().str.contains(\"scaffold\")) \n",
    "   & ~(df.record_description.str.lower().str.contains(\"whole genome shotgun sequence\")) \n",
    "   & ~(df.record_description.str.lower().str.contains(\"contig\"))][[\"record_description\", \"length\"]] "
   ]
  },
  {
   "cell_type": "code",
   "execution_count": 80,
   "metadata": {},
   "outputs": [
    {
     "data": {
      "text/plain": [
       "(360393, 25)"
      ]
     },
     "execution_count": 80,
     "metadata": {},
     "output_type": "execute_result"
    }
   ],
   "source": [
    "df.shape"
   ]
  },
  {
   "cell_type": "code",
   "execution_count": 83,
   "metadata": {},
   "outputs": [
    {
     "name": "stdout",
     "output_type": "stream",
     "text": [
      "id_superkingdom\n",
      "id_kingdom\n",
      "id_phylum\n",
      "id_class\n",
      "id_order\n",
      "id_family\n",
      "id_genus\n",
      "id_species\n"
     ]
    },
    {
     "data": {
      "text/plain": [
       "'461.5 MB'"
      ]
     },
     "execution_count": 83,
     "metadata": {},
     "output_type": "execute_result"
    }
   ],
   "source": [
    "for col in df.columns:\n",
    "    if \"id_\" in col:\n",
    "        print(col)\n",
    "        df[col].fillna(0, inplace=True)\n",
    "        df[col] = df[col].astype(int)"
   ]
  },
  {
   "cell_type": "code",
   "execution_count": 84,
   "metadata": {},
   "outputs": [
    {
     "data": {
      "application/vnd.jupyter.widget-view+json": {
       "model_id": "",
       "version_major": 2,
       "version_minor": 0
      },
      "text/plain": [
       "HBox(children=(IntProgress(value=0, max=19), HTML(value='')))"
      ]
     },
     "metadata": {},
     "output_type": "display_data"
    },
    {
     "name": "stdout",
     "output_type": "stream",
     "text": [
      "\n",
      "179.7 MB\n"
     ]
    }
   ],
   "source": [
    "col_categories = ['rank', 'type', 'path_folder', \n",
    "                  'id_superkingdom', 'name_superkingdom', 'id_kingdom', 'name_kingdom', 'id_phylum', 'name_phylum', \n",
    "                  'id_class', 'name_class', 'id_order', 'name_order', 'id_family', 'name_family', \n",
    "                  'id_genus', 'name_genus', 'id_species', 'name_species']\n",
    "\n",
    "for col in tqdm(col_categories):\n",
    "    df[col] = df[col].astype('category')\n",
    "print(f\"{df.memory_usage(deep=True).sum()/1000000:.1f} MB\")"
   ]
  },
  {
   "cell_type": "code",
   "execution_count": null,
   "metadata": {},
   "outputs": [],
   "source": []
  },
  {
   "cell_type": "code",
   "execution_count": null,
   "metadata": {},
   "outputs": [],
   "source": []
  },
  {
   "cell_type": "code",
   "execution_count": 6,
   "metadata": {
    "scrolled": true
   },
   "outputs": [
    {
     "data": {
      "text/plain": [
       "['taxon_id',\n",
       " 'taxon_name',\n",
       " 'rank',\n",
       " 'type',\n",
       " 'length',\n",
       " 'record_id',\n",
       " 'record_description',\n",
       " 'path_folder',\n",
       " 'path_file',\n",
       " 'id_superkingdom',\n",
       " 'name_superkingdom',\n",
       " 'id_kingdom',\n",
       " 'name_kingdom',\n",
       " 'id_phylum',\n",
       " 'name_phylum',\n",
       " 'id_class',\n",
       " 'name_class',\n",
       " 'id_order',\n",
       " 'name_order',\n",
       " 'id_family',\n",
       " 'name_family',\n",
       " 'id_genus',\n",
       " 'name_genus',\n",
       " 'id_species',\n",
       " 'name_species']"
      ]
     },
     "execution_count": 6,
     "metadata": {},
     "output_type": "execute_result"
    }
   ],
   "source": [
    "desired_ranks = ['superkingdom', 'kingdom', 'phylum', 'class', 'order', 'family', 'genus', 'species']\n",
    "headers = [\"taxon_id\", \"taxon_name\", \"rank\", \"type\", \"length\", \n",
    "           \"record_id\", \"record_description\", \"path_folder\", \"path_file\", ]\n",
    "[headers.extend([f\"id_{v}\", f\"name_{v}\"]) for v in desired_ranks]\n",
    "headers"
   ]
  },
  {
   "cell_type": "markdown",
   "metadata": {},
   "source": [
    "# Read the csv and transform to pandas, plus column dtype conversion"
   ]
  },
  {
   "cell_type": "markdown",
   "metadata": {},
   "source": [
    "Might take a while if file is big..."
   ]
  },
  {
   "cell_type": "code",
   "execution_count": null,
   "metadata": {},
   "outputs": [],
   "source": []
  },
  {
   "cell_type": "code",
   "execution_count": null,
   "metadata": {},
   "outputs": [],
   "source": []
  },
  {
   "cell_type": "markdown",
   "metadata": {},
   "source": [
    "# End"
   ]
  },
  {
   "cell_type": "code",
   "execution_count": 144,
   "metadata": {},
   "outputs": [],
   "source": [
    "path_file = \"/home/ubuntu/Disks/HDD1000/NCBI/20190704/refseq/bacteria/GCF_000006845.1/GCF_000006845.1_ASM684v1_genomic.fna\""
   ]
  },
  {
   "cell_type": "code",
   "execution_count": 150,
   "metadata": {},
   "outputs": [],
   "source": [
    "record = SeqIO.parse(path_file, \"fasta\")"
   ]
  },
  {
   "cell_type": "code",
   "execution_count": 151,
   "metadata": {
    "scrolled": true
   },
   "outputs": [
    {
     "data": {
      "text/plain": [
       "SeqRecord(seq=Seq('ATAAATTTTTGCACGGGTTGTGGATAAAATATCGGCGAGTCGGTATAATCGGTT...TGG', SingleLetterAlphabet()), id='NC_002946.2', name='NC_002946.2', description='NC_002946.2 Neisseria gonorrhoeae FA 1090 chromosome, complete genome', dbxrefs=[])"
      ]
     },
     "execution_count": 151,
     "metadata": {},
     "output_type": "execute_result"
    }
   ],
   "source": [
    "r = next(record)\n",
    "r"
   ]
  },
  {
   "cell_type": "code",
   "execution_count": 59,
   "metadata": {},
   "outputs": [
    {
     "data": {
      "text/plain": [
       "1936387"
      ]
     },
     "execution_count": 59,
     "metadata": {},
     "output_type": "execute_result"
    }
   ],
   "source": [
    "len(record.seq)"
   ]
  },
  {
   "cell_type": "code",
   "execution_count": 85,
   "metadata": {},
   "outputs": [
    {
     "data": {
      "text/plain": [
       "Seq('AATTTAAAGATTAAAATTAGTAGACTGTCGATTTACAATATCATATTTATGAGT...TAA', SingleLetterAlphabet())"
      ]
     },
     "execution_count": 85,
     "metadata": {},
     "output_type": "execute_result"
    }
   ],
   "source": [
    "record.seq.upper()"
   ]
  },
  {
   "cell_type": "code",
   "execution_count": 73,
   "metadata": {},
   "outputs": [
    {
     "name": "stdout",
     "output_type": "stream",
     "text": [
      "ID: NC_014222.1\n",
      "Name: NC_014222.1\n",
      "Description: NC_014222.1 Methanococcus voltae A3, complete genome\n",
      "Number of features: 0\n",
      "Seq('AATTTAAAGATTAAAATTAGTAGACTGTCGATTTACAATATCATATTTATGAGT...TAA', SingleLetterAlphabet())\n"
     ]
    }
   ],
   "source": [
    "print(record)"
   ]
  },
  {
   "cell_type": "code",
   "execution_count": 62,
   "metadata": {
    "scrolled": true
   },
   "outputs": [
    {
     "data": {
      "text/plain": [
       "['__add__',\n",
       " '__bool__',\n",
       " '__class__',\n",
       " '__contains__',\n",
       " '__delattr__',\n",
       " '__dict__',\n",
       " '__dir__',\n",
       " '__doc__',\n",
       " '__eq__',\n",
       " '__format__',\n",
       " '__ge__',\n",
       " '__getattribute__',\n",
       " '__getitem__',\n",
       " '__gt__',\n",
       " '__hash__',\n",
       " '__init__',\n",
       " '__init_subclass__',\n",
       " '__iter__',\n",
       " '__le__',\n",
       " '__le___',\n",
       " '__len__',\n",
       " '__lt__',\n",
       " '__module__',\n",
       " '__ne__',\n",
       " '__new__',\n",
       " '__nonzero__',\n",
       " '__radd__',\n",
       " '__reduce__',\n",
       " '__reduce_ex__',\n",
       " '__repr__',\n",
       " '__setattr__',\n",
       " '__sizeof__',\n",
       " '__str__',\n",
       " '__subclasshook__',\n",
       " '__weakref__',\n",
       " '_per_letter_annotations',\n",
       " '_seq',\n",
       " '_set_per_letter_annotations',\n",
       " '_set_seq',\n",
       " 'annotations',\n",
       " 'dbxrefs',\n",
       " 'description',\n",
       " 'features',\n",
       " 'format',\n",
       " 'id',\n",
       " 'letter_annotations',\n",
       " 'lower',\n",
       " 'name',\n",
       " 'reverse_complement',\n",
       " 'seq',\n",
       " 'translate',\n",
       " 'upper']"
      ]
     },
     "execution_count": 62,
     "metadata": {},
     "output_type": "execute_result"
    }
   ],
   "source": [
    "dir(record)"
   ]
  },
  {
   "cell_type": "code",
   "execution_count": 86,
   "metadata": {
    "scrolled": true
   },
   "outputs": [
    {
     "data": {
      "text/plain": [
       "'NC_014222.1 Methanococcus voltae A3, complete genome'"
      ]
     },
     "execution_count": 86,
     "metadata": {},
     "output_type": "execute_result"
    }
   ],
   "source": [
    "record.description"
   ]
  },
  {
   "cell_type": "code",
   "execution_count": null,
   "metadata": {},
   "outputs": [],
   "source": []
  },
  {
   "cell_type": "code",
   "execution_count": 176,
   "metadata": {
    "scrolled": true
   },
   "outputs": [
    {
     "data": {
      "text/plain": [
       "{'superkingdom_id': 2,\n",
       " 'kingdom_id': 'NaN',\n",
       " 'phylum_id': 'NaN',\n",
       " 'class_id': 'NaN',\n",
       " 'order_id': 'NaN',\n",
       " 'family_id': 'NaN',\n",
       " 'genus_id': 'NaN',\n",
       " 'species_id': 'NaN'}"
      ]
     },
     "execution_count": 176,
     "metadata": {},
     "output_type": "execute_result"
    }
   ],
   "source": [
    "get_desired_ranks(2, desired_ranks)"
   ]
  },
  {
   "cell_type": "code",
   "execution_count": 154,
   "metadata": {},
   "outputs": [
    {
     "data": {
      "text/plain": [
       "[2759, 33208, 7711, 40674, 9443, 9604, 9605, 9606]"
      ]
     },
     "execution_count": 154,
     "metadata": {},
     "output_type": "execute_result"
    }
   ],
   "source": [
    "get_desired_ranks(9606, desired_ranks, tolist=True)"
   ]
  },
  {
   "cell_type": "code",
   "execution_count": 155,
   "metadata": {
    "scrolled": true
   },
   "outputs": [
    {
     "data": {
      "text/plain": [
       "['Eukaryota',\n",
       " 'Metazoa',\n",
       " 'Chordata',\n",
       " 'Mammalia',\n",
       " 'Primates',\n",
       " 'Hominidae',\n",
       " 'Homo',\n",
       " 'Homo sapiens']"
      ]
     },
     "execution_count": 155,
     "metadata": {},
     "output_type": "execute_result"
    }
   ],
   "source": [
    "ncbi.translate_to_names(get_desired_ranks(9606, desired_ranks, tolist=True))"
   ]
  },
  {
   "cell_type": "code",
   "execution_count": 184,
   "metadata": {
    "scrolled": true
   },
   "outputs": [
    {
     "data": {
      "text/plain": [
       "{2: 'Bacteria',\n",
       " 6: 'Azorhizobium',\n",
       " 356: 'Rhizobiales',\n",
       " 1224: 'Proteobacteria',\n",
       " 28211: 'Alphaproteobacteria',\n",
       " 335928: 'Xanthobacteraceae'}"
      ]
     },
     "execution_count": 184,
     "metadata": {},
     "output_type": "execute_result"
    }
   ],
   "source": [
    "ranks_id_str = ncbi.get_taxid_translator(get_desired_ranks(6, desired_ranks, tolist=True))\n",
    "ranks_id_str"
   ]
  },
  {
   "cell_type": "code",
   "execution_count": 185,
   "metadata": {},
   "outputs": [
    {
     "data": {
      "text/plain": [
       "[None, None, None, None, None, None]"
      ]
     },
     "execution_count": 185,
     "metadata": {},
     "output_type": "execute_result"
    }
   ],
   "source": [
    "l=[]\n",
    "[l.extend([k,v]) for k,v in ranks_id_str.items()]"
   ]
  },
  {
   "cell_type": "code",
   "execution_count": 186,
   "metadata": {
    "scrolled": true
   },
   "outputs": [
    {
     "data": {
      "text/plain": [
       "[2,\n",
       " 'Bacteria',\n",
       " 6,\n",
       " 'Azorhizobium',\n",
       " 356,\n",
       " 'Rhizobiales',\n",
       " 1224,\n",
       " 'Proteobacteria',\n",
       " 28211,\n",
       " 'Alphaproteobacteria',\n",
       " 335928,\n",
       " 'Xanthobacteraceae']"
      ]
     },
     "execution_count": 186,
     "metadata": {},
     "output_type": "execute_result"
    }
   ],
   "source": [
    "l"
   ]
  },
  {
   "cell_type": "code",
   "execution_count": null,
   "metadata": {},
   "outputs": [],
   "source": []
  },
  {
   "cell_type": "code",
   "execution_count": null,
   "metadata": {},
   "outputs": [],
   "source": []
  }
 ],
 "metadata": {
  "hide_input": false,
  "kernelspec": {
   "display_name": "Python 3",
   "language": "python",
   "name": "python3"
  },
  "language_info": {
   "codemirror_mode": {
    "name": "ipython",
    "version": 3
   },
   "file_extension": ".py",
   "mimetype": "text/x-python",
   "name": "python",
   "nbconvert_exporter": "python",
   "pygments_lexer": "ipython3",
   "version": "3.7.3"
  },
  "toc": {
   "base_numbering": 1,
   "nav_menu": {},
   "number_sections": true,
   "sideBar": true,
   "skip_h1_title": false,
   "title_cell": "Table of Contents",
   "title_sidebar": "Contents",
   "toc_cell": false,
   "toc_position": {},
   "toc_section_display": true,
   "toc_window_display": false
  },
  "varInspector": {
   "cols": {
    "lenName": 16,
    "lenType": 16,
    "lenVar": 40
   },
   "kernels_config": {
    "python": {
     "delete_cmd_postfix": "",
     "delete_cmd_prefix": "del ",
     "library": "var_list.py",
     "varRefreshCmd": "print(var_dic_list())"
    },
    "r": {
     "delete_cmd_postfix": ") ",
     "delete_cmd_prefix": "rm(",
     "library": "var_list.r",
     "varRefreshCmd": "cat(var_dic_list()) "
    }
   },
   "types_to_exclude": [
    "module",
    "function",
    "builtin_function_or_method",
    "instance",
    "_Feature"
   ],
   "window_display": false
  }
 },
 "nbformat": 4,
 "nbformat_minor": 2
}
