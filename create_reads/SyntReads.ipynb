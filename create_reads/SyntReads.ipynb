{
 "cells": [
  {
   "cell_type": "markdown",
   "metadata": {},
   "source": [
    "# Imports, settings and paths"
   ]
  },
  {
   "cell_type": "code",
   "execution_count": 1,
   "metadata": {},
   "outputs": [],
   "source": [
    "import pandas as pd\n",
    "import os\n",
    "from copy import deepcopy\n",
    "from random import randint"
   ]
  },
  {
   "cell_type": "code",
   "execution_count": 2,
   "metadata": {},
   "outputs": [],
   "source": [
    "from Bio import SeqIO\n",
    "from Bio.Seq import Seq\n",
    "from Bio.SeqRecord import SeqRecord\n",
    "from Bio.Alphabet import SingleLetterAlphabet\n",
    "from tqdm import tqdm_notebook as tqdm\n",
    "from ete3 import NCBITaxa"
   ]
  },
  {
   "cell_type": "code",
   "execution_count": 3,
   "metadata": {},
   "outputs": [],
   "source": [
    "# path_ncbi = \"/home/ubuntu/Disks/HDD1000/NCBI/20190704/refseq\"\n",
    "path_ncbi_csv = \"/home/ubuntu/Disks/HDD1000/NCBI/ncbi.csv\"\n",
    "path_ncbi_pd = \"/home/ubuntu/Disks/HDD1000/NCBI/ncbi_2019-11-26.pd\""
   ]
  },
  {
   "cell_type": "code",
   "execution_count": 4,
   "metadata": {},
   "outputs": [],
   "source": [
    "pd.set_option('display.max_columns', 50)\n",
    "pd.set_option('display.width', 500)"
   ]
  },
  {
   "cell_type": "code",
   "execution_count": 5,
   "metadata": {},
   "outputs": [],
   "source": [
    "# Settings\n",
    "nb_species = 20\n",
    "nb_reads = 100000\n",
    "read_length = (1000, 10000)"
   ]
  },
  {
   "cell_type": "code",
   "execution_count": 6,
   "metadata": {},
   "outputs": [],
   "source": [
    "ncbi = NCBITaxa()"
   ]
  },
  {
   "cell_type": "raw",
   "metadata": {},
   "source": [
    "ncbi.get_taxid_translator(ncbi.get_lineage(28132 ))"
   ]
  },
  {
   "cell_type": "raw",
   "metadata": {},
   "source": [
    "desired_ranks = ['superkingdom', 'kingdom', 'phylum', 'class', 'order', 'family', 'genus', 'species']"
   ]
  },
  {
   "cell_type": "markdown",
   "metadata": {},
   "source": [
    "# SyntRead Class"
   ]
  },
  {
   "cell_type": "code",
   "execution_count": 7,
   "metadata": {},
   "outputs": [],
   "source": [
    "class SyntRead:\n",
    "    count = 0\n",
    "    \n",
    "    def __init__(self, record_id, taxon, genome, what, s_kingdom, path_complete, description):  # folder, file,\n",
    "        self.object_id    = SyntRead.counter()\n",
    "        self.record_id    = record_id\n",
    "        self.taxon        = taxon\n",
    "        self.genome       = genome\n",
    "        self.gen_chr_plas = what\n",
    "        self.s_kingdom    = s_kingdom\n",
    "        self.path         = path_complete  # os.path.join(folder, file)\n",
    "        self.description  = description\n",
    "        self.description_original = description\n",
    "        \n",
    "        self.seq          = None\n",
    "        self.seq_len      = None\n",
    "        self.start        = None\n",
    "        self.stop         = None\n",
    "        self.read_len     = None\n",
    "        self.read         = None \n",
    "        \n",
    "    def counter():\n",
    "        SyntRead.count += 1\n",
    "        return SyntRead.count - 1\n",
    "        \n",
    "    def synthetize_read(self, seq=\"\", synt_length=0):\n",
    "        if synt_length == 0:\n",
    "            synt_length = randint(read_length[0], read_length[1])\n",
    "        if seq == \"\":\n",
    "            records = list(SeqIO.parse(self.path, \"fasta\"))\n",
    "            for r in records:\n",
    "                if r.id == self.record_id:\n",
    "                    seq = str(r.seq)\n",
    "                    break\n",
    "                else:\n",
    "                    raise FileNotFoundError(\"File error, couldn't find the right record\")\n",
    "            self.seq_len = len(seq)\n",
    "            \n",
    "        self.read_len  = synt_length\n",
    "        self.start     = randint(0, self.seq_len - self.read_len)\n",
    "        self.stop      = self.start + self.read_len\n",
    "        self.read      = seq[self.start:self.stop]\n",
    "        self.update_description()\n",
    "        \n",
    "    def deep_random_copy(self, n):\n",
    "        seq = self.fetch_seq()\n",
    "        l = []\n",
    "        for i in range(n):\n",
    "            new_item = deepcopy(self)\n",
    "            new_item.object_id = SyntRead.counter()\n",
    "            new_item.synthetize_read(seq)\n",
    "            l.append(new_item)\n",
    "        return l\n",
    "    \n",
    "    def update_description(self):\n",
    "        self.description = self.description_original \\\n",
    "            + f\", synthetic read (sr_id={self.object_id}) from genome (tax_id={self.taxon}), \"\\\n",
    "              f\"from nucleotide {self.start} to {self.stop} (len={self.read_len})\"\n",
    "        \n",
    "    def fetch_seq(self):\n",
    "        records = list(SeqIO.parse(self.path, \"fasta\"))\n",
    "        for r in records:\n",
    "            if r.id == self.record_id:\n",
    "                seq = str(r.seq)\n",
    "                break\n",
    "            else:\n",
    "                raise FileNotFoundError(\"File error, couldn't find the right record\")\n",
    "        return seq\n",
    "    \n",
    "    def __repr__(self):\n",
    "        return f\"Synthetic read <{self.object_id}> from {self.genome}, len={self.read_len}, [{self.start}:{self.stop}]\"\n",
    "        \n",
    "    def save_ground_truth(list_sr, path_pandas):\n",
    "        if os.path.isfile(path_pandas): input(f\"The file {path_pandas} already exists, continue ? \")\n",
    "        rows = []\n",
    "        for sr in tqdm(list_sr):\n",
    "            rows.append([sr.taxon, sr.genome, sr.gen_chr_plas, sr.read_len, sr.start, sr.stop,\n",
    "                         sr.record_id, sr.object_id, sr.description, sr.path, ])\n",
    "        df = pd.DataFrame(rows, columns=[\"taxon\", \"genome\", \"gen_chr_plas\", \"read_len\", \"start\", \"stop\", \n",
    "                                    \"record_id\", \"object_id\", \"description\", \"path\"])\n",
    "        for col in [\"taxon\", \"genome\", \"gen_chr_plas\", \"record_id\", \"description\", \"path\"]:\n",
    "            df[col] = df[col].astype('category')\n",
    "        df.to_pickle(path_pandas)\n",
    "        return df\n",
    "        \n",
    "    def to_fastq(list_sr, path_fastq):\n",
    "        if os.path.isfile(path_fastq): input(f\"The file {path_fastq} already exists, continue ? \")\n",
    "        records = []\n",
    "        for sr in tqdm(list_sr):\n",
    "            records.append(SeqRecord(Seq(sr.read, SingleLetterAlphabet), \n",
    "                                     id=sr.record_id, name=sr.genome, description=sr.description))\n",
    "        with open(path_fastq, \"w\") as f:\n",
    "            SeqIO.write(records, f, \"fasta\")"
   ]
  },
  {
   "cell_type": "markdown",
   "metadata": {},
   "source": [
    "# Create List of SyntReads"
   ]
  },
  {
   "cell_type": "raw",
   "metadata": {
    "scrolled": true
   },
   "source": [
    "df = pd.read_csv(path_ncbi_csv, sep=\"\\t\", )"
   ]
  },
  {
   "cell_type": "code",
   "execution_count": 8,
   "metadata": {},
   "outputs": [],
   "source": [
    "df = pd.read_pickle(path_ncbi_pd)"
   ]
  },
  {
   "cell_type": "code",
   "execution_count": 9,
   "metadata": {},
   "outputs": [
    {
     "name": "stdout",
     "output_type": "stream",
     "text": [
      "(1923707, 25) (15545,)\n"
     ]
    }
   ],
   "source": [
    "print(df.shape, df.taxon_id.unique().shape)"
   ]
  },
  {
   "cell_type": "code",
   "execution_count": 10,
   "metadata": {},
   "outputs": [
    {
     "data": {
      "text/plain": [
       "(4424, 25)"
      ]
     },
     "execution_count": 10,
     "metadata": {},
     "output_type": "execute_result"
    }
   ],
   "source": [
    "filtered = df[(df.type == \"complete genome\") \n",
    "               & ( ((df.name_superkingdom == \"Bacteria\") & (df.length > 130000))\n",
    "                 | ((df.name_superkingdom == \"Archea\") & (df.length > 800000))\n",
    "                 | ((df.name_superkingdom == \"Virus\") & (df.length > 800)))]\n",
    "filtered.shape"
   ]
  },
  {
   "cell_type": "markdown",
   "metadata": {},
   "source": [
    "## Select particular species for gut microbia\n",
    "Based on https://en.wikipedia.org/wiki/Human_gastrointestinal_microbiota#Composition <br>\n"
   ]
  },
  {
   "cell_type": "code",
   "execution_count": 11,
   "metadata": {
    "scrolled": true
   },
   "outputs": [
    {
     "data": {
      "text/plain": [
       "287    72\n",
       "303    19\n",
       "294    12\n",
       "Name: id_species, dtype: int64"
      ]
     },
     "execution_count": 11,
     "metadata": {},
     "output_type": "execute_result"
    }
   ],
   "source": [
    "filtered[filtered.id_genus == 286    ][\"id_species\"].value_counts()[:3]"
   ]
  },
  {
   "cell_type": "code",
   "execution_count": 12,
   "metadata": {},
   "outputs": [
    {
     "data": {
      "text/html": [
       "<div>\n",
       "<style scoped>\n",
       "    .dataframe tbody tr th:only-of-type {\n",
       "        vertical-align: middle;\n",
       "    }\n",
       "\n",
       "    .dataframe tbody tr th {\n",
       "        vertical-align: top;\n",
       "    }\n",
       "\n",
       "    .dataframe thead th {\n",
       "        text-align: right;\n",
       "    }\n",
       "</style>\n",
       "<table border=\"1\" class=\"dataframe\">\n",
       "  <thead>\n",
       "    <tr style=\"text-align: right;\">\n",
       "      <th></th>\n",
       "      <th>taxon_id</th>\n",
       "      <th>taxon_name</th>\n",
       "      <th>rank</th>\n",
       "      <th>type</th>\n",
       "      <th>length</th>\n",
       "      <th>record_id</th>\n",
       "      <th>record_description</th>\n",
       "      <th>path_folder</th>\n",
       "      <th>path_file</th>\n",
       "      <th>id_superkingdom</th>\n",
       "      <th>id_kingdom</th>\n",
       "      <th>id_phylum</th>\n",
       "      <th>id_class</th>\n",
       "      <th>id_order</th>\n",
       "      <th>id_family</th>\n",
       "      <th>id_genus</th>\n",
       "      <th>id_species</th>\n",
       "      <th>name_superkingdom</th>\n",
       "      <th>name_kingdom</th>\n",
       "      <th>name_phylum</th>\n",
       "      <th>name_class</th>\n",
       "      <th>name_order</th>\n",
       "      <th>name_family</th>\n",
       "      <th>name_genus</th>\n",
       "      <th>name_species</th>\n",
       "    </tr>\n",
       "  </thead>\n",
       "  <tbody>\n",
       "    <tr>\n",
       "      <th>978</th>\n",
       "      <td>435591</td>\n",
       "      <td>Parabacteroides distasonis ATCC 8503</td>\n",
       "      <td>no rank</td>\n",
       "      <td>complete genome</td>\n",
       "      <td>4811379</td>\n",
       "      <td>NC_009615.1</td>\n",
       "      <td>NC_009615.1 Parabacteroides distasonis ATCC 85...</td>\n",
       "      <td>/home/ubuntu/Disks/HDD1000/NCBI/20190704/refseq/</td>\n",
       "      <td>bacteria/GCF_000012845.1/GCF_000012845.1_ASM12...</td>\n",
       "      <td>2</td>\n",
       "      <td>0</td>\n",
       "      <td>976</td>\n",
       "      <td>200643</td>\n",
       "      <td>171549</td>\n",
       "      <td>2005525</td>\n",
       "      <td>375288</td>\n",
       "      <td>823</td>\n",
       "      <td>Bacteria</td>\n",
       "      <td>0</td>\n",
       "      <td>Bacteroidetes</td>\n",
       "      <td>Bacteroidia</td>\n",
       "      <td>Bacteroidales</td>\n",
       "      <td>Tannerellaceae</td>\n",
       "      <td>Parabacteroides</td>\n",
       "      <td>Parabacteroides distasonis</td>\n",
       "    </tr>\n",
       "  </tbody>\n",
       "</table>\n",
       "</div>"
      ],
      "text/plain": [
       "     taxon_id                            taxon_name     rank             type   length    record_id                                 record_description                                       path_folder                                          path_file id_superkingdom id_kingdom id_phylum id_class id_order id_family id_genus id_species name_superkingdom name_kingdom    name_phylum   name_class     name_order     name_family       name_genus                name_species\n",
       "978    435591  Parabacteroides distasonis ATCC 8503  no rank  complete genome  4811379  NC_009615.1  NC_009615.1 Parabacteroides distasonis ATCC 85...  /home/ubuntu/Disks/HDD1000/NCBI/20190704/refseq/  bacteria/GCF_000012845.1/GCF_000012845.1_ASM12...               2          0       976   200643   171549   2005525   375288        823          Bacteria            0  Bacteroidetes  Bacteroidia  Bacteroidales  Tannerellaceae  Parabacteroides  Parabacteroides distasonis"
      ]
     },
     "execution_count": 12,
     "metadata": {},
     "output_type": "execute_result"
    }
   ],
   "source": [
    "filtered[filtered.id_species == 823]"
   ]
  },
  {
   "cell_type": "code",
   "execution_count": 13,
   "metadata": {
    "scrolled": true
   },
   "outputs": [
    {
     "name": "stdout",
     "output_type": "stream",
     "text": [
      "{1351: 'Enterococcus faecalis'} 11\n",
      "{562: 'Escherichia coli'} 264\n",
      "{1280: 'Staphylococcus aureus'} 144\n",
      "{573: 'Klebsiella pneumoniae'} 94\n",
      "{817: 'Bacteroides fragilis'} 3\n",
      "{550: 'Enterobacter cloacae'} 16\n",
      "{216816: 'Bifidobacterium longum'} 17\n",
      "{1590: 'Lactobacillus plantarum'} 21\n",
      "{1502: 'Clostridium perfringens'} 7\n",
      "{584: 'Proteus mirabilis'} 8\n",
      "{287: 'Pseudomonas aeruginosa'} 72\n",
      "{823: 'Parabacteroides distasonis'} 1\n"
     ]
    },
    {
     "data": {
      "text/html": [
       "<div>\n",
       "<style scoped>\n",
       "    .dataframe tbody tr th:only-of-type {\n",
       "        vertical-align: middle;\n",
       "    }\n",
       "\n",
       "    .dataframe tbody tr th {\n",
       "        vertical-align: top;\n",
       "    }\n",
       "\n",
       "    .dataframe thead th {\n",
       "        text-align: right;\n",
       "    }\n",
       "</style>\n",
       "<table border=\"1\" class=\"dataframe\">\n",
       "  <thead>\n",
       "    <tr style=\"text-align: right;\">\n",
       "      <th></th>\n",
       "      <th>taxon_id</th>\n",
       "      <th>taxon_name</th>\n",
       "      <th>rank</th>\n",
       "      <th>type</th>\n",
       "      <th>length</th>\n",
       "      <th>record_id</th>\n",
       "      <th>record_description</th>\n",
       "      <th>path_folder</th>\n",
       "      <th>path_file</th>\n",
       "      <th>id_superkingdom</th>\n",
       "      <th>id_kingdom</th>\n",
       "      <th>id_phylum</th>\n",
       "      <th>id_class</th>\n",
       "      <th>id_order</th>\n",
       "      <th>id_family</th>\n",
       "      <th>id_genus</th>\n",
       "      <th>id_species</th>\n",
       "      <th>name_superkingdom</th>\n",
       "      <th>name_kingdom</th>\n",
       "      <th>name_phylum</th>\n",
       "      <th>name_class</th>\n",
       "      <th>name_order</th>\n",
       "      <th>name_family</th>\n",
       "      <th>name_genus</th>\n",
       "      <th>name_species</th>\n",
       "    </tr>\n",
       "  </thead>\n",
       "  <tbody>\n",
       "    <tr>\n",
       "      <th>4100</th>\n",
       "      <td>1261557</td>\n",
       "      <td>Enterococcus faecalis str. Symbioflor 1</td>\n",
       "      <td>no rank</td>\n",
       "      <td>complete genome</td>\n",
       "      <td>2810675</td>\n",
       "      <td>NC_019770.1</td>\n",
       "      <td>NC_019770.1 Enterococcus faecalis str. Symbiof...</td>\n",
       "      <td>/home/ubuntu/Disks/HDD1000/NCBI/20190704/refseq/</td>\n",
       "      <td>bacteria/GCF_000317915.1/GCF_000317915.1_ASM31...</td>\n",
       "      <td>2</td>\n",
       "      <td>0</td>\n",
       "      <td>1239</td>\n",
       "      <td>91061</td>\n",
       "      <td>186826</td>\n",
       "      <td>81852</td>\n",
       "      <td>1350</td>\n",
       "      <td>1351</td>\n",
       "      <td>Bacteria</td>\n",
       "      <td>0</td>\n",
       "      <td>Firmicutes</td>\n",
       "      <td>Bacilli</td>\n",
       "      <td>Lactobacillales</td>\n",
       "      <td>Enterococcaceae</td>\n",
       "      <td>Enterococcus</td>\n",
       "      <td>Enterococcus faecalis</td>\n",
       "    </tr>\n",
       "    <tr>\n",
       "      <th>6635</th>\n",
       "      <td>1201292</td>\n",
       "      <td>Enterococcus faecalis ATCC 29212</td>\n",
       "      <td>no rank</td>\n",
       "      <td>complete genome</td>\n",
       "      <td>2939973</td>\n",
       "      <td>NZ_CP008816.1</td>\n",
       "      <td>NZ_CP008816.1 Enterococcus faecalis ATCC 29212...</td>\n",
       "      <td>/home/ubuntu/Disks/HDD1000/NCBI/20190704/refseq/</td>\n",
       "      <td>bacteria/GCF_000742975.1/GCF_000742975.1_ASM74...</td>\n",
       "      <td>2</td>\n",
       "      <td>0</td>\n",
       "      <td>1239</td>\n",
       "      <td>91061</td>\n",
       "      <td>186826</td>\n",
       "      <td>81852</td>\n",
       "      <td>1350</td>\n",
       "      <td>1351</td>\n",
       "      <td>Bacteria</td>\n",
       "      <td>0</td>\n",
       "      <td>Firmicutes</td>\n",
       "      <td>Bacilli</td>\n",
       "      <td>Lactobacillales</td>\n",
       "      <td>Enterococcaceae</td>\n",
       "      <td>Enterococcus</td>\n",
       "      <td>Enterococcus faecalis</td>\n",
       "    </tr>\n",
       "    <tr>\n",
       "      <th>22108</th>\n",
       "      <td>1351</td>\n",
       "      <td>Enterococcus faecalis</td>\n",
       "      <td>species</td>\n",
       "      <td>complete genome</td>\n",
       "      <td>2893216</td>\n",
       "      <td>NZ_AP018538.1</td>\n",
       "      <td>NZ_AP018538.1 Enterococcus faecalis KUB3006 DN...</td>\n",
       "      <td>/home/ubuntu/Disks/HDD1000/NCBI/20190704/refseq/</td>\n",
       "      <td>bacteria/GCF_003966385.1/GCF_003966385.1_ASM39...</td>\n",
       "      <td>2</td>\n",
       "      <td>0</td>\n",
       "      <td>1239</td>\n",
       "      <td>91061</td>\n",
       "      <td>186826</td>\n",
       "      <td>81852</td>\n",
       "      <td>1350</td>\n",
       "      <td>1351</td>\n",
       "      <td>Bacteria</td>\n",
       "      <td>0</td>\n",
       "      <td>Firmicutes</td>\n",
       "      <td>Bacilli</td>\n",
       "      <td>Lactobacillales</td>\n",
       "      <td>Enterococcaceae</td>\n",
       "      <td>Enterococcus</td>\n",
       "      <td>Enterococcus faecalis</td>\n",
       "    </tr>\n",
       "    <tr>\n",
       "      <th>12034</th>\n",
       "      <td>562</td>\n",
       "      <td>Escherichia coli</td>\n",
       "      <td>species</td>\n",
       "      <td>complete genome</td>\n",
       "      <td>4740150</td>\n",
       "      <td>NZ_CP010242.1</td>\n",
       "      <td>NZ_CP010242.1 Escherichia coli strain S56, com...</td>\n",
       "      <td>/home/ubuntu/Disks/HDD1000/NCBI/20190704/refseq/</td>\n",
       "      <td>bacteria/GCF_001901445.1/GCF_001901445.1_ASM19...</td>\n",
       "      <td>2</td>\n",
       "      <td>0</td>\n",
       "      <td>1224</td>\n",
       "      <td>1236</td>\n",
       "      <td>91347</td>\n",
       "      <td>543</td>\n",
       "      <td>561</td>\n",
       "      <td>562</td>\n",
       "      <td>Bacteria</td>\n",
       "      <td>0</td>\n",
       "      <td>Proteobacteria</td>\n",
       "      <td>Gammaproteobacteria</td>\n",
       "      <td>Enterobacterales</td>\n",
       "      <td>Enterobacteriaceae</td>\n",
       "      <td>Escherichia</td>\n",
       "      <td>Escherichia coli</td>\n",
       "    </tr>\n",
       "    <tr>\n",
       "      <th>11981</th>\n",
       "      <td>562</td>\n",
       "      <td>Escherichia coli</td>\n",
       "      <td>species</td>\n",
       "      <td>complete genome</td>\n",
       "      <td>4940434</td>\n",
       "      <td>NZ_CP010183.1</td>\n",
       "      <td>NZ_CP010183.1 Escherichia coli strain M3, comp...</td>\n",
       "      <td>/home/ubuntu/Disks/HDD1000/NCBI/20190704/refseq/</td>\n",
       "      <td>bacteria/GCF_001901045.1/GCF_001901045.1_ASM19...</td>\n",
       "      <td>2</td>\n",
       "      <td>0</td>\n",
       "      <td>1224</td>\n",
       "      <td>1236</td>\n",
       "      <td>91347</td>\n",
       "      <td>543</td>\n",
       "      <td>561</td>\n",
       "      <td>562</td>\n",
       "      <td>Bacteria</td>\n",
       "      <td>0</td>\n",
       "      <td>Proteobacteria</td>\n",
       "      <td>Gammaproteobacteria</td>\n",
       "      <td>Enterobacterales</td>\n",
       "      <td>Enterobacteriaceae</td>\n",
       "      <td>Escherichia</td>\n",
       "      <td>Escherichia coli</td>\n",
       "    </tr>\n",
       "    <tr>\n",
       "      <th>6222</th>\n",
       "      <td>1248903</td>\n",
       "      <td>Escherichia coli O145:H28 str. RM12761</td>\n",
       "      <td>no rank</td>\n",
       "      <td>complete genome</td>\n",
       "      <td>5402281</td>\n",
       "      <td>NZ_CP007133.1</td>\n",
       "      <td>NZ_CP007133.1 Escherichia coli O145:H28 str. R...</td>\n",
       "      <td>/home/ubuntu/Disks/HDD1000/NCBI/20190704/refseq/</td>\n",
       "      <td>bacteria/GCF_000662395.1/GCF_000662395.1_ASM66...</td>\n",
       "      <td>2</td>\n",
       "      <td>0</td>\n",
       "      <td>1224</td>\n",
       "      <td>1236</td>\n",
       "      <td>91347</td>\n",
       "      <td>543</td>\n",
       "      <td>561</td>\n",
       "      <td>562</td>\n",
       "      <td>Bacteria</td>\n",
       "      <td>0</td>\n",
       "      <td>Proteobacteria</td>\n",
       "      <td>Gammaproteobacteria</td>\n",
       "      <td>Enterobacterales</td>\n",
       "      <td>Enterobacteriaceae</td>\n",
       "      <td>Escherichia</td>\n",
       "      <td>Escherichia coli</td>\n",
       "    </tr>\n",
       "    <tr>\n",
       "      <th>3002</th>\n",
       "      <td>1006543</td>\n",
       "      <td>Staphylococcus aureus subsp. aureus T0131</td>\n",
       "      <td>no rank</td>\n",
       "      <td>complete genome</td>\n",
       "      <td>2913900</td>\n",
       "      <td>NC_017347.1</td>\n",
       "      <td>NC_017347.1 Staphylococcus aureus subsp. aureu...</td>\n",
       "      <td>/home/ubuntu/Disks/HDD1000/NCBI/20190704/refseq/</td>\n",
       "      <td>bacteria/GCF_000204665.1/GCF_000204665.1_ASM20...</td>\n",
       "      <td>2</td>\n",
       "      <td>0</td>\n",
       "      <td>1239</td>\n",
       "      <td>91061</td>\n",
       "      <td>1385</td>\n",
       "      <td>90964</td>\n",
       "      <td>1279</td>\n",
       "      <td>1280</td>\n",
       "      <td>Bacteria</td>\n",
       "      <td>0</td>\n",
       "      <td>Firmicutes</td>\n",
       "      <td>Bacilli</td>\n",
       "      <td>Bacillales</td>\n",
       "      <td>Staphylococcaceae</td>\n",
       "      <td>Staphylococcus</td>\n",
       "      <td>Staphylococcus aureus</td>\n",
       "    </tr>\n",
       "    <tr>\n",
       "      <th>13063</th>\n",
       "      <td>1280</td>\n",
       "      <td>Staphylococcus aureus</td>\n",
       "      <td>species</td>\n",
       "      <td>complete genome</td>\n",
       "      <td>2919720</td>\n",
       "      <td>NZ_CP014409.1</td>\n",
       "      <td>NZ_CP014409.1 Staphylococcus aureus strain USA...</td>\n",
       "      <td>/home/ubuntu/Disks/HDD1000/NCBI/20190704/refseq/</td>\n",
       "      <td>bacteria/GCF_002000645.1/GCF_002000645.1_ASM20...</td>\n",
       "      <td>2</td>\n",
       "      <td>0</td>\n",
       "      <td>1239</td>\n",
       "      <td>91061</td>\n",
       "      <td>1385</td>\n",
       "      <td>90964</td>\n",
       "      <td>1279</td>\n",
       "      <td>1280</td>\n",
       "      <td>Bacteria</td>\n",
       "      <td>0</td>\n",
       "      <td>Firmicutes</td>\n",
       "      <td>Bacilli</td>\n",
       "      <td>Bacillales</td>\n",
       "      <td>Staphylococcaceae</td>\n",
       "      <td>Staphylococcus</td>\n",
       "      <td>Staphylococcus aureus</td>\n",
       "    </tr>\n",
       "    <tr>\n",
       "      <th>9541</th>\n",
       "      <td>1280</td>\n",
       "      <td>Staphylococcus aureus</td>\n",
       "      <td>species</td>\n",
       "      <td>complete genome</td>\n",
       "      <td>2815416</td>\n",
       "      <td>NZ_CP010998.1</td>\n",
       "      <td>NZ_CP010998.1 Staphylococcus aureus strain FOR...</td>\n",
       "      <td>/home/ubuntu/Disks/HDD1000/NCBI/20190704/refseq/</td>\n",
       "      <td>bacteria/GCF_001580495.1/GCF_001580495.1_ASM15...</td>\n",
       "      <td>2</td>\n",
       "      <td>0</td>\n",
       "      <td>1239</td>\n",
       "      <td>91061</td>\n",
       "      <td>1385</td>\n",
       "      <td>90964</td>\n",
       "      <td>1279</td>\n",
       "      <td>1280</td>\n",
       "      <td>Bacteria</td>\n",
       "      <td>0</td>\n",
       "      <td>Firmicutes</td>\n",
       "      <td>Bacilli</td>\n",
       "      <td>Bacillales</td>\n",
       "      <td>Staphylococcaceae</td>\n",
       "      <td>Staphylococcus</td>\n",
       "      <td>Staphylococcus aureus</td>\n",
       "    </tr>\n",
       "    <tr>\n",
       "      <th>14416</th>\n",
       "      <td>573</td>\n",
       "      <td>Klebsiella pneumoniae</td>\n",
       "      <td>species</td>\n",
       "      <td>complete genome</td>\n",
       "      <td>5382888</td>\n",
       "      <td>NZ_CP021549.1</td>\n",
       "      <td>NZ_CP021549.1 Klebsiella pneumoniae strain AR_...</td>\n",
       "      <td>/home/ubuntu/Disks/HDD1000/NCBI/20190704/refseq/</td>\n",
       "      <td>bacteria/GCF_002180155.1/GCF_002180155.1_ASM21...</td>\n",
       "      <td>2</td>\n",
       "      <td>0</td>\n",
       "      <td>1224</td>\n",
       "      <td>1236</td>\n",
       "      <td>91347</td>\n",
       "      <td>543</td>\n",
       "      <td>570</td>\n",
       "      <td>573</td>\n",
       "      <td>Bacteria</td>\n",
       "      <td>0</td>\n",
       "      <td>Proteobacteria</td>\n",
       "      <td>Gammaproteobacteria</td>\n",
       "      <td>Enterobacterales</td>\n",
       "      <td>Enterobacteriaceae</td>\n",
       "      <td>Klebsiella</td>\n",
       "      <td>Klebsiella pneumoniae</td>\n",
       "    </tr>\n",
       "    <tr>\n",
       "      <th>7065</th>\n",
       "      <td>1392499</td>\n",
       "      <td>Klebsiella pneumoniae subsp. pneumoniae 1158</td>\n",
       "      <td>no rank</td>\n",
       "      <td>complete genome</td>\n",
       "      <td>5341039</td>\n",
       "      <td>NZ_CP006722.1</td>\n",
       "      <td>NZ_CP006722.1 Klebsiella pneumoniae subsp. pne...</td>\n",
       "      <td>/home/ubuntu/Disks/HDD1000/NCBI/20190704/refseq/</td>\n",
       "      <td>bacteria/GCF_000814805.1/GCF_000814805.1_ASM81...</td>\n",
       "      <td>2</td>\n",
       "      <td>0</td>\n",
       "      <td>1224</td>\n",
       "      <td>1236</td>\n",
       "      <td>91347</td>\n",
       "      <td>543</td>\n",
       "      <td>570</td>\n",
       "      <td>573</td>\n",
       "      <td>Bacteria</td>\n",
       "      <td>0</td>\n",
       "      <td>Proteobacteria</td>\n",
       "      <td>Gammaproteobacteria</td>\n",
       "      <td>Enterobacterales</td>\n",
       "      <td>Enterobacteriaceae</td>\n",
       "      <td>Klebsiella</td>\n",
       "      <td>Klebsiella pneumoniae</td>\n",
       "    </tr>\n",
       "    <tr>\n",
       "      <th>12206</th>\n",
       "      <td>573</td>\n",
       "      <td>Klebsiella pneumoniae</td>\n",
       "      <td>species</td>\n",
       "      <td>complete genome</td>\n",
       "      <td>5478335</td>\n",
       "      <td>NZ_CP018735.1</td>\n",
       "      <td>NZ_CP018735.1 Klebsiella pneumoniae strain Kp_...</td>\n",
       "      <td>/home/ubuntu/Disks/HDD1000/NCBI/20190704/refseq/</td>\n",
       "      <td>bacteria/GCF_001913175.1/GCF_001913175.1_ASM19...</td>\n",
       "      <td>2</td>\n",
       "      <td>0</td>\n",
       "      <td>1224</td>\n",
       "      <td>1236</td>\n",
       "      <td>91347</td>\n",
       "      <td>543</td>\n",
       "      <td>570</td>\n",
       "      <td>573</td>\n",
       "      <td>Bacteria</td>\n",
       "      <td>0</td>\n",
       "      <td>Proteobacteria</td>\n",
       "      <td>Gammaproteobacteria</td>\n",
       "      <td>Enterobacterales</td>\n",
       "      <td>Enterobacteriaceae</td>\n",
       "      <td>Klebsiella</td>\n",
       "      <td>Klebsiella pneumoniae</td>\n",
       "    </tr>\n",
       "    <tr>\n",
       "      <th>1820</th>\n",
       "      <td>272559</td>\n",
       "      <td>Bacteroides fragilis NCTC 9343</td>\n",
       "      <td>no rank</td>\n",
       "      <td>complete genome</td>\n",
       "      <td>5205140</td>\n",
       "      <td>NC_003228.3</td>\n",
       "      <td>NC_003228.3 Bacteroides fragilis NCTC 9343, co...</td>\n",
       "      <td>/home/ubuntu/Disks/HDD1000/NCBI/20190704/refseq/</td>\n",
       "      <td>bacteria/GCF_000025985.1/GCF_000025985.1_ASM25...</td>\n",
       "      <td>2</td>\n",
       "      <td>0</td>\n",
       "      <td>976</td>\n",
       "      <td>200643</td>\n",
       "      <td>171549</td>\n",
       "      <td>815</td>\n",
       "      <td>816</td>\n",
       "      <td>817</td>\n",
       "      <td>Bacteria</td>\n",
       "      <td>0</td>\n",
       "      <td>Bacteroidetes</td>\n",
       "      <td>Bacteroidia</td>\n",
       "      <td>Bacteroidales</td>\n",
       "      <td>Bacteroidaceae</td>\n",
       "      <td>Bacteroides</td>\n",
       "      <td>Bacteroides fragilis</td>\n",
       "    </tr>\n",
       "    <tr>\n",
       "      <th>5523</th>\n",
       "      <td>1354030</td>\n",
       "      <td>Enterobacter cloacae P101</td>\n",
       "      <td>no rank</td>\n",
       "      <td>complete genome</td>\n",
       "      <td>5369929</td>\n",
       "      <td>NZ_CP006580.1</td>\n",
       "      <td>NZ_CP006580.1 Enterobacter cloacae P101, compl...</td>\n",
       "      <td>/home/ubuntu/Disks/HDD1000/NCBI/20190704/refseq/</td>\n",
       "      <td>bacteria/GCF_000512375.1/GCF_000512375.1_ASM51...</td>\n",
       "      <td>2</td>\n",
       "      <td>0</td>\n",
       "      <td>1224</td>\n",
       "      <td>1236</td>\n",
       "      <td>91347</td>\n",
       "      <td>543</td>\n",
       "      <td>547</td>\n",
       "      <td>550</td>\n",
       "      <td>Bacteria</td>\n",
       "      <td>0</td>\n",
       "      <td>Proteobacteria</td>\n",
       "      <td>Gammaproteobacteria</td>\n",
       "      <td>Enterobacterales</td>\n",
       "      <td>Enterobacteriaceae</td>\n",
       "      <td>Enterobacter</td>\n",
       "      <td>Enterobacter cloacae</td>\n",
       "    </tr>\n",
       "    <tr>\n",
       "      <th>8518</th>\n",
       "      <td>216816</td>\n",
       "      <td>Bifidobacterium longum</td>\n",
       "      <td>species</td>\n",
       "      <td>complete genome</td>\n",
       "      <td>2453124</td>\n",
       "      <td>NZ_CP010453.1</td>\n",
       "      <td>NZ_CP010453.1 Bifidobacterium longum strain BG...</td>\n",
       "      <td>/home/ubuntu/Disks/HDD1000/NCBI/20190704/refseq/</td>\n",
       "      <td>bacteria/GCF_001293145.1/GCF_001293145.1_ASM12...</td>\n",
       "      <td>2</td>\n",
       "      <td>0</td>\n",
       "      <td>201174</td>\n",
       "      <td>1760</td>\n",
       "      <td>85004</td>\n",
       "      <td>31953</td>\n",
       "      <td>1678</td>\n",
       "      <td>216816</td>\n",
       "      <td>Bacteria</td>\n",
       "      <td>0</td>\n",
       "      <td>Actinobacteria</td>\n",
       "      <td>Actinobacteria</td>\n",
       "      <td>Bifidobacteriales</td>\n",
       "      <td>Bifidobacteriaceae</td>\n",
       "      <td>Bifidobacterium</td>\n",
       "      <td>Bifidobacterium longum</td>\n",
       "    </tr>\n",
       "    <tr>\n",
       "      <th>7520</th>\n",
       "      <td>1590</td>\n",
       "      <td>Lactobacillus plantarum</td>\n",
       "      <td>species</td>\n",
       "      <td>complete genome</td>\n",
       "      <td>3284260</td>\n",
       "      <td>NZ_CP010528.1</td>\n",
       "      <td>NZ_CP010528.1 Lactobacillus plantarum strain B...</td>\n",
       "      <td>/home/ubuntu/Disks/HDD1000/NCBI/20190704/refseq/</td>\n",
       "      <td>bacteria/GCF_000931425.2/GCF_000931425.2_ASM93...</td>\n",
       "      <td>2</td>\n",
       "      <td>0</td>\n",
       "      <td>1239</td>\n",
       "      <td>91061</td>\n",
       "      <td>186826</td>\n",
       "      <td>33958</td>\n",
       "      <td>1578</td>\n",
       "      <td>1590</td>\n",
       "      <td>Bacteria</td>\n",
       "      <td>0</td>\n",
       "      <td>Firmicutes</td>\n",
       "      <td>Bacilli</td>\n",
       "      <td>Lactobacillales</td>\n",
       "      <td>Lactobacillaceae</td>\n",
       "      <td>Lactobacillus</td>\n",
       "      <td>Lactobacillus plantarum</td>\n",
       "    </tr>\n",
       "    <tr>\n",
       "      <th>9524</th>\n",
       "      <td>1502</td>\n",
       "      <td>Clostridium perfringens</td>\n",
       "      <td>species</td>\n",
       "      <td>complete genome</td>\n",
       "      <td>3530414</td>\n",
       "      <td>NZ_CP010994.1</td>\n",
       "      <td>NZ_CP010994.1 Clostridium perfringens strain J...</td>\n",
       "      <td>/home/ubuntu/Disks/HDD1000/NCBI/20190704/refseq/</td>\n",
       "      <td>bacteria/GCF_001579785.1/GCF_001579785.1_ASM15...</td>\n",
       "      <td>2</td>\n",
       "      <td>0</td>\n",
       "      <td>1239</td>\n",
       "      <td>186801</td>\n",
       "      <td>186802</td>\n",
       "      <td>31979</td>\n",
       "      <td>1485</td>\n",
       "      <td>1502</td>\n",
       "      <td>Bacteria</td>\n",
       "      <td>0</td>\n",
       "      <td>Firmicutes</td>\n",
       "      <td>Clostridia</td>\n",
       "      <td>Clostridiales</td>\n",
       "      <td>Clostridiaceae</td>\n",
       "      <td>Clostridium</td>\n",
       "      <td>Clostridium perfringens</td>\n",
       "    </tr>\n",
       "    <tr>\n",
       "      <th>8508</th>\n",
       "      <td>584</td>\n",
       "      <td>Proteus mirabilis</td>\n",
       "      <td>species</td>\n",
       "      <td>complete genome</td>\n",
       "      <td>3793000</td>\n",
       "      <td>NZ_CP012674.1</td>\n",
       "      <td>NZ_CP012674.1 Proteus mirabilis strain CYPM1, ...</td>\n",
       "      <td>/home/ubuntu/Disks/HDD1000/NCBI/20190704/refseq/</td>\n",
       "      <td>bacteria/GCF_001281545.1/GCF_001281545.1_ASM12...</td>\n",
       "      <td>2</td>\n",
       "      <td>0</td>\n",
       "      <td>1224</td>\n",
       "      <td>1236</td>\n",
       "      <td>91347</td>\n",
       "      <td>1903414</td>\n",
       "      <td>583</td>\n",
       "      <td>584</td>\n",
       "      <td>Bacteria</td>\n",
       "      <td>0</td>\n",
       "      <td>Proteobacteria</td>\n",
       "      <td>Gammaproteobacteria</td>\n",
       "      <td>Enterobacterales</td>\n",
       "      <td>Morganellaceae</td>\n",
       "      <td>Proteus</td>\n",
       "      <td>Proteus mirabilis</td>\n",
       "    </tr>\n",
       "    <tr>\n",
       "      <th>5134</th>\n",
       "      <td>1340851</td>\n",
       "      <td>Pseudomonas aeruginosa RP73</td>\n",
       "      <td>no rank</td>\n",
       "      <td>complete genome</td>\n",
       "      <td>6342034</td>\n",
       "      <td>NC_021577.1</td>\n",
       "      <td>NC_021577.1 Pseudomonas aeruginosa RP73, compl...</td>\n",
       "      <td>/home/ubuntu/Disks/HDD1000/NCBI/20190704/refseq/</td>\n",
       "      <td>bacteria/GCF_000414035.1/GCF_000414035.1_ASM41...</td>\n",
       "      <td>2</td>\n",
       "      <td>0</td>\n",
       "      <td>1224</td>\n",
       "      <td>1236</td>\n",
       "      <td>72274</td>\n",
       "      <td>135621</td>\n",
       "      <td>286</td>\n",
       "      <td>287</td>\n",
       "      <td>Bacteria</td>\n",
       "      <td>0</td>\n",
       "      <td>Proteobacteria</td>\n",
       "      <td>Gammaproteobacteria</td>\n",
       "      <td>Pseudomonadales</td>\n",
       "      <td>Pseudomonadaceae</td>\n",
       "      <td>Pseudomonas</td>\n",
       "      <td>Pseudomonas aeruginosa</td>\n",
       "    </tr>\n",
       "    <tr>\n",
       "      <th>978</th>\n",
       "      <td>435591</td>\n",
       "      <td>Parabacteroides distasonis ATCC 8503</td>\n",
       "      <td>no rank</td>\n",
       "      <td>complete genome</td>\n",
       "      <td>4811379</td>\n",
       "      <td>NC_009615.1</td>\n",
       "      <td>NC_009615.1 Parabacteroides distasonis ATCC 85...</td>\n",
       "      <td>/home/ubuntu/Disks/HDD1000/NCBI/20190704/refseq/</td>\n",
       "      <td>bacteria/GCF_000012845.1/GCF_000012845.1_ASM12...</td>\n",
       "      <td>2</td>\n",
       "      <td>0</td>\n",
       "      <td>976</td>\n",
       "      <td>200643</td>\n",
       "      <td>171549</td>\n",
       "      <td>2005525</td>\n",
       "      <td>375288</td>\n",
       "      <td>823</td>\n",
       "      <td>Bacteria</td>\n",
       "      <td>0</td>\n",
       "      <td>Bacteroidetes</td>\n",
       "      <td>Bacteroidia</td>\n",
       "      <td>Bacteroidales</td>\n",
       "      <td>Tannerellaceae</td>\n",
       "      <td>Parabacteroides</td>\n",
       "      <td>Parabacteroides distasonis</td>\n",
       "    </tr>\n",
       "  </tbody>\n",
       "</table>\n",
       "</div>"
      ],
      "text/plain": [
       "       taxon_id                                    taxon_name     rank             type   length      record_id                                 record_description                                       path_folder                                          path_file id_superkingdom id_kingdom id_phylum id_class id_order id_family id_genus id_species name_superkingdom name_kingdom     name_phylum           name_class         name_order         name_family       name_genus  \\\n",
       "4100    1261557       Enterococcus faecalis str. Symbioflor 1  no rank  complete genome  2810675    NC_019770.1  NC_019770.1 Enterococcus faecalis str. Symbiof...  /home/ubuntu/Disks/HDD1000/NCBI/20190704/refseq/  bacteria/GCF_000317915.1/GCF_000317915.1_ASM31...               2          0      1239    91061   186826     81852     1350       1351          Bacteria            0      Firmicutes              Bacilli    Lactobacillales     Enterococcaceae     Enterococcus   \n",
       "6635    1201292              Enterococcus faecalis ATCC 29212  no rank  complete genome  2939973  NZ_CP008816.1  NZ_CP008816.1 Enterococcus faecalis ATCC 29212...  /home/ubuntu/Disks/HDD1000/NCBI/20190704/refseq/  bacteria/GCF_000742975.1/GCF_000742975.1_ASM74...               2          0      1239    91061   186826     81852     1350       1351          Bacteria            0      Firmicutes              Bacilli    Lactobacillales     Enterococcaceae     Enterococcus   \n",
       "22108      1351                         Enterococcus faecalis  species  complete genome  2893216  NZ_AP018538.1  NZ_AP018538.1 Enterococcus faecalis KUB3006 DN...  /home/ubuntu/Disks/HDD1000/NCBI/20190704/refseq/  bacteria/GCF_003966385.1/GCF_003966385.1_ASM39...               2          0      1239    91061   186826     81852     1350       1351          Bacteria            0      Firmicutes              Bacilli    Lactobacillales     Enterococcaceae     Enterococcus   \n",
       "12034       562                              Escherichia coli  species  complete genome  4740150  NZ_CP010242.1  NZ_CP010242.1 Escherichia coli strain S56, com...  /home/ubuntu/Disks/HDD1000/NCBI/20190704/refseq/  bacteria/GCF_001901445.1/GCF_001901445.1_ASM19...               2          0      1224     1236    91347       543      561        562          Bacteria            0  Proteobacteria  Gammaproteobacteria   Enterobacterales  Enterobacteriaceae      Escherichia   \n",
       "11981       562                              Escherichia coli  species  complete genome  4940434  NZ_CP010183.1  NZ_CP010183.1 Escherichia coli strain M3, comp...  /home/ubuntu/Disks/HDD1000/NCBI/20190704/refseq/  bacteria/GCF_001901045.1/GCF_001901045.1_ASM19...               2          0      1224     1236    91347       543      561        562          Bacteria            0  Proteobacteria  Gammaproteobacteria   Enterobacterales  Enterobacteriaceae      Escherichia   \n",
       "6222    1248903        Escherichia coli O145:H28 str. RM12761  no rank  complete genome  5402281  NZ_CP007133.1  NZ_CP007133.1 Escherichia coli O145:H28 str. R...  /home/ubuntu/Disks/HDD1000/NCBI/20190704/refseq/  bacteria/GCF_000662395.1/GCF_000662395.1_ASM66...               2          0      1224     1236    91347       543      561        562          Bacteria            0  Proteobacteria  Gammaproteobacteria   Enterobacterales  Enterobacteriaceae      Escherichia   \n",
       "3002    1006543     Staphylococcus aureus subsp. aureus T0131  no rank  complete genome  2913900    NC_017347.1  NC_017347.1 Staphylococcus aureus subsp. aureu...  /home/ubuntu/Disks/HDD1000/NCBI/20190704/refseq/  bacteria/GCF_000204665.1/GCF_000204665.1_ASM20...               2          0      1239    91061     1385     90964     1279       1280          Bacteria            0      Firmicutes              Bacilli         Bacillales   Staphylococcaceae   Staphylococcus   \n",
       "13063      1280                         Staphylococcus aureus  species  complete genome  2919720  NZ_CP014409.1  NZ_CP014409.1 Staphylococcus aureus strain USA...  /home/ubuntu/Disks/HDD1000/NCBI/20190704/refseq/  bacteria/GCF_002000645.1/GCF_002000645.1_ASM20...               2          0      1239    91061     1385     90964     1279       1280          Bacteria            0      Firmicutes              Bacilli         Bacillales   Staphylococcaceae   Staphylococcus   \n",
       "9541       1280                         Staphylococcus aureus  species  complete genome  2815416  NZ_CP010998.1  NZ_CP010998.1 Staphylococcus aureus strain FOR...  /home/ubuntu/Disks/HDD1000/NCBI/20190704/refseq/  bacteria/GCF_001580495.1/GCF_001580495.1_ASM15...               2          0      1239    91061     1385     90964     1279       1280          Bacteria            0      Firmicutes              Bacilli         Bacillales   Staphylococcaceae   Staphylococcus   \n",
       "14416       573                         Klebsiella pneumoniae  species  complete genome  5382888  NZ_CP021549.1  NZ_CP021549.1 Klebsiella pneumoniae strain AR_...  /home/ubuntu/Disks/HDD1000/NCBI/20190704/refseq/  bacteria/GCF_002180155.1/GCF_002180155.1_ASM21...               2          0      1224     1236    91347       543      570        573          Bacteria            0  Proteobacteria  Gammaproteobacteria   Enterobacterales  Enterobacteriaceae       Klebsiella   \n",
       "7065    1392499  Klebsiella pneumoniae subsp. pneumoniae 1158  no rank  complete genome  5341039  NZ_CP006722.1  NZ_CP006722.1 Klebsiella pneumoniae subsp. pne...  /home/ubuntu/Disks/HDD1000/NCBI/20190704/refseq/  bacteria/GCF_000814805.1/GCF_000814805.1_ASM81...               2          0      1224     1236    91347       543      570        573          Bacteria            0  Proteobacteria  Gammaproteobacteria   Enterobacterales  Enterobacteriaceae       Klebsiella   \n",
       "12206       573                         Klebsiella pneumoniae  species  complete genome  5478335  NZ_CP018735.1  NZ_CP018735.1 Klebsiella pneumoniae strain Kp_...  /home/ubuntu/Disks/HDD1000/NCBI/20190704/refseq/  bacteria/GCF_001913175.1/GCF_001913175.1_ASM19...               2          0      1224     1236    91347       543      570        573          Bacteria            0  Proteobacteria  Gammaproteobacteria   Enterobacterales  Enterobacteriaceae       Klebsiella   \n",
       "1820     272559                Bacteroides fragilis NCTC 9343  no rank  complete genome  5205140    NC_003228.3  NC_003228.3 Bacteroides fragilis NCTC 9343, co...  /home/ubuntu/Disks/HDD1000/NCBI/20190704/refseq/  bacteria/GCF_000025985.1/GCF_000025985.1_ASM25...               2          0       976   200643   171549       815      816        817          Bacteria            0   Bacteroidetes          Bacteroidia      Bacteroidales      Bacteroidaceae      Bacteroides   \n",
       "5523    1354030                     Enterobacter cloacae P101  no rank  complete genome  5369929  NZ_CP006580.1  NZ_CP006580.1 Enterobacter cloacae P101, compl...  /home/ubuntu/Disks/HDD1000/NCBI/20190704/refseq/  bacteria/GCF_000512375.1/GCF_000512375.1_ASM51...               2          0      1224     1236    91347       543      547        550          Bacteria            0  Proteobacteria  Gammaproteobacteria   Enterobacterales  Enterobacteriaceae     Enterobacter   \n",
       "8518     216816                        Bifidobacterium longum  species  complete genome  2453124  NZ_CP010453.1  NZ_CP010453.1 Bifidobacterium longum strain BG...  /home/ubuntu/Disks/HDD1000/NCBI/20190704/refseq/  bacteria/GCF_001293145.1/GCF_001293145.1_ASM12...               2          0    201174     1760    85004     31953     1678     216816          Bacteria            0  Actinobacteria       Actinobacteria  Bifidobacteriales  Bifidobacteriaceae  Bifidobacterium   \n",
       "7520       1590                       Lactobacillus plantarum  species  complete genome  3284260  NZ_CP010528.1  NZ_CP010528.1 Lactobacillus plantarum strain B...  /home/ubuntu/Disks/HDD1000/NCBI/20190704/refseq/  bacteria/GCF_000931425.2/GCF_000931425.2_ASM93...               2          0      1239    91061   186826     33958     1578       1590          Bacteria            0      Firmicutes              Bacilli    Lactobacillales    Lactobacillaceae    Lactobacillus   \n",
       "9524       1502                       Clostridium perfringens  species  complete genome  3530414  NZ_CP010994.1  NZ_CP010994.1 Clostridium perfringens strain J...  /home/ubuntu/Disks/HDD1000/NCBI/20190704/refseq/  bacteria/GCF_001579785.1/GCF_001579785.1_ASM15...               2          0      1239   186801   186802     31979     1485       1502          Bacteria            0      Firmicutes           Clostridia      Clostridiales      Clostridiaceae      Clostridium   \n",
       "8508        584                             Proteus mirabilis  species  complete genome  3793000  NZ_CP012674.1  NZ_CP012674.1 Proteus mirabilis strain CYPM1, ...  /home/ubuntu/Disks/HDD1000/NCBI/20190704/refseq/  bacteria/GCF_001281545.1/GCF_001281545.1_ASM12...               2          0      1224     1236    91347   1903414      583        584          Bacteria            0  Proteobacteria  Gammaproteobacteria   Enterobacterales      Morganellaceae          Proteus   \n",
       "5134    1340851                   Pseudomonas aeruginosa RP73  no rank  complete genome  6342034    NC_021577.1  NC_021577.1 Pseudomonas aeruginosa RP73, compl...  /home/ubuntu/Disks/HDD1000/NCBI/20190704/refseq/  bacteria/GCF_000414035.1/GCF_000414035.1_ASM41...               2          0      1224     1236    72274    135621      286        287          Bacteria            0  Proteobacteria  Gammaproteobacteria    Pseudomonadales    Pseudomonadaceae      Pseudomonas   \n",
       "978      435591          Parabacteroides distasonis ATCC 8503  no rank  complete genome  4811379    NC_009615.1  NC_009615.1 Parabacteroides distasonis ATCC 85...  /home/ubuntu/Disks/HDD1000/NCBI/20190704/refseq/  bacteria/GCF_000012845.1/GCF_000012845.1_ASM12...               2          0       976   200643   171549   2005525   375288        823          Bacteria            0   Bacteroidetes          Bacteroidia      Bacteroidales      Tannerellaceae  Parabacteroides   \n",
       "\n",
       "                     name_species  \n",
       "4100        Enterococcus faecalis  \n",
       "6635        Enterococcus faecalis  \n",
       "22108       Enterococcus faecalis  \n",
       "12034            Escherichia coli  \n",
       "11981            Escherichia coli  \n",
       "6222             Escherichia coli  \n",
       "3002        Staphylococcus aureus  \n",
       "13063       Staphylococcus aureus  \n",
       "9541        Staphylococcus aureus  \n",
       "14416       Klebsiella pneumoniae  \n",
       "7065        Klebsiella pneumoniae  \n",
       "12206       Klebsiella pneumoniae  \n",
       "1820         Bacteroides fragilis  \n",
       "5523         Enterobacter cloacae  \n",
       "8518       Bifidobacterium longum  \n",
       "7520      Lactobacillus plantarum  \n",
       "9524      Clostridium perfringens  \n",
       "8508            Proteus mirabilis  \n",
       "5134       Pseudomonas aeruginosa  \n",
       "978    Parabacteroides distasonis  "
      ]
     },
     "execution_count": 13,
     "metadata": {},
     "output_type": "execute_result"
    }
   ],
   "source": [
    "gut_ids_always = [1351, 562, 1280, 573 ]  # Take 2 strains each\n",
    "gut_ids_often = [817, 550, 216816, 1590]   # 1 strain each\n",
    "gut_ids_rare = [1502, 584, 287, 823]\n",
    "\n",
    "rows = []\n",
    "for gut_id in gut_ids_always:\n",
    "    print(ncbi.get_taxid_translator([gut_id]), filtered[filtered.id_species == gut_id].shape[0])\n",
    "    rows.append(filtered[filtered.id_species == gut_id].sample(3))\n",
    "for gut_id in gut_ids_often + gut_ids_rare:\n",
    "    print(ncbi.get_taxid_translator([gut_id]), filtered[filtered.id_species == gut_id].shape[0])\n",
    "    rows.append(filtered[filtered.id_species == gut_id].sample(1))\n",
    "\n",
    "selected_species = pd.concat(rows)\n",
    "selected_species"
   ]
  },
  {
   "cell_type": "raw",
   "metadata": {},
   "source": [
    "filtered.sample(2)  #[[\"taxon_id\", \"taxon_name\", \"rank\"]]"
   ]
  },
  {
   "cell_type": "raw",
   "metadata": {
    "scrolled": true
   },
   "source": [
    "selected_species = filtered.sample(nb_species)[\n",
    "    [\"taxon_id\", \"taxon_name\", \"type\", \"length\", \"record_id\", \"path_folder\", \"path_file\",\n",
    "     \"name_superkingdom\", \"record_description\", \"name_genus\"]]"
   ]
  },
  {
   "cell_type": "code",
   "execution_count": 14,
   "metadata": {
    "scrolled": true
   },
   "outputs": [],
   "source": [
    "selected_species[\"path\"] = selected_species.path_folder.str.cat(selected_species.path_file)\n",
    "selected_species.drop(columns=[\"path_folder\", \"path_file\"], inplace=True)\n",
    "# selected_species"
   ]
  },
  {
   "cell_type": "code",
   "execution_count": 15,
   "metadata": {
    "scrolled": true
   },
   "outputs": [
    {
     "data": {
      "application/vnd.jupyter.widget-view+json": {
       "model_id": "e59a2188518e48f8b208d19893b8450f",
       "version_major": 2,
       "version_minor": 0
      },
      "text/plain": [
       "HBox(children=(IntProgress(value=1, bar_style='info', max=1), HTML(value='')))"
      ]
     },
     "metadata": {},
     "output_type": "display_data"
    },
    {
     "name": "stdout",
     "output_type": "stream",
     "text": [
      "Synthetic read <0> from Enterococcus faecalis str. Symbioflor 1, len=9676, [2588160:2597836]\n",
      "Synthetic read <1> from Enterococcus faecalis ATCC 29212, len=9959, [445317:455276]\n",
      "Synthetic read <2> from Enterococcus faecalis, len=3232, [415174:418406]\n",
      "Synthetic read <3> from Escherichia coli, len=1093, [1893159:1894252]\n",
      "Synthetic read <4> from Escherichia coli, len=2099, [4032453:4034552]\n",
      "Synthetic read <5> from Escherichia coli O145:H28 str. RM12761, len=9719, [5378000:5387719]\n",
      "Synthetic read <6> from Staphylococcus aureus subsp. aureus T0131, len=7474, [1420251:1427725]\n",
      "Synthetic read <7> from Staphylococcus aureus, len=9130, [2821215:2830345]\n",
      "Synthetic read <8> from Staphylococcus aureus, len=7359, [763710:771069]\n",
      "Synthetic read <9> from Klebsiella pneumoniae, len=2631, [1733773:1736404]\n",
      "Synthetic read <10> from Klebsiella pneumoniae subsp. pneumoniae 1158, len=3132, [2084278:2087410]\n",
      "Synthetic read <11> from Klebsiella pneumoniae, len=9174, [3949877:3959051]\n",
      "Synthetic read <12> from Bacteroides fragilis NCTC 9343, len=4486, [1886181:1890667]\n",
      "Synthetic read <13> from Enterobacter cloacae P101, len=4466, [947931:952397]\n",
      "Synthetic read <14> from Bifidobacterium longum, len=3573, [508819:512392]\n",
      "Synthetic read <15> from Lactobacillus plantarum, len=9887, [120929:130816]\n",
      "Synthetic read <16> from Clostridium perfringens, len=4088, [3523186:3527274]\n",
      "Synthetic read <17> from Proteus mirabilis, len=4769, [622487:627256]\n",
      "Synthetic read <18> from Pseudomonas aeruginosa RP73, len=2761, [2393780:2396541]\n",
      "Synthetic read <19> from Parabacteroides distasonis ATCC 8503, len=1859, [4169834:4171693]\n",
      "\n"
     ]
    }
   ],
   "source": [
    "seeds = []\n",
    "for row in tqdm(selected_species.itertuples()):\n",
    "#     print(row.taxon_id)\n",
    "    #  record_id, taxon, what, s_kingdom, folder, file    row[\"type\"]\n",
    "    #  record_id, taxon, genome, what, s_kingdom, path_complete, description\n",
    "    sr = SyntRead(row.record_id, row.taxon_id, row.taxon_name, row.type, row.name_superkingdom, row.path, row.record_description)\n",
    "    sr.synthetize_read()\n",
    "    print(sr)\n",
    "    seeds.append(sr)"
   ]
  },
  {
   "cell_type": "code",
   "execution_count": 16,
   "metadata": {},
   "outputs": [
    {
     "data": {
      "application/vnd.jupyter.widget-view+json": {
       "model_id": "5505e6dabc5d48a88ef3294dbaf4a883",
       "version_major": 2,
       "version_minor": 0
      },
      "text/plain": [
       "HBox(children=(IntProgress(value=0, max=20), HTML(value='')))"
      ]
     },
     "metadata": {},
     "output_type": "display_data"
    },
    {
     "name": "stdout",
     "output_type": "stream",
     "text": [
      "\n"
     ]
    }
   ],
   "source": [
    "synt_reads = []\n",
    "for seed in tqdm(seeds):\n",
    "    synt_reads.extend([seed] + seed.deep_random_copy(int(nb_reads/len(seeds)) -1))"
   ]
  },
  {
   "cell_type": "code",
   "execution_count": 17,
   "metadata": {},
   "outputs": [
    {
     "name": "stdout",
     "output_type": "stream",
     "text": [
      "The file /home/ubuntu/Data/Segmentation/Test-Data/Synthetic_from_Genomes/2019-11-26_100000-SyntReads_20-BacGut.fastq already exists, continue ? \n"
     ]
    },
    {
     "data": {
      "application/vnd.jupyter.widget-view+json": {
       "model_id": "b4366714db7547d0a6bc5760543a4f56",
       "version_major": 2,
       "version_minor": 0
      },
      "text/plain": [
       "HBox(children=(IntProgress(value=0, max=100000), HTML(value='')))"
      ]
     },
     "metadata": {},
     "output_type": "display_data"
    },
    {
     "name": "stdout",
     "output_type": "stream",
     "text": [
      "\n",
      "output at:  /home/ubuntu/Data/Segmentation/Test-Data/Synthetic_from_Genomes/2019-11-26_100000-SyntReads_20-BacGut.fastq\n"
     ]
    }
   ],
   "source": [
    "path_out_syntreads = f\"/home/ubuntu/Data/Segmentation/Test-Data/Synthetic_from_Genomes/\" \\\n",
    "                     f\"2019-11-26_{nb_reads}-SyntReads_{len(seeds)}-BacGut.fastq\"\n",
    "SyntRead.to_fastq(synt_reads, path_out_syntreads)\n",
    "print(\"output at: \", path_out_syntreads)"
   ]
  },
  {
   "cell_type": "code",
   "execution_count": 18,
   "metadata": {},
   "outputs": [
    {
     "name": "stdout",
     "output_type": "stream",
     "text": [
      "The file /home/ubuntu/Data/Segmentation/Test-Data/Synthetic_from_Genomes/2019-11-26_100000-SyntReads_20-BacGut.pd already exists, continue ? \n"
     ]
    },
    {
     "data": {
      "application/vnd.jupyter.widget-view+json": {
       "model_id": "1049d7e5a40c40cfb53f2a750fc9c520",
       "version_major": 2,
       "version_minor": 0
      },
      "text/plain": [
       "HBox(children=(IntProgress(value=0, max=100000), HTML(value='')))"
      ]
     },
     "metadata": {},
     "output_type": "display_data"
    },
    {
     "name": "stdout",
     "output_type": "stream",
     "text": [
      "\n"
     ]
    }
   ],
   "source": [
    "path_out_ground_truth = f\"/home/ubuntu/Data/Segmentation/Test-Data/Synthetic_from_Genomes/\" \\\n",
    "                     f\"2019-11-26_{nb_reads}-SyntReads_{len(seeds)}-BacGut.pd\"\n",
    "df = SyntRead.save_ground_truth(synt_reads, path_out_ground_truth)"
   ]
  },
  {
   "cell_type": "code",
   "execution_count": 19,
   "metadata": {},
   "outputs": [
    {
     "data": {
      "text/plain": [
       "'29.3 MB'"
      ]
     },
     "execution_count": 19,
     "metadata": {},
     "output_type": "execute_result"
    }
   ],
   "source": [
    "f\"{df.memory_usage(deep=True).sum()/1000000:.1f} MB\""
   ]
  },
  {
   "cell_type": "code",
   "execution_count": 20,
   "metadata": {},
   "outputs": [
    {
     "data": {
      "text/html": [
       "<div>\n",
       "<style scoped>\n",
       "    .dataframe tbody tr th:only-of-type {\n",
       "        vertical-align: middle;\n",
       "    }\n",
       "\n",
       "    .dataframe tbody tr th {\n",
       "        vertical-align: top;\n",
       "    }\n",
       "\n",
       "    .dataframe thead th {\n",
       "        text-align: right;\n",
       "    }\n",
       "</style>\n",
       "<table border=\"1\" class=\"dataframe\">\n",
       "  <thead>\n",
       "    <tr style=\"text-align: right;\">\n",
       "      <th></th>\n",
       "      <th>taxon</th>\n",
       "      <th>genome</th>\n",
       "      <th>gen_chr_plas</th>\n",
       "      <th>read_len</th>\n",
       "      <th>start</th>\n",
       "      <th>stop</th>\n",
       "      <th>record_id</th>\n",
       "      <th>object_id</th>\n",
       "      <th>description</th>\n",
       "      <th>path</th>\n",
       "    </tr>\n",
       "  </thead>\n",
       "  <tbody>\n",
       "    <tr>\n",
       "      <th>0</th>\n",
       "      <td>1261557</td>\n",
       "      <td>Enterococcus faecalis str. Symbioflor 1</td>\n",
       "      <td>complete genome</td>\n",
       "      <td>9676</td>\n",
       "      <td>2588160</td>\n",
       "      <td>2597836</td>\n",
       "      <td>NC_019770.1</td>\n",
       "      <td>0</td>\n",
       "      <td>NC_019770.1 Enterococcus faecalis str. Symbiof...</td>\n",
       "      <td>/home/ubuntu/Disks/HDD1000/NCBI/20190704/refse...</td>\n",
       "    </tr>\n",
       "    <tr>\n",
       "      <th>1</th>\n",
       "      <td>1261557</td>\n",
       "      <td>Enterococcus faecalis str. Symbioflor 1</td>\n",
       "      <td>complete genome</td>\n",
       "      <td>6270</td>\n",
       "      <td>940429</td>\n",
       "      <td>946699</td>\n",
       "      <td>NC_019770.1</td>\n",
       "      <td>20</td>\n",
       "      <td>NC_019770.1 Enterococcus faecalis str. Symbiof...</td>\n",
       "      <td>/home/ubuntu/Disks/HDD1000/NCBI/20190704/refse...</td>\n",
       "    </tr>\n",
       "    <tr>\n",
       "      <th>2</th>\n",
       "      <td>1261557</td>\n",
       "      <td>Enterococcus faecalis str. Symbioflor 1</td>\n",
       "      <td>complete genome</td>\n",
       "      <td>7470</td>\n",
       "      <td>1466599</td>\n",
       "      <td>1474069</td>\n",
       "      <td>NC_019770.1</td>\n",
       "      <td>21</td>\n",
       "      <td>NC_019770.1 Enterococcus faecalis str. Symbiof...</td>\n",
       "      <td>/home/ubuntu/Disks/HDD1000/NCBI/20190704/refse...</td>\n",
       "    </tr>\n",
       "    <tr>\n",
       "      <th>3</th>\n",
       "      <td>1261557</td>\n",
       "      <td>Enterococcus faecalis str. Symbioflor 1</td>\n",
       "      <td>complete genome</td>\n",
       "      <td>3294</td>\n",
       "      <td>184431</td>\n",
       "      <td>187725</td>\n",
       "      <td>NC_019770.1</td>\n",
       "      <td>22</td>\n",
       "      <td>NC_019770.1 Enterococcus faecalis str. Symbiof...</td>\n",
       "      <td>/home/ubuntu/Disks/HDD1000/NCBI/20190704/refse...</td>\n",
       "    </tr>\n",
       "    <tr>\n",
       "      <th>4</th>\n",
       "      <td>1261557</td>\n",
       "      <td>Enterococcus faecalis str. Symbioflor 1</td>\n",
       "      <td>complete genome</td>\n",
       "      <td>2879</td>\n",
       "      <td>844312</td>\n",
       "      <td>847191</td>\n",
       "      <td>NC_019770.1</td>\n",
       "      <td>23</td>\n",
       "      <td>NC_019770.1 Enterococcus faecalis str. Symbiof...</td>\n",
       "      <td>/home/ubuntu/Disks/HDD1000/NCBI/20190704/refse...</td>\n",
       "    </tr>\n",
       "    <tr>\n",
       "      <th>...</th>\n",
       "      <td>...</td>\n",
       "      <td>...</td>\n",
       "      <td>...</td>\n",
       "      <td>...</td>\n",
       "      <td>...</td>\n",
       "      <td>...</td>\n",
       "      <td>...</td>\n",
       "      <td>...</td>\n",
       "      <td>...</td>\n",
       "      <td>...</td>\n",
       "    </tr>\n",
       "    <tr>\n",
       "      <th>99995</th>\n",
       "      <td>435591</td>\n",
       "      <td>Parabacteroides distasonis ATCC 8503</td>\n",
       "      <td>complete genome</td>\n",
       "      <td>2287</td>\n",
       "      <td>98603</td>\n",
       "      <td>100890</td>\n",
       "      <td>NC_009615.1</td>\n",
       "      <td>99995</td>\n",
       "      <td>NC_009615.1 Parabacteroides distasonis ATCC 85...</td>\n",
       "      <td>/home/ubuntu/Disks/HDD1000/NCBI/20190704/refse...</td>\n",
       "    </tr>\n",
       "    <tr>\n",
       "      <th>99996</th>\n",
       "      <td>435591</td>\n",
       "      <td>Parabacteroides distasonis ATCC 8503</td>\n",
       "      <td>complete genome</td>\n",
       "      <td>7327</td>\n",
       "      <td>3373009</td>\n",
       "      <td>3380336</td>\n",
       "      <td>NC_009615.1</td>\n",
       "      <td>99996</td>\n",
       "      <td>NC_009615.1 Parabacteroides distasonis ATCC 85...</td>\n",
       "      <td>/home/ubuntu/Disks/HDD1000/NCBI/20190704/refse...</td>\n",
       "    </tr>\n",
       "    <tr>\n",
       "      <th>99997</th>\n",
       "      <td>435591</td>\n",
       "      <td>Parabacteroides distasonis ATCC 8503</td>\n",
       "      <td>complete genome</td>\n",
       "      <td>9824</td>\n",
       "      <td>3633633</td>\n",
       "      <td>3643457</td>\n",
       "      <td>NC_009615.1</td>\n",
       "      <td>99997</td>\n",
       "      <td>NC_009615.1 Parabacteroides distasonis ATCC 85...</td>\n",
       "      <td>/home/ubuntu/Disks/HDD1000/NCBI/20190704/refse...</td>\n",
       "    </tr>\n",
       "    <tr>\n",
       "      <th>99998</th>\n",
       "      <td>435591</td>\n",
       "      <td>Parabacteroides distasonis ATCC 8503</td>\n",
       "      <td>complete genome</td>\n",
       "      <td>4971</td>\n",
       "      <td>2241208</td>\n",
       "      <td>2246179</td>\n",
       "      <td>NC_009615.1</td>\n",
       "      <td>99998</td>\n",
       "      <td>NC_009615.1 Parabacteroides distasonis ATCC 85...</td>\n",
       "      <td>/home/ubuntu/Disks/HDD1000/NCBI/20190704/refse...</td>\n",
       "    </tr>\n",
       "    <tr>\n",
       "      <th>99999</th>\n",
       "      <td>435591</td>\n",
       "      <td>Parabacteroides distasonis ATCC 8503</td>\n",
       "      <td>complete genome</td>\n",
       "      <td>6729</td>\n",
       "      <td>4491090</td>\n",
       "      <td>4497819</td>\n",
       "      <td>NC_009615.1</td>\n",
       "      <td>99999</td>\n",
       "      <td>NC_009615.1 Parabacteroides distasonis ATCC 85...</td>\n",
       "      <td>/home/ubuntu/Disks/HDD1000/NCBI/20190704/refse...</td>\n",
       "    </tr>\n",
       "  </tbody>\n",
       "</table>\n",
       "<p>100000 rows × 10 columns</p>\n",
       "</div>"
      ],
      "text/plain": [
       "         taxon                                   genome     gen_chr_plas  read_len    start     stop    record_id  object_id                                        description                                               path\n",
       "0      1261557  Enterococcus faecalis str. Symbioflor 1  complete genome      9676  2588160  2597836  NC_019770.1          0  NC_019770.1 Enterococcus faecalis str. Symbiof...  /home/ubuntu/Disks/HDD1000/NCBI/20190704/refse...\n",
       "1      1261557  Enterococcus faecalis str. Symbioflor 1  complete genome      6270   940429   946699  NC_019770.1         20  NC_019770.1 Enterococcus faecalis str. Symbiof...  /home/ubuntu/Disks/HDD1000/NCBI/20190704/refse...\n",
       "2      1261557  Enterococcus faecalis str. Symbioflor 1  complete genome      7470  1466599  1474069  NC_019770.1         21  NC_019770.1 Enterococcus faecalis str. Symbiof...  /home/ubuntu/Disks/HDD1000/NCBI/20190704/refse...\n",
       "3      1261557  Enterococcus faecalis str. Symbioflor 1  complete genome      3294   184431   187725  NC_019770.1         22  NC_019770.1 Enterococcus faecalis str. Symbiof...  /home/ubuntu/Disks/HDD1000/NCBI/20190704/refse...\n",
       "4      1261557  Enterococcus faecalis str. Symbioflor 1  complete genome      2879   844312   847191  NC_019770.1         23  NC_019770.1 Enterococcus faecalis str. Symbiof...  /home/ubuntu/Disks/HDD1000/NCBI/20190704/refse...\n",
       "...        ...                                      ...              ...       ...      ...      ...          ...        ...                                                ...                                                ...\n",
       "99995   435591     Parabacteroides distasonis ATCC 8503  complete genome      2287    98603   100890  NC_009615.1      99995  NC_009615.1 Parabacteroides distasonis ATCC 85...  /home/ubuntu/Disks/HDD1000/NCBI/20190704/refse...\n",
       "99996   435591     Parabacteroides distasonis ATCC 8503  complete genome      7327  3373009  3380336  NC_009615.1      99996  NC_009615.1 Parabacteroides distasonis ATCC 85...  /home/ubuntu/Disks/HDD1000/NCBI/20190704/refse...\n",
       "99997   435591     Parabacteroides distasonis ATCC 8503  complete genome      9824  3633633  3643457  NC_009615.1      99997  NC_009615.1 Parabacteroides distasonis ATCC 85...  /home/ubuntu/Disks/HDD1000/NCBI/20190704/refse...\n",
       "99998   435591     Parabacteroides distasonis ATCC 8503  complete genome      4971  2241208  2246179  NC_009615.1      99998  NC_009615.1 Parabacteroides distasonis ATCC 85...  /home/ubuntu/Disks/HDD1000/NCBI/20190704/refse...\n",
       "99999   435591     Parabacteroides distasonis ATCC 8503  complete genome      6729  4491090  4497819  NC_009615.1      99999  NC_009615.1 Parabacteroides distasonis ATCC 85...  /home/ubuntu/Disks/HDD1000/NCBI/20190704/refse...\n",
       "\n",
       "[100000 rows x 10 columns]"
      ]
     },
     "execution_count": 20,
     "metadata": {},
     "output_type": "execute_result"
    }
   ],
   "source": [
    "df"
   ]
  },
  {
   "cell_type": "markdown",
   "metadata": {},
   "source": [
    "# End"
   ]
  },
  {
   "cell_type": "raw",
   "metadata": {},
   "source": [
    "from ete3 import NCBITaxa\n",
    "ncbi = NCBITaxa()\n",
    "\n",
    "ncbi.get_fuzzy_name_translation(\"Clostridioides difficile\")\n",
    "\n",
    "ncbi.get_name_translator([\"Clostridioides difficile\"])"
   ]
  },
  {
   "cell_type": "code",
   "execution_count": 79,
   "metadata": {
    "scrolled": true
   },
   "outputs": [
    {
     "data": {
      "text/plain": [
       "'461.5 MB'"
      ]
     },
     "execution_count": 79,
     "metadata": {},
     "output_type": "execute_result"
    }
   ],
   "source": [
    "# df.info(memory_usage='deep')\n",
    "f\"{df.memory_usage(deep=True).sum()/1000000:.1f} MB\""
   ]
  },
  {
   "cell_type": "code",
   "execution_count": 39,
   "metadata": {},
   "outputs": [],
   "source": [
    "pd.set_option('display.max_columns', 50)\n",
    "pd.set_option('display.max_colwidth', 500)"
   ]
  },
  {
   "cell_type": "code",
   "execution_count": 76,
   "metadata": {
    "scrolled": true
   },
   "outputs": [
    {
     "data": {
      "text/html": [
       "<div>\n",
       "<style scoped>\n",
       "    .dataframe tbody tr th:only-of-type {\n",
       "        vertical-align: middle;\n",
       "    }\n",
       "\n",
       "    .dataframe tbody tr th {\n",
       "        vertical-align: top;\n",
       "    }\n",
       "\n",
       "    .dataframe thead th {\n",
       "        text-align: right;\n",
       "    }\n",
       "</style>\n",
       "<table border=\"1\" class=\"dataframe\">\n",
       "  <thead>\n",
       "    <tr style=\"text-align: right;\">\n",
       "      <th></th>\n",
       "      <th>record_description</th>\n",
       "      <th>length</th>\n",
       "    </tr>\n",
       "  </thead>\n",
       "  <tbody>\n",
       "    <tr>\n",
       "      <th>27</th>\n",
       "      <td>NC_005791.1 Methanococcus maripaludis strain S2, complete sequence</td>\n",
       "      <td>1661137</td>\n",
       "    </tr>\n",
       "    <tr>\n",
       "      <th>236</th>\n",
       "      <td>NC_023044.1 Methanobacterium sp. MB1 complete sequence</td>\n",
       "      <td>2029766</td>\n",
       "    </tr>\n",
       "    <tr>\n",
       "      <th>249</th>\n",
       "      <td>NZ_CP007551.1 Haloferax mediterranei ATCC 33500 genome</td>\n",
       "      <td>2946877</td>\n",
       "    </tr>\n",
       "    <tr>\n",
       "      <th>257</th>\n",
       "      <td>NZ_CP008822.1 Metallosphaera sedula strain CuR1 genome</td>\n",
       "      <td>2191492</td>\n",
       "    </tr>\n",
       "    <tr>\n",
       "      <th>327</th>\n",
       "      <td>NZ_CP013695.1 Sulfolobus acidocaldarius strain NG05B_CO5_07 genome</td>\n",
       "      <td>2217426</td>\n",
       "    </tr>\n",
       "    <tr>\n",
       "      <th>356</th>\n",
       "      <td>NZ_CP019470.1 Methanopyrus sp. KOL6 genome</td>\n",
       "      <td>1430309</td>\n",
       "    </tr>\n",
       "    <tr>\n",
       "      <th>368</th>\n",
       "      <td>NZ_CP015193.1 Complete genome sequence of Thermococcus chitonophagus type strain GC74</td>\n",
       "      <td>1961979</td>\n",
       "    </tr>\n",
       "    <tr>\n",
       "      <th>379</th>\n",
       "      <td>NZ_CP017881.1 Methanohalophilus portucalensis strain FDF-1T genome</td>\n",
       "      <td>2084975</td>\n",
       "    </tr>\n",
       "    <tr>\n",
       "      <th>525</th>\n",
       "      <td>NC_002655.2 Escherichia coli O157:H7 str. EDL933 genome</td>\n",
       "      <td>5528445</td>\n",
       "    </tr>\n",
       "    <tr>\n",
       "      <th>595</th>\n",
       "      <td>NC_002940.2 [Haemophilus] ducreyi 35000HP, complete sequence</td>\n",
       "      <td>1698955</td>\n",
       "    </tr>\n",
       "    <tr>\n",
       "      <th>879</th>\n",
       "      <td>NC_002491.1 Chlamydophila pneumoniae J138 genomic DNA, complete sequence</td>\n",
       "      <td>1226565</td>\n",
       "    </tr>\n",
       "    <tr>\n",
       "      <th>1131</th>\n",
       "      <td>NC_008697.1 Nocardioides sp. JS614, complete sequence</td>\n",
       "      <td>307814</td>\n",
       "    </tr>\n",
       "    <tr>\n",
       "      <th>1152</th>\n",
       "      <td>NC_008787.1 Campylobacter jejuni subsp. jejuni 81-176, complete sequence</td>\n",
       "      <td>1616554</td>\n",
       "    </tr>\n",
       "    <tr>\n",
       "      <th>1167</th>\n",
       "      <td>NC_009012.1 Hungateiclostridium thermocellum ATCC 27405, complete sequence</td>\n",
       "      <td>3843301</td>\n",
       "    </tr>\n",
       "    <tr>\n",
       "      <th>1314</th>\n",
       "      <td>NC_009848.4 Bacillus pumilus SAFR-032, complete sequence</td>\n",
       "      <td>3704641</td>\n",
       "    </tr>\n",
       "    <tr>\n",
       "      <th>1358</th>\n",
       "      <td>NC_009976.1 Prochlorococcus marinus str. MIT 9211 genome</td>\n",
       "      <td>1688963</td>\n",
       "    </tr>\n",
       "    <tr>\n",
       "      <th>1583</th>\n",
       "      <td>NC_012751.1 Candidatus Hamiltonella defensa 5AT (Acyrthosiphon pisum) genome</td>\n",
       "      <td>2110331</td>\n",
       "    </tr>\n",
       "    <tr>\n",
       "      <th>1614</th>\n",
       "      <td>NC_011898.1 Ruminiclostridium cellulolyticum H10, complete sequence</td>\n",
       "      <td>4068724</td>\n",
       "    </tr>\n",
       "    <tr>\n",
       "      <th>1762</th>\n",
       "      <td>NC_013412.1 Geobacillus sp. Y412MC61, complete sequence</td>\n",
       "      <td>45057</td>\n",
       "    </tr>\n",
       "    <tr>\n",
       "      <th>1829</th>\n",
       "      <td>NC_009445.1 Bradyrhizobium sp. ORS278,complete sequence</td>\n",
       "      <td>7456587</td>\n",
       "    </tr>\n",
       "    <tr>\n",
       "      <th>1878</th>\n",
       "      <td>NC_013971.1 Erwinia amylovora ATCC 49946 chromosomal sequence</td>\n",
       "      <td>3805874</td>\n",
       "    </tr>\n",
       "    <tr>\n",
       "      <th>1894</th>\n",
       "      <td>NC_006155.1 Yersinia pseudotuberculosis IP32953 genome, complete sequence</td>\n",
       "      <td>4744671</td>\n",
       "    </tr>\n",
       "    <tr>\n",
       "      <th>1907</th>\n",
       "      <td>NC_008571.1 Gramella forsetii KT0803 complete circular genome</td>\n",
       "      <td>3798465</td>\n",
       "    </tr>\n",
       "    <tr>\n",
       "      <th>1908</th>\n",
       "      <td>NC_009482.1 Synechococcus sp. RCC307 genomic DNA sequence</td>\n",
       "      <td>2224914</td>\n",
       "    </tr>\n",
       "    <tr>\n",
       "      <th>2063</th>\n",
       "      <td>NC_020449.1 Candidatus Cloacamonas acidaminovorans str. Evry provisional genome sequence from WWE1 candidate division</td>\n",
       "      <td>2246820</td>\n",
       "    </tr>\n",
       "    <tr>\n",
       "      <th>2668</th>\n",
       "      <td>NC_017304.1 Hungateiclostridium thermocellum DSM 1313, complete sequence</td>\n",
       "      <td>3561619</td>\n",
       "    </tr>\n",
       "    <tr>\n",
       "      <th>2955</th>\n",
       "      <td>NC_014810.2 Helicobacter felis ATCC 49179 genome</td>\n",
       "      <td>1672681</td>\n",
       "    </tr>\n",
       "    <tr>\n",
       "      <th>2983</th>\n",
       "      <td>NC_014000.1 Anabaena variabilis ATCC 29413 incision element, complete sequence</td>\n",
       "      <td>37151</td>\n",
       "    </tr>\n",
       "    <tr>\n",
       "      <th>3010</th>\n",
       "      <td>NC_021021.1 Gordonibacter pamelaeae 7-10-1-b draft genome</td>\n",
       "      <td>3608022</td>\n",
       "    </tr>\n",
       "    <tr>\n",
       "      <th>3011</th>\n",
       "      <td>NC_021039.1 Ruminococcus champanellensis type strain 18P13T draft genome</td>\n",
       "      <td>2573208</td>\n",
       "    </tr>\n",
       "    <tr>\n",
       "      <th>...</th>\n",
       "      <td>...</td>\n",
       "      <td>...</td>\n",
       "    </tr>\n",
       "    <tr>\n",
       "      <th>17949</th>\n",
       "      <td>NZ_CP023266.1 Helicobacter pylori strain 7.13_2 genome</td>\n",
       "      <td>1674214</td>\n",
       "    </tr>\n",
       "    <tr>\n",
       "      <th>17950</th>\n",
       "      <td>NZ_CP023267.1 Helicobacter pylori strain 7.13_1 genome</td>\n",
       "      <td>1674115</td>\n",
       "    </tr>\n",
       "    <tr>\n",
       "      <th>18137</th>\n",
       "      <td>NZ_CP014331.1 Clostridium sp. MF28, genome</td>\n",
       "      <td>6148198</td>\n",
       "    </tr>\n",
       "    <tr>\n",
       "      <th>18982</th>\n",
       "      <td>NZ_CP022390.1 Alcaligenes aquatilis strain BU33N genome</td>\n",
       "      <td>3838399</td>\n",
       "    </tr>\n",
       "    <tr>\n",
       "      <th>18987</th>\n",
       "      <td>NZ_CP021113.1 Treponema pallidum subsp. pertenue strain LMNP-1 genome sequence</td>\n",
       "      <td>1139772</td>\n",
       "    </tr>\n",
       "    <tr>\n",
       "      <th>19054</th>\n",
       "      <td>NZ_CP010405.1 Bacillus safensis FO-36b genome</td>\n",
       "      <td>3766664</td>\n",
       "    </tr>\n",
       "    <tr>\n",
       "      <th>19396</th>\n",
       "      <td>NZ_CP021349.1 Staphylococcus aureus strain 080880048-3 genome</td>\n",
       "      <td>2781362</td>\n",
       "    </tr>\n",
       "    <tr>\n",
       "      <th>19407</th>\n",
       "      <td>NZ_CP021350.1 Staphylococcus aureus strain 101110051-1 genome</td>\n",
       "      <td>2788812</td>\n",
       "    </tr>\n",
       "    <tr>\n",
       "      <th>19408</th>\n",
       "      <td>NZ_CP021351.1 Staphylococcus aureus strain 101110041-3 genome</td>\n",
       "      <td>2773442</td>\n",
       "    </tr>\n",
       "    <tr>\n",
       "      <th>19409</th>\n",
       "      <td>NZ_CP021352.1 Staphylococcus aureus strain 0201753-2 genome</td>\n",
       "      <td>2870488</td>\n",
       "    </tr>\n",
       "    <tr>\n",
       "      <th>19410</th>\n",
       "      <td>NZ_CP021353.1 Staphylococcus aureus strain 121560027-1 genome</td>\n",
       "      <td>2818490</td>\n",
       "    </tr>\n",
       "    <tr>\n",
       "      <th>19763</th>\n",
       "      <td>NZ_CP022199.1 Achromobacter insolitus strain AB2 genome</td>\n",
       "      <td>6438278</td>\n",
       "    </tr>\n",
       "    <tr>\n",
       "      <th>19764</th>\n",
       "      <td>NZ_CP022162.1 Microbacterium sp. PM5 genome</td>\n",
       "      <td>3158783</td>\n",
       "    </tr>\n",
       "    <tr>\n",
       "      <th>19845</th>\n",
       "      <td>NZ_CP016437.1 Hyphomonas sp. CACIAM 19H1 genome</td>\n",
       "      <td>4080747</td>\n",
       "    </tr>\n",
       "    <tr>\n",
       "      <th>20027</th>\n",
       "      <td>NZ_CP022313.1 Pseudomonas fluorescens strain NEP1 genome</td>\n",
       "      <td>6313875</td>\n",
       "    </tr>\n",
       "    <tr>\n",
       "      <th>20391</th>\n",
       "      <td>NZ_CP008879.1 Flavobacterium psychrophilum strain V1-20 genome</td>\n",
       "      <td>2699630</td>\n",
       "    </tr>\n",
       "    <tr>\n",
       "      <th>20392</th>\n",
       "      <td>NZ_CP008880.1 Flavobacterium psychrophilum strain V2-20 genome</td>\n",
       "      <td>2692540</td>\n",
       "    </tr>\n",
       "    <tr>\n",
       "      <th>20393</th>\n",
       "      <td>NZ_CP008882.1 Flavobacterium psychrophilum strain V4-28 genome</td>\n",
       "      <td>2697393</td>\n",
       "    </tr>\n",
       "    <tr>\n",
       "      <th>20671</th>\n",
       "      <td>NZ_CP012901.1 Pseudomonas aeruginosa strain N15-01092, complete sequence</td>\n",
       "      <td>6972899</td>\n",
       "    </tr>\n",
       "    <tr>\n",
       "      <th>20853</th>\n",
       "      <td>NZ_CP014381.1 Staphylococcus aureus strain USA300-SUR6</td>\n",
       "      <td>2919719</td>\n",
       "    </tr>\n",
       "    <tr>\n",
       "      <th>20859</th>\n",
       "      <td>NZ_CP014387.1 Staphylococcus aureus strain USA300-SUR8</td>\n",
       "      <td>2918010</td>\n",
       "    </tr>\n",
       "    <tr>\n",
       "      <th>20968</th>\n",
       "      <td>NZ_CP024811.1 Halomonas alkaliphila X3, complete sequence</td>\n",
       "      <td>4029514</td>\n",
       "    </tr>\n",
       "    <tr>\n",
       "      <th>22113</th>\n",
       "      <td>NZ_CP034429.1 Pseudomonas aeruginosa strain GIMC5015:PAKB6, complete sequence</td>\n",
       "      <td>6258491</td>\n",
       "    </tr>\n",
       "    <tr>\n",
       "      <th>22312</th>\n",
       "      <td>NZ_CP016430.1 Wolbachia endosymbiont of Bemisia tabaci strain China 1 genome</td>\n",
       "      <td>1306495</td>\n",
       "    </tr>\n",
       "    <tr>\n",
       "      <th>22352</th>\n",
       "      <td>NZ_CP034430.1 Pseudomonas aeruginosa strain GIMC5016:PA1840, complete sequence</td>\n",
       "      <td>6750271</td>\n",
       "    </tr>\n",
       "    <tr>\n",
       "      <th>27525</th>\n",
       "      <td>NW_001884665.1 Aspergillus oryzae RIB40 DNA, 47Q_0155</td>\n",
       "      <td>6938</td>\n",
       "    </tr>\n",
       "    <tr>\n",
       "      <th>27526</th>\n",
       "      <td>NW_001884669.1 Aspergillus oryzae RIB40 DNA, 47Q_0173</td>\n",
       "      <td>18226</td>\n",
       "    </tr>\n",
       "    <tr>\n",
       "      <th>27527</th>\n",
       "      <td>NW_001884683.1 Aspergillus oryzae RIB40 DNA, Q47Con0163</td>\n",
       "      <td>8921</td>\n",
       "    </tr>\n",
       "    <tr>\n",
       "      <th>28431</th>\n",
       "      <td>NW_020311997.1 Fusarium venenatum strain A3/5 genome assembly, organelle: mitochondrion</td>\n",
       "      <td>78612</td>\n",
       "    </tr>\n",
       "    <tr>\n",
       "      <th>43302</th>\n",
       "      <td>NW_003101688.1 Caenorhabditis briggsae strain AF16</td>\n",
       "      <td>7311690</td>\n",
       "    </tr>\n",
       "  </tbody>\n",
       "</table>\n",
       "<p>392 rows × 2 columns</p>\n",
       "</div>"
      ],
      "text/plain": [
       "                                                                                                          record_description   length\n",
       "27                                                        NC_005791.1 Methanococcus maripaludis strain S2, complete sequence  1661137\n",
       "236                                                                   NC_023044.1 Methanobacterium sp. MB1 complete sequence  2029766\n",
       "249                                                                   NZ_CP007551.1 Haloferax mediterranei ATCC 33500 genome  2946877\n",
       "257                                                                   NZ_CP008822.1 Metallosphaera sedula strain CuR1 genome  2191492\n",
       "327                                                       NZ_CP013695.1 Sulfolobus acidocaldarius strain NG05B_CO5_07 genome  2217426\n",
       "356                                                                               NZ_CP019470.1 Methanopyrus sp. KOL6 genome  1430309\n",
       "368                                    NZ_CP015193.1 Complete genome sequence of Thermococcus chitonophagus type strain GC74  1961979\n",
       "379                                                       NZ_CP017881.1 Methanohalophilus portucalensis strain FDF-1T genome  2084975\n",
       "525                                                                  NC_002655.2 Escherichia coli O157:H7 str. EDL933 genome  5528445\n",
       "595                                                             NC_002940.2 [Haemophilus] ducreyi 35000HP, complete sequence  1698955\n",
       "879                                                 NC_002491.1 Chlamydophila pneumoniae J138 genomic DNA, complete sequence  1226565\n",
       "1131                                                                   NC_008697.1 Nocardioides sp. JS614, complete sequence   307814\n",
       "1152                                                NC_008787.1 Campylobacter jejuni subsp. jejuni 81-176, complete sequence  1616554\n",
       "1167                                              NC_009012.1 Hungateiclostridium thermocellum ATCC 27405, complete sequence  3843301\n",
       "1314                                                                NC_009848.4 Bacillus pumilus SAFR-032, complete sequence  3704641\n",
       "1358                                                                NC_009976.1 Prochlorococcus marinus str. MIT 9211 genome  1688963\n",
       "1583                                            NC_012751.1 Candidatus Hamiltonella defensa 5AT (Acyrthosiphon pisum) genome  2110331\n",
       "1614                                                     NC_011898.1 Ruminiclostridium cellulolyticum H10, complete sequence  4068724\n",
       "1762                                                                 NC_013412.1 Geobacillus sp. Y412MC61, complete sequence    45057\n",
       "1829                                                                 NC_009445.1 Bradyrhizobium sp. ORS278,complete sequence  7456587\n",
       "1878                                                           NC_013971.1 Erwinia amylovora ATCC 49946 chromosomal sequence  3805874\n",
       "1894                                               NC_006155.1 Yersinia pseudotuberculosis IP32953 genome, complete sequence  4744671\n",
       "1907                                                           NC_008571.1 Gramella forsetii KT0803 complete circular genome  3798465\n",
       "1908                                                               NC_009482.1 Synechococcus sp. RCC307 genomic DNA sequence  2224914\n",
       "2063   NC_020449.1 Candidatus Cloacamonas acidaminovorans str. Evry provisional genome sequence from WWE1 candidate division  2246820\n",
       "2668                                                NC_017304.1 Hungateiclostridium thermocellum DSM 1313, complete sequence  3561619\n",
       "2955                                                                        NC_014810.2 Helicobacter felis ATCC 49179 genome  1672681\n",
       "2983                                          NC_014000.1 Anabaena variabilis ATCC 29413 incision element, complete sequence    37151\n",
       "3010                                                               NC_021021.1 Gordonibacter pamelaeae 7-10-1-b draft genome  3608022\n",
       "3011                                                NC_021039.1 Ruminococcus champanellensis type strain 18P13T draft genome  2573208\n",
       "...                                                                                                                      ...      ...\n",
       "17949                                                                 NZ_CP023266.1 Helicobacter pylori strain 7.13_2 genome  1674214\n",
       "17950                                                                 NZ_CP023267.1 Helicobacter pylori strain 7.13_1 genome  1674115\n",
       "18137                                                                             NZ_CP014331.1 Clostridium sp. MF28, genome  6148198\n",
       "18982                                                                NZ_CP022390.1 Alcaligenes aquatilis strain BU33N genome  3838399\n",
       "18987                                         NZ_CP021113.1 Treponema pallidum subsp. pertenue strain LMNP-1 genome sequence  1139772\n",
       "19054                                                                          NZ_CP010405.1 Bacillus safensis FO-36b genome  3766664\n",
       "19396                                                          NZ_CP021349.1 Staphylococcus aureus strain 080880048-3 genome  2781362\n",
       "19407                                                          NZ_CP021350.1 Staphylococcus aureus strain 101110051-1 genome  2788812\n",
       "19408                                                          NZ_CP021351.1 Staphylococcus aureus strain 101110041-3 genome  2773442\n",
       "19409                                                            NZ_CP021352.1 Staphylococcus aureus strain 0201753-2 genome  2870488\n",
       "19410                                                          NZ_CP021353.1 Staphylococcus aureus strain 121560027-1 genome  2818490\n",
       "19763                                                                NZ_CP022199.1 Achromobacter insolitus strain AB2 genome  6438278\n",
       "19764                                                                            NZ_CP022162.1 Microbacterium sp. PM5 genome  3158783\n",
       "19845                                                                        NZ_CP016437.1 Hyphomonas sp. CACIAM 19H1 genome  4080747\n",
       "20027                                                               NZ_CP022313.1 Pseudomonas fluorescens strain NEP1 genome  6313875\n",
       "20391                                                         NZ_CP008879.1 Flavobacterium psychrophilum strain V1-20 genome  2699630\n",
       "20392                                                         NZ_CP008880.1 Flavobacterium psychrophilum strain V2-20 genome  2692540\n",
       "20393                                                         NZ_CP008882.1 Flavobacterium psychrophilum strain V4-28 genome  2697393\n",
       "20671                                               NZ_CP012901.1 Pseudomonas aeruginosa strain N15-01092, complete sequence  6972899\n",
       "20853                                                                 NZ_CP014381.1 Staphylococcus aureus strain USA300-SUR6  2919719\n",
       "20859                                                                 NZ_CP014387.1 Staphylococcus aureus strain USA300-SUR8  2918010\n",
       "20968                                                              NZ_CP024811.1 Halomonas alkaliphila X3, complete sequence  4029514\n",
       "22113                                          NZ_CP034429.1 Pseudomonas aeruginosa strain GIMC5015:PAKB6, complete sequence  6258491\n",
       "22312                                           NZ_CP016430.1 Wolbachia endosymbiont of Bemisia tabaci strain China 1 genome  1306495\n",
       "22352                                         NZ_CP034430.1 Pseudomonas aeruginosa strain GIMC5016:PA1840, complete sequence  6750271\n",
       "27525                                                                  NW_001884665.1 Aspergillus oryzae RIB40 DNA, 47Q_0155     6938\n",
       "27526                                                                  NW_001884669.1 Aspergillus oryzae RIB40 DNA, 47Q_0173    18226\n",
       "27527                                                                NW_001884683.1 Aspergillus oryzae RIB40 DNA, Q47Con0163     8921\n",
       "28431                                NW_020311997.1 Fusarium venenatum strain A3/5 genome assembly, organelle: mitochondrion    78612\n",
       "43302                                                                     NW_003101688.1 Caenorhabditis briggsae strain AF16  7311690\n",
       "\n",
       "[392 rows x 2 columns]"
      ]
     },
     "execution_count": 76,
     "metadata": {},
     "output_type": "execute_result"
    }
   ],
   "source": [
    "df[(df[\"type\"] == \"undefined\") \n",
    "   & ~(df.record_description.str.lower().str.contains(\"drosophila melanogaster\")) \n",
    "   & ~(df.record_description.str.lower().str.contains(\"plasmid\")) \n",
    "   & ~(df.record_description.str.lower().str.contains(\"scaffold\")) \n",
    "   & ~(df.record_description.str.lower().str.contains(\"whole genome shotgun sequence\")) \n",
    "   & ~(df.record_description.str.lower().str.contains(\"contig\"))][[\"record_description\", \"length\"]] "
   ]
  },
  {
   "cell_type": "markdown",
   "metadata": {},
   "source": [
    "PD from CSV"
   ]
  },
  {
   "cell_type": "code",
   "execution_count": 76,
   "metadata": {},
   "outputs": [
    {
     "name": "stderr",
     "output_type": "stream",
     "text": [
      "/home/ubuntu/.pyenv/versions/3.7.3/envs/py373/lib/python3.7/site-packages/IPython/core/interactiveshell.py:3049: DtypeWarning: Columns (20) have mixed types. Specify dtype option on import or set low_memory=False.\n",
      "  interactivity=interactivity, compiler=compiler, result=result)\n"
     ]
    }
   ],
   "source": [
    "# path_ncbi_csv\n",
    "df = pd.read_csv(\"/home/ubuntu/Disks/HDD1000/NCBI/ncbi_2019-11-26.csv\", sep=\"\\t\", )"
   ]
  },
  {
   "cell_type": "code",
   "execution_count": 77,
   "metadata": {},
   "outputs": [
    {
     "data": {
      "text/plain": [
       "'1137.2 MB'"
      ]
     },
     "execution_count": 77,
     "metadata": {},
     "output_type": "execute_result"
    }
   ],
   "source": [
    "# df.info(memory_usage='deep')\n",
    "f\"{df.memory_usage(deep=True).sum()/1000000:.1f} MB\""
   ]
  },
  {
   "cell_type": "code",
   "execution_count": 78,
   "metadata": {
    "scrolled": true
   },
   "outputs": [
    {
     "data": {
      "text/plain": [
       "(877820, 25)"
      ]
     },
     "execution_count": 78,
     "metadata": {},
     "output_type": "execute_result"
    }
   ],
   "source": [
    "df.shape"
   ]
  },
  {
   "cell_type": "code",
   "execution_count": 79,
   "metadata": {},
   "outputs": [
    {
     "name": "stdout",
     "output_type": "stream",
     "text": [
      "id_superkingdom\n",
      "id_kingdom\n",
      "id_phylum\n",
      "id_class\n",
      "id_order\n",
      "id_family\n",
      "id_genus\n",
      "id_species\n"
     ]
    }
   ],
   "source": [
    "for col in df.columns:\n",
    "    if \"id_\" in col:\n",
    "        print(col)\n",
    "        df[col].fillna(0, inplace=True)\n",
    "        df[col] = df[col].astype(int)"
   ]
  },
  {
   "cell_type": "code",
   "execution_count": 80,
   "metadata": {},
   "outputs": [
    {
     "data": {
      "application/vnd.jupyter.widget-view+json": {
       "model_id": "a4f5f34b8ec54646995cf8342ae72641",
       "version_major": 2,
       "version_minor": 0
      },
      "text/plain": [
       "HBox(children=(IntProgress(value=0, max=19), HTML(value='')))"
      ]
     },
     "metadata": {},
     "output_type": "display_data"
    },
    {
     "name": "stdout",
     "output_type": "stream",
     "text": [
      "\n",
      "438.1 MB\n"
     ]
    }
   ],
   "source": [
    "col_categories = ['rank', 'type', 'path_folder', \n",
    "                  'id_superkingdom', 'name_superkingdom', 'id_kingdom', 'name_kingdom', 'id_phylum', 'name_phylum', \n",
    "                  'id_class', 'name_class', 'id_order', 'name_order', 'id_family', 'name_family', \n",
    "                  'id_genus', 'name_genus', 'id_species', 'name_species']\n",
    "\n",
    "for col in tqdm(col_categories):\n",
    "    df[col] = df[col].astype('category')\n",
    "print(f\"{df.memory_usage(deep=True).sum()/1000000:.1f} MB\")"
   ]
  },
  {
   "cell_type": "code",
   "execution_count": 81,
   "metadata": {},
   "outputs": [],
   "source": [
    "# path_ncbi_pd\n",
    "df.to_pickle('/home/ubuntu/Disks/HDD1000/NCBI/ncbi_2019-11-26.pd')"
   ]
  },
  {
   "cell_type": "code",
   "execution_count": null,
   "metadata": {},
   "outputs": [],
   "source": []
  },
  {
   "cell_type": "code",
   "execution_count": 6,
   "metadata": {
    "scrolled": true
   },
   "outputs": [
    {
     "data": {
      "text/plain": [
       "['taxon_id',\n",
       " 'taxon_name',\n",
       " 'rank',\n",
       " 'type',\n",
       " 'length',\n",
       " 'record_id',\n",
       " 'record_description',\n",
       " 'path_folder',\n",
       " 'path_file',\n",
       " 'id_superkingdom',\n",
       " 'name_superkingdom',\n",
       " 'id_kingdom',\n",
       " 'name_kingdom',\n",
       " 'id_phylum',\n",
       " 'name_phylum',\n",
       " 'id_class',\n",
       " 'name_class',\n",
       " 'id_order',\n",
       " 'name_order',\n",
       " 'id_family',\n",
       " 'name_family',\n",
       " 'id_genus',\n",
       " 'name_genus',\n",
       " 'id_species',\n",
       " 'name_species']"
      ]
     },
     "execution_count": 6,
     "metadata": {},
     "output_type": "execute_result"
    }
   ],
   "source": [
    "desired_ranks = ['superkingdom', 'kingdom', 'phylum', 'class', 'order', 'family', 'genus', 'species']\n",
    "headers = [\"taxon_id\", \"taxon_name\", \"rank\", \"type\", \"length\", \n",
    "           \"record_id\", \"record_description\", \"path_folder\", \"path_file\", ]\n",
    "[headers.extend([f\"id_{v}\", f\"name_{v}\"]) for v in desired_ranks]\n",
    "headers"
   ]
  },
  {
   "cell_type": "markdown",
   "metadata": {},
   "source": [
    "# Read the csv and transform to pandas, plus column dtype conversion"
   ]
  },
  {
   "cell_type": "markdown",
   "metadata": {},
   "source": [
    "Might take a while if file is big..."
   ]
  },
  {
   "cell_type": "code",
   "execution_count": null,
   "metadata": {},
   "outputs": [],
   "source": []
  },
  {
   "cell_type": "code",
   "execution_count": null,
   "metadata": {},
   "outputs": [],
   "source": []
  },
  {
   "cell_type": "markdown",
   "metadata": {},
   "source": [
    "# End"
   ]
  },
  {
   "cell_type": "code",
   "execution_count": 144,
   "metadata": {},
   "outputs": [],
   "source": [
    "path_file = \"/home/ubuntu/Disks/HDD1000/NCBI/20190704/refseq/bacteria/GCF_000006845.1/GCF_000006845.1_ASM684v1_genomic.fna\""
   ]
  },
  {
   "cell_type": "code",
   "execution_count": 150,
   "metadata": {},
   "outputs": [],
   "source": [
    "record = SeqIO.parse(path_file, \"fasta\")"
   ]
  },
  {
   "cell_type": "code",
   "execution_count": 151,
   "metadata": {
    "scrolled": true
   },
   "outputs": [
    {
     "data": {
      "text/plain": [
       "SeqRecord(seq=Seq('ATAAATTTTTGCACGGGTTGTGGATAAAATATCGGCGAGTCGGTATAATCGGTT...TGG', SingleLetterAlphabet()), id='NC_002946.2', name='NC_002946.2', description='NC_002946.2 Neisseria gonorrhoeae FA 1090 chromosome, complete genome', dbxrefs=[])"
      ]
     },
     "execution_count": 151,
     "metadata": {},
     "output_type": "execute_result"
    }
   ],
   "source": [
    "r = next(record)\n",
    "r"
   ]
  },
  {
   "cell_type": "code",
   "execution_count": 59,
   "metadata": {},
   "outputs": [
    {
     "data": {
      "text/plain": [
       "1936387"
      ]
     },
     "execution_count": 59,
     "metadata": {},
     "output_type": "execute_result"
    }
   ],
   "source": [
    "len(record.seq)"
   ]
  },
  {
   "cell_type": "code",
   "execution_count": 85,
   "metadata": {},
   "outputs": [
    {
     "data": {
      "text/plain": [
       "Seq('AATTTAAAGATTAAAATTAGTAGACTGTCGATTTACAATATCATATTTATGAGT...TAA', SingleLetterAlphabet())"
      ]
     },
     "execution_count": 85,
     "metadata": {},
     "output_type": "execute_result"
    }
   ],
   "source": [
    "record.seq.upper()"
   ]
  },
  {
   "cell_type": "code",
   "execution_count": 73,
   "metadata": {},
   "outputs": [
    {
     "name": "stdout",
     "output_type": "stream",
     "text": [
      "ID: NC_014222.1\n",
      "Name: NC_014222.1\n",
      "Description: NC_014222.1 Methanococcus voltae A3, complete genome\n",
      "Number of features: 0\n",
      "Seq('AATTTAAAGATTAAAATTAGTAGACTGTCGATTTACAATATCATATTTATGAGT...TAA', SingleLetterAlphabet())\n"
     ]
    }
   ],
   "source": [
    "print(record)"
   ]
  },
  {
   "cell_type": "code",
   "execution_count": 62,
   "metadata": {
    "scrolled": true
   },
   "outputs": [
    {
     "data": {
      "text/plain": [
       "['__add__',\n",
       " '__bool__',\n",
       " '__class__',\n",
       " '__contains__',\n",
       " '__delattr__',\n",
       " '__dict__',\n",
       " '__dir__',\n",
       " '__doc__',\n",
       " '__eq__',\n",
       " '__format__',\n",
       " '__ge__',\n",
       " '__getattribute__',\n",
       " '__getitem__',\n",
       " '__gt__',\n",
       " '__hash__',\n",
       " '__init__',\n",
       " '__init_subclass__',\n",
       " '__iter__',\n",
       " '__le__',\n",
       " '__le___',\n",
       " '__len__',\n",
       " '__lt__',\n",
       " '__module__',\n",
       " '__ne__',\n",
       " '__new__',\n",
       " '__nonzero__',\n",
       " '__radd__',\n",
       " '__reduce__',\n",
       " '__reduce_ex__',\n",
       " '__repr__',\n",
       " '__setattr__',\n",
       " '__sizeof__',\n",
       " '__str__',\n",
       " '__subclasshook__',\n",
       " '__weakref__',\n",
       " '_per_letter_annotations',\n",
       " '_seq',\n",
       " '_set_per_letter_annotations',\n",
       " '_set_seq',\n",
       " 'annotations',\n",
       " 'dbxrefs',\n",
       " 'description',\n",
       " 'features',\n",
       " 'format',\n",
       " 'id',\n",
       " 'letter_annotations',\n",
       " 'lower',\n",
       " 'name',\n",
       " 'reverse_complement',\n",
       " 'seq',\n",
       " 'translate',\n",
       " 'upper']"
      ]
     },
     "execution_count": 62,
     "metadata": {},
     "output_type": "execute_result"
    }
   ],
   "source": [
    "dir(record)"
   ]
  },
  {
   "cell_type": "code",
   "execution_count": 86,
   "metadata": {
    "scrolled": true
   },
   "outputs": [
    {
     "data": {
      "text/plain": [
       "'NC_014222.1 Methanococcus voltae A3, complete genome'"
      ]
     },
     "execution_count": 86,
     "metadata": {},
     "output_type": "execute_result"
    }
   ],
   "source": [
    "record.description"
   ]
  },
  {
   "cell_type": "code",
   "execution_count": null,
   "metadata": {},
   "outputs": [],
   "source": []
  },
  {
   "cell_type": "code",
   "execution_count": 176,
   "metadata": {
    "scrolled": true
   },
   "outputs": [
    {
     "data": {
      "text/plain": [
       "{'superkingdom_id': 2,\n",
       " 'kingdom_id': 'NaN',\n",
       " 'phylum_id': 'NaN',\n",
       " 'class_id': 'NaN',\n",
       " 'order_id': 'NaN',\n",
       " 'family_id': 'NaN',\n",
       " 'genus_id': 'NaN',\n",
       " 'species_id': 'NaN'}"
      ]
     },
     "execution_count": 176,
     "metadata": {},
     "output_type": "execute_result"
    }
   ],
   "source": [
    "get_desired_ranks(2, desired_ranks)"
   ]
  },
  {
   "cell_type": "code",
   "execution_count": 154,
   "metadata": {},
   "outputs": [
    {
     "data": {
      "text/plain": [
       "[2759, 33208, 7711, 40674, 9443, 9604, 9605, 9606]"
      ]
     },
     "execution_count": 154,
     "metadata": {},
     "output_type": "execute_result"
    }
   ],
   "source": [
    "get_desired_ranks(9606, desired_ranks, tolist=True)"
   ]
  },
  {
   "cell_type": "code",
   "execution_count": 155,
   "metadata": {
    "scrolled": true
   },
   "outputs": [
    {
     "data": {
      "text/plain": [
       "['Eukaryota',\n",
       " 'Metazoa',\n",
       " 'Chordata',\n",
       " 'Mammalia',\n",
       " 'Primates',\n",
       " 'Hominidae',\n",
       " 'Homo',\n",
       " 'Homo sapiens']"
      ]
     },
     "execution_count": 155,
     "metadata": {},
     "output_type": "execute_result"
    }
   ],
   "source": [
    "ncbi.translate_to_names(get_desired_ranks(9606, desired_ranks, tolist=True))"
   ]
  },
  {
   "cell_type": "code",
   "execution_count": 184,
   "metadata": {
    "scrolled": true
   },
   "outputs": [
    {
     "data": {
      "text/plain": [
       "{2: 'Bacteria',\n",
       " 6: 'Azorhizobium',\n",
       " 356: 'Rhizobiales',\n",
       " 1224: 'Proteobacteria',\n",
       " 28211: 'Alphaproteobacteria',\n",
       " 335928: 'Xanthobacteraceae'}"
      ]
     },
     "execution_count": 184,
     "metadata": {},
     "output_type": "execute_result"
    }
   ],
   "source": [
    "ranks_id_str = ncbi.get_taxid_translator(get_desired_ranks(6, desired_ranks, tolist=True))\n",
    "ranks_id_str"
   ]
  },
  {
   "cell_type": "code",
   "execution_count": 185,
   "metadata": {},
   "outputs": [
    {
     "data": {
      "text/plain": [
       "[None, None, None, None, None, None]"
      ]
     },
     "execution_count": 185,
     "metadata": {},
     "output_type": "execute_result"
    }
   ],
   "source": [
    "l=[]\n",
    "[l.extend([k,v]) for k,v in ranks_id_str.items()]"
   ]
  },
  {
   "cell_type": "code",
   "execution_count": 186,
   "metadata": {
    "scrolled": true
   },
   "outputs": [
    {
     "data": {
      "text/plain": [
       "[2,\n",
       " 'Bacteria',\n",
       " 6,\n",
       " 'Azorhizobium',\n",
       " 356,\n",
       " 'Rhizobiales',\n",
       " 1224,\n",
       " 'Proteobacteria',\n",
       " 28211,\n",
       " 'Alphaproteobacteria',\n",
       " 335928,\n",
       " 'Xanthobacteraceae']"
      ]
     },
     "execution_count": 186,
     "metadata": {},
     "output_type": "execute_result"
    }
   ],
   "source": [
    "l"
   ]
  },
  {
   "cell_type": "code",
   "execution_count": null,
   "metadata": {},
   "outputs": [],
   "source": []
  },
  {
   "cell_type": "code",
   "execution_count": null,
   "metadata": {},
   "outputs": [],
   "source": []
  }
 ],
 "metadata": {
  "hide_input": false,
  "kernelspec": {
   "display_name": "Python 3",
   "language": "python",
   "name": "python3"
  },
  "language_info": {
   "codemirror_mode": {
    "name": "ipython",
    "version": 3
   },
   "file_extension": ".py",
   "mimetype": "text/x-python",
   "name": "python",
   "nbconvert_exporter": "python",
   "pygments_lexer": "ipython3",
   "version": "3.7.3"
  },
  "toc": {
   "base_numbering": 1,
   "nav_menu": {},
   "number_sections": true,
   "sideBar": true,
   "skip_h1_title": false,
   "title_cell": "Table of Contents",
   "title_sidebar": "Contents",
   "toc_cell": false,
   "toc_position": {},
   "toc_section_display": true,
   "toc_window_display": false
  },
  "varInspector": {
   "cols": {
    "lenName": 16,
    "lenType": 16,
    "lenVar": 40
   },
   "kernels_config": {
    "python": {
     "delete_cmd_postfix": "",
     "delete_cmd_prefix": "del ",
     "library": "var_list.py",
     "varRefreshCmd": "print(var_dic_list())"
    },
    "r": {
     "delete_cmd_postfix": ") ",
     "delete_cmd_prefix": "rm(",
     "library": "var_list.r",
     "varRefreshCmd": "cat(var_dic_list()) "
    }
   },
   "types_to_exclude": [
    "module",
    "function",
    "builtin_function_or_method",
    "instance",
    "_Feature"
   ],
   "window_display": false
  }
 },
 "nbformat": 4,
 "nbformat_minor": 2
}
