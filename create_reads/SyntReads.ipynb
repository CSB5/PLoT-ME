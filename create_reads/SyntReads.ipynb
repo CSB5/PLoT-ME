{
 "cells": [
  {
   "cell_type": "markdown",
   "metadata": {},
   "source": [
    "# Imports, settings and paths"
   ]
  },
  {
   "cell_type": "code",
   "execution_count": 2,
   "metadata": {},
   "outputs": [],
   "source": [
    "import pandas as pd\n",
    "import os\n",
    "from copy import deepcopy\n",
    "from random import randint"
   ]
  },
  {
   "cell_type": "code",
   "execution_count": 3,
   "metadata": {},
   "outputs": [],
   "source": [
    "from Bio import SeqIO\n",
    "from Bio.Seq import Seq\n",
    "from Bio.SeqRecord import SeqRecord\n",
    "from Bio.Alphabet import SingleLetterAlphabet\n",
    "from tqdm import tqdm_notebook as tqdm\n",
    "from ete3 import NCBITaxa"
   ]
  },
  {
   "cell_type": "code",
   "execution_count": 4,
   "metadata": {},
   "outputs": [],
   "source": [
    "# path_ncbi = \"/home/ubuntu/Disks/HDD1000/NCBI/20190704/refseq\"\n",
    "path_ncbi_csv = \"/home/ubuntu/Disks/HDD1000/NCBI/ncbi.csv\"\n",
    "path_ncbi_pd = \"/home/ubuntu/Disks/HDD1000/NCBI/ncbi.pd\""
   ]
  },
  {
   "cell_type": "code",
   "execution_count": 5,
   "metadata": {},
   "outputs": [],
   "source": [
    "pd.set_option('display.max_columns', 50)\n",
    "pd.set_option('display.width', 500)"
   ]
  },
  {
   "cell_type": "code",
   "execution_count": 22,
   "metadata": {},
   "outputs": [],
   "source": [
    "# Settings\n",
    "nb_species = 20\n",
    "nb_reads = 100000\n",
    "read_length = (1000, 10000)"
   ]
  },
  {
   "cell_type": "raw",
   "metadata": {},
   "source": [
    "ncbi = NCBITaxa()"
   ]
  },
  {
   "cell_type": "raw",
   "metadata": {},
   "source": [
    "desired_ranks = ['superkingdom', 'kingdom', 'phylum', 'class', 'order', 'family', 'genus', 'species']"
   ]
  },
  {
   "cell_type": "markdown",
   "metadata": {},
   "source": [
    "# SyntRead Class"
   ]
  },
  {
   "cell_type": "code",
   "execution_count": 21,
   "metadata": {},
   "outputs": [],
   "source": [
    "class SyntRead:\n",
    "    count = 0\n",
    "    \n",
    "    def __init__(self, record_id, taxon, genome, what, s_kingdom, path_complete, description):  # folder, file,\n",
    "        self.object_id    = SyntRead.counter()\n",
    "        self.record_id    = record_id\n",
    "        self.taxon        = taxon\n",
    "        self.genome       = genome\n",
    "        self.gen_chr_plas = what\n",
    "        self.s_kingdom    = s_kingdom\n",
    "        self.path         = path_complete  # os.path.join(folder, file)\n",
    "        self.description  = description\n",
    "        self.description_original = description\n",
    "        \n",
    "        self.seq          = None\n",
    "        self.seq_len      = None\n",
    "        self.start        = None\n",
    "        self.stop         = None\n",
    "        self.read_len     = None\n",
    "        self.read         = None \n",
    "        \n",
    "    def counter():\n",
    "        SyntRead.count += 1\n",
    "        return SyntRead.count - 1\n",
    "        \n",
    "    def synthetize_read(self, seq=\"\", synt_length=randint(read_length[0], read_length[1])):\n",
    "        if seq == \"\":\n",
    "            records = list(SeqIO.parse(self.path, \"fasta\"))\n",
    "            for r in records:\n",
    "                if r.id == self.record_id:\n",
    "                    seq = str(r.seq)\n",
    "                    break\n",
    "                else:\n",
    "                    raise FileNotFoundError(\"File error, couldn't find the right record\")\n",
    "            self.seq_len = len(seq)\n",
    "            \n",
    "        self.read_len  = synt_length\n",
    "        self.start     = randint(0, self.seq_len - self.read_len)\n",
    "        self.stop      = self.start + self.read_len\n",
    "        self.read      = seq[self.start:self.stop]\n",
    "        self.update_description()\n",
    "        \n",
    "    def deep_random_copy(self, n):\n",
    "        seq = self.fetch_seq()\n",
    "        l = []\n",
    "        for i in range(n):\n",
    "            new_item = deepcopy(self)\n",
    "            new_item.synthetize_read(seq)\n",
    "            l.append(new_item)\n",
    "        return l\n",
    "    \n",
    "    def update_description(self):\n",
    "        self.description = self.description_original + f\", synthetic read from this genome (taxid={self.taxon}), \"\\\n",
    "                                                       f\"from nucleotide {self.start} to {self.stop}(len={self.read_len})\"\n",
    "        \n",
    "    def fetch_seq(self):\n",
    "        records = list(SeqIO.parse(self.path, \"fasta\"))\n",
    "        for r in records:\n",
    "            if r.id == self.record_id:\n",
    "                seq = str(r.seq)\n",
    "                break\n",
    "            else:\n",
    "                raise FileNotFoundError(\"File error, couldn't find the right record\")\n",
    "        return seq\n",
    "    \n",
    "    def __repr__(self):\n",
    "        return f\"Synthetic read <{self.object_id}> from {self.genome}, len={self.read_len}, [{self.start}:{self.stop}]\"\n",
    "        \n",
    "    def to_fastq(list_sr, path_fastq):\n",
    "        records = []\n",
    "        for sr in tqdm(list_sr):\n",
    "            records.append(SeqRecord(Seq(sr.read, SingleLetterAlphabet), \n",
    "                                     id=sr.record_id, name=sr.genome, description=sr.description))\n",
    "        with open(path_fastq, \"w\") as f:\n",
    "            SeqIO.write(records, f, \"fasta\")"
   ]
  },
  {
   "cell_type": "markdown",
   "metadata": {},
   "source": [
    "# Create List of SyntReads"
   ]
  },
  {
   "cell_type": "raw",
   "metadata": {
    "scrolled": true
   },
   "source": [
    "df = pd.read_csv(path_ncbi_csv, sep=\"\\t\", )"
   ]
  },
  {
   "cell_type": "code",
   "execution_count": 7,
   "metadata": {},
   "outputs": [],
   "source": [
    "df = pd.read_pickle(path_ncbi_pd)"
   ]
  },
  {
   "cell_type": "raw",
   "metadata": {},
   "source": [
    "df.shape"
   ]
  },
  {
   "cell_type": "raw",
   "metadata": {},
   "source": [
    "df[(df.name_superkingdom == \"Bacteria\") | (df.name_superkingdom == \"Archea\")].shape"
   ]
  },
  {
   "cell_type": "raw",
   "metadata": {},
   "source": [
    "df.sample(2)"
   ]
  },
  {
   "cell_type": "raw",
   "metadata": {},
   "source": [
    "df[(df.type == \"complete genome\") \n",
    "   & ((df.name_superkingdom == \"Bacteria\") \n",
    "      | (df.name_superkingdom == \"Archea\"))].sample(2)  #[[\"taxon_id\", \"taxon_name\", \"rank\"]]"
   ]
  },
  {
   "cell_type": "code",
   "execution_count": 24,
   "metadata": {
    "scrolled": true
   },
   "outputs": [],
   "source": [
    "selected_species = df[(df.type == \"complete genome\") \n",
    "   & (df.length > 1000000) \n",
    "   & ((df.name_superkingdom == \"Bacteria\") \n",
    "      | (df.name_superkingdom == \"Archea\"))].sample(nb_species)[\n",
    "    [\"taxon_id\", \"taxon_name\", \"type\", \"length\", \"record_id\", \"path_folder\", \"path_file\",\n",
    "     \"name_superkingdom\", \"record_description\", \"name_genus\"]]"
   ]
  },
  {
   "cell_type": "code",
   "execution_count": 25,
   "metadata": {
    "scrolled": true
   },
   "outputs": [],
   "source": [
    "selected_species[\"path\"] = selected_species.path_folder.str.cat(selected_species.path_file)\n",
    "selected_species.drop(columns=[\"path_folder\", \"path_file\"], inplace=True)\n",
    "# selected_species"
   ]
  },
  {
   "cell_type": "code",
   "execution_count": 15,
   "metadata": {
    "scrolled": true
   },
   "outputs": [
    {
     "data": {
      "application/vnd.jupyter.widget-view+json": {
       "model_id": "381588dc75364fa3a4c6295caca93f5e",
       "version_major": 2,
       "version_minor": 0
      },
      "text/plain": [
       "HBox(children=(IntProgress(value=1, bar_style='info', max=1), HTML(value='')))"
      ]
     },
     "metadata": {},
     "output_type": "display_data"
    },
    {
     "name": "stdout",
     "output_type": "stream",
     "text": [
      "Synthetic read <0> from Escherichia coli, len=4645, [1142671:1147316]\n",
      "Synthetic read <1> from Rhodococcus jostii RHA1, len=4645, [2558539:2563184]\n",
      "Synthetic read <2> from Niastella koreensis GR20-10, len=4645, [8738494:8743139]\n",
      "Synthetic read <3> from Sutterella megalosphaeroides, len=4645, [2230423:2235068]\n",
      "Synthetic read <4> from Yersinia pestis, len=4645, [1792923:1797568]\n",
      "Synthetic read <5> from Enterobacter cloacae, len=4645, [4360552:4365197]\n",
      "Synthetic read <6> from Rhodobacter capsulatus SB 1003, len=4645, [1070549:1075194]\n",
      "Synthetic read <7> from Bordetella pertussis, len=4645, [2221566:2226211]\n",
      "Synthetic read <8> from Octadecabacter antarcticus 307, len=4645, [2033027:2037672]\n",
      "Synthetic read <9> from Haemophilus parainfluenzae T3T1, len=4645, [1044641:1049286]\n",
      "Synthetic read <10> from Elizabethkingia meningoseptica, len=4645, [779011:783656]\n",
      "Synthetic read <11> from Klebsiella michiganensis, len=4645, [626472:631117]\n",
      "Synthetic read <12> from Staphylococcus aureus, len=4645, [2423534:2428179]\n",
      "Synthetic read <13> from Bordetella pertussis, len=4645, [3745598:3750243]\n",
      "Synthetic read <14> from Helicobacter pylori 51, len=4645, [1202626:1207271]\n",
      "Synthetic read <15> from Cytophaga hutchinsonii ATCC 33406, len=4645, [4282860:4287505]\n",
      "Synthetic read <16> from Sphingomonas sp. JJ-A5, len=4645, [1406269:1410914]\n",
      "Synthetic read <17> from Bordetella pertussis, len=4645, [2922365:2927010]\n",
      "Synthetic read <18> from Escherichia coli, len=4645, [4427494:4432139]\n",
      "Synthetic read <19> from Acinetobacter baumannii, len=4645, [1600279:1604924]\n",
      "\n"
     ]
    }
   ],
   "source": [
    "seeds = []\n",
    "for row in tqdm(selected_species.itertuples()):\n",
    "#     print(row.taxon_id)\n",
    "    #  record_id, taxon, what, s_kingdom, folder, file    row[\"type\"]\n",
    "    #  record_id, taxon, genome, what, s_kingdom, path_complete, description\n",
    "    sr = SyntRead(row.record_id, row.taxon_id, row.taxon_name, row.type, row.name_superkingdom, row.path, row.record_description)\n",
    "    sr.synthetize_read()\n",
    "    print(sr)\n",
    "    seeds.append(sr)"
   ]
  },
  {
   "cell_type": "code",
   "execution_count": 16,
   "metadata": {},
   "outputs": [
    {
     "data": {
      "application/vnd.jupyter.widget-view+json": {
       "model_id": "bdc6765241e943f99700dbe467294d57",
       "version_major": 2,
       "version_minor": 0
      },
      "text/plain": [
       "HBox(children=(IntProgress(value=0, max=20), HTML(value='')))"
      ]
     },
     "metadata": {},
     "output_type": "display_data"
    },
    {
     "name": "stdout",
     "output_type": "stream",
     "text": [
      "\n"
     ]
    }
   ],
   "source": [
    "synt_reads = []\n",
    "for seed in tqdm(seeds):\n",
    "    synt_reads.extend([seed] + seed.deep_random_copy(int(nb_reads/nb_species) -1))"
   ]
  },
  {
   "cell_type": "code",
   "execution_count": 18,
   "metadata": {},
   "outputs": [
    {
     "data": {
      "application/vnd.jupyter.widget-view+json": {
       "model_id": "d2793b6004ad4365809a710a1dc5b8bd",
       "version_major": 2,
       "version_minor": 0
      },
      "text/plain": [
       "HBox(children=(IntProgress(value=0, max=100000), HTML(value='')))"
      ]
     },
     "metadata": {},
     "output_type": "display_data"
    },
    {
     "name": "stdout",
     "output_type": "stream",
     "text": [
      "\n"
     ]
    }
   ],
   "source": [
    "path_out_syntreads = f\"/home/ubuntu/Data/Segmentation/Test-Data/Synthetic_from_Genomes/\" \\\n",
    "                     f\"2019-11-22_{nb_reads}-SyntReads_{nb_species}-BacArc.fastq\"\n",
    "SyntRead.to_fastq(synt_reads, path_out_syntreads)\n",
    "print(\"output at: \", path_out_syntreads)"
   ]
  },
  {
   "cell_type": "code",
   "execution_count": null,
   "metadata": {},
   "outputs": [],
   "source": []
  },
  {
   "cell_type": "markdown",
   "metadata": {},
   "source": [
    "# End"
   ]
  },
  {
   "cell_type": "raw",
   "metadata": {},
   "source": [
    "from ete3 import NCBITaxa\n",
    "ncbi = NCBITaxa()\n",
    "\n",
    "ncbi.get_fuzzy_name_translation(\"Clostridioides difficile\")\n",
    "\n",
    "ncbi.get_name_translator([\"Clostridioides difficile\"])"
   ]
  },
  {
   "cell_type": "code",
   "execution_count": 79,
   "metadata": {
    "scrolled": true
   },
   "outputs": [
    {
     "data": {
      "text/plain": [
       "'461.5 MB'"
      ]
     },
     "execution_count": 79,
     "metadata": {},
     "output_type": "execute_result"
    }
   ],
   "source": [
    "# df.info(memory_usage='deep')\n",
    "f\"{df.memory_usage(deep=True).sum()/1000000:.1f} MB\""
   ]
  },
  {
   "cell_type": "code",
   "execution_count": 39,
   "metadata": {},
   "outputs": [],
   "source": [
    "pd.set_option('display.max_columns', 50)\n",
    "pd.set_option('display.max_colwidth', 500)"
   ]
  },
  {
   "cell_type": "code",
   "execution_count": 76,
   "metadata": {
    "scrolled": true
   },
   "outputs": [
    {
     "data": {
      "text/html": [
       "<div>\n",
       "<style scoped>\n",
       "    .dataframe tbody tr th:only-of-type {\n",
       "        vertical-align: middle;\n",
       "    }\n",
       "\n",
       "    .dataframe tbody tr th {\n",
       "        vertical-align: top;\n",
       "    }\n",
       "\n",
       "    .dataframe thead th {\n",
       "        text-align: right;\n",
       "    }\n",
       "</style>\n",
       "<table border=\"1\" class=\"dataframe\">\n",
       "  <thead>\n",
       "    <tr style=\"text-align: right;\">\n",
       "      <th></th>\n",
       "      <th>record_description</th>\n",
       "      <th>length</th>\n",
       "    </tr>\n",
       "  </thead>\n",
       "  <tbody>\n",
       "    <tr>\n",
       "      <th>27</th>\n",
       "      <td>NC_005791.1 Methanococcus maripaludis strain S2, complete sequence</td>\n",
       "      <td>1661137</td>\n",
       "    </tr>\n",
       "    <tr>\n",
       "      <th>236</th>\n",
       "      <td>NC_023044.1 Methanobacterium sp. MB1 complete sequence</td>\n",
       "      <td>2029766</td>\n",
       "    </tr>\n",
       "    <tr>\n",
       "      <th>249</th>\n",
       "      <td>NZ_CP007551.1 Haloferax mediterranei ATCC 33500 genome</td>\n",
       "      <td>2946877</td>\n",
       "    </tr>\n",
       "    <tr>\n",
       "      <th>257</th>\n",
       "      <td>NZ_CP008822.1 Metallosphaera sedula strain CuR1 genome</td>\n",
       "      <td>2191492</td>\n",
       "    </tr>\n",
       "    <tr>\n",
       "      <th>327</th>\n",
       "      <td>NZ_CP013695.1 Sulfolobus acidocaldarius strain NG05B_CO5_07 genome</td>\n",
       "      <td>2217426</td>\n",
       "    </tr>\n",
       "    <tr>\n",
       "      <th>356</th>\n",
       "      <td>NZ_CP019470.1 Methanopyrus sp. KOL6 genome</td>\n",
       "      <td>1430309</td>\n",
       "    </tr>\n",
       "    <tr>\n",
       "      <th>368</th>\n",
       "      <td>NZ_CP015193.1 Complete genome sequence of Thermococcus chitonophagus type strain GC74</td>\n",
       "      <td>1961979</td>\n",
       "    </tr>\n",
       "    <tr>\n",
       "      <th>379</th>\n",
       "      <td>NZ_CP017881.1 Methanohalophilus portucalensis strain FDF-1T genome</td>\n",
       "      <td>2084975</td>\n",
       "    </tr>\n",
       "    <tr>\n",
       "      <th>525</th>\n",
       "      <td>NC_002655.2 Escherichia coli O157:H7 str. EDL933 genome</td>\n",
       "      <td>5528445</td>\n",
       "    </tr>\n",
       "    <tr>\n",
       "      <th>595</th>\n",
       "      <td>NC_002940.2 [Haemophilus] ducreyi 35000HP, complete sequence</td>\n",
       "      <td>1698955</td>\n",
       "    </tr>\n",
       "    <tr>\n",
       "      <th>879</th>\n",
       "      <td>NC_002491.1 Chlamydophila pneumoniae J138 genomic DNA, complete sequence</td>\n",
       "      <td>1226565</td>\n",
       "    </tr>\n",
       "    <tr>\n",
       "      <th>1131</th>\n",
       "      <td>NC_008697.1 Nocardioides sp. JS614, complete sequence</td>\n",
       "      <td>307814</td>\n",
       "    </tr>\n",
       "    <tr>\n",
       "      <th>1152</th>\n",
       "      <td>NC_008787.1 Campylobacter jejuni subsp. jejuni 81-176, complete sequence</td>\n",
       "      <td>1616554</td>\n",
       "    </tr>\n",
       "    <tr>\n",
       "      <th>1167</th>\n",
       "      <td>NC_009012.1 Hungateiclostridium thermocellum ATCC 27405, complete sequence</td>\n",
       "      <td>3843301</td>\n",
       "    </tr>\n",
       "    <tr>\n",
       "      <th>1314</th>\n",
       "      <td>NC_009848.4 Bacillus pumilus SAFR-032, complete sequence</td>\n",
       "      <td>3704641</td>\n",
       "    </tr>\n",
       "    <tr>\n",
       "      <th>1358</th>\n",
       "      <td>NC_009976.1 Prochlorococcus marinus str. MIT 9211 genome</td>\n",
       "      <td>1688963</td>\n",
       "    </tr>\n",
       "    <tr>\n",
       "      <th>1583</th>\n",
       "      <td>NC_012751.1 Candidatus Hamiltonella defensa 5AT (Acyrthosiphon pisum) genome</td>\n",
       "      <td>2110331</td>\n",
       "    </tr>\n",
       "    <tr>\n",
       "      <th>1614</th>\n",
       "      <td>NC_011898.1 Ruminiclostridium cellulolyticum H10, complete sequence</td>\n",
       "      <td>4068724</td>\n",
       "    </tr>\n",
       "    <tr>\n",
       "      <th>1762</th>\n",
       "      <td>NC_013412.1 Geobacillus sp. Y412MC61, complete sequence</td>\n",
       "      <td>45057</td>\n",
       "    </tr>\n",
       "    <tr>\n",
       "      <th>1829</th>\n",
       "      <td>NC_009445.1 Bradyrhizobium sp. ORS278,complete sequence</td>\n",
       "      <td>7456587</td>\n",
       "    </tr>\n",
       "    <tr>\n",
       "      <th>1878</th>\n",
       "      <td>NC_013971.1 Erwinia amylovora ATCC 49946 chromosomal sequence</td>\n",
       "      <td>3805874</td>\n",
       "    </tr>\n",
       "    <tr>\n",
       "      <th>1894</th>\n",
       "      <td>NC_006155.1 Yersinia pseudotuberculosis IP32953 genome, complete sequence</td>\n",
       "      <td>4744671</td>\n",
       "    </tr>\n",
       "    <tr>\n",
       "      <th>1907</th>\n",
       "      <td>NC_008571.1 Gramella forsetii KT0803 complete circular genome</td>\n",
       "      <td>3798465</td>\n",
       "    </tr>\n",
       "    <tr>\n",
       "      <th>1908</th>\n",
       "      <td>NC_009482.1 Synechococcus sp. RCC307 genomic DNA sequence</td>\n",
       "      <td>2224914</td>\n",
       "    </tr>\n",
       "    <tr>\n",
       "      <th>2063</th>\n",
       "      <td>NC_020449.1 Candidatus Cloacamonas acidaminovorans str. Evry provisional genome sequence from WWE1 candidate division</td>\n",
       "      <td>2246820</td>\n",
       "    </tr>\n",
       "    <tr>\n",
       "      <th>2668</th>\n",
       "      <td>NC_017304.1 Hungateiclostridium thermocellum DSM 1313, complete sequence</td>\n",
       "      <td>3561619</td>\n",
       "    </tr>\n",
       "    <tr>\n",
       "      <th>2955</th>\n",
       "      <td>NC_014810.2 Helicobacter felis ATCC 49179 genome</td>\n",
       "      <td>1672681</td>\n",
       "    </tr>\n",
       "    <tr>\n",
       "      <th>2983</th>\n",
       "      <td>NC_014000.1 Anabaena variabilis ATCC 29413 incision element, complete sequence</td>\n",
       "      <td>37151</td>\n",
       "    </tr>\n",
       "    <tr>\n",
       "      <th>3010</th>\n",
       "      <td>NC_021021.1 Gordonibacter pamelaeae 7-10-1-b draft genome</td>\n",
       "      <td>3608022</td>\n",
       "    </tr>\n",
       "    <tr>\n",
       "      <th>3011</th>\n",
       "      <td>NC_021039.1 Ruminococcus champanellensis type strain 18P13T draft genome</td>\n",
       "      <td>2573208</td>\n",
       "    </tr>\n",
       "    <tr>\n",
       "      <th>...</th>\n",
       "      <td>...</td>\n",
       "      <td>...</td>\n",
       "    </tr>\n",
       "    <tr>\n",
       "      <th>17949</th>\n",
       "      <td>NZ_CP023266.1 Helicobacter pylori strain 7.13_2 genome</td>\n",
       "      <td>1674214</td>\n",
       "    </tr>\n",
       "    <tr>\n",
       "      <th>17950</th>\n",
       "      <td>NZ_CP023267.1 Helicobacter pylori strain 7.13_1 genome</td>\n",
       "      <td>1674115</td>\n",
       "    </tr>\n",
       "    <tr>\n",
       "      <th>18137</th>\n",
       "      <td>NZ_CP014331.1 Clostridium sp. MF28, genome</td>\n",
       "      <td>6148198</td>\n",
       "    </tr>\n",
       "    <tr>\n",
       "      <th>18982</th>\n",
       "      <td>NZ_CP022390.1 Alcaligenes aquatilis strain BU33N genome</td>\n",
       "      <td>3838399</td>\n",
       "    </tr>\n",
       "    <tr>\n",
       "      <th>18987</th>\n",
       "      <td>NZ_CP021113.1 Treponema pallidum subsp. pertenue strain LMNP-1 genome sequence</td>\n",
       "      <td>1139772</td>\n",
       "    </tr>\n",
       "    <tr>\n",
       "      <th>19054</th>\n",
       "      <td>NZ_CP010405.1 Bacillus safensis FO-36b genome</td>\n",
       "      <td>3766664</td>\n",
       "    </tr>\n",
       "    <tr>\n",
       "      <th>19396</th>\n",
       "      <td>NZ_CP021349.1 Staphylococcus aureus strain 080880048-3 genome</td>\n",
       "      <td>2781362</td>\n",
       "    </tr>\n",
       "    <tr>\n",
       "      <th>19407</th>\n",
       "      <td>NZ_CP021350.1 Staphylococcus aureus strain 101110051-1 genome</td>\n",
       "      <td>2788812</td>\n",
       "    </tr>\n",
       "    <tr>\n",
       "      <th>19408</th>\n",
       "      <td>NZ_CP021351.1 Staphylococcus aureus strain 101110041-3 genome</td>\n",
       "      <td>2773442</td>\n",
       "    </tr>\n",
       "    <tr>\n",
       "      <th>19409</th>\n",
       "      <td>NZ_CP021352.1 Staphylococcus aureus strain 0201753-2 genome</td>\n",
       "      <td>2870488</td>\n",
       "    </tr>\n",
       "    <tr>\n",
       "      <th>19410</th>\n",
       "      <td>NZ_CP021353.1 Staphylococcus aureus strain 121560027-1 genome</td>\n",
       "      <td>2818490</td>\n",
       "    </tr>\n",
       "    <tr>\n",
       "      <th>19763</th>\n",
       "      <td>NZ_CP022199.1 Achromobacter insolitus strain AB2 genome</td>\n",
       "      <td>6438278</td>\n",
       "    </tr>\n",
       "    <tr>\n",
       "      <th>19764</th>\n",
       "      <td>NZ_CP022162.1 Microbacterium sp. PM5 genome</td>\n",
       "      <td>3158783</td>\n",
       "    </tr>\n",
       "    <tr>\n",
       "      <th>19845</th>\n",
       "      <td>NZ_CP016437.1 Hyphomonas sp. CACIAM 19H1 genome</td>\n",
       "      <td>4080747</td>\n",
       "    </tr>\n",
       "    <tr>\n",
       "      <th>20027</th>\n",
       "      <td>NZ_CP022313.1 Pseudomonas fluorescens strain NEP1 genome</td>\n",
       "      <td>6313875</td>\n",
       "    </tr>\n",
       "    <tr>\n",
       "      <th>20391</th>\n",
       "      <td>NZ_CP008879.1 Flavobacterium psychrophilum strain V1-20 genome</td>\n",
       "      <td>2699630</td>\n",
       "    </tr>\n",
       "    <tr>\n",
       "      <th>20392</th>\n",
       "      <td>NZ_CP008880.1 Flavobacterium psychrophilum strain V2-20 genome</td>\n",
       "      <td>2692540</td>\n",
       "    </tr>\n",
       "    <tr>\n",
       "      <th>20393</th>\n",
       "      <td>NZ_CP008882.1 Flavobacterium psychrophilum strain V4-28 genome</td>\n",
       "      <td>2697393</td>\n",
       "    </tr>\n",
       "    <tr>\n",
       "      <th>20671</th>\n",
       "      <td>NZ_CP012901.1 Pseudomonas aeruginosa strain N15-01092, complete sequence</td>\n",
       "      <td>6972899</td>\n",
       "    </tr>\n",
       "    <tr>\n",
       "      <th>20853</th>\n",
       "      <td>NZ_CP014381.1 Staphylococcus aureus strain USA300-SUR6</td>\n",
       "      <td>2919719</td>\n",
       "    </tr>\n",
       "    <tr>\n",
       "      <th>20859</th>\n",
       "      <td>NZ_CP014387.1 Staphylococcus aureus strain USA300-SUR8</td>\n",
       "      <td>2918010</td>\n",
       "    </tr>\n",
       "    <tr>\n",
       "      <th>20968</th>\n",
       "      <td>NZ_CP024811.1 Halomonas alkaliphila X3, complete sequence</td>\n",
       "      <td>4029514</td>\n",
       "    </tr>\n",
       "    <tr>\n",
       "      <th>22113</th>\n",
       "      <td>NZ_CP034429.1 Pseudomonas aeruginosa strain GIMC5015:PAKB6, complete sequence</td>\n",
       "      <td>6258491</td>\n",
       "    </tr>\n",
       "    <tr>\n",
       "      <th>22312</th>\n",
       "      <td>NZ_CP016430.1 Wolbachia endosymbiont of Bemisia tabaci strain China 1 genome</td>\n",
       "      <td>1306495</td>\n",
       "    </tr>\n",
       "    <tr>\n",
       "      <th>22352</th>\n",
       "      <td>NZ_CP034430.1 Pseudomonas aeruginosa strain GIMC5016:PA1840, complete sequence</td>\n",
       "      <td>6750271</td>\n",
       "    </tr>\n",
       "    <tr>\n",
       "      <th>27525</th>\n",
       "      <td>NW_001884665.1 Aspergillus oryzae RIB40 DNA, 47Q_0155</td>\n",
       "      <td>6938</td>\n",
       "    </tr>\n",
       "    <tr>\n",
       "      <th>27526</th>\n",
       "      <td>NW_001884669.1 Aspergillus oryzae RIB40 DNA, 47Q_0173</td>\n",
       "      <td>18226</td>\n",
       "    </tr>\n",
       "    <tr>\n",
       "      <th>27527</th>\n",
       "      <td>NW_001884683.1 Aspergillus oryzae RIB40 DNA, Q47Con0163</td>\n",
       "      <td>8921</td>\n",
       "    </tr>\n",
       "    <tr>\n",
       "      <th>28431</th>\n",
       "      <td>NW_020311997.1 Fusarium venenatum strain A3/5 genome assembly, organelle: mitochondrion</td>\n",
       "      <td>78612</td>\n",
       "    </tr>\n",
       "    <tr>\n",
       "      <th>43302</th>\n",
       "      <td>NW_003101688.1 Caenorhabditis briggsae strain AF16</td>\n",
       "      <td>7311690</td>\n",
       "    </tr>\n",
       "  </tbody>\n",
       "</table>\n",
       "<p>392 rows × 2 columns</p>\n",
       "</div>"
      ],
      "text/plain": [
       "                                                                                                          record_description   length\n",
       "27                                                        NC_005791.1 Methanococcus maripaludis strain S2, complete sequence  1661137\n",
       "236                                                                   NC_023044.1 Methanobacterium sp. MB1 complete sequence  2029766\n",
       "249                                                                   NZ_CP007551.1 Haloferax mediterranei ATCC 33500 genome  2946877\n",
       "257                                                                   NZ_CP008822.1 Metallosphaera sedula strain CuR1 genome  2191492\n",
       "327                                                       NZ_CP013695.1 Sulfolobus acidocaldarius strain NG05B_CO5_07 genome  2217426\n",
       "356                                                                               NZ_CP019470.1 Methanopyrus sp. KOL6 genome  1430309\n",
       "368                                    NZ_CP015193.1 Complete genome sequence of Thermococcus chitonophagus type strain GC74  1961979\n",
       "379                                                       NZ_CP017881.1 Methanohalophilus portucalensis strain FDF-1T genome  2084975\n",
       "525                                                                  NC_002655.2 Escherichia coli O157:H7 str. EDL933 genome  5528445\n",
       "595                                                             NC_002940.2 [Haemophilus] ducreyi 35000HP, complete sequence  1698955\n",
       "879                                                 NC_002491.1 Chlamydophila pneumoniae J138 genomic DNA, complete sequence  1226565\n",
       "1131                                                                   NC_008697.1 Nocardioides sp. JS614, complete sequence   307814\n",
       "1152                                                NC_008787.1 Campylobacter jejuni subsp. jejuni 81-176, complete sequence  1616554\n",
       "1167                                              NC_009012.1 Hungateiclostridium thermocellum ATCC 27405, complete sequence  3843301\n",
       "1314                                                                NC_009848.4 Bacillus pumilus SAFR-032, complete sequence  3704641\n",
       "1358                                                                NC_009976.1 Prochlorococcus marinus str. MIT 9211 genome  1688963\n",
       "1583                                            NC_012751.1 Candidatus Hamiltonella defensa 5AT (Acyrthosiphon pisum) genome  2110331\n",
       "1614                                                     NC_011898.1 Ruminiclostridium cellulolyticum H10, complete sequence  4068724\n",
       "1762                                                                 NC_013412.1 Geobacillus sp. Y412MC61, complete sequence    45057\n",
       "1829                                                                 NC_009445.1 Bradyrhizobium sp. ORS278,complete sequence  7456587\n",
       "1878                                                           NC_013971.1 Erwinia amylovora ATCC 49946 chromosomal sequence  3805874\n",
       "1894                                               NC_006155.1 Yersinia pseudotuberculosis IP32953 genome, complete sequence  4744671\n",
       "1907                                                           NC_008571.1 Gramella forsetii KT0803 complete circular genome  3798465\n",
       "1908                                                               NC_009482.1 Synechococcus sp. RCC307 genomic DNA sequence  2224914\n",
       "2063   NC_020449.1 Candidatus Cloacamonas acidaminovorans str. Evry provisional genome sequence from WWE1 candidate division  2246820\n",
       "2668                                                NC_017304.1 Hungateiclostridium thermocellum DSM 1313, complete sequence  3561619\n",
       "2955                                                                        NC_014810.2 Helicobacter felis ATCC 49179 genome  1672681\n",
       "2983                                          NC_014000.1 Anabaena variabilis ATCC 29413 incision element, complete sequence    37151\n",
       "3010                                                               NC_021021.1 Gordonibacter pamelaeae 7-10-1-b draft genome  3608022\n",
       "3011                                                NC_021039.1 Ruminococcus champanellensis type strain 18P13T draft genome  2573208\n",
       "...                                                                                                                      ...      ...\n",
       "17949                                                                 NZ_CP023266.1 Helicobacter pylori strain 7.13_2 genome  1674214\n",
       "17950                                                                 NZ_CP023267.1 Helicobacter pylori strain 7.13_1 genome  1674115\n",
       "18137                                                                             NZ_CP014331.1 Clostridium sp. MF28, genome  6148198\n",
       "18982                                                                NZ_CP022390.1 Alcaligenes aquatilis strain BU33N genome  3838399\n",
       "18987                                         NZ_CP021113.1 Treponema pallidum subsp. pertenue strain LMNP-1 genome sequence  1139772\n",
       "19054                                                                          NZ_CP010405.1 Bacillus safensis FO-36b genome  3766664\n",
       "19396                                                          NZ_CP021349.1 Staphylococcus aureus strain 080880048-3 genome  2781362\n",
       "19407                                                          NZ_CP021350.1 Staphylococcus aureus strain 101110051-1 genome  2788812\n",
       "19408                                                          NZ_CP021351.1 Staphylococcus aureus strain 101110041-3 genome  2773442\n",
       "19409                                                            NZ_CP021352.1 Staphylococcus aureus strain 0201753-2 genome  2870488\n",
       "19410                                                          NZ_CP021353.1 Staphylococcus aureus strain 121560027-1 genome  2818490\n",
       "19763                                                                NZ_CP022199.1 Achromobacter insolitus strain AB2 genome  6438278\n",
       "19764                                                                            NZ_CP022162.1 Microbacterium sp. PM5 genome  3158783\n",
       "19845                                                                        NZ_CP016437.1 Hyphomonas sp. CACIAM 19H1 genome  4080747\n",
       "20027                                                               NZ_CP022313.1 Pseudomonas fluorescens strain NEP1 genome  6313875\n",
       "20391                                                         NZ_CP008879.1 Flavobacterium psychrophilum strain V1-20 genome  2699630\n",
       "20392                                                         NZ_CP008880.1 Flavobacterium psychrophilum strain V2-20 genome  2692540\n",
       "20393                                                         NZ_CP008882.1 Flavobacterium psychrophilum strain V4-28 genome  2697393\n",
       "20671                                               NZ_CP012901.1 Pseudomonas aeruginosa strain N15-01092, complete sequence  6972899\n",
       "20853                                                                 NZ_CP014381.1 Staphylococcus aureus strain USA300-SUR6  2919719\n",
       "20859                                                                 NZ_CP014387.1 Staphylococcus aureus strain USA300-SUR8  2918010\n",
       "20968                                                              NZ_CP024811.1 Halomonas alkaliphila X3, complete sequence  4029514\n",
       "22113                                          NZ_CP034429.1 Pseudomonas aeruginosa strain GIMC5015:PAKB6, complete sequence  6258491\n",
       "22312                                           NZ_CP016430.1 Wolbachia endosymbiont of Bemisia tabaci strain China 1 genome  1306495\n",
       "22352                                         NZ_CP034430.1 Pseudomonas aeruginosa strain GIMC5016:PA1840, complete sequence  6750271\n",
       "27525                                                                  NW_001884665.1 Aspergillus oryzae RIB40 DNA, 47Q_0155     6938\n",
       "27526                                                                  NW_001884669.1 Aspergillus oryzae RIB40 DNA, 47Q_0173    18226\n",
       "27527                                                                NW_001884683.1 Aspergillus oryzae RIB40 DNA, Q47Con0163     8921\n",
       "28431                                NW_020311997.1 Fusarium venenatum strain A3/5 genome assembly, organelle: mitochondrion    78612\n",
       "43302                                                                     NW_003101688.1 Caenorhabditis briggsae strain AF16  7311690\n",
       "\n",
       "[392 rows x 2 columns]"
      ]
     },
     "execution_count": 76,
     "metadata": {},
     "output_type": "execute_result"
    }
   ],
   "source": [
    "df[(df[\"type\"] == \"undefined\") \n",
    "   & ~(df.record_description.str.lower().str.contains(\"drosophila melanogaster\")) \n",
    "   & ~(df.record_description.str.lower().str.contains(\"plasmid\")) \n",
    "   & ~(df.record_description.str.lower().str.contains(\"scaffold\")) \n",
    "   & ~(df.record_description.str.lower().str.contains(\"whole genome shotgun sequence\")) \n",
    "   & ~(df.record_description.str.lower().str.contains(\"contig\"))][[\"record_description\", \"length\"]] "
   ]
  },
  {
   "cell_type": "code",
   "execution_count": 80,
   "metadata": {},
   "outputs": [
    {
     "data": {
      "text/plain": [
       "(360393, 25)"
      ]
     },
     "execution_count": 80,
     "metadata": {},
     "output_type": "execute_result"
    }
   ],
   "source": [
    "df.shape"
   ]
  },
  {
   "cell_type": "code",
   "execution_count": 83,
   "metadata": {},
   "outputs": [
    {
     "name": "stdout",
     "output_type": "stream",
     "text": [
      "id_superkingdom\n",
      "id_kingdom\n",
      "id_phylum\n",
      "id_class\n",
      "id_order\n",
      "id_family\n",
      "id_genus\n",
      "id_species\n"
     ]
    },
    {
     "data": {
      "text/plain": [
       "'461.5 MB'"
      ]
     },
     "execution_count": 83,
     "metadata": {},
     "output_type": "execute_result"
    }
   ],
   "source": [
    "for col in df.columns:\n",
    "    if \"id_\" in col:\n",
    "        print(col)\n",
    "        df[col].fillna(0, inplace=True)\n",
    "        df[col] = df[col].astype(int)"
   ]
  },
  {
   "cell_type": "code",
   "execution_count": 84,
   "metadata": {},
   "outputs": [
    {
     "data": {
      "application/vnd.jupyter.widget-view+json": {
       "model_id": "",
       "version_major": 2,
       "version_minor": 0
      },
      "text/plain": [
       "HBox(children=(IntProgress(value=0, max=19), HTML(value='')))"
      ]
     },
     "metadata": {},
     "output_type": "display_data"
    },
    {
     "name": "stdout",
     "output_type": "stream",
     "text": [
      "\n",
      "179.7 MB\n"
     ]
    }
   ],
   "source": [
    "col_categories = ['rank', 'type', 'path_folder', \n",
    "                  'id_superkingdom', 'name_superkingdom', 'id_kingdom', 'name_kingdom', 'id_phylum', 'name_phylum', \n",
    "                  'id_class', 'name_class', 'id_order', 'name_order', 'id_family', 'name_family', \n",
    "                  'id_genus', 'name_genus', 'id_species', 'name_species']\n",
    "\n",
    "for col in tqdm(col_categories):\n",
    "    df[col] = df[col].astype('category')\n",
    "print(f\"{df.memory_usage(deep=True).sum()/1000000:.1f} MB\")"
   ]
  },
  {
   "cell_type": "code",
   "execution_count": null,
   "metadata": {},
   "outputs": [],
   "source": []
  },
  {
   "cell_type": "code",
   "execution_count": null,
   "metadata": {},
   "outputs": [],
   "source": []
  },
  {
   "cell_type": "code",
   "execution_count": 6,
   "metadata": {
    "scrolled": true
   },
   "outputs": [
    {
     "data": {
      "text/plain": [
       "['taxon_id',\n",
       " 'taxon_name',\n",
       " 'rank',\n",
       " 'type',\n",
       " 'length',\n",
       " 'record_id',\n",
       " 'record_description',\n",
       " 'path_folder',\n",
       " 'path_file',\n",
       " 'id_superkingdom',\n",
       " 'name_superkingdom',\n",
       " 'id_kingdom',\n",
       " 'name_kingdom',\n",
       " 'id_phylum',\n",
       " 'name_phylum',\n",
       " 'id_class',\n",
       " 'name_class',\n",
       " 'id_order',\n",
       " 'name_order',\n",
       " 'id_family',\n",
       " 'name_family',\n",
       " 'id_genus',\n",
       " 'name_genus',\n",
       " 'id_species',\n",
       " 'name_species']"
      ]
     },
     "execution_count": 6,
     "metadata": {},
     "output_type": "execute_result"
    }
   ],
   "source": [
    "desired_ranks = ['superkingdom', 'kingdom', 'phylum', 'class', 'order', 'family', 'genus', 'species']\n",
    "headers = [\"taxon_id\", \"taxon_name\", \"rank\", \"type\", \"length\", \n",
    "           \"record_id\", \"record_description\", \"path_folder\", \"path_file\", ]\n",
    "[headers.extend([f\"id_{v}\", f\"name_{v}\"]) for v in desired_ranks]\n",
    "headers"
   ]
  },
  {
   "cell_type": "markdown",
   "metadata": {},
   "source": [
    "# Read the csv and transform to pandas, plus column dtype conversion"
   ]
  },
  {
   "cell_type": "markdown",
   "metadata": {},
   "source": [
    "Might take a while if file is big..."
   ]
  },
  {
   "cell_type": "code",
   "execution_count": null,
   "metadata": {},
   "outputs": [],
   "source": []
  },
  {
   "cell_type": "code",
   "execution_count": null,
   "metadata": {},
   "outputs": [],
   "source": []
  },
  {
   "cell_type": "markdown",
   "metadata": {},
   "source": [
    "# End"
   ]
  },
  {
   "cell_type": "code",
   "execution_count": 144,
   "metadata": {},
   "outputs": [],
   "source": [
    "path_file = \"/home/ubuntu/Disks/HDD1000/NCBI/20190704/refseq/bacteria/GCF_000006845.1/GCF_000006845.1_ASM684v1_genomic.fna\""
   ]
  },
  {
   "cell_type": "code",
   "execution_count": 150,
   "metadata": {},
   "outputs": [],
   "source": [
    "record = SeqIO.parse(path_file, \"fasta\")"
   ]
  },
  {
   "cell_type": "code",
   "execution_count": 151,
   "metadata": {
    "scrolled": true
   },
   "outputs": [
    {
     "data": {
      "text/plain": [
       "SeqRecord(seq=Seq('ATAAATTTTTGCACGGGTTGTGGATAAAATATCGGCGAGTCGGTATAATCGGTT...TGG', SingleLetterAlphabet()), id='NC_002946.2', name='NC_002946.2', description='NC_002946.2 Neisseria gonorrhoeae FA 1090 chromosome, complete genome', dbxrefs=[])"
      ]
     },
     "execution_count": 151,
     "metadata": {},
     "output_type": "execute_result"
    }
   ],
   "source": [
    "r = next(record)\n",
    "r"
   ]
  },
  {
   "cell_type": "code",
   "execution_count": 59,
   "metadata": {},
   "outputs": [
    {
     "data": {
      "text/plain": [
       "1936387"
      ]
     },
     "execution_count": 59,
     "metadata": {},
     "output_type": "execute_result"
    }
   ],
   "source": [
    "len(record.seq)"
   ]
  },
  {
   "cell_type": "code",
   "execution_count": 85,
   "metadata": {},
   "outputs": [
    {
     "data": {
      "text/plain": [
       "Seq('AATTTAAAGATTAAAATTAGTAGACTGTCGATTTACAATATCATATTTATGAGT...TAA', SingleLetterAlphabet())"
      ]
     },
     "execution_count": 85,
     "metadata": {},
     "output_type": "execute_result"
    }
   ],
   "source": [
    "record.seq.upper()"
   ]
  },
  {
   "cell_type": "code",
   "execution_count": 73,
   "metadata": {},
   "outputs": [
    {
     "name": "stdout",
     "output_type": "stream",
     "text": [
      "ID: NC_014222.1\n",
      "Name: NC_014222.1\n",
      "Description: NC_014222.1 Methanococcus voltae A3, complete genome\n",
      "Number of features: 0\n",
      "Seq('AATTTAAAGATTAAAATTAGTAGACTGTCGATTTACAATATCATATTTATGAGT...TAA', SingleLetterAlphabet())\n"
     ]
    }
   ],
   "source": [
    "print(record)"
   ]
  },
  {
   "cell_type": "code",
   "execution_count": 62,
   "metadata": {
    "scrolled": true
   },
   "outputs": [
    {
     "data": {
      "text/plain": [
       "['__add__',\n",
       " '__bool__',\n",
       " '__class__',\n",
       " '__contains__',\n",
       " '__delattr__',\n",
       " '__dict__',\n",
       " '__dir__',\n",
       " '__doc__',\n",
       " '__eq__',\n",
       " '__format__',\n",
       " '__ge__',\n",
       " '__getattribute__',\n",
       " '__getitem__',\n",
       " '__gt__',\n",
       " '__hash__',\n",
       " '__init__',\n",
       " '__init_subclass__',\n",
       " '__iter__',\n",
       " '__le__',\n",
       " '__le___',\n",
       " '__len__',\n",
       " '__lt__',\n",
       " '__module__',\n",
       " '__ne__',\n",
       " '__new__',\n",
       " '__nonzero__',\n",
       " '__radd__',\n",
       " '__reduce__',\n",
       " '__reduce_ex__',\n",
       " '__repr__',\n",
       " '__setattr__',\n",
       " '__sizeof__',\n",
       " '__str__',\n",
       " '__subclasshook__',\n",
       " '__weakref__',\n",
       " '_per_letter_annotations',\n",
       " '_seq',\n",
       " '_set_per_letter_annotations',\n",
       " '_set_seq',\n",
       " 'annotations',\n",
       " 'dbxrefs',\n",
       " 'description',\n",
       " 'features',\n",
       " 'format',\n",
       " 'id',\n",
       " 'letter_annotations',\n",
       " 'lower',\n",
       " 'name',\n",
       " 'reverse_complement',\n",
       " 'seq',\n",
       " 'translate',\n",
       " 'upper']"
      ]
     },
     "execution_count": 62,
     "metadata": {},
     "output_type": "execute_result"
    }
   ],
   "source": [
    "dir(record)"
   ]
  },
  {
   "cell_type": "code",
   "execution_count": 86,
   "metadata": {
    "scrolled": true
   },
   "outputs": [
    {
     "data": {
      "text/plain": [
       "'NC_014222.1 Methanococcus voltae A3, complete genome'"
      ]
     },
     "execution_count": 86,
     "metadata": {},
     "output_type": "execute_result"
    }
   ],
   "source": [
    "record.description"
   ]
  },
  {
   "cell_type": "code",
   "execution_count": null,
   "metadata": {},
   "outputs": [],
   "source": []
  },
  {
   "cell_type": "code",
   "execution_count": 176,
   "metadata": {
    "scrolled": true
   },
   "outputs": [
    {
     "data": {
      "text/plain": [
       "{'superkingdom_id': 2,\n",
       " 'kingdom_id': 'NaN',\n",
       " 'phylum_id': 'NaN',\n",
       " 'class_id': 'NaN',\n",
       " 'order_id': 'NaN',\n",
       " 'family_id': 'NaN',\n",
       " 'genus_id': 'NaN',\n",
       " 'species_id': 'NaN'}"
      ]
     },
     "execution_count": 176,
     "metadata": {},
     "output_type": "execute_result"
    }
   ],
   "source": [
    "get_desired_ranks(2, desired_ranks)"
   ]
  },
  {
   "cell_type": "code",
   "execution_count": 154,
   "metadata": {},
   "outputs": [
    {
     "data": {
      "text/plain": [
       "[2759, 33208, 7711, 40674, 9443, 9604, 9605, 9606]"
      ]
     },
     "execution_count": 154,
     "metadata": {},
     "output_type": "execute_result"
    }
   ],
   "source": [
    "get_desired_ranks(9606, desired_ranks, tolist=True)"
   ]
  },
  {
   "cell_type": "code",
   "execution_count": 155,
   "metadata": {
    "scrolled": true
   },
   "outputs": [
    {
     "data": {
      "text/plain": [
       "['Eukaryota',\n",
       " 'Metazoa',\n",
       " 'Chordata',\n",
       " 'Mammalia',\n",
       " 'Primates',\n",
       " 'Hominidae',\n",
       " 'Homo',\n",
       " 'Homo sapiens']"
      ]
     },
     "execution_count": 155,
     "metadata": {},
     "output_type": "execute_result"
    }
   ],
   "source": [
    "ncbi.translate_to_names(get_desired_ranks(9606, desired_ranks, tolist=True))"
   ]
  },
  {
   "cell_type": "code",
   "execution_count": 184,
   "metadata": {
    "scrolled": true
   },
   "outputs": [
    {
     "data": {
      "text/plain": [
       "{2: 'Bacteria',\n",
       " 6: 'Azorhizobium',\n",
       " 356: 'Rhizobiales',\n",
       " 1224: 'Proteobacteria',\n",
       " 28211: 'Alphaproteobacteria',\n",
       " 335928: 'Xanthobacteraceae'}"
      ]
     },
     "execution_count": 184,
     "metadata": {},
     "output_type": "execute_result"
    }
   ],
   "source": [
    "ranks_id_str = ncbi.get_taxid_translator(get_desired_ranks(6, desired_ranks, tolist=True))\n",
    "ranks_id_str"
   ]
  },
  {
   "cell_type": "code",
   "execution_count": 185,
   "metadata": {},
   "outputs": [
    {
     "data": {
      "text/plain": [
       "[None, None, None, None, None, None]"
      ]
     },
     "execution_count": 185,
     "metadata": {},
     "output_type": "execute_result"
    }
   ],
   "source": [
    "l=[]\n",
    "[l.extend([k,v]) for k,v in ranks_id_str.items()]"
   ]
  },
  {
   "cell_type": "code",
   "execution_count": 186,
   "metadata": {
    "scrolled": true
   },
   "outputs": [
    {
     "data": {
      "text/plain": [
       "[2,\n",
       " 'Bacteria',\n",
       " 6,\n",
       " 'Azorhizobium',\n",
       " 356,\n",
       " 'Rhizobiales',\n",
       " 1224,\n",
       " 'Proteobacteria',\n",
       " 28211,\n",
       " 'Alphaproteobacteria',\n",
       " 335928,\n",
       " 'Xanthobacteraceae']"
      ]
     },
     "execution_count": 186,
     "metadata": {},
     "output_type": "execute_result"
    }
   ],
   "source": [
    "l"
   ]
  },
  {
   "cell_type": "code",
   "execution_count": null,
   "metadata": {},
   "outputs": [],
   "source": []
  },
  {
   "cell_type": "code",
   "execution_count": null,
   "metadata": {},
   "outputs": [],
   "source": []
  }
 ],
 "metadata": {
  "hide_input": false,
  "kernelspec": {
   "display_name": "Python 3",
   "language": "python",
   "name": "python3"
  },
  "language_info": {
   "codemirror_mode": {
    "name": "ipython",
    "version": 3
   },
   "file_extension": ".py",
   "mimetype": "text/x-python",
   "name": "python",
   "nbconvert_exporter": "python",
   "pygments_lexer": "ipython3",
   "version": "3.7.3"
  },
  "toc": {
   "base_numbering": 1,
   "nav_menu": {},
   "number_sections": true,
   "sideBar": true,
   "skip_h1_title": false,
   "title_cell": "Table of Contents",
   "title_sidebar": "Contents",
   "toc_cell": false,
   "toc_position": {},
   "toc_section_display": true,
   "toc_window_display": false
  },
  "varInspector": {
   "cols": {
    "lenName": 16,
    "lenType": 16,
    "lenVar": 40
   },
   "kernels_config": {
    "python": {
     "delete_cmd_postfix": "",
     "delete_cmd_prefix": "del ",
     "library": "var_list.py",
     "varRefreshCmd": "print(var_dic_list())"
    },
    "r": {
     "delete_cmd_postfix": ") ",
     "delete_cmd_prefix": "rm(",
     "library": "var_list.r",
     "varRefreshCmd": "cat(var_dic_list()) "
    }
   },
   "types_to_exclude": [
    "module",
    "function",
    "builtin_function_or_method",
    "instance",
    "_Feature"
   ],
   "window_display": false
  }
 },
 "nbformat": 4,
 "nbformat_minor": 2
}
