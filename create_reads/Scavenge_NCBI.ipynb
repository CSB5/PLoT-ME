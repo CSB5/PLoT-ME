{
 "cells": [
  {
   "cell_type": "markdown",
   "metadata": {},
   "source": [
    "# Imports, settings and paths"
   ]
  },
  {
   "cell_type": "code",
   "execution_count": 1,
   "metadata": {},
   "outputs": [],
   "source": [
    "import pandas as pd\n",
    "import os\n",
    "import csv\n",
    "import traceback\n",
    "from datetime import datetime"
   ]
  },
  {
   "cell_type": "code",
   "execution_count": 2,
   "metadata": {},
   "outputs": [],
   "source": [
    "from Bio import SeqIO\n",
    "from tqdm import tqdm_notebook as tqdm\n",
    "from ete3 import NCBITaxa"
   ]
  },
  {
   "cell_type": "raw",
   "metadata": {},
   "source": [
    "from synthetize_reads import preprocess_genomes"
   ]
  },
  {
   "cell_type": "code",
   "execution_count": 3,
   "metadata": {},
   "outputs": [],
   "source": [
    "today = f\"{datetime.now():%Y-%m-%d}\"\n",
    "path_ncbi = \"/home/ubuntu/Disks/HDD1000/NCBI/20190704/refseq\"\n",
    "path_scanning_id = \"/home/ubuntu/Disks/HDD1000/NCBI/ncbi_scanning_id.txt\"\n",
    "# path_ncbi_csv = f\"/home/ubuntu/Disks/HDD1000/NCBI/ncbi_{today}.csv\"\n",
    "# path_ncbi_pd = f\"/home/ubuntu/Disks/HDD1000/NCBI/ncbi_{today}.pd\"\n",
    "path_ncbi_csv = f\"/home/ubuntu/Disks/HDD1000/NCBI/ncbi_2019-11-27.csv\"\n",
    "path_ncbi_pd = f\"/home/ubuntu/Disks/HDD1000/NCBI/ncbi_2019-11-27.pd\""
   ]
  },
  {
   "cell_type": "code",
   "execution_count": 4,
   "metadata": {},
   "outputs": [
    {
     "data": {
      "text/plain": [
       "'/home/ubuntu/Disks/HDD1000/NCBI/ncbi_2019-11-27.pd'"
      ]
     },
     "execution_count": 4,
     "metadata": {},
     "output_type": "execute_result"
    }
   ],
   "source": [
    "path_ncbi_pd"
   ]
  },
  {
   "cell_type": "code",
   "execution_count": 5,
   "metadata": {},
   "outputs": [],
   "source": [
    "pd.set_option('display.max_columns', 50)"
   ]
  },
  {
   "cell_type": "code",
   "execution_count": 6,
   "metadata": {},
   "outputs": [],
   "source": [
    "ncbi = NCBITaxa()"
   ]
  },
  {
   "cell_type": "code",
   "execution_count": 7,
   "metadata": {},
   "outputs": [],
   "source": [
    "desired_ranks = ['superkingdom', 'kingdom', 'phylum', 'class', 'order', 'family', 'genus', 'species']"
   ]
  },
  {
   "cell_type": "code",
   "execution_count": 8,
   "metadata": {},
   "outputs": [],
   "source": [
    "def get_desired_ranks(taxid, desired_ranks, tolist=False):\n",
    "    \"\"\" From stackoverflow\n",
    "        https://stackoverflow.com/questions/36503042/how-to-get-taxonomic-specific-ids-for-kingdom-phylum-class-order-family-gen\n",
    "    \"\"\"\n",
    "    try:\n",
    "        lineage = ncbi.get_lineage(taxid)\n",
    "        lineage2ranks = ncbi.get_rank(lineage)\n",
    "        ranks2lineage = dict((rank, taxid) for (taxid, rank) in lineage2ranks.items())\n",
    "        if tolist: return [ranks2lineage.get(rank, 0) for rank in desired_ranks]\n",
    "        else:      return {f'{rank}_id': ranks2lineage.get(rank, 0) for rank in desired_ranks}\n",
    "    except:\n",
    "        print(f\"retrieval of the lineage of {taxid} failed\")\n",
    "        if tolist: return [0 for rank in desired_ranks]\n",
    "        else:      return {f'{rank}_id': 0 for rank in desired_ranks}"
   ]
  },
  {
   "cell_type": "markdown",
   "metadata": {},
   "source": [
    "# Retrieve missing .taxon"
   ]
  },
  {
   "cell_type": "code",
   "execution_count": 9,
   "metadata": {},
   "outputs": [],
   "source": [
    "def retrieve_taxid_from_gff(path_fna, taxo_ext=\"gff\"):\n",
    "    taxo = \"\"\n",
    "    path_taxon = path_fna.replace(\".fna\", \".taxon\")\n",
    "    if os.path.isfile(path_taxon):\n",
    "        with open(path_taxon) as f:\n",
    "            taxo = f.read()\n",
    "            \n",
    "    if str.isdigit(taxo):\n",
    "        return int(taxo)\n",
    "    else:\n",
    "        path_gbk = path_fna.replace(\".fna\", f\".{taxo_ext}\")\n",
    "        assert os.path.isfile(path_gbk), f\"<{taxo}> wasn't a tax id and {path_fna} \" \\\n",
    "                                         f\"DOESN'T have a .{taxo_ext} file ??\"\n",
    "\n",
    "        with open(path_gbk) as gbk:\n",
    "            description = [next(gbk) for i in range(9)][-1]\n",
    "\n",
    "        if taxo_ext == \"gbk\":\n",
    "            identificator = 'db_xref=\"taxon:'\n",
    "        elif taxo_ext == \"gff\":\n",
    "            identificator = 'Taxonomy/Browser/wwwtax.cgi?id='\n",
    "            terminator = \"\\n\"\n",
    "            if identificator not in description[:2000]:\n",
    "                identificator = \"Dbxref=taxon:\" \n",
    "                terminator = \";\"\n",
    "        taxo_start = description.find(identificator, 0, 2000)\n",
    "        assert 0 < taxo_start < 2000, f\"the value of taxo_start is out of bounds: {taxo_start} \\n\" \\\n",
    "                                      f\"{description[:2010]}\"\n",
    "        taxo = description[taxo_start+len(identificator):\n",
    "                           taxo_start+description[taxo_start:].find(terminator)]\n",
    "            \n",
    "        assert 1 <= len(taxo) <= 9 and str.isdigit(taxo), \\\n",
    "            f\"The taxo id search failed, found an id of length {len(taxo)}, \\n\" \\\n",
    "            f\"for the file: {path_gbk} \\n found string: {taxo[:min(50, len(taxo))]} ...\"\n",
    "        \n",
    "        with open(path_taxon, \"w\") as f:\n",
    "            f.write(taxo)\n",
    "        return int(taxo)"
   ]
  },
  {
   "cell_type": "markdown",
   "metadata": {},
   "source": [
    "# Loop through NCBI genomes to collect data into csv"
   ]
  },
  {
   "cell_type": "code",
   "execution_count": null,
   "metadata": {
    "scrolled": true
   },
   "outputs": [
    {
     "data": {
      "application/vnd.jupyter.widget-view+json": {
       "model_id": "2dae5109634d4478a3999d73dddaba04",
       "version_major": 2,
       "version_minor": 0
      },
      "text/plain": [
       "HBox(children=(IntProgress(value=1, bar_style='info', max=1), HTML(value='')))"
      ]
     },
     "metadata": {},
     "output_type": "display_data"
    }
   ],
   "source": [
    "i = 0\n",
    "imax = 200000\n",
    "can_be = [\"plasmid\", \"chloroplaste\", \"scaffold\", \"contig\", \n",
    "          \"chromosome\", \"complete genome\", \"whole genome shotgun sequence\", ]  # to extend\n",
    "headers = [\"taxon_id\", \"taxon_name\", \"rank\", \"type\", \"length\", \n",
    "           \"record_id\", \"record_description\", \"path_folder\", \"path_file\", ]\n",
    "[headers.append(f\"id_{v}\") for v in desired_ranks]\n",
    "[headers.append(f\"name_{v}\") for v in desired_ranks]\n",
    "\n",
    "with open(path_scanning_id, 'r') as f:\n",
    "    scanning_id = int(f.read())\n",
    "\n",
    "with open(path_ncbi_csv, 'a', newline='') as csvfile:\n",
    "    writer = csv.writer(csvfile, delimiter='\\t')\n",
    "    if scanning_id == 0: \n",
    "        writer.writerow(headers)\n",
    "\n",
    "    for dir_path, dir_names, files in tqdm(os.walk(path_ncbi)):\n",
    "        for file in files:\n",
    "            if file.endswith(\"fna\"):\n",
    "                i += 1\n",
    "                if i <= scanning_id: continue\n",
    "                    \n",
    "                # Read record / .fna file\n",
    "                path_file = os.path.join(dir_path, file)\n",
    "                records_to_csv = []\n",
    "                # Read taxo file if exists\n",
    "                taxon_id = retrieve_taxid_from_gff(path_file)\n",
    "\n",
    "                for record in SeqIO.parse(path_file, \"fasta\"):\n",
    "                    try:\n",
    "                        # Is it a genome, chromosome, plasmid ?\n",
    "                        what = \"undefined\"\n",
    "                        descr = record.description\n",
    "                        if len(descr) > 300: descr = descr[:300]\n",
    "                        for v in can_be:\n",
    "                            if v in descr.lower():\n",
    "                                what = v\n",
    "                                break\n",
    "\n",
    "                        # Get the lineage for main ranks\n",
    "                        try:\n",
    "                            rank = ncbi.get_rank([taxon_id])[taxon_id]\n",
    "                        except:\n",
    "                            rank = \"no rank\"\n",
    "                        ranks_ids = get_desired_ranks(taxon_id, desired_ranks, tolist=True)\n",
    "                        ranks_names = ncbi.translate_to_names(ranks_ids)\n",
    "\n",
    "                        # The file path (take advantage of pandas categorical)\n",
    "                        path_base, path_rec_relative = path_file.split(\"refseq/\")\n",
    "                        path_base += \"refseq/\"\n",
    "\n",
    "                        # Gather the data in a tuple\n",
    "                        record_data = (taxon_id, ncbi.translate_to_names([taxon_id])[0], \n",
    "                                       rank, what, len(record.seq), record.id, descr, \n",
    "                                       path_base, path_rec_relative, *ranks_ids, *ranks_names)\n",
    "                        # add to tuple ?  str(record.seq.upper())\n",
    "                        records_to_csv.append(record_data)\n",
    "                    \n",
    "                    except Exception as e:\n",
    "                        print(path_file)\n",
    "                        traceback.print_exc()\n",
    "                        raise NotImplementedError(\"Need to check file: \" + path_file)\n",
    "                        \n",
    "                for record in records_to_csv:\n",
    "                    writer.writerow(record)\n",
    "                # Keep track which file has been processed\n",
    "                with open(path_scanning_id, 'w') as f:\n",
    "                    f.write(str(i))\n",
    "                if i > imax: break\n",
    "        if i > imax: break"
   ]
  },
  {
   "cell_type": "markdown",
   "metadata": {},
   "source": [
    "# Read the csv and transform to pandas, plus column dtype conversion"
   ]
  },
  {
   "cell_type": "markdown",
   "metadata": {},
   "source": [
    "Might take a while if file is big..."
   ]
  },
  {
   "cell_type": "code",
   "execution_count": 42,
   "metadata": {},
   "outputs": [
    {
     "name": "stderr",
     "output_type": "stream",
     "text": [
      "/home/ubuntu/.pyenv/versions/3.7.3/envs/py373/lib/python3.7/site-packages/IPython/core/interactiveshell.py:3049: DtypeWarning: Columns (20) have mixed types. Specify dtype option on import or set low_memory=False.\n",
      "  interactivity=interactivity, compiler=compiler, result=result)\n"
     ]
    }
   ],
   "source": [
    "df = pd.read_csv(path_ncbi_csv, sep=\"\\t\", )"
   ]
  },
  {
   "cell_type": "code",
   "execution_count": 43,
   "metadata": {},
   "outputs": [
    {
     "data": {
      "text/plain": [
       "'2536.1 MB'"
      ]
     },
     "execution_count": 43,
     "metadata": {},
     "output_type": "execute_result"
    }
   ],
   "source": [
    "# df.info(memory_usage='deep')\n",
    "f\"{df.memory_usage(deep=True).sum()/1000000:.1f} MB\""
   ]
  },
  {
   "cell_type": "code",
   "execution_count": 44,
   "metadata": {},
   "outputs": [
    {
     "data": {
      "text/plain": [
       "(1923707, 25)"
      ]
     },
     "execution_count": 44,
     "metadata": {},
     "output_type": "execute_result"
    }
   ],
   "source": [
    "df.shape"
   ]
  },
  {
   "cell_type": "code",
   "execution_count": 45,
   "metadata": {
    "scrolled": false
   },
   "outputs": [
    {
     "name": "stdout",
     "output_type": "stream",
     "text": [
      "id_superkingdom\n",
      "id_kingdom\n",
      "id_phylum\n",
      "id_class\n",
      "id_order\n",
      "id_family\n",
      "id_genus\n",
      "id_species\n"
     ]
    }
   ],
   "source": [
    "for col in df.columns:\n",
    "    if \"id_\" in col:\n",
    "        print(col)\n",
    "        df[col].fillna(0, inplace=True)\n",
    "        df[col] = df[col].astype(int)"
   ]
  },
  {
   "cell_type": "code",
   "execution_count": 46,
   "metadata": {},
   "outputs": [
    {
     "data": {
      "application/vnd.jupyter.widget-view+json": {
       "model_id": "d6d162f5fa6f4c94a848bc8339f325e8",
       "version_major": 2,
       "version_minor": 0
      },
      "text/plain": [
       "HBox(children=(IntProgress(value=0, max=19), HTML(value='')))"
      ]
     },
     "metadata": {},
     "output_type": "display_data"
    },
    {
     "name": "stdout",
     "output_type": "stream",
     "text": [
      "\n"
     ]
    }
   ],
   "source": [
    "col_categories = ['rank', 'type', 'path_folder', \n",
    "                  'id_superkingdom', 'name_superkingdom', 'id_kingdom', 'name_kingdom', 'id_phylum', 'name_phylum', \n",
    "                  'id_class', 'name_class', 'id_order', 'name_order', 'id_family', 'name_family', \n",
    "                  'id_genus', 'name_genus', 'id_species', 'name_species']\n",
    "\n",
    "for col in tqdm(col_categories):\n",
    "    df[col] = df[col].astype('category')"
   ]
  },
  {
   "cell_type": "code",
   "execution_count": 47,
   "metadata": {},
   "outputs": [
    {
     "data": {
      "text/plain": [
       "'996.5 MB'"
      ]
     },
     "execution_count": 47,
     "metadata": {},
     "output_type": "execute_result"
    }
   ],
   "source": [
    "f\"{df.memory_usage(deep=True).sum()/1000000:.1f} MB\""
   ]
  },
  {
   "cell_type": "code",
   "execution_count": 48,
   "metadata": {
    "scrolled": true
   },
   "outputs": [
    {
     "data": {
      "text/html": [
       "<div>\n",
       "<style scoped>\n",
       "    .dataframe tbody tr th:only-of-type {\n",
       "        vertical-align: middle;\n",
       "    }\n",
       "\n",
       "    .dataframe tbody tr th {\n",
       "        vertical-align: top;\n",
       "    }\n",
       "\n",
       "    .dataframe thead th {\n",
       "        text-align: right;\n",
       "    }\n",
       "</style>\n",
       "<table border=\"1\" class=\"dataframe\">\n",
       "  <thead>\n",
       "    <tr style=\"text-align: right;\">\n",
       "      <th></th>\n",
       "      <th>taxon_id</th>\n",
       "      <th>taxon_name</th>\n",
       "      <th>rank</th>\n",
       "      <th>type</th>\n",
       "      <th>length</th>\n",
       "      <th>record_id</th>\n",
       "      <th>record_description</th>\n",
       "      <th>path_folder</th>\n",
       "      <th>path_file</th>\n",
       "      <th>id_superkingdom</th>\n",
       "      <th>id_kingdom</th>\n",
       "      <th>id_phylum</th>\n",
       "      <th>id_class</th>\n",
       "      <th>id_order</th>\n",
       "      <th>id_family</th>\n",
       "      <th>id_genus</th>\n",
       "      <th>id_species</th>\n",
       "      <th>name_superkingdom</th>\n",
       "      <th>name_kingdom</th>\n",
       "      <th>name_phylum</th>\n",
       "      <th>name_class</th>\n",
       "      <th>name_order</th>\n",
       "      <th>name_family</th>\n",
       "      <th>name_genus</th>\n",
       "      <th>name_species</th>\n",
       "    </tr>\n",
       "  </thead>\n",
       "  <tbody>\n",
       "    <tr>\n",
       "      <th>0</th>\n",
       "      <td>456320</td>\n",
       "      <td>Methanococcus voltae A3</td>\n",
       "      <td>no rank</td>\n",
       "      <td>complete genome</td>\n",
       "      <td>1936387</td>\n",
       "      <td>NC_014222.1</td>\n",
       "      <td>NC_014222.1 Methanococcus voltae A3, complete ...</td>\n",
       "      <td>/home/ubuntu/Disks/HDD1000/NCBI/20190704/refseq/</td>\n",
       "      <td>archaea/GCF_000006175.1/GCF_000006175.1_ASM617...</td>\n",
       "      <td>2157</td>\n",
       "      <td>0</td>\n",
       "      <td>28890</td>\n",
       "      <td>183939</td>\n",
       "      <td>2182</td>\n",
       "      <td>2183</td>\n",
       "      <td>2184</td>\n",
       "      <td>2188</td>\n",
       "      <td>Archaea</td>\n",
       "      <td>0</td>\n",
       "      <td>Euryarchaeota</td>\n",
       "      <td>Methanococci</td>\n",
       "      <td>Methanococcales</td>\n",
       "      <td>Methanococcaceae</td>\n",
       "      <td>Methanococcus</td>\n",
       "      <td>Methanococcus voltae</td>\n",
       "    </tr>\n",
       "    <tr>\n",
       "      <th>1</th>\n",
       "      <td>64091</td>\n",
       "      <td>Halobacterium salinarum NRC-1</td>\n",
       "      <td>no rank</td>\n",
       "      <td>complete genome</td>\n",
       "      <td>2014239</td>\n",
       "      <td>NC_002607.1</td>\n",
       "      <td>NC_002607.1 Halobacterium sp. NRC-1, complete ...</td>\n",
       "      <td>/home/ubuntu/Disks/HDD1000/NCBI/20190704/refseq/</td>\n",
       "      <td>archaea/GCF_000006805.1/GCF_000006805.1_ASM680...</td>\n",
       "      <td>2157</td>\n",
       "      <td>0</td>\n",
       "      <td>28890</td>\n",
       "      <td>183963</td>\n",
       "      <td>2235</td>\n",
       "      <td>2236</td>\n",
       "      <td>2239</td>\n",
       "      <td>2242</td>\n",
       "      <td>Archaea</td>\n",
       "      <td>0</td>\n",
       "      <td>Euryarchaeota</td>\n",
       "      <td>Halobacteria</td>\n",
       "      <td>Halobacteriales</td>\n",
       "      <td>Halobacteriaceae</td>\n",
       "      <td>Halobacterium</td>\n",
       "      <td>Halobacterium salinarum</td>\n",
       "    </tr>\n",
       "    <tr>\n",
       "      <th>2</th>\n",
       "      <td>64091</td>\n",
       "      <td>Halobacterium salinarum NRC-1</td>\n",
       "      <td>no rank</td>\n",
       "      <td>plasmid</td>\n",
       "      <td>191346</td>\n",
       "      <td>NC_001869.1</td>\n",
       "      <td>NC_001869.1 Halobacterium sp. NRC-1 plasmid pN...</td>\n",
       "      <td>/home/ubuntu/Disks/HDD1000/NCBI/20190704/refseq/</td>\n",
       "      <td>archaea/GCF_000006805.1/GCF_000006805.1_ASM680...</td>\n",
       "      <td>2157</td>\n",
       "      <td>0</td>\n",
       "      <td>28890</td>\n",
       "      <td>183963</td>\n",
       "      <td>2235</td>\n",
       "      <td>2236</td>\n",
       "      <td>2239</td>\n",
       "      <td>2242</td>\n",
       "      <td>Archaea</td>\n",
       "      <td>0</td>\n",
       "      <td>Euryarchaeota</td>\n",
       "      <td>Halobacteria</td>\n",
       "      <td>Halobacteriales</td>\n",
       "      <td>Halobacteriaceae</td>\n",
       "      <td>Halobacterium</td>\n",
       "      <td>Halobacterium salinarum</td>\n",
       "    </tr>\n",
       "    <tr>\n",
       "      <th>3</th>\n",
       "      <td>64091</td>\n",
       "      <td>Halobacterium salinarum NRC-1</td>\n",
       "      <td>no rank</td>\n",
       "      <td>plasmid</td>\n",
       "      <td>365425</td>\n",
       "      <td>NC_002608.1</td>\n",
       "      <td>NC_002608.1 Halobacterium sp. NRC-1 plasmid pN...</td>\n",
       "      <td>/home/ubuntu/Disks/HDD1000/NCBI/20190704/refseq/</td>\n",
       "      <td>archaea/GCF_000006805.1/GCF_000006805.1_ASM680...</td>\n",
       "      <td>2157</td>\n",
       "      <td>0</td>\n",
       "      <td>28890</td>\n",
       "      <td>183963</td>\n",
       "      <td>2235</td>\n",
       "      <td>2236</td>\n",
       "      <td>2239</td>\n",
       "      <td>2242</td>\n",
       "      <td>Archaea</td>\n",
       "      <td>0</td>\n",
       "      <td>Euryarchaeota</td>\n",
       "      <td>Halobacteria</td>\n",
       "      <td>Halobacteriales</td>\n",
       "      <td>Halobacteriaceae</td>\n",
       "      <td>Halobacterium</td>\n",
       "      <td>Halobacterium salinarum</td>\n",
       "    </tr>\n",
       "    <tr>\n",
       "      <th>4</th>\n",
       "      <td>273057</td>\n",
       "      <td>Saccharolobus solfataricus P2</td>\n",
       "      <td>no rank</td>\n",
       "      <td>complete genome</td>\n",
       "      <td>2992245</td>\n",
       "      <td>NC_002754.1</td>\n",
       "      <td>NC_002754.1 Sulfolobus solfataricus P2, comple...</td>\n",
       "      <td>/home/ubuntu/Disks/HDD1000/NCBI/20190704/refseq/</td>\n",
       "      <td>archaea/GCF_000007005.1/GCF_000007005.1_ASM700...</td>\n",
       "      <td>2157</td>\n",
       "      <td>0</td>\n",
       "      <td>28889</td>\n",
       "      <td>183924</td>\n",
       "      <td>2281</td>\n",
       "      <td>118883</td>\n",
       "      <td>2100760</td>\n",
       "      <td>2287</td>\n",
       "      <td>Archaea</td>\n",
       "      <td>0</td>\n",
       "      <td>Crenarchaeota</td>\n",
       "      <td>Thermoprotei</td>\n",
       "      <td>Sulfolobales</td>\n",
       "      <td>Sulfolobaceae</td>\n",
       "      <td>Saccharolobus</td>\n",
       "      <td>Saccharolobus solfataricus</td>\n",
       "    </tr>\n",
       "    <tr>\n",
       "      <th>...</th>\n",
       "      <td>...</td>\n",
       "      <td>...</td>\n",
       "      <td>...</td>\n",
       "      <td>...</td>\n",
       "      <td>...</td>\n",
       "      <td>...</td>\n",
       "      <td>...</td>\n",
       "      <td>...</td>\n",
       "      <td>...</td>\n",
       "      <td>...</td>\n",
       "      <td>...</td>\n",
       "      <td>...</td>\n",
       "      <td>...</td>\n",
       "      <td>...</td>\n",
       "      <td>...</td>\n",
       "      <td>...</td>\n",
       "      <td>...</td>\n",
       "      <td>...</td>\n",
       "      <td>...</td>\n",
       "      <td>...</td>\n",
       "      <td>...</td>\n",
       "      <td>...</td>\n",
       "      <td>...</td>\n",
       "      <td>...</td>\n",
       "      <td>...</td>\n",
       "    </tr>\n",
       "    <tr>\n",
       "      <th>1923702</th>\n",
       "      <td>159148</td>\n",
       "      <td>Shuni orthobunyavirus</td>\n",
       "      <td>species</td>\n",
       "      <td>undefined</td>\n",
       "      <td>4351</td>\n",
       "      <td>NC_043697.1</td>\n",
       "      <td>NC_043697.1 Shuni virus strain SAE1809 polypro...</td>\n",
       "      <td>/home/ubuntu/Disks/HDD1000/NCBI/20190704/refseq/</td>\n",
       "      <td>viral/GCF_006298405.1/GCF_006298405.1_ASM62984...</td>\n",
       "      <td>10239</td>\n",
       "      <td>0</td>\n",
       "      <td>2497569</td>\n",
       "      <td>2497576</td>\n",
       "      <td>1980410</td>\n",
       "      <td>1980416</td>\n",
       "      <td>11572</td>\n",
       "      <td>159148</td>\n",
       "      <td>Viruses</td>\n",
       "      <td>0</td>\n",
       "      <td>Negarnaviricota</td>\n",
       "      <td>Ellioviricetes</td>\n",
       "      <td>Bunyavirales</td>\n",
       "      <td>Peribunyaviridae</td>\n",
       "      <td>Orthobunyavirus</td>\n",
       "      <td>Shuni orthobunyavirus</td>\n",
       "    </tr>\n",
       "    <tr>\n",
       "      <th>1923703</th>\n",
       "      <td>159148</td>\n",
       "      <td>Shuni orthobunyavirus</td>\n",
       "      <td>species</td>\n",
       "      <td>undefined</td>\n",
       "      <td>851</td>\n",
       "      <td>NC_043698.1</td>\n",
       "      <td>NC_043698.1 Shuni virus strain SAE1809 nucleoc...</td>\n",
       "      <td>/home/ubuntu/Disks/HDD1000/NCBI/20190704/refseq/</td>\n",
       "      <td>viral/GCF_006298405.1/GCF_006298405.1_ASM62984...</td>\n",
       "      <td>10239</td>\n",
       "      <td>0</td>\n",
       "      <td>2497569</td>\n",
       "      <td>2497576</td>\n",
       "      <td>1980410</td>\n",
       "      <td>1980416</td>\n",
       "      <td>11572</td>\n",
       "      <td>159148</td>\n",
       "      <td>Viruses</td>\n",
       "      <td>0</td>\n",
       "      <td>Negarnaviricota</td>\n",
       "      <td>Ellioviricetes</td>\n",
       "      <td>Bunyavirales</td>\n",
       "      <td>Peribunyaviridae</td>\n",
       "      <td>Orthobunyavirus</td>\n",
       "      <td>Shuni orthobunyavirus</td>\n",
       "    </tr>\n",
       "    <tr>\n",
       "      <th>1923704</th>\n",
       "      <td>1970374</td>\n",
       "      <td>Acinetobacter phage vB_AbaS_Loki</td>\n",
       "      <td>species</td>\n",
       "      <td>complete genome</td>\n",
       "      <td>41308</td>\n",
       "      <td>NC_042137.1</td>\n",
       "      <td>NC_042137.1 Acinetobacter phage vB_AbaS_Loki g...</td>\n",
       "      <td>/home/ubuntu/Disks/HDD1000/NCBI/20190704/refseq/</td>\n",
       "      <td>viral/GCF_900010585.1/GCF_900010585.1_vB_AbaS_...</td>\n",
       "      <td>10239</td>\n",
       "      <td>0</td>\n",
       "      <td>0</td>\n",
       "      <td>0</td>\n",
       "      <td>28883</td>\n",
       "      <td>10699</td>\n",
       "      <td>0</td>\n",
       "      <td>1970374</td>\n",
       "      <td>Viruses</td>\n",
       "      <td>0</td>\n",
       "      <td>0</td>\n",
       "      <td>0</td>\n",
       "      <td>Caudovirales</td>\n",
       "      <td>Siphoviridae</td>\n",
       "      <td>0</td>\n",
       "      <td>Acinetobacter phage vB_AbaS_Loki</td>\n",
       "    </tr>\n",
       "    <tr>\n",
       "      <th>1923705</th>\n",
       "      <td>1880822</td>\n",
       "      <td>Klebsiella phage PMBT1</td>\n",
       "      <td>no rank</td>\n",
       "      <td>complete genome</td>\n",
       "      <td>175206</td>\n",
       "      <td>NC_042138.1</td>\n",
       "      <td>NC_042138.1 Klebsiella phage PMBT1 genome asse...</td>\n",
       "      <td>/home/ubuntu/Disks/HDD1000/NCBI/20190704/refseq/</td>\n",
       "      <td>viral/GCF_900095325.1/GCF_900095325.1_PMBT1_ge...</td>\n",
       "      <td>10239</td>\n",
       "      <td>0</td>\n",
       "      <td>0</td>\n",
       "      <td>0</td>\n",
       "      <td>28883</td>\n",
       "      <td>10662</td>\n",
       "      <td>1985328</td>\n",
       "      <td>2560544</td>\n",
       "      <td>Viruses</td>\n",
       "      <td>0</td>\n",
       "      <td>0</td>\n",
       "      <td>0</td>\n",
       "      <td>Caudovirales</td>\n",
       "      <td>Myoviridae</td>\n",
       "      <td>Slopekvirus</td>\n",
       "      <td>Klebsiella virus PMBT1</td>\n",
       "    </tr>\n",
       "    <tr>\n",
       "      <th>1923706</th>\n",
       "      <td>1934252</td>\n",
       "      <td>Salmonella virus BTP1</td>\n",
       "      <td>species</td>\n",
       "      <td>chromosome</td>\n",
       "      <td>40525</td>\n",
       "      <td>NC_042346.1</td>\n",
       "      <td>NC_042346.1 Salmonella virus BTP1 genome assem...</td>\n",
       "      <td>/home/ubuntu/Disks/HDD1000/NCBI/20190704/refseq/</td>\n",
       "      <td>viral/GCF_900156925.1/GCF_900156925.1_BTP1_v2_...</td>\n",
       "      <td>10239</td>\n",
       "      <td>0</td>\n",
       "      <td>0</td>\n",
       "      <td>0</td>\n",
       "      <td>28883</td>\n",
       "      <td>10744</td>\n",
       "      <td>186794</td>\n",
       "      <td>1934252</td>\n",
       "      <td>Viruses</td>\n",
       "      <td>0</td>\n",
       "      <td>0</td>\n",
       "      <td>0</td>\n",
       "      <td>Caudovirales</td>\n",
       "      <td>Podoviridae</td>\n",
       "      <td>Lederbergvirus</td>\n",
       "      <td>Salmonella virus BTP1</td>\n",
       "    </tr>\n",
       "  </tbody>\n",
       "</table>\n",
       "<p>1923707 rows × 25 columns</p>\n",
       "</div>"
      ],
      "text/plain": [
       "         taxon_id                        taxon_name     rank             type  \\\n",
       "0          456320           Methanococcus voltae A3  no rank  complete genome   \n",
       "1           64091     Halobacterium salinarum NRC-1  no rank  complete genome   \n",
       "2           64091     Halobacterium salinarum NRC-1  no rank          plasmid   \n",
       "3           64091     Halobacterium salinarum NRC-1  no rank          plasmid   \n",
       "4          273057     Saccharolobus solfataricus P2  no rank  complete genome   \n",
       "...           ...                               ...      ...              ...   \n",
       "1923702    159148             Shuni orthobunyavirus  species        undefined   \n",
       "1923703    159148             Shuni orthobunyavirus  species        undefined   \n",
       "1923704   1970374  Acinetobacter phage vB_AbaS_Loki  species  complete genome   \n",
       "1923705   1880822            Klebsiella phage PMBT1  no rank  complete genome   \n",
       "1923706   1934252             Salmonella virus BTP1  species       chromosome   \n",
       "\n",
       "          length    record_id  \\\n",
       "0        1936387  NC_014222.1   \n",
       "1        2014239  NC_002607.1   \n",
       "2         191346  NC_001869.1   \n",
       "3         365425  NC_002608.1   \n",
       "4        2992245  NC_002754.1   \n",
       "...          ...          ...   \n",
       "1923702     4351  NC_043697.1   \n",
       "1923703      851  NC_043698.1   \n",
       "1923704    41308  NC_042137.1   \n",
       "1923705   175206  NC_042138.1   \n",
       "1923706    40525  NC_042346.1   \n",
       "\n",
       "                                        record_description  \\\n",
       "0        NC_014222.1 Methanococcus voltae A3, complete ...   \n",
       "1        NC_002607.1 Halobacterium sp. NRC-1, complete ...   \n",
       "2        NC_001869.1 Halobacterium sp. NRC-1 plasmid pN...   \n",
       "3        NC_002608.1 Halobacterium sp. NRC-1 plasmid pN...   \n",
       "4        NC_002754.1 Sulfolobus solfataricus P2, comple...   \n",
       "...                                                    ...   \n",
       "1923702  NC_043697.1 Shuni virus strain SAE1809 polypro...   \n",
       "1923703  NC_043698.1 Shuni virus strain SAE1809 nucleoc...   \n",
       "1923704  NC_042137.1 Acinetobacter phage vB_AbaS_Loki g...   \n",
       "1923705  NC_042138.1 Klebsiella phage PMBT1 genome asse...   \n",
       "1923706  NC_042346.1 Salmonella virus BTP1 genome assem...   \n",
       "\n",
       "                                              path_folder  \\\n",
       "0        /home/ubuntu/Disks/HDD1000/NCBI/20190704/refseq/   \n",
       "1        /home/ubuntu/Disks/HDD1000/NCBI/20190704/refseq/   \n",
       "2        /home/ubuntu/Disks/HDD1000/NCBI/20190704/refseq/   \n",
       "3        /home/ubuntu/Disks/HDD1000/NCBI/20190704/refseq/   \n",
       "4        /home/ubuntu/Disks/HDD1000/NCBI/20190704/refseq/   \n",
       "...                                                   ...   \n",
       "1923702  /home/ubuntu/Disks/HDD1000/NCBI/20190704/refseq/   \n",
       "1923703  /home/ubuntu/Disks/HDD1000/NCBI/20190704/refseq/   \n",
       "1923704  /home/ubuntu/Disks/HDD1000/NCBI/20190704/refseq/   \n",
       "1923705  /home/ubuntu/Disks/HDD1000/NCBI/20190704/refseq/   \n",
       "1923706  /home/ubuntu/Disks/HDD1000/NCBI/20190704/refseq/   \n",
       "\n",
       "                                                 path_file id_superkingdom  \\\n",
       "0        archaea/GCF_000006175.1/GCF_000006175.1_ASM617...            2157   \n",
       "1        archaea/GCF_000006805.1/GCF_000006805.1_ASM680...            2157   \n",
       "2        archaea/GCF_000006805.1/GCF_000006805.1_ASM680...            2157   \n",
       "3        archaea/GCF_000006805.1/GCF_000006805.1_ASM680...            2157   \n",
       "4        archaea/GCF_000007005.1/GCF_000007005.1_ASM700...            2157   \n",
       "...                                                    ...             ...   \n",
       "1923702  viral/GCF_006298405.1/GCF_006298405.1_ASM62984...           10239   \n",
       "1923703  viral/GCF_006298405.1/GCF_006298405.1_ASM62984...           10239   \n",
       "1923704  viral/GCF_900010585.1/GCF_900010585.1_vB_AbaS_...           10239   \n",
       "1923705  viral/GCF_900095325.1/GCF_900095325.1_PMBT1_ge...           10239   \n",
       "1923706  viral/GCF_900156925.1/GCF_900156925.1_BTP1_v2_...           10239   \n",
       "\n",
       "        id_kingdom id_phylum id_class id_order id_family id_genus id_species  \\\n",
       "0                0     28890   183939     2182      2183     2184       2188   \n",
       "1                0     28890   183963     2235      2236     2239       2242   \n",
       "2                0     28890   183963     2235      2236     2239       2242   \n",
       "3                0     28890   183963     2235      2236     2239       2242   \n",
       "4                0     28889   183924     2281    118883  2100760       2287   \n",
       "...            ...       ...      ...      ...       ...      ...        ...   \n",
       "1923702          0   2497569  2497576  1980410   1980416    11572     159148   \n",
       "1923703          0   2497569  2497576  1980410   1980416    11572     159148   \n",
       "1923704          0         0        0    28883     10699        0    1970374   \n",
       "1923705          0         0        0    28883     10662  1985328    2560544   \n",
       "1923706          0         0        0    28883     10744   186794    1934252   \n",
       "\n",
       "        name_superkingdom name_kingdom      name_phylum      name_class  \\\n",
       "0                 Archaea            0    Euryarchaeota    Methanococci   \n",
       "1                 Archaea            0    Euryarchaeota    Halobacteria   \n",
       "2                 Archaea            0    Euryarchaeota    Halobacteria   \n",
       "3                 Archaea            0    Euryarchaeota    Halobacteria   \n",
       "4                 Archaea            0    Crenarchaeota    Thermoprotei   \n",
       "...                   ...          ...              ...             ...   \n",
       "1923702           Viruses            0  Negarnaviricota  Ellioviricetes   \n",
       "1923703           Viruses            0  Negarnaviricota  Ellioviricetes   \n",
       "1923704           Viruses            0                0               0   \n",
       "1923705           Viruses            0                0               0   \n",
       "1923706           Viruses            0                0               0   \n",
       "\n",
       "              name_order       name_family       name_genus  \\\n",
       "0        Methanococcales  Methanococcaceae    Methanococcus   \n",
       "1        Halobacteriales  Halobacteriaceae    Halobacterium   \n",
       "2        Halobacteriales  Halobacteriaceae    Halobacterium   \n",
       "3        Halobacteriales  Halobacteriaceae    Halobacterium   \n",
       "4           Sulfolobales     Sulfolobaceae    Saccharolobus   \n",
       "...                  ...               ...              ...   \n",
       "1923702     Bunyavirales  Peribunyaviridae  Orthobunyavirus   \n",
       "1923703     Bunyavirales  Peribunyaviridae  Orthobunyavirus   \n",
       "1923704     Caudovirales      Siphoviridae                0   \n",
       "1923705     Caudovirales        Myoviridae      Slopekvirus   \n",
       "1923706     Caudovirales       Podoviridae   Lederbergvirus   \n",
       "\n",
       "                             name_species  \n",
       "0                    Methanococcus voltae  \n",
       "1                 Halobacterium salinarum  \n",
       "2                 Halobacterium salinarum  \n",
       "3                 Halobacterium salinarum  \n",
       "4              Saccharolobus solfataricus  \n",
       "...                                   ...  \n",
       "1923702             Shuni orthobunyavirus  \n",
       "1923703             Shuni orthobunyavirus  \n",
       "1923704  Acinetobacter phage vB_AbaS_Loki  \n",
       "1923705            Klebsiella virus PMBT1  \n",
       "1923706             Salmonella virus BTP1  \n",
       "\n",
       "[1923707 rows x 25 columns]"
      ]
     },
     "execution_count": 48,
     "metadata": {},
     "output_type": "execute_result"
    }
   ],
   "source": [
    "df"
   ]
  },
  {
   "cell_type": "code",
   "execution_count": 49,
   "metadata": {},
   "outputs": [],
   "source": [
    "df.to_pickle(path_ncbi_pd)"
   ]
  },
  {
   "cell_type": "markdown",
   "metadata": {},
   "source": [
    "# Need to fix the species name"
   ]
  },
  {
   "cell_type": "code",
   "execution_count": null,
   "metadata": {},
   "outputs": [],
   "source": [
    "from ete3 import NCBITaxa\n",
    "ncbi = NCBITaxa()\n",
    "\n",
    "ncbi.get_fuzzy_name_translation(\"Clostridioides difficile\")\n",
    "\n",
    "ncbi.get_name_translator([\"Clostridioides difficile\"])"
   ]
  },
  {
   "cell_type": "code",
   "execution_count": null,
   "metadata": {},
   "outputs": [],
   "source": []
  },
  {
   "cell_type": "code",
   "execution_count": null,
   "metadata": {},
   "outputs": [],
   "source": []
  },
  {
   "cell_type": "markdown",
   "metadata": {},
   "source": [
    "# End"
   ]
  },
  {
   "cell_type": "code",
   "execution_count": 206,
   "metadata": {},
   "outputs": [],
   "source": [
    "headers = [\"taxon_id\", \"taxon_name\", \"rank\", \"type\", \"length\", \"record_id\", \"record_description\",\n",
    "           \"path_folder\", \"path_file\", ]\n",
    "[headers.extend([f\"id_{v}\", f\"name_{v}\"]) for v in desired_ranks]"
   ]
  },
  {
   "cell_type": "code",
   "execution_count": 234,
   "metadata": {},
   "outputs": [
    {
     "data": {
      "text/plain": [
       "\"['taxon_name', 'rank', 'type', 'length', 'record_id', 'record_description', 'path_folder', 'path_file', 'id_superkingdom', 'name_superkingdom', 'id_kingdom', 'name_kingdom', 'id_phylum', 'name_phylum', 'id_class', 'name_class', 'id_order', 'name_order', 'id_family', 'name_family', 'id_genus', 'name_genus', 'id_species', 'name_species']\""
      ]
     },
     "execution_count": 234,
     "metadata": {},
     "output_type": "execute_result"
    }
   ],
   "source": [
    "\"['\" + \"', '\".join(\"taxon_name\trank\ttype\tlength\trecord_id\trecord_description\tpath_folder\tpath_file\tid_superkingdom\tname_superkingdom\tid_kingdom\tname_kingdom\tid_phylum\tname_phylum\tid_class\tname_class\tid_order\tname_order\tid_family\tname_family\tid_genus\tname_genus\tid_species\tname_species\".split(\"\\t\")) + \"']\""
   ]
  },
  {
   "cell_type": "code",
   "execution_count": null,
   "metadata": {},
   "outputs": [],
   "source": []
  },
  {
   "cell_type": "code",
   "execution_count": 213,
   "metadata": {
    "scrolled": true
   },
   "outputs": [
    {
     "data": {
      "text/plain": [
       "(272569,\n",
       " 'Haloarcula marismortui ATCC 43049',\n",
       " 'no rank',\n",
       " 'plasmid',\n",
       " 410554,\n",
       " 'NC_006395.1',\n",
       " 'NC_006395.1 Haloarcula marismortui ATCC 43049 plasmid pNG700, complete sequence',\n",
       " '/home/ubuntu/Disks/HDD1000/NCBI/20190704/refseq/',\n",
       " 'archaea/GCF_000011085.1/GCF_000011085.1_ASM1108v1_genomic.fna',\n",
       " 2157,\n",
       " 'Archaea',\n",
       " 2235,\n",
       " 'Halobacteriales',\n",
       " 2237,\n",
       " 'Haloarcula',\n",
       " 2238,\n",
       " 'Haloarcula marismortui',\n",
       " 28890,\n",
       " 'Euryarchaeota',\n",
       " 183963,\n",
       " 'Halobacteria',\n",
       " 1963268,\n",
       " 'Haloarculaceae')"
      ]
     },
     "execution_count": 213,
     "metadata": {},
     "output_type": "execute_result"
    }
   ],
   "source": [
    "record_data"
   ]
  },
  {
   "cell_type": "code",
   "execution_count": null,
   "metadata": {},
   "outputs": [],
   "source": []
  },
  {
   "cell_type": "code",
   "execution_count": null,
   "metadata": {},
   "outputs": [],
   "source": []
  },
  {
   "cell_type": "code",
   "execution_count": null,
   "metadata": {},
   "outputs": [],
   "source": []
  },
  {
   "cell_type": "code",
   "execution_count": 114,
   "metadata": {},
   "outputs": [],
   "source": [
    "path_file = \"/home/ubuntu/Disks/HDD1000/NCBI/20190704/refseq/bacteria/GCF_000006845.1/GCF_000006845.1_ASM684v1_genomic.fna\""
   ]
  },
  {
   "cell_type": "code",
   "execution_count": null,
   "metadata": {},
   "outputs": [],
   "source": []
  },
  {
   "cell_type": "code",
   "execution_count": null,
   "metadata": {},
   "outputs": [],
   "source": []
  },
  {
   "cell_type": "code",
   "execution_count": 56,
   "metadata": {
    "scrolled": true
   },
   "outputs": [
    {
     "data": {
      "text/plain": [
       "SeqRecord(seq=Seq('AATTTAAAGATTAAAATTAGTAGACTGTCGATTTACAATATCATATTTATGAGT...TAA', SingleLetterAlphabet()), id='NC_014222.1', name='NC_014222.1', description='NC_014222.1 Methanococcus voltae A3, complete genome', dbxrefs=[])"
      ]
     },
     "execution_count": 56,
     "metadata": {},
     "output_type": "execute_result"
    }
   ],
   "source": [
    "record"
   ]
  },
  {
   "cell_type": "code",
   "execution_count": 59,
   "metadata": {},
   "outputs": [
    {
     "data": {
      "text/plain": [
       "1936387"
      ]
     },
     "execution_count": 59,
     "metadata": {},
     "output_type": "execute_result"
    }
   ],
   "source": [
    "len(record.seq)"
   ]
  },
  {
   "cell_type": "code",
   "execution_count": 85,
   "metadata": {},
   "outputs": [
    {
     "data": {
      "text/plain": [
       "Seq('AATTTAAAGATTAAAATTAGTAGACTGTCGATTTACAATATCATATTTATGAGT...TAA', SingleLetterAlphabet())"
      ]
     },
     "execution_count": 85,
     "metadata": {},
     "output_type": "execute_result"
    }
   ],
   "source": [
    "record.seq.upper()"
   ]
  },
  {
   "cell_type": "code",
   "execution_count": 73,
   "metadata": {},
   "outputs": [
    {
     "name": "stdout",
     "output_type": "stream",
     "text": [
      "ID: NC_014222.1\n",
      "Name: NC_014222.1\n",
      "Description: NC_014222.1 Methanococcus voltae A3, complete genome\n",
      "Number of features: 0\n",
      "Seq('AATTTAAAGATTAAAATTAGTAGACTGTCGATTTACAATATCATATTTATGAGT...TAA', SingleLetterAlphabet())\n"
     ]
    }
   ],
   "source": [
    "print(record)"
   ]
  },
  {
   "cell_type": "code",
   "execution_count": 62,
   "metadata": {
    "scrolled": true
   },
   "outputs": [
    {
     "data": {
      "text/plain": [
       "['__add__',\n",
       " '__bool__',\n",
       " '__class__',\n",
       " '__contains__',\n",
       " '__delattr__',\n",
       " '__dict__',\n",
       " '__dir__',\n",
       " '__doc__',\n",
       " '__eq__',\n",
       " '__format__',\n",
       " '__ge__',\n",
       " '__getattribute__',\n",
       " '__getitem__',\n",
       " '__gt__',\n",
       " '__hash__',\n",
       " '__init__',\n",
       " '__init_subclass__',\n",
       " '__iter__',\n",
       " '__le__',\n",
       " '__le___',\n",
       " '__len__',\n",
       " '__lt__',\n",
       " '__module__',\n",
       " '__ne__',\n",
       " '__new__',\n",
       " '__nonzero__',\n",
       " '__radd__',\n",
       " '__reduce__',\n",
       " '__reduce_ex__',\n",
       " '__repr__',\n",
       " '__setattr__',\n",
       " '__sizeof__',\n",
       " '__str__',\n",
       " '__subclasshook__',\n",
       " '__weakref__',\n",
       " '_per_letter_annotations',\n",
       " '_seq',\n",
       " '_set_per_letter_annotations',\n",
       " '_set_seq',\n",
       " 'annotations',\n",
       " 'dbxrefs',\n",
       " 'description',\n",
       " 'features',\n",
       " 'format',\n",
       " 'id',\n",
       " 'letter_annotations',\n",
       " 'lower',\n",
       " 'name',\n",
       " 'reverse_complement',\n",
       " 'seq',\n",
       " 'translate',\n",
       " 'upper']"
      ]
     },
     "execution_count": 62,
     "metadata": {},
     "output_type": "execute_result"
    }
   ],
   "source": [
    "dir(record)"
   ]
  },
  {
   "cell_type": "code",
   "execution_count": 86,
   "metadata": {},
   "outputs": [
    {
     "data": {
      "text/plain": [
       "'NC_014222.1 Methanococcus voltae A3, complete genome'"
      ]
     },
     "execution_count": 86,
     "metadata": {},
     "output_type": "execute_result"
    }
   ],
   "source": [
    "record.description"
   ]
  },
  {
   "cell_type": "code",
   "execution_count": null,
   "metadata": {},
   "outputs": [],
   "source": []
  },
  {
   "cell_type": "code",
   "execution_count": 176,
   "metadata": {
    "scrolled": true
   },
   "outputs": [
    {
     "data": {
      "text/plain": [
       "{'superkingdom_id': 2,\n",
       " 'kingdom_id': 'NaN',\n",
       " 'phylum_id': 'NaN',\n",
       " 'class_id': 'NaN',\n",
       " 'order_id': 'NaN',\n",
       " 'family_id': 'NaN',\n",
       " 'genus_id': 'NaN',\n",
       " 'species_id': 'NaN'}"
      ]
     },
     "execution_count": 176,
     "metadata": {},
     "output_type": "execute_result"
    }
   ],
   "source": [
    "get_desired_ranks(2, desired_ranks)"
   ]
  },
  {
   "cell_type": "code",
   "execution_count": 154,
   "metadata": {},
   "outputs": [
    {
     "data": {
      "text/plain": [
       "[2759, 33208, 7711, 40674, 9443, 9604, 9605, 9606]"
      ]
     },
     "execution_count": 154,
     "metadata": {},
     "output_type": "execute_result"
    }
   ],
   "source": [
    "get_desired_ranks(9606, desired_ranks, tolist=True)"
   ]
  },
  {
   "cell_type": "code",
   "execution_count": 155,
   "metadata": {
    "scrolled": true
   },
   "outputs": [
    {
     "data": {
      "text/plain": [
       "['Eukaryota',\n",
       " 'Metazoa',\n",
       " 'Chordata',\n",
       " 'Mammalia',\n",
       " 'Primates',\n",
       " 'Hominidae',\n",
       " 'Homo',\n",
       " 'Homo sapiens']"
      ]
     },
     "execution_count": 155,
     "metadata": {},
     "output_type": "execute_result"
    }
   ],
   "source": [
    "ncbi.translate_to_names(get_desired_ranks(9606, desired_ranks, tolist=True))"
   ]
  },
  {
   "cell_type": "code",
   "execution_count": 184,
   "metadata": {
    "scrolled": true
   },
   "outputs": [
    {
     "data": {
      "text/plain": [
       "{2: 'Bacteria',\n",
       " 6: 'Azorhizobium',\n",
       " 356: 'Rhizobiales',\n",
       " 1224: 'Proteobacteria',\n",
       " 28211: 'Alphaproteobacteria',\n",
       " 335928: 'Xanthobacteraceae'}"
      ]
     },
     "execution_count": 184,
     "metadata": {},
     "output_type": "execute_result"
    }
   ],
   "source": [
    "ranks_id_str = ncbi.get_taxid_translator(get_desired_ranks(6, desired_ranks, tolist=True))\n",
    "ranks_id_str"
   ]
  },
  {
   "cell_type": "code",
   "execution_count": 185,
   "metadata": {},
   "outputs": [
    {
     "data": {
      "text/plain": [
       "[None, None, None, None, None, None]"
      ]
     },
     "execution_count": 185,
     "metadata": {},
     "output_type": "execute_result"
    }
   ],
   "source": [
    "l=[]\n",
    "[l.extend([k,v]) for k,v in ranks_id_str.items()]"
   ]
  },
  {
   "cell_type": "code",
   "execution_count": 186,
   "metadata": {
    "scrolled": true
   },
   "outputs": [
    {
     "data": {
      "text/plain": [
       "[2,\n",
       " 'Bacteria',\n",
       " 6,\n",
       " 'Azorhizobium',\n",
       " 356,\n",
       " 'Rhizobiales',\n",
       " 1224,\n",
       " 'Proteobacteria',\n",
       " 28211,\n",
       " 'Alphaproteobacteria',\n",
       " 335928,\n",
       " 'Xanthobacteraceae']"
      ]
     },
     "execution_count": 186,
     "metadata": {},
     "output_type": "execute_result"
    }
   ],
   "source": [
    "l"
   ]
  },
  {
   "cell_type": "code",
   "execution_count": null,
   "metadata": {},
   "outputs": [],
   "source": []
  },
  {
   "cell_type": "code",
   "execution_count": null,
   "metadata": {},
   "outputs": [],
   "source": []
  }
 ],
 "metadata": {
  "hide_input": false,
  "kernelspec": {
   "display_name": "Python 3",
   "language": "python",
   "name": "python3"
  },
  "language_info": {
   "codemirror_mode": {
    "name": "ipython",
    "version": 3
   },
   "file_extension": ".py",
   "mimetype": "text/x-python",
   "name": "python",
   "nbconvert_exporter": "python",
   "pygments_lexer": "ipython3",
   "version": "3.7.3"
  },
  "toc": {
   "base_numbering": 1,
   "nav_menu": {},
   "number_sections": true,
   "sideBar": true,
   "skip_h1_title": false,
   "title_cell": "Table of Contents",
   "title_sidebar": "Contents",
   "toc_cell": false,
   "toc_position": {},
   "toc_section_display": true,
   "toc_window_display": false
  },
  "varInspector": {
   "cols": {
    "lenName": 16,
    "lenType": 16,
    "lenVar": 40
   },
   "kernels_config": {
    "python": {
     "delete_cmd_postfix": "",
     "delete_cmd_prefix": "del ",
     "library": "var_list.py",
     "varRefreshCmd": "print(var_dic_list())"
    },
    "r": {
     "delete_cmd_postfix": ") ",
     "delete_cmd_prefix": "rm(",
     "library": "var_list.r",
     "varRefreshCmd": "cat(var_dic_list()) "
    }
   },
   "types_to_exclude": [
    "module",
    "function",
    "builtin_function_or_method",
    "instance",
    "_Feature"
   ],
   "window_display": false
  }
 },
 "nbformat": 4,
 "nbformat_minor": 2
}
