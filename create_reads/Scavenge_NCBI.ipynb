{
 "cells": [
  {
   "cell_type": "markdown",
   "metadata": {},
   "source": [
    "# Imports, settings and paths"
   ]
  },
  {
   "cell_type": "code",
   "execution_count": 1,
   "metadata": {},
   "outputs": [],
   "source": [
    "import pandas as pd\n",
    "import os\n",
    "import csv\n",
    "import traceback"
   ]
  },
  {
   "cell_type": "code",
   "execution_count": 2,
   "metadata": {},
   "outputs": [],
   "source": [
    "from Bio import SeqIO\n",
    "from tqdm import tqdm_notebook as tqdm\n",
    "from ete3 import NCBITaxa"
   ]
  },
  {
   "cell_type": "raw",
   "metadata": {},
   "source": [
    "from synthetize_reads import preprocess_genomes"
   ]
  },
  {
   "cell_type": "code",
   "execution_count": 3,
   "metadata": {},
   "outputs": [],
   "source": [
    "path_ncbi = \"/home/ubuntu/Disks/HDD1000/NCBI/20190704/refseq\"\n",
    "path_output = \"/home/ubuntu/Disks/HDD1000/NCBI/ncbi.csv\"\n",
    "path_scanning_id = \"/home/ubuntu/Disks/HDD1000/NCBI/ncbi_scanning_id.txt\"\n",
    "path_ncbi_csv = \"/home/ubuntu/Disks/HDD1000/NCBI/ncbi.csv\"\n",
    "path_ncbi_pd = \"/home/ubuntu/Disks/HDD1000/NCBI/ncbi.pd\""
   ]
  },
  {
   "cell_type": "code",
   "execution_count": 4,
   "metadata": {},
   "outputs": [],
   "source": [
    "pd.set_option('display.max_columns', 50)"
   ]
  },
  {
   "cell_type": "code",
   "execution_count": 5,
   "metadata": {},
   "outputs": [],
   "source": [
    "ncbi = NCBITaxa()"
   ]
  },
  {
   "cell_type": "code",
   "execution_count": 6,
   "metadata": {},
   "outputs": [],
   "source": [
    "desired_ranks = ['superkingdom', 'kingdom', 'phylum', 'class', 'order', 'family', 'genus', 'species']"
   ]
  },
  {
   "cell_type": "code",
   "execution_count": 7,
   "metadata": {},
   "outputs": [],
   "source": [
    "def get_desired_ranks(taxid, desired_ranks, tolist=False):\n",
    "    \"\"\" From stackoverflow\n",
    "        https://stackoverflow.com/questions/36503042/how-to-get-taxonomic-specific-ids-for-kingdom-phylum-class-order-family-gen\n",
    "    \"\"\"\n",
    "    try:\n",
    "        lineage = ncbi.get_lineage(taxid)\n",
    "        lineage2ranks = ncbi.get_rank(lineage)\n",
    "        ranks2lineage = dict((rank, taxid) for (taxid, rank) in lineage2ranks.items())\n",
    "        if tolist: return [ranks2lineage.get(rank, 0) for rank in desired_ranks]\n",
    "        else:      return {f'{rank}_id': ranks2lineage.get(rank, 0) for rank in desired_ranks}\n",
    "    except:\n",
    "        print(f\"{taxid} failed\")\n",
    "        if tolist: return [0 for rank in desired_ranks]\n",
    "        else:      return {f'{rank}_id': 0 for rank in desired_ranks}"
   ]
  },
  {
   "cell_type": "markdown",
   "metadata": {},
   "source": [
    "# Loop through NCBI genomes to collect data into csv"
   ]
  },
  {
   "cell_type": "code",
   "execution_count": 283,
   "metadata": {
    "scrolled": true
   },
   "outputs": [
    {
     "data": {
      "application/vnd.jupyter.widget-view+json": {
       "model_id": "f77e024a9cce40f4bb8dd4fbcc2ed0d6",
       "version_major": 2,
       "version_minor": 0
      },
      "text/plain": [
       "HBox(children=(IntProgress(value=1, bar_style='info', max=1), HTML(value='')))"
      ]
     },
     "metadata": {},
     "output_type": "display_data"
    },
    {
     "name": "stdout",
     "output_type": "stream",
     "text": [
      "/home/ubuntu/Disks/HDD1000/NCBI/20190704/refseq/vertebrate_mammalian/GCF_000001895.5/GCF_000001895.5_Rnor_6.0_genomic.fna\n"
     ]
    },
    {
     "name": "stderr",
     "output_type": "stream",
     "text": [
      "Traceback (most recent call last):\n",
      "  File \"<ipython-input-283-f7f5c1001da7>\", line 37, in <module>\n",
      "    assert os.path.isfile(path_taxo_file), f\"taxo file hasn't been found: {path_taxo_file}\"\n",
      "AssertionError: taxo file hasn't been found: /home/ubuntu/Disks/HDD1000/NCBI/20190704/refseq/vertebrate_mammalian/GCF_000001895.5/GCF_000001895.5_Rnor_6.0_genomic.taxon\n"
     ]
    },
    {
     "ename": "NotImplementedError",
     "evalue": "Need to check file: /home/ubuntu/Disks/HDD1000/NCBI/20190704/refseq/vertebrate_mammalian/GCF_000001895.5/GCF_000001895.5_Rnor_6.0_genomic.fna",
     "output_type": "error",
     "traceback": [
      "\u001b[0;31m---------------------------------------------------------------------------\u001b[0m",
      "\u001b[0;31mAssertionError\u001b[0m                            Traceback (most recent call last)",
      "\u001b[0;32m<ipython-input-283-f7f5c1001da7>\u001b[0m in \u001b[0;36m<module>\u001b[0;34m\u001b[0m\n\u001b[1;32m     36\u001b[0m                         \u001b[0mpath_taxo_file\u001b[0m \u001b[0;34m=\u001b[0m \u001b[0mpath_file\u001b[0m\u001b[0;34m.\u001b[0m\u001b[0mreplace\u001b[0m\u001b[0;34m(\u001b[0m\u001b[0;34m\".fna\"\u001b[0m\u001b[0;34m,\u001b[0m \u001b[0;34m\".taxon\"\u001b[0m\u001b[0;34m)\u001b[0m\u001b[0;34m\u001b[0m\u001b[0;34m\u001b[0m\u001b[0m\n\u001b[0;32m---> 37\u001b[0;31m                         \u001b[0;32massert\u001b[0m \u001b[0mos\u001b[0m\u001b[0;34m.\u001b[0m\u001b[0mpath\u001b[0m\u001b[0;34m.\u001b[0m\u001b[0misfile\u001b[0m\u001b[0;34m(\u001b[0m\u001b[0mpath_taxo_file\u001b[0m\u001b[0;34m)\u001b[0m\u001b[0;34m,\u001b[0m \u001b[0;34mf\"taxo file hasn't been found: {path_taxo_file}\"\u001b[0m\u001b[0;34m\u001b[0m\u001b[0;34m\u001b[0m\u001b[0m\n\u001b[0m\u001b[1;32m     38\u001b[0m                         \u001b[0;32mwith\u001b[0m \u001b[0mopen\u001b[0m\u001b[0;34m(\u001b[0m\u001b[0mpath_taxo_file\u001b[0m\u001b[0;34m,\u001b[0m \u001b[0;34m\"r\"\u001b[0m\u001b[0;34m)\u001b[0m \u001b[0;32mas\u001b[0m \u001b[0mf\u001b[0m\u001b[0;34m:\u001b[0m\u001b[0;34m\u001b[0m\u001b[0;34m\u001b[0m\u001b[0m\n",
      "\u001b[0;31mAssertionError\u001b[0m: taxo file hasn't been found: /home/ubuntu/Disks/HDD1000/NCBI/20190704/refseq/vertebrate_mammalian/GCF_000001895.5/GCF_000001895.5_Rnor_6.0_genomic.taxon",
      "\nDuring handling of the above exception, another exception occurred:\n",
      "\u001b[0;31mNotImplementedError\u001b[0m                       Traceback (most recent call last)",
      "\u001b[0;32m<ipython-input-283-f7f5c1001da7>\u001b[0m in \u001b[0;36m<module>\u001b[0;34m\u001b[0m\n\u001b[1;32m     65\u001b[0m                         \u001b[0mprint\u001b[0m\u001b[0;34m(\u001b[0m\u001b[0mpath_file\u001b[0m\u001b[0;34m)\u001b[0m\u001b[0;34m\u001b[0m\u001b[0;34m\u001b[0m\u001b[0m\n\u001b[1;32m     66\u001b[0m                         \u001b[0mtraceback\u001b[0m\u001b[0;34m.\u001b[0m\u001b[0mprint_exc\u001b[0m\u001b[0;34m(\u001b[0m\u001b[0;34m)\u001b[0m\u001b[0;34m\u001b[0m\u001b[0;34m\u001b[0m\u001b[0m\n\u001b[0;32m---> 67\u001b[0;31m                         \u001b[0;32mraise\u001b[0m \u001b[0mNotImplementedError\u001b[0m\u001b[0;34m(\u001b[0m\u001b[0;34m\"Need to check file: \"\u001b[0m \u001b[0;34m+\u001b[0m \u001b[0mpath_file\u001b[0m\u001b[0;34m)\u001b[0m\u001b[0;34m\u001b[0m\u001b[0;34m\u001b[0m\u001b[0m\n\u001b[0m\u001b[1;32m     68\u001b[0m \u001b[0;34m\u001b[0m\u001b[0m\n\u001b[1;32m     69\u001b[0m                 \u001b[0;32mfor\u001b[0m \u001b[0mrecord\u001b[0m \u001b[0;32min\u001b[0m \u001b[0mrecords_to_csv\u001b[0m\u001b[0;34m:\u001b[0m\u001b[0;34m\u001b[0m\u001b[0;34m\u001b[0m\u001b[0m\n",
      "\u001b[0;31mNotImplementedError\u001b[0m: Need to check file: /home/ubuntu/Disks/HDD1000/NCBI/20190704/refseq/vertebrate_mammalian/GCF_000001895.5/GCF_000001895.5_Rnor_6.0_genomic.fna"
     ]
    }
   ],
   "source": [
    "i = 0\n",
    "imax = 200000\n",
    "can_be = [\"plasmid\", \"chloroplaste\", \"scaffold\", \"contig\", \n",
    "          \"chromosome\", \"complete genome\", \"whole genome shotgun sequence\", ]  # to extend\n",
    "headers = [\"taxon_id\", \"taxon_name\", \"rank\", \"type\", \"length\", \n",
    "           \"record_id\", \"record_description\", \"path_folder\", \"path_file\", ]\n",
    "[headers.extend([f\"id_{v}\", f\"name_{v}\"]) for v in desired_ranks]\n",
    "\n",
    "with open(path_scanning_id, 'r') as f:\n",
    "    scanning_id = int(f.read())\n",
    "\n",
    "with open(path_ncbi_csv, 'a', newline='') as csvfile:\n",
    "    writer = csv.writer(csvfile, delimiter='\\t')\n",
    "    if scanning_id == 0: \n",
    "        writer.writerow(headers)\n",
    "\n",
    "    for dir_path, dir_names, files in tqdm(os.walk(path_ncbi)):\n",
    "        for file in files:\n",
    "            if file.endswith(\"fna\"):\n",
    "                i += 1\n",
    "                if i < scanning_id: continue\n",
    "                    \n",
    "                # Read record / .fna file\n",
    "                path_file = os.path.join(dir_path, file)\n",
    "                records_to_csv = []\n",
    "\n",
    "                for record in SeqIO.parse(path_file, \"fasta\"):\n",
    "                    try:\n",
    "                        # Is it a genome, chromosome, plasmid ?\n",
    "                        what = \"undefined\"\n",
    "                        for v in can_be:\n",
    "                            if v in record.description.lower():\n",
    "                                what = v\n",
    "                                break\n",
    "\n",
    "                        # Read taxo file if exists\n",
    "                        path_taxo_file = path_file.replace(\".fna\", \".taxon\")\n",
    "                        assert os.path.isfile(path_taxo_file), f\"taxo file hasn't been found: {path_taxo_file}\"\n",
    "                        with open(path_taxo_file, \"r\") as f:\n",
    "                            taxon_id = int(f.read().split()[0])\n",
    "\n",
    "                        # Get the lineage for main ranks\n",
    "                        try:\n",
    "                            rank = ncbi.get_rank([taxon_id])[taxon_id]\n",
    "                        except:\n",
    "                            rank = \"no rank\"\n",
    "        #                     ranks_id = get_desired_ranks(taxon_id, desired_ranks, tolist=True)\n",
    "        #                     rank_str = ncbi.translate_to_names(ranks_id)\n",
    "                        ranks_dic = ncbi.get_taxid_translator(get_desired_ranks(taxon_id, desired_ranks, tolist=True))\n",
    "                        ranks_list = []\n",
    "                        for k,v in ranks_dic.items():\n",
    "                            ranks_list.extend([k,v])\n",
    "\n",
    "                        # The file path (take advantage of pandas categorical)\n",
    "                        path_base, path_rec_relative = path_file.split(\"refseq/\")\n",
    "                        path_base += \"refseq/\"\n",
    "\n",
    "                        # Gather the data in a tuple\n",
    "                        record_data = (taxon_id, ncbi.translate_to_names([taxon_id])[0], \n",
    "                                       rank, what, len(record.seq), record.id, record.description, \n",
    "                                       path_base, path_rec_relative, *ranks_list)\n",
    "                        # add to tuple ?  str(record.seq.upper())\n",
    "                        records_to_csv.append(record_data)\n",
    "                    \n",
    "                    except Exception as e:\n",
    "                        print(path_file)\n",
    "                        traceback.print_exc()\n",
    "                        raise NotImplementedError(\"Need to check file: \" + path_file)\n",
    "                        \n",
    "                for record in records_to_csv:\n",
    "                    writer.writerow(record)\n",
    "                # Keep track which file has been processed\n",
    "                with open(path_scanning_id, 'w') as f:\n",
    "                    f.write(str(i))\n",
    "                if i > imax: break\n",
    "        if i > imax: break"
   ]
  },
  {
   "cell_type": "markdown",
   "metadata": {},
   "source": [
    "# Read the csv and transform to pandas, plus column dtype conversion"
   ]
  },
  {
   "cell_type": "markdown",
   "metadata": {},
   "source": [
    "Might take a while if file is big..."
   ]
  },
  {
   "cell_type": "code",
   "execution_count": 8,
   "metadata": {},
   "outputs": [
    {
     "name": "stderr",
     "output_type": "stream",
     "text": [
      "/home/ubuntu/.pyenv/versions/3.7.3/envs/py373/lib/python3.7/site-packages/IPython/core/interactiveshell.py:3049: DtypeWarning: Columns (24) have mixed types. Specify dtype option on import or set low_memory=False.\n",
      "  interactivity=interactivity, compiler=compiler, result=result)\n"
     ]
    }
   ],
   "source": [
    "df = pd.read_csv(path_ncbi_csv, sep=\"\\t\", )"
   ]
  },
  {
   "cell_type": "code",
   "execution_count": 9,
   "metadata": {},
   "outputs": [
    {
     "data": {
      "text/plain": [
       "'741.5 MB'"
      ]
     },
     "execution_count": 9,
     "metadata": {},
     "output_type": "execute_result"
    }
   ],
   "source": [
    "# df.info(memory_usage='deep')\n",
    "f\"{df.memory_usage(deep=True).sum()/1000000:.1f} MB\""
   ]
  },
  {
   "cell_type": "code",
   "execution_count": 10,
   "metadata": {},
   "outputs": [
    {
     "data": {
      "text/plain": [
       "(578756, 25)"
      ]
     },
     "execution_count": 10,
     "metadata": {},
     "output_type": "execute_result"
    }
   ],
   "source": [
    "df.shape"
   ]
  },
  {
   "cell_type": "code",
   "execution_count": 11,
   "metadata": {
    "scrolled": false
   },
   "outputs": [
    {
     "name": "stdout",
     "output_type": "stream",
     "text": [
      "id_superkingdom\n",
      "id_kingdom\n",
      "id_phylum\n",
      "id_class\n",
      "id_order\n",
      "id_family\n",
      "id_genus\n",
      "id_species\n"
     ]
    }
   ],
   "source": [
    "for col in df.columns:\n",
    "    if \"id_\" in col:\n",
    "        print(col)\n",
    "        df[col].fillna(0, inplace=True)\n",
    "        df[col] = df[col].astype(int)"
   ]
  },
  {
   "cell_type": "code",
   "execution_count": 12,
   "metadata": {},
   "outputs": [
    {
     "data": {
      "application/vnd.jupyter.widget-view+json": {
       "model_id": "fec3a3db2377433ea69230cb811b110a",
       "version_major": 2,
       "version_minor": 0
      },
      "text/plain": [
       "HBox(children=(IntProgress(value=0, max=19), HTML(value='')))"
      ]
     },
     "metadata": {},
     "output_type": "display_data"
    },
    {
     "name": "stdout",
     "output_type": "stream",
     "text": [
      "\n"
     ]
    }
   ],
   "source": [
    "col_categories = ['rank', 'type', 'path_folder', \n",
    "                  'id_superkingdom', 'name_superkingdom', 'id_kingdom', 'name_kingdom', 'id_phylum', 'name_phylum', \n",
    "                  'id_class', 'name_class', 'id_order', 'name_order', 'id_family', 'name_family', \n",
    "                  'id_genus', 'name_genus', 'id_species', 'name_species']\n",
    "\n",
    "for col in tqdm(col_categories):\n",
    "    df[col] = df[col].astype('category')"
   ]
  },
  {
   "cell_type": "code",
   "execution_count": 13,
   "metadata": {},
   "outputs": [
    {
     "data": {
      "text/plain": [
       "'289.9 MB'"
      ]
     },
     "execution_count": 13,
     "metadata": {},
     "output_type": "execute_result"
    }
   ],
   "source": [
    "f\"{df.memory_usage(deep=True).sum()/1000000:.1f} MB\""
   ]
  },
  {
   "cell_type": "code",
   "execution_count": 14,
   "metadata": {
    "scrolled": true
   },
   "outputs": [
    {
     "data": {
      "text/html": [
       "<div>\n",
       "<style scoped>\n",
       "    .dataframe tbody tr th:only-of-type {\n",
       "        vertical-align: middle;\n",
       "    }\n",
       "\n",
       "    .dataframe tbody tr th {\n",
       "        vertical-align: top;\n",
       "    }\n",
       "\n",
       "    .dataframe thead th {\n",
       "        text-align: right;\n",
       "    }\n",
       "</style>\n",
       "<table border=\"1\" class=\"dataframe\">\n",
       "  <thead>\n",
       "    <tr style=\"text-align: right;\">\n",
       "      <th></th>\n",
       "      <th>taxon_id</th>\n",
       "      <th>taxon_name</th>\n",
       "      <th>rank</th>\n",
       "      <th>type</th>\n",
       "      <th>length</th>\n",
       "      <th>record_id</th>\n",
       "      <th>record_description</th>\n",
       "      <th>path_folder</th>\n",
       "      <th>path_file</th>\n",
       "      <th>id_superkingdom</th>\n",
       "      <th>name_superkingdom</th>\n",
       "      <th>id_kingdom</th>\n",
       "      <th>name_kingdom</th>\n",
       "      <th>id_phylum</th>\n",
       "      <th>name_phylum</th>\n",
       "      <th>id_class</th>\n",
       "      <th>name_class</th>\n",
       "      <th>id_order</th>\n",
       "      <th>name_order</th>\n",
       "      <th>id_family</th>\n",
       "      <th>name_family</th>\n",
       "      <th>id_genus</th>\n",
       "      <th>name_genus</th>\n",
       "      <th>id_species</th>\n",
       "      <th>name_species</th>\n",
       "    </tr>\n",
       "  </thead>\n",
       "  <tbody>\n",
       "    <tr>\n",
       "      <th>0</th>\n",
       "      <td>456320</td>\n",
       "      <td>Methanococcus voltae A3</td>\n",
       "      <td>no rank</td>\n",
       "      <td>complete genome</td>\n",
       "      <td>1936387</td>\n",
       "      <td>NC_014222.1</td>\n",
       "      <td>NC_014222.1 Methanococcus voltae A3, complete ...</td>\n",
       "      <td>/home/ubuntu/Disks/HDD1000/NCBI/20190704/refseq/</td>\n",
       "      <td>archaea/GCF_000006175.1/GCF_000006175.1_ASM617...</td>\n",
       "      <td>2157</td>\n",
       "      <td>Archaea</td>\n",
       "      <td>2182</td>\n",
       "      <td>Methanococcales</td>\n",
       "      <td>2183</td>\n",
       "      <td>Methanococcaceae</td>\n",
       "      <td>2184</td>\n",
       "      <td>Methanococcus</td>\n",
       "      <td>2188</td>\n",
       "      <td>Methanococcus voltae</td>\n",
       "      <td>28890</td>\n",
       "      <td>Euryarchaeota</td>\n",
       "      <td>183939</td>\n",
       "      <td>Methanococci</td>\n",
       "      <td>0</td>\n",
       "      <td>NaN</td>\n",
       "    </tr>\n",
       "    <tr>\n",
       "      <th>1</th>\n",
       "      <td>64091</td>\n",
       "      <td>Halobacterium salinarum NRC-1</td>\n",
       "      <td>no rank</td>\n",
       "      <td>complete genome</td>\n",
       "      <td>2014239</td>\n",
       "      <td>NC_002607.1</td>\n",
       "      <td>NC_002607.1 Halobacterium sp. NRC-1, complete ...</td>\n",
       "      <td>/home/ubuntu/Disks/HDD1000/NCBI/20190704/refseq/</td>\n",
       "      <td>archaea/GCF_000006805.1/GCF_000006805.1_ASM680...</td>\n",
       "      <td>2157</td>\n",
       "      <td>Archaea</td>\n",
       "      <td>2235</td>\n",
       "      <td>Halobacteriales</td>\n",
       "      <td>2236</td>\n",
       "      <td>Halobacteriaceae</td>\n",
       "      <td>2239</td>\n",
       "      <td>Halobacterium</td>\n",
       "      <td>2242</td>\n",
       "      <td>Halobacterium salinarum</td>\n",
       "      <td>28890</td>\n",
       "      <td>Euryarchaeota</td>\n",
       "      <td>183963</td>\n",
       "      <td>Halobacteria</td>\n",
       "      <td>0</td>\n",
       "      <td>NaN</td>\n",
       "    </tr>\n",
       "    <tr>\n",
       "      <th>2</th>\n",
       "      <td>64091</td>\n",
       "      <td>Halobacterium salinarum NRC-1</td>\n",
       "      <td>no rank</td>\n",
       "      <td>plasmid</td>\n",
       "      <td>191346</td>\n",
       "      <td>NC_001869.1</td>\n",
       "      <td>NC_001869.1 Halobacterium sp. NRC-1 plasmid pN...</td>\n",
       "      <td>/home/ubuntu/Disks/HDD1000/NCBI/20190704/refseq/</td>\n",
       "      <td>archaea/GCF_000006805.1/GCF_000006805.1_ASM680...</td>\n",
       "      <td>2157</td>\n",
       "      <td>Archaea</td>\n",
       "      <td>2235</td>\n",
       "      <td>Halobacteriales</td>\n",
       "      <td>2236</td>\n",
       "      <td>Halobacteriaceae</td>\n",
       "      <td>2239</td>\n",
       "      <td>Halobacterium</td>\n",
       "      <td>2242</td>\n",
       "      <td>Halobacterium salinarum</td>\n",
       "      <td>28890</td>\n",
       "      <td>Euryarchaeota</td>\n",
       "      <td>183963</td>\n",
       "      <td>Halobacteria</td>\n",
       "      <td>0</td>\n",
       "      <td>NaN</td>\n",
       "    </tr>\n",
       "    <tr>\n",
       "      <th>3</th>\n",
       "      <td>64091</td>\n",
       "      <td>Halobacterium salinarum NRC-1</td>\n",
       "      <td>no rank</td>\n",
       "      <td>complete genome</td>\n",
       "      <td>365425</td>\n",
       "      <td>NC_002608.1</td>\n",
       "      <td>NC_002608.1 Halobacterium sp. NRC-1 plasmid pN...</td>\n",
       "      <td>/home/ubuntu/Disks/HDD1000/NCBI/20190704/refseq/</td>\n",
       "      <td>archaea/GCF_000006805.1/GCF_000006805.1_ASM680...</td>\n",
       "      <td>2157</td>\n",
       "      <td>Archaea</td>\n",
       "      <td>2235</td>\n",
       "      <td>Halobacteriales</td>\n",
       "      <td>2236</td>\n",
       "      <td>Halobacteriaceae</td>\n",
       "      <td>2239</td>\n",
       "      <td>Halobacterium</td>\n",
       "      <td>2242</td>\n",
       "      <td>Halobacterium salinarum</td>\n",
       "      <td>28890</td>\n",
       "      <td>Euryarchaeota</td>\n",
       "      <td>183963</td>\n",
       "      <td>Halobacteria</td>\n",
       "      <td>0</td>\n",
       "      <td>NaN</td>\n",
       "    </tr>\n",
       "    <tr>\n",
       "      <th>4</th>\n",
       "      <td>273057</td>\n",
       "      <td>Saccharolobus solfataricus P2</td>\n",
       "      <td>no rank</td>\n",
       "      <td>complete genome</td>\n",
       "      <td>2992245</td>\n",
       "      <td>NC_002754.1</td>\n",
       "      <td>NC_002754.1 Sulfolobus solfataricus P2, comple...</td>\n",
       "      <td>/home/ubuntu/Disks/HDD1000/NCBI/20190704/refseq/</td>\n",
       "      <td>archaea/GCF_000007005.1/GCF_000007005.1_ASM700...</td>\n",
       "      <td>2157</td>\n",
       "      <td>Archaea</td>\n",
       "      <td>2281</td>\n",
       "      <td>Sulfolobales</td>\n",
       "      <td>2287</td>\n",
       "      <td>Saccharolobus solfataricus</td>\n",
       "      <td>28889</td>\n",
       "      <td>Crenarchaeota</td>\n",
       "      <td>118883</td>\n",
       "      <td>Sulfolobaceae</td>\n",
       "      <td>183924</td>\n",
       "      <td>Thermoprotei</td>\n",
       "      <td>2100760</td>\n",
       "      <td>Saccharolobus</td>\n",
       "      <td>0</td>\n",
       "      <td>NaN</td>\n",
       "    </tr>\n",
       "    <tr>\n",
       "      <th>...</th>\n",
       "      <td>...</td>\n",
       "      <td>...</td>\n",
       "      <td>...</td>\n",
       "      <td>...</td>\n",
       "      <td>...</td>\n",
       "      <td>...</td>\n",
       "      <td>...</td>\n",
       "      <td>...</td>\n",
       "      <td>...</td>\n",
       "      <td>...</td>\n",
       "      <td>...</td>\n",
       "      <td>...</td>\n",
       "      <td>...</td>\n",
       "      <td>...</td>\n",
       "      <td>...</td>\n",
       "      <td>...</td>\n",
       "      <td>...</td>\n",
       "      <td>...</td>\n",
       "      <td>...</td>\n",
       "      <td>...</td>\n",
       "      <td>...</td>\n",
       "      <td>...</td>\n",
       "      <td>...</td>\n",
       "      <td>...</td>\n",
       "      <td>...</td>\n",
       "    </tr>\n",
       "    <tr>\n",
       "      <th>578751</th>\n",
       "      <td>10090</td>\n",
       "      <td>Mus musculus</td>\n",
       "      <td>species</td>\n",
       "      <td>contig</td>\n",
       "      <td>264822</td>\n",
       "      <td>NT_166293.1</td>\n",
       "      <td>NT_166293.1 Mus musculus strain 129S7/SvEvBrd-...</td>\n",
       "      <td>/home/ubuntu/Disks/HDD1000/NCBI/20190704/refseq/</td>\n",
       "      <td>vertebrate_mammalian/GCF_000001635.26/GCF_0000...</td>\n",
       "      <td>2759</td>\n",
       "      <td>Eukaryota</td>\n",
       "      <td>7711</td>\n",
       "      <td>Chordata</td>\n",
       "      <td>9989</td>\n",
       "      <td>Rodentia</td>\n",
       "      <td>10066</td>\n",
       "      <td>Muridae</td>\n",
       "      <td>10088</td>\n",
       "      <td>Mus</td>\n",
       "      <td>10090</td>\n",
       "      <td>Mus musculus</td>\n",
       "      <td>33208</td>\n",
       "      <td>Metazoa</td>\n",
       "      <td>40674</td>\n",
       "      <td>Mammalia</td>\n",
       "    </tr>\n",
       "    <tr>\n",
       "      <th>578752</th>\n",
       "      <td>10090</td>\n",
       "      <td>Mus musculus</td>\n",
       "      <td>species</td>\n",
       "      <td>contig</td>\n",
       "      <td>191695</td>\n",
       "      <td>NT_166294.1</td>\n",
       "      <td>NT_166294.1 Mus musculus strain 129S7/SvEvBrd-...</td>\n",
       "      <td>/home/ubuntu/Disks/HDD1000/NCBI/20190704/refseq/</td>\n",
       "      <td>vertebrate_mammalian/GCF_000001635.26/GCF_0000...</td>\n",
       "      <td>2759</td>\n",
       "      <td>Eukaryota</td>\n",
       "      <td>7711</td>\n",
       "      <td>Chordata</td>\n",
       "      <td>9989</td>\n",
       "      <td>Rodentia</td>\n",
       "      <td>10066</td>\n",
       "      <td>Muridae</td>\n",
       "      <td>10088</td>\n",
       "      <td>Mus</td>\n",
       "      <td>10090</td>\n",
       "      <td>Mus musculus</td>\n",
       "      <td>33208</td>\n",
       "      <td>Metazoa</td>\n",
       "      <td>40674</td>\n",
       "      <td>Mammalia</td>\n",
       "    </tr>\n",
       "    <tr>\n",
       "      <th>578753</th>\n",
       "      <td>10090</td>\n",
       "      <td>Mus musculus</td>\n",
       "      <td>species</td>\n",
       "      <td>contig</td>\n",
       "      <td>99963</td>\n",
       "      <td>NT_166322.1</td>\n",
       "      <td>NT_166322.1 Mus musculus strain 129S7/SvEvBrd-...</td>\n",
       "      <td>/home/ubuntu/Disks/HDD1000/NCBI/20190704/refseq/</td>\n",
       "      <td>vertebrate_mammalian/GCF_000001635.26/GCF_0000...</td>\n",
       "      <td>2759</td>\n",
       "      <td>Eukaryota</td>\n",
       "      <td>7711</td>\n",
       "      <td>Chordata</td>\n",
       "      <td>9989</td>\n",
       "      <td>Rodentia</td>\n",
       "      <td>10066</td>\n",
       "      <td>Muridae</td>\n",
       "      <td>10088</td>\n",
       "      <td>Mus</td>\n",
       "      <td>10090</td>\n",
       "      <td>Mus musculus</td>\n",
       "      <td>33208</td>\n",
       "      <td>Metazoa</td>\n",
       "      <td>40674</td>\n",
       "      <td>Mammalia</td>\n",
       "    </tr>\n",
       "    <tr>\n",
       "      <th>578754</th>\n",
       "      <td>10090</td>\n",
       "      <td>Mus musculus</td>\n",
       "      <td>species</td>\n",
       "      <td>contig</td>\n",
       "      <td>89177</td>\n",
       "      <td>NT_187001.1</td>\n",
       "      <td>NT_187001.1 Mus musculus strain 129S7/SvEvBrd-...</td>\n",
       "      <td>/home/ubuntu/Disks/HDD1000/NCBI/20190704/refseq/</td>\n",
       "      <td>vertebrate_mammalian/GCF_000001635.26/GCF_0000...</td>\n",
       "      <td>2759</td>\n",
       "      <td>Eukaryota</td>\n",
       "      <td>7711</td>\n",
       "      <td>Chordata</td>\n",
       "      <td>9989</td>\n",
       "      <td>Rodentia</td>\n",
       "      <td>10066</td>\n",
       "      <td>Muridae</td>\n",
       "      <td>10088</td>\n",
       "      <td>Mus</td>\n",
       "      <td>10090</td>\n",
       "      <td>Mus musculus</td>\n",
       "      <td>33208</td>\n",
       "      <td>Metazoa</td>\n",
       "      <td>40674</td>\n",
       "      <td>Mammalia</td>\n",
       "    </tr>\n",
       "    <tr>\n",
       "      <th>578755</th>\n",
       "      <td>10090</td>\n",
       "      <td>Mus musculus</td>\n",
       "      <td>species</td>\n",
       "      <td>complete genome</td>\n",
       "      <td>16299</td>\n",
       "      <td>NC_005089.1</td>\n",
       "      <td>NC_005089.1 Mus musculus mitochondrion, comple...</td>\n",
       "      <td>/home/ubuntu/Disks/HDD1000/NCBI/20190704/refseq/</td>\n",
       "      <td>vertebrate_mammalian/GCF_000001635.26/GCF_0000...</td>\n",
       "      <td>2759</td>\n",
       "      <td>Eukaryota</td>\n",
       "      <td>7711</td>\n",
       "      <td>Chordata</td>\n",
       "      <td>9989</td>\n",
       "      <td>Rodentia</td>\n",
       "      <td>10066</td>\n",
       "      <td>Muridae</td>\n",
       "      <td>10088</td>\n",
       "      <td>Mus</td>\n",
       "      <td>10090</td>\n",
       "      <td>Mus musculus</td>\n",
       "      <td>33208</td>\n",
       "      <td>Metazoa</td>\n",
       "      <td>40674</td>\n",
       "      <td>Mammalia</td>\n",
       "    </tr>\n",
       "  </tbody>\n",
       "</table>\n",
       "<p>578756 rows × 25 columns</p>\n",
       "</div>"
      ],
      "text/plain": [
       "        taxon_id                     taxon_name     rank             type  \\\n",
       "0         456320        Methanococcus voltae A3  no rank  complete genome   \n",
       "1          64091  Halobacterium salinarum NRC-1  no rank  complete genome   \n",
       "2          64091  Halobacterium salinarum NRC-1  no rank          plasmid   \n",
       "3          64091  Halobacterium salinarum NRC-1  no rank  complete genome   \n",
       "4         273057  Saccharolobus solfataricus P2  no rank  complete genome   \n",
       "...          ...                            ...      ...              ...   \n",
       "578751     10090                   Mus musculus  species           contig   \n",
       "578752     10090                   Mus musculus  species           contig   \n",
       "578753     10090                   Mus musculus  species           contig   \n",
       "578754     10090                   Mus musculus  species           contig   \n",
       "578755     10090                   Mus musculus  species  complete genome   \n",
       "\n",
       "         length    record_id  \\\n",
       "0       1936387  NC_014222.1   \n",
       "1       2014239  NC_002607.1   \n",
       "2        191346  NC_001869.1   \n",
       "3        365425  NC_002608.1   \n",
       "4       2992245  NC_002754.1   \n",
       "...         ...          ...   \n",
       "578751   264822  NT_166293.1   \n",
       "578752   191695  NT_166294.1   \n",
       "578753    99963  NT_166322.1   \n",
       "578754    89177  NT_187001.1   \n",
       "578755    16299  NC_005089.1   \n",
       "\n",
       "                                       record_description  \\\n",
       "0       NC_014222.1 Methanococcus voltae A3, complete ...   \n",
       "1       NC_002607.1 Halobacterium sp. NRC-1, complete ...   \n",
       "2       NC_001869.1 Halobacterium sp. NRC-1 plasmid pN...   \n",
       "3       NC_002608.1 Halobacterium sp. NRC-1 plasmid pN...   \n",
       "4       NC_002754.1 Sulfolobus solfataricus P2, comple...   \n",
       "...                                                   ...   \n",
       "578751  NT_166293.1 Mus musculus strain 129S7/SvEvBrd-...   \n",
       "578752  NT_166294.1 Mus musculus strain 129S7/SvEvBrd-...   \n",
       "578753  NT_166322.1 Mus musculus strain 129S7/SvEvBrd-...   \n",
       "578754  NT_187001.1 Mus musculus strain 129S7/SvEvBrd-...   \n",
       "578755  NC_005089.1 Mus musculus mitochondrion, comple...   \n",
       "\n",
       "                                             path_folder  \\\n",
       "0       /home/ubuntu/Disks/HDD1000/NCBI/20190704/refseq/   \n",
       "1       /home/ubuntu/Disks/HDD1000/NCBI/20190704/refseq/   \n",
       "2       /home/ubuntu/Disks/HDD1000/NCBI/20190704/refseq/   \n",
       "3       /home/ubuntu/Disks/HDD1000/NCBI/20190704/refseq/   \n",
       "4       /home/ubuntu/Disks/HDD1000/NCBI/20190704/refseq/   \n",
       "...                                                  ...   \n",
       "578751  /home/ubuntu/Disks/HDD1000/NCBI/20190704/refseq/   \n",
       "578752  /home/ubuntu/Disks/HDD1000/NCBI/20190704/refseq/   \n",
       "578753  /home/ubuntu/Disks/HDD1000/NCBI/20190704/refseq/   \n",
       "578754  /home/ubuntu/Disks/HDD1000/NCBI/20190704/refseq/   \n",
       "578755  /home/ubuntu/Disks/HDD1000/NCBI/20190704/refseq/   \n",
       "\n",
       "                                                path_file id_superkingdom  \\\n",
       "0       archaea/GCF_000006175.1/GCF_000006175.1_ASM617...            2157   \n",
       "1       archaea/GCF_000006805.1/GCF_000006805.1_ASM680...            2157   \n",
       "2       archaea/GCF_000006805.1/GCF_000006805.1_ASM680...            2157   \n",
       "3       archaea/GCF_000006805.1/GCF_000006805.1_ASM680...            2157   \n",
       "4       archaea/GCF_000007005.1/GCF_000007005.1_ASM700...            2157   \n",
       "...                                                   ...             ...   \n",
       "578751  vertebrate_mammalian/GCF_000001635.26/GCF_0000...            2759   \n",
       "578752  vertebrate_mammalian/GCF_000001635.26/GCF_0000...            2759   \n",
       "578753  vertebrate_mammalian/GCF_000001635.26/GCF_0000...            2759   \n",
       "578754  vertebrate_mammalian/GCF_000001635.26/GCF_0000...            2759   \n",
       "578755  vertebrate_mammalian/GCF_000001635.26/GCF_0000...            2759   \n",
       "\n",
       "       name_superkingdom id_kingdom     name_kingdom id_phylum  \\\n",
       "0                Archaea       2182  Methanococcales      2183   \n",
       "1                Archaea       2235  Halobacteriales      2236   \n",
       "2                Archaea       2235  Halobacteriales      2236   \n",
       "3                Archaea       2235  Halobacteriales      2236   \n",
       "4                Archaea       2281     Sulfolobales      2287   \n",
       "...                  ...        ...              ...       ...   \n",
       "578751         Eukaryota       7711         Chordata      9989   \n",
       "578752         Eukaryota       7711         Chordata      9989   \n",
       "578753         Eukaryota       7711         Chordata      9989   \n",
       "578754         Eukaryota       7711         Chordata      9989   \n",
       "578755         Eukaryota       7711         Chordata      9989   \n",
       "\n",
       "                       name_phylum id_class     name_class id_order  \\\n",
       "0                 Methanococcaceae     2184  Methanococcus     2188   \n",
       "1                 Halobacteriaceae     2239  Halobacterium     2242   \n",
       "2                 Halobacteriaceae     2239  Halobacterium     2242   \n",
       "3                 Halobacteriaceae     2239  Halobacterium     2242   \n",
       "4       Saccharolobus solfataricus    28889  Crenarchaeota   118883   \n",
       "...                            ...      ...            ...      ...   \n",
       "578751                    Rodentia    10066        Muridae    10088   \n",
       "578752                    Rodentia    10066        Muridae    10088   \n",
       "578753                    Rodentia    10066        Muridae    10088   \n",
       "578754                    Rodentia    10066        Muridae    10088   \n",
       "578755                    Rodentia    10066        Muridae    10088   \n",
       "\n",
       "                     name_order id_family    name_family id_genus  \\\n",
       "0          Methanococcus voltae     28890  Euryarchaeota   183939   \n",
       "1       Halobacterium salinarum     28890  Euryarchaeota   183963   \n",
       "2       Halobacterium salinarum     28890  Euryarchaeota   183963   \n",
       "3       Halobacterium salinarum     28890  Euryarchaeota   183963   \n",
       "4                 Sulfolobaceae    183924   Thermoprotei  2100760   \n",
       "...                         ...       ...            ...      ...   \n",
       "578751                      Mus     10090   Mus musculus    33208   \n",
       "578752                      Mus     10090   Mus musculus    33208   \n",
       "578753                      Mus     10090   Mus musculus    33208   \n",
       "578754                      Mus     10090   Mus musculus    33208   \n",
       "578755                      Mus     10090   Mus musculus    33208   \n",
       "\n",
       "           name_genus id_species name_species  \n",
       "0        Methanococci          0          NaN  \n",
       "1        Halobacteria          0          NaN  \n",
       "2        Halobacteria          0          NaN  \n",
       "3        Halobacteria          0          NaN  \n",
       "4       Saccharolobus          0          NaN  \n",
       "...               ...        ...          ...  \n",
       "578751        Metazoa      40674     Mammalia  \n",
       "578752        Metazoa      40674     Mammalia  \n",
       "578753        Metazoa      40674     Mammalia  \n",
       "578754        Metazoa      40674     Mammalia  \n",
       "578755        Metazoa      40674     Mammalia  \n",
       "\n",
       "[578756 rows x 25 columns]"
      ]
     },
     "execution_count": 14,
     "metadata": {},
     "output_type": "execute_result"
    }
   ],
   "source": [
    "df"
   ]
  },
  {
   "cell_type": "code",
   "execution_count": 15,
   "metadata": {},
   "outputs": [],
   "source": [
    "df.to_pickle(path_ncbi_pd)"
   ]
  },
  {
   "cell_type": "markdown",
   "metadata": {},
   "source": [
    "# Need to fix the species name"
   ]
  },
  {
   "cell_type": "code",
   "execution_count": null,
   "metadata": {},
   "outputs": [],
   "source": [
    "from ete3 import NCBITaxa\n",
    "ncbi = NCBITaxa()\n",
    "\n",
    "ncbi.get_fuzzy_name_translation(\"Clostridioides difficile\")\n",
    "\n",
    "ncbi.get_name_translator([\"Clostridioides difficile\"])"
   ]
  },
  {
   "cell_type": "code",
   "execution_count": null,
   "metadata": {},
   "outputs": [],
   "source": []
  },
  {
   "cell_type": "code",
   "execution_count": null,
   "metadata": {},
   "outputs": [],
   "source": []
  },
  {
   "cell_type": "markdown",
   "metadata": {},
   "source": [
    "# End"
   ]
  },
  {
   "cell_type": "code",
   "execution_count": 206,
   "metadata": {},
   "outputs": [],
   "source": [
    "headers = [\"taxon_id\", \"taxon_name\", \"rank\", \"type\", \"length\", \"record_id\", \"record_description\",\n",
    "           \"path_folder\", \"path_file\", ]\n",
    "[headers.extend([f\"id_{v}\", f\"name_{v}\"]) for v in desired_ranks]"
   ]
  },
  {
   "cell_type": "code",
   "execution_count": 234,
   "metadata": {},
   "outputs": [
    {
     "data": {
      "text/plain": [
       "\"['taxon_name', 'rank', 'type', 'length', 'record_id', 'record_description', 'path_folder', 'path_file', 'id_superkingdom', 'name_superkingdom', 'id_kingdom', 'name_kingdom', 'id_phylum', 'name_phylum', 'id_class', 'name_class', 'id_order', 'name_order', 'id_family', 'name_family', 'id_genus', 'name_genus', 'id_species', 'name_species']\""
      ]
     },
     "execution_count": 234,
     "metadata": {},
     "output_type": "execute_result"
    }
   ],
   "source": [
    "\"['\" + \"', '\".join(\"taxon_name\trank\ttype\tlength\trecord_id\trecord_description\tpath_folder\tpath_file\tid_superkingdom\tname_superkingdom\tid_kingdom\tname_kingdom\tid_phylum\tname_phylum\tid_class\tname_class\tid_order\tname_order\tid_family\tname_family\tid_genus\tname_genus\tid_species\tname_species\".split(\"\\t\")) + \"']\""
   ]
  },
  {
   "cell_type": "code",
   "execution_count": null,
   "metadata": {},
   "outputs": [],
   "source": []
  },
  {
   "cell_type": "code",
   "execution_count": 213,
   "metadata": {
    "scrolled": true
   },
   "outputs": [
    {
     "data": {
      "text/plain": [
       "(272569,\n",
       " 'Haloarcula marismortui ATCC 43049',\n",
       " 'no rank',\n",
       " 'plasmid',\n",
       " 410554,\n",
       " 'NC_006395.1',\n",
       " 'NC_006395.1 Haloarcula marismortui ATCC 43049 plasmid pNG700, complete sequence',\n",
       " '/home/ubuntu/Disks/HDD1000/NCBI/20190704/refseq/',\n",
       " 'archaea/GCF_000011085.1/GCF_000011085.1_ASM1108v1_genomic.fna',\n",
       " 2157,\n",
       " 'Archaea',\n",
       " 2235,\n",
       " 'Halobacteriales',\n",
       " 2237,\n",
       " 'Haloarcula',\n",
       " 2238,\n",
       " 'Haloarcula marismortui',\n",
       " 28890,\n",
       " 'Euryarchaeota',\n",
       " 183963,\n",
       " 'Halobacteria',\n",
       " 1963268,\n",
       " 'Haloarculaceae')"
      ]
     },
     "execution_count": 213,
     "metadata": {},
     "output_type": "execute_result"
    }
   ],
   "source": [
    "record_data"
   ]
  },
  {
   "cell_type": "code",
   "execution_count": null,
   "metadata": {},
   "outputs": [],
   "source": []
  },
  {
   "cell_type": "code",
   "execution_count": null,
   "metadata": {},
   "outputs": [],
   "source": []
  },
  {
   "cell_type": "code",
   "execution_count": null,
   "metadata": {},
   "outputs": [],
   "source": []
  },
  {
   "cell_type": "code",
   "execution_count": 114,
   "metadata": {},
   "outputs": [],
   "source": [
    "path_file = \"/home/ubuntu/Disks/HDD1000/NCBI/20190704/refseq/bacteria/GCF_000006845.1/GCF_000006845.1_ASM684v1_genomic.fna\""
   ]
  },
  {
   "cell_type": "code",
   "execution_count": null,
   "metadata": {},
   "outputs": [],
   "source": []
  },
  {
   "cell_type": "code",
   "execution_count": null,
   "metadata": {},
   "outputs": [],
   "source": []
  },
  {
   "cell_type": "code",
   "execution_count": 56,
   "metadata": {
    "scrolled": true
   },
   "outputs": [
    {
     "data": {
      "text/plain": [
       "SeqRecord(seq=Seq('AATTTAAAGATTAAAATTAGTAGACTGTCGATTTACAATATCATATTTATGAGT...TAA', SingleLetterAlphabet()), id='NC_014222.1', name='NC_014222.1', description='NC_014222.1 Methanococcus voltae A3, complete genome', dbxrefs=[])"
      ]
     },
     "execution_count": 56,
     "metadata": {},
     "output_type": "execute_result"
    }
   ],
   "source": [
    "record"
   ]
  },
  {
   "cell_type": "code",
   "execution_count": 59,
   "metadata": {},
   "outputs": [
    {
     "data": {
      "text/plain": [
       "1936387"
      ]
     },
     "execution_count": 59,
     "metadata": {},
     "output_type": "execute_result"
    }
   ],
   "source": [
    "len(record.seq)"
   ]
  },
  {
   "cell_type": "code",
   "execution_count": 85,
   "metadata": {},
   "outputs": [
    {
     "data": {
      "text/plain": [
       "Seq('AATTTAAAGATTAAAATTAGTAGACTGTCGATTTACAATATCATATTTATGAGT...TAA', SingleLetterAlphabet())"
      ]
     },
     "execution_count": 85,
     "metadata": {},
     "output_type": "execute_result"
    }
   ],
   "source": [
    "record.seq.upper()"
   ]
  },
  {
   "cell_type": "code",
   "execution_count": 73,
   "metadata": {},
   "outputs": [
    {
     "name": "stdout",
     "output_type": "stream",
     "text": [
      "ID: NC_014222.1\n",
      "Name: NC_014222.1\n",
      "Description: NC_014222.1 Methanococcus voltae A3, complete genome\n",
      "Number of features: 0\n",
      "Seq('AATTTAAAGATTAAAATTAGTAGACTGTCGATTTACAATATCATATTTATGAGT...TAA', SingleLetterAlphabet())\n"
     ]
    }
   ],
   "source": [
    "print(record)"
   ]
  },
  {
   "cell_type": "code",
   "execution_count": 62,
   "metadata": {
    "scrolled": true
   },
   "outputs": [
    {
     "data": {
      "text/plain": [
       "['__add__',\n",
       " '__bool__',\n",
       " '__class__',\n",
       " '__contains__',\n",
       " '__delattr__',\n",
       " '__dict__',\n",
       " '__dir__',\n",
       " '__doc__',\n",
       " '__eq__',\n",
       " '__format__',\n",
       " '__ge__',\n",
       " '__getattribute__',\n",
       " '__getitem__',\n",
       " '__gt__',\n",
       " '__hash__',\n",
       " '__init__',\n",
       " '__init_subclass__',\n",
       " '__iter__',\n",
       " '__le__',\n",
       " '__le___',\n",
       " '__len__',\n",
       " '__lt__',\n",
       " '__module__',\n",
       " '__ne__',\n",
       " '__new__',\n",
       " '__nonzero__',\n",
       " '__radd__',\n",
       " '__reduce__',\n",
       " '__reduce_ex__',\n",
       " '__repr__',\n",
       " '__setattr__',\n",
       " '__sizeof__',\n",
       " '__str__',\n",
       " '__subclasshook__',\n",
       " '__weakref__',\n",
       " '_per_letter_annotations',\n",
       " '_seq',\n",
       " '_set_per_letter_annotations',\n",
       " '_set_seq',\n",
       " 'annotations',\n",
       " 'dbxrefs',\n",
       " 'description',\n",
       " 'features',\n",
       " 'format',\n",
       " 'id',\n",
       " 'letter_annotations',\n",
       " 'lower',\n",
       " 'name',\n",
       " 'reverse_complement',\n",
       " 'seq',\n",
       " 'translate',\n",
       " 'upper']"
      ]
     },
     "execution_count": 62,
     "metadata": {},
     "output_type": "execute_result"
    }
   ],
   "source": [
    "dir(record)"
   ]
  },
  {
   "cell_type": "code",
   "execution_count": 86,
   "metadata": {},
   "outputs": [
    {
     "data": {
      "text/plain": [
       "'NC_014222.1 Methanococcus voltae A3, complete genome'"
      ]
     },
     "execution_count": 86,
     "metadata": {},
     "output_type": "execute_result"
    }
   ],
   "source": [
    "record.description"
   ]
  },
  {
   "cell_type": "code",
   "execution_count": null,
   "metadata": {},
   "outputs": [],
   "source": []
  },
  {
   "cell_type": "code",
   "execution_count": 176,
   "metadata": {
    "scrolled": true
   },
   "outputs": [
    {
     "data": {
      "text/plain": [
       "{'superkingdom_id': 2,\n",
       " 'kingdom_id': 'NaN',\n",
       " 'phylum_id': 'NaN',\n",
       " 'class_id': 'NaN',\n",
       " 'order_id': 'NaN',\n",
       " 'family_id': 'NaN',\n",
       " 'genus_id': 'NaN',\n",
       " 'species_id': 'NaN'}"
      ]
     },
     "execution_count": 176,
     "metadata": {},
     "output_type": "execute_result"
    }
   ],
   "source": [
    "get_desired_ranks(2, desired_ranks)"
   ]
  },
  {
   "cell_type": "code",
   "execution_count": 154,
   "metadata": {},
   "outputs": [
    {
     "data": {
      "text/plain": [
       "[2759, 33208, 7711, 40674, 9443, 9604, 9605, 9606]"
      ]
     },
     "execution_count": 154,
     "metadata": {},
     "output_type": "execute_result"
    }
   ],
   "source": [
    "get_desired_ranks(9606, desired_ranks, tolist=True)"
   ]
  },
  {
   "cell_type": "code",
   "execution_count": 155,
   "metadata": {
    "scrolled": true
   },
   "outputs": [
    {
     "data": {
      "text/plain": [
       "['Eukaryota',\n",
       " 'Metazoa',\n",
       " 'Chordata',\n",
       " 'Mammalia',\n",
       " 'Primates',\n",
       " 'Hominidae',\n",
       " 'Homo',\n",
       " 'Homo sapiens']"
      ]
     },
     "execution_count": 155,
     "metadata": {},
     "output_type": "execute_result"
    }
   ],
   "source": [
    "ncbi.translate_to_names(get_desired_ranks(9606, desired_ranks, tolist=True))"
   ]
  },
  {
   "cell_type": "code",
   "execution_count": 184,
   "metadata": {
    "scrolled": true
   },
   "outputs": [
    {
     "data": {
      "text/plain": [
       "{2: 'Bacteria',\n",
       " 6: 'Azorhizobium',\n",
       " 356: 'Rhizobiales',\n",
       " 1224: 'Proteobacteria',\n",
       " 28211: 'Alphaproteobacteria',\n",
       " 335928: 'Xanthobacteraceae'}"
      ]
     },
     "execution_count": 184,
     "metadata": {},
     "output_type": "execute_result"
    }
   ],
   "source": [
    "ranks_id_str = ncbi.get_taxid_translator(get_desired_ranks(6, desired_ranks, tolist=True))\n",
    "ranks_id_str"
   ]
  },
  {
   "cell_type": "code",
   "execution_count": 185,
   "metadata": {},
   "outputs": [
    {
     "data": {
      "text/plain": [
       "[None, None, None, None, None, None]"
      ]
     },
     "execution_count": 185,
     "metadata": {},
     "output_type": "execute_result"
    }
   ],
   "source": [
    "l=[]\n",
    "[l.extend([k,v]) for k,v in ranks_id_str.items()]"
   ]
  },
  {
   "cell_type": "code",
   "execution_count": 186,
   "metadata": {
    "scrolled": true
   },
   "outputs": [
    {
     "data": {
      "text/plain": [
       "[2,\n",
       " 'Bacteria',\n",
       " 6,\n",
       " 'Azorhizobium',\n",
       " 356,\n",
       " 'Rhizobiales',\n",
       " 1224,\n",
       " 'Proteobacteria',\n",
       " 28211,\n",
       " 'Alphaproteobacteria',\n",
       " 335928,\n",
       " 'Xanthobacteraceae']"
      ]
     },
     "execution_count": 186,
     "metadata": {},
     "output_type": "execute_result"
    }
   ],
   "source": [
    "l"
   ]
  },
  {
   "cell_type": "code",
   "execution_count": null,
   "metadata": {},
   "outputs": [],
   "source": []
  },
  {
   "cell_type": "code",
   "execution_count": null,
   "metadata": {},
   "outputs": [],
   "source": []
  }
 ],
 "metadata": {
  "hide_input": false,
  "kernelspec": {
   "display_name": "Python 3",
   "language": "python",
   "name": "python3"
  },
  "language_info": {
   "codemirror_mode": {
    "name": "ipython",
    "version": 3
   },
   "file_extension": ".py",
   "mimetype": "text/x-python",
   "name": "python",
   "nbconvert_exporter": "python",
   "pygments_lexer": "ipython3",
   "version": "3.7.3"
  },
  "toc": {
   "base_numbering": 1,
   "nav_menu": {},
   "number_sections": true,
   "sideBar": true,
   "skip_h1_title": false,
   "title_cell": "Table of Contents",
   "title_sidebar": "Contents",
   "toc_cell": false,
   "toc_position": {},
   "toc_section_display": true,
   "toc_window_display": false
  },
  "varInspector": {
   "cols": {
    "lenName": 16,
    "lenType": 16,
    "lenVar": 40
   },
   "kernels_config": {
    "python": {
     "delete_cmd_postfix": "",
     "delete_cmd_prefix": "del ",
     "library": "var_list.py",
     "varRefreshCmd": "print(var_dic_list())"
    },
    "r": {
     "delete_cmd_postfix": ") ",
     "delete_cmd_prefix": "rm(",
     "library": "var_list.r",
     "varRefreshCmd": "cat(var_dic_list()) "
    }
   },
   "types_to_exclude": [
    "module",
    "function",
    "builtin_function_or_method",
    "instance",
    "_Feature"
   ],
   "window_display": false
  }
 },
 "nbformat": 4,
 "nbformat_minor": 2
}
