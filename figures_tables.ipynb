{
 "cells": [
  {
   "cell_type": "code",
   "execution_count": 1,
   "metadata": {
    "ExecuteTime": {
     "end_time": "2020-04-23T04:07:06.821473Z",
     "start_time": "2020-04-23T04:07:06.442145Z"
    }
   },
   "outputs": [],
   "source": [
    "import pandas as pd\n",
    "from glob import glob\n",
    "import os\n",
    "from os import path as osp\n",
    "from matplotlib import pyplot as plt\n",
    "import matplotlib"
   ]
  },
  {
   "cell_type": "code",
   "execution_count": 2,
   "metadata": {
    "ExecuteTime": {
     "end_time": "2020-04-23T04:07:06.860908Z",
     "start_time": "2020-04-23T04:07:06.823365Z"
    }
   },
   "outputs": [],
   "source": [
    "import ete3.ncbi_taxonomy\n",
    "ncbi = ete3.ncbi_taxonomy.NCBITaxa()"
   ]
  },
  {
   "cell_type": "code",
   "execution_count": 3,
   "metadata": {
    "ExecuteTime": {
     "end_time": "2020-04-23T04:07:06.868882Z",
     "start_time": "2020-04-23T04:07:06.862903Z"
    },
    "code_folding": [
     0
    ]
   },
   "outputs": [],
   "source": [
    "def get_desired_ranks(taxid, desired_ranks, tolist=False):\n",
    "    \"\"\" From stackoverflow\n",
    "        https://stackoverflow.com/questions/36503042/how-to-get-taxonomic-specific-ids-for-kingdom-phylum-class-order-family-gen\n",
    "    \"\"\"\n",
    "    try:\n",
    "        lineage = ncbi.get_lineage(taxid)\n",
    "        lineage2ranks = ncbi.get_rank(lineage)\n",
    "        ranks2lineage = dict((rank, taxid) for (taxid, rank) in lineage2ranks.items())\n",
    "        if tolist: return [ranks2lineage.get(rank, 0) for rank in desired_ranks]\n",
    "        else:      return {f'{rank}_id': ranks2lineage.get(rank, 0) for rank in desired_ranks}\n",
    "    except:\n",
    "        print(f\"retrieval of the lineage of {taxid} failed\")\n",
    "        if tolist: return [0 for rank in desired_ranks]\n",
    "        else:      return {f'{rank}_id': 0 for rank in desired_ranks}"
   ]
  },
  {
   "cell_type": "code",
   "execution_count": 4,
   "metadata": {
    "ExecuteTime": {
     "end_time": "2020-04-23T04:07:06.883303Z",
     "start_time": "2020-04-23T04:07:06.870732Z"
    },
    "code_folding": [
     0
    ]
   },
   "outputs": [],
   "source": [
    "def get_list_rank(taxids, desired_rank=\"species\"):\n",
    "    res = []\n",
    "    for taxid in taxids:\n",
    "        name = get_desired_ranks(taxid, [desired_rank], tolist=True)[0]\n",
    "        res.append(name)\n",
    "    return res"
   ]
  },
  {
   "cell_type": "code",
   "execution_count": 5,
   "metadata": {
    "ExecuteTime": {
     "end_time": "2020-04-23T04:07:06.904435Z",
     "start_time": "2020-04-23T04:07:06.884696Z"
    }
   },
   "outputs": [],
   "source": [
    "pd.set_option('precision', 5)\n",
    "matplotlib.style.use('ggplot')"
   ]
  },
  {
   "cell_type": "raw",
   "metadata": {
    "ExecuteTime": {
     "end_time": "2020-04-22T14:22:06.642156Z",
     "start_time": "2020-04-22T14:22:06.637355Z"
    }
   },
   "source": [
    "matplotlib.style.available"
   ]
  },
  {
   "cell_type": "code",
   "execution_count": 6,
   "metadata": {
    "ExecuteTime": {
     "end_time": "2020-04-23T04:07:06.923713Z",
     "start_time": "2020-04-23T04:07:06.906013Z"
    }
   },
   "outputs": [],
   "source": [
    "out_figs = \"/mnt/data/results/extended_abstract\""
   ]
  },
  {
   "cell_type": "markdown",
   "metadata": {},
   "source": [
    "## tests"
   ]
  },
  {
   "cell_type": "code",
   "execution_count": 7,
   "metadata": {
    "ExecuteTime": {
     "end_time": "2020-04-23T04:07:06.935869Z",
     "start_time": "2020-04-23T04:07:06.925206Z"
    }
   },
   "outputs": [],
   "source": [
    "import shutil\n",
    "from glob import glob"
   ]
  },
  {
   "cell_type": "raw",
   "metadata": {
    "ExecuteTime": {
     "end_time": "2020-04-17T07:09:40.029609Z",
     "start_time": "2020-04-17T07:09:40.023237Z"
    }
   },
   "source": [
    "folder = \"/mnt/data/Segmentation/Test-Data/ONT_Silico_Communities/clustered_by_minikm_3mer_s5000_omitted_plant_vertebrate\"\n",
    "identifier = osp.join(folder, \"Mock_100000-bacteria-l1000-q10\" + \"*\")\n",
    "archive_folder = osp.join(folder, \"_archive/\")\n",
    "os.makedirs(archive_folder, exist_ok=True)\n",
    "for file in glob(identifier):\n",
    "    shutil.move(file, osp.join(archive_folder, osp.basename(file)))\n",
    "# cmd = [\"mv\", osp.join(folder, identifier + \"*\"), archive_folder + \"*\"]\n",
    "# out = subprocess.run(cmd)\n",
    "# out"
   ]
  },
  {
   "cell_type": "code",
   "execution_count": null,
   "metadata": {},
   "outputs": [],
   "source": []
  },
  {
   "cell_type": "markdown",
   "metadata": {},
   "source": [
    "## Parameters: b, k, s"
   ]
  },
  {
   "cell_type": "code",
   "execution_count": 8,
   "metadata": {
    "ExecuteTime": {
     "end_time": "2020-04-23T04:07:06.948211Z",
     "start_time": "2020-04-23T04:07:06.938199Z"
    }
   },
   "outputs": [],
   "source": [
    "input_folder = \"/mnt/data/results/2\"\n",
    "identifier = \".auc.tsv\""
   ]
  },
  {
   "cell_type": "code",
   "execution_count": 9,
   "metadata": {
    "ExecuteTime": {
     "end_time": "2020-04-23T04:07:06.986457Z",
     "start_time": "2020-04-23T04:07:06.950349Z"
    }
   },
   "outputs": [
    {
     "name": "stdout",
     "output_type": "stream",
     "text": [
      "1k-2k\n",
      "2k-5k\n",
      "500-1k\n",
      "5k-10k\n"
     ]
    }
   ],
   "source": [
    "dfs = {}\n",
    "for file in glob(f\"{input_folder}/*{identifier}\"):\n",
    "    if \"SyntReads\" in file: continue\n",
    "    if \"silico-10-bacteria-20k-reads\" in file:\n",
    "        title = osp.basename(file).split(\".\")[0].split(\"20k-reads-\")[1]\n",
    "        print(title)\n",
    "        df = pd.read_csv(file, sep=\"\\t\")\n",
    "        scaled = df.iloc[1:].copy()\n",
    "        scaled[\"auc_value\"] /= df[\"auc_value\"][0]\n",
    "        dfs[title] = scaled"
   ]
  },
  {
   "cell_type": "code",
   "execution_count": 10,
   "metadata": {
    "ExecuteTime": {
     "end_time": "2020-04-23T04:07:06.990860Z",
     "start_time": "2020-04-23T04:07:06.987867Z"
    }
   },
   "outputs": [],
   "source": [
    "ordered = {}\n",
    "for key in (\"500-1k\", \"1k-2k\", \"2k-5k\", \"5k-10k\"):\n",
    "    ordered[key] = dfs[key]"
   ]
  },
  {
   "cell_type": "code",
   "execution_count": 11,
   "metadata": {
    "ExecuteTime": {
     "end_time": "2020-04-23T04:07:07.005300Z",
     "start_time": "2020-04-23T04:07:06.992344Z"
    }
   },
   "outputs": [],
   "source": [
    "aucs = pd.concat(ordered)"
   ]
  },
  {
   "cell_type": "code",
   "execution_count": 12,
   "metadata": {
    "ExecuteTime": {
     "end_time": "2020-04-23T04:07:07.031124Z",
     "start_time": "2020-04-23T04:07:07.006752Z"
    }
   },
   "outputs": [
    {
     "name": "stdout",
     "output_type": "stream",
     "text": [
      "1 b10_k4_s5000_ ('2k-5k', 2)\n",
      "1 b10_k4_s25000_ ('2k-5k', 4)\n",
      "1 b10_k4_s50000_ ('2k-5k', 5)\n",
      "1 b50_k4_s10000_ ('5k-10k', 4)\n"
     ]
    }
   ],
   "source": [
    "for param in aucs.parameters.unique():\n",
    "    v = aucs[aucs.parameters == param].shape[0]\n",
    "    if v <= 3:\n",
    "        print(v, param, aucs[aucs.parameters == param].index[0])"
   ]
  },
  {
   "cell_type": "code",
   "execution_count": 13,
   "metadata": {
    "ExecuteTime": {
     "end_time": "2020-04-23T04:07:07.051649Z",
     "start_time": "2020-04-23T04:07:07.032695Z"
    },
    "scrolled": false
   },
   "outputs": [
    {
     "data": {
      "text/html": [
       "<div>\n",
       "<style scoped>\n",
       "    .dataframe tbody tr th:only-of-type {\n",
       "        vertical-align: middle;\n",
       "    }\n",
       "\n",
       "    .dataframe tbody tr th {\n",
       "        vertical-align: top;\n",
       "    }\n",
       "\n",
       "    .dataframe thead th {\n",
       "        text-align: right;\n",
       "    }\n",
       "</style>\n",
       "<table border=\"1\" class=\"dataframe\">\n",
       "  <thead>\n",
       "    <tr style=\"text-align: right;\">\n",
       "      <th></th>\n",
       "      <th></th>\n",
       "      <th>k</th>\n",
       "      <th>auc_value</th>\n",
       "    </tr>\n",
       "  </thead>\n",
       "  <tbody>\n",
       "    <tr>\n",
       "      <th rowspan=\"3\" valign=\"top\">500-1k</th>\n",
       "      <th>1</th>\n",
       "      <td>3</td>\n",
       "      <td>0.98024</td>\n",
       "    </tr>\n",
       "    <tr>\n",
       "      <th>2</th>\n",
       "      <td>4</td>\n",
       "      <td>1.00518</td>\n",
       "    </tr>\n",
       "    <tr>\n",
       "      <th>3</th>\n",
       "      <td>5</td>\n",
       "      <td>0.98937</td>\n",
       "    </tr>\n",
       "    <tr>\n",
       "      <th rowspan=\"3\" valign=\"top\">1k-2k</th>\n",
       "      <th>1</th>\n",
       "      <td>3</td>\n",
       "      <td>0.97550</td>\n",
       "    </tr>\n",
       "    <tr>\n",
       "      <th>2</th>\n",
       "      <td>4</td>\n",
       "      <td>0.98798</td>\n",
       "    </tr>\n",
       "    <tr>\n",
       "      <th>3</th>\n",
       "      <td>5</td>\n",
       "      <td>0.99856</td>\n",
       "    </tr>\n",
       "    <tr>\n",
       "      <th rowspan=\"3\" valign=\"top\">2k-5k</th>\n",
       "      <th>1</th>\n",
       "      <td>3</td>\n",
       "      <td>0.97097</td>\n",
       "    </tr>\n",
       "    <tr>\n",
       "      <th>3</th>\n",
       "      <td>4</td>\n",
       "      <td>0.99053</td>\n",
       "    </tr>\n",
       "    <tr>\n",
       "      <th>6</th>\n",
       "      <td>5</td>\n",
       "      <td>0.98674</td>\n",
       "    </tr>\n",
       "    <tr>\n",
       "      <th rowspan=\"3\" valign=\"top\">5k-10k</th>\n",
       "      <th>1</th>\n",
       "      <td>3</td>\n",
       "      <td>0.99864</td>\n",
       "    </tr>\n",
       "    <tr>\n",
       "      <th>2</th>\n",
       "      <td>4</td>\n",
       "      <td>0.99972</td>\n",
       "    </tr>\n",
       "    <tr>\n",
       "      <th>3</th>\n",
       "      <td>5</td>\n",
       "      <td>0.99382</td>\n",
       "    </tr>\n",
       "  </tbody>\n",
       "</table>\n",
       "</div>"
      ],
      "text/plain": [
       "          k  auc_value\n",
       "500-1k 1  3    0.98024\n",
       "       2  4    1.00518\n",
       "       3  5    0.98937\n",
       "1k-2k  1  3    0.97550\n",
       "       2  4    0.98798\n",
       "       3  5    0.99856\n",
       "2k-5k  1  3    0.97097\n",
       "       3  4    0.99053\n",
       "       6  5    0.98674\n",
       "5k-10k 1  3    0.99864\n",
       "       2  4    0.99972\n",
       "       3  5    0.99382"
      ]
     },
     "execution_count": 13,
     "metadata": {},
     "output_type": "execute_result"
    }
   ],
   "source": [
    "filtered = aucs[(aucs.bins == 10) & (aucs.s == 10000)].copy()\n",
    "filtered.drop(columns=[\"parameters\", \"bins\", \"s\", ], inplace=True)\n",
    "filtered.k = filtered.k.astype(int)\n",
    "filtered"
   ]
  },
  {
   "cell_type": "code",
   "execution_count": 14,
   "metadata": {
    "ExecuteTime": {
     "end_time": "2020-04-23T04:07:07.061403Z",
     "start_time": "2020-04-23T04:07:07.053105Z"
    }
   },
   "outputs": [],
   "source": [
    "filtered.reset_index(inplace=True)\n",
    "filtered.drop(columns=[\"level_1\"], inplace=True)"
   ]
  },
  {
   "cell_type": "code",
   "execution_count": 15,
   "metadata": {
    "ExecuteTime": {
     "end_time": "2020-04-23T04:07:07.074996Z",
     "start_time": "2020-04-23T04:07:07.062909Z"
    },
    "scrolled": true
   },
   "outputs": [],
   "source": [
    "filtered.set_index([\"level_0\", \"k\"], inplace=True, drop=True)\n",
    "filtered.index.rename([\"read_length\", \"k\"], inplace=True)"
   ]
  },
  {
   "cell_type": "raw",
   "metadata": {
    "ExecuteTime": {
     "end_time": "2020-04-22T04:24:47.881781Z",
     "start_time": "2020-04-22T04:24:47.868724Z"
    }
   },
   "source": [
    "filtered.unstack()"
   ]
  },
  {
   "cell_type": "code",
   "execution_count": 16,
   "metadata": {
    "ExecuteTime": {
     "end_time": "2020-04-23T04:07:07.196129Z",
     "start_time": "2020-04-23T04:07:07.165783Z"
    }
   },
   "outputs": [
    {
     "data": {
      "text/html": [
       "<div>\n",
       "<style scoped>\n",
       "    .dataframe tbody tr th:only-of-type {\n",
       "        vertical-align: middle;\n",
       "    }\n",
       "\n",
       "    .dataframe tbody tr th {\n",
       "        vertical-align: top;\n",
       "    }\n",
       "\n",
       "    .dataframe thead tr th {\n",
       "        text-align: left;\n",
       "    }\n",
       "\n",
       "    .dataframe thead tr:last-of-type th {\n",
       "        text-align: right;\n",
       "    }\n",
       "</style>\n",
       "<table border=\"1\" class=\"dataframe\">\n",
       "  <thead>\n",
       "    <tr>\n",
       "      <th></th>\n",
       "      <th colspan=\"3\" halign=\"left\">auc_value</th>\n",
       "    </tr>\n",
       "    <tr>\n",
       "      <th>k</th>\n",
       "      <th>3</th>\n",
       "      <th>4</th>\n",
       "      <th>5</th>\n",
       "    </tr>\n",
       "    <tr>\n",
       "      <th>read_length</th>\n",
       "      <th></th>\n",
       "      <th></th>\n",
       "      <th></th>\n",
       "    </tr>\n",
       "  </thead>\n",
       "  <tbody>\n",
       "    <tr>\n",
       "      <th>500-1k</th>\n",
       "      <td>0.98024</td>\n",
       "      <td>1.00518</td>\n",
       "      <td>0.98937</td>\n",
       "    </tr>\n",
       "    <tr>\n",
       "      <th>1k-2k</th>\n",
       "      <td>0.97550</td>\n",
       "      <td>0.98798</td>\n",
       "      <td>0.99856</td>\n",
       "    </tr>\n",
       "    <tr>\n",
       "      <th>2k-5k</th>\n",
       "      <td>0.97097</td>\n",
       "      <td>0.99053</td>\n",
       "      <td>0.98674</td>\n",
       "    </tr>\n",
       "    <tr>\n",
       "      <th>5k-10k</th>\n",
       "      <td>0.99864</td>\n",
       "      <td>0.99972</td>\n",
       "      <td>0.99382</td>\n",
       "    </tr>\n",
       "  </tbody>\n",
       "</table>\n",
       "</div>"
      ],
      "text/plain": [
       "            auc_value                  \n",
       "k                   3        4        5\n",
       "read_length                            \n",
       "500-1k        0.98024  1.00518  0.98937\n",
       "1k-2k         0.97550  0.98798  0.99856\n",
       "2k-5k         0.97097  0.99053  0.98674\n",
       "5k-10k        0.99864  0.99972  0.99382"
      ]
     },
     "execution_count": 16,
     "metadata": {},
     "output_type": "execute_result"
    }
   ],
   "source": [
    "unstacked = filtered.unstack()\n",
    "unstacked = unstacked.reindex((\"500-1k\", \"1k-2k\", \"2k-5k\", \"5k-10k\"))\n",
    "unstacked"
   ]
  },
  {
   "cell_type": "code",
   "execution_count": 17,
   "metadata": {
    "ExecuteTime": {
     "end_time": "2020-04-23T04:07:07.200925Z",
     "start_time": "2020-04-23T04:07:07.198088Z"
    }
   },
   "outputs": [],
   "source": [
    "matplotlib.style.use('ggplot')"
   ]
  },
  {
   "cell_type": "code",
   "execution_count": 18,
   "metadata": {
    "ExecuteTime": {
     "end_time": "2020-04-23T04:07:07.434551Z",
     "start_time": "2020-04-23T04:07:07.202680Z"
    },
    "scrolled": false
   },
   "outputs": [
    {
     "data": {
      "image/png": "[encoded data removed]",
      "text/plain": [
       "<Figure size 432x360 with 1 Axes>"
      ]
     },
     "metadata": {},
     "output_type": "display_data"
    }
   ],
   "source": [
    "ax = unstacked.plot.bar(rot=0, figsize=(6,5), legend=None, )  # title=\"Influence of read length for Plot-ME\",\n",
    "ax.set(ylabel=\"Relative AUC\", xlabel=\"Read length\")\n",
    "ax.legend([\"k = 3\", \"k = 4\", \"k = 5\", ], loc='lower right', edgecolor='black', frameon=True, shadow=True)\n",
    "fig = ax.get_figure()"
   ]
  },
  {
   "cell_type": "raw",
   "metadata": {
    "ExecuteTime": {
     "end_time": "2020-04-22T14:20:37.790029Z",
     "start_time": "2020-04-22T14:20:37.707263Z"
    }
   },
   "source": [
    "fig.savefig(osp.join(out_figs, \"read_length\"))"
   ]
  },
  {
   "cell_type": "markdown",
   "metadata": {},
   "source": [
    "## Average AUC for various k / s values"
   ]
  },
  {
   "cell_type": "code",
   "execution_count": 33,
   "metadata": {
    "ExecuteTime": {
     "end_time": "2020-04-23T04:11:23.116906Z",
     "start_time": "2020-04-23T04:11:23.100736Z"
    }
   },
   "outputs": [
    {
     "name": "stdout",
     "output_type": "stream",
     "text": [
      "silico-10-bacteria-100k-reads\n",
      "Mock_100000-bacteria-l1000-q10\n",
      "silico-30p-human-70p-bac\n"
     ]
    }
   ],
   "source": [
    "dfs = {}\n",
    "for file in glob(f\"{input_folder}/*{identifier}\"):\n",
    "    if \"SyntReads\" in file or \"silico-10-bacteria-20k-reads\" in file or \"Mock_10000-uniform\" in file: continue\n",
    "    title = osp.basename(file).split(\".\")[0]\n",
    "    print(title)\n",
    "    df = pd.read_csv(file, sep=\"\\t\")\n",
    "    scaled = df.iloc[1:].copy()\n",
    "    scaled[\"auc_value\"] /= df[\"auc_value\"][0]\n",
    "    dfs[title] = scaled"
   ]
  },
  {
   "cell_type": "code",
   "execution_count": 34,
   "metadata": {
    "ExecuteTime": {
     "end_time": "2020-04-23T04:11:24.823264Z",
     "start_time": "2020-04-23T04:11:24.818048Z"
    }
   },
   "outputs": [],
   "source": [
    "aucs = pd.concat(dfs)"
   ]
  },
  {
   "cell_type": "code",
   "execution_count": 35,
   "metadata": {
    "ExecuteTime": {
     "end_time": "2020-04-23T04:16:53.063001Z",
     "start_time": "2020-04-23T04:16:53.054649Z"
    },
    "scrolled": true
   },
   "outputs": [
    {
     "data": {
      "text/html": [
       "<div>\n",
       "<style scoped>\n",
       "    .dataframe tbody tr th:only-of-type {\n",
       "        vertical-align: middle;\n",
       "    }\n",
       "\n",
       "    .dataframe tbody tr th {\n",
       "        vertical-align: top;\n",
       "    }\n",
       "\n",
       "    .dataframe thead th {\n",
       "        text-align: right;\n",
       "    }\n",
       "</style>\n",
       "<table border=\"1\" class=\"dataframe\">\n",
       "  <thead>\n",
       "    <tr style=\"text-align: right;\">\n",
       "      <th></th>\n",
       "      <th></th>\n",
       "      <th>k</th>\n",
       "      <th>s</th>\n",
       "      <th>auc_value</th>\n",
       "    </tr>\n",
       "  </thead>\n",
       "  <tbody>\n",
       "    <tr>\n",
       "      <th rowspan=\"11\" valign=\"top\">silico-10-bacteria-100k-reads</th>\n",
       "      <th>1</th>\n",
       "      <td>3</td>\n",
       "      <td>5000</td>\n",
       "      <td>0.97037</td>\n",
       "    </tr>\n",
       "    <tr>\n",
       "      <th>2</th>\n",
       "      <td>3</td>\n",
       "      <td>10000</td>\n",
       "      <td>0.97355</td>\n",
       "    </tr>\n",
       "    <tr>\n",
       "      <th>3</th>\n",
       "      <td>3</td>\n",
       "      <td>25000</td>\n",
       "      <td>0.97806</td>\n",
       "    </tr>\n",
       "    <tr>\n",
       "      <th>4</th>\n",
       "      <td>3</td>\n",
       "      <td>50000</td>\n",
       "      <td>0.99066</td>\n",
       "    </tr>\n",
       "    <tr>\n",
       "      <th>5</th>\n",
       "      <td>4</td>\n",
       "      <td>5000</td>\n",
       "      <td>0.96662</td>\n",
       "    </tr>\n",
       "    <tr>\n",
       "      <th>6</th>\n",
       "      <td>4</td>\n",
       "      <td>10000</td>\n",
       "      <td>0.97595</td>\n",
       "    </tr>\n",
       "    <tr>\n",
       "      <th>7</th>\n",
       "      <td>4</td>\n",
       "      <td>25000</td>\n",
       "      <td>0.98596</td>\n",
       "    </tr>\n",
       "    <tr>\n",
       "      <th>8</th>\n",
       "      <td>4</td>\n",
       "      <td>50000</td>\n",
       "      <td>0.96533</td>\n",
       "    </tr>\n",
       "    <tr>\n",
       "      <th>9</th>\n",
       "      <td>5</td>\n",
       "      <td>10000</td>\n",
       "      <td>0.98390</td>\n",
       "    </tr>\n",
       "    <tr>\n",
       "      <th>10</th>\n",
       "      <td>5</td>\n",
       "      <td>25000</td>\n",
       "      <td>0.98398</td>\n",
       "    </tr>\n",
       "    <tr>\n",
       "      <th>11</th>\n",
       "      <td>5</td>\n",
       "      <td>50000</td>\n",
       "      <td>0.97781</td>\n",
       "    </tr>\n",
       "    <tr>\n",
       "      <th rowspan=\"11\" valign=\"top\">Mock_100000-bacteria-l1000-q10</th>\n",
       "      <th>1</th>\n",
       "      <td>3</td>\n",
       "      <td>5000</td>\n",
       "      <td>1.02677</td>\n",
       "    </tr>\n",
       "    <tr>\n",
       "      <th>2</th>\n",
       "      <td>3</td>\n",
       "      <td>10000</td>\n",
       "      <td>0.98120</td>\n",
       "    </tr>\n",
       "    <tr>\n",
       "      <th>3</th>\n",
       "      <td>3</td>\n",
       "      <td>25000</td>\n",
       "      <td>1.01453</td>\n",
       "    </tr>\n",
       "    <tr>\n",
       "      <th>4</th>\n",
       "      <td>3</td>\n",
       "      <td>50000</td>\n",
       "      <td>0.97189</td>\n",
       "    </tr>\n",
       "    <tr>\n",
       "      <th>5</th>\n",
       "      <td>4</td>\n",
       "      <td>5000</td>\n",
       "      <td>1.02450</td>\n",
       "    </tr>\n",
       "    <tr>\n",
       "      <th>6</th>\n",
       "      <td>4</td>\n",
       "      <td>10000</td>\n",
       "      <td>0.99048</td>\n",
       "    </tr>\n",
       "    <tr>\n",
       "      <th>7</th>\n",
       "      <td>4</td>\n",
       "      <td>25000</td>\n",
       "      <td>1.01710</td>\n",
       "    </tr>\n",
       "    <tr>\n",
       "      <th>8</th>\n",
       "      <td>4</td>\n",
       "      <td>50000</td>\n",
       "      <td>0.98433</td>\n",
       "    </tr>\n",
       "    <tr>\n",
       "      <th>9</th>\n",
       "      <td>5</td>\n",
       "      <td>10000</td>\n",
       "      <td>1.00955</td>\n",
       "    </tr>\n",
       "    <tr>\n",
       "      <th>10</th>\n",
       "      <td>5</td>\n",
       "      <td>25000</td>\n",
       "      <td>1.01384</td>\n",
       "    </tr>\n",
       "    <tr>\n",
       "      <th>11</th>\n",
       "      <td>5</td>\n",
       "      <td>50000</td>\n",
       "      <td>0.96634</td>\n",
       "    </tr>\n",
       "    <tr>\n",
       "      <th rowspan=\"11\" valign=\"top\">silico-30p-human-70p-bac</th>\n",
       "      <th>1</th>\n",
       "      <td>3</td>\n",
       "      <td>5000</td>\n",
       "      <td>1.10241</td>\n",
       "    </tr>\n",
       "    <tr>\n",
       "      <th>2</th>\n",
       "      <td>3</td>\n",
       "      <td>10000</td>\n",
       "      <td>1.08722</td>\n",
       "    </tr>\n",
       "    <tr>\n",
       "      <th>3</th>\n",
       "      <td>3</td>\n",
       "      <td>25000</td>\n",
       "      <td>1.12274</td>\n",
       "    </tr>\n",
       "    <tr>\n",
       "      <th>4</th>\n",
       "      <td>3</td>\n",
       "      <td>50000</td>\n",
       "      <td>1.06687</td>\n",
       "    </tr>\n",
       "    <tr>\n",
       "      <th>5</th>\n",
       "      <td>4</td>\n",
       "      <td>5000</td>\n",
       "      <td>1.07256</td>\n",
       "    </tr>\n",
       "    <tr>\n",
       "      <th>6</th>\n",
       "      <td>4</td>\n",
       "      <td>10000</td>\n",
       "      <td>1.09521</td>\n",
       "    </tr>\n",
       "    <tr>\n",
       "      <th>7</th>\n",
       "      <td>4</td>\n",
       "      <td>25000</td>\n",
       "      <td>1.06507</td>\n",
       "    </tr>\n",
       "    <tr>\n",
       "      <th>8</th>\n",
       "      <td>4</td>\n",
       "      <td>50000</td>\n",
       "      <td>1.06425</td>\n",
       "    </tr>\n",
       "    <tr>\n",
       "      <th>9</th>\n",
       "      <td>5</td>\n",
       "      <td>10000</td>\n",
       "      <td>1.09454</td>\n",
       "    </tr>\n",
       "    <tr>\n",
       "      <th>10</th>\n",
       "      <td>5</td>\n",
       "      <td>25000</td>\n",
       "      <td>1.06921</td>\n",
       "    </tr>\n",
       "    <tr>\n",
       "      <th>11</th>\n",
       "      <td>5</td>\n",
       "      <td>50000</td>\n",
       "      <td>1.00915</td>\n",
       "    </tr>\n",
       "  </tbody>\n",
       "</table>\n",
       "</div>"
      ],
      "text/plain": [
       "                                   k      s  auc_value\n",
       "silico-10-bacteria-100k-reads  1   3   5000    0.97037\n",
       "                               2   3  10000    0.97355\n",
       "                               3   3  25000    0.97806\n",
       "                               4   3  50000    0.99066\n",
       "                               5   4   5000    0.96662\n",
       "                               6   4  10000    0.97595\n",
       "                               7   4  25000    0.98596\n",
       "                               8   4  50000    0.96533\n",
       "                               9   5  10000    0.98390\n",
       "                               10  5  25000    0.98398\n",
       "                               11  5  50000    0.97781\n",
       "Mock_100000-bacteria-l1000-q10 1   3   5000    1.02677\n",
       "                               2   3  10000    0.98120\n",
       "                               3   3  25000    1.01453\n",
       "                               4   3  50000    0.97189\n",
       "                               5   4   5000    1.02450\n",
       "                               6   4  10000    0.99048\n",
       "                               7   4  25000    1.01710\n",
       "                               8   4  50000    0.98433\n",
       "                               9   5  10000    1.00955\n",
       "                               10  5  25000    1.01384\n",
       "                               11  5  50000    0.96634\n",
       "silico-30p-human-70p-bac       1   3   5000    1.10241\n",
       "                               2   3  10000    1.08722\n",
       "                               3   3  25000    1.12274\n",
       "                               4   3  50000    1.06687\n",
       "                               5   4   5000    1.07256\n",
       "                               6   4  10000    1.09521\n",
       "                               7   4  25000    1.06507\n",
       "                               8   4  50000    1.06425\n",
       "                               9   5  10000    1.09454\n",
       "                               10  5  25000    1.06921\n",
       "                               11  5  50000    1.00915"
      ]
     },
     "execution_count": 35,
     "metadata": {},
     "output_type": "execute_result"
    }
   ],
   "source": [
    "filtered = aucs[(aucs.bins == 10) & (aucs.s != 1)].copy()\n",
    "filtered.drop(columns=[\"parameters\", \"bins\"], inplace=True)\n",
    "filtered.k = filtered.k.astype(int)\n",
    "filtered.s = filtered.s.astype(int)\n",
    "filtered"
   ]
  },
  {
   "cell_type": "code",
   "execution_count": 36,
   "metadata": {
    "ExecuteTime": {
     "end_time": "2020-04-23T04:11:33.844017Z",
     "start_time": "2020-04-23T04:11:33.826834Z"
    }
   },
   "outputs": [
    {
     "data": {
      "text/html": [
       "<div>\n",
       "<style scoped>\n",
       "    .dataframe tbody tr th:only-of-type {\n",
       "        vertical-align: middle;\n",
       "    }\n",
       "\n",
       "    .dataframe tbody tr th {\n",
       "        vertical-align: top;\n",
       "    }\n",
       "\n",
       "    .dataframe thead tr th {\n",
       "        text-align: left;\n",
       "    }\n",
       "\n",
       "    .dataframe thead tr:last-of-type th {\n",
       "        text-align: right;\n",
       "    }\n",
       "</style>\n",
       "<table border=\"1\" class=\"dataframe\">\n",
       "  <thead>\n",
       "    <tr>\n",
       "      <th></th>\n",
       "      <th colspan=\"4\" halign=\"left\">auc_value</th>\n",
       "    </tr>\n",
       "    <tr>\n",
       "      <th>s</th>\n",
       "      <th>5000</th>\n",
       "      <th>10000</th>\n",
       "      <th>25000</th>\n",
       "      <th>50000</th>\n",
       "    </tr>\n",
       "    <tr>\n",
       "      <th>k</th>\n",
       "      <th></th>\n",
       "      <th></th>\n",
       "      <th></th>\n",
       "      <th></th>\n",
       "    </tr>\n",
       "  </thead>\n",
       "  <tbody>\n",
       "    <tr>\n",
       "      <th>3</th>\n",
       "      <td>1.03318</td>\n",
       "      <td>1.01399</td>\n",
       "      <td>1.03844</td>\n",
       "      <td>1.00981</td>\n",
       "    </tr>\n",
       "    <tr>\n",
       "      <th>4</th>\n",
       "      <td>1.02123</td>\n",
       "      <td>1.02055</td>\n",
       "      <td>1.02271</td>\n",
       "      <td>1.00464</td>\n",
       "    </tr>\n",
       "    <tr>\n",
       "      <th>5</th>\n",
       "      <td>NaN</td>\n",
       "      <td>1.02933</td>\n",
       "      <td>1.02234</td>\n",
       "      <td>0.98443</td>\n",
       "    </tr>\n",
       "  </tbody>\n",
       "</table>\n",
       "</div>"
      ],
      "text/plain": [
       "  auc_value                           \n",
       "s     5000     10000    25000    50000\n",
       "k                                     \n",
       "3   1.03318  1.01399  1.03844  1.00981\n",
       "4   1.02123  1.02055  1.02271  1.00464\n",
       "5       NaN  1.02933  1.02234  0.98443"
      ]
     },
     "execution_count": 36,
     "metadata": {},
     "output_type": "execute_result"
    }
   ],
   "source": [
    "filtered.groupby([\"k\", \"s\"]).mean().unstack()"
   ]
  },
  {
   "cell_type": "code",
   "execution_count": 37,
   "metadata": {
    "ExecuteTime": {
     "end_time": "2020-04-23T04:11:36.570673Z",
     "start_time": "2020-04-23T04:11:36.557212Z"
    }
   },
   "outputs": [],
   "source": [
    "moyenne = filtered.groupby([\"k\", \"s\"]).mean().unstack()\n",
    "deviation = filtered.groupby([\"k\", \"s\"]).std().unstack()"
   ]
  },
  {
   "cell_type": "raw",
   "metadata": {
    "ExecuteTime": {
     "end_time": "2020-04-22T14:27:52.645039Z",
     "start_time": "2020-04-22T14:27:52.640337Z"
    },
    "scrolled": true
   },
   "source": [
    "matplotlib.style.available"
   ]
  },
  {
   "cell_type": "code",
   "execution_count": 38,
   "metadata": {
    "ExecuteTime": {
     "end_time": "2020-04-23T04:11:38.429032Z",
     "start_time": "2020-04-23T04:11:38.425738Z"
    }
   },
   "outputs": [],
   "source": [
    "matplotlib.style.use('seaborn')"
   ]
  },
  {
   "cell_type": "code",
   "execution_count": 40,
   "metadata": {
    "ExecuteTime": {
     "end_time": "2020-04-23T04:11:58.663233Z",
     "start_time": "2020-04-23T04:11:58.443727Z"
    },
    "scrolled": false
   },
   "outputs": [
    {
     "data": {
      "image/png": "[encoded data removed]",
      "text/plain": [
       "<Figure size 432x360 with 1 Axes>"
      ]
     },
     "metadata": {},
     "output_type": "display_data"
    }
   ],
   "source": [
    "ax = moyenne.plot(kind='bar', yerr=deviation, rot=0, figsize=(6,5), legend=None)\n",
    "ax.set(ylabel=\"Relative AUC\")\n",
    "ax.legend([\"  5,000\", \"10,000\", \"25,000\", \"50,000\"], loc='lower right', title=\"Window size (bp)\", frameon=True, shadow=True, edgecolor='black', borderpad=0.7)\n",
    "fig = ax.get_figure()"
   ]
  },
  {
   "cell_type": "raw",
   "metadata": {
    "ExecuteTime": {
     "end_time": "2020-04-22T14:28:21.419778Z",
     "start_time": "2020-04-22T14:28:21.331767Z"
    }
   },
   "source": [
    "fig.savefig(osp.join(out_figs, \"k_s_compare\"))"
   ]
  },
  {
   "cell_type": "markdown",
   "metadata": {},
   "source": [
    "## Average AUC for various bins values"
   ]
  },
  {
   "cell_type": "code",
   "execution_count": 49,
   "metadata": {
    "ExecuteTime": {
     "end_time": "2020-04-23T04:15:26.862463Z",
     "start_time": "2020-04-23T04:15:26.857846Z"
    },
    "scrolled": false
   },
   "outputs": [
    {
     "data": {
      "text/plain": [
       "['silico-10-bacteria-100k-reads',\n",
       " 'Mock_100000-bacteria-l1000-q10',\n",
       " 'silico-30p-human-70p-bac']"
      ]
     },
     "execution_count": 49,
     "metadata": {},
     "output_type": "execute_result"
    }
   ],
   "source": [
    "aucs.index.get_level_values(0).unique().tolist()"
   ]
  },
  {
   "cell_type": "code",
   "execution_count": 52,
   "metadata": {
    "ExecuteTime": {
     "end_time": "2020-04-23T04:16:53.063001Z",
     "start_time": "2020-04-23T04:16:53.054649Z"
    },
    "scrolled": true
   },
   "outputs": [],
   "source": [
    "def plot_fig(aucs):\n",
    "    filtered = aucs[aucs.s == 10000].copy()\n",
    "    filtered.drop(columns=[\"parameters\", \"s\"], inplace=True)\n",
    "    filtered.k    = filtered.k.astype(int)\n",
    "    filtered.bins = filtered.bins.astype(int)\n",
    "\n",
    "    filtered.groupby([\"bins\", \"k\"]).mean().unstack()\n",
    "\n",
    "    moyenne = filtered.groupby([\"bins\", \"k\"]).mean().unstack()\n",
    "    deviation = filtered.groupby([\"bins\", \"k\"]).std().unstack()\n",
    "\n",
    "#     matplotlib.style.available\n",
    "    matplotlib.style.use('ggplot')\n",
    "    ax = moyenne.plot(kind='bar', yerr=deviation, rot=0, figsize=(5,5), legend=None)\n",
    "    ax.set(ylabel=\"Relative AUC\")\n",
    "    ax.legend([\"3\", \"4\", \"5\"], loc='lower right', title=\"k\", frameon=True, shadow=True, edgecolor='black', borderpad=0.7)\n",
    "    fig = ax.get_figure()\n",
    "    return fig"
   ]
  },
  {
   "cell_type": "code",
   "execution_count": 53,
   "metadata": {
    "ExecuteTime": {
     "end_time": "2020-04-23T04:16:57.161659Z",
     "start_time": "2020-04-23T04:16:56.949563Z"
    }
   },
   "outputs": [
    {
     "data": {
      "image/png": "[encoded data removed]",
      "text/plain": [
       "<Figure size 360x360 with 1 Axes>"
      ]
     },
     "metadata": {},
     "output_type": "display_data"
    }
   ],
   "source": [
    "fig = plot_fig(aucs)"
   ]
  },
  {
   "cell_type": "code",
   "execution_count": 54,
   "metadata": {
    "ExecuteTime": {
     "end_time": "2020-04-23T04:17:01.174612Z",
     "start_time": "2020-04-23T04:17:01.115766Z"
    }
   },
   "outputs": [],
   "source": [
    "fig.savefig(osp.join(out_figs, \"bins_compare\"))"
   ]
  },
  {
   "cell_type": "code",
   "execution_count": null,
   "metadata": {},
   "outputs": [],
   "source": []
  },
  {
   "cell_type": "code",
   "execution_count": null,
   "metadata": {},
   "outputs": [],
   "source": []
  },
  {
   "cell_type": "code",
   "execution_count": null,
   "metadata": {},
   "outputs": [],
   "source": []
  },
  {
   "cell_type": "code",
   "execution_count": 7,
   "metadata": {
    "ExecuteTime": {
     "end_time": "2020-04-20T08:40:29.417406Z",
     "start_time": "2020-04-20T08:40:29.413895Z"
    }
   },
   "outputs": [],
   "source": [
    "input_tsv = \"/mnt/5TB/results/2/Mock_100000-bacteria-l1000-q10.auc.tsv\""
   ]
  },
  {
   "cell_type": "code",
   "execution_count": 40,
   "metadata": {
    "ExecuteTime": {
     "end_time": "2020-04-20T10:05:10.114076Z",
     "start_time": "2020-04-20T10:05:10.104525Z"
    }
   },
   "outputs": [],
   "source": [
    "df = pd.read_csv(input_tsv, sep=\"\\t\")"
   ]
  },
  {
   "cell_type": "code",
   "execution_count": 41,
   "metadata": {
    "ExecuteTime": {
     "end_time": "2020-04-20T10:05:10.310289Z",
     "start_time": "2020-04-20T10:05:10.296476Z"
    },
    "scrolled": true
   },
   "outputs": [
    {
     "data": {
      "text/html": [
       "<div>\n",
       "<style scoped>\n",
       "    .dataframe tbody tr th:only-of-type {\n",
       "        vertical-align: middle;\n",
       "    }\n",
       "\n",
       "    .dataframe tbody tr th {\n",
       "        vertical-align: top;\n",
       "    }\n",
       "\n",
       "    .dataframe thead th {\n",
       "        text-align: right;\n",
       "    }\n",
       "</style>\n",
       "<table border=\"1\" class=\"dataframe\">\n",
       "  <thead>\n",
       "    <tr style=\"text-align: right;\">\n",
       "      <th></th>\n",
       "      <th>parameters</th>\n",
       "      <th>bins</th>\n",
       "      <th>k</th>\n",
       "      <th>s</th>\n",
       "      <th>auc_value</th>\n",
       "    </tr>\n",
       "  </thead>\n",
       "  <tbody>\n",
       "    <tr>\n",
       "      <th>0</th>\n",
       "      <td>no-binning</td>\n",
       "      <td>1</td>\n",
       "      <td>NaN</td>\n",
       "      <td>NaN</td>\n",
       "      <td>0.29002</td>\n",
       "    </tr>\n",
       "    <tr>\n",
       "      <th>1</th>\n",
       "      <td>b10_k3_s5000_</td>\n",
       "      <td>10</td>\n",
       "      <td>3.0</td>\n",
       "      <td>5000.0</td>\n",
       "      <td>0.29779</td>\n",
       "    </tr>\n",
       "    <tr>\n",
       "      <th>2</th>\n",
       "      <td>b10_k3_s10000_</td>\n",
       "      <td>10</td>\n",
       "      <td>3.0</td>\n",
       "      <td>10000.0</td>\n",
       "      <td>0.28457</td>\n",
       "    </tr>\n",
       "    <tr>\n",
       "      <th>3</th>\n",
       "      <td>b10_k3_s25000_</td>\n",
       "      <td>10</td>\n",
       "      <td>3.0</td>\n",
       "      <td>25000.0</td>\n",
       "      <td>0.29423</td>\n",
       "    </tr>\n",
       "    <tr>\n",
       "      <th>4</th>\n",
       "      <td>b10_k3_s50000_</td>\n",
       "      <td>10</td>\n",
       "      <td>3.0</td>\n",
       "      <td>50000.0</td>\n",
       "      <td>0.28187</td>\n",
       "    </tr>\n",
       "    <tr>\n",
       "      <th>5</th>\n",
       "      <td>b10_k4_s5000_</td>\n",
       "      <td>10</td>\n",
       "      <td>4.0</td>\n",
       "      <td>5000.0</td>\n",
       "      <td>0.29713</td>\n",
       "    </tr>\n",
       "    <tr>\n",
       "      <th>6</th>\n",
       "      <td>b10_k4_s10000_</td>\n",
       "      <td>10</td>\n",
       "      <td>4.0</td>\n",
       "      <td>10000.0</td>\n",
       "      <td>0.28726</td>\n",
       "    </tr>\n",
       "    <tr>\n",
       "      <th>7</th>\n",
       "      <td>b10_k4_s25000_</td>\n",
       "      <td>10</td>\n",
       "      <td>4.0</td>\n",
       "      <td>25000.0</td>\n",
       "      <td>0.29498</td>\n",
       "    </tr>\n",
       "    <tr>\n",
       "      <th>8</th>\n",
       "      <td>b10_k4_s50000_</td>\n",
       "      <td>10</td>\n",
       "      <td>4.0</td>\n",
       "      <td>50000.0</td>\n",
       "      <td>0.28548</td>\n",
       "    </tr>\n",
       "    <tr>\n",
       "      <th>9</th>\n",
       "      <td>b10_k5_s10000_</td>\n",
       "      <td>10</td>\n",
       "      <td>5.0</td>\n",
       "      <td>10000.0</td>\n",
       "      <td>0.29279</td>\n",
       "    </tr>\n",
       "    <tr>\n",
       "      <th>10</th>\n",
       "      <td>b10_k5_s25000_</td>\n",
       "      <td>10</td>\n",
       "      <td>5.0</td>\n",
       "      <td>25000.0</td>\n",
       "      <td>0.29404</td>\n",
       "    </tr>\n",
       "    <tr>\n",
       "      <th>11</th>\n",
       "      <td>b10_k5_s50000_</td>\n",
       "      <td>10</td>\n",
       "      <td>5.0</td>\n",
       "      <td>50000.0</td>\n",
       "      <td>0.28026</td>\n",
       "    </tr>\n",
       "    <tr>\n",
       "      <th>12</th>\n",
       "      <td>b20_k3_s5000_</td>\n",
       "      <td>20</td>\n",
       "      <td>3.0</td>\n",
       "      <td>5000.0</td>\n",
       "      <td>0.28421</td>\n",
       "    </tr>\n",
       "    <tr>\n",
       "      <th>13</th>\n",
       "      <td>b20_k3_s10000_</td>\n",
       "      <td>20</td>\n",
       "      <td>3.0</td>\n",
       "      <td>10000.0</td>\n",
       "      <td>0.29002</td>\n",
       "    </tr>\n",
       "    <tr>\n",
       "      <th>14</th>\n",
       "      <td>b20_k3_s25000_</td>\n",
       "      <td>20</td>\n",
       "      <td>3.0</td>\n",
       "      <td>25000.0</td>\n",
       "      <td>0.28016</td>\n",
       "    </tr>\n",
       "    <tr>\n",
       "      <th>15</th>\n",
       "      <td>b20_k3_s50000_</td>\n",
       "      <td>20</td>\n",
       "      <td>3.0</td>\n",
       "      <td>50000.0</td>\n",
       "      <td>0.27578</td>\n",
       "    </tr>\n",
       "    <tr>\n",
       "      <th>16</th>\n",
       "      <td>b20_k4_s10000_</td>\n",
       "      <td>20</td>\n",
       "      <td>4.0</td>\n",
       "      <td>10000.0</td>\n",
       "      <td>0.27956</td>\n",
       "    </tr>\n",
       "    <tr>\n",
       "      <th>17</th>\n",
       "      <td>b20_k4_s25000_</td>\n",
       "      <td>20</td>\n",
       "      <td>4.0</td>\n",
       "      <td>25000.0</td>\n",
       "      <td>0.29645</td>\n",
       "    </tr>\n",
       "    <tr>\n",
       "      <th>18</th>\n",
       "      <td>b20_k4_s50000_</td>\n",
       "      <td>20</td>\n",
       "      <td>4.0</td>\n",
       "      <td>50000.0</td>\n",
       "      <td>0.27501</td>\n",
       "    </tr>\n",
       "    <tr>\n",
       "      <th>19</th>\n",
       "      <td>b50_k3_s5000_</td>\n",
       "      <td>50</td>\n",
       "      <td>3.0</td>\n",
       "      <td>5000.0</td>\n",
       "      <td>0.26629</td>\n",
       "    </tr>\n",
       "    <tr>\n",
       "      <th>20</th>\n",
       "      <td>b50_k3_s10000_</td>\n",
       "      <td>50</td>\n",
       "      <td>3.0</td>\n",
       "      <td>10000.0</td>\n",
       "      <td>0.27472</td>\n",
       "    </tr>\n",
       "    <tr>\n",
       "      <th>21</th>\n",
       "      <td>b50_k3_s25000_</td>\n",
       "      <td>50</td>\n",
       "      <td>3.0</td>\n",
       "      <td>25000.0</td>\n",
       "      <td>0.26289</td>\n",
       "    </tr>\n",
       "    <tr>\n",
       "      <th>22</th>\n",
       "      <td>b50_k3_s50000_</td>\n",
       "      <td>50</td>\n",
       "      <td>3.0</td>\n",
       "      <td>50000.0</td>\n",
       "      <td>0.25849</td>\n",
       "    </tr>\n",
       "    <tr>\n",
       "      <th>23</th>\n",
       "      <td>b50_k4_s10000_</td>\n",
       "      <td>50</td>\n",
       "      <td>4.0</td>\n",
       "      <td>10000.0</td>\n",
       "      <td>0.27720</td>\n",
       "    </tr>\n",
       "    <tr>\n",
       "      <th>24</th>\n",
       "      <td>b50_k4_s25000_</td>\n",
       "      <td>50</td>\n",
       "      <td>4.0</td>\n",
       "      <td>25000.0</td>\n",
       "      <td>0.25704</td>\n",
       "    </tr>\n",
       "  </tbody>\n",
       "</table>\n",
       "</div>"
      ],
      "text/plain": [
       "        parameters  bins    k        s  auc_value\n",
       "0       no-binning     1  NaN      NaN    0.29002\n",
       "1    b10_k3_s5000_    10  3.0   5000.0    0.29779\n",
       "2   b10_k3_s10000_    10  3.0  10000.0    0.28457\n",
       "3   b10_k3_s25000_    10  3.0  25000.0    0.29423\n",
       "4   b10_k3_s50000_    10  3.0  50000.0    0.28187\n",
       "5    b10_k4_s5000_    10  4.0   5000.0    0.29713\n",
       "6   b10_k4_s10000_    10  4.0  10000.0    0.28726\n",
       "7   b10_k4_s25000_    10  4.0  25000.0    0.29498\n",
       "8   b10_k4_s50000_    10  4.0  50000.0    0.28548\n",
       "9   b10_k5_s10000_    10  5.0  10000.0    0.29279\n",
       "10  b10_k5_s25000_    10  5.0  25000.0    0.29404\n",
       "11  b10_k5_s50000_    10  5.0  50000.0    0.28026\n",
       "12   b20_k3_s5000_    20  3.0   5000.0    0.28421\n",
       "13  b20_k3_s10000_    20  3.0  10000.0    0.29002\n",
       "14  b20_k3_s25000_    20  3.0  25000.0    0.28016\n",
       "15  b20_k3_s50000_    20  3.0  50000.0    0.27578\n",
       "16  b20_k4_s10000_    20  4.0  10000.0    0.27956\n",
       "17  b20_k4_s25000_    20  4.0  25000.0    0.29645\n",
       "18  b20_k4_s50000_    20  4.0  50000.0    0.27501\n",
       "19   b50_k3_s5000_    50  3.0   5000.0    0.26629\n",
       "20  b50_k3_s10000_    50  3.0  10000.0    0.27472\n",
       "21  b50_k3_s25000_    50  3.0  25000.0    0.26289\n",
       "22  b50_k3_s50000_    50  3.0  50000.0    0.25849\n",
       "23  b50_k4_s10000_    50  4.0  10000.0    0.27720\n",
       "24  b50_k4_s25000_    50  4.0  25000.0    0.25704"
      ]
     },
     "execution_count": 41,
     "metadata": {},
     "output_type": "execute_result"
    }
   ],
   "source": [
    "df"
   ]
  },
  {
   "cell_type": "code",
   "execution_count": 48,
   "metadata": {
    "ExecuteTime": {
     "end_time": "2020-04-20T10:08:04.314803Z",
     "start_time": "2020-04-20T10:08:04.309217Z"
    }
   },
   "outputs": [],
   "source": [
    "# Removing no-binning value, and scaling other auc values by it\n",
    "scaled = df.iloc[1:].copy()\n",
    "scaled[\"auc_value\"] /= df[\"auc_value\"][0]"
   ]
  },
  {
   "cell_type": "code",
   "execution_count": null,
   "metadata": {},
   "outputs": [],
   "source": []
  },
  {
   "cell_type": "code",
   "execution_count": 47,
   "metadata": {
    "ExecuteTime": {
     "end_time": "2020-04-20T10:05:56.506207Z",
     "start_time": "2020-04-20T10:05:56.432945Z"
    },
    "scrolled": true
   },
   "outputs": [
    {
     "data": {
      "text/html": [
       "<style  type=\"text/css\" >\n",
       "    #T_86e10bf2_82ee_11ea_a71c_06f1caff8b5erow0_col1 {\n",
       "            background-color:  #440154;\n",
       "            color:  #f1f1f1;\n",
       "        }    #T_86e10bf2_82ee_11ea_a71c_06f1caff8b5erow0_col4 {\n",
       "            width:  10em;\n",
       "             height:  80%;\n",
       "            background:  linear-gradient(90deg,#5fba7d 80.9%, transparent 80.9%);\n",
       "        }    #T_86e10bf2_82ee_11ea_a71c_06f1caff8b5erow1_col1 {\n",
       "            background-color:  #423f85;\n",
       "            color:  #f1f1f1;\n",
       "        }    #T_86e10bf2_82ee_11ea_a71c_06f1caff8b5erow1_col2 {\n",
       "            width:  10em;\n",
       "             height:  80%;\n",
       "            background:  linear-gradient(90deg,cyan 28.6%, transparent 28.6%);\n",
       "        }    #T_86e10bf2_82ee_11ea_a71c_06f1caff8b5erow1_col3 {\n",
       "            width:  10em;\n",
       "             height:  80%;\n",
       "            background:  linear-gradient(90deg,grey 9.1%, transparent 9.1%);\n",
       "        }    #T_86e10bf2_82ee_11ea_a71c_06f1caff8b5erow1_col4 {\n",
       "            width:  10em;\n",
       "             height:  80%;\n",
       "            background:  linear-gradient(90deg,#5fba7d 100.0%, transparent 100.0%);\n",
       "        }    #T_86e10bf2_82ee_11ea_a71c_06f1caff8b5erow2_col1 {\n",
       "            background-color:  #423f85;\n",
       "            color:  #f1f1f1;\n",
       "        }    #T_86e10bf2_82ee_11ea_a71c_06f1caff8b5erow2_col2 {\n",
       "            width:  10em;\n",
       "             height:  80%;\n",
       "            background:  linear-gradient(90deg,cyan 28.6%, transparent 28.6%);\n",
       "        }    #T_86e10bf2_82ee_11ea_a71c_06f1caff8b5erow2_col3 {\n",
       "            width:  10em;\n",
       "             height:  80%;\n",
       "            background:  linear-gradient(90deg,grey 18.2%, transparent 18.2%);\n",
       "        }    #T_86e10bf2_82ee_11ea_a71c_06f1caff8b5erow2_col4 {\n",
       "            width:  10em;\n",
       "             height:  80%;\n",
       "            background:  linear-gradient(90deg,#5fba7d 67.6%, transparent 67.6%);\n",
       "        }    #T_86e10bf2_82ee_11ea_a71c_06f1caff8b5erow3_col1 {\n",
       "            background-color:  #423f85;\n",
       "            color:  #f1f1f1;\n",
       "        }    #T_86e10bf2_82ee_11ea_a71c_06f1caff8b5erow3_col2 {\n",
       "            width:  10em;\n",
       "             height:  80%;\n",
       "            background:  linear-gradient(90deg,cyan 28.6%, transparent 28.6%);\n",
       "        }    #T_86e10bf2_82ee_11ea_a71c_06f1caff8b5erow3_col3 {\n",
       "            width:  10em;\n",
       "             height:  80%;\n",
       "            background:  linear-gradient(90deg,grey 45.5%, transparent 45.5%);\n",
       "        }    #T_86e10bf2_82ee_11ea_a71c_06f1caff8b5erow3_col4 {\n",
       "            width:  10em;\n",
       "             height:  80%;\n",
       "            background:  linear-gradient(90deg,#5fba7d 91.3%, transparent 91.3%);\n",
       "        }    #T_86e10bf2_82ee_11ea_a71c_06f1caff8b5erow4_col1 {\n",
       "            background-color:  #423f85;\n",
       "            color:  #f1f1f1;\n",
       "        }    #T_86e10bf2_82ee_11ea_a71c_06f1caff8b5erow4_col2 {\n",
       "            width:  10em;\n",
       "             height:  80%;\n",
       "            background:  linear-gradient(90deg,cyan 28.6%, transparent 28.6%);\n",
       "        }    #T_86e10bf2_82ee_11ea_a71c_06f1caff8b5erow4_col3 {\n",
       "            width:  10em;\n",
       "             height:  80%;\n",
       "            background:  linear-gradient(90deg,grey 90.9%, transparent 90.9%);\n",
       "        }    #T_86e10bf2_82ee_11ea_a71c_06f1caff8b5erow4_col4 {\n",
       "            width:  10em;\n",
       "             height:  80%;\n",
       "            background:  linear-gradient(90deg,#5fba7d 60.9%, transparent 60.9%);\n",
       "        }    #T_86e10bf2_82ee_11ea_a71c_06f1caff8b5erow5_col1 {\n",
       "            background-color:  #423f85;\n",
       "            color:  #f1f1f1;\n",
       "        }    #T_86e10bf2_82ee_11ea_a71c_06f1caff8b5erow5_col2 {\n",
       "            width:  10em;\n",
       "             height:  80%;\n",
       "            background:  linear-gradient(90deg,cyan 57.1%, transparent 57.1%);\n",
       "        }    #T_86e10bf2_82ee_11ea_a71c_06f1caff8b5erow5_col3 {\n",
       "            width:  10em;\n",
       "             height:  80%;\n",
       "            background:  linear-gradient(90deg,grey 9.1%, transparent 9.1%);\n",
       "        }    #T_86e10bf2_82ee_11ea_a71c_06f1caff8b5erow5_col4 {\n",
       "            width:  10em;\n",
       "             height:  80%;\n",
       "            background:  linear-gradient(90deg,#5fba7d 98.4%, transparent 98.4%);\n",
       "        }    #T_86e10bf2_82ee_11ea_a71c_06f1caff8b5erow6_col1 {\n",
       "            background-color:  #423f85;\n",
       "            color:  #f1f1f1;\n",
       "        }    #T_86e10bf2_82ee_11ea_a71c_06f1caff8b5erow6_col2 {\n",
       "            width:  10em;\n",
       "             height:  80%;\n",
       "            background:  linear-gradient(90deg,cyan 57.1%, transparent 57.1%);\n",
       "        }    #T_86e10bf2_82ee_11ea_a71c_06f1caff8b5erow6_col3 {\n",
       "            width:  10em;\n",
       "             height:  80%;\n",
       "            background:  linear-gradient(90deg,grey 18.2%, transparent 18.2%);\n",
       "        }    #T_86e10bf2_82ee_11ea_a71c_06f1caff8b5erow6_col4 {\n",
       "            width:  10em;\n",
       "             height:  80%;\n",
       "            background:  linear-gradient(90deg,#5fba7d 74.2%, transparent 74.2%);\n",
       "        }    #T_86e10bf2_82ee_11ea_a71c_06f1caff8b5erow7_col1 {\n",
       "            background-color:  #423f85;\n",
       "            color:  #f1f1f1;\n",
       "        }    #T_86e10bf2_82ee_11ea_a71c_06f1caff8b5erow7_col2 {\n",
       "            width:  10em;\n",
       "             height:  80%;\n",
       "            background:  linear-gradient(90deg,cyan 57.1%, transparent 57.1%);\n",
       "        }    #T_86e10bf2_82ee_11ea_a71c_06f1caff8b5erow7_col3 {\n",
       "            width:  10em;\n",
       "             height:  80%;\n",
       "            background:  linear-gradient(90deg,grey 45.5%, transparent 45.5%);\n",
       "        }    #T_86e10bf2_82ee_11ea_a71c_06f1caff8b5erow7_col4 {\n",
       "            width:  10em;\n",
       "             height:  80%;\n",
       "            background:  linear-gradient(90deg,#5fba7d 93.1%, transparent 93.1%);\n",
       "        }    #T_86e10bf2_82ee_11ea_a71c_06f1caff8b5erow8_col1 {\n",
       "            background-color:  #423f85;\n",
       "            color:  #f1f1f1;\n",
       "        }    #T_86e10bf2_82ee_11ea_a71c_06f1caff8b5erow8_col2 {\n",
       "            width:  10em;\n",
       "             height:  80%;\n",
       "            background:  linear-gradient(90deg,cyan 57.1%, transparent 57.1%);\n",
       "        }    #T_86e10bf2_82ee_11ea_a71c_06f1caff8b5erow8_col3 {\n",
       "            width:  10em;\n",
       "             height:  80%;\n",
       "            background:  linear-gradient(90deg,grey 90.9%, transparent 90.9%);\n",
       "        }    #T_86e10bf2_82ee_11ea_a71c_06f1caff8b5erow8_col4 {\n",
       "            width:  10em;\n",
       "             height:  80%;\n",
       "            background:  linear-gradient(90deg,#5fba7d 69.8%, transparent 69.8%);\n",
       "        }    #T_86e10bf2_82ee_11ea_a71c_06f1caff8b5erow9_col1 {\n",
       "            background-color:  #423f85;\n",
       "            color:  #f1f1f1;\n",
       "        }    #T_86e10bf2_82ee_11ea_a71c_06f1caff8b5erow9_col2 {\n",
       "            width:  10em;\n",
       "             height:  80%;\n",
       "            background:  linear-gradient(90deg,cyan 85.7%, transparent 85.7%);\n",
       "        }    #T_86e10bf2_82ee_11ea_a71c_06f1caff8b5erow9_col3 {\n",
       "            width:  10em;\n",
       "             height:  80%;\n",
       "            background:  linear-gradient(90deg,grey 18.2%, transparent 18.2%);\n",
       "        }    #T_86e10bf2_82ee_11ea_a71c_06f1caff8b5erow9_col4 {\n",
       "            width:  10em;\n",
       "             height:  80%;\n",
       "            background:  linear-gradient(90deg,#5fba7d 87.7%, transparent 87.7%);\n",
       "        }    #T_86e10bf2_82ee_11ea_a71c_06f1caff8b5erow10_col1 {\n",
       "            background-color:  #423f85;\n",
       "            color:  #f1f1f1;\n",
       "        }    #T_86e10bf2_82ee_11ea_a71c_06f1caff8b5erow10_col2 {\n",
       "            width:  10em;\n",
       "             height:  80%;\n",
       "            background:  linear-gradient(90deg,cyan 85.7%, transparent 85.7%);\n",
       "        }    #T_86e10bf2_82ee_11ea_a71c_06f1caff8b5erow10_col3 {\n",
       "            width:  10em;\n",
       "             height:  80%;\n",
       "            background:  linear-gradient(90deg,grey 45.5%, transparent 45.5%);\n",
       "        }    #T_86e10bf2_82ee_11ea_a71c_06f1caff8b5erow10_col4 {\n",
       "            width:  10em;\n",
       "             height:  80%;\n",
       "            background:  linear-gradient(90deg,#5fba7d 90.8%, transparent 90.8%);\n",
       "        }    #T_86e10bf2_82ee_11ea_a71c_06f1caff8b5erow11_col1 {\n",
       "            background-color:  #423f85;\n",
       "            color:  #f1f1f1;\n",
       "        }    #T_86e10bf2_82ee_11ea_a71c_06f1caff8b5erow11_col2 {\n",
       "            width:  10em;\n",
       "             height:  80%;\n",
       "            background:  linear-gradient(90deg,cyan 85.7%, transparent 85.7%);\n",
       "        }    #T_86e10bf2_82ee_11ea_a71c_06f1caff8b5erow11_col3 {\n",
       "            width:  10em;\n",
       "             height:  80%;\n",
       "            background:  linear-gradient(90deg,grey 90.9%, transparent 90.9%);\n",
       "        }    #T_86e10bf2_82ee_11ea_a71c_06f1caff8b5erow11_col4 {\n",
       "            width:  10em;\n",
       "             height:  80%;\n",
       "            background:  linear-gradient(90deg,#5fba7d 57.0%, transparent 57.0%);\n",
       "        }    #T_86e10bf2_82ee_11ea_a71c_06f1caff8b5erow12_col1 {\n",
       "            background-color:  #2b758e;\n",
       "            color:  #f1f1f1;\n",
       "        }    #T_86e10bf2_82ee_11ea_a71c_06f1caff8b5erow12_col2 {\n",
       "            width:  10em;\n",
       "             height:  80%;\n",
       "            background:  linear-gradient(90deg,cyan 28.6%, transparent 28.6%);\n",
       "        }    #T_86e10bf2_82ee_11ea_a71c_06f1caff8b5erow12_col3 {\n",
       "            width:  10em;\n",
       "             height:  80%;\n",
       "            background:  linear-gradient(90deg,grey 9.1%, transparent 9.1%);\n",
       "        }    #T_86e10bf2_82ee_11ea_a71c_06f1caff8b5erow12_col4 {\n",
       "            width:  10em;\n",
       "             height:  80%;\n",
       "            background:  linear-gradient(90deg,#5fba7d 66.7%, transparent 66.7%);\n",
       "        }    #T_86e10bf2_82ee_11ea_a71c_06f1caff8b5erow13_col1 {\n",
       "            background-color:  #2b758e;\n",
       "            color:  #f1f1f1;\n",
       "        }    #T_86e10bf2_82ee_11ea_a71c_06f1caff8b5erow13_col2 {\n",
       "            width:  10em;\n",
       "             height:  80%;\n",
       "            background:  linear-gradient(90deg,cyan 28.6%, transparent 28.6%);\n",
       "        }    #T_86e10bf2_82ee_11ea_a71c_06f1caff8b5erow13_col3 {\n",
       "            width:  10em;\n",
       "             height:  80%;\n",
       "            background:  linear-gradient(90deg,grey 18.2%, transparent 18.2%);\n",
       "        }    #T_86e10bf2_82ee_11ea_a71c_06f1caff8b5erow13_col4 {\n",
       "            width:  10em;\n",
       "             height:  80%;\n",
       "            background:  linear-gradient(90deg,#5fba7d 80.9%, transparent 80.9%);\n",
       "        }    #T_86e10bf2_82ee_11ea_a71c_06f1caff8b5erow14_col1 {\n",
       "            background-color:  #2b758e;\n",
       "            color:  #f1f1f1;\n",
       "        }    #T_86e10bf2_82ee_11ea_a71c_06f1caff8b5erow14_col2 {\n",
       "            width:  10em;\n",
       "             height:  80%;\n",
       "            background:  linear-gradient(90deg,cyan 28.6%, transparent 28.6%);\n",
       "        }    #T_86e10bf2_82ee_11ea_a71c_06f1caff8b5erow14_col3 {\n",
       "            width:  10em;\n",
       "             height:  80%;\n",
       "            background:  linear-gradient(90deg,grey 45.5%, transparent 45.5%);\n",
       "        }    #T_86e10bf2_82ee_11ea_a71c_06f1caff8b5erow14_col4 {\n",
       "            width:  10em;\n",
       "             height:  80%;\n",
       "            background:  linear-gradient(90deg,#5fba7d 56.7%, transparent 56.7%);\n",
       "        }    #T_86e10bf2_82ee_11ea_a71c_06f1caff8b5erow15_col1 {\n",
       "            background-color:  #2b758e;\n",
       "            color:  #f1f1f1;\n",
       "        }    #T_86e10bf2_82ee_11ea_a71c_06f1caff8b5erow15_col2 {\n",
       "            width:  10em;\n",
       "             height:  80%;\n",
       "            background:  linear-gradient(90deg,cyan 28.6%, transparent 28.6%);\n",
       "        }    #T_86e10bf2_82ee_11ea_a71c_06f1caff8b5erow15_col3 {\n",
       "            width:  10em;\n",
       "             height:  80%;\n",
       "            background:  linear-gradient(90deg,grey 90.9%, transparent 90.9%);\n",
       "        }    #T_86e10bf2_82ee_11ea_a71c_06f1caff8b5erow15_col4 {\n",
       "            width:  10em;\n",
       "             height:  80%;\n",
       "            background:  linear-gradient(90deg,#5fba7d 46.0%, transparent 46.0%);\n",
       "        }    #T_86e10bf2_82ee_11ea_a71c_06f1caff8b5erow16_col1 {\n",
       "            background-color:  #2b758e;\n",
       "            color:  #f1f1f1;\n",
       "        }    #T_86e10bf2_82ee_11ea_a71c_06f1caff8b5erow16_col2 {\n",
       "            width:  10em;\n",
       "             height:  80%;\n",
       "            background:  linear-gradient(90deg,cyan 57.1%, transparent 57.1%);\n",
       "        }    #T_86e10bf2_82ee_11ea_a71c_06f1caff8b5erow16_col3 {\n",
       "            width:  10em;\n",
       "             height:  80%;\n",
       "            background:  linear-gradient(90deg,grey 18.2%, transparent 18.2%);\n",
       "        }    #T_86e10bf2_82ee_11ea_a71c_06f1caff8b5erow16_col4 {\n",
       "            width:  10em;\n",
       "             height:  80%;\n",
       "            background:  linear-gradient(90deg,#5fba7d 55.3%, transparent 55.3%);\n",
       "        }    #T_86e10bf2_82ee_11ea_a71c_06f1caff8b5erow17_col1 {\n",
       "            background-color:  #2b758e;\n",
       "            color:  #f1f1f1;\n",
       "        }    #T_86e10bf2_82ee_11ea_a71c_06f1caff8b5erow17_col2 {\n",
       "            width:  10em;\n",
       "             height:  80%;\n",
       "            background:  linear-gradient(90deg,cyan 57.1%, transparent 57.1%);\n",
       "        }    #T_86e10bf2_82ee_11ea_a71c_06f1caff8b5erow17_col3 {\n",
       "            width:  10em;\n",
       "             height:  80%;\n",
       "            background:  linear-gradient(90deg,grey 45.5%, transparent 45.5%);\n",
       "        }    #T_86e10bf2_82ee_11ea_a71c_06f1caff8b5erow17_col4 {\n",
       "            width:  10em;\n",
       "             height:  80%;\n",
       "            background:  linear-gradient(90deg,#5fba7d 96.7%, transparent 96.7%);\n",
       "        }    #T_86e10bf2_82ee_11ea_a71c_06f1caff8b5erow18_col1 {\n",
       "            background-color:  #2b758e;\n",
       "            color:  #f1f1f1;\n",
       "        }    #T_86e10bf2_82ee_11ea_a71c_06f1caff8b5erow18_col2 {\n",
       "            width:  10em;\n",
       "             height:  80%;\n",
       "            background:  linear-gradient(90deg,cyan 57.1%, transparent 57.1%);\n",
       "        }    #T_86e10bf2_82ee_11ea_a71c_06f1caff8b5erow18_col3 {\n",
       "            width:  10em;\n",
       "             height:  80%;\n",
       "            background:  linear-gradient(90deg,grey 90.9%, transparent 90.9%);\n",
       "        }    #T_86e10bf2_82ee_11ea_a71c_06f1caff8b5erow18_col4 {\n",
       "            width:  10em;\n",
       "             height:  80%;\n",
       "            background:  linear-gradient(90deg,#5fba7d 44.1%, transparent 44.1%);\n",
       "        }    #T_86e10bf2_82ee_11ea_a71c_06f1caff8b5erow19_col1 {\n",
       "            background-color:  #fde725;\n",
       "            color:  #000000;\n",
       "        }    #T_86e10bf2_82ee_11ea_a71c_06f1caff8b5erow19_col2 {\n",
       "            width:  10em;\n",
       "             height:  80%;\n",
       "            background:  linear-gradient(90deg,cyan 28.6%, transparent 28.6%);\n",
       "        }    #T_86e10bf2_82ee_11ea_a71c_06f1caff8b5erow19_col3 {\n",
       "            width:  10em;\n",
       "             height:  80%;\n",
       "            background:  linear-gradient(90deg,grey 9.1%, transparent 9.1%);\n",
       "        }    #T_86e10bf2_82ee_11ea_a71c_06f1caff8b5erow19_col4 {\n",
       "            width:  10em;\n",
       "             height:  80%;\n",
       "            background:  linear-gradient(90deg,#5fba7d 22.7%, transparent 22.7%);\n",
       "        }    #T_86e10bf2_82ee_11ea_a71c_06f1caff8b5erow20_col1 {\n",
       "            background-color:  #fde725;\n",
       "            color:  #000000;\n",
       "        }    #T_86e10bf2_82ee_11ea_a71c_06f1caff8b5erow20_col2 {\n",
       "            width:  10em;\n",
       "             height:  80%;\n",
       "            background:  linear-gradient(90deg,cyan 28.6%, transparent 28.6%);\n",
       "        }    #T_86e10bf2_82ee_11ea_a71c_06f1caff8b5erow20_col3 {\n",
       "            width:  10em;\n",
       "             height:  80%;\n",
       "            background:  linear-gradient(90deg,grey 18.2%, transparent 18.2%);\n",
       "        }    #T_86e10bf2_82ee_11ea_a71c_06f1caff8b5erow20_col4 {\n",
       "            width:  10em;\n",
       "             height:  80%;\n",
       "            background:  linear-gradient(90deg,#5fba7d 43.4%, transparent 43.4%);\n",
       "        }    #T_86e10bf2_82ee_11ea_a71c_06f1caff8b5erow21_col1 {\n",
       "            background-color:  #fde725;\n",
       "            color:  #000000;\n",
       "        }    #T_86e10bf2_82ee_11ea_a71c_06f1caff8b5erow21_col2 {\n",
       "            width:  10em;\n",
       "             height:  80%;\n",
       "            background:  linear-gradient(90deg,cyan 28.6%, transparent 28.6%);\n",
       "        }    #T_86e10bf2_82ee_11ea_a71c_06f1caff8b5erow21_col3 {\n",
       "            width:  10em;\n",
       "             height:  80%;\n",
       "            background:  linear-gradient(90deg,grey 45.5%, transparent 45.5%);\n",
       "        }    #T_86e10bf2_82ee_11ea_a71c_06f1caff8b5erow21_col4 {\n",
       "            width:  10em;\n",
       "             height:  80%;\n",
       "            background:  linear-gradient(90deg,#5fba7d 14.4%, transparent 14.4%);\n",
       "        }    #T_86e10bf2_82ee_11ea_a71c_06f1caff8b5erow22_col1 {\n",
       "            background-color:  #fde725;\n",
       "            color:  #000000;\n",
       "        }    #T_86e10bf2_82ee_11ea_a71c_06f1caff8b5erow22_col2 {\n",
       "            width:  10em;\n",
       "             height:  80%;\n",
       "            background:  linear-gradient(90deg,cyan 28.6%, transparent 28.6%);\n",
       "        }    #T_86e10bf2_82ee_11ea_a71c_06f1caff8b5erow22_col3 {\n",
       "            width:  10em;\n",
       "             height:  80%;\n",
       "            background:  linear-gradient(90deg,grey 90.9%, transparent 90.9%);\n",
       "        }    #T_86e10bf2_82ee_11ea_a71c_06f1caff8b5erow22_col4 {\n",
       "            width:  10em;\n",
       "             height:  80%;\n",
       "            background:  linear-gradient(90deg,#5fba7d 3.6%, transparent 3.6%);\n",
       "        }    #T_86e10bf2_82ee_11ea_a71c_06f1caff8b5erow23_col1 {\n",
       "            background-color:  #fde725;\n",
       "            color:  #000000;\n",
       "        }    #T_86e10bf2_82ee_11ea_a71c_06f1caff8b5erow23_col2 {\n",
       "            width:  10em;\n",
       "             height:  80%;\n",
       "            background:  linear-gradient(90deg,cyan 57.1%, transparent 57.1%);\n",
       "        }    #T_86e10bf2_82ee_11ea_a71c_06f1caff8b5erow23_col3 {\n",
       "            width:  10em;\n",
       "             height:  80%;\n",
       "            background:  linear-gradient(90deg,grey 18.2%, transparent 18.2%);\n",
       "        }    #T_86e10bf2_82ee_11ea_a71c_06f1caff8b5erow23_col4 {\n",
       "            width:  10em;\n",
       "             height:  80%;\n",
       "            background:  linear-gradient(90deg,#5fba7d 49.5%, transparent 49.5%);\n",
       "        }    #T_86e10bf2_82ee_11ea_a71c_06f1caff8b5erow24_col1 {\n",
       "            background-color:  #fde725;\n",
       "            color:  #000000;\n",
       "        }    #T_86e10bf2_82ee_11ea_a71c_06f1caff8b5erow24_col2 {\n",
       "            width:  10em;\n",
       "             height:  80%;\n",
       "            background:  linear-gradient(90deg,cyan 57.1%, transparent 57.1%);\n",
       "        }    #T_86e10bf2_82ee_11ea_a71c_06f1caff8b5erow24_col3 {\n",
       "            width:  10em;\n",
       "             height:  80%;\n",
       "            background:  linear-gradient(90deg,grey 45.5%, transparent 45.5%);\n",
       "        }    #T_86e10bf2_82ee_11ea_a71c_06f1caff8b5erow24_col4 {\n",
       "            width:  10em;\n",
       "             height:  80%;\n",
       "        }</style><table id=\"T_86e10bf2_82ee_11ea_a71c_06f1caff8b5e\" ><thead>    <tr>        <th class=\"blank level0\" ></th>        <th class=\"col_heading level0 col0\" >parameters</th>        <th class=\"col_heading level0 col1\" >bins</th>        <th class=\"col_heading level0 col2\" >k</th>        <th class=\"col_heading level0 col3\" >s</th>        <th class=\"col_heading level0 col4\" >auc_value</th>    </tr></thead><tbody>\n",
       "                <tr>\n",
       "                        <th id=\"T_86e10bf2_82ee_11ea_a71c_06f1caff8b5elevel0_row0\" class=\"row_heading level0 row0\" >0</th>\n",
       "                        <td id=\"T_86e10bf2_82ee_11ea_a71c_06f1caff8b5erow0_col0\" class=\"data row0 col0\" >no-binning</td>\n",
       "                        <td id=\"T_86e10bf2_82ee_11ea_a71c_06f1caff8b5erow0_col1\" class=\"data row0 col1\" >1</td>\n",
       "                        <td id=\"T_86e10bf2_82ee_11ea_a71c_06f1caff8b5erow0_col2\" class=\"data row0 col2\" >nan</td>\n",
       "                        <td id=\"T_86e10bf2_82ee_11ea_a71c_06f1caff8b5erow0_col3\" class=\"data row0 col3\" >nan</td>\n",
       "                        <td id=\"T_86e10bf2_82ee_11ea_a71c_06f1caff8b5erow0_col4\" class=\"data row0 col4\" >1</td>\n",
       "            </tr>\n",
       "            <tr>\n",
       "                        <th id=\"T_86e10bf2_82ee_11ea_a71c_06f1caff8b5elevel0_row1\" class=\"row_heading level0 row1\" >1</th>\n",
       "                        <td id=\"T_86e10bf2_82ee_11ea_a71c_06f1caff8b5erow1_col0\" class=\"data row1 col0\" >b10_k3_s5000_</td>\n",
       "                        <td id=\"T_86e10bf2_82ee_11ea_a71c_06f1caff8b5erow1_col1\" class=\"data row1 col1\" >10</td>\n",
       "                        <td id=\"T_86e10bf2_82ee_11ea_a71c_06f1caff8b5erow1_col2\" class=\"data row1 col2\" >3</td>\n",
       "                        <td id=\"T_86e10bf2_82ee_11ea_a71c_06f1caff8b5erow1_col3\" class=\"data row1 col3\" >5000</td>\n",
       "                        <td id=\"T_86e10bf2_82ee_11ea_a71c_06f1caff8b5erow1_col4\" class=\"data row1 col4\" >1.0268</td>\n",
       "            </tr>\n",
       "            <tr>\n",
       "                        <th id=\"T_86e10bf2_82ee_11ea_a71c_06f1caff8b5elevel0_row2\" class=\"row_heading level0 row2\" >2</th>\n",
       "                        <td id=\"T_86e10bf2_82ee_11ea_a71c_06f1caff8b5erow2_col0\" class=\"data row2 col0\" >b10_k3_s10000_</td>\n",
       "                        <td id=\"T_86e10bf2_82ee_11ea_a71c_06f1caff8b5erow2_col1\" class=\"data row2 col1\" >10</td>\n",
       "                        <td id=\"T_86e10bf2_82ee_11ea_a71c_06f1caff8b5erow2_col2\" class=\"data row2 col2\" >3</td>\n",
       "                        <td id=\"T_86e10bf2_82ee_11ea_a71c_06f1caff8b5erow2_col3\" class=\"data row2 col3\" >10000</td>\n",
       "                        <td id=\"T_86e10bf2_82ee_11ea_a71c_06f1caff8b5erow2_col4\" class=\"data row2 col4\" >0.9812</td>\n",
       "            </tr>\n",
       "            <tr>\n",
       "                        <th id=\"T_86e10bf2_82ee_11ea_a71c_06f1caff8b5elevel0_row3\" class=\"row_heading level0 row3\" >3</th>\n",
       "                        <td id=\"T_86e10bf2_82ee_11ea_a71c_06f1caff8b5erow3_col0\" class=\"data row3 col0\" >b10_k3_s25000_</td>\n",
       "                        <td id=\"T_86e10bf2_82ee_11ea_a71c_06f1caff8b5erow3_col1\" class=\"data row3 col1\" >10</td>\n",
       "                        <td id=\"T_86e10bf2_82ee_11ea_a71c_06f1caff8b5erow3_col2\" class=\"data row3 col2\" >3</td>\n",
       "                        <td id=\"T_86e10bf2_82ee_11ea_a71c_06f1caff8b5erow3_col3\" class=\"data row3 col3\" >25000</td>\n",
       "                        <td id=\"T_86e10bf2_82ee_11ea_a71c_06f1caff8b5erow3_col4\" class=\"data row3 col4\" >1.0145</td>\n",
       "            </tr>\n",
       "            <tr>\n",
       "                        <th id=\"T_86e10bf2_82ee_11ea_a71c_06f1caff8b5elevel0_row4\" class=\"row_heading level0 row4\" >4</th>\n",
       "                        <td id=\"T_86e10bf2_82ee_11ea_a71c_06f1caff8b5erow4_col0\" class=\"data row4 col0\" >b10_k3_s50000_</td>\n",
       "                        <td id=\"T_86e10bf2_82ee_11ea_a71c_06f1caff8b5erow4_col1\" class=\"data row4 col1\" >10</td>\n",
       "                        <td id=\"T_86e10bf2_82ee_11ea_a71c_06f1caff8b5erow4_col2\" class=\"data row4 col2\" >3</td>\n",
       "                        <td id=\"T_86e10bf2_82ee_11ea_a71c_06f1caff8b5erow4_col3\" class=\"data row4 col3\" >50000</td>\n",
       "                        <td id=\"T_86e10bf2_82ee_11ea_a71c_06f1caff8b5erow4_col4\" class=\"data row4 col4\" >0.97189</td>\n",
       "            </tr>\n",
       "            <tr>\n",
       "                        <th id=\"T_86e10bf2_82ee_11ea_a71c_06f1caff8b5elevel0_row5\" class=\"row_heading level0 row5\" >5</th>\n",
       "                        <td id=\"T_86e10bf2_82ee_11ea_a71c_06f1caff8b5erow5_col0\" class=\"data row5 col0\" >b10_k4_s5000_</td>\n",
       "                        <td id=\"T_86e10bf2_82ee_11ea_a71c_06f1caff8b5erow5_col1\" class=\"data row5 col1\" >10</td>\n",
       "                        <td id=\"T_86e10bf2_82ee_11ea_a71c_06f1caff8b5erow5_col2\" class=\"data row5 col2\" >4</td>\n",
       "                        <td id=\"T_86e10bf2_82ee_11ea_a71c_06f1caff8b5erow5_col3\" class=\"data row5 col3\" >5000</td>\n",
       "                        <td id=\"T_86e10bf2_82ee_11ea_a71c_06f1caff8b5erow5_col4\" class=\"data row5 col4\" >1.0245</td>\n",
       "            </tr>\n",
       "            <tr>\n",
       "                        <th id=\"T_86e10bf2_82ee_11ea_a71c_06f1caff8b5elevel0_row6\" class=\"row_heading level0 row6\" >6</th>\n",
       "                        <td id=\"T_86e10bf2_82ee_11ea_a71c_06f1caff8b5erow6_col0\" class=\"data row6 col0\" >b10_k4_s10000_</td>\n",
       "                        <td id=\"T_86e10bf2_82ee_11ea_a71c_06f1caff8b5erow6_col1\" class=\"data row6 col1\" >10</td>\n",
       "                        <td id=\"T_86e10bf2_82ee_11ea_a71c_06f1caff8b5erow6_col2\" class=\"data row6 col2\" >4</td>\n",
       "                        <td id=\"T_86e10bf2_82ee_11ea_a71c_06f1caff8b5erow6_col3\" class=\"data row6 col3\" >10000</td>\n",
       "                        <td id=\"T_86e10bf2_82ee_11ea_a71c_06f1caff8b5erow6_col4\" class=\"data row6 col4\" >0.99048</td>\n",
       "            </tr>\n",
       "            <tr>\n",
       "                        <th id=\"T_86e10bf2_82ee_11ea_a71c_06f1caff8b5elevel0_row7\" class=\"row_heading level0 row7\" >7</th>\n",
       "                        <td id=\"T_86e10bf2_82ee_11ea_a71c_06f1caff8b5erow7_col0\" class=\"data row7 col0\" >b10_k4_s25000_</td>\n",
       "                        <td id=\"T_86e10bf2_82ee_11ea_a71c_06f1caff8b5erow7_col1\" class=\"data row7 col1\" >10</td>\n",
       "                        <td id=\"T_86e10bf2_82ee_11ea_a71c_06f1caff8b5erow7_col2\" class=\"data row7 col2\" >4</td>\n",
       "                        <td id=\"T_86e10bf2_82ee_11ea_a71c_06f1caff8b5erow7_col3\" class=\"data row7 col3\" >25000</td>\n",
       "                        <td id=\"T_86e10bf2_82ee_11ea_a71c_06f1caff8b5erow7_col4\" class=\"data row7 col4\" >1.0171</td>\n",
       "            </tr>\n",
       "            <tr>\n",
       "                        <th id=\"T_86e10bf2_82ee_11ea_a71c_06f1caff8b5elevel0_row8\" class=\"row_heading level0 row8\" >8</th>\n",
       "                        <td id=\"T_86e10bf2_82ee_11ea_a71c_06f1caff8b5erow8_col0\" class=\"data row8 col0\" >b10_k4_s50000_</td>\n",
       "                        <td id=\"T_86e10bf2_82ee_11ea_a71c_06f1caff8b5erow8_col1\" class=\"data row8 col1\" >10</td>\n",
       "                        <td id=\"T_86e10bf2_82ee_11ea_a71c_06f1caff8b5erow8_col2\" class=\"data row8 col2\" >4</td>\n",
       "                        <td id=\"T_86e10bf2_82ee_11ea_a71c_06f1caff8b5erow8_col3\" class=\"data row8 col3\" >50000</td>\n",
       "                        <td id=\"T_86e10bf2_82ee_11ea_a71c_06f1caff8b5erow8_col4\" class=\"data row8 col4\" >0.98433</td>\n",
       "            </tr>\n",
       "            <tr>\n",
       "                        <th id=\"T_86e10bf2_82ee_11ea_a71c_06f1caff8b5elevel0_row9\" class=\"row_heading level0 row9\" >9</th>\n",
       "                        <td id=\"T_86e10bf2_82ee_11ea_a71c_06f1caff8b5erow9_col0\" class=\"data row9 col0\" >b10_k5_s10000_</td>\n",
       "                        <td id=\"T_86e10bf2_82ee_11ea_a71c_06f1caff8b5erow9_col1\" class=\"data row9 col1\" >10</td>\n",
       "                        <td id=\"T_86e10bf2_82ee_11ea_a71c_06f1caff8b5erow9_col2\" class=\"data row9 col2\" >5</td>\n",
       "                        <td id=\"T_86e10bf2_82ee_11ea_a71c_06f1caff8b5erow9_col3\" class=\"data row9 col3\" >10000</td>\n",
       "                        <td id=\"T_86e10bf2_82ee_11ea_a71c_06f1caff8b5erow9_col4\" class=\"data row9 col4\" >1.0095</td>\n",
       "            </tr>\n",
       "            <tr>\n",
       "                        <th id=\"T_86e10bf2_82ee_11ea_a71c_06f1caff8b5elevel0_row10\" class=\"row_heading level0 row10\" >10</th>\n",
       "                        <td id=\"T_86e10bf2_82ee_11ea_a71c_06f1caff8b5erow10_col0\" class=\"data row10 col0\" >b10_k5_s25000_</td>\n",
       "                        <td id=\"T_86e10bf2_82ee_11ea_a71c_06f1caff8b5erow10_col1\" class=\"data row10 col1\" >10</td>\n",
       "                        <td id=\"T_86e10bf2_82ee_11ea_a71c_06f1caff8b5erow10_col2\" class=\"data row10 col2\" >5</td>\n",
       "                        <td id=\"T_86e10bf2_82ee_11ea_a71c_06f1caff8b5erow10_col3\" class=\"data row10 col3\" >25000</td>\n",
       "                        <td id=\"T_86e10bf2_82ee_11ea_a71c_06f1caff8b5erow10_col4\" class=\"data row10 col4\" >1.0138</td>\n",
       "            </tr>\n",
       "            <tr>\n",
       "                        <th id=\"T_86e10bf2_82ee_11ea_a71c_06f1caff8b5elevel0_row11\" class=\"row_heading level0 row11\" >11</th>\n",
       "                        <td id=\"T_86e10bf2_82ee_11ea_a71c_06f1caff8b5erow11_col0\" class=\"data row11 col0\" >b10_k5_s50000_</td>\n",
       "                        <td id=\"T_86e10bf2_82ee_11ea_a71c_06f1caff8b5erow11_col1\" class=\"data row11 col1\" >10</td>\n",
       "                        <td id=\"T_86e10bf2_82ee_11ea_a71c_06f1caff8b5erow11_col2\" class=\"data row11 col2\" >5</td>\n",
       "                        <td id=\"T_86e10bf2_82ee_11ea_a71c_06f1caff8b5erow11_col3\" class=\"data row11 col3\" >50000</td>\n",
       "                        <td id=\"T_86e10bf2_82ee_11ea_a71c_06f1caff8b5erow11_col4\" class=\"data row11 col4\" >0.96634</td>\n",
       "            </tr>\n",
       "            <tr>\n",
       "                        <th id=\"T_86e10bf2_82ee_11ea_a71c_06f1caff8b5elevel0_row12\" class=\"row_heading level0 row12\" >12</th>\n",
       "                        <td id=\"T_86e10bf2_82ee_11ea_a71c_06f1caff8b5erow12_col0\" class=\"data row12 col0\" >b20_k3_s5000_</td>\n",
       "                        <td id=\"T_86e10bf2_82ee_11ea_a71c_06f1caff8b5erow12_col1\" class=\"data row12 col1\" >20</td>\n",
       "                        <td id=\"T_86e10bf2_82ee_11ea_a71c_06f1caff8b5erow12_col2\" class=\"data row12 col2\" >3</td>\n",
       "                        <td id=\"T_86e10bf2_82ee_11ea_a71c_06f1caff8b5erow12_col3\" class=\"data row12 col3\" >5000</td>\n",
       "                        <td id=\"T_86e10bf2_82ee_11ea_a71c_06f1caff8b5erow12_col4\" class=\"data row12 col4\" >0.97998</td>\n",
       "            </tr>\n",
       "            <tr>\n",
       "                        <th id=\"T_86e10bf2_82ee_11ea_a71c_06f1caff8b5elevel0_row13\" class=\"row_heading level0 row13\" >13</th>\n",
       "                        <td id=\"T_86e10bf2_82ee_11ea_a71c_06f1caff8b5erow13_col0\" class=\"data row13 col0\" >b20_k3_s10000_</td>\n",
       "                        <td id=\"T_86e10bf2_82ee_11ea_a71c_06f1caff8b5erow13_col1\" class=\"data row13 col1\" >20</td>\n",
       "                        <td id=\"T_86e10bf2_82ee_11ea_a71c_06f1caff8b5erow13_col2\" class=\"data row13 col2\" >3</td>\n",
       "                        <td id=\"T_86e10bf2_82ee_11ea_a71c_06f1caff8b5erow13_col3\" class=\"data row13 col3\" >10000</td>\n",
       "                        <td id=\"T_86e10bf2_82ee_11ea_a71c_06f1caff8b5erow13_col4\" class=\"data row13 col4\" >1</td>\n",
       "            </tr>\n",
       "            <tr>\n",
       "                        <th id=\"T_86e10bf2_82ee_11ea_a71c_06f1caff8b5elevel0_row14\" class=\"row_heading level0 row14\" >14</th>\n",
       "                        <td id=\"T_86e10bf2_82ee_11ea_a71c_06f1caff8b5erow14_col0\" class=\"data row14 col0\" >b20_k3_s25000_</td>\n",
       "                        <td id=\"T_86e10bf2_82ee_11ea_a71c_06f1caff8b5erow14_col1\" class=\"data row14 col1\" >20</td>\n",
       "                        <td id=\"T_86e10bf2_82ee_11ea_a71c_06f1caff8b5erow14_col2\" class=\"data row14 col2\" >3</td>\n",
       "                        <td id=\"T_86e10bf2_82ee_11ea_a71c_06f1caff8b5erow14_col3\" class=\"data row14 col3\" >25000</td>\n",
       "                        <td id=\"T_86e10bf2_82ee_11ea_a71c_06f1caff8b5erow14_col4\" class=\"data row14 col4\" >0.96599</td>\n",
       "            </tr>\n",
       "            <tr>\n",
       "                        <th id=\"T_86e10bf2_82ee_11ea_a71c_06f1caff8b5elevel0_row15\" class=\"row_heading level0 row15\" >15</th>\n",
       "                        <td id=\"T_86e10bf2_82ee_11ea_a71c_06f1caff8b5erow15_col0\" class=\"data row15 col0\" >b20_k3_s50000_</td>\n",
       "                        <td id=\"T_86e10bf2_82ee_11ea_a71c_06f1caff8b5erow15_col1\" class=\"data row15 col1\" >20</td>\n",
       "                        <td id=\"T_86e10bf2_82ee_11ea_a71c_06f1caff8b5erow15_col2\" class=\"data row15 col2\" >3</td>\n",
       "                        <td id=\"T_86e10bf2_82ee_11ea_a71c_06f1caff8b5erow15_col3\" class=\"data row15 col3\" >50000</td>\n",
       "                        <td id=\"T_86e10bf2_82ee_11ea_a71c_06f1caff8b5erow15_col4\" class=\"data row15 col4\" >0.95091</td>\n",
       "            </tr>\n",
       "            <tr>\n",
       "                        <th id=\"T_86e10bf2_82ee_11ea_a71c_06f1caff8b5elevel0_row16\" class=\"row_heading level0 row16\" >16</th>\n",
       "                        <td id=\"T_86e10bf2_82ee_11ea_a71c_06f1caff8b5erow16_col0\" class=\"data row16 col0\" >b20_k4_s10000_</td>\n",
       "                        <td id=\"T_86e10bf2_82ee_11ea_a71c_06f1caff8b5erow16_col1\" class=\"data row16 col1\" >20</td>\n",
       "                        <td id=\"T_86e10bf2_82ee_11ea_a71c_06f1caff8b5erow16_col2\" class=\"data row16 col2\" >4</td>\n",
       "                        <td id=\"T_86e10bf2_82ee_11ea_a71c_06f1caff8b5erow16_col3\" class=\"data row16 col3\" >10000</td>\n",
       "                        <td id=\"T_86e10bf2_82ee_11ea_a71c_06f1caff8b5erow16_col4\" class=\"data row16 col4\" >0.96392</td>\n",
       "            </tr>\n",
       "            <tr>\n",
       "                        <th id=\"T_86e10bf2_82ee_11ea_a71c_06f1caff8b5elevel0_row17\" class=\"row_heading level0 row17\" >17</th>\n",
       "                        <td id=\"T_86e10bf2_82ee_11ea_a71c_06f1caff8b5erow17_col0\" class=\"data row17 col0\" >b20_k4_s25000_</td>\n",
       "                        <td id=\"T_86e10bf2_82ee_11ea_a71c_06f1caff8b5erow17_col1\" class=\"data row17 col1\" >20</td>\n",
       "                        <td id=\"T_86e10bf2_82ee_11ea_a71c_06f1caff8b5erow17_col2\" class=\"data row17 col2\" >4</td>\n",
       "                        <td id=\"T_86e10bf2_82ee_11ea_a71c_06f1caff8b5erow17_col3\" class=\"data row17 col3\" >25000</td>\n",
       "                        <td id=\"T_86e10bf2_82ee_11ea_a71c_06f1caff8b5erow17_col4\" class=\"data row17 col4\" >1.0222</td>\n",
       "            </tr>\n",
       "            <tr>\n",
       "                        <th id=\"T_86e10bf2_82ee_11ea_a71c_06f1caff8b5elevel0_row18\" class=\"row_heading level0 row18\" >18</th>\n",
       "                        <td id=\"T_86e10bf2_82ee_11ea_a71c_06f1caff8b5erow18_col0\" class=\"data row18 col0\" >b20_k4_s50000_</td>\n",
       "                        <td id=\"T_86e10bf2_82ee_11ea_a71c_06f1caff8b5erow18_col1\" class=\"data row18 col1\" >20</td>\n",
       "                        <td id=\"T_86e10bf2_82ee_11ea_a71c_06f1caff8b5erow18_col2\" class=\"data row18 col2\" >4</td>\n",
       "                        <td id=\"T_86e10bf2_82ee_11ea_a71c_06f1caff8b5erow18_col3\" class=\"data row18 col3\" >50000</td>\n",
       "                        <td id=\"T_86e10bf2_82ee_11ea_a71c_06f1caff8b5erow18_col4\" class=\"data row18 col4\" >0.94826</td>\n",
       "            </tr>\n",
       "            <tr>\n",
       "                        <th id=\"T_86e10bf2_82ee_11ea_a71c_06f1caff8b5elevel0_row19\" class=\"row_heading level0 row19\" >19</th>\n",
       "                        <td id=\"T_86e10bf2_82ee_11ea_a71c_06f1caff8b5erow19_col0\" class=\"data row19 col0\" >b50_k3_s5000_</td>\n",
       "                        <td id=\"T_86e10bf2_82ee_11ea_a71c_06f1caff8b5erow19_col1\" class=\"data row19 col1\" >50</td>\n",
       "                        <td id=\"T_86e10bf2_82ee_11ea_a71c_06f1caff8b5erow19_col2\" class=\"data row19 col2\" >3</td>\n",
       "                        <td id=\"T_86e10bf2_82ee_11ea_a71c_06f1caff8b5erow19_col3\" class=\"data row19 col3\" >5000</td>\n",
       "                        <td id=\"T_86e10bf2_82ee_11ea_a71c_06f1caff8b5erow19_col4\" class=\"data row19 col4\" >0.91817</td>\n",
       "            </tr>\n",
       "            <tr>\n",
       "                        <th id=\"T_86e10bf2_82ee_11ea_a71c_06f1caff8b5elevel0_row20\" class=\"row_heading level0 row20\" >20</th>\n",
       "                        <td id=\"T_86e10bf2_82ee_11ea_a71c_06f1caff8b5erow20_col0\" class=\"data row20 col0\" >b50_k3_s10000_</td>\n",
       "                        <td id=\"T_86e10bf2_82ee_11ea_a71c_06f1caff8b5erow20_col1\" class=\"data row20 col1\" >50</td>\n",
       "                        <td id=\"T_86e10bf2_82ee_11ea_a71c_06f1caff8b5erow20_col2\" class=\"data row20 col2\" >3</td>\n",
       "                        <td id=\"T_86e10bf2_82ee_11ea_a71c_06f1caff8b5erow20_col3\" class=\"data row20 col3\" >10000</td>\n",
       "                        <td id=\"T_86e10bf2_82ee_11ea_a71c_06f1caff8b5erow20_col4\" class=\"data row20 col4\" >0.94725</td>\n",
       "            </tr>\n",
       "            <tr>\n",
       "                        <th id=\"T_86e10bf2_82ee_11ea_a71c_06f1caff8b5elevel0_row21\" class=\"row_heading level0 row21\" >21</th>\n",
       "                        <td id=\"T_86e10bf2_82ee_11ea_a71c_06f1caff8b5erow21_col0\" class=\"data row21 col0\" >b50_k3_s25000_</td>\n",
       "                        <td id=\"T_86e10bf2_82ee_11ea_a71c_06f1caff8b5erow21_col1\" class=\"data row21 col1\" >50</td>\n",
       "                        <td id=\"T_86e10bf2_82ee_11ea_a71c_06f1caff8b5erow21_col2\" class=\"data row21 col2\" >3</td>\n",
       "                        <td id=\"T_86e10bf2_82ee_11ea_a71c_06f1caff8b5erow21_col3\" class=\"data row21 col3\" >25000</td>\n",
       "                        <td id=\"T_86e10bf2_82ee_11ea_a71c_06f1caff8b5erow21_col4\" class=\"data row21 col4\" >0.90645</td>\n",
       "            </tr>\n",
       "            <tr>\n",
       "                        <th id=\"T_86e10bf2_82ee_11ea_a71c_06f1caff8b5elevel0_row22\" class=\"row_heading level0 row22\" >22</th>\n",
       "                        <td id=\"T_86e10bf2_82ee_11ea_a71c_06f1caff8b5erow22_col0\" class=\"data row22 col0\" >b50_k3_s50000_</td>\n",
       "                        <td id=\"T_86e10bf2_82ee_11ea_a71c_06f1caff8b5erow22_col1\" class=\"data row22 col1\" >50</td>\n",
       "                        <td id=\"T_86e10bf2_82ee_11ea_a71c_06f1caff8b5erow22_col2\" class=\"data row22 col2\" >3</td>\n",
       "                        <td id=\"T_86e10bf2_82ee_11ea_a71c_06f1caff8b5erow22_col3\" class=\"data row22 col3\" >50000</td>\n",
       "                        <td id=\"T_86e10bf2_82ee_11ea_a71c_06f1caff8b5erow22_col4\" class=\"data row22 col4\" >0.89128</td>\n",
       "            </tr>\n",
       "            <tr>\n",
       "                        <th id=\"T_86e10bf2_82ee_11ea_a71c_06f1caff8b5elevel0_row23\" class=\"row_heading level0 row23\" >23</th>\n",
       "                        <td id=\"T_86e10bf2_82ee_11ea_a71c_06f1caff8b5erow23_col0\" class=\"data row23 col0\" >b50_k4_s10000_</td>\n",
       "                        <td id=\"T_86e10bf2_82ee_11ea_a71c_06f1caff8b5erow23_col1\" class=\"data row23 col1\" >50</td>\n",
       "                        <td id=\"T_86e10bf2_82ee_11ea_a71c_06f1caff8b5erow23_col2\" class=\"data row23 col2\" >4</td>\n",
       "                        <td id=\"T_86e10bf2_82ee_11ea_a71c_06f1caff8b5erow23_col3\" class=\"data row23 col3\" >10000</td>\n",
       "                        <td id=\"T_86e10bf2_82ee_11ea_a71c_06f1caff8b5erow23_col4\" class=\"data row23 col4\" >0.95581</td>\n",
       "            </tr>\n",
       "            <tr>\n",
       "                        <th id=\"T_86e10bf2_82ee_11ea_a71c_06f1caff8b5elevel0_row24\" class=\"row_heading level0 row24\" >24</th>\n",
       "                        <td id=\"T_86e10bf2_82ee_11ea_a71c_06f1caff8b5erow24_col0\" class=\"data row24 col0\" >b50_k4_s25000_</td>\n",
       "                        <td id=\"T_86e10bf2_82ee_11ea_a71c_06f1caff8b5erow24_col1\" class=\"data row24 col1\" >50</td>\n",
       "                        <td id=\"T_86e10bf2_82ee_11ea_a71c_06f1caff8b5erow24_col2\" class=\"data row24 col2\" >4</td>\n",
       "                        <td id=\"T_86e10bf2_82ee_11ea_a71c_06f1caff8b5erow24_col3\" class=\"data row24 col3\" >25000</td>\n",
       "                        <td id=\"T_86e10bf2_82ee_11ea_a71c_06f1caff8b5erow24_col4\" class=\"data row24 col4\" >0.88627</td>\n",
       "            </tr>\n",
       "    </tbody></table>"
      ],
      "text/plain": [
       "<pandas.io.formats.style.Styler at 0x7f895f836588>"
      ]
     },
     "execution_count": 47,
     "metadata": {},
     "output_type": "execute_result"
    }
   ],
   "source": [
    "# subset = df[df.ground_truth > 0].sort_values(ascending=False, by=[\"ground_truth\", ])\n",
    "max_val = df.auc_value.max()\n",
    "scaled.style.background_gradient(subset=[\"bins\"], cmap='viridis') \\\n",
    "    .bar(subset=[\"k\"], color=\"cyan\", vmin=2, vmax=5.5) \\\n",
    "    .bar(subset=[\"s\"], color=\"grey\", vmin=0, vmax=55000) \\\n",
    "    .bar(subset=[\"auc_value\"], color=\"#5fba7d\",)"
   ]
  },
  {
   "cell_type": "code",
   "execution_count": null,
   "metadata": {},
   "outputs": [],
   "source": []
  },
  {
   "cell_type": "code",
   "execution_count": null,
   "metadata": {},
   "outputs": [],
   "source": []
  },
  {
   "cell_type": "code",
   "execution_count": null,
   "metadata": {},
   "outputs": [],
   "source": []
  },
  {
   "cell_type": "code",
   "execution_count": null,
   "metadata": {},
   "outputs": [],
   "source": []
  },
  {
   "cell_type": "code",
   "execution_count": 36,
   "metadata": {
    "ExecuteTime": {
     "end_time": "2020-04-15T01:51:26.401786Z",
     "start_time": "2020-04-15T01:51:26.394851Z"
    }
   },
   "outputs": [],
   "source": [
    "df[[\"b\", \"k\", \"s\"]] = df.parameters.str.split(\"_\", expand=True)"
   ]
  },
  {
   "cell_type": "code",
   "execution_count": 37,
   "metadata": {
    "ExecuteTime": {
     "end_time": "2020-04-15T01:51:27.653285Z",
     "start_time": "2020-04-15T01:51:27.647228Z"
    },
    "scrolled": true
   },
   "outputs": [],
   "source": [
    "df.loc[0, \"b\"] = \"0\"\n",
    "df.loc[0, \"k\"] = \"0\"\n",
    "df.loc[0, \"s\"] = \"0\""
   ]
  },
  {
   "cell_type": "code",
   "execution_count": 38,
   "metadata": {
    "ExecuteTime": {
     "end_time": "2020-04-15T01:51:27.906685Z",
     "start_time": "2020-04-15T01:51:27.895950Z"
    }
   },
   "outputs": [],
   "source": [
    "for letter in (\"b\", \"k\", \"s\"):\n",
    "    df[letter] = df[letter].str.replace(letter, \"\").astype(\"int\")"
   ]
  },
  {
   "cell_type": "code",
   "execution_count": 39,
   "metadata": {
    "ExecuteTime": {
     "end_time": "2020-04-15T01:51:28.125309Z",
     "start_time": "2020-04-15T01:51:28.114619Z"
    }
   },
   "outputs": [
    {
     "data": {
      "text/html": [
       "<div>\n",
       "<style scoped>\n",
       "    .dataframe tbody tr th:only-of-type {\n",
       "        vertical-align: middle;\n",
       "    }\n",
       "\n",
       "    .dataframe tbody tr th {\n",
       "        vertical-align: top;\n",
       "    }\n",
       "\n",
       "    .dataframe thead th {\n",
       "        text-align: right;\n",
       "    }\n",
       "</style>\n",
       "<table border=\"1\" class=\"dataframe\">\n",
       "  <thead>\n",
       "    <tr style=\"text-align: right;\">\n",
       "      <th></th>\n",
       "      <th>parameters</th>\n",
       "      <th>auc_value</th>\n",
       "      <th>b</th>\n",
       "      <th>k</th>\n",
       "      <th>s</th>\n",
       "    </tr>\n",
       "  </thead>\n",
       "  <tbody>\n",
       "    <tr>\n",
       "      <th>0</th>\n",
       "      <td>no-binning</td>\n",
       "      <td>0.2900</td>\n",
       "      <td>0</td>\n",
       "      <td>0</td>\n",
       "      <td>0</td>\n",
       "    </tr>\n",
       "    <tr>\n",
       "      <th>1</th>\n",
       "      <td>b10_k3_s5000</td>\n",
       "      <td>0.2978</td>\n",
       "      <td>10</td>\n",
       "      <td>3</td>\n",
       "      <td>5000</td>\n",
       "    </tr>\n",
       "    <tr>\n",
       "      <th>2</th>\n",
       "      <td>b10_k3_s10000</td>\n",
       "      <td>0.2846</td>\n",
       "      <td>10</td>\n",
       "      <td>3</td>\n",
       "      <td>10000</td>\n",
       "    </tr>\n",
       "    <tr>\n",
       "      <th>3</th>\n",
       "      <td>b10_k4_s5000</td>\n",
       "      <td>0.2482</td>\n",
       "      <td>10</td>\n",
       "      <td>4</td>\n",
       "      <td>5000</td>\n",
       "    </tr>\n",
       "    <tr>\n",
       "      <th>4</th>\n",
       "      <td>b10_k4_s10000</td>\n",
       "      <td>0.2873</td>\n",
       "      <td>10</td>\n",
       "      <td>4</td>\n",
       "      <td>10000</td>\n",
       "    </tr>\n",
       "    <tr>\n",
       "      <th>5</th>\n",
       "      <td>b20_k3_s5000</td>\n",
       "      <td>0.2925</td>\n",
       "      <td>20</td>\n",
       "      <td>3</td>\n",
       "      <td>5000</td>\n",
       "    </tr>\n",
       "    <tr>\n",
       "      <th>6</th>\n",
       "      <td>b20_k3_s10000</td>\n",
       "      <td>0.2900</td>\n",
       "      <td>20</td>\n",
       "      <td>3</td>\n",
       "      <td>10000</td>\n",
       "    </tr>\n",
       "    <tr>\n",
       "      <th>7</th>\n",
       "      <td>b20_k4_s10000</td>\n",
       "      <td>0.2796</td>\n",
       "      <td>20</td>\n",
       "      <td>4</td>\n",
       "      <td>10000</td>\n",
       "    </tr>\n",
       "    <tr>\n",
       "      <th>8</th>\n",
       "      <td>b20_k4_s25000</td>\n",
       "      <td>0.2965</td>\n",
       "      <td>20</td>\n",
       "      <td>4</td>\n",
       "      <td>25000</td>\n",
       "    </tr>\n",
       "    <tr>\n",
       "      <th>9</th>\n",
       "      <td>b50_k3_s5000</td>\n",
       "      <td>0.2766</td>\n",
       "      <td>50</td>\n",
       "      <td>3</td>\n",
       "      <td>5000</td>\n",
       "    </tr>\n",
       "    <tr>\n",
       "      <th>10</th>\n",
       "      <td>b50_k3_s10000</td>\n",
       "      <td>0.2747</td>\n",
       "      <td>50</td>\n",
       "      <td>3</td>\n",
       "      <td>10000</td>\n",
       "    </tr>\n",
       "    <tr>\n",
       "      <th>11</th>\n",
       "      <td>b50_k4_s10000</td>\n",
       "      <td>0.2772</td>\n",
       "      <td>50</td>\n",
       "      <td>4</td>\n",
       "      <td>10000</td>\n",
       "    </tr>\n",
       "    <tr>\n",
       "      <th>12</th>\n",
       "      <td>b50_k4_s25000</td>\n",
       "      <td>0.2570</td>\n",
       "      <td>50</td>\n",
       "      <td>4</td>\n",
       "      <td>25000</td>\n",
       "    </tr>\n",
       "  </tbody>\n",
       "</table>\n",
       "</div>"
      ],
      "text/plain": [
       "       parameters  auc_value   b  k      s\n",
       "0      no-binning     0.2900   0  0      0\n",
       "1    b10_k3_s5000     0.2978  10  3   5000\n",
       "2   b10_k3_s10000     0.2846  10  3  10000\n",
       "3    b10_k4_s5000     0.2482  10  4   5000\n",
       "4   b10_k4_s10000     0.2873  10  4  10000\n",
       "5    b20_k3_s5000     0.2925  20  3   5000\n",
       "6   b20_k3_s10000     0.2900  20  3  10000\n",
       "7   b20_k4_s10000     0.2796  20  4  10000\n",
       "8   b20_k4_s25000     0.2965  20  4  25000\n",
       "9    b50_k3_s5000     0.2766  50  3   5000\n",
       "10  b50_k3_s10000     0.2747  50  3  10000\n",
       "11  b50_k4_s10000     0.2772  50  4  10000\n",
       "12  b50_k4_s25000     0.2570  50  4  25000"
      ]
     },
     "execution_count": 39,
     "metadata": {},
     "output_type": "execute_result"
    }
   ],
   "source": [
    "df"
   ]
  },
  {
   "cell_type": "code",
   "execution_count": 40,
   "metadata": {
    "ExecuteTime": {
     "end_time": "2020-04-15T01:51:28.588712Z",
     "start_time": "2020-04-15T01:51:28.581736Z"
    }
   },
   "outputs": [],
   "source": [
    "df2 = pd.DataFrame({\n",
    "    \"no-binning\": [0.2900, 0.2900, 0.2900],\n",
    "    \"k3_s5000\": [0.2978, 0.2925, 0.2766],\n",
    "    \"k3_s10000\": [0.2846, 0.2900, 0.2747],\n",
    "    \"k4_s5000\": [0.2482, None, None],\n",
    "    \"k4_s10000\": [0.2873, 0.2796, 0.2772],\n",
    "    \"k4_s25000\": [None, 0.2965, 0.2570],\n",
    "}, index=[10, 20, 50])"
   ]
  },
  {
   "cell_type": "code",
   "execution_count": 41,
   "metadata": {
    "ExecuteTime": {
     "end_time": "2020-04-15T01:51:28.810511Z",
     "start_time": "2020-04-15T01:51:28.799593Z"
    }
   },
   "outputs": [
    {
     "data": {
      "text/html": [
       "<div>\n",
       "<style scoped>\n",
       "    .dataframe tbody tr th:only-of-type {\n",
       "        vertical-align: middle;\n",
       "    }\n",
       "\n",
       "    .dataframe tbody tr th {\n",
       "        vertical-align: top;\n",
       "    }\n",
       "\n",
       "    .dataframe thead th {\n",
       "        text-align: right;\n",
       "    }\n",
       "</style>\n",
       "<table border=\"1\" class=\"dataframe\">\n",
       "  <thead>\n",
       "    <tr style=\"text-align: right;\">\n",
       "      <th></th>\n",
       "      <th>no-binning</th>\n",
       "      <th>k3_s5000</th>\n",
       "      <th>k3_s10000</th>\n",
       "      <th>k4_s5000</th>\n",
       "      <th>k4_s10000</th>\n",
       "      <th>k4_s25000</th>\n",
       "    </tr>\n",
       "  </thead>\n",
       "  <tbody>\n",
       "    <tr>\n",
       "      <th>10</th>\n",
       "      <td>0.29</td>\n",
       "      <td>0.2978</td>\n",
       "      <td>0.2846</td>\n",
       "      <td>0.2482</td>\n",
       "      <td>0.2873</td>\n",
       "      <td>NaN</td>\n",
       "    </tr>\n",
       "    <tr>\n",
       "      <th>20</th>\n",
       "      <td>0.29</td>\n",
       "      <td>0.2925</td>\n",
       "      <td>0.2900</td>\n",
       "      <td>NaN</td>\n",
       "      <td>0.2796</td>\n",
       "      <td>0.2965</td>\n",
       "    </tr>\n",
       "    <tr>\n",
       "      <th>50</th>\n",
       "      <td>0.29</td>\n",
       "      <td>0.2766</td>\n",
       "      <td>0.2747</td>\n",
       "      <td>NaN</td>\n",
       "      <td>0.2772</td>\n",
       "      <td>0.2570</td>\n",
       "    </tr>\n",
       "  </tbody>\n",
       "</table>\n",
       "</div>"
      ],
      "text/plain": [
       "    no-binning  k3_s5000  k3_s10000  k4_s5000  k4_s10000  k4_s25000\n",
       "10        0.29    0.2978     0.2846    0.2482     0.2873        NaN\n",
       "20        0.29    0.2925     0.2900       NaN     0.2796     0.2965\n",
       "50        0.29    0.2766     0.2747       NaN     0.2772     0.2570"
      ]
     },
     "execution_count": 41,
     "metadata": {},
     "output_type": "execute_result"
    }
   ],
   "source": [
    "df2"
   ]
  },
  {
   "cell_type": "code",
   "execution_count": 42,
   "metadata": {
    "ExecuteTime": {
     "end_time": "2020-04-15T01:51:29.283040Z",
     "start_time": "2020-04-15T01:51:29.010333Z"
    }
   },
   "outputs": [
    {
     "data": {
      "text/plain": [
       "<matplotlib.legend.Legend at 0x7fda5d8767f0>"
      ]
     },
     "execution_count": 42,
     "metadata": {},
     "output_type": "execute_result"
    },
    {
     "data": {
      "image/png": "[encoded data removed]",
      "text/plain": [
       "<Figure size 432x288 with 1 Axes>"
      ]
     },
     "metadata": {
      "needs_background": "light"
     },
     "output_type": "display_data"
    }
   ],
   "source": [
    "df2.plot.bar().legend(bbox_to_anchor=(1.3, 0.6))"
   ]
  },
  {
   "cell_type": "code",
   "execution_count": null,
   "metadata": {},
   "outputs": [],
   "source": []
  },
  {
   "cell_type": "code",
   "execution_count": null,
   "metadata": {},
   "outputs": [],
   "source": []
  },
  {
   "cell_type": "code",
   "execution_count": null,
   "metadata": {},
   "outputs": [],
   "source": []
  },
  {
   "cell_type": "markdown",
   "metadata": {},
   "source": [
    "## Read length"
   ]
  },
  {
   "cell_type": "code",
   "execution_count": null,
   "metadata": {},
   "outputs": [],
   "source": []
  },
  {
   "cell_type": "code",
   "execution_count": null,
   "metadata": {},
   "outputs": [],
   "source": []
  },
  {
   "cell_type": "markdown",
   "metadata": {},
   "source": [
    "## Max index size"
   ]
  },
  {
   "cell_type": "code",
   "execution_count": 66,
   "metadata": {
    "ExecuteTime": {
     "end_time": "2020-04-15T02:00:48.552113Z",
     "start_time": "2020-04-15T02:00:48.542986Z"
    }
   },
   "outputs": [
    {
     "name": "stdout",
     "output_type": "stream",
     "text": [
      "Without binning, the hash table is 33.02 GB\n",
      "For 10 bins, biggest hash is 6.60 GB, total of all hashes is 34.88 GB\n",
      "For 20 bins, biggest hash is 3.60 GB, total of all hashes is 35.71 GB\n",
      "For 50 bins, biggest hash is 2.13 GB, total of all hashes is 37.59 GB\n"
     ]
    }
   ],
   "source": [
    "no_bin_hash = \"/mnt/5TB/Segmentation/no-binning/oplant-vertebrate/kraken2/k35_l31_s7/hash.k2d\"\n",
    "print(f\"Without binning, the hash table is {osp.getsize(no_bin_hash)/10**9:.2f} GB\")\n",
    "\n",
    "for bin_size in (10, 20, 50):\n",
    "    folder = f\"/mnt/5TB/Segmentation/k4_s10000/minikm_b{bin_size}_k4_s10000_oplant-vertebrate/kraken2/k35_l31_s7\"\n",
    "    sizes = []\n",
    "    for folder in os.scandir(folder):\n",
    "        if not folder.is_dir():\n",
    "            continue\n",
    "        p = osp.join(folder.path, \"hash.k2d\")\n",
    "        size = osp.getsize(p)\n",
    "        sizes.append(size)\n",
    "    highest = max(sizes)\n",
    "    total = sum(sizes)\n",
    "    print(f\"For {bin_size} bins, biggest hash is {highest/10**9:.2f} GB, total of all hashes is {total/10**9:.2f} GB\")"
   ]
  },
  {
   "cell_type": "code",
   "execution_count": null,
   "metadata": {},
   "outputs": [],
   "source": [
    "hash_size = pd.DataFrame({})"
   ]
  },
  {
   "cell_type": "code",
   "execution_count": null,
   "metadata": {},
   "outputs": [],
   "source": []
  },
  {
   "cell_type": "code",
   "execution_count": null,
   "metadata": {},
   "outputs": [],
   "source": []
  },
  {
   "cell_type": "code",
   "execution_count": null,
   "metadata": {},
   "outputs": [],
   "source": []
  },
  {
   "cell_type": "code",
   "execution_count": null,
   "metadata": {},
   "outputs": [],
   "source": []
  },
  {
   "cell_type": "code",
   "execution_count": null,
   "metadata": {},
   "outputs": [],
   "source": []
  },
  {
   "cell_type": "code",
   "execution_count": 22,
   "metadata": {
    "ExecuteTime": {
     "end_time": "2020-04-08T07:32:10.134184Z",
     "start_time": "2020-04-08T07:32:10.079381Z"
    }
   },
   "outputs": [],
   "source": [
    "root = \"/mnt/hdd1000/ONT_Mock_Communities/\"\n",
    "titles = []\n",
    "gather = []\n",
    "for f in os.scandir(root):\n",
    "    if \"silico-10\" in f.name:\n",
    "        title = f.name.split(\"silico-10-bacteria-20k-reads-\")[1].split(\".\")[0]\n",
    "        files = [g.path for g in os.scandir(f) if g.name.endswith(\".reads_details.pd\")]\n",
    "        if len(files) == 1:\n",
    "            df = pd.read_pickle(files[0])[[\"length\"]].describe().T\n",
    "            df.index = [title]\n",
    "            gather.append(df)\n",
    "            titles.append(title)"
   ]
  },
  {
   "cell_type": "code",
   "execution_count": 23,
   "metadata": {
    "ExecuteTime": {
     "end_time": "2020-04-08T07:32:10.809960Z",
     "start_time": "2020-04-08T07:32:10.798594Z"
    }
   },
   "outputs": [
    {
     "data": {
      "text/html": [
       "<div>\n",
       "<style scoped>\n",
       "    .dataframe tbody tr th:only-of-type {\n",
       "        vertical-align: middle;\n",
       "    }\n",
       "\n",
       "    .dataframe tbody tr th {\n",
       "        vertical-align: top;\n",
       "    }\n",
       "\n",
       "    .dataframe thead th {\n",
       "        text-align: right;\n",
       "    }\n",
       "</style>\n",
       "<table border=\"1\" class=\"dataframe\">\n",
       "  <thead>\n",
       "    <tr style=\"text-align: right;\">\n",
       "      <th></th>\n",
       "      <th>count</th>\n",
       "      <th>mean</th>\n",
       "      <th>std</th>\n",
       "      <th>min</th>\n",
       "      <th>25%</th>\n",
       "      <th>50%</th>\n",
       "      <th>75%</th>\n",
       "      <th>max</th>\n",
       "    </tr>\n",
       "  </thead>\n",
       "  <tbody>\n",
       "    <tr>\n",
       "      <th>2k-5k</th>\n",
       "      <td>20000.0</td>\n",
       "      <td>3240.4257</td>\n",
       "      <td>869.444736</td>\n",
       "      <td>2001.0</td>\n",
       "      <td>2465.0</td>\n",
       "      <td>3093.0</td>\n",
       "      <td>3957.0</td>\n",
       "      <td>4999.0</td>\n",
       "    </tr>\n",
       "  </tbody>\n",
       "</table>\n",
       "</div>"
      ],
      "text/plain": [
       "         count       mean         std     min     25%     50%     75%     max\n",
       "2k-5k  20000.0  3240.4257  869.444736  2001.0  2465.0  3093.0  3957.0  4999.0"
      ]
     },
     "execution_count": 23,
     "metadata": {},
     "output_type": "execute_result"
    }
   ],
   "source": [
    "df"
   ]
  },
  {
   "cell_type": "code",
   "execution_count": 29,
   "metadata": {
    "ExecuteTime": {
     "end_time": "2020-04-08T07:33:40.369831Z",
     "start_time": "2020-04-08T07:33:40.364508Z"
    }
   },
   "outputs": [],
   "source": [
    "summary = pd.concat(gather, )\n",
    "summary.drop(columns=[\"count\", \"25%\", \"75%\"], inplace=True)"
   ]
  },
  {
   "cell_type": "code",
   "execution_count": 37,
   "metadata": {
    "ExecuteTime": {
     "end_time": "2020-04-08T07:35:49.747873Z",
     "start_time": "2020-04-08T07:35:49.735833Z"
    }
   },
   "outputs": [
    {
     "data": {
      "text/html": [
       "<div>\n",
       "<style scoped>\n",
       "    .dataframe tbody tr th:only-of-type {\n",
       "        vertical-align: middle;\n",
       "    }\n",
       "\n",
       "    .dataframe tbody tr th {\n",
       "        vertical-align: top;\n",
       "    }\n",
       "\n",
       "    .dataframe thead th {\n",
       "        text-align: right;\n",
       "    }\n",
       "</style>\n",
       "<table border=\"1\" class=\"dataframe\">\n",
       "  <thead>\n",
       "    <tr style=\"text-align: right;\">\n",
       "      <th></th>\n",
       "      <th>mean</th>\n",
       "      <th>std</th>\n",
       "      <th>min</th>\n",
       "      <th>50%</th>\n",
       "      <th>max</th>\n",
       "    </tr>\n",
       "  </thead>\n",
       "  <tbody>\n",
       "    <tr>\n",
       "      <th>500-1k</th>\n",
       "      <td>761</td>\n",
       "      <td>146</td>\n",
       "      <td>501</td>\n",
       "      <td>765</td>\n",
       "      <td>999</td>\n",
       "    </tr>\n",
       "    <tr>\n",
       "      <th>1k-2k</th>\n",
       "      <td>1549</td>\n",
       "      <td>277</td>\n",
       "      <td>1001</td>\n",
       "      <td>1569</td>\n",
       "      <td>1999</td>\n",
       "    </tr>\n",
       "    <tr>\n",
       "      <th>2k-5k</th>\n",
       "      <td>3240</td>\n",
       "      <td>869</td>\n",
       "      <td>2001</td>\n",
       "      <td>3093</td>\n",
       "      <td>4999</td>\n",
       "    </tr>\n",
       "    <tr>\n",
       "      <th>5k-10k</th>\n",
       "      <td>7066</td>\n",
       "      <td>1421</td>\n",
       "      <td>5001</td>\n",
       "      <td>6851</td>\n",
       "      <td>9999</td>\n",
       "    </tr>\n",
       "  </tbody>\n",
       "</table>\n",
       "</div>"
      ],
      "text/plain": [
       "        mean   std   min   50%   max\n",
       "500-1k   761   146   501   765   999\n",
       "1k-2k   1549   277  1001  1569  1999\n",
       "2k-5k   3240   869  2001  3093  4999\n",
       "5k-10k  7066  1421  5001  6851  9999"
      ]
     },
     "execution_count": 37,
     "metadata": {},
     "output_type": "execute_result"
    }
   ],
   "source": [
    "summary.sort_values(by=[\"mean\"])"
   ]
  },
  {
   "cell_type": "code",
   "execution_count": null,
   "metadata": {},
   "outputs": [],
   "source": []
  },
  {
   "cell_type": "code",
   "execution_count": null,
   "metadata": {},
   "outputs": [],
   "source": []
  },
  {
   "cell_type": "code",
   "execution_count": 6,
   "metadata": {
    "ExecuteTime": {
     "end_time": "2020-04-09T06:28:05.341668Z",
     "start_time": "2020-04-09T06:28:05.312668Z"
    }
   },
   "outputs": [],
   "source": [
    "summuray = pd.read_pickle(\"/mnt/hdd1000/ONT_Mock_Communities/silico-10-bacteria-20k-reads-2k-5k/silico-10-bacteria-20k-reads-2k-5k.summary.pd\")"
   ]
  },
  {
   "cell_type": "code",
   "execution_count": 7,
   "metadata": {
    "ExecuteTime": {
     "end_time": "2020-04-09T06:28:09.134924Z",
     "start_time": "2020-04-09T06:28:09.119418Z"
    }
   },
   "outputs": [
    {
     "data": {
      "text/html": [
       "<div>\n",
       "<style scoped>\n",
       "    .dataframe tbody tr th:only-of-type {\n",
       "        vertical-align: middle;\n",
       "    }\n",
       "\n",
       "    .dataframe tbody tr th {\n",
       "        vertical-align: top;\n",
       "    }\n",
       "\n",
       "    .dataframe thead th {\n",
       "        text-align: right;\n",
       "    }\n",
       "</style>\n",
       "<table border=\"1\" class=\"dataframe\">\n",
       "  <thead>\n",
       "    <tr style=\"text-align: right;\">\n",
       "      <th></th>\n",
       "      <th>taxon</th>\n",
       "      <th>species</th>\n",
       "      <th>kingdom</th>\n",
       "      <th>nb_of_reads</th>\n",
       "      <th>avg_length</th>\n",
       "      <th>avg_quality</th>\n",
       "      <th>file_path</th>\n",
       "      <th>date_added</th>\n",
       "      <th>percentage</th>\n",
       "    </tr>\n",
       "  </thead>\n",
       "  <tbody>\n",
       "    <tr>\n",
       "      <th>0</th>\n",
       "      <td>40214</td>\n",
       "      <td>Acinetobacter johnsonii</td>\n",
       "      <td>bacteria</td>\n",
       "      <td>2000</td>\n",
       "      <td>3310</td>\n",
       "      <td>1</td>\n",
       "      <td>/mnt/data/reads-fastq/PacBio/isolates/acinecto...</td>\n",
       "      <td>2020-03-03</td>\n",
       "      <td>1e+01</td>\n",
       "    </tr>\n",
       "    <tr>\n",
       "      <th>1</th>\n",
       "      <td>655816</td>\n",
       "      <td>Bacillus subtilis subsp. spizizenii str. W23</td>\n",
       "      <td>bacteria</td>\n",
       "      <td>2000</td>\n",
       "      <td>3708</td>\n",
       "      <td></td>\n",
       "      <td>/mnt/data/reads-fastq/PacBio/isolates/bacillus...</td>\n",
       "      <td>2020-03-03</td>\n",
       "      <td>1e+01</td>\n",
       "    </tr>\n",
       "    <tr>\n",
       "      <th>2</th>\n",
       "      <td>983594</td>\n",
       "      <td>Burkholderia cepacia ATCC 25416</td>\n",
       "      <td>bacteria</td>\n",
       "      <td>500</td>\n",
       "      <td>3596</td>\n",
       "      <td></td>\n",
       "      <td>/mnt/data/reads-fastq/PacBio/isolates/burkhold...</td>\n",
       "      <td>2020-03-03</td>\n",
       "      <td>2e+00</td>\n",
       "    </tr>\n",
       "    <tr>\n",
       "      <th>3</th>\n",
       "      <td>474186</td>\n",
       "      <td>Enterococcus faecalis OG1RF</td>\n",
       "      <td>bacteria</td>\n",
       "      <td>200</td>\n",
       "      <td>3632</td>\n",
       "      <td></td>\n",
       "      <td>/mnt/data/reads-fastq/PacBio/isolates/enteroco...</td>\n",
       "      <td>2020-03-03</td>\n",
       "      <td>1e+00</td>\n",
       "    </tr>\n",
       "    <tr>\n",
       "      <th>4</th>\n",
       "      <td>83333</td>\n",
       "      <td>Escherichia coli K-12</td>\n",
       "      <td>bacteria</td>\n",
       "      <td>400</td>\n",
       "      <td>3565</td>\n",
       "      <td></td>\n",
       "      <td>/mnt/data/reads-fastq/PacBio/isolates/escheric...</td>\n",
       "      <td>2020-03-03</td>\n",
       "      <td>2e+00</td>\n",
       "    </tr>\n",
       "    <tr>\n",
       "      <th>5</th>\n",
       "      <td>566546</td>\n",
       "      <td>Escherichia coli W</td>\n",
       "      <td>bacteria</td>\n",
       "      <td>1000</td>\n",
       "      <td>3542</td>\n",
       "      <td></td>\n",
       "      <td>/mnt/data/reads-fastq/PacBio/isolates/escheric...</td>\n",
       "      <td>2020-03-03</td>\n",
       "      <td>5e+00</td>\n",
       "    </tr>\n",
       "    <tr>\n",
       "      <th>6</th>\n",
       "      <td>76857</td>\n",
       "      <td>Fusobacterium nucleatum subsp. polymorphum</td>\n",
       "      <td>bacteria</td>\n",
       "      <td>100</td>\n",
       "      <td>3023</td>\n",
       "      <td>1</td>\n",
       "      <td>/mnt/data/reads-fastq/PacBio/isolates/fusobact...</td>\n",
       "      <td>2020-03-03</td>\n",
       "      <td>5e-01</td>\n",
       "    </tr>\n",
       "    <tr>\n",
       "      <th>7</th>\n",
       "      <td>85963</td>\n",
       "      <td>Helicobacter pylori J99</td>\n",
       "      <td>bacteria</td>\n",
       "      <td>200</td>\n",
       "      <td>3545</td>\n",
       "      <td></td>\n",
       "      <td>/mnt/data/reads-fastq/PacBio/isolates/helicoba...</td>\n",
       "      <td>2020-03-03</td>\n",
       "      <td>1e+00</td>\n",
       "    </tr>\n",
       "    <tr>\n",
       "      <th>8</th>\n",
       "      <td>1263871</td>\n",
       "      <td>Klebsiella pneumoniae ATCC BAA-2146</td>\n",
       "      <td>bacteria</td>\n",
       "      <td>1500</td>\n",
       "      <td>3535</td>\n",
       "      <td></td>\n",
       "      <td>/mnt/data/reads-fastq/PacBio/isolates/klebsiel...</td>\n",
       "      <td>2020-03-03</td>\n",
       "      <td>8e+00</td>\n",
       "    </tr>\n",
       "    <tr>\n",
       "      <th>9</th>\n",
       "      <td>985002</td>\n",
       "      <td>Staphylococcus argenteus</td>\n",
       "      <td>bacteria</td>\n",
       "      <td>8000</td>\n",
       "      <td>3047</td>\n",
       "      <td>1</td>\n",
       "      <td>/mnt/data/reads-fastq/PacBio/isolates/staphylo...</td>\n",
       "      <td>2020-03-03</td>\n",
       "      <td>4e+01</td>\n",
       "    </tr>\n",
       "    <tr>\n",
       "      <th>10</th>\n",
       "      <td>1280</td>\n",
       "      <td>Staphylococcus aureus</td>\n",
       "      <td>bacteria</td>\n",
       "      <td>86</td>\n",
       "      <td>2962</td>\n",
       "      <td>1</td>\n",
       "      <td>/mnt/data/reads-fastq/PacBio/isolates/staphylo...</td>\n",
       "      <td>2020-03-03</td>\n",
       "      <td>4e-01</td>\n",
       "    </tr>\n",
       "    <tr>\n",
       "      <th>11</th>\n",
       "      <td>46170</td>\n",
       "      <td>Staphylococcus aureus subsp. aureus</td>\n",
       "      <td>bacteria</td>\n",
       "      <td>14</td>\n",
       "      <td>3825</td>\n",
       "      <td></td>\n",
       "      <td>/mnt/data/reads-fastq/PacBio/isolates/staphylo...</td>\n",
       "      <td>2020-03-03</td>\n",
       "      <td>7e-02</td>\n",
       "    </tr>\n",
       "    <tr>\n",
       "      <th>12</th>\n",
       "      <td>373153</td>\n",
       "      <td>Streptococcus pneumoniae D39</td>\n",
       "      <td>bacteria</td>\n",
       "      <td>4000</td>\n",
       "      <td>3071</td>\n",
       "      <td>1</td>\n",
       "      <td>/mnt/data/reads-fastq/PacBio/isolates/streptoc...</td>\n",
       "      <td>2020-03-03</td>\n",
       "      <td>2e+01</td>\n",
       "    </tr>\n",
       "  </tbody>\n",
       "</table>\n",
       "</div>"
      ],
      "text/plain": [
       "      taxon                                       species   kingdom  \\\n",
       "0     40214                       Acinetobacter johnsonii  bacteria   \n",
       "1    655816  Bacillus subtilis subsp. spizizenii str. W23  bacteria   \n",
       "2    983594               Burkholderia cepacia ATCC 25416  bacteria   \n",
       "3    474186                   Enterococcus faecalis OG1RF  bacteria   \n",
       "4     83333                         Escherichia coli K-12  bacteria   \n",
       "5    566546                            Escherichia coli W  bacteria   \n",
       "6     76857    Fusobacterium nucleatum subsp. polymorphum  bacteria   \n",
       "7     85963                       Helicobacter pylori J99  bacteria   \n",
       "8   1263871           Klebsiella pneumoniae ATCC BAA-2146  bacteria   \n",
       "9    985002                      Staphylococcus argenteus  bacteria   \n",
       "10     1280                         Staphylococcus aureus  bacteria   \n",
       "11    46170           Staphylococcus aureus subsp. aureus  bacteria   \n",
       "12   373153                  Streptococcus pneumoniae D39  bacteria   \n",
       "\n",
       "    nb_of_reads  avg_length  avg_quality  \\\n",
       "0          2000        3310            1   \n",
       "1          2000        3708                \n",
       "2           500        3596                \n",
       "3           200        3632                \n",
       "4           400        3565                \n",
       "5          1000        3542                \n",
       "6           100        3023            1   \n",
       "7           200        3545                \n",
       "8          1500        3535                \n",
       "9          8000        3047            1   \n",
       "10           86        2962            1   \n",
       "11           14        3825                \n",
       "12         4000        3071            1   \n",
       "\n",
       "                                            file_path date_added  percentage  \n",
       "0   /mnt/data/reads-fastq/PacBio/isolates/acinecto... 2020-03-03       1e+01  \n",
       "1   /mnt/data/reads-fastq/PacBio/isolates/bacillus... 2020-03-03       1e+01  \n",
       "2   /mnt/data/reads-fastq/PacBio/isolates/burkhold... 2020-03-03       2e+00  \n",
       "3   /mnt/data/reads-fastq/PacBio/isolates/enteroco... 2020-03-03       1e+00  \n",
       "4   /mnt/data/reads-fastq/PacBio/isolates/escheric... 2020-03-03       2e+00  \n",
       "5   /mnt/data/reads-fastq/PacBio/isolates/escheric... 2020-03-03       5e+00  \n",
       "6   /mnt/data/reads-fastq/PacBio/isolates/fusobact... 2020-03-03       5e-01  \n",
       "7   /mnt/data/reads-fastq/PacBio/isolates/helicoba... 2020-03-03       1e+00  \n",
       "8   /mnt/data/reads-fastq/PacBio/isolates/klebsiel... 2020-03-03       8e+00  \n",
       "9   /mnt/data/reads-fastq/PacBio/isolates/staphylo... 2020-03-03       4e+01  \n",
       "10  /mnt/data/reads-fastq/PacBio/isolates/staphylo... 2020-03-03       4e-01  \n",
       "11  /mnt/data/reads-fastq/PacBio/isolates/staphylo... 2020-03-03       7e-02  \n",
       "12  /mnt/data/reads-fastq/PacBio/isolates/streptoc... 2020-03-03       2e+01  "
      ]
     },
     "execution_count": 7,
     "metadata": {},
     "output_type": "execute_result"
    }
   ],
   "source": [
    "summuray"
   ]
  },
  {
   "cell_type": "code",
   "execution_count": 2,
   "metadata": {
    "ExecuteTime": {
     "end_time": "2020-04-14T16:26:22.372882Z",
     "start_time": "2020-04-14T16:26:22.370223Z"
    }
   },
   "outputs": [],
   "source": [
    "p = \"/mnt/5TB/Segmentation/Test-Data/Synthetic_from_Genomes/100000-SyntReads_20-BacGut/100000-SyntReads_20-BacGut.pd\""
   ]
  },
  {
   "cell_type": "code",
   "execution_count": 3,
   "metadata": {
    "ExecuteTime": {
     "end_time": "2020-04-14T16:26:23.500650Z",
     "start_time": "2020-04-14T16:26:23.088362Z"
    }
   },
   "outputs": [],
   "source": [
    "df = pd.read_pickle(p)"
   ]
  },
  {
   "cell_type": "code",
   "execution_count": 8,
   "metadata": {
    "ExecuteTime": {
     "end_time": "2020-04-14T16:29:20.576105Z",
     "start_time": "2020-04-14T16:29:20.571753Z"
    }
   },
   "outputs": [],
   "source": [
    "taxids = df.taxon.unique().tolist()"
   ]
  },
  {
   "cell_type": "code",
   "execution_count": 9,
   "metadata": {
    "ExecuteTime": {
     "end_time": "2020-04-14T16:29:26.019452Z",
     "start_time": "2020-04-14T16:29:25.987449Z"
    }
   },
   "outputs": [
    {
     "data": {
      "text/plain": [
       "['Enterococcus faecalis str. Symbioflor 1',\n",
       " 'Enterococcus faecalis ATCC 29212',\n",
       " 'Enterococcus faecalis',\n",
       " 'Escherichia coli',\n",
       " 'Escherichia coli O145:H28 str. RM12761',\n",
       " 'Staphylococcus aureus subsp. aureus T0131',\n",
       " 'Staphylococcus aureus',\n",
       " 'Klebsiella pneumoniae',\n",
       " 'Klebsiella pneumoniae subsp. pneumoniae 1158',\n",
       " 'Bacteroides fragilis NCTC 9343',\n",
       " 'Enterobacter cloacae P101',\n",
       " 'Bifidobacterium longum',\n",
       " 'Lactobacillus plantarum',\n",
       " 'Clostridium perfringens',\n",
       " 'Proteus mirabilis',\n",
       " 'Pseudomonas aeruginosa RP73',\n",
       " 'Parabacteroides distasonis ATCC 8503']"
      ]
     },
     "execution_count": 9,
     "metadata": {},
     "output_type": "execute_result"
    }
   ],
   "source": [
    "ncbi.translate_to_names(taxids)"
   ]
  },
  {
   "cell_type": "code",
   "execution_count": 14,
   "metadata": {
    "ExecuteTime": {
     "end_time": "2020-04-14T16:31:06.805157Z",
     "start_time": "2020-04-14T16:31:06.799564Z"
    }
   },
   "outputs": [
    {
     "data": {
      "text/plain": [
       "[1351,\n",
       " 1351,\n",
       " 1351,\n",
       " 562,\n",
       " 562,\n",
       " 1280,\n",
       " 1280,\n",
       " 573,\n",
       " 573,\n",
       " 817,\n",
       " 550,\n",
       " 216816,\n",
       " 1590,\n",
       " 1502,\n",
       " 584,\n",
       " 287,\n",
       " 823]"
      ]
     },
     "execution_count": 14,
     "metadata": {},
     "output_type": "execute_result"
    }
   ],
   "source": [
    "get_list_rank(taxids)"
   ]
  },
  {
   "cell_type": "code",
   "execution_count": 13,
   "metadata": {
    "ExecuteTime": {
     "end_time": "2020-04-14T16:30:32.375890Z",
     "start_time": "2020-04-14T16:30:32.368392Z"
    }
   },
   "outputs": [
    {
     "data": {
      "text/plain": [
       "['Enterococcus faecalis',\n",
       " 'Enterococcus faecalis',\n",
       " 'Enterococcus faecalis',\n",
       " 'Escherichia coli',\n",
       " 'Escherichia coli',\n",
       " 'Staphylococcus aureus',\n",
       " 'Staphylococcus aureus',\n",
       " 'Klebsiella pneumoniae',\n",
       " 'Klebsiella pneumoniae',\n",
       " 'Bacteroides fragilis',\n",
       " 'Enterobacter cloacae',\n",
       " 'Bifidobacterium longum',\n",
       " 'Lactobacillus plantarum',\n",
       " 'Clostridium perfringens',\n",
       " 'Proteus mirabilis',\n",
       " 'Pseudomonas aeruginosa',\n",
       " 'Parabacteroides distasonis']"
      ]
     },
     "execution_count": 13,
     "metadata": {},
     "output_type": "execute_result"
    }
   ],
   "source": [
    "ncbi.translate_to_names(get_list_rank(taxids))"
   ]
  },
  {
   "cell_type": "code",
   "execution_count": 10,
   "metadata": {
    "ExecuteTime": {
     "end_time": "2020-04-09T06:48:40.011718Z",
     "start_time": "2020-04-09T06:48:39.831519Z"
    }
   },
   "outputs": [
    {
     "data": {
      "text/html": [
       "<div>\n",
       "<style scoped>\n",
       "    .dataframe tbody tr th:only-of-type {\n",
       "        vertical-align: middle;\n",
       "    }\n",
       "\n",
       "    .dataframe tbody tr th {\n",
       "        vertical-align: top;\n",
       "    }\n",
       "\n",
       "    .dataframe thead th {\n",
       "        text-align: right;\n",
       "    }\n",
       "</style>\n",
       "<table border=\"1\" class=\"dataframe\">\n",
       "  <thead>\n",
       "    <tr style=\"text-align: right;\">\n",
       "      <th></th>\n",
       "      <th>taxon</th>\n",
       "      <th>category</th>\n",
       "      <th>start</th>\n",
       "      <th>end</th>\n",
       "      <th>name</th>\n",
       "      <th>description</th>\n",
       "      <th>fna_path</th>\n",
       "      <th>cluster</th>\n",
       "    </tr>\n",
       "  </thead>\n",
       "  <tbody>\n",
       "    <tr>\n",
       "      <th>880762</th>\n",
       "      <td>1280</td>\n",
       "      <td>plasmid</td>\n",
       "      <td>0</td>\n",
       "      <td>10000</td>\n",
       "      <td>NZ_CP007455.1</td>\n",
       "      <td>|kraken:taxid|1280|s:0-e:9999|NZ_CP007455.1 St...</td>\n",
       "      <td>/home/ubuntu/Data/NCBI/20190704/refseq/bacteri...</td>\n",
       "      <td>1</td>\n",
       "    </tr>\n",
       "    <tr>\n",
       "      <th>880763</th>\n",
       "      <td>1280</td>\n",
       "      <td>plasmid</td>\n",
       "      <td>10000</td>\n",
       "      <td>20000</td>\n",
       "      <td>NZ_CP007455.1</td>\n",
       "      <td>|kraken:taxid|1280|s:10000-e:19999|NZ_CP007455...</td>\n",
       "      <td>/home/ubuntu/Data/NCBI/20190704/refseq/bacteri...</td>\n",
       "      <td>4</td>\n",
       "    </tr>\n",
       "    <tr>\n",
       "      <th>880764</th>\n",
       "      <td>1280</td>\n",
       "      <td>complete genome</td>\n",
       "      <td>0</td>\n",
       "      <td>10000</td>\n",
       "      <td>NZ_CP007454.1</td>\n",
       "      <td>|kraken:taxid|1280|s:0-e:9999|NZ_CP007454.1 St...</td>\n",
       "      <td>/home/ubuntu/Data/NCBI/20190704/refseq/bacteri...</td>\n",
       "      <td>4</td>\n",
       "    </tr>\n",
       "    <tr>\n",
       "      <th>880765</th>\n",
       "      <td>1280</td>\n",
       "      <td>complete genome</td>\n",
       "      <td>10000</td>\n",
       "      <td>20000</td>\n",
       "      <td>NZ_CP007454.1</td>\n",
       "      <td>|kraken:taxid|1280|s:10000-e:19999|NZ_CP007454...</td>\n",
       "      <td>/home/ubuntu/Data/NCBI/20190704/refseq/bacteri...</td>\n",
       "      <td>4</td>\n",
       "    </tr>\n",
       "    <tr>\n",
       "      <th>880766</th>\n",
       "      <td>1280</td>\n",
       "      <td>complete genome</td>\n",
       "      <td>20000</td>\n",
       "      <td>30000</td>\n",
       "      <td>NZ_CP007454.1</td>\n",
       "      <td>|kraken:taxid|1280|s:20000-e:29999|NZ_CP007454...</td>\n",
       "      <td>/home/ubuntu/Data/NCBI/20190704/refseq/bacteri...</td>\n",
       "      <td>4</td>\n",
       "    </tr>\n",
       "    <tr>\n",
       "      <th>...</th>\n",
       "      <td>...</td>\n",
       "      <td>...</td>\n",
       "      <td>...</td>\n",
       "      <td>...</td>\n",
       "      <td>...</td>\n",
       "      <td>...</td>\n",
       "      <td>...</td>\n",
       "      <td>...</td>\n",
       "    </tr>\n",
       "    <tr>\n",
       "      <th>4726981</th>\n",
       "      <td>1280</td>\n",
       "      <td>chromosome</td>\n",
       "      <td>2900000</td>\n",
       "      <td>2910000</td>\n",
       "      <td>NZ_LR134351.1</td>\n",
       "      <td>|kraken:taxid|1280|s:2900000-e:2909999|NZ_LR13...</td>\n",
       "      <td>/home/ubuntu/Data/NCBI/20190704/refseq/bacteri...</td>\n",
       "      <td>1</td>\n",
       "    </tr>\n",
       "    <tr>\n",
       "      <th>4726982</th>\n",
       "      <td>1280</td>\n",
       "      <td>chromosome</td>\n",
       "      <td>2910000</td>\n",
       "      <td>2920000</td>\n",
       "      <td>NZ_LR134351.1</td>\n",
       "      <td>|kraken:taxid|1280|s:2910000-e:2919999|NZ_LR13...</td>\n",
       "      <td>/home/ubuntu/Data/NCBI/20190704/refseq/bacteri...</td>\n",
       "      <td>1</td>\n",
       "    </tr>\n",
       "    <tr>\n",
       "      <th>4726983</th>\n",
       "      <td>1280</td>\n",
       "      <td>chromosome</td>\n",
       "      <td>2920000</td>\n",
       "      <td>2930000</td>\n",
       "      <td>NZ_LR134351.1</td>\n",
       "      <td>|kraken:taxid|1280|s:2920000-e:2929999|NZ_LR13...</td>\n",
       "      <td>/home/ubuntu/Data/NCBI/20190704/refseq/bacteri...</td>\n",
       "      <td>1</td>\n",
       "    </tr>\n",
       "    <tr>\n",
       "      <th>4726984</th>\n",
       "      <td>1280</td>\n",
       "      <td>chromosome</td>\n",
       "      <td>2930000</td>\n",
       "      <td>2940000</td>\n",
       "      <td>NZ_LR134351.1</td>\n",
       "      <td>|kraken:taxid|1280|s:2930000-e:2939999|NZ_LR13...</td>\n",
       "      <td>/home/ubuntu/Data/NCBI/20190704/refseq/bacteri...</td>\n",
       "      <td>1</td>\n",
       "    </tr>\n",
       "    <tr>\n",
       "      <th>4726985</th>\n",
       "      <td>1280</td>\n",
       "      <td>chromosome</td>\n",
       "      <td>2940000</td>\n",
       "      <td>2950000</td>\n",
       "      <td>NZ_LR134351.1</td>\n",
       "      <td>|kraken:taxid|1280|s:2940000-e:2949999|NZ_LR13...</td>\n",
       "      <td>/home/ubuntu/Data/NCBI/20190704/refseq/bacteri...</td>\n",
       "      <td>1</td>\n",
       "    </tr>\n",
       "  </tbody>\n",
       "</table>\n",
       "<p>94114 rows × 8 columns</p>\n",
       "</div>"
      ],
      "text/plain": [
       "        taxon         category    start      end           name  \\\n",
       "880762   1280          plasmid        0    10000  NZ_CP007455.1   \n",
       "880763   1280          plasmid    10000    20000  NZ_CP007455.1   \n",
       "880764   1280  complete genome        0    10000  NZ_CP007454.1   \n",
       "880765   1280  complete genome    10000    20000  NZ_CP007454.1   \n",
       "880766   1280  complete genome    20000    30000  NZ_CP007454.1   \n",
       "...       ...              ...      ...      ...            ...   \n",
       "4726981  1280       chromosome  2900000  2910000  NZ_LR134351.1   \n",
       "4726982  1280       chromosome  2910000  2920000  NZ_LR134351.1   \n",
       "4726983  1280       chromosome  2920000  2930000  NZ_LR134351.1   \n",
       "4726984  1280       chromosome  2930000  2940000  NZ_LR134351.1   \n",
       "4726985  1280       chromosome  2940000  2950000  NZ_LR134351.1   \n",
       "\n",
       "                                               description  \\\n",
       "880762   |kraken:taxid|1280|s:0-e:9999|NZ_CP007455.1 St...   \n",
       "880763   |kraken:taxid|1280|s:10000-e:19999|NZ_CP007455...   \n",
       "880764   |kraken:taxid|1280|s:0-e:9999|NZ_CP007454.1 St...   \n",
       "880765   |kraken:taxid|1280|s:10000-e:19999|NZ_CP007454...   \n",
       "880766   |kraken:taxid|1280|s:20000-e:29999|NZ_CP007454...   \n",
       "...                                                    ...   \n",
       "4726981  |kraken:taxid|1280|s:2900000-e:2909999|NZ_LR13...   \n",
       "4726982  |kraken:taxid|1280|s:2910000-e:2919999|NZ_LR13...   \n",
       "4726983  |kraken:taxid|1280|s:2920000-e:2929999|NZ_LR13...   \n",
       "4726984  |kraken:taxid|1280|s:2930000-e:2939999|NZ_LR13...   \n",
       "4726985  |kraken:taxid|1280|s:2940000-e:2949999|NZ_LR13...   \n",
       "\n",
       "                                                  fna_path  cluster  \n",
       "880762   /home/ubuntu/Data/NCBI/20190704/refseq/bacteri...        1  \n",
       "880763   /home/ubuntu/Data/NCBI/20190704/refseq/bacteri...        4  \n",
       "880764   /home/ubuntu/Data/NCBI/20190704/refseq/bacteri...        4  \n",
       "880765   /home/ubuntu/Data/NCBI/20190704/refseq/bacteri...        4  \n",
       "880766   /home/ubuntu/Data/NCBI/20190704/refseq/bacteri...        4  \n",
       "...                                                    ...      ...  \n",
       "4726981  /home/ubuntu/Data/NCBI/20190704/refseq/bacteri...        1  \n",
       "4726982  /home/ubuntu/Data/NCBI/20190704/refseq/bacteri...        1  \n",
       "4726983  /home/ubuntu/Data/NCBI/20190704/refseq/bacteri...        1  \n",
       "4726984  /home/ubuntu/Data/NCBI/20190704/refseq/bacteri...        1  \n",
       "4726985  /home/ubuntu/Data/NCBI/20190704/refseq/bacteri...        1  \n",
       "\n",
       "[94114 rows x 8 columns]"
      ]
     },
     "execution_count": 10,
     "metadata": {},
     "output_type": "execute_result"
    }
   ],
   "source": [
    "df[df.taxon == 1280]"
   ]
  },
  {
   "cell_type": "code",
   "execution_count": 13,
   "metadata": {
    "ExecuteTime": {
     "end_time": "2020-04-09T08:16:56.995275Z",
     "start_time": "2020-04-09T08:16:56.977746Z"
    },
    "scrolled": true
   },
   "outputs": [
    {
     "data": {
      "text/plain": [
       "4    5638\n",
       "1    4956\n",
       "5     647\n",
       "9     211\n",
       "3      16\n",
       "Name: cluster, dtype: int64"
      ]
     },
     "execution_count": 13,
     "metadata": {},
     "output_type": "execute_result"
    }
   ],
   "source": [
    "df[df.taxon == 46170].cluster.value_counts()"
   ]
  },
  {
   "cell_type": "code",
   "execution_count": null,
   "metadata": {},
   "outputs": [],
   "source": []
  },
  {
   "cell_type": "code",
   "execution_count": null,
   "metadata": {},
   "outputs": [],
   "source": []
  },
  {
   "cell_type": "code",
   "execution_count": null,
   "metadata": {},
   "outputs": [],
   "source": []
  },
  {
   "cell_type": "code",
   "execution_count": null,
   "metadata": {},
   "outputs": [],
   "source": []
  },
  {
   "cell_type": "code",
   "execution_count": null,
   "metadata": {},
   "outputs": [],
   "source": []
  }
 ],
 "metadata": {
  "hide_input": false,
  "kernelspec": {
   "display_name": "Python 3",
   "language": "python",
   "name": "python3"
  },
  "language_info": {
   "codemirror_mode": {
    "name": "ipython",
    "version": 3
   },
   "file_extension": ".py",
   "mimetype": "text/x-python",
   "name": "python",
   "nbconvert_exporter": "python",
   "pygments_lexer": "ipython3",
   "version": "3.7.3"
  },
  "toc": {
   "base_numbering": 1,
   "nav_menu": {},
   "number_sections": true,
   "sideBar": true,
   "skip_h1_title": false,
   "title_cell": "Table of Contents",
   "title_sidebar": "Contents",
   "toc_cell": false,
   "toc_position": {},
   "toc_section_display": true,
   "toc_window_display": false
  },
  "varInspector": {
   "cols": {
    "lenName": 16,
    "lenType": 16,
    "lenVar": 40
   },
   "kernels_config": {
    "python": {
     "delete_cmd_postfix": "",
     "delete_cmd_prefix": "del ",
     "library": "var_list.py",
     "varRefreshCmd": "print(var_dic_list())"
    },
    "r": {
     "delete_cmd_postfix": ") ",
     "delete_cmd_prefix": "rm(",
     "library": "var_list.r",
     "varRefreshCmd": "cat(var_dic_list()) "
    }
   },
   "types_to_exclude": [
    "module",
    "function",
    "builtin_function_or_method",
    "instance",
    "_Feature"
   ],
   "window_display": false
  }
 },
 "nbformat": 4,
 "nbformat_minor": 2
}
