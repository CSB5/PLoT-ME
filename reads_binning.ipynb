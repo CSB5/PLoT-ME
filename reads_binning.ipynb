{
 "cells": [
  {
   "cell_type": "markdown",
   "metadata": {},
   "source": [
    "# Description\n",
    "Let's see what properties we can find :) <br>\n",
    "Let's put more data into it !"
   ]
  },
  {
   "cell_type": "markdown",
   "metadata": {},
   "source": [
    "## TODOs\n",
    " - scale frequency spectrum before\n",
    " - species level precision (instead of strand level)\n",
    " - automate all : \n",
    "  - PCA/LDA/Autoencoder/nothing\n",
    "  - number of bacteria and samples\n",
    " - treat plasmids differently\n",
    " - try with real Nanopore reads\n",
    " - unsupervised learning on all windows into 10 bins ?\n",
    " - hierarchical clustering ??\n",
    " - clustering with minimal distance\n",
    " - taxo id to family or genus\n",
    " - tsne plot\n",
    " - Add **Visualisation** : https://pandas.pydata.org/pandas-docs/stable/user_guide/visualization.html\n",
    " - Save each case, not each run. don't run cases that have already been computed."
   ]
  },
  {
   "cell_type": "markdown",
   "metadata": {},
   "source": [
    "## Structure\n",
    "In `genome/`, there's multiple sub-folder, we will start with `Bacteria`\n",
    "It then contains all recorded species/strands in individual folders\n"
   ]
  },
  {
   "cell_type": "markdown",
   "metadata": {},
   "source": [
    "http://defindit.com/readme_files/ncbi_file_extension_format.html"
   ]
  },
  {
   "cell_type": "markdown",
   "metadata": {},
   "source": [
    "What we need is the taxo id, name, and the DNA, which can be found in:\n",
    " - .gbk for the taxo and name\n",
    " - .fna for the sequence"
   ]
  },
  {
   "cell_type": "markdown",
   "metadata": {},
   "source": [
    "# Import and Paths"
   ]
  },
  {
   "cell_type": "code",
   "execution_count": 1,
   "metadata": {},
   "outputs": [
    {
     "name": "stdout",
     "output_type": "stream",
     "text": [
      "let's start\n"
     ]
    }
   ],
   "source": [
    "print(\"let's start\")"
   ]
  },
  {
   "cell_type": "code",
   "execution_count": 90,
   "metadata": {},
   "outputs": [],
   "source": [
    "import os\n",
    "import pandas as pd\n",
    "import numpy as np\n",
    "import pickle\n",
    "import traceback\n",
    "import multiprocessing\n",
    "import random\n",
    "import pickle\n",
    "from collections import Counter\n",
    "from datetime import datetime as dt\n",
    "from time import time\n",
    "from tqdm import tqdm_notebook as tqdm"
   ]
  },
  {
   "cell_type": "code",
   "execution_count": 3,
   "metadata": {},
   "outputs": [],
   "source": [
    "from sklearn.preprocessing import MinMaxScaler, scale\n",
    "from sklearn.pipeline import Pipeline\n",
    "from sklearn.decomposition import PCA\n",
    "from sklearn.discriminant_analysis import LinearDiscriminantAnalysis\n",
    "import matplotlib.pyplot as plt"
   ]
  },
  {
   "cell_type": "code",
   "execution_count": 4,
   "metadata": {},
   "outputs": [],
   "source": [
    "from sklearn import linear_model\n",
    "from sklearn.svm import SVC\n",
    "from sklearn.tree import DecisionTreeClassifier\n",
    "from sklearn.ensemble import RandomForestClassifier, AdaBoostClassifier\n",
    "from sklearn.neighbors import KNeighborsClassifier\n",
    "from sklearn.linear_model import ElasticNet\n",
    "from sklearn.neural_network import MLPClassifier\n",
    "from sklearn.gaussian_process.kernels import RBF\n",
    "from sklearn.gaussian_process import GaussianProcessClassifier\n",
    "from sklearn.naive_bayes import GaussianNB\n",
    "from sklearn.discriminant_analysis import QuadraticDiscriminantAnalysis\n",
    "\n",
    "from sklearn.model_selection import train_test_split\n",
    "from sklearn.metrics import mean_squared_error, r2_score"
   ]
  },
  {
   "cell_type": "code",
   "execution_count": 5,
   "metadata": {},
   "outputs": [],
   "source": [
    "n_jobs = multiprocessing.cpu_count()"
   ]
  },
  {
   "cell_type": "code",
   "execution_count": 6,
   "metadata": {},
   "outputs": [],
   "source": [
    "plt.rcParams['figure.figsize'] = 13, 8"
   ]
  },
  {
   "cell_type": "code",
   "execution_count": 7,
   "metadata": {},
   "outputs": [],
   "source": [
    "pd.options.display.float_format = '{:,.2f}'.format"
   ]
  },
  {
   "cell_type": "code",
   "execution_count": 8,
   "metadata": {},
   "outputs": [],
   "source": [
    "path_ref_db = \"/home/ubuntu/Data/NCBI/Bacteria_2015/\"\n",
    "path_kmer_freq = \"/home/ubuntu/Data/kmer_freq/\""
   ]
  },
  {
   "cell_type": "code",
   "execution_count": 9,
   "metadata": {},
   "outputs": [],
   "source": [
    "path_4mer = \"4mer/V4/\"\n",
    "path_4mer = os.path.join(path_kmer_freq, path_4mer)"
   ]
  },
  {
   "cell_type": "code",
   "execution_count": 10,
   "metadata": {},
   "outputs": [
    {
     "name": "stdout",
     "output_type": "stream",
     "text": [
      "True path_all\n"
     ]
    }
   ],
   "source": [
    "path_all = os.path.join(path_4mer, \"_all_bacteria_4mers.largepd\")\n",
    "print(f\"{os.path.isfile(path_all)} path_all\")"
   ]
  },
  {
   "cell_type": "markdown",
   "metadata": {},
   "source": [
    "# Functions"
   ]
  },
  {
   "cell_type": "code",
   "execution_count": 11,
   "metadata": {},
   "outputs": [],
   "source": [
    "nucleotides = \"ACGT\""
   ]
  },
  {
   "cell_type": "code",
   "execution_count": 12,
   "metadata": {},
   "outputs": [],
   "source": [
    "def read_fna(file_path):\n",
    "    with open(file_path) as f:\n",
    "        rec = f.readlines()\n",
    "        return \"\".join(rec[1:]).replace(\"\\n\", \"\")"
   ]
  },
  {
   "cell_type": "code",
   "execution_count": 13,
   "metadata": {},
   "outputs": [],
   "source": [
    "def combinaisons(combi, n, instances=nucleotides):\n",
    "    if n == 1:\n",
    "        return combi\n",
    "    else:\n",
    "        return [f\"{a}{n}\" for a in combinaisons(combi, n-1) for n in instances]"
   ]
  },
  {
   "cell_type": "code",
   "execution_count": 14,
   "metadata": {},
   "outputs": [],
   "source": [
    "def kmers_dic(n, choice=nucleotides):\n",
    "    return {a:0 for a in combinaisons(choice, n)}"
   ]
  },
  {
   "cell_type": "code",
   "execution_count": 15,
   "metadata": {},
   "outputs": [],
   "source": [
    "def window(fseq, window_size=4):\n",
    "    for i in range(len(fseq) - window_size + 1):\n",
    "        yield fseq[i:i+window_size]"
   ]
  },
  {
   "cell_type": "code",
   "execution_count": 16,
   "metadata": {},
   "outputs": [],
   "source": [
    "def count_all_kmers(seq, kmer_template, n, ignore_N=True):\n",
    "    \"\"\" Count all kmers, ignore kmers with N or other undecided nucleotides \n",
    "        Return a list of dict for each window (w=100)\n",
    "        seq: string nucleotide input\n",
    "        kmer_template: dict with all combinations of nucleotides, initialized with zeros (kmer_template[\"AAAA\"] = 0, kmer_template[\"AAAC\"] = 0...)\n",
    "    \"\"\"\n",
    "    kmer_counts = kmer_template.copy()\n",
    "    wrong_base = \"N\"*n\n",
    "    kmer_counts[wrong_base] = 0\n",
    "    \n",
    "    try:\n",
    "        for i, kmer in enumerate(window(seq, n)):\n",
    "            try:\n",
    "                kmer_counts[kmer] += 1\n",
    "            except:\n",
    "                kmer_counts[wrong_base] += 1\n",
    "                \n",
    "        if ignore_N:\n",
    "            kmer_counts.pop(wrong_base)\n",
    "        return kmer_counts\n",
    "    except Exception as e:\n",
    "        print(\"type error: \" + str(e))\n",
    "        print(traceback.format_exc())\n",
    "        return kmer_counts"
   ]
  },
  {
   "cell_type": "code",
   "execution_count": 17,
   "metadata": {
    "code_folding": []
   },
   "outputs": [],
   "source": [
    "def count_kmers(seq, kmer_template, n, bacteria_name, fna, w=100):\n",
    "    \"\"\" Count all kmers, ignore kmers with N or other undecided nucleotides \n",
    "        Return a list of dict for each window (w=100)\n",
    "    \"\"\"\n",
    "    res = []\n",
    "    current_split = 0\n",
    "    next_split = current_split + w\n",
    "    tmp_counts = kmer_template.copy()\n",
    "    tmp_counts[\"start\"] = current_split\n",
    "    \n",
    "    try:\n",
    "        for i, kmer in enumerate(window(seq, n)):\n",
    "            try:\n",
    "                tmp_counts[kmer] += 1\n",
    "            except:\n",
    "                pass\n",
    "            # To lower the computational need to split into windows\n",
    "            if i == next_split:\n",
    "                res.append(tmp_counts)\n",
    "                current_split = next_split\n",
    "                next_split += w\n",
    "                tmp_counts = kmer_template.copy()\n",
    "                tmp_counts[\"start\"] = current_split\n",
    "                \n",
    "        return i+1, res\n",
    "    except Exception as e:\n",
    "        print(\"type error: \" + str(e))\n",
    "        print(traceback.format_exc())\n",
    "        return i, res"
   ]
  },
  {
   "cell_type": "code",
   "execution_count": 18,
   "metadata": {},
   "outputs": [],
   "source": [
    "def kmer_pkl_path(kmer_folder, fna_path):\n",
    "    \"\"\" Return a file name based on the taxonomy id instead of the file name.\n",
    "        The taxo id is looked for in the associated .gbk file.\n",
    "    \"\"\"\n",
    "    path_gbk = fna_path.replace(\".fna\", \".gbk\")\n",
    "    assert os.path.isfile(path_gbk), f\"{fna_path} DOESN'T have a .gbk file ??\"\n",
    "    \n",
    "    with open(path_gbk) as gbk:\n",
    "        description=gbk.read()  #.replace('\\n', '')\n",
    "        \n",
    "    identificator = 'db_xref=\"taxon:'\n",
    "    taxo_start = description.find(identificator)\n",
    "    taxo = description[taxo_start+len(identificator):\n",
    "                       taxo_start+description[taxo_start:].find('\"\\n')]\n",
    "    assert len(taxo) < 10, f\"The taxo id search failed, found an id of length {len(taxo)}...\"\n",
    "    \n",
    "    bacteria_name = os.path.split(os.path.split(fna_path)[0])[1]\n",
    "    fna_name      = os.path.split(os.path.splitext(fna_path)[0])[1]\n",
    "    \n",
    "    out_path = os.path.join(path_kmer_freq, kmer_folder, f\"{taxo}__{bacteria_name}.pd\")\n",
    "    \n",
    "    return taxo, bacteria_name, fna_name, out_path"
   ]
  },
  {
   "cell_type": "markdown",
   "metadata": {},
   "source": [
    "# Create reads"
   ]
  },
  {
   "cell_type": "markdown",
   "metadata": {},
   "source": [
    "## Synthetic reads from the Ref Database\n",
    "find reads, real or from ncbi\n",
    "only genome, not plasmid ?"
   ]
  },
  {
   "cell_type": "code",
   "execution_count": 19,
   "metadata": {},
   "outputs": [],
   "source": [
    "nb_reads = 10000\n",
    "seed = 34\n",
    "nb_species = len(os.listdir(path_ref_db))"
   ]
  },
  {
   "cell_type": "code",
   "execution_count": 36,
   "metadata": {},
   "outputs": [],
   "source": [
    "def reads_from_ncbi_genomes():\n",
    "    fake_reads = {\"bac\": [], \"seq\": []}\n",
    "    nb_species = len(os.listdir(path_ref_db))\n",
    "    indices = sorted(np.random.choice(range(nb_species), nb_reads))\n",
    "    indices_multi = Counter(indices)\n",
    "    \n",
    "    for i, file_name in tqdm(enumerate(os.listdir(path_ref_db)), total=nb_species):\n",
    "        if i in indices_multi.keys():\n",
    "    #         print(i, indices_multi[i], file_name)\n",
    "            try:\n",
    "                fake_reads[\"bac\"].extend([file_name]*indices_multi[i])\n",
    "                folder_bacteria = os.path.join(path_ref_db, file_name)\n",
    "                all_fna = sorted([file.path for file in os.scandir(folder_bacteria) if file.name.endswith(\".fna\")])\n",
    "                all_fna_sizes = [os.path.getsize(f) for f in all_fna]\n",
    "                max_value = max(all_fna_sizes)\n",
    "                max_index = all_fna_sizes.index(max_value)\n",
    "                rec = read_fna(all_fna[max_index]) \n",
    "\n",
    "                rec_len = len(rec)\n",
    "                reads_len = [random.randint(1000, min(20000, rec_len)) for k in range(indices_multi[i])]\n",
    "                reads_start = [random.randint(0, rec_len-reads_len[k]) for k in range(indices_multi[i])]\n",
    "\n",
    "                for j in range(indices_multi[i]):\n",
    "                    fake_reads[\"seq\"].append(rec[reads_start[j] : reads_start[j]+reads_len[j]])\n",
    "    #                 print(reads_start[j], reads_start[j]+reads_len[j], rec_len, len(fake_reads[\"seq\"][-1]))\n",
    "            except Exception as e:\n",
    "                print(folder_bacteria)\n",
    "                print(e)\n",
    "                \n",
    "    return fake_reads"
   ]
  },
  {
   "cell_type": "code",
   "execution_count": 37,
   "metadata": {
    "scrolled": true
   },
   "outputs": [
    {
     "data": {
      "application/vnd.jupyter.widget-view+json": {
       "model_id": "601e24c447a64c45b6cea36885338149",
       "version_major": 2,
       "version_minor": 0
      },
      "text/plain": [
       "HBox(children=(IntProgress(value=0, max=2760), HTML(value='')))"
      ]
     },
     "metadata": {},
     "output_type": "display_data"
    },
    {
     "name": "stdout",
     "output_type": "stream",
     "text": [
      "\n"
     ]
    }
   ],
   "source": [
    "fake_reads = reads_from_ncbi_genomes()"
   ]
  },
  {
   "cell_type": "code",
   "execution_count": 38,
   "metadata": {},
   "outputs": [],
   "source": [
    "save_fake_reads = fake_reads.copy()"
   ]
  },
  {
   "cell_type": "code",
   "execution_count": 61,
   "metadata": {},
   "outputs": [],
   "source": [
    "fake_reads = save_fake_reads.copy()"
   ]
  },
  {
   "cell_type": "code",
   "execution_count": null,
   "metadata": {},
   "outputs": [],
   "source": []
  },
  {
   "cell_type": "markdown",
   "metadata": {},
   "source": [
    "## Real reads from isolates\n",
    "todo"
   ]
  },
  {
   "cell_type": "code",
   "execution_count": null,
   "metadata": {},
   "outputs": [],
   "source": []
  },
  {
   "cell_type": "markdown",
   "metadata": {},
   "source": [
    "## Save data"
   ]
  },
  {
   "cell_type": "code",
   "execution_count": null,
   "metadata": {},
   "outputs": [],
   "source": []
  },
  {
   "cell_type": "markdown",
   "metadata": {},
   "source": [
    "# kmer count\n",
    "All random sequences from NCBI have been generated <br>\n",
    "Now, count their kmer frequencies"
   ]
  },
  {
   "cell_type": "code",
   "execution_count": 88,
   "metadata": {},
   "outputs": [],
   "source": [
    "k = 4\n",
    "kmer4 = kmers_dic(k)\n",
    "cols_kmers = list(kmer4.keys())"
   ]
  },
  {
   "cell_type": "code",
   "execution_count": 65,
   "metadata": {},
   "outputs": [],
   "source": [
    "for key in kmer4.keys():\n",
    "    fake_reads[key] = []"
   ]
  },
  {
   "cell_type": "markdown",
   "metadata": {},
   "source": [
    "Count and add counts besides the Dataframe"
   ]
  },
  {
   "cell_type": "code",
   "execution_count": 68,
   "metadata": {
    "scrolled": true
   },
   "outputs": [
    {
     "data": {
      "application/vnd.jupyter.widget-view+json": {
       "model_id": "3e81ee2ca044406a8fa79b52cfc4b11b",
       "version_major": 2,
       "version_minor": 0
      },
      "text/plain": [
       "HBox(children=(IntProgress(value=0, max=10000), HTML(value='')))"
      ]
     },
     "metadata": {},
     "output_type": "display_data"
    },
    {
     "name": "stdout",
     "output_type": "stream",
     "text": [
      "\n"
     ]
    }
   ],
   "source": [
    "for i in tqdm(range(len(fake_reads[\"bac\"]))):\n",
    "    counts = count_all_kmers(fake_reads[\"seq\"][i], kmer4, k)\n",
    "    for key in kmer4.keys():\n",
    "        fake_reads[key].append(counts[key])"
   ]
  },
  {
   "cell_type": "code",
   "execution_count": 89,
   "metadata": {},
   "outputs": [
    {
     "data": {
      "text/plain": [
       "(10000, 10000, 10000)"
      ]
     },
     "execution_count": 89,
     "metadata": {},
     "output_type": "execute_result"
    }
   ],
   "source": [
    "len(fake_reads[\"seq\"]), len(fake_reads[\"bac\"]), len(fake_reads[\"AAAA\"])"
   ]
  },
  {
   "cell_type": "code",
   "execution_count": 70,
   "metadata": {
    "scrolled": true
   },
   "outputs": [],
   "source": [
    "pd_reads = pd.DataFrame(fake_reads)"
   ]
  },
  {
   "cell_type": "code",
   "execution_count": 71,
   "metadata": {
    "scrolled": true
   },
   "outputs": [
    {
     "data": {
      "text/html": [
       "<div>\n",
       "<style scoped>\n",
       "    .dataframe tbody tr th:only-of-type {\n",
       "        vertical-align: middle;\n",
       "    }\n",
       "\n",
       "    .dataframe tbody tr th {\n",
       "        vertical-align: top;\n",
       "    }\n",
       "\n",
       "    .dataframe thead th {\n",
       "        text-align: right;\n",
       "    }\n",
       "</style>\n",
       "<table border=\"1\" class=\"dataframe\">\n",
       "  <thead>\n",
       "    <tr style=\"text-align: right;\">\n",
       "      <th></th>\n",
       "      <th>bac</th>\n",
       "      <th>seq</th>\n",
       "      <th>AAAA</th>\n",
       "      <th>AAAC</th>\n",
       "      <th>AAAG</th>\n",
       "      <th>AAAT</th>\n",
       "      <th>AACA</th>\n",
       "      <th>AACC</th>\n",
       "      <th>AACG</th>\n",
       "      <th>AACT</th>\n",
       "      <th>...</th>\n",
       "      <th>TTCG</th>\n",
       "      <th>TTCT</th>\n",
       "      <th>TTGA</th>\n",
       "      <th>TTGC</th>\n",
       "      <th>TTGG</th>\n",
       "      <th>TTGT</th>\n",
       "      <th>TTTA</th>\n",
       "      <th>TTTC</th>\n",
       "      <th>TTTG</th>\n",
       "      <th>TTTT</th>\n",
       "    </tr>\n",
       "  </thead>\n",
       "  <tbody>\n",
       "    <tr>\n",
       "      <th>0</th>\n",
       "      <td>Acaryochloris_marina_MBIC11017_uid58167</td>\n",
       "      <td>AACGATGAAAATTTTTAGCTTTATTTAGAGGTTGATATCAAAAATA...</td>\n",
       "      <td>99</td>\n",
       "      <td>101</td>\n",
       "      <td>81</td>\n",
       "      <td>104</td>\n",
       "      <td>53</td>\n",
       "      <td>98</td>\n",
       "      <td>64</td>\n",
       "      <td>69</td>\n",
       "      <td>...</td>\n",
       "      <td>55</td>\n",
       "      <td>77</td>\n",
       "      <td>121</td>\n",
       "      <td>125</td>\n",
       "      <td>95</td>\n",
       "      <td>63</td>\n",
       "      <td>66</td>\n",
       "      <td>92</td>\n",
       "      <td>130</td>\n",
       "      <td>113</td>\n",
       "    </tr>\n",
       "    <tr>\n",
       "      <th>1</th>\n",
       "      <td>Acaryochloris_marina_MBIC11017_uid58167</td>\n",
       "      <td>TGGCAAAATCGTCGGAATTTCTGGTTCCCTGGCGGACGTAACCGAA...</td>\n",
       "      <td>211</td>\n",
       "      <td>104</td>\n",
       "      <td>119</td>\n",
       "      <td>189</td>\n",
       "      <td>114</td>\n",
       "      <td>86</td>\n",
       "      <td>44</td>\n",
       "      <td>93</td>\n",
       "      <td>...</td>\n",
       "      <td>63</td>\n",
       "      <td>117</td>\n",
       "      <td>129</td>\n",
       "      <td>95</td>\n",
       "      <td>121</td>\n",
       "      <td>89</td>\n",
       "      <td>136</td>\n",
       "      <td>124</td>\n",
       "      <td>134</td>\n",
       "      <td>169</td>\n",
       "    </tr>\n",
       "    <tr>\n",
       "      <th>2</th>\n",
       "      <td>Acaryochloris_marina_MBIC11017_uid58167</td>\n",
       "      <td>GCAGGGGAAACTGCCGTAAATAATTGTCTTTGGTCGTTAAAGGTAG...</td>\n",
       "      <td>165</td>\n",
       "      <td>78</td>\n",
       "      <td>131</td>\n",
       "      <td>161</td>\n",
       "      <td>81</td>\n",
       "      <td>76</td>\n",
       "      <td>63</td>\n",
       "      <td>87</td>\n",
       "      <td>...</td>\n",
       "      <td>69</td>\n",
       "      <td>126</td>\n",
       "      <td>169</td>\n",
       "      <td>117</td>\n",
       "      <td>133</td>\n",
       "      <td>87</td>\n",
       "      <td>109</td>\n",
       "      <td>89</td>\n",
       "      <td>143</td>\n",
       "      <td>144</td>\n",
       "    </tr>\n",
       "    <tr>\n",
       "      <th>3</th>\n",
       "      <td>Acetobacterium_woodii_DSM_1030_uid88073</td>\n",
       "      <td>ATGTGTCGTTGCTTGTCCGGTTGGGAAGAAGGCAACCGCCCCCAAA...</td>\n",
       "      <td>74</td>\n",
       "      <td>28</td>\n",
       "      <td>32</td>\n",
       "      <td>49</td>\n",
       "      <td>15</td>\n",
       "      <td>21</td>\n",
       "      <td>15</td>\n",
       "      <td>17</td>\n",
       "      <td>...</td>\n",
       "      <td>7</td>\n",
       "      <td>13</td>\n",
       "      <td>29</td>\n",
       "      <td>15</td>\n",
       "      <td>18</td>\n",
       "      <td>25</td>\n",
       "      <td>43</td>\n",
       "      <td>15</td>\n",
       "      <td>20</td>\n",
       "      <td>49</td>\n",
       "    </tr>\n",
       "    <tr>\n",
       "      <th>4</th>\n",
       "      <td>Acetobacterium_woodii_DSM_1030_uid88073</td>\n",
       "      <td>TAATGCCTCAATTGTTTTAAGTAAGTTCTGGTAGGAAACCTGAAAA...</td>\n",
       "      <td>58</td>\n",
       "      <td>41</td>\n",
       "      <td>37</td>\n",
       "      <td>66</td>\n",
       "      <td>30</td>\n",
       "      <td>51</td>\n",
       "      <td>27</td>\n",
       "      <td>18</td>\n",
       "      <td>...</td>\n",
       "      <td>39</td>\n",
       "      <td>55</td>\n",
       "      <td>43</td>\n",
       "      <td>32</td>\n",
       "      <td>29</td>\n",
       "      <td>29</td>\n",
       "      <td>63</td>\n",
       "      <td>103</td>\n",
       "      <td>50</td>\n",
       "      <td>135</td>\n",
       "    </tr>\n",
       "  </tbody>\n",
       "</table>\n",
       "<p>5 rows × 258 columns</p>\n",
       "</div>"
      ],
      "text/plain": [
       "                                       bac  \\\n",
       "0  Acaryochloris_marina_MBIC11017_uid58167   \n",
       "1  Acaryochloris_marina_MBIC11017_uid58167   \n",
       "2  Acaryochloris_marina_MBIC11017_uid58167   \n",
       "3  Acetobacterium_woodii_DSM_1030_uid88073   \n",
       "4  Acetobacterium_woodii_DSM_1030_uid88073   \n",
       "\n",
       "                                                 seq  AAAA  AAAC  AAAG  AAAT  \\\n",
       "0  AACGATGAAAATTTTTAGCTTTATTTAGAGGTTGATATCAAAAATA...    99   101    81   104   \n",
       "1  TGGCAAAATCGTCGGAATTTCTGGTTCCCTGGCGGACGTAACCGAA...   211   104   119   189   \n",
       "2  GCAGGGGAAACTGCCGTAAATAATTGTCTTTGGTCGTTAAAGGTAG...   165    78   131   161   \n",
       "3  ATGTGTCGTTGCTTGTCCGGTTGGGAAGAAGGCAACCGCCCCCAAA...    74    28    32    49   \n",
       "4  TAATGCCTCAATTGTTTTAAGTAAGTTCTGGTAGGAAACCTGAAAA...    58    41    37    66   \n",
       "\n",
       "   AACA  AACC  AACG  AACT  ...  TTCG  TTCT  TTGA  TTGC  TTGG  TTGT  TTTA  \\\n",
       "0    53    98    64    69  ...    55    77   121   125    95    63    66   \n",
       "1   114    86    44    93  ...    63   117   129    95   121    89   136   \n",
       "2    81    76    63    87  ...    69   126   169   117   133    87   109   \n",
       "3    15    21    15    17  ...     7    13    29    15    18    25    43   \n",
       "4    30    51    27    18  ...    39    55    43    32    29    29    63   \n",
       "\n",
       "   TTTC  TTTG  TTTT  \n",
       "0    92   130   113  \n",
       "1   124   134   169  \n",
       "2    89   143   144  \n",
       "3    15    20    49  \n",
       "4   103    50   135  \n",
       "\n",
       "[5 rows x 258 columns]"
      ]
     },
     "execution_count": 71,
     "metadata": {},
     "output_type": "execute_result"
    }
   ],
   "source": [
    "pd_reads.head(5)"
   ]
  },
  {
   "cell_type": "code",
   "execution_count": 72,
   "metadata": {},
   "outputs": [
    {
     "data": {
      "text/plain": [
       "(10000, 258)"
      ]
     },
     "execution_count": 72,
     "metadata": {},
     "output_type": "execute_result"
    }
   ],
   "source": [
    "pd_reads.shape"
   ]
  },
  {
   "cell_type": "markdown",
   "metadata": {},
   "source": [
    "# Reload and apply the LDA model"
   ]
  },
  {
   "cell_type": "markdown",
   "metadata": {},
   "source": [
    "LDA trained on reference genomes"
   ]
  },
  {
   "cell_type": "code",
   "execution_count": 73,
   "metadata": {},
   "outputs": [],
   "source": [
    "file_lda_model = f\"/home/ubuntu/Data/kmer_freq/4mer/V4/LDA/lda_model_20_int.pd\"\n",
    "lda = pickle.load(open(file_lda_model, 'rb'))"
   ]
  },
  {
   "cell_type": "code",
   "execution_count": 74,
   "metadata": {},
   "outputs": [],
   "source": [
    "components = 20\n",
    "np_lda = lda.transform(pd_reads[cols_kmers])\n",
    "cols_lda = [f\"lda_{i+1}\" for i in range(components)]\n",
    "df_lda = pd.DataFrame(np_lda, columns=cols_lda)\n",
    "df_lda = pd.concat([pd_reads[\"bac\"].reset_index(inplace=False, drop=True), df_lda], axis=1) # , ignore_index=True)"
   ]
  },
  {
   "cell_type": "code",
   "execution_count": 75,
   "metadata": {
    "scrolled": true
   },
   "outputs": [
    {
     "data": {
      "text/html": [
       "<div>\n",
       "<style scoped>\n",
       "    .dataframe tbody tr th:only-of-type {\n",
       "        vertical-align: middle;\n",
       "    }\n",
       "\n",
       "    .dataframe tbody tr th {\n",
       "        vertical-align: top;\n",
       "    }\n",
       "\n",
       "    .dataframe thead th {\n",
       "        text-align: right;\n",
       "    }\n",
       "</style>\n",
       "<table border=\"1\" class=\"dataframe\">\n",
       "  <thead>\n",
       "    <tr style=\"text-align: right;\">\n",
       "      <th></th>\n",
       "      <th>bac</th>\n",
       "      <th>lda_1</th>\n",
       "      <th>lda_2</th>\n",
       "      <th>lda_3</th>\n",
       "      <th>lda_4</th>\n",
       "      <th>lda_5</th>\n",
       "      <th>lda_6</th>\n",
       "      <th>lda_7</th>\n",
       "      <th>lda_8</th>\n",
       "      <th>lda_9</th>\n",
       "      <th>...</th>\n",
       "      <th>lda_11</th>\n",
       "      <th>lda_12</th>\n",
       "      <th>lda_13</th>\n",
       "      <th>lda_14</th>\n",
       "      <th>lda_15</th>\n",
       "      <th>lda_16</th>\n",
       "      <th>lda_17</th>\n",
       "      <th>lda_18</th>\n",
       "      <th>lda_19</th>\n",
       "      <th>lda_20</th>\n",
       "    </tr>\n",
       "  </thead>\n",
       "  <tbody>\n",
       "    <tr>\n",
       "      <th>0</th>\n",
       "      <td>Acaryochloris_marina_MBIC11017_uid58167</td>\n",
       "      <td>2.16</td>\n",
       "      <td>-0.28</td>\n",
       "      <td>5.55</td>\n",
       "      <td>-10.76</td>\n",
       "      <td>4.89</td>\n",
       "      <td>-6.12</td>\n",
       "      <td>2.53</td>\n",
       "      <td>7.11</td>\n",
       "      <td>-0.47</td>\n",
       "      <td>...</td>\n",
       "      <td>-1.51</td>\n",
       "      <td>1.14</td>\n",
       "      <td>-6.35</td>\n",
       "      <td>-4.26</td>\n",
       "      <td>2.56</td>\n",
       "      <td>1.34</td>\n",
       "      <td>-0.16</td>\n",
       "      <td>4.96</td>\n",
       "      <td>-9.48</td>\n",
       "      <td>-1.58</td>\n",
       "    </tr>\n",
       "    <tr>\n",
       "      <th>1</th>\n",
       "      <td>Acaryochloris_marina_MBIC11017_uid58167</td>\n",
       "      <td>7.69</td>\n",
       "      <td>1.91</td>\n",
       "      <td>9.66</td>\n",
       "      <td>-8.39</td>\n",
       "      <td>6.02</td>\n",
       "      <td>-3.14</td>\n",
       "      <td>-0.82</td>\n",
       "      <td>5.56</td>\n",
       "      <td>-5.09</td>\n",
       "      <td>...</td>\n",
       "      <td>-1.16</td>\n",
       "      <td>-2.88</td>\n",
       "      <td>-3.52</td>\n",
       "      <td>-6.08</td>\n",
       "      <td>2.89</td>\n",
       "      <td>-2.78</td>\n",
       "      <td>4.44</td>\n",
       "      <td>7.40</td>\n",
       "      <td>-8.57</td>\n",
       "      <td>-0.81</td>\n",
       "    </tr>\n",
       "    <tr>\n",
       "      <th>2</th>\n",
       "      <td>Acaryochloris_marina_MBIC11017_uid58167</td>\n",
       "      <td>5.18</td>\n",
       "      <td>1.26</td>\n",
       "      <td>11.39</td>\n",
       "      <td>-10.15</td>\n",
       "      <td>5.89</td>\n",
       "      <td>-4.16</td>\n",
       "      <td>-0.13</td>\n",
       "      <td>6.67</td>\n",
       "      <td>-2.31</td>\n",
       "      <td>...</td>\n",
       "      <td>-0.70</td>\n",
       "      <td>-2.40</td>\n",
       "      <td>-3.01</td>\n",
       "      <td>-5.69</td>\n",
       "      <td>4.04</td>\n",
       "      <td>-1.07</td>\n",
       "      <td>1.68</td>\n",
       "      <td>6.49</td>\n",
       "      <td>-7.73</td>\n",
       "      <td>-3.51</td>\n",
       "    </tr>\n",
       "    <tr>\n",
       "      <th>3</th>\n",
       "      <td>Acetobacterium_woodii_DSM_1030_uid88073</td>\n",
       "      <td>1.29</td>\n",
       "      <td>-0.41</td>\n",
       "      <td>-3.68</td>\n",
       "      <td>2.16</td>\n",
       "      <td>-1.18</td>\n",
       "      <td>-2.08</td>\n",
       "      <td>-1.61</td>\n",
       "      <td>-0.32</td>\n",
       "      <td>0.41</td>\n",
       "      <td>...</td>\n",
       "      <td>0.51</td>\n",
       "      <td>2.72</td>\n",
       "      <td>1.40</td>\n",
       "      <td>3.36</td>\n",
       "      <td>-2.25</td>\n",
       "      <td>1.26</td>\n",
       "      <td>0.82</td>\n",
       "      <td>-4.36</td>\n",
       "      <td>4.00</td>\n",
       "      <td>-0.97</td>\n",
       "    </tr>\n",
       "    <tr>\n",
       "      <th>4</th>\n",
       "      <td>Acetobacterium_woodii_DSM_1030_uid88073</td>\n",
       "      <td>4.01</td>\n",
       "      <td>-1.99</td>\n",
       "      <td>-1.75</td>\n",
       "      <td>-0.49</td>\n",
       "      <td>-1.00</td>\n",
       "      <td>-3.18</td>\n",
       "      <td>-2.52</td>\n",
       "      <td>-0.71</td>\n",
       "      <td>0.82</td>\n",
       "      <td>...</td>\n",
       "      <td>0.93</td>\n",
       "      <td>1.75</td>\n",
       "      <td>-0.82</td>\n",
       "      <td>1.49</td>\n",
       "      <td>-0.19</td>\n",
       "      <td>-1.04</td>\n",
       "      <td>0.92</td>\n",
       "      <td>-0.27</td>\n",
       "      <td>-1.69</td>\n",
       "      <td>-0.39</td>\n",
       "    </tr>\n",
       "  </tbody>\n",
       "</table>\n",
       "<p>5 rows × 21 columns</p>\n",
       "</div>"
      ],
      "text/plain": [
       "                                       bac  lda_1  lda_2  lda_3  lda_4  lda_5  \\\n",
       "0  Acaryochloris_marina_MBIC11017_uid58167   2.16  -0.28   5.55 -10.76   4.89   \n",
       "1  Acaryochloris_marina_MBIC11017_uid58167   7.69   1.91   9.66  -8.39   6.02   \n",
       "2  Acaryochloris_marina_MBIC11017_uid58167   5.18   1.26  11.39 -10.15   5.89   \n",
       "3  Acetobacterium_woodii_DSM_1030_uid88073   1.29  -0.41  -3.68   2.16  -1.18   \n",
       "4  Acetobacterium_woodii_DSM_1030_uid88073   4.01  -1.99  -1.75  -0.49  -1.00   \n",
       "\n",
       "   lda_6  lda_7  lda_8  lda_9  ...  lda_11  lda_12  lda_13  lda_14  lda_15  \\\n",
       "0  -6.12   2.53   7.11  -0.47  ...   -1.51    1.14   -6.35   -4.26    2.56   \n",
       "1  -3.14  -0.82   5.56  -5.09  ...   -1.16   -2.88   -3.52   -6.08    2.89   \n",
       "2  -4.16  -0.13   6.67  -2.31  ...   -0.70   -2.40   -3.01   -5.69    4.04   \n",
       "3  -2.08  -1.61  -0.32   0.41  ...    0.51    2.72    1.40    3.36   -2.25   \n",
       "4  -3.18  -2.52  -0.71   0.82  ...    0.93    1.75   -0.82    1.49   -0.19   \n",
       "\n",
       "   lda_16  lda_17  lda_18  lda_19  lda_20  \n",
       "0    1.34   -0.16    4.96   -9.48   -1.58  \n",
       "1   -2.78    4.44    7.40   -8.57   -0.81  \n",
       "2   -1.07    1.68    6.49   -7.73   -3.51  \n",
       "3    1.26    0.82   -4.36    4.00   -0.97  \n",
       "4   -1.04    0.92   -0.27   -1.69   -0.39  \n",
       "\n",
       "[5 rows x 21 columns]"
      ]
     },
     "execution_count": 75,
     "metadata": {},
     "output_type": "execute_result"
    }
   ],
   "source": [
    "df_lda.head(5)"
   ]
  },
  {
   "cell_type": "markdown",
   "metadata": {},
   "source": [
    "## Scaling"
   ]
  },
  {
   "cell_type": "code",
   "execution_count": 76,
   "metadata": {},
   "outputs": [],
   "source": [
    "df_lda[cols_lda] = scale(df_lda[cols_lda])"
   ]
  },
  {
   "cell_type": "markdown",
   "metadata": {},
   "source": [
    "# Load classifier and bin reads"
   ]
  },
  {
   "cell_type": "code",
   "execution_count": 77,
   "metadata": {},
   "outputs": [],
   "source": [
    "file_NB_model = f\"/home/ubuntu/Data/kmer_freq/4mer/V4/ml_models/_2782_Naive_Bayes_2019-05-08_17-24.pkl\"\n",
    "naive_bayes = pickle.load(open(file_NB_model, 'rb'))"
   ]
  },
  {
   "cell_type": "raw",
   "metadata": {},
   "source": [
    "file_KN_model = f\"/home/ubuntu/Data/kmer_freq/4mer/V4/ml_models/_2782_KNeigh_2019-05-08_17-24.pkl\"\n",
    "kneigh = pickle.load(open(file_KN_model, 'rb'))"
   ]
  },
  {
   "cell_type": "code",
   "execution_count": 78,
   "metadata": {},
   "outputs": [],
   "source": [
    "pred = naive_bayes.predict(df_lda[cols_lda])"
   ]
  },
  {
   "cell_type": "raw",
   "metadata": {},
   "source": [
    "pred = kneigh.predict(df_lda[cols_lda])"
   ]
  },
  {
   "cell_type": "code",
   "execution_count": 79,
   "metadata": {},
   "outputs": [],
   "source": [
    "df_lda[\"pred\"] = pred"
   ]
  },
  {
   "cell_type": "raw",
   "metadata": {
    "scrolled": true
   },
   "source": [
    "df_lda[[\"bac\", \"pred\"]]"
   ]
  },
  {
   "cell_type": "code",
   "execution_count": 80,
   "metadata": {},
   "outputs": [],
   "source": [
    "df_lda[\"genus_match\"] = (df_lda.bac.str.split(\"_\", 1).str[0] ==\n",
    "                         df_lda[f\"pred\"].str.split(\"_\", 1).str[0]).astype(int)"
   ]
  },
  {
   "cell_type": "code",
   "execution_count": 86,
   "metadata": {},
   "outputs": [
    {
     "name": "stdout",
     "output_type": "stream",
     "text": [
      "4951 matches, 49.5%\n"
     ]
    }
   ],
   "source": [
    "matches = df_lda[[\"genus_match\"]].sum()\n",
    "print(f\"{matches[0]} matches, {100*matches[0]/df_lda.shape[0]:.1f}%\")"
   ]
  },
  {
   "cell_type": "code",
   "execution_count": null,
   "metadata": {},
   "outputs": [],
   "source": []
  },
  {
   "cell_type": "code",
   "execution_count": null,
   "metadata": {},
   "outputs": [],
   "source": []
  },
  {
   "cell_type": "markdown",
   "metadata": {},
   "source": [
    "# Binning by clustering"
   ]
  },
  {
   "cell_type": "code",
   "execution_count": 91,
   "metadata": {},
   "outputs": [],
   "source": [
    "with open(f\"/home/ubuntu/Data/kmer_freq/4mer/V4/clustering/10_agglo_2019-05-09_04-08.pkl\", 'rb') as f: \n",
    "    agglo = pickle.load(f)"
   ]
  },
  {
   "cell_type": "code",
   "execution_count": 92,
   "metadata": {},
   "outputs": [],
   "source": [
    "with open(f\"/home/ubuntu/Data/kmer_freq/4mer/V4/clustering/10_kmeans_2019-05-09_04-08.pkl\", 'rb') as f: \n",
    "    kmeans = pickle.load(f)"
   ]
  },
  {
   "cell_type": "code",
   "execution_count": null,
   "metadata": {},
   "outputs": [],
   "source": []
  },
  {
   "cell_type": "code",
   "execution_count": null,
   "metadata": {},
   "outputs": [],
   "source": []
  },
  {
   "cell_type": "code",
   "execution_count": null,
   "metadata": {},
   "outputs": [],
   "source": []
  },
  {
   "cell_type": "code",
   "execution_count": null,
   "metadata": {},
   "outputs": [],
   "source": []
  },
  {
   "cell_type": "code",
   "execution_count": null,
   "metadata": {},
   "outputs": [],
   "source": []
  },
  {
   "cell_type": "code",
   "execution_count": null,
   "metadata": {},
   "outputs": [],
   "source": []
  },
  {
   "cell_type": "code",
   "execution_count": null,
   "metadata": {},
   "outputs": [],
   "source": []
  },
  {
   "cell_type": "code",
   "execution_count": null,
   "metadata": {},
   "outputs": [],
   "source": []
  },
  {
   "cell_type": "code",
   "execution_count": null,
   "metadata": {},
   "outputs": [],
   "source": []
  },
  {
   "cell_type": "code",
   "execution_count": null,
   "metadata": {},
   "outputs": [],
   "source": []
  },
  {
   "cell_type": "code",
   "execution_count": null,
   "metadata": {},
   "outputs": [],
   "source": []
  },
  {
   "cell_type": "code",
   "execution_count": null,
   "metadata": {},
   "outputs": [],
   "source": []
  },
  {
   "cell_type": "code",
   "execution_count": null,
   "metadata": {},
   "outputs": [],
   "source": []
  },
  {
   "cell_type": "code",
   "execution_count": null,
   "metadata": {},
   "outputs": [],
   "source": []
  },
  {
   "cell_type": "code",
   "execution_count": null,
   "metadata": {},
   "outputs": [],
   "source": []
  },
  {
   "cell_type": "code",
   "execution_count": null,
   "metadata": {
    "collapsed": true
   },
   "outputs": [],
   "source": []
  },
  {
   "cell_type": "markdown",
   "metadata": {},
   "source": [
    "# End of the script.\n",
    "Sylvain @GIS"
   ]
  },
  {
   "cell_type": "code",
   "execution_count": null,
   "metadata": {
    "collapsed": true
   },
   "outputs": [],
   "source": []
  },
  {
   "cell_type": "code",
   "execution_count": null,
   "metadata": {
    "collapsed": true
   },
   "outputs": [],
   "source": []
  },
  {
   "cell_type": "code",
   "execution_count": null,
   "metadata": {
    "collapsed": true
   },
   "outputs": [],
   "source": []
  }
 ],
 "metadata": {
  "hide_input": false,
  "kernelspec": {
   "display_name": "Python 3",
   "language": "python",
   "name": "python3"
  },
  "language_info": {
   "codemirror_mode": {
    "name": "ipython",
    "version": 3
   },
   "file_extension": ".py",
   "mimetype": "text/x-python",
   "name": "python",
   "nbconvert_exporter": "python",
   "pygments_lexer": "ipython3",
   "version": "3.7.3"
  },
  "toc": {
   "base_numbering": 1,
   "nav_menu": {},
   "number_sections": true,
   "sideBar": true,
   "skip_h1_title": false,
   "title_cell": "Table of Contents",
   "title_sidebar": "Contents",
   "toc_cell": false,
   "toc_position": {},
   "toc_section_display": true,
   "toc_window_display": false
  },
  "widgets": {
   "state": {
    "0e9c191eea7f40d285004638e47280fe": {
     "views": [
      {
       "cell_index": 54
      }
     ]
    },
    "0f443ad9bd094c499c768efd24875e40": {
     "views": [
      {
       "cell_index": 54
      }
     ]
    },
    "154d0a0981d34211aeb05a35846073d7": {
     "views": [
      {
       "cell_index": 58
      }
     ]
    },
    "36315b35feb74a04b75262a8a1b29efd": {
     "views": [
      {
       "cell_index": 54
      }
     ]
    },
    "3e5461499e224d20992dd99bb8e87d3a": {
     "views": [
      {
       "cell_index": 55
      }
     ]
    },
    "5a6b7a2614494e3c89286b0694a13b33": {
     "views": [
      {
       "cell_index": 58
      }
     ]
    },
    "5f3069321de84461be2127dc01770ee6": {
     "views": [
      {
       "cell_index": 58
      }
     ]
    },
    "6a82cf542f644908894de9ae1000b033": {
     "views": [
      {
       "cell_index": 54
      }
     ]
    },
    "8dfced7f5db840c2bd3eb36ad0721fc7": {
     "views": [
      {
       "cell_index": 58
      }
     ]
    },
    "d986f542142a4e6da1539fe16d405b2b": {
     "views": [
      {
       "cell_index": 54
      }
     ]
    },
    "de4d1ff66e51426fa1b88e39087f36d9": {
     "views": [
      {
       "cell_index": 59
      }
     ]
    }
   },
   "version": "1.2.0"
  }
 },
 "nbformat": 4,
 "nbformat_minor": 2
}
